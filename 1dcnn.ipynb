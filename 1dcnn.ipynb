{
 "cells": [
  {
   "cell_type": "code",
   "execution_count": 1,
   "id": "3f31f366",
   "metadata": {},
   "outputs": [
    {
     "name": "stderr",
     "output_type": "stream",
     "text": [
      "/home/stepan/Private/bearing_rul/lib/python3.10/site-packages/xgboost/core.py:377: FutureWarning: Your system has an old version of glibc (< 2.28). We will stop supporting Linux distros with glibc older than 2.28 after **May 31, 2025**. Please upgrade to a recent Linux distro (with glibc >= 2.28) to use future versions of XGBoost.\n",
      "Note: You have installed the 'manylinux2014' variant of XGBoost. Certain features such as GPU algorithms or federated learning are not available. To use these features, please upgrade to a recent Linux distro with glibc 2.28+, and install the 'manylinux_2_28' variant.\n",
      "  warnings.warn(\n"
     ]
    }
   ],
   "source": [
    "import numpy as np\n",
    "import pandas as pd\n",
    "from torch import nn\n",
    "from phmd import datasets\n",
    "from sklearn.preprocessing import MinMaxScaler, StandardScaler, OneHotEncoder, RobustScaler\n",
    "from scipy.stats import kurtosis\n",
    "from scipy.fft import fft\n",
    "from scipy.fft import fft, fftfreq\n",
    "from sklearn.svm import SVR\n",
    "from sklearn.ensemble import RandomForestRegressor\n",
    "from sklearn.metrics import mean_absolute_error, mean_squared_error, r2_score\n",
    "from xgboost import XGBRegressor\n",
    "import matplotlib.pyplot as plt\n",
    "import seaborn as sns\n",
    "import os\n",
    "import torch\n",
    "from tqdm import tqdm"
   ]
  },
  {
   "cell_type": "code",
   "execution_count": 2,
   "id": "dad711b3",
   "metadata": {},
   "outputs": [],
   "source": [
    "def early_prediction_score(y_true, y_pred, alpha=0.5):\n",
    "    errors = y_pred - y_true\n",
    "    # Heavier penalty for late predictions\n",
    "    weights = np.where(errors < 0, alpha, 1)\n",
    "    return np.mean(weights * errors**2)"
   ]
  },
  {
   "cell_type": "code",
   "execution_count": 3,
   "id": "95d37866",
   "metadata": {},
   "outputs": [],
   "source": [
    "TRAIN_BEARINGS = {\n",
    "    1: [\n",
    "        '1_1',\n",
    "        # '1_2',\n",
    "    ],\n",
    "    2: [\n",
    "        '2_1',\n",
    "        '2_2',\n",
    "    ],\n",
    "    3: [\n",
    "        '3_1',\n",
    "        '3_2',\n",
    "    ]\n",
    "}\n",
    "\n",
    "TEST_BEARINGS = {\n",
    "    1: [\n",
    "        '1_3',\n",
    "        '1_4',\n",
    "        '1_5',\n",
    "        '1_6',\n",
    "        '1_7',\n",
    "    ],\n",
    "    2: [\n",
    "        '2_3',\n",
    "        '2_4',\n",
    "        '2_5',\n",
    "        '2_6',\n",
    "        '2_7',\n",
    "    ],\n",
    "    3: [\n",
    "        '3_3',\n",
    "    ]\n",
    "}"
   ]
  },
  {
   "cell_type": "code",
   "execution_count": 4,
   "id": "08d3cf88",
   "metadata": {},
   "outputs": [
    {
     "name": "stdout",
     "output_type": "stream",
     "text": [
      "Remember to cite the original publisher dataset:\n",
      "\t@inproceedings{nectoux2012pronostia,    \n",
      "\t    title={PRONOSTIA: An experimental platform for bearings accelerated degradation tests.},    \n",
      "\t    author={Nectoux, Patrick and Gouriveau, Rafael and Medjaher, Kamal and Ramasso, Emmanuel and Chebel-Morello, Brigitte and Zerhouni, Noureddine and Varnier, Christophe},    \n",
      "\t    booktitle={IEEE International Conference on Prognostics and Health Management, PHM'12.},    \n",
      "\t    pages={1--8},    \n",
      "\t    year={2012},    \n",
      "\t    organization={IEEE Catalog Number: CPF12PHM-CDR}    \n",
      "\t}\n",
      "You can download the dataset manually from:  https://www.nasa.gov/intelligent-systems-division/discovery-and-systems-health/pcoe/pcoe-data-set-repository/\n",
      "\n",
      "** If you find this tool useful, please cite our SoftwareX paper: \n",
      "\tSolís-Martín, David, Juan Galán-Páez, and Joaquín Borrego-Díaz. \"PHMD: An easy data access tool for prognosis and health management datasets.\" SoftwareX 29 (2025): 102039.\n",
      "\n"
     ]
    },
    {
     "name": "stderr",
     "output_type": "stream",
     "text": [
      "Reading Bearing3_2: 100%|██████████| 7534/7534 [00:19<00:00, 384.94it/s]\n",
      "Reading Bearing3_3: 100%|██████████| 13959/13959 [00:35<00:00, 390.76it/s]\n",
      "INFO:root:Read in 57.81956434249878 seconds\n"
     ]
    }
   ],
   "source": [
    "dataset = datasets.Dataset('PRONOSTIA')\n",
    "tasks = dataset['rul']\n",
    "df = tasks.load()"
   ]
  },
  {
   "cell_type": "code",
   "execution_count": 5,
   "id": "58e5a4bd",
   "metadata": {},
   "outputs": [
    {
     "data": {
      "text/plain": [
       "array(['1_1', '1_2', '2_1', '2_2', '3_1', '3_2'], dtype=object)"
      ]
     },
     "execution_count": 5,
     "metadata": {},
     "output_type": "execute_result"
    }
   ],
   "source": [
    "# train\n",
    "df[0]['unit'].unique()"
   ]
  },
  {
   "cell_type": "code",
   "execution_count": 6,
   "id": "9e59c6d2",
   "metadata": {},
   "outputs": [
    {
     "data": {
      "text/html": [
       "<div>\n",
       "<style scoped>\n",
       "    .dataframe tbody tr th:only-of-type {\n",
       "        vertical-align: middle;\n",
       "    }\n",
       "\n",
       "    .dataframe tbody tr th {\n",
       "        vertical-align: top;\n",
       "    }\n",
       "\n",
       "    .dataframe thead th {\n",
       "        text-align: right;\n",
       "    }\n",
       "</style>\n",
       "<table border=\"1\" class=\"dataframe\">\n",
       "  <thead>\n",
       "    <tr style=\"text-align: right;\">\n",
       "      <th></th>\n",
       "      <th>rul</th>\n",
       "      <th>V_acc</th>\n",
       "      <th>H_acc</th>\n",
       "      <th>unit</th>\n",
       "    </tr>\n",
       "  </thead>\n",
       "  <tbody>\n",
       "    <tr>\n",
       "      <th>0</th>\n",
       "      <td>28029</td>\n",
       "      <td>-0.146</td>\n",
       "      <td>0.552</td>\n",
       "      <td>1_1</td>\n",
       "    </tr>\n",
       "    <tr>\n",
       "      <th>1</th>\n",
       "      <td>28029</td>\n",
       "      <td>-0.480</td>\n",
       "      <td>0.501</td>\n",
       "      <td>1_1</td>\n",
       "    </tr>\n",
       "    <tr>\n",
       "      <th>2</th>\n",
       "      <td>28029</td>\n",
       "      <td>0.435</td>\n",
       "      <td>0.138</td>\n",
       "      <td>1_1</td>\n",
       "    </tr>\n",
       "    <tr>\n",
       "      <th>3</th>\n",
       "      <td>28029</td>\n",
       "      <td>0.240</td>\n",
       "      <td>-0.423</td>\n",
       "      <td>1_1</td>\n",
       "    </tr>\n",
       "    <tr>\n",
       "      <th>4</th>\n",
       "      <td>28029</td>\n",
       "      <td>0.020</td>\n",
       "      <td>-0.802</td>\n",
       "      <td>1_1</td>\n",
       "    </tr>\n",
       "  </tbody>\n",
       "</table>\n",
       "</div>"
      ],
      "text/plain": [
       "     rul  V_acc  H_acc unit\n",
       "0  28029 -0.146  0.552  1_1\n",
       "1  28029 -0.480  0.501  1_1\n",
       "2  28029  0.435  0.138  1_1\n",
       "3  28029  0.240 -0.423  1_1\n",
       "4  28029  0.020 -0.802  1_1"
      ]
     },
     "execution_count": 6,
     "metadata": {},
     "output_type": "execute_result"
    }
   ],
   "source": [
    "df[0].head(5)"
   ]
  },
  {
   "cell_type": "code",
   "execution_count": 7,
   "id": "36ab7dee",
   "metadata": {},
   "outputs": [
    {
     "data": {
      "text/plain": [
       "array(['1_3', '1_4', '1_5', '1_6', '1_7', '2_3', '2_4', '2_5', '2_6',\n",
       "       '2_7', '3_3'], dtype=object)"
      ]
     },
     "execution_count": 7,
     "metadata": {},
     "output_type": "execute_result"
    }
   ],
   "source": [
    "# test\n",
    "df[1]['unit'].unique()"
   ]
  },
  {
   "cell_type": "code",
   "execution_count": 8,
   "id": "0b4d16d9",
   "metadata": {},
   "outputs": [
    {
     "data": {
      "text/plain": [
       "0          1_1\n",
       "1          1_1\n",
       "2          1_1\n",
       "3          1_1\n",
       "4          1_1\n",
       "          ... \n",
       "7175675    1_1\n",
       "7175676    1_1\n",
       "7175677    1_1\n",
       "7175678    1_1\n",
       "7175679    1_1\n",
       "Name: unit, Length: 7175680, dtype: object"
      ]
     },
     "execution_count": 8,
     "metadata": {},
     "output_type": "execute_result"
    }
   ],
   "source": [
    "df[0][df[0]['unit'].isin(TRAIN_BEARINGS[1])]['unit']"
   ]
  },
  {
   "cell_type": "code",
   "execution_count": 9,
   "id": "c6ecf741",
   "metadata": {},
   "outputs": [
    {
     "data": {
      "text/html": [
       "<div>\n",
       "<style scoped>\n",
       "    .dataframe tbody tr th:only-of-type {\n",
       "        vertical-align: middle;\n",
       "    }\n",
       "\n",
       "    .dataframe tbody tr th {\n",
       "        vertical-align: top;\n",
       "    }\n",
       "\n",
       "    .dataframe thead th {\n",
       "        text-align: right;\n",
       "    }\n",
       "</style>\n",
       "<table border=\"1\" class=\"dataframe\">\n",
       "  <thead>\n",
       "    <tr style=\"text-align: right;\">\n",
       "      <th></th>\n",
       "      <th>rul</th>\n",
       "      <th>V_acc</th>\n",
       "      <th>H_acc</th>\n",
       "      <th>unit</th>\n",
       "    </tr>\n",
       "  </thead>\n",
       "  <tbody>\n",
       "    <tr>\n",
       "      <th>0</th>\n",
       "      <td>28029</td>\n",
       "      <td>-0.146</td>\n",
       "      <td>0.552</td>\n",
       "      <td>1_1</td>\n",
       "    </tr>\n",
       "    <tr>\n",
       "      <th>1</th>\n",
       "      <td>28029</td>\n",
       "      <td>-0.480</td>\n",
       "      <td>0.501</td>\n",
       "      <td>1_1</td>\n",
       "    </tr>\n",
       "    <tr>\n",
       "      <th>2</th>\n",
       "      <td>28029</td>\n",
       "      <td>0.435</td>\n",
       "      <td>0.138</td>\n",
       "      <td>1_1</td>\n",
       "    </tr>\n",
       "    <tr>\n",
       "      <th>3</th>\n",
       "      <td>28029</td>\n",
       "      <td>0.240</td>\n",
       "      <td>-0.423</td>\n",
       "      <td>1_1</td>\n",
       "    </tr>\n",
       "    <tr>\n",
       "      <th>4</th>\n",
       "      <td>28029</td>\n",
       "      <td>0.020</td>\n",
       "      <td>-0.802</td>\n",
       "      <td>1_1</td>\n",
       "    </tr>\n",
       "    <tr>\n",
       "      <th>...</th>\n",
       "      <td>...</td>\n",
       "      <td>...</td>\n",
       "      <td>...</td>\n",
       "      <td>...</td>\n",
       "    </tr>\n",
       "    <tr>\n",
       "      <th>7175675</th>\n",
       "      <td>0</td>\n",
       "      <td>2.129</td>\n",
       "      <td>-3.353</td>\n",
       "      <td>1_1</td>\n",
       "    </tr>\n",
       "    <tr>\n",
       "      <th>7175676</th>\n",
       "      <td>0</td>\n",
       "      <td>-2.299</td>\n",
       "      <td>-2.868</td>\n",
       "      <td>1_1</td>\n",
       "    </tr>\n",
       "    <tr>\n",
       "      <th>7175677</th>\n",
       "      <td>0</td>\n",
       "      <td>-1.844</td>\n",
       "      <td>-5.507</td>\n",
       "      <td>1_1</td>\n",
       "    </tr>\n",
       "    <tr>\n",
       "      <th>7175678</th>\n",
       "      <td>0</td>\n",
       "      <td>2.146</td>\n",
       "      <td>-3.578</td>\n",
       "      <td>1_1</td>\n",
       "    </tr>\n",
       "    <tr>\n",
       "      <th>7175679</th>\n",
       "      <td>0</td>\n",
       "      <td>0.470</td>\n",
       "      <td>-2.709</td>\n",
       "      <td>1_1</td>\n",
       "    </tr>\n",
       "  </tbody>\n",
       "</table>\n",
       "<p>7175680 rows × 4 columns</p>\n",
       "</div>"
      ],
      "text/plain": [
       "           rul  V_acc  H_acc unit\n",
       "0        28029 -0.146  0.552  1_1\n",
       "1        28029 -0.480  0.501  1_1\n",
       "2        28029  0.435  0.138  1_1\n",
       "3        28029  0.240 -0.423  1_1\n",
       "4        28029  0.020 -0.802  1_1\n",
       "...        ...    ...    ...  ...\n",
       "7175675      0  2.129 -3.353  1_1\n",
       "7175676      0 -2.299 -2.868  1_1\n",
       "7175677      0 -1.844 -5.507  1_1\n",
       "7175678      0  2.146 -3.578  1_1\n",
       "7175679      0  0.470 -2.709  1_1\n",
       "\n",
       "[7175680 rows x 4 columns]"
      ]
     },
     "execution_count": 9,
     "metadata": {},
     "output_type": "execute_result"
    }
   ],
   "source": [
    "df[0][df[0]['unit'].isin(TRAIN_BEARINGS[1])]"
   ]
  },
  {
   "cell_type": "code",
   "execution_count": 10,
   "id": "41fc4c80",
   "metadata": {},
   "outputs": [
    {
     "data": {
      "text/html": [
       "<div>\n",
       "<style scoped>\n",
       "    .dataframe tbody tr th:only-of-type {\n",
       "        vertical-align: middle;\n",
       "    }\n",
       "\n",
       "    .dataframe tbody tr th {\n",
       "        vertical-align: top;\n",
       "    }\n",
       "\n",
       "    .dataframe thead th {\n",
       "        text-align: right;\n",
       "    }\n",
       "</style>\n",
       "<table border=\"1\" class=\"dataframe\">\n",
       "  <thead>\n",
       "    <tr style=\"text-align: right;\">\n",
       "      <th></th>\n",
       "      <th>rul</th>\n",
       "      <th>V_acc</th>\n",
       "      <th>H_acc</th>\n",
       "      <th>unit</th>\n",
       "    </tr>\n",
       "  </thead>\n",
       "  <tbody>\n",
       "    <tr>\n",
       "      <th>0</th>\n",
       "      <td>23749</td>\n",
       "      <td>0.044</td>\n",
       "      <td>0.092</td>\n",
       "      <td>1_3</td>\n",
       "    </tr>\n",
       "    <tr>\n",
       "      <th>1</th>\n",
       "      <td>23749</td>\n",
       "      <td>0.432</td>\n",
       "      <td>-0.025</td>\n",
       "      <td>1_3</td>\n",
       "    </tr>\n",
       "    <tr>\n",
       "      <th>2</th>\n",
       "      <td>23749</td>\n",
       "      <td>0.008</td>\n",
       "      <td>-0.104</td>\n",
       "      <td>1_3</td>\n",
       "    </tr>\n",
       "    <tr>\n",
       "      <th>3</th>\n",
       "      <td>23749</td>\n",
       "      <td>-0.264</td>\n",
       "      <td>0.056</td>\n",
       "      <td>1_3</td>\n",
       "    </tr>\n",
       "    <tr>\n",
       "      <th>4</th>\n",
       "      <td>23749</td>\n",
       "      <td>-0.195</td>\n",
       "      <td>0.074</td>\n",
       "      <td>1_3</td>\n",
       "    </tr>\n",
       "    <tr>\n",
       "      <th>...</th>\n",
       "      <td>...</td>\n",
       "      <td>...</td>\n",
       "      <td>...</td>\n",
       "      <td>...</td>\n",
       "    </tr>\n",
       "    <tr>\n",
       "      <th>3845115</th>\n",
       "      <td>7570</td>\n",
       "      <td>-0.013</td>\n",
       "      <td>0.481</td>\n",
       "      <td>1_7</td>\n",
       "    </tr>\n",
       "    <tr>\n",
       "      <th>3845116</th>\n",
       "      <td>7570</td>\n",
       "      <td>-0.272</td>\n",
       "      <td>0.191</td>\n",
       "      <td>1_7</td>\n",
       "    </tr>\n",
       "    <tr>\n",
       "      <th>3845117</th>\n",
       "      <td>7570</td>\n",
       "      <td>0.466</td>\n",
       "      <td>0.250</td>\n",
       "      <td>1_7</td>\n",
       "    </tr>\n",
       "    <tr>\n",
       "      <th>3845118</th>\n",
       "      <td>7570</td>\n",
       "      <td>-0.582</td>\n",
       "      <td>0.001</td>\n",
       "      <td>1_7</td>\n",
       "    </tr>\n",
       "    <tr>\n",
       "      <th>3845119</th>\n",
       "      <td>7570</td>\n",
       "      <td>-0.371</td>\n",
       "      <td>0.199</td>\n",
       "      <td>1_7</td>\n",
       "    </tr>\n",
       "  </tbody>\n",
       "</table>\n",
       "<p>23160320 rows × 4 columns</p>\n",
       "</div>"
      ],
      "text/plain": [
       "           rul  V_acc  H_acc unit\n",
       "0        23749  0.044  0.092  1_3\n",
       "1        23749  0.432 -0.025  1_3\n",
       "2        23749  0.008 -0.104  1_3\n",
       "3        23749 -0.264  0.056  1_3\n",
       "4        23749 -0.195  0.074  1_3\n",
       "...        ...    ...    ...  ...\n",
       "3845115   7570 -0.013  0.481  1_7\n",
       "3845116   7570 -0.272  0.191  1_7\n",
       "3845117   7570  0.466  0.250  1_7\n",
       "3845118   7570 -0.582  0.001  1_7\n",
       "3845119   7570 -0.371  0.199  1_7\n",
       "\n",
       "[23160320 rows x 4 columns]"
      ]
     },
     "execution_count": 10,
     "metadata": {},
     "output_type": "execute_result"
    }
   ],
   "source": [
    "df[1][df[1]['unit'].isin(TEST_BEARINGS[1])]"
   ]
  },
  {
   "cell_type": "code",
   "execution_count": 11,
   "id": "0685c0bc",
   "metadata": {},
   "outputs": [
    {
     "data": {
      "text/plain": [
       "[<matplotlib.lines.Line2D at 0x7f5023c62470>]"
      ]
     },
     "execution_count": 11,
     "metadata": {},
     "output_type": "execute_result"
    },
    {
     "data": {
      "image/png": "[encoded data removed]",
      "text/plain": [
       "<Figure size 640x480 with 1 Axes>"
      ]
     },
     "metadata": {},
     "output_type": "display_data"
    }
   ],
   "source": [
    "plt.plot(df[1][df[1]['unit'] == '1_3']['rul'])"
   ]
  },
  {
   "cell_type": "code",
   "execution_count": 12,
   "id": "b131384a",
   "metadata": {},
   "outputs": [],
   "source": [
    "# sns.kdeplot(df[0][df[0]['unit'] == '1_1']['H_acc'], label='Train')\n",
    "# sns.kdeplot(test_features['h_RMS'], label='Test')\n",
    "# plt.legend(); plt.show()"
   ]
  },
  {
   "cell_type": "code",
   "execution_count": 45,
   "id": "a2dafbea",
   "metadata": {},
   "outputs": [],
   "source": [
    "class BearingDataset(torch.utils.data.Dataset):\n",
    "    def __init__(self, df, window_size=2560, step=2560 // 2):\n",
    "        self.windows = []\n",
    "        self.ruls = []\n",
    "        \n",
    "        # Create sequences\n",
    "        for unit, group in df.groupby('unit'):\n",
    "            h_acc =  group['H_acc'].transform(\n",
    "                lambda x: (x - x.mean()) / (x.std() + 1e-8)\n",
    "            )\n",
    "            v_acc =  group['V_acc'].transform(\n",
    "                lambda x: (x - x.mean()) / (x.std() + 1e-8)\n",
    "            )\n",
    "\n",
    "            rul = group['rul'].transform(lambda x: x / x.max())\n",
    "\n",
    "            for i in range(0, len(group) - window_size, step):\n",
    "\n",
    "                self.windows.append(np.stack([\n",
    "                    h_acc[i:i+window_size], \n",
    "                    v_acc[i:i+window_size]\n",
    "                ], axis=1))\n",
    "                self.ruls.append(rul.values[i+window_size-1])\n",
    "\n",
    "    def __len__(self):\n",
    "        return len(self.windows)\n",
    "    \n",
    "    def __getitem__(self, idx):\n",
    "        return torch.FloatTensor(self.windows[idx]), torch.FloatTensor([self.ruls[idx]])\n",
    "    \n",
    "    def create_overlapping_windows(signal, window_size=2560, overlap=0.75):\n",
    "        step = int(window_size * (1 - overlap))\n",
    "        return np.lib.stride_tricks.sliding_window_view(\n",
    "            signal, window_shape=window_size, axis=0\n",
    "        )[::step]\n",
    "    \n",
    "train_dataset = BearingDataset(\n",
    "    # [b for state in TRAIN_BEARINGS for b in TRAIN_BEARINGS[state]]\n",
    "    df=df[0][df[0]['unit'].isin(['1_1'])],\n",
    ")\n",
    "\n",
    "test_dataset = BearingDataset(\n",
    "    df=df[1][df[1]['unit'] == '1_3'],\n",
    ")\n",
    "\n",
    "val_dataset = BearingDataset(\n",
    "    df=df[1][df[1]['unit'] == '1_4'],\n",
    ")\n",
    "\n",
    "train_loader = torch.utils.data.DataLoader(train_dataset, batch_size=32, shuffle=False)\n",
    "test_loader = torch.utils.data.DataLoader(test_dataset, batch_size=32, shuffle=False)\n",
    "val_loader = torch.utils.data.DataLoader(val_dataset, batch_size=32, shuffle=False)"
   ]
  },
  {
   "cell_type": "code",
   "execution_count": 46,
   "id": "42f0e240",
   "metadata": {},
   "outputs": [
    {
     "data": {
      "text/plain": [
       "5604"
      ]
     },
     "execution_count": 46,
     "metadata": {},
     "output_type": "execute_result"
    }
   ],
   "source": [
    "len(train_dataset)"
   ]
  },
  {
   "cell_type": "code",
   "execution_count": 62,
   "id": "27eff63f",
   "metadata": {},
   "outputs": [
    {
     "name": "stdout",
     "output_type": "stream",
     "text": [
      "BearingCNN(\n",
      "  (features): Sequential(\n",
      "    (0): Conv1d(2, 64, kernel_size=(51,), stride=(1,), padding=(25,))\n",
      "    (1): BatchNorm1d(64, eps=1e-05, momentum=0.1, affine=True, track_running_stats=True)\n",
      "    (2): LeakyReLU(negative_slope=0.1)\n",
      "    (3): MaxPool1d(kernel_size=4, stride=2, padding=0, dilation=1, ceil_mode=False)\n",
      "    (4): Conv1d(64, 128, kernel_size=(25,), stride=(1,), padding=(12,))\n",
      "    (5): BatchNorm1d(128, eps=1e-05, momentum=0.1, affine=True, track_running_stats=True)\n",
      "    (6): LeakyReLU(negative_slope=0.1)\n",
      "    (7): MaxPool1d(kernel_size=4, stride=2, padding=0, dilation=1, ceil_mode=False)\n",
      "    (8): Conv1d(128, 256, kernel_size=(10,), stride=(1,), padding=(5,))\n",
      "    (9): BatchNorm1d(256, eps=1e-05, momentum=0.1, affine=True, track_running_stats=True)\n",
      "    (10): LeakyReLU(negative_slope=0.1)\n",
      "    (11): AdaptiveAvgPool1d(output_size=1)\n",
      "  )\n",
      "  (regressor): Sequential(\n",
      "    (0): Linear(in_features=256, out_features=128, bias=True)\n",
      "    (1): LayerNorm((128,), eps=1e-05, elementwise_affine=True)\n",
      "    (2): LeakyReLU(negative_slope=0.1)\n",
      "    (3): Dropout(p=0.5, inplace=False)\n",
      "    (4): Linear(in_features=128, out_features=1, bias=True)\n",
      "  )\n",
      ")\n"
     ]
    }
   ],
   "source": [
    "class BearingCNN(torch.nn.Module):\n",
    "    def __init__(self):\n",
    "        super().__init__()\n",
    "        \n",
    "        # Feature extractor\n",
    "        self.features = torch.nn.Sequential(\n",
    "            # Layer 1: Wide receptive field\n",
    "            torch.nn.Conv1d(2, 64, kernel_size=51, padding=25),  # (B, 2, 2560) -> (B, 64, 2560)\n",
    "            torch.nn.BatchNorm1d(64),\n",
    "            torch.nn.LeakyReLU(0.1),\n",
    "            torch.nn.MaxPool1d(4, stride=2),  # -> (B, 64, 1278)\n",
    "            \n",
    "            # Layer 2: Mid-range features\n",
    "            torch.nn.Conv1d(64, 128, kernel_size=25, padding=12),  # -> (B, 128, 1278)\n",
    "            torch.nn.BatchNorm1d(128),\n",
    "            torch.nn.LeakyReLU(0.1),\n",
    "            torch.nn.MaxPool1d(4, stride=2),  # -> (B, 128, 637)\n",
    "            \n",
    "            # Layer 3: Local features\n",
    "            torch.nn.Conv1d(128, 256, kernel_size=10, padding=5),  # -> (B, 256, 637)\n",
    "            torch.nn.BatchNorm1d(256),\n",
    "            torch.nn.LeakyReLU(0.1),\n",
    "            torch.nn.AdaptiveAvgPool1d(1)  # -> (B, 256, 1)\n",
    "        )\n",
    "        \n",
    "        # Regressor (fixed input dim)\n",
    "        self.regressor = torch.nn.Sequential(\n",
    "            torch.nn.Linear(256, 128),\n",
    "            torch.nn.LayerNorm(128),  # Better for regression\n",
    "            torch.nn.LeakyReLU(0.1),\n",
    "            torch.nn.Dropout(0.5),\n",
    "            torch.nn.Linear(128, 1),\n",
    "            # Removed Sigmoid() for regression\n",
    "        )\n",
    "\n",
    "        # self.fc = torch.nn.Linear(128, 1)\n",
    "\n",
    "        # with torch.no_grad():\n",
    "        #     self.fc.weight.data = -torch.abs(self.fc.weight.data)\n",
    "        #     self.fc.bias.data.fill_(1.0)  # Start predictions near 1.0\n",
    "    \n",
    "    def forward(self, x):\n",
    "        # Input: (B, 2560, 2)\n",
    "        x = x.permute(0, 2, 1)  # -> (B, 2, 2560)\n",
    "        x = self.features(x)     # -> (B, 256, 1)\n",
    "        x = x.squeeze(-1)        # -> (B, 256)\n",
    "        x = self.regressor(x)  # -> (B,)\n",
    "        return x\n",
    "\n",
    "model = BearingCNN()\n",
    "\n",
    "print(model)"
   ]
  },
  {
   "cell_type": "code",
   "execution_count": 63,
   "id": "6a7be941",
   "metadata": {},
   "outputs": [],
   "source": [
    "device = torch.device('cuda' if torch.cuda.is_available() else 'cpu')\n",
    "model = model.to(device)\n",
    "criterion = torch.nn.MSELoss()\n",
    "optimizer = torch.optim.Adam(model.parameters(), lr=0.001, weight_decay=1e-4)\n",
    "scheduler = torch.optim.lr_scheduler.ReduceLROnPlateau(optimizer, 'min', patience=5)\n",
    "\n",
    "def train(\n",
    "    model,\n",
    "    train_loader,\n",
    "    val_loader,\n",
    "    optimizer,\n",
    "    criterion,\n",
    "    device,\n",
    "    epochs,\n",
    "):\n",
    "    train_r2 = []\n",
    "    train_mae = []\n",
    "    train_mse = []\n",
    "    train_rmse = []\n",
    "    train_loss = []\n",
    "\n",
    "    val_r2 = []\n",
    "    val_mae = []\n",
    "    val_mse = []\n",
    "    val_rmse = []\n",
    "    val_loss = []\n",
    "\n",
    "    best_r2 = -float('inf')\n",
    "\n",
    "    for epoch in range(epochs):\n",
    "        model.train()\n",
    "\n",
    "        epoch_train_loss = 0\n",
    "        epoch_train_preds = []\n",
    "        epoch_train_targets = []\n",
    "\n",
    "        for X_batch, y_batch in tqdm(train_loader):\n",
    "            X_batch, y_batch = X_batch.to(device), y_batch.to(device)\n",
    "            \n",
    "            optimizer.zero_grad()\n",
    "            y_pred = model(X_batch).flatten()\n",
    "\n",
    "            epoch_train_preds.append(y_pred)\n",
    "            epoch_train_targets.append(y_batch)\n",
    "\n",
    "            loss = criterion(y_pred, y_batch)\n",
    "            \n",
    "            loss.backward()\n",
    "            optimizer.step()\n",
    "            \n",
    "            epoch_train_loss += loss.item()\n",
    "        \n",
    "        train_preds = torch.cat(epoch_train_preds).cpu().detach().numpy()\n",
    "        train_targets = torch.cat(epoch_train_targets).cpu().detach().numpy()\n",
    "        \n",
    "        epoch_train_r2 = r2_score(train_targets, train_preds)\n",
    "        epoch_train_mae = mean_absolute_error(train_targets, train_preds)\n",
    "        epoch_train_mse = mean_squared_error(train_targets, train_preds)\n",
    "        epoch_train_rmse = np.sqrt(epoch_train_mse)\n",
    "        epoch_train_loss = epoch_train_loss/len(train_loader)\n",
    "        \n",
    "        train_r2.append(epoch_train_r2)\n",
    "        train_mae.append(epoch_train_mae)\n",
    "        train_mse.append(epoch_train_mse)\n",
    "        train_rmse.append(epoch_train_rmse)\n",
    "        train_loss.append(epoch_train_loss)\n",
    "    \n",
    "        print(\n",
    "            f'Epoch {epoch + 1}: Train Loss {epoch_train_loss:.4f}, '\n",
    "                + f'Train R2 = {epoch_train_r2:.3f}, '\n",
    "                + f'Train RMSE = {epoch_train_rmse:.3f}, '\n",
    "                + f'Train MSE = {epoch_train_mse:.3f}, '\n",
    "                + f'Train MAE = {epoch_train_mae:.3f}'\n",
    "                # + f'Train EPS = {epoch_train_eps:.3f}'\n",
    "        )\n",
    "\n",
    "\n",
    "        model.eval()\n",
    "\n",
    "        epoch_val_loss = 0\n",
    "        epoch_val_preds = []\n",
    "        epoch_val_targets = []\n",
    "\n",
    "        with torch.no_grad():\n",
    "            for X_val, y_val in tqdm(val_loader, desc=f'Epoch {epoch + 1} Val'):\n",
    "                X_val, y_val = X_val.to(device), y_val.to(device)\n",
    "\n",
    "                y_pred = model(X_val).flatten()\n",
    "\n",
    "                epoch_val_preds.append(y_pred)\n",
    "                epoch_val_targets.append(y_val)\n",
    "                \n",
    "                epoch_val_loss += criterion(y_pred, y_val).item()\n",
    "\n",
    "        val_preds = torch.cat(epoch_val_preds).cpu().detach().numpy()\n",
    "        val_targets = torch.cat(epoch_val_targets).cpu().detach().numpy()\n",
    "        \n",
    "        epoch_val_r2 = r2_score(val_targets, val_preds)\n",
    "        epoch_val_mae = mean_absolute_error(val_targets, val_preds)\n",
    "        epoch_val_mse = mean_squared_error(val_targets, val_preds)\n",
    "        epoch_val_rmse = np.sqrt(epoch_val_mse)\n",
    "        epoch_val_loss = epoch_val_loss/len(val_loader)\n",
    "        # scheduler.step(epoch_val_loss)\n",
    "        \n",
    "        val_r2.append(epoch_val_r2)\n",
    "        val_mae.append(epoch_val_mae)\n",
    "        val_mse.append(epoch_val_mse)\n",
    "        val_rmse.append(epoch_val_rmse)\n",
    "        val_loss.append(epoch_val_loss)\n",
    "\n",
    "        if val_r2[-1] > best_r2:\n",
    "            best_r2 = val_r2[-1]\n",
    "            torch.save(model.state_dict(), 'best_r2_model.pth')\n",
    "\n",
    "        print(\n",
    "            f'Epoch {epoch + 1}: Val Loss {epoch_val_loss:.4f}, '\n",
    "                + f'Val R2 = {epoch_val_r2:.3f}, '\n",
    "                + f'Val RMSE = {epoch_val_rmse:.3f}, '\n",
    "                + f'Val MSE = {epoch_val_mse:.3f}, '\n",
    "                + f'Val MAE = {epoch_val_mae:.3f}'\n",
    "        ) \n",
    "\n",
    "    return {\n",
    "        'train_loss': train_loss,\n",
    "        'train_r2': train_r2,\n",
    "        'train_mae': train_mae,\n",
    "        'train_mse': train_mse,\n",
    "        'train_rmse': train_rmse,\n",
    "        'val_loss': val_loss,\n",
    "        'val_r2': val_r2,\n",
    "        'val_mae': val_mae,\n",
    "        'val_mse': val_mse,\n",
    "        'val_rmse': val_rmse,\n",
    "    }"
   ]
  },
  {
   "cell_type": "code",
   "execution_count": 64,
   "id": "5ce79b4d",
   "metadata": {},
   "outputs": [
    {
     "name": "stderr",
     "output_type": "stream",
     "text": [
      " 99%|█████████▉| 174/176 [00:04<00:00, 39.23it/s]/home/stepan/Private/bearing_rul/lib/python3.10/site-packages/torch/nn/modules/loss.py:610: UserWarning: Using a target size (torch.Size([4, 1])) that is different to the input size (torch.Size([4])). This will likely lead to incorrect results due to broadcasting. Please ensure they have the same size.\n",
      "  return F.mse_loss(input, target, reduction=self.reduction)\n",
      "100%|██████████| 176/176 [00:04<00:00, 39.71it/s]\n"
     ]
    },
    {
     "name": "stdout",
     "output_type": "stream",
     "text": [
      "Epoch 1: Train Loss 0.0289, Train R2 = 0.651, Train RMSE = 0.170, Train MSE = 0.029, Train MAE = 0.098\n"
     ]
    },
    {
     "name": "stderr",
     "output_type": "stream",
     "text": [
      "Epoch 1 Val:   0%|          | 0/72 [00:00<?, ?it/s]/home/stepan/Private/bearing_rul/lib/python3.10/site-packages/torch/nn/modules/loss.py:610: UserWarning: Using a target size (torch.Size([32, 1])) that is different to the input size (torch.Size([32])). This will likely lead to incorrect results due to broadcasting. Please ensure they have the same size.\n",
      "  return F.mse_loss(input, target, reduction=self.reduction)\n",
      "Epoch 1 Val:  94%|█████████▍| 68/72 [00:00<00:00, 160.93it/s]/home/stepan/Private/bearing_rul/lib/python3.10/site-packages/torch/nn/modules/loss.py:610: UserWarning: Using a target size (torch.Size([4, 1])) that is different to the input size (torch.Size([4])). This will likely lead to incorrect results due to broadcasting. Please ensure they have the same size.\n",
      "  return F.mse_loss(input, target, reduction=self.reduction)\n",
      "Epoch 1 Val: 100%|██████████| 72/72 [00:00<00:00, 162.59it/s]\n"
     ]
    },
    {
     "name": "stdout",
     "output_type": "stream",
     "text": [
      "Epoch 1: Val Loss 0.3481, Val R2 = -3.490, Val RMSE = 0.594, Val MSE = 0.352, Val MAE = 0.524\n"
     ]
    },
    {
     "name": "stderr",
     "output_type": "stream",
     "text": [
      "  0%|          | 0/176 [00:00<?, ?it/s]/home/stepan/Private/bearing_rul/lib/python3.10/site-packages/torch/nn/modules/loss.py:610: UserWarning: Using a target size (torch.Size([32, 1])) that is different to the input size (torch.Size([32])). This will likely lead to incorrect results due to broadcasting. Please ensure they have the same size.\n",
      "  return F.mse_loss(input, target, reduction=self.reduction)\n",
      " 98%|█████████▊| 172/176 [00:04<00:00, 39.90it/s]/home/stepan/Private/bearing_rul/lib/python3.10/site-packages/torch/nn/modules/loss.py:610: UserWarning: Using a target size (torch.Size([4, 1])) that is different to the input size (torch.Size([4])). This will likely lead to incorrect results due to broadcasting. Please ensure they have the same size.\n",
      "  return F.mse_loss(input, target, reduction=self.reduction)\n",
      "100%|██████████| 176/176 [00:04<00:00, 40.13it/s]\n"
     ]
    },
    {
     "name": "stdout",
     "output_type": "stream",
     "text": [
      "Epoch 2: Train Loss 0.0341, Train R2 = 0.588, Train RMSE = 0.185, Train MSE = 0.034, Train MAE = 0.100\n"
     ]
    },
    {
     "name": "stderr",
     "output_type": "stream",
     "text": [
      "Epoch 2 Val:   0%|          | 0/72 [00:00<?, ?it/s]/home/stepan/Private/bearing_rul/lib/python3.10/site-packages/torch/nn/modules/loss.py:610: UserWarning: Using a target size (torch.Size([32, 1])) that is different to the input size (torch.Size([32])). This will likely lead to incorrect results due to broadcasting. Please ensure they have the same size.\n",
      "  return F.mse_loss(input, target, reduction=self.reduction)\n",
      "Epoch 2 Val:  99%|█████████▊| 71/72 [00:00<00:00, 173.60it/s]/home/stepan/Private/bearing_rul/lib/python3.10/site-packages/torch/nn/modules/loss.py:610: UserWarning: Using a target size (torch.Size([4, 1])) that is different to the input size (torch.Size([4])). This will likely lead to incorrect results due to broadcasting. Please ensure they have the same size.\n",
      "  return F.mse_loss(input, target, reduction=self.reduction)\n",
      "Epoch 2 Val: 100%|██████████| 72/72 [00:00<00:00, 173.77it/s]\n"
     ]
    },
    {
     "name": "stdout",
     "output_type": "stream",
     "text": [
      "Epoch 2: Val Loss 0.3890, Val R2 = -4.018, Val RMSE = 0.627, Val MSE = 0.394, Val MAE = 0.560\n"
     ]
    },
    {
     "name": "stderr",
     "output_type": "stream",
     "text": [
      "  0%|          | 0/176 [00:00<?, ?it/s]/home/stepan/Private/bearing_rul/lib/python3.10/site-packages/torch/nn/modules/loss.py:610: UserWarning: Using a target size (torch.Size([32, 1])) that is different to the input size (torch.Size([32])). This will likely lead to incorrect results due to broadcasting. Please ensure they have the same size.\n",
      "  return F.mse_loss(input, target, reduction=self.reduction)\n",
      " 99%|█████████▉| 175/176 [00:04<00:00, 40.78it/s]/home/stepan/Private/bearing_rul/lib/python3.10/site-packages/torch/nn/modules/loss.py:610: UserWarning: Using a target size (torch.Size([4, 1])) that is different to the input size (torch.Size([4])). This will likely lead to incorrect results due to broadcasting. Please ensure they have the same size.\n",
      "  return F.mse_loss(input, target, reduction=self.reduction)\n",
      "100%|██████████| 176/176 [00:04<00:00, 42.47it/s]\n"
     ]
    },
    {
     "name": "stdout",
     "output_type": "stream",
     "text": [
      "Epoch 3: Train Loss 0.0375, Train R2 = 0.547, Train RMSE = 0.194, Train MSE = 0.038, Train MAE = 0.104\n"
     ]
    },
    {
     "name": "stderr",
     "output_type": "stream",
     "text": [
      "Epoch 3 Val:   0%|          | 0/72 [00:00<?, ?it/s]/home/stepan/Private/bearing_rul/lib/python3.10/site-packages/torch/nn/modules/loss.py:610: UserWarning: Using a target size (torch.Size([32, 1])) that is different to the input size (torch.Size([32])). This will likely lead to incorrect results due to broadcasting. Please ensure they have the same size.\n",
      "  return F.mse_loss(input, target, reduction=self.reduction)\n",
      "Epoch 3 Val:  75%|███████▌  | 54/72 [00:00<00:00, 178.02it/s]/home/stepan/Private/bearing_rul/lib/python3.10/site-packages/torch/nn/modules/loss.py:610: UserWarning: Using a target size (torch.Size([4, 1])) that is different to the input size (torch.Size([4])). This will likely lead to incorrect results due to broadcasting. Please ensure they have the same size.\n",
      "  return F.mse_loss(input, target, reduction=self.reduction)\n",
      "Epoch 3 Val: 100%|██████████| 72/72 [00:00<00:00, 178.91it/s]\n"
     ]
    },
    {
     "name": "stdout",
     "output_type": "stream",
     "text": [
      "Epoch 3: Val Loss 0.3805, Val R2 = -3.909, Val RMSE = 0.621, Val MSE = 0.385, Val MAE = 0.553\n"
     ]
    },
    {
     "name": "stderr",
     "output_type": "stream",
     "text": [
      "  0%|          | 0/176 [00:00<?, ?it/s]/home/stepan/Private/bearing_rul/lib/python3.10/site-packages/torch/nn/modules/loss.py:610: UserWarning: Using a target size (torch.Size([32, 1])) that is different to the input size (torch.Size([32])). This will likely lead to incorrect results due to broadcasting. Please ensure they have the same size.\n",
      "  return F.mse_loss(input, target, reduction=self.reduction)\n",
      " 99%|█████████▉| 174/176 [00:04<00:00, 39.39it/s]/home/stepan/Private/bearing_rul/lib/python3.10/site-packages/torch/nn/modules/loss.py:610: UserWarning: Using a target size (torch.Size([4, 1])) that is different to the input size (torch.Size([4])). This will likely lead to incorrect results due to broadcasting. Please ensure they have the same size.\n",
      "  return F.mse_loss(input, target, reduction=self.reduction)\n",
      "100%|██████████| 176/176 [00:04<00:00, 40.15it/s]\n"
     ]
    },
    {
     "name": "stdout",
     "output_type": "stream",
     "text": [
      "Epoch 4: Train Loss 0.0399, Train R2 = 0.519, Train RMSE = 0.200, Train MSE = 0.040, Train MAE = 0.108\n"
     ]
    },
    {
     "name": "stderr",
     "output_type": "stream",
     "text": [
      "Epoch 4 Val:   0%|          | 0/72 [00:00<?, ?it/s]/home/stepan/Private/bearing_rul/lib/python3.10/site-packages/torch/nn/modules/loss.py:610: UserWarning: Using a target size (torch.Size([32, 1])) that is different to the input size (torch.Size([32])). This will likely lead to incorrect results due to broadcasting. Please ensure they have the same size.\n",
      "  return F.mse_loss(input, target, reduction=self.reduction)\n",
      "Epoch 4 Val:  75%|███████▌  | 54/72 [00:00<00:00, 169.03it/s]/home/stepan/Private/bearing_rul/lib/python3.10/site-packages/torch/nn/modules/loss.py:610: UserWarning: Using a target size (torch.Size([4, 1])) that is different to the input size (torch.Size([4])). This will likely lead to incorrect results due to broadcasting. Please ensure they have the same size.\n",
      "  return F.mse_loss(input, target, reduction=self.reduction)\n",
      "Epoch 4 Val: 100%|██████████| 72/72 [00:00<00:00, 171.61it/s]\n"
     ]
    },
    {
     "name": "stdout",
     "output_type": "stream",
     "text": [
      "Epoch 4: Val Loss 0.3639, Val R2 = -3.695, Val RMSE = 0.607, Val MSE = 0.368, Val MAE = 0.538\n"
     ]
    },
    {
     "name": "stderr",
     "output_type": "stream",
     "text": [
      "  0%|          | 0/176 [00:00<?, ?it/s]/home/stepan/Private/bearing_rul/lib/python3.10/site-packages/torch/nn/modules/loss.py:610: UserWarning: Using a target size (torch.Size([32, 1])) that is different to the input size (torch.Size([32])). This will likely lead to incorrect results due to broadcasting. Please ensure they have the same size.\n",
      "  return F.mse_loss(input, target, reduction=self.reduction)\n",
      " 99%|█████████▉| 174/176 [00:04<00:00, 37.19it/s]/home/stepan/Private/bearing_rul/lib/python3.10/site-packages/torch/nn/modules/loss.py:610: UserWarning: Using a target size (torch.Size([4, 1])) that is different to the input size (torch.Size([4])). This will likely lead to incorrect results due to broadcasting. Please ensure they have the same size.\n",
      "  return F.mse_loss(input, target, reduction=self.reduction)\n",
      "100%|██████████| 176/176 [00:04<00:00, 37.84it/s]\n"
     ]
    },
    {
     "name": "stdout",
     "output_type": "stream",
     "text": [
      "Epoch 5: Train Loss 0.0413, Train R2 = 0.502, Train RMSE = 0.204, Train MSE = 0.041, Train MAE = 0.111\n"
     ]
    },
    {
     "name": "stderr",
     "output_type": "stream",
     "text": [
      "Epoch 5 Val:   0%|          | 0/72 [00:00<?, ?it/s]/home/stepan/Private/bearing_rul/lib/python3.10/site-packages/torch/nn/modules/loss.py:610: UserWarning: Using a target size (torch.Size([32, 1])) that is different to the input size (torch.Size([32])). This will likely lead to incorrect results due to broadcasting. Please ensure they have the same size.\n",
      "  return F.mse_loss(input, target, reduction=self.reduction)\n",
      "Epoch 5 Val:  94%|█████████▍| 68/72 [00:00<00:00, 165.32it/s]/home/stepan/Private/bearing_rul/lib/python3.10/site-packages/torch/nn/modules/loss.py:610: UserWarning: Using a target size (torch.Size([4, 1])) that is different to the input size (torch.Size([4])). This will likely lead to incorrect results due to broadcasting. Please ensure they have the same size.\n",
      "  return F.mse_loss(input, target, reduction=self.reduction)\n",
      "Epoch 5 Val: 100%|██████████| 72/72 [00:00<00:00, 165.75it/s]\n"
     ]
    },
    {
     "name": "stdout",
     "output_type": "stream",
     "text": [
      "Epoch 5: Val Loss 0.3157, Val R2 = -3.073, Val RMSE = 0.565, Val MSE = 0.320, Val MAE = 0.492\n"
     ]
    },
    {
     "name": "stderr",
     "output_type": "stream",
     "text": [
      "  0%|          | 0/176 [00:00<?, ?it/s]/home/stepan/Private/bearing_rul/lib/python3.10/site-packages/torch/nn/modules/loss.py:610: UserWarning: Using a target size (torch.Size([32, 1])) that is different to the input size (torch.Size([32])). This will likely lead to incorrect results due to broadcasting. Please ensure they have the same size.\n",
      "  return F.mse_loss(input, target, reduction=self.reduction)\n",
      " 98%|█████████▊| 172/176 [00:04<00:00, 36.72it/s]/home/stepan/Private/bearing_rul/lib/python3.10/site-packages/torch/nn/modules/loss.py:610: UserWarning: Using a target size (torch.Size([4, 1])) that is different to the input size (torch.Size([4])). This will likely lead to incorrect results due to broadcasting. Please ensure they have the same size.\n",
      "  return F.mse_loss(input, target, reduction=self.reduction)\n",
      "100%|██████████| 176/176 [00:04<00:00, 36.93it/s]\n"
     ]
    },
    {
     "name": "stdout",
     "output_type": "stream",
     "text": [
      "Epoch 6: Train Loss 0.0434, Train R2 = 0.477, Train RMSE = 0.209, Train MSE = 0.044, Train MAE = 0.113\n"
     ]
    },
    {
     "name": "stderr",
     "output_type": "stream",
     "text": [
      "Epoch 6 Val:   0%|          | 0/72 [00:00<?, ?it/s]/home/stepan/Private/bearing_rul/lib/python3.10/site-packages/torch/nn/modules/loss.py:610: UserWarning: Using a target size (torch.Size([32, 1])) that is different to the input size (torch.Size([32])). This will likely lead to incorrect results due to broadcasting. Please ensure they have the same size.\n",
      "  return F.mse_loss(input, target, reduction=self.reduction)\n",
      "Epoch 6 Val:  83%|████████▎ | 60/72 [00:00<00:00, 144.81it/s]/home/stepan/Private/bearing_rul/lib/python3.10/site-packages/torch/nn/modules/loss.py:610: UserWarning: Using a target size (torch.Size([4, 1])) that is different to the input size (torch.Size([4])). This will likely lead to incorrect results due to broadcasting. Please ensure they have the same size.\n",
      "  return F.mse_loss(input, target, reduction=self.reduction)\n",
      "Epoch 6 Val: 100%|██████████| 72/72 [00:00<00:00, 144.51it/s]\n"
     ]
    },
    {
     "name": "stdout",
     "output_type": "stream",
     "text": [
      "Epoch 6: Val Loss 0.3086, Val R2 = -2.981, Val RMSE = 0.559, Val MSE = 0.312, Val MAE = 0.484\n"
     ]
    },
    {
     "name": "stderr",
     "output_type": "stream",
     "text": [
      "  0%|          | 0/176 [00:00<?, ?it/s]/home/stepan/Private/bearing_rul/lib/python3.10/site-packages/torch/nn/modules/loss.py:610: UserWarning: Using a target size (torch.Size([32, 1])) that is different to the input size (torch.Size([32])). This will likely lead to incorrect results due to broadcasting. Please ensure they have the same size.\n",
      "  return F.mse_loss(input, target, reduction=self.reduction)\n",
      " 99%|█████████▉| 175/176 [00:05<00:00, 27.76it/s]/home/stepan/Private/bearing_rul/lib/python3.10/site-packages/torch/nn/modules/loss.py:610: UserWarning: Using a target size (torch.Size([4, 1])) that is different to the input size (torch.Size([4])). This will likely lead to incorrect results due to broadcasting. Please ensure they have the same size.\n",
      "  return F.mse_loss(input, target, reduction=self.reduction)\n",
      "100%|██████████| 176/176 [00:05<00:00, 30.48it/s]\n"
     ]
    },
    {
     "name": "stdout",
     "output_type": "stream",
     "text": [
      "Epoch 7: Train Loss 0.0457, Train R2 = 0.449, Train RMSE = 0.214, Train MSE = 0.046, Train MAE = 0.116\n"
     ]
    },
    {
     "name": "stderr",
     "output_type": "stream",
     "text": [
      "Epoch 7 Val:   0%|          | 0/72 [00:00<?, ?it/s]/home/stepan/Private/bearing_rul/lib/python3.10/site-packages/torch/nn/modules/loss.py:610: UserWarning: Using a target size (torch.Size([32, 1])) that is different to the input size (torch.Size([32])). This will likely lead to incorrect results due to broadcasting. Please ensure they have the same size.\n",
      "  return F.mse_loss(input, target, reduction=self.reduction)\n",
      "Epoch 7 Val:  85%|████████▍ | 61/72 [00:00<00:00, 147.81it/s]/home/stepan/Private/bearing_rul/lib/python3.10/site-packages/torch/nn/modules/loss.py:610: UserWarning: Using a target size (torch.Size([4, 1])) that is different to the input size (torch.Size([4])). This will likely lead to incorrect results due to broadcasting. Please ensure they have the same size.\n",
      "  return F.mse_loss(input, target, reduction=self.reduction)\n",
      "Epoch 7 Val: 100%|██████████| 72/72 [00:00<00:00, 148.09it/s]\n"
     ]
    },
    {
     "name": "stdout",
     "output_type": "stream",
     "text": [
      "Epoch 7: Val Loss 0.3506, Val R2 = -3.523, Val RMSE = 0.596, Val MSE = 0.355, Val MAE = 0.524\n"
     ]
    },
    {
     "name": "stderr",
     "output_type": "stream",
     "text": [
      "  0%|          | 0/176 [00:00<?, ?it/s]/home/stepan/Private/bearing_rul/lib/python3.10/site-packages/torch/nn/modules/loss.py:610: UserWarning: Using a target size (torch.Size([32, 1])) that is different to the input size (torch.Size([32])). This will likely lead to incorrect results due to broadcasting. Please ensure they have the same size.\n",
      "  return F.mse_loss(input, target, reduction=self.reduction)\n",
      " 98%|█████████▊| 172/176 [00:05<00:00, 31.63it/s]/home/stepan/Private/bearing_rul/lib/python3.10/site-packages/torch/nn/modules/loss.py:610: UserWarning: Using a target size (torch.Size([4, 1])) that is different to the input size (torch.Size([4])). This will likely lead to incorrect results due to broadcasting. Please ensure they have the same size.\n",
      "  return F.mse_loss(input, target, reduction=self.reduction)\n",
      "100%|██████████| 176/176 [00:05<00:00, 31.95it/s]\n"
     ]
    },
    {
     "name": "stdout",
     "output_type": "stream",
     "text": [
      "Epoch 8: Train Loss 0.0457, Train R2 = 0.449, Train RMSE = 0.214, Train MSE = 0.046, Train MAE = 0.117\n"
     ]
    },
    {
     "name": "stderr",
     "output_type": "stream",
     "text": [
      "Epoch 8 Val:   0%|          | 0/72 [00:00<?, ?it/s]/home/stepan/Private/bearing_rul/lib/python3.10/site-packages/torch/nn/modules/loss.py:610: UserWarning: Using a target size (torch.Size([32, 1])) that is different to the input size (torch.Size([32])). This will likely lead to incorrect results due to broadcasting. Please ensure they have the same size.\n",
      "  return F.mse_loss(input, target, reduction=self.reduction)\n",
      "Epoch 8 Val:  81%|████████  | 58/72 [00:00<00:00, 141.20it/s]/home/stepan/Private/bearing_rul/lib/python3.10/site-packages/torch/nn/modules/loss.py:610: UserWarning: Using a target size (torch.Size([4, 1])) that is different to the input size (torch.Size([4])). This will likely lead to incorrect results due to broadcasting. Please ensure they have the same size.\n",
      "  return F.mse_loss(input, target, reduction=self.reduction)\n",
      "Epoch 8 Val: 100%|██████████| 72/72 [00:00<00:00, 141.32it/s]\n"
     ]
    },
    {
     "name": "stdout",
     "output_type": "stream",
     "text": [
      "Epoch 8: Val Loss 0.2893, Val R2 = -2.732, Val RMSE = 0.541, Val MSE = 0.293, Val MAE = 0.465\n"
     ]
    },
    {
     "name": "stderr",
     "output_type": "stream",
     "text": [
      "  0%|          | 0/176 [00:00<?, ?it/s]/home/stepan/Private/bearing_rul/lib/python3.10/site-packages/torch/nn/modules/loss.py:610: UserWarning: Using a target size (torch.Size([32, 1])) that is different to the input size (torch.Size([32])). This will likely lead to incorrect results due to broadcasting. Please ensure they have the same size.\n",
      "  return F.mse_loss(input, target, reduction=self.reduction)\n",
      " 98%|█████████▊| 173/176 [00:05<00:00, 31.33it/s]/home/stepan/Private/bearing_rul/lib/python3.10/site-packages/torch/nn/modules/loss.py:610: UserWarning: Using a target size (torch.Size([4, 1])) that is different to the input size (torch.Size([4])). This will likely lead to incorrect results due to broadcasting. Please ensure they have the same size.\n",
      "  return F.mse_loss(input, target, reduction=self.reduction)\n",
      "100%|██████████| 176/176 [00:05<00:00, 30.68it/s]\n"
     ]
    },
    {
     "name": "stdout",
     "output_type": "stream",
     "text": [
      "Epoch 9: Train Loss 0.0478, Train R2 = 0.423, Train RMSE = 0.219, Train MSE = 0.048, Train MAE = 0.122\n"
     ]
    },
    {
     "name": "stderr",
     "output_type": "stream",
     "text": [
      "Epoch 9 Val:   0%|          | 0/72 [00:00<?, ?it/s]/home/stepan/Private/bearing_rul/lib/python3.10/site-packages/torch/nn/modules/loss.py:610: UserWarning: Using a target size (torch.Size([32, 1])) that is different to the input size (torch.Size([32])). This will likely lead to incorrect results due to broadcasting. Please ensure they have the same size.\n",
      "  return F.mse_loss(input, target, reduction=self.reduction)\n",
      "Epoch 9 Val:  83%|████████▎ | 60/72 [00:00<00:00, 143.81it/s]/home/stepan/Private/bearing_rul/lib/python3.10/site-packages/torch/nn/modules/loss.py:610: UserWarning: Using a target size (torch.Size([4, 1])) that is different to the input size (torch.Size([4])). This will likely lead to incorrect results due to broadcasting. Please ensure they have the same size.\n",
      "  return F.mse_loss(input, target, reduction=self.reduction)\n",
      "Epoch 9 Val: 100%|██████████| 72/72 [00:00<00:00, 145.55it/s]\n"
     ]
    },
    {
     "name": "stdout",
     "output_type": "stream",
     "text": [
      "Epoch 9: Val Loss 0.3449, Val R2 = -3.449, Val RMSE = 0.591, Val MSE = 0.349, Val MAE = 0.519\n"
     ]
    },
    {
     "name": "stderr",
     "output_type": "stream",
     "text": [
      "  0%|          | 0/176 [00:00<?, ?it/s]/home/stepan/Private/bearing_rul/lib/python3.10/site-packages/torch/nn/modules/loss.py:610: UserWarning: Using a target size (torch.Size([32, 1])) that is different to the input size (torch.Size([32])). This will likely lead to incorrect results due to broadcasting. Please ensure they have the same size.\n",
      "  return F.mse_loss(input, target, reduction=self.reduction)\n",
      " 99%|█████████▉| 174/176 [00:06<00:00, 28.36it/s]/home/stepan/Private/bearing_rul/lib/python3.10/site-packages/torch/nn/modules/loss.py:610: UserWarning: Using a target size (torch.Size([4, 1])) that is different to the input size (torch.Size([4])). This will likely lead to incorrect results due to broadcasting. Please ensure they have the same size.\n",
      "  return F.mse_loss(input, target, reduction=self.reduction)\n",
      "100%|██████████| 176/176 [00:06<00:00, 28.39it/s]\n"
     ]
    },
    {
     "name": "stdout",
     "output_type": "stream",
     "text": [
      "Epoch 10: Train Loss 0.0530, Train R2 = 0.361, Train RMSE = 0.231, Train MSE = 0.053, Train MAE = 0.129\n"
     ]
    },
    {
     "name": "stderr",
     "output_type": "stream",
     "text": [
      "Epoch 10 Val:   0%|          | 0/72 [00:00<?, ?it/s]/home/stepan/Private/bearing_rul/lib/python3.10/site-packages/torch/nn/modules/loss.py:610: UserWarning: Using a target size (torch.Size([32, 1])) that is different to the input size (torch.Size([32])). This will likely lead to incorrect results due to broadcasting. Please ensure they have the same size.\n",
      "  return F.mse_loss(input, target, reduction=self.reduction)\n",
      "Epoch 10 Val:  82%|████████▏ | 59/72 [00:00<00:00, 140.47it/s]/home/stepan/Private/bearing_rul/lib/python3.10/site-packages/torch/nn/modules/loss.py:610: UserWarning: Using a target size (torch.Size([4, 1])) that is different to the input size (torch.Size([4])). This will likely lead to incorrect results due to broadcasting. Please ensure they have the same size.\n",
      "  return F.mse_loss(input, target, reduction=self.reduction)\n",
      "Epoch 10 Val: 100%|██████████| 72/72 [00:00<00:00, 141.93it/s]\n"
     ]
    },
    {
     "name": "stdout",
     "output_type": "stream",
     "text": [
      "Epoch 10: Val Loss 0.2658, Val R2 = -2.429, Val RMSE = 0.519, Val MSE = 0.269, Val MAE = 0.438\n"
     ]
    },
    {
     "name": "stderr",
     "output_type": "stream",
     "text": [
      "  0%|          | 0/176 [00:00<?, ?it/s]/home/stepan/Private/bearing_rul/lib/python3.10/site-packages/torch/nn/modules/loss.py:610: UserWarning: Using a target size (torch.Size([32, 1])) that is different to the input size (torch.Size([32])). This will likely lead to incorrect results due to broadcasting. Please ensure they have the same size.\n",
      "  return F.mse_loss(input, target, reduction=self.reduction)\n",
      " 99%|█████████▉| 174/176 [00:06<00:00, 28.17it/s]/home/stepan/Private/bearing_rul/lib/python3.10/site-packages/torch/nn/modules/loss.py:610: UserWarning: Using a target size (torch.Size([4, 1])) that is different to the input size (torch.Size([4])). This will likely lead to incorrect results due to broadcasting. Please ensure they have the same size.\n",
      "  return F.mse_loss(input, target, reduction=self.reduction)\n",
      "100%|██████████| 176/176 [00:06<00:00, 28.23it/s]\n"
     ]
    },
    {
     "name": "stdout",
     "output_type": "stream",
     "text": [
      "Epoch 11: Train Loss 0.0507, Train R2 = 0.389, Train RMSE = 0.226, Train MSE = 0.051, Train MAE = 0.131\n"
     ]
    },
    {
     "name": "stderr",
     "output_type": "stream",
     "text": [
      "Epoch 11 Val:   0%|          | 0/72 [00:00<?, ?it/s]/home/stepan/Private/bearing_rul/lib/python3.10/site-packages/torch/nn/modules/loss.py:610: UserWarning: Using a target size (torch.Size([32, 1])) that is different to the input size (torch.Size([32])). This will likely lead to incorrect results due to broadcasting. Please ensure they have the same size.\n",
      "  return F.mse_loss(input, target, reduction=self.reduction)\n",
      "Epoch 11 Val:  82%|████████▏ | 59/72 [00:00<00:00, 140.61it/s]/home/stepan/Private/bearing_rul/lib/python3.10/site-packages/torch/nn/modules/loss.py:610: UserWarning: Using a target size (torch.Size([4, 1])) that is different to the input size (torch.Size([4])). This will likely lead to incorrect results due to broadcasting. Please ensure they have the same size.\n",
      "  return F.mse_loss(input, target, reduction=self.reduction)\n",
      "Epoch 11 Val: 100%|██████████| 72/72 [00:00<00:00, 140.85it/s]\n"
     ]
    },
    {
     "name": "stdout",
     "output_type": "stream",
     "text": [
      "Epoch 11: Val Loss 0.2839, Val R2 = -2.661, Val RMSE = 0.536, Val MSE = 0.287, Val MAE = 0.460\n"
     ]
    },
    {
     "name": "stderr",
     "output_type": "stream",
     "text": [
      "  0%|          | 0/176 [00:00<?, ?it/s]/home/stepan/Private/bearing_rul/lib/python3.10/site-packages/torch/nn/modules/loss.py:610: UserWarning: Using a target size (torch.Size([32, 1])) that is different to the input size (torch.Size([32])). This will likely lead to incorrect results due to broadcasting. Please ensure they have the same size.\n",
      "  return F.mse_loss(input, target, reduction=self.reduction)\n",
      " 98%|█████████▊| 173/176 [00:06<00:00, 26.55it/s]/home/stepan/Private/bearing_rul/lib/python3.10/site-packages/torch/nn/modules/loss.py:610: UserWarning: Using a target size (torch.Size([4, 1])) that is different to the input size (torch.Size([4])). This will likely lead to incorrect results due to broadcasting. Please ensure they have the same size.\n",
      "  return F.mse_loss(input, target, reduction=self.reduction)\n",
      "100%|██████████| 176/176 [00:06<00:00, 25.96it/s]\n"
     ]
    },
    {
     "name": "stdout",
     "output_type": "stream",
     "text": [
      "Epoch 12: Train Loss 0.0554, Train R2 = 0.331, Train RMSE = 0.236, Train MSE = 0.056, Train MAE = 0.137\n"
     ]
    },
    {
     "name": "stderr",
     "output_type": "stream",
     "text": [
      "Epoch 12 Val:   0%|          | 0/72 [00:00<?, ?it/s]/home/stepan/Private/bearing_rul/lib/python3.10/site-packages/torch/nn/modules/loss.py:610: UserWarning: Using a target size (torch.Size([32, 1])) that is different to the input size (torch.Size([32])). This will likely lead to incorrect results due to broadcasting. Please ensure they have the same size.\n",
      "  return F.mse_loss(input, target, reduction=self.reduction)\n",
      "Epoch 12 Val:  99%|█████████▊| 71/72 [00:00<00:00, 130.82it/s]/home/stepan/Private/bearing_rul/lib/python3.10/site-packages/torch/nn/modules/loss.py:610: UserWarning: Using a target size (torch.Size([4, 1])) that is different to the input size (torch.Size([4])). This will likely lead to incorrect results due to broadcasting. Please ensure they have the same size.\n",
      "  return F.mse_loss(input, target, reduction=self.reduction)\n",
      "Epoch 12 Val: 100%|██████████| 72/72 [00:00<00:00, 134.59it/s]\n"
     ]
    },
    {
     "name": "stdout",
     "output_type": "stream",
     "text": [
      "Epoch 12: Val Loss 0.2940, Val R2 = -2.792, Val RMSE = 0.545, Val MSE = 0.298, Val MAE = 0.470\n"
     ]
    },
    {
     "name": "stderr",
     "output_type": "stream",
     "text": [
      "  0%|          | 0/176 [00:00<?, ?it/s]/home/stepan/Private/bearing_rul/lib/python3.10/site-packages/torch/nn/modules/loss.py:610: UserWarning: Using a target size (torch.Size([32, 1])) that is different to the input size (torch.Size([32])). This will likely lead to incorrect results due to broadcasting. Please ensure they have the same size.\n",
      "  return F.mse_loss(input, target, reduction=self.reduction)\n",
      " 99%|█████████▉| 174/176 [00:07<00:00, 29.26it/s]/home/stepan/Private/bearing_rul/lib/python3.10/site-packages/torch/nn/modules/loss.py:610: UserWarning: Using a target size (torch.Size([4, 1])) that is different to the input size (torch.Size([4])). This will likely lead to incorrect results due to broadcasting. Please ensure they have the same size.\n",
      "  return F.mse_loss(input, target, reduction=self.reduction)\n",
      "100%|██████████| 176/176 [00:07<00:00, 24.60it/s]\n"
     ]
    },
    {
     "name": "stdout",
     "output_type": "stream",
     "text": [
      "Epoch 13: Train Loss 0.0526, Train R2 = 0.367, Train RMSE = 0.230, Train MSE = 0.053, Train MAE = 0.138\n"
     ]
    },
    {
     "name": "stderr",
     "output_type": "stream",
     "text": [
      "Epoch 13 Val:   0%|          | 0/72 [00:00<?, ?it/s]/home/stepan/Private/bearing_rul/lib/python3.10/site-packages/torch/nn/modules/loss.py:610: UserWarning: Using a target size (torch.Size([32, 1])) that is different to the input size (torch.Size([32])). This will likely lead to incorrect results due to broadcasting. Please ensure they have the same size.\n",
      "  return F.mse_loss(input, target, reduction=self.reduction)\n",
      "Epoch 13 Val:  82%|████████▏ | 59/72 [00:00<00:00, 144.10it/s]/home/stepan/Private/bearing_rul/lib/python3.10/site-packages/torch/nn/modules/loss.py:610: UserWarning: Using a target size (torch.Size([4, 1])) that is different to the input size (torch.Size([4])). This will likely lead to incorrect results due to broadcasting. Please ensure they have the same size.\n",
      "  return F.mse_loss(input, target, reduction=self.reduction)\n",
      "Epoch 13 Val: 100%|██████████| 72/72 [00:00<00:00, 145.15it/s]\n"
     ]
    },
    {
     "name": "stdout",
     "output_type": "stream",
     "text": [
      "Epoch 13: Val Loss 0.2711, Val R2 = -2.496, Val RMSE = 0.524, Val MSE = 0.274, Val MAE = 0.450\n"
     ]
    },
    {
     "name": "stderr",
     "output_type": "stream",
     "text": [
      "  0%|          | 0/176 [00:00<?, ?it/s]/home/stepan/Private/bearing_rul/lib/python3.10/site-packages/torch/nn/modules/loss.py:610: UserWarning: Using a target size (torch.Size([32, 1])) that is different to the input size (torch.Size([32])). This will likely lead to incorrect results due to broadcasting. Please ensure they have the same size.\n",
      "  return F.mse_loss(input, target, reduction=self.reduction)\n",
      " 99%|█████████▉| 175/176 [00:06<00:00, 21.89it/s]/home/stepan/Private/bearing_rul/lib/python3.10/site-packages/torch/nn/modules/loss.py:610: UserWarning: Using a target size (torch.Size([4, 1])) that is different to the input size (torch.Size([4])). This will likely lead to incorrect results due to broadcasting. Please ensure they have the same size.\n",
      "  return F.mse_loss(input, target, reduction=self.reduction)\n",
      "100%|██████████| 176/176 [00:06<00:00, 25.92it/s]\n"
     ]
    },
    {
     "name": "stdout",
     "output_type": "stream",
     "text": [
      "Epoch 14: Train Loss 0.0604, Train R2 = 0.273, Train RMSE = 0.246, Train MSE = 0.061, Train MAE = 0.148\n"
     ]
    },
    {
     "name": "stderr",
     "output_type": "stream",
     "text": [
      "Epoch 14 Val:   0%|          | 0/72 [00:00<?, ?it/s]/home/stepan/Private/bearing_rul/lib/python3.10/site-packages/torch/nn/modules/loss.py:610: UserWarning: Using a target size (torch.Size([32, 1])) that is different to the input size (torch.Size([32])). This will likely lead to incorrect results due to broadcasting. Please ensure they have the same size.\n",
      "  return F.mse_loss(input, target, reduction=self.reduction)\n",
      "Epoch 14 Val:  99%|█████████▊| 71/72 [00:00<00:00, 143.52it/s]/home/stepan/Private/bearing_rul/lib/python3.10/site-packages/torch/nn/modules/loss.py:610: UserWarning: Using a target size (torch.Size([4, 1])) that is different to the input size (torch.Size([4])). This will likely lead to incorrect results due to broadcasting. Please ensure they have the same size.\n",
      "  return F.mse_loss(input, target, reduction=self.reduction)\n",
      "Epoch 14 Val: 100%|██████████| 72/72 [00:00<00:00, 138.38it/s]\n"
     ]
    },
    {
     "name": "stdout",
     "output_type": "stream",
     "text": [
      "Epoch 14: Val Loss 0.2666, Val R2 = -2.438, Val RMSE = 0.519, Val MSE = 0.270, Val MAE = 0.445\n"
     ]
    },
    {
     "name": "stderr",
     "output_type": "stream",
     "text": [
      "  0%|          | 0/176 [00:00<?, ?it/s]/home/stepan/Private/bearing_rul/lib/python3.10/site-packages/torch/nn/modules/loss.py:610: UserWarning: Using a target size (torch.Size([32, 1])) that is different to the input size (torch.Size([32])). This will likely lead to incorrect results due to broadcasting. Please ensure they have the same size.\n",
      "  return F.mse_loss(input, target, reduction=self.reduction)\n",
      " 98%|█████████▊| 173/176 [00:06<00:00, 25.24it/s]/home/stepan/Private/bearing_rul/lib/python3.10/site-packages/torch/nn/modules/loss.py:610: UserWarning: Using a target size (torch.Size([4, 1])) that is different to the input size (torch.Size([4])). This will likely lead to incorrect results due to broadcasting. Please ensure they have the same size.\n",
      "  return F.mse_loss(input, target, reduction=self.reduction)\n",
      "100%|██████████| 176/176 [00:06<00:00, 27.21it/s]\n"
     ]
    },
    {
     "name": "stdout",
     "output_type": "stream",
     "text": [
      "Epoch 15: Train Loss 0.0533, Train R2 = 0.357, Train RMSE = 0.231, Train MSE = 0.054, Train MAE = 0.138\n"
     ]
    },
    {
     "name": "stderr",
     "output_type": "stream",
     "text": [
      "Epoch 15 Val:   0%|          | 0/72 [00:00<?, ?it/s]/home/stepan/Private/bearing_rul/lib/python3.10/site-packages/torch/nn/modules/loss.py:610: UserWarning: Using a target size (torch.Size([32, 1])) that is different to the input size (torch.Size([32])). This will likely lead to incorrect results due to broadcasting. Please ensure they have the same size.\n",
      "  return F.mse_loss(input, target, reduction=self.reduction)\n",
      "Epoch 15 Val:  94%|█████████▍| 68/72 [00:00<00:00, 131.79it/s]/home/stepan/Private/bearing_rul/lib/python3.10/site-packages/torch/nn/modules/loss.py:610: UserWarning: Using a target size (torch.Size([4, 1])) that is different to the input size (torch.Size([4])). This will likely lead to incorrect results due to broadcasting. Please ensure they have the same size.\n",
      "  return F.mse_loss(input, target, reduction=self.reduction)\n",
      "Epoch 15 Val: 100%|██████████| 72/72 [00:00<00:00, 131.76it/s]\n"
     ]
    },
    {
     "name": "stdout",
     "output_type": "stream",
     "text": [
      "Epoch 15: Val Loss 0.3131, Val R2 = -3.038, Val RMSE = 0.563, Val MSE = 0.317, Val MAE = 0.491\n"
     ]
    },
    {
     "name": "stderr",
     "output_type": "stream",
     "text": [
      "  0%|          | 0/176 [00:00<?, ?it/s]/home/stepan/Private/bearing_rul/lib/python3.10/site-packages/torch/nn/modules/loss.py:610: UserWarning: Using a target size (torch.Size([32, 1])) that is different to the input size (torch.Size([32])). This will likely lead to incorrect results due to broadcasting. Please ensure they have the same size.\n",
      "  return F.mse_loss(input, target, reduction=self.reduction)\n",
      " 99%|█████████▉| 174/176 [00:06<00:00, 25.14it/s]/home/stepan/Private/bearing_rul/lib/python3.10/site-packages/torch/nn/modules/loss.py:610: UserWarning: Using a target size (torch.Size([4, 1])) that is different to the input size (torch.Size([4])). This will likely lead to incorrect results due to broadcasting. Please ensure they have the same size.\n",
      "  return F.mse_loss(input, target, reduction=self.reduction)\n",
      "100%|██████████| 176/176 [00:06<00:00, 25.22it/s]\n"
     ]
    },
    {
     "name": "stdout",
     "output_type": "stream",
     "text": [
      "Epoch 16: Train Loss 0.0520, Train R2 = 0.373, Train RMSE = 0.229, Train MSE = 0.052, Train MAE = 0.141\n"
     ]
    },
    {
     "name": "stderr",
     "output_type": "stream",
     "text": [
      "Epoch 16 Val:   0%|          | 0/72 [00:00<?, ?it/s]/home/stepan/Private/bearing_rul/lib/python3.10/site-packages/torch/nn/modules/loss.py:610: UserWarning: Using a target size (torch.Size([32, 1])) that is different to the input size (torch.Size([32])). This will likely lead to incorrect results due to broadcasting. Please ensure they have the same size.\n",
      "  return F.mse_loss(input, target, reduction=self.reduction)\n",
      "Epoch 16 Val:  94%|█████████▍| 68/72 [00:00<00:00, 122.77it/s]/home/stepan/Private/bearing_rul/lib/python3.10/site-packages/torch/nn/modules/loss.py:610: UserWarning: Using a target size (torch.Size([4, 1])) that is different to the input size (torch.Size([4])). This will likely lead to incorrect results due to broadcasting. Please ensure they have the same size.\n",
      "  return F.mse_loss(input, target, reduction=self.reduction)\n",
      "Epoch 16 Val: 100%|██████████| 72/72 [00:00<00:00, 125.75it/s]\n"
     ]
    },
    {
     "name": "stdout",
     "output_type": "stream",
     "text": [
      "Epoch 16: Val Loss 0.2795, Val R2 = -2.603, Val RMSE = 0.532, Val MSE = 0.283, Val MAE = 0.457\n"
     ]
    },
    {
     "name": "stderr",
     "output_type": "stream",
     "text": [
      "  0%|          | 0/176 [00:00<?, ?it/s]/home/stepan/Private/bearing_rul/lib/python3.10/site-packages/torch/nn/modules/loss.py:610: UserWarning: Using a target size (torch.Size([32, 1])) that is different to the input size (torch.Size([32])). This will likely lead to incorrect results due to broadcasting. Please ensure they have the same size.\n",
      "  return F.mse_loss(input, target, reduction=self.reduction)\n",
      " 99%|█████████▉| 174/176 [00:06<00:00, 24.79it/s]/home/stepan/Private/bearing_rul/lib/python3.10/site-packages/torch/nn/modules/loss.py:610: UserWarning: Using a target size (torch.Size([4, 1])) that is different to the input size (torch.Size([4])). This will likely lead to incorrect results due to broadcasting. Please ensure they have the same size.\n",
      "  return F.mse_loss(input, target, reduction=self.reduction)\n",
      "100%|██████████| 176/176 [00:06<00:00, 25.31it/s]\n"
     ]
    },
    {
     "name": "stdout",
     "output_type": "stream",
     "text": [
      "Epoch 17: Train Loss 0.0577, Train R2 = 0.304, Train RMSE = 0.241, Train MSE = 0.058, Train MAE = 0.146\n"
     ]
    },
    {
     "name": "stderr",
     "output_type": "stream",
     "text": [
      "Epoch 17 Val:   0%|          | 0/72 [00:00<?, ?it/s]/home/stepan/Private/bearing_rul/lib/python3.10/site-packages/torch/nn/modules/loss.py:610: UserWarning: Using a target size (torch.Size([32, 1])) that is different to the input size (torch.Size([32])). This will likely lead to incorrect results due to broadcasting. Please ensure they have the same size.\n",
      "  return F.mse_loss(input, target, reduction=self.reduction)\n",
      "Epoch 17 Val:  96%|█████████▌| 69/72 [00:00<00:00, 132.42it/s]/home/stepan/Private/bearing_rul/lib/python3.10/site-packages/torch/nn/modules/loss.py:610: UserWarning: Using a target size (torch.Size([4, 1])) that is different to the input size (torch.Size([4])). This will likely lead to incorrect results due to broadcasting. Please ensure they have the same size.\n",
      "  return F.mse_loss(input, target, reduction=self.reduction)\n",
      "Epoch 17 Val: 100%|██████████| 72/72 [00:00<00:00, 131.57it/s]\n"
     ]
    },
    {
     "name": "stdout",
     "output_type": "stream",
     "text": [
      "Epoch 17: Val Loss 0.3518, Val R2 = -3.539, Val RMSE = 0.597, Val MSE = 0.356, Val MAE = 0.528\n"
     ]
    },
    {
     "name": "stderr",
     "output_type": "stream",
     "text": [
      "  0%|          | 0/176 [00:00<?, ?it/s]/home/stepan/Private/bearing_rul/lib/python3.10/site-packages/torch/nn/modules/loss.py:610: UserWarning: Using a target size (torch.Size([32, 1])) that is different to the input size (torch.Size([32])). This will likely lead to incorrect results due to broadcasting. Please ensure they have the same size.\n",
      "  return F.mse_loss(input, target, reduction=self.reduction)\n",
      " 99%|█████████▉| 174/176 [00:06<00:00, 24.74it/s]/home/stepan/Private/bearing_rul/lib/python3.10/site-packages/torch/nn/modules/loss.py:610: UserWarning: Using a target size (torch.Size([4, 1])) that is different to the input size (torch.Size([4])). This will likely lead to incorrect results due to broadcasting. Please ensure they have the same size.\n",
      "  return F.mse_loss(input, target, reduction=self.reduction)\n",
      "100%|██████████| 176/176 [00:07<00:00, 25.05it/s]\n"
     ]
    },
    {
     "name": "stdout",
     "output_type": "stream",
     "text": [
      "Epoch 18: Train Loss 0.0471, Train R2 = 0.432, Train RMSE = 0.218, Train MSE = 0.047, Train MAE = 0.123\n"
     ]
    },
    {
     "name": "stderr",
     "output_type": "stream",
     "text": [
      "Epoch 18 Val:   0%|          | 0/72 [00:00<?, ?it/s]/home/stepan/Private/bearing_rul/lib/python3.10/site-packages/torch/nn/modules/loss.py:610: UserWarning: Using a target size (torch.Size([32, 1])) that is different to the input size (torch.Size([32])). This will likely lead to incorrect results due to broadcasting. Please ensure they have the same size.\n",
      "  return F.mse_loss(input, target, reduction=self.reduction)\n",
      "Epoch 18 Val:  93%|█████████▎| 67/72 [00:00<00:00, 130.68it/s]/home/stepan/Private/bearing_rul/lib/python3.10/site-packages/torch/nn/modules/loss.py:610: UserWarning: Using a target size (torch.Size([4, 1])) that is different to the input size (torch.Size([4])). This will likely lead to incorrect results due to broadcasting. Please ensure they have the same size.\n",
      "  return F.mse_loss(input, target, reduction=self.reduction)\n",
      "Epoch 18 Val: 100%|██████████| 72/72 [00:00<00:00, 130.65it/s]\n"
     ]
    },
    {
     "name": "stdout",
     "output_type": "stream",
     "text": [
      "Epoch 18: Val Loss 0.3602, Val R2 = -3.647, Val RMSE = 0.604, Val MSE = 0.365, Val MAE = 0.537\n"
     ]
    },
    {
     "name": "stderr",
     "output_type": "stream",
     "text": [
      "  0%|          | 0/176 [00:00<?, ?it/s]/home/stepan/Private/bearing_rul/lib/python3.10/site-packages/torch/nn/modules/loss.py:610: UserWarning: Using a target size (torch.Size([32, 1])) that is different to the input size (torch.Size([32])). This will likely lead to incorrect results due to broadcasting. Please ensure they have the same size.\n",
      "  return F.mse_loss(input, target, reduction=self.reduction)\n",
      " 99%|█████████▉| 174/176 [00:07<00:00, 25.35it/s]/home/stepan/Private/bearing_rul/lib/python3.10/site-packages/torch/nn/modules/loss.py:610: UserWarning: Using a target size (torch.Size([4, 1])) that is different to the input size (torch.Size([4])). This will likely lead to incorrect results due to broadcasting. Please ensure they have the same size.\n",
      "  return F.mse_loss(input, target, reduction=self.reduction)\n",
      "100%|██████████| 176/176 [00:07<00:00, 24.90it/s]\n"
     ]
    },
    {
     "name": "stdout",
     "output_type": "stream",
     "text": [
      "Epoch 19: Train Loss 0.0292, Train R2 = 0.649, Train RMSE = 0.171, Train MSE = 0.029, Train MAE = 0.115\n"
     ]
    },
    {
     "name": "stderr",
     "output_type": "stream",
     "text": [
      "Epoch 19 Val:   0%|          | 0/72 [00:00<?, ?it/s]/home/stepan/Private/bearing_rul/lib/python3.10/site-packages/torch/nn/modules/loss.py:610: UserWarning: Using a target size (torch.Size([32, 1])) that is different to the input size (torch.Size([32])). This will likely lead to incorrect results due to broadcasting. Please ensure they have the same size.\n",
      "  return F.mse_loss(input, target, reduction=self.reduction)\n",
      "Epoch 19 Val:  97%|█████████▋| 70/72 [00:00<00:00, 132.69it/s]/home/stepan/Private/bearing_rul/lib/python3.10/site-packages/torch/nn/modules/loss.py:610: UserWarning: Using a target size (torch.Size([4, 1])) that is different to the input size (torch.Size([4])). This will likely lead to incorrect results due to broadcasting. Please ensure they have the same size.\n",
      "  return F.mse_loss(input, target, reduction=self.reduction)\n",
      "Epoch 19 Val: 100%|██████████| 72/72 [00:00<00:00, 133.06it/s]\n"
     ]
    },
    {
     "name": "stdout",
     "output_type": "stream",
     "text": [
      "Epoch 19: Val Loss 0.2269, Val R2 = -1.926, Val RMSE = 0.479, Val MSE = 0.230, Val MAE = 0.399\n"
     ]
    },
    {
     "name": "stderr",
     "output_type": "stream",
     "text": [
      "  0%|          | 0/176 [00:00<?, ?it/s]/home/stepan/Private/bearing_rul/lib/python3.10/site-packages/torch/nn/modules/loss.py:610: UserWarning: Using a target size (torch.Size([32, 1])) that is different to the input size (torch.Size([32])). This will likely lead to incorrect results due to broadcasting. Please ensure they have the same size.\n",
      "  return F.mse_loss(input, target, reduction=self.reduction)\n",
      " 99%|█████████▉| 174/176 [00:07<00:00, 23.38it/s]/home/stepan/Private/bearing_rul/lib/python3.10/site-packages/torch/nn/modules/loss.py:610: UserWarning: Using a target size (torch.Size([4, 1])) that is different to the input size (torch.Size([4])). This will likely lead to incorrect results due to broadcasting. Please ensure they have the same size.\n",
      "  return F.mse_loss(input, target, reduction=self.reduction)\n",
      "100%|██████████| 176/176 [00:07<00:00, 24.68it/s]\n"
     ]
    },
    {
     "name": "stdout",
     "output_type": "stream",
     "text": [
      "Epoch 20: Train Loss 0.0730, Train R2 = 0.119, Train RMSE = 0.271, Train MSE = 0.073, Train MAE = 0.167\n"
     ]
    },
    {
     "name": "stderr",
     "output_type": "stream",
     "text": [
      "Epoch 20 Val:   0%|          | 0/72 [00:00<?, ?it/s]/home/stepan/Private/bearing_rul/lib/python3.10/site-packages/torch/nn/modules/loss.py:610: UserWarning: Using a target size (torch.Size([32, 1])) that is different to the input size (torch.Size([32])). This will likely lead to incorrect results due to broadcasting. Please ensure they have the same size.\n",
      "  return F.mse_loss(input, target, reduction=self.reduction)\n",
      "Epoch 20 Val:  89%|████████▉ | 64/72 [00:00<00:00, 116.53it/s]/home/stepan/Private/bearing_rul/lib/python3.10/site-packages/torch/nn/modules/loss.py:610: UserWarning: Using a target size (torch.Size([4, 1])) that is different to the input size (torch.Size([4])). This will likely lead to incorrect results due to broadcasting. Please ensure they have the same size.\n",
      "  return F.mse_loss(input, target, reduction=self.reduction)\n",
      "Epoch 20 Val: 100%|██████████| 72/72 [00:00<00:00, 117.97it/s]\n"
     ]
    },
    {
     "name": "stdout",
     "output_type": "stream",
     "text": [
      "Epoch 20: Val Loss 0.3297, Val R2 = -3.253, Val RMSE = 0.578, Val MSE = 0.334, Val MAE = 0.505\n"
     ]
    },
    {
     "name": "stderr",
     "output_type": "stream",
     "text": [
      "  0%|          | 0/176 [00:00<?, ?it/s]/home/stepan/Private/bearing_rul/lib/python3.10/site-packages/torch/nn/modules/loss.py:610: UserWarning: Using a target size (torch.Size([32, 1])) that is different to the input size (torch.Size([32])). This will likely lead to incorrect results due to broadcasting. Please ensure they have the same size.\n",
      "  return F.mse_loss(input, target, reduction=self.reduction)\n",
      " 99%|█████████▉| 174/176 [00:07<00:00, 23.18it/s]/home/stepan/Private/bearing_rul/lib/python3.10/site-packages/torch/nn/modules/loss.py:610: UserWarning: Using a target size (torch.Size([4, 1])) that is different to the input size (torch.Size([4])). This will likely lead to incorrect results due to broadcasting. Please ensure they have the same size.\n",
      "  return F.mse_loss(input, target, reduction=self.reduction)\n",
      "100%|██████████| 176/176 [00:07<00:00, 23.18it/s]\n"
     ]
    },
    {
     "name": "stdout",
     "output_type": "stream",
     "text": [
      "Epoch 21: Train Loss 0.0619, Train R2 = 0.255, Train RMSE = 0.249, Train MSE = 0.062, Train MAE = 0.153\n"
     ]
    },
    {
     "name": "stderr",
     "output_type": "stream",
     "text": [
      "Epoch 21 Val:   0%|          | 0/72 [00:00<?, ?it/s]/home/stepan/Private/bearing_rul/lib/python3.10/site-packages/torch/nn/modules/loss.py:610: UserWarning: Using a target size (torch.Size([32, 1])) that is different to the input size (torch.Size([32])). This will likely lead to incorrect results due to broadcasting. Please ensure they have the same size.\n",
      "  return F.mse_loss(input, target, reduction=self.reduction)\n",
      "Epoch 21 Val:  85%|████████▍ | 61/72 [00:00<00:00, 117.32it/s]/home/stepan/Private/bearing_rul/lib/python3.10/site-packages/torch/nn/modules/loss.py:610: UserWarning: Using a target size (torch.Size([4, 1])) that is different to the input size (torch.Size([4])). This will likely lead to incorrect results due to broadcasting. Please ensure they have the same size.\n",
      "  return F.mse_loss(input, target, reduction=self.reduction)\n",
      "Epoch 21 Val: 100%|██████████| 72/72 [00:00<00:00, 115.82it/s]\n"
     ]
    },
    {
     "name": "stdout",
     "output_type": "stream",
     "text": [
      "Epoch 21: Val Loss 0.2657, Val R2 = -2.428, Val RMSE = 0.519, Val MSE = 0.269, Val MAE = 0.443\n"
     ]
    },
    {
     "name": "stderr",
     "output_type": "stream",
     "text": [
      "  0%|          | 0/176 [00:00<?, ?it/s]/home/stepan/Private/bearing_rul/lib/python3.10/site-packages/torch/nn/modules/loss.py:610: UserWarning: Using a target size (torch.Size([32, 1])) that is different to the input size (torch.Size([32])). This will likely lead to incorrect results due to broadcasting. Please ensure they have the same size.\n",
      "  return F.mse_loss(input, target, reduction=self.reduction)\n",
      " 99%|█████████▉| 174/176 [00:07<00:00, 24.90it/s]/home/stepan/Private/bearing_rul/lib/python3.10/site-packages/torch/nn/modules/loss.py:610: UserWarning: Using a target size (torch.Size([4, 1])) that is different to the input size (torch.Size([4])). This will likely lead to incorrect results due to broadcasting. Please ensure they have the same size.\n",
      "  return F.mse_loss(input, target, reduction=self.reduction)\n",
      "100%|██████████| 176/176 [00:07<00:00, 24.17it/s]\n"
     ]
    },
    {
     "name": "stdout",
     "output_type": "stream",
     "text": [
      "Epoch 22: Train Loss 0.0592, Train R2 = 0.286, Train RMSE = 0.244, Train MSE = 0.059, Train MAE = 0.151\n"
     ]
    },
    {
     "name": "stderr",
     "output_type": "stream",
     "text": [
      "Epoch 22 Val:   0%|          | 0/72 [00:00<?, ?it/s]/home/stepan/Private/bearing_rul/lib/python3.10/site-packages/torch/nn/modules/loss.py:610: UserWarning: Using a target size (torch.Size([32, 1])) that is different to the input size (torch.Size([32])). This will likely lead to incorrect results due to broadcasting. Please ensure they have the same size.\n",
      "  return F.mse_loss(input, target, reduction=self.reduction)\n",
      "Epoch 22 Val:  93%|█████████▎| 67/72 [00:00<00:00, 129.93it/s]/home/stepan/Private/bearing_rul/lib/python3.10/site-packages/torch/nn/modules/loss.py:610: UserWarning: Using a target size (torch.Size([4, 1])) that is different to the input size (torch.Size([4])). This will likely lead to incorrect results due to broadcasting. Please ensure they have the same size.\n",
      "  return F.mse_loss(input, target, reduction=self.reduction)\n",
      "Epoch 22 Val: 100%|██████████| 72/72 [00:00<00:00, 129.27it/s]\n"
     ]
    },
    {
     "name": "stdout",
     "output_type": "stream",
     "text": [
      "Epoch 22: Val Loss 0.2446, Val R2 = -2.156, Val RMSE = 0.498, Val MSE = 0.248, Val MAE = 0.427\n"
     ]
    },
    {
     "name": "stderr",
     "output_type": "stream",
     "text": [
      "  0%|          | 0/176 [00:00<?, ?it/s]/home/stepan/Private/bearing_rul/lib/python3.10/site-packages/torch/nn/modules/loss.py:610: UserWarning: Using a target size (torch.Size([32, 1])) that is different to the input size (torch.Size([32])). This will likely lead to incorrect results due to broadcasting. Please ensure they have the same size.\n",
      "  return F.mse_loss(input, target, reduction=self.reduction)\n",
      " 99%|█████████▉| 174/176 [00:07<00:00, 23.10it/s]/home/stepan/Private/bearing_rul/lib/python3.10/site-packages/torch/nn/modules/loss.py:610: UserWarning: Using a target size (torch.Size([4, 1])) that is different to the input size (torch.Size([4])). This will likely lead to incorrect results due to broadcasting. Please ensure they have the same size.\n",
      "  return F.mse_loss(input, target, reduction=self.reduction)\n",
      "100%|██████████| 176/176 [00:07<00:00, 24.18it/s]\n"
     ]
    },
    {
     "name": "stdout",
     "output_type": "stream",
     "text": [
      "Epoch 23: Train Loss 0.0489, Train R2 = 0.410, Train RMSE = 0.222, Train MSE = 0.049, Train MAE = 0.147\n"
     ]
    },
    {
     "name": "stderr",
     "output_type": "stream",
     "text": [
      "Epoch 23 Val:   0%|          | 0/72 [00:00<?, ?it/s]/home/stepan/Private/bearing_rul/lib/python3.10/site-packages/torch/nn/modules/loss.py:610: UserWarning: Using a target size (torch.Size([32, 1])) that is different to the input size (torch.Size([32])). This will likely lead to incorrect results due to broadcasting. Please ensure they have the same size.\n",
      "  return F.mse_loss(input, target, reduction=self.reduction)\n",
      "Epoch 23 Val:  90%|█████████ | 65/72 [00:00<00:00, 109.80it/s]/home/stepan/Private/bearing_rul/lib/python3.10/site-packages/torch/nn/modules/loss.py:610: UserWarning: Using a target size (torch.Size([4, 1])) that is different to the input size (torch.Size([4])). This will likely lead to incorrect results due to broadcasting. Please ensure they have the same size.\n",
      "  return F.mse_loss(input, target, reduction=self.reduction)\n",
      "Epoch 23 Val: 100%|██████████| 72/72 [00:00<00:00, 112.95it/s]\n"
     ]
    },
    {
     "name": "stdout",
     "output_type": "stream",
     "text": [
      "Epoch 23: Val Loss 0.4206, Val R2 = -4.425, Val RMSE = 0.652, Val MSE = 0.426, Val MAE = 0.590\n"
     ]
    },
    {
     "name": "stderr",
     "output_type": "stream",
     "text": [
      "  0%|          | 0/176 [00:00<?, ?it/s]/home/stepan/Private/bearing_rul/lib/python3.10/site-packages/torch/nn/modules/loss.py:610: UserWarning: Using a target size (torch.Size([32, 1])) that is different to the input size (torch.Size([32])). This will likely lead to incorrect results due to broadcasting. Please ensure they have the same size.\n",
      "  return F.mse_loss(input, target, reduction=self.reduction)\n",
      " 99%|█████████▉| 174/176 [00:07<00:00, 20.65it/s]/home/stepan/Private/bearing_rul/lib/python3.10/site-packages/torch/nn/modules/loss.py:610: UserWarning: Using a target size (torch.Size([4, 1])) that is different to the input size (torch.Size([4])). This will likely lead to incorrect results due to broadcasting. Please ensure they have the same size.\n",
      "  return F.mse_loss(input, target, reduction=self.reduction)\n",
      "100%|██████████| 176/176 [00:08<00:00, 21.94it/s]\n"
     ]
    },
    {
     "name": "stdout",
     "output_type": "stream",
     "text": [
      "Epoch 24: Train Loss 0.0557, Train R2 = 0.328, Train RMSE = 0.237, Train MSE = 0.056, Train MAE = 0.160\n"
     ]
    },
    {
     "name": "stderr",
     "output_type": "stream",
     "text": [
      "Epoch 24 Val:   0%|          | 0/72 [00:00<?, ?it/s]/home/stepan/Private/bearing_rul/lib/python3.10/site-packages/torch/nn/modules/loss.py:610: UserWarning: Using a target size (torch.Size([32, 1])) that is different to the input size (torch.Size([32])). This will likely lead to incorrect results due to broadcasting. Please ensure they have the same size.\n",
      "  return F.mse_loss(input, target, reduction=self.reduction)\n",
      "Epoch 24 Val:  99%|█████████▊| 71/72 [00:00<00:00, 137.64it/s]/home/stepan/Private/bearing_rul/lib/python3.10/site-packages/torch/nn/modules/loss.py:610: UserWarning: Using a target size (torch.Size([4, 1])) that is different to the input size (torch.Size([4])). This will likely lead to incorrect results due to broadcasting. Please ensure they have the same size.\n",
      "  return F.mse_loss(input, target, reduction=self.reduction)\n",
      "Epoch 24 Val: 100%|██████████| 72/72 [00:00<00:00, 135.67it/s]\n"
     ]
    },
    {
     "name": "stdout",
     "output_type": "stream",
     "text": [
      "Epoch 24: Val Loss 0.3971, Val R2 = -4.121, Val RMSE = 0.634, Val MSE = 0.402, Val MAE = 0.569\n"
     ]
    },
    {
     "name": "stderr",
     "output_type": "stream",
     "text": [
      "  0%|          | 0/176 [00:00<?, ?it/s]/home/stepan/Private/bearing_rul/lib/python3.10/site-packages/torch/nn/modules/loss.py:610: UserWarning: Using a target size (torch.Size([32, 1])) that is different to the input size (torch.Size([32])). This will likely lead to incorrect results due to broadcasting. Please ensure they have the same size.\n",
      "  return F.mse_loss(input, target, reduction=self.reduction)\n",
      " 99%|█████████▉| 175/176 [00:07<00:00, 23.39it/s]/home/stepan/Private/bearing_rul/lib/python3.10/site-packages/torch/nn/modules/loss.py:610: UserWarning: Using a target size (torch.Size([4, 1])) that is different to the input size (torch.Size([4])). This will likely lead to incorrect results due to broadcasting. Please ensure they have the same size.\n",
      "  return F.mse_loss(input, target, reduction=self.reduction)\n",
      "100%|██████████| 176/176 [00:07<00:00, 24.22it/s]\n"
     ]
    },
    {
     "name": "stdout",
     "output_type": "stream",
     "text": [
      "Epoch 25: Train Loss 0.0583, Train R2 = 0.297, Train RMSE = 0.242, Train MSE = 0.059, Train MAE = 0.154\n"
     ]
    },
    {
     "name": "stderr",
     "output_type": "stream",
     "text": [
      "Epoch 25 Val:   0%|          | 0/72 [00:00<?, ?it/s]/home/stepan/Private/bearing_rul/lib/python3.10/site-packages/torch/nn/modules/loss.py:610: UserWarning: Using a target size (torch.Size([32, 1])) that is different to the input size (torch.Size([32])). This will likely lead to incorrect results due to broadcasting. Please ensure they have the same size.\n",
      "  return F.mse_loss(input, target, reduction=self.reduction)\n",
      "Epoch 25 Val:  89%|████████▉ | 64/72 [00:00<00:00, 123.80it/s]/home/stepan/Private/bearing_rul/lib/python3.10/site-packages/torch/nn/modules/loss.py:610: UserWarning: Using a target size (torch.Size([4, 1])) that is different to the input size (torch.Size([4])). This will likely lead to incorrect results due to broadcasting. Please ensure they have the same size.\n",
      "  return F.mse_loss(input, target, reduction=self.reduction)\n",
      "Epoch 25 Val: 100%|██████████| 72/72 [00:00<00:00, 123.36it/s]\n"
     ]
    },
    {
     "name": "stdout",
     "output_type": "stream",
     "text": [
      "Epoch 25: Val Loss 0.4532, Val R2 = -4.846, Val RMSE = 0.677, Val MSE = 0.459, Val MAE = 0.615\n"
     ]
    },
    {
     "name": "stderr",
     "output_type": "stream",
     "text": [
      "  0%|          | 0/176 [00:00<?, ?it/s]/home/stepan/Private/bearing_rul/lib/python3.10/site-packages/torch/nn/modules/loss.py:610: UserWarning: Using a target size (torch.Size([32, 1])) that is different to the input size (torch.Size([32])). This will likely lead to incorrect results due to broadcasting. Please ensure they have the same size.\n",
      "  return F.mse_loss(input, target, reduction=self.reduction)\n",
      " 99%|█████████▉| 174/176 [00:07<00:00, 23.79it/s]/home/stepan/Private/bearing_rul/lib/python3.10/site-packages/torch/nn/modules/loss.py:610: UserWarning: Using a target size (torch.Size([4, 1])) that is different to the input size (torch.Size([4])). This will likely lead to incorrect results due to broadcasting. Please ensure they have the same size.\n",
      "  return F.mse_loss(input, target, reduction=self.reduction)\n",
      "100%|██████████| 176/176 [00:07<00:00, 23.90it/s]\n"
     ]
    },
    {
     "name": "stdout",
     "output_type": "stream",
     "text": [
      "Epoch 26: Train Loss 0.0522, Train R2 = 0.372, Train RMSE = 0.229, Train MSE = 0.052, Train MAE = 0.156\n"
     ]
    },
    {
     "name": "stderr",
     "output_type": "stream",
     "text": [
      "Epoch 26 Val:   0%|          | 0/72 [00:00<?, ?it/s]/home/stepan/Private/bearing_rul/lib/python3.10/site-packages/torch/nn/modules/loss.py:610: UserWarning: Using a target size (torch.Size([32, 1])) that is different to the input size (torch.Size([32])). This will likely lead to incorrect results due to broadcasting. Please ensure they have the same size.\n",
      "  return F.mse_loss(input, target, reduction=self.reduction)\n",
      "Epoch 26 Val:  89%|████████▉ | 64/72 [00:00<00:00, 123.65it/s]/home/stepan/Private/bearing_rul/lib/python3.10/site-packages/torch/nn/modules/loss.py:610: UserWarning: Using a target size (torch.Size([4, 1])) that is different to the input size (torch.Size([4])). This will likely lead to incorrect results due to broadcasting. Please ensure they have the same size.\n",
      "  return F.mse_loss(input, target, reduction=self.reduction)\n",
      "Epoch 26 Val: 100%|██████████| 72/72 [00:00<00:00, 123.72it/s]\n"
     ]
    },
    {
     "name": "stdout",
     "output_type": "stream",
     "text": [
      "Epoch 26: Val Loss 0.2909, Val R2 = -2.753, Val RMSE = 0.543, Val MSE = 0.294, Val MAE = 0.465\n"
     ]
    },
    {
     "name": "stderr",
     "output_type": "stream",
     "text": [
      "  0%|          | 0/176 [00:00<?, ?it/s]/home/stepan/Private/bearing_rul/lib/python3.10/site-packages/torch/nn/modules/loss.py:610: UserWarning: Using a target size (torch.Size([32, 1])) that is different to the input size (torch.Size([32])). This will likely lead to incorrect results due to broadcasting. Please ensure they have the same size.\n",
      "  return F.mse_loss(input, target, reduction=self.reduction)\n",
      " 99%|█████████▉| 174/176 [00:07<00:00, 24.12it/s]/home/stepan/Private/bearing_rul/lib/python3.10/site-packages/torch/nn/modules/loss.py:610: UserWarning: Using a target size (torch.Size([4, 1])) that is different to the input size (torch.Size([4])). This will likely lead to incorrect results due to broadcasting. Please ensure they have the same size.\n",
      "  return F.mse_loss(input, target, reduction=self.reduction)\n",
      "100%|██████████| 176/176 [00:07<00:00, 23.73it/s]\n"
     ]
    },
    {
     "name": "stdout",
     "output_type": "stream",
     "text": [
      "Epoch 27: Train Loss 0.0760, Train R2 = 0.084, Train RMSE = 0.276, Train MSE = 0.076, Train MAE = 0.205\n"
     ]
    },
    {
     "name": "stderr",
     "output_type": "stream",
     "text": [
      "Epoch 27 Val:   0%|          | 0/72 [00:00<?, ?it/s]/home/stepan/Private/bearing_rul/lib/python3.10/site-packages/torch/nn/modules/loss.py:610: UserWarning: Using a target size (torch.Size([32, 1])) that is different to the input size (torch.Size([32])). This will likely lead to incorrect results due to broadcasting. Please ensure they have the same size.\n",
      "  return F.mse_loss(input, target, reduction=self.reduction)\n",
      "Epoch 27 Val:  89%|████████▉ | 64/72 [00:00<00:00, 125.90it/s]/home/stepan/Private/bearing_rul/lib/python3.10/site-packages/torch/nn/modules/loss.py:610: UserWarning: Using a target size (torch.Size([4, 1])) that is different to the input size (torch.Size([4])). This will likely lead to incorrect results due to broadcasting. Please ensure they have the same size.\n",
      "  return F.mse_loss(input, target, reduction=self.reduction)\n",
      "Epoch 27 Val: 100%|██████████| 72/72 [00:00<00:00, 125.90it/s]\n"
     ]
    },
    {
     "name": "stdout",
     "output_type": "stream",
     "text": [
      "Epoch 27: Val Loss 0.3283, Val R2 = -3.236, Val RMSE = 0.577, Val MSE = 0.332, Val MAE = 0.504\n"
     ]
    },
    {
     "name": "stderr",
     "output_type": "stream",
     "text": [
      "  0%|          | 0/176 [00:00<?, ?it/s]/home/stepan/Private/bearing_rul/lib/python3.10/site-packages/torch/nn/modules/loss.py:610: UserWarning: Using a target size (torch.Size([32, 1])) that is different to the input size (torch.Size([32])). This will likely lead to incorrect results due to broadcasting. Please ensure they have the same size.\n",
      "  return F.mse_loss(input, target, reduction=self.reduction)\n",
      " 99%|█████████▉| 174/176 [00:07<00:00, 23.71it/s]/home/stepan/Private/bearing_rul/lib/python3.10/site-packages/torch/nn/modules/loss.py:610: UserWarning: Using a target size (torch.Size([4, 1])) that is different to the input size (torch.Size([4])). This will likely lead to incorrect results due to broadcasting. Please ensure they have the same size.\n",
      "  return F.mse_loss(input, target, reduction=self.reduction)\n",
      "100%|██████████| 176/176 [00:07<00:00, 23.89it/s]\n"
     ]
    },
    {
     "name": "stdout",
     "output_type": "stream",
     "text": [
      "Epoch 28: Train Loss 0.0874, Train R2 = -0.051, Train RMSE = 0.296, Train MSE = 0.087, Train MAE = 0.227\n"
     ]
    },
    {
     "name": "stderr",
     "output_type": "stream",
     "text": [
      "Epoch 28 Val:   0%|          | 0/72 [00:00<?, ?it/s]/home/stepan/Private/bearing_rul/lib/python3.10/site-packages/torch/nn/modules/loss.py:610: UserWarning: Using a target size (torch.Size([32, 1])) that is different to the input size (torch.Size([32])). This will likely lead to incorrect results due to broadcasting. Please ensure they have the same size.\n",
      "  return F.mse_loss(input, target, reduction=self.reduction)\n",
      "Epoch 28 Val:  99%|█████████▊| 71/72 [00:00<00:00, 115.72it/s]/home/stepan/Private/bearing_rul/lib/python3.10/site-packages/torch/nn/modules/loss.py:610: UserWarning: Using a target size (torch.Size([4, 1])) that is different to the input size (torch.Size([4])). This will likely lead to incorrect results due to broadcasting. Please ensure they have the same size.\n",
      "  return F.mse_loss(input, target, reduction=self.reduction)\n",
      "Epoch 28 Val: 100%|██████████| 72/72 [00:00<00:00, 114.72it/s]\n"
     ]
    },
    {
     "name": "stdout",
     "output_type": "stream",
     "text": [
      "Epoch 28: Val Loss 0.2331, Val R2 = -2.006, Val RMSE = 0.486, Val MSE = 0.236, Val MAE = 0.407\n"
     ]
    },
    {
     "name": "stderr",
     "output_type": "stream",
     "text": [
      "  0%|          | 0/176 [00:00<?, ?it/s]/home/stepan/Private/bearing_rul/lib/python3.10/site-packages/torch/nn/modules/loss.py:610: UserWarning: Using a target size (torch.Size([32, 1])) that is different to the input size (torch.Size([32])). This will likely lead to incorrect results due to broadcasting. Please ensure they have the same size.\n",
      "  return F.mse_loss(input, target, reduction=self.reduction)\n",
      " 99%|█████████▉| 174/176 [00:07<00:00, 22.43it/s]/home/stepan/Private/bearing_rul/lib/python3.10/site-packages/torch/nn/modules/loss.py:610: UserWarning: Using a target size (torch.Size([4, 1])) that is different to the input size (torch.Size([4])). This will likely lead to incorrect results due to broadcasting. Please ensure they have the same size.\n",
      "  return F.mse_loss(input, target, reduction=self.reduction)\n",
      "100%|██████████| 176/176 [00:07<00:00, 22.42it/s]\n"
     ]
    },
    {
     "name": "stdout",
     "output_type": "stream",
     "text": [
      "Epoch 29: Train Loss 0.0735, Train R2 = 0.115, Train RMSE = 0.272, Train MSE = 0.074, Train MAE = 0.196\n"
     ]
    },
    {
     "name": "stderr",
     "output_type": "stream",
     "text": [
      "Epoch 29 Val:   0%|          | 0/72 [00:00<?, ?it/s]/home/stepan/Private/bearing_rul/lib/python3.10/site-packages/torch/nn/modules/loss.py:610: UserWarning: Using a target size (torch.Size([32, 1])) that is different to the input size (torch.Size([32])). This will likely lead to incorrect results due to broadcasting. Please ensure they have the same size.\n",
      "  return F.mse_loss(input, target, reduction=self.reduction)\n",
      "Epoch 29 Val:  86%|████████▌ | 62/72 [00:00<00:00, 122.86it/s]/home/stepan/Private/bearing_rul/lib/python3.10/site-packages/torch/nn/modules/loss.py:610: UserWarning: Using a target size (torch.Size([4, 1])) that is different to the input size (torch.Size([4])). This will likely lead to incorrect results due to broadcasting. Please ensure they have the same size.\n",
      "  return F.mse_loss(input, target, reduction=self.reduction)\n",
      "Epoch 29 Val: 100%|██████████| 72/72 [00:00<00:00, 121.59it/s]\n"
     ]
    },
    {
     "name": "stdout",
     "output_type": "stream",
     "text": [
      "Epoch 29: Val Loss 0.1866, Val R2 = -1.402, Val RMSE = 0.434, Val MSE = 0.188, Val MAE = 0.359\n"
     ]
    },
    {
     "name": "stderr",
     "output_type": "stream",
     "text": [
      "  0%|          | 0/176 [00:00<?, ?it/s]/home/stepan/Private/bearing_rul/lib/python3.10/site-packages/torch/nn/modules/loss.py:610: UserWarning: Using a target size (torch.Size([32, 1])) that is different to the input size (torch.Size([32])). This will likely lead to incorrect results due to broadcasting. Please ensure they have the same size.\n",
      "  return F.mse_loss(input, target, reduction=self.reduction)\n",
      " 99%|█████████▉| 175/176 [00:08<00:00, 20.32it/s]/home/stepan/Private/bearing_rul/lib/python3.10/site-packages/torch/nn/modules/loss.py:610: UserWarning: Using a target size (torch.Size([4, 1])) that is different to the input size (torch.Size([4])). This will likely lead to incorrect results due to broadcasting. Please ensure they have the same size.\n",
      "  return F.mse_loss(input, target, reduction=self.reduction)\n",
      "100%|██████████| 176/176 [00:08<00:00, 21.03it/s]\n"
     ]
    },
    {
     "name": "stdout",
     "output_type": "stream",
     "text": [
      "Epoch 30: Train Loss 0.0583, Train R2 = 0.299, Train RMSE = 0.242, Train MSE = 0.058, Train MAE = 0.185\n"
     ]
    },
    {
     "name": "stderr",
     "output_type": "stream",
     "text": [
      "Epoch 30 Val:   0%|          | 0/72 [00:00<?, ?it/s]/home/stepan/Private/bearing_rul/lib/python3.10/site-packages/torch/nn/modules/loss.py:610: UserWarning: Using a target size (torch.Size([32, 1])) that is different to the input size (torch.Size([32])). This will likely lead to incorrect results due to broadcasting. Please ensure they have the same size.\n",
      "  return F.mse_loss(input, target, reduction=self.reduction)\n",
      "Epoch 30 Val:  90%|█████████ | 65/72 [00:00<00:00, 107.10it/s]/home/stepan/Private/bearing_rul/lib/python3.10/site-packages/torch/nn/modules/loss.py:610: UserWarning: Using a target size (torch.Size([4, 1])) that is different to the input size (torch.Size([4])). This will likely lead to incorrect results due to broadcasting. Please ensure they have the same size.\n",
      "  return F.mse_loss(input, target, reduction=self.reduction)\n",
      "Epoch 30 Val: 100%|██████████| 72/72 [00:00<00:00, 106.11it/s]\n"
     ]
    },
    {
     "name": "stdout",
     "output_type": "stream",
     "text": [
      "Epoch 30: Val Loss 0.1705, Val R2 = -1.189, Val RMSE = 0.414, Val MSE = 0.172, Val MAE = 0.338\n"
     ]
    },
    {
     "name": "stderr",
     "output_type": "stream",
     "text": [
      "  0%|          | 0/176 [00:00<?, ?it/s]/home/stepan/Private/bearing_rul/lib/python3.10/site-packages/torch/nn/modules/loss.py:610: UserWarning: Using a target size (torch.Size([32, 1])) that is different to the input size (torch.Size([32])). This will likely lead to incorrect results due to broadcasting. Please ensure they have the same size.\n",
      "  return F.mse_loss(input, target, reduction=self.reduction)\n",
      " 99%|█████████▉| 174/176 [00:08<00:00, 20.19it/s]/home/stepan/Private/bearing_rul/lib/python3.10/site-packages/torch/nn/modules/loss.py:610: UserWarning: Using a target size (torch.Size([4, 1])) that is different to the input size (torch.Size([4])). This will likely lead to incorrect results due to broadcasting. Please ensure they have the same size.\n",
      "  return F.mse_loss(input, target, reduction=self.reduction)\n",
      "100%|██████████| 176/176 [00:08<00:00, 20.31it/s]\n"
     ]
    },
    {
     "name": "stdout",
     "output_type": "stream",
     "text": [
      "Epoch 31: Train Loss 0.0677, Train R2 = 0.184, Train RMSE = 0.261, Train MSE = 0.068, Train MAE = 0.188\n"
     ]
    },
    {
     "name": "stderr",
     "output_type": "stream",
     "text": [
      "Epoch 31 Val:   0%|          | 0/72 [00:00<?, ?it/s]/home/stepan/Private/bearing_rul/lib/python3.10/site-packages/torch/nn/modules/loss.py:610: UserWarning: Using a target size (torch.Size([32, 1])) that is different to the input size (torch.Size([32])). This will likely lead to incorrect results due to broadcasting. Please ensure they have the same size.\n",
      "  return F.mse_loss(input, target, reduction=self.reduction)\n",
      "Epoch 31 Val:  92%|█████████▏| 66/72 [00:00<00:00, 107.85it/s]/home/stepan/Private/bearing_rul/lib/python3.10/site-packages/torch/nn/modules/loss.py:610: UserWarning: Using a target size (torch.Size([4, 1])) that is different to the input size (torch.Size([4])). This will likely lead to incorrect results due to broadcasting. Please ensure they have the same size.\n",
      "  return F.mse_loss(input, target, reduction=self.reduction)\n",
      "Epoch 31 Val: 100%|██████████| 72/72 [00:00<00:00, 106.80it/s]\n"
     ]
    },
    {
     "name": "stdout",
     "output_type": "stream",
     "text": [
      "Epoch 31: Val Loss 0.1052, Val R2 = -0.356, Val RMSE = 0.326, Val MSE = 0.106, Val MAE = 0.268\n"
     ]
    },
    {
     "name": "stderr",
     "output_type": "stream",
     "text": [
      "  0%|          | 0/176 [00:00<?, ?it/s]/home/stepan/Private/bearing_rul/lib/python3.10/site-packages/torch/nn/modules/loss.py:610: UserWarning: Using a target size (torch.Size([32, 1])) that is different to the input size (torch.Size([32])). This will likely lead to incorrect results due to broadcasting. Please ensure they have the same size.\n",
      "  return F.mse_loss(input, target, reduction=self.reduction)\n",
      " 99%|█████████▉| 174/176 [00:08<00:00, 19.92it/s]/home/stepan/Private/bearing_rul/lib/python3.10/site-packages/torch/nn/modules/loss.py:610: UserWarning: Using a target size (torch.Size([4, 1])) that is different to the input size (torch.Size([4])). This will likely lead to incorrect results due to broadcasting. Please ensure they have the same size.\n",
      "  return F.mse_loss(input, target, reduction=self.reduction)\n",
      "100%|██████████| 176/176 [00:08<00:00, 20.02it/s]\n"
     ]
    },
    {
     "name": "stdout",
     "output_type": "stream",
     "text": [
      "Epoch 32: Train Loss 0.0702, Train R2 = 0.157, Train RMSE = 0.265, Train MSE = 0.070, Train MAE = 0.211\n"
     ]
    },
    {
     "name": "stderr",
     "output_type": "stream",
     "text": [
      "Epoch 32 Val:   0%|          | 0/72 [00:00<?, ?it/s]/home/stepan/Private/bearing_rul/lib/python3.10/site-packages/torch/nn/modules/loss.py:610: UserWarning: Using a target size (torch.Size([32, 1])) that is different to the input size (torch.Size([32])). This will likely lead to incorrect results due to broadcasting. Please ensure they have the same size.\n",
      "  return F.mse_loss(input, target, reduction=self.reduction)\n",
      "Epoch 32 Val:  89%|████████▉ | 64/72 [00:00<00:00, 103.15it/s]/home/stepan/Private/bearing_rul/lib/python3.10/site-packages/torch/nn/modules/loss.py:610: UserWarning: Using a target size (torch.Size([4, 1])) that is different to the input size (torch.Size([4])). This will likely lead to incorrect results due to broadcasting. Please ensure they have the same size.\n",
      "  return F.mse_loss(input, target, reduction=self.reduction)\n",
      "Epoch 32 Val: 100%|██████████| 72/72 [00:00<00:00, 102.88it/s]\n"
     ]
    },
    {
     "name": "stdout",
     "output_type": "stream",
     "text": [
      "Epoch 32: Val Loss 0.1552, Val R2 = -0.992, Val RMSE = 0.395, Val MSE = 0.156, Val MAE = 0.324\n"
     ]
    },
    {
     "name": "stderr",
     "output_type": "stream",
     "text": [
      "  0%|          | 0/176 [00:00<?, ?it/s]/home/stepan/Private/bearing_rul/lib/python3.10/site-packages/torch/nn/modules/loss.py:610: UserWarning: Using a target size (torch.Size([32, 1])) that is different to the input size (torch.Size([32])). This will likely lead to incorrect results due to broadcasting. Please ensure they have the same size.\n",
      "  return F.mse_loss(input, target, reduction=self.reduction)\n",
      " 99%|█████████▉| 175/176 [00:08<00:00, 20.19it/s]/home/stepan/Private/bearing_rul/lib/python3.10/site-packages/torch/nn/modules/loss.py:610: UserWarning: Using a target size (torch.Size([4, 1])) that is different to the input size (torch.Size([4])). This will likely lead to incorrect results due to broadcasting. Please ensure they have the same size.\n",
      "  return F.mse_loss(input, target, reduction=self.reduction)\n",
      "100%|██████████| 176/176 [00:08<00:00, 20.08it/s]\n"
     ]
    },
    {
     "name": "stdout",
     "output_type": "stream",
     "text": [
      "Epoch 33: Train Loss 0.0765, Train R2 = 0.077, Train RMSE = 0.277, Train MSE = 0.077, Train MAE = 0.209\n"
     ]
    },
    {
     "name": "stderr",
     "output_type": "stream",
     "text": [
      "Epoch 33 Val:   0%|          | 0/72 [00:00<?, ?it/s]/home/stepan/Private/bearing_rul/lib/python3.10/site-packages/torch/nn/modules/loss.py:610: UserWarning: Using a target size (torch.Size([32, 1])) that is different to the input size (torch.Size([32])). This will likely lead to incorrect results due to broadcasting. Please ensure they have the same size.\n",
      "  return F.mse_loss(input, target, reduction=self.reduction)\n",
      "Epoch 33 Val:  90%|█████████ | 65/72 [00:00<00:00, 102.93it/s]/home/stepan/Private/bearing_rul/lib/python3.10/site-packages/torch/nn/modules/loss.py:610: UserWarning: Using a target size (torch.Size([4, 1])) that is different to the input size (torch.Size([4])). This will likely lead to incorrect results due to broadcasting. Please ensure they have the same size.\n",
      "  return F.mse_loss(input, target, reduction=self.reduction)\n",
      "Epoch 33 Val: 100%|██████████| 72/72 [00:00<00:00, 102.86it/s]\n"
     ]
    },
    {
     "name": "stdout",
     "output_type": "stream",
     "text": [
      "Epoch 33: Val Loss 0.0881, Val R2 = -0.133, Val RMSE = 0.298, Val MSE = 0.089, Val MAE = 0.252\n"
     ]
    },
    {
     "name": "stderr",
     "output_type": "stream",
     "text": [
      "  0%|          | 0/176 [00:00<?, ?it/s]/home/stepan/Private/bearing_rul/lib/python3.10/site-packages/torch/nn/modules/loss.py:610: UserWarning: Using a target size (torch.Size([32, 1])) that is different to the input size (torch.Size([32])). This will likely lead to incorrect results due to broadcasting. Please ensure they have the same size.\n",
      "  return F.mse_loss(input, target, reduction=self.reduction)\n",
      " 99%|█████████▉| 175/176 [00:08<00:00, 18.53it/s]/home/stepan/Private/bearing_rul/lib/python3.10/site-packages/torch/nn/modules/loss.py:610: UserWarning: Using a target size (torch.Size([4, 1])) that is different to the input size (torch.Size([4])). This will likely lead to incorrect results due to broadcasting. Please ensure they have the same size.\n",
      "  return F.mse_loss(input, target, reduction=self.reduction)\n",
      "100%|██████████| 176/176 [00:08<00:00, 21.26it/s]\n"
     ]
    },
    {
     "name": "stdout",
     "output_type": "stream",
     "text": [
      "Epoch 34: Train Loss 0.0486, Train R2 = 0.415, Train RMSE = 0.221, Train MSE = 0.049, Train MAE = 0.154\n"
     ]
    },
    {
     "name": "stderr",
     "output_type": "stream",
     "text": [
      "Epoch 34 Val:   0%|          | 0/72 [00:00<?, ?it/s]/home/stepan/Private/bearing_rul/lib/python3.10/site-packages/torch/nn/modules/loss.py:610: UserWarning: Using a target size (torch.Size([32, 1])) that is different to the input size (torch.Size([32])). This will likely lead to incorrect results due to broadcasting. Please ensure they have the same size.\n",
      "  return F.mse_loss(input, target, reduction=self.reduction)\n",
      "Epoch 34 Val:  92%|█████████▏| 66/72 [00:00<00:00, 76.79it/s]/home/stepan/Private/bearing_rul/lib/python3.10/site-packages/torch/nn/modules/loss.py:610: UserWarning: Using a target size (torch.Size([4, 1])) that is different to the input size (torch.Size([4])). This will likely lead to incorrect results due to broadcasting. Please ensure they have the same size.\n",
      "  return F.mse_loss(input, target, reduction=self.reduction)\n",
      "Epoch 34 Val: 100%|██████████| 72/72 [00:00<00:00, 77.19it/s]\n"
     ]
    },
    {
     "name": "stdout",
     "output_type": "stream",
     "text": [
      "Epoch 34: Val Loss 0.2957, Val R2 = -2.814, Val RMSE = 0.547, Val MSE = 0.299, Val MAE = 0.482\n"
     ]
    },
    {
     "name": "stderr",
     "output_type": "stream",
     "text": [
      "  0%|          | 0/176 [00:00<?, ?it/s]/home/stepan/Private/bearing_rul/lib/python3.10/site-packages/torch/nn/modules/loss.py:610: UserWarning: Using a target size (torch.Size([32, 1])) that is different to the input size (torch.Size([32])). This will likely lead to incorrect results due to broadcasting. Please ensure they have the same size.\n",
      "  return F.mse_loss(input, target, reduction=self.reduction)\n",
      " 99%|█████████▉| 174/176 [00:08<00:00, 24.40it/s]/home/stepan/Private/bearing_rul/lib/python3.10/site-packages/torch/nn/modules/loss.py:610: UserWarning: Using a target size (torch.Size([4, 1])) that is different to the input size (torch.Size([4])). This will likely lead to incorrect results due to broadcasting. Please ensure they have the same size.\n",
      "  return F.mse_loss(input, target, reduction=self.reduction)\n",
      "100%|██████████| 176/176 [00:08<00:00, 21.20it/s]\n"
     ]
    },
    {
     "name": "stdout",
     "output_type": "stream",
     "text": [
      "Epoch 35: Train Loss 0.0380, Train R2 = 0.542, Train RMSE = 0.195, Train MSE = 0.038, Train MAE = 0.129\n"
     ]
    },
    {
     "name": "stderr",
     "output_type": "stream",
     "text": [
      "Epoch 35 Val:   0%|          | 0/72 [00:00<?, ?it/s]/home/stepan/Private/bearing_rul/lib/python3.10/site-packages/torch/nn/modules/loss.py:610: UserWarning: Using a target size (torch.Size([32, 1])) that is different to the input size (torch.Size([32])). This will likely lead to incorrect results due to broadcasting. Please ensure they have the same size.\n",
      "  return F.mse_loss(input, target, reduction=self.reduction)\n",
      "Epoch 35 Val:  96%|█████████▌| 69/72 [00:00<00:00, 99.78it/s]/home/stepan/Private/bearing_rul/lib/python3.10/site-packages/torch/nn/modules/loss.py:610: UserWarning: Using a target size (torch.Size([4, 1])) that is different to the input size (torch.Size([4])). This will likely lead to incorrect results due to broadcasting. Please ensure they have the same size.\n",
      "  return F.mse_loss(input, target, reduction=self.reduction)\n",
      "Epoch 35 Val: 100%|██████████| 72/72 [00:00<00:00, 92.68it/s]\n"
     ]
    },
    {
     "name": "stdout",
     "output_type": "stream",
     "text": [
      "Epoch 35: Val Loss 0.3108, Val R2 = -3.009, Val RMSE = 0.561, Val MSE = 0.315, Val MAE = 0.506\n"
     ]
    },
    {
     "name": "stderr",
     "output_type": "stream",
     "text": [
      "  0%|          | 0/176 [00:00<?, ?it/s]/home/stepan/Private/bearing_rul/lib/python3.10/site-packages/torch/nn/modules/loss.py:610: UserWarning: Using a target size (torch.Size([32, 1])) that is different to the input size (torch.Size([32])). This will likely lead to incorrect results due to broadcasting. Please ensure they have the same size.\n",
      "  return F.mse_loss(input, target, reduction=self.reduction)\n",
      " 99%|█████████▉| 174/176 [00:08<00:00, 20.99it/s]/home/stepan/Private/bearing_rul/lib/python3.10/site-packages/torch/nn/modules/loss.py:610: UserWarning: Using a target size (torch.Size([4, 1])) that is different to the input size (torch.Size([4])). This will likely lead to incorrect results due to broadcasting. Please ensure they have the same size.\n",
      "  return F.mse_loss(input, target, reduction=self.reduction)\n",
      "100%|██████████| 176/176 [00:08<00:00, 21.78it/s]\n"
     ]
    },
    {
     "name": "stdout",
     "output_type": "stream",
     "text": [
      "Epoch 36: Train Loss 0.0251, Train R2 = 0.698, Train RMSE = 0.159, Train MSE = 0.025, Train MAE = 0.111\n"
     ]
    },
    {
     "name": "stderr",
     "output_type": "stream",
     "text": [
      "Epoch 36 Val:   0%|          | 0/72 [00:00<?, ?it/s]/home/stepan/Private/bearing_rul/lib/python3.10/site-packages/torch/nn/modules/loss.py:610: UserWarning: Using a target size (torch.Size([32, 1])) that is different to the input size (torch.Size([32])). This will likely lead to incorrect results due to broadcasting. Please ensure they have the same size.\n",
      "  return F.mse_loss(input, target, reduction=self.reduction)\n",
      "Epoch 36 Val:  96%|█████████▌| 69/72 [00:00<00:00, 110.98it/s]/home/stepan/Private/bearing_rul/lib/python3.10/site-packages/torch/nn/modules/loss.py:610: UserWarning: Using a target size (torch.Size([4, 1])) that is different to the input size (torch.Size([4])). This will likely lead to incorrect results due to broadcasting. Please ensure they have the same size.\n",
      "  return F.mse_loss(input, target, reduction=self.reduction)\n",
      "Epoch 36 Val: 100%|██████████| 72/72 [00:00<00:00, 110.82it/s]\n"
     ]
    },
    {
     "name": "stdout",
     "output_type": "stream",
     "text": [
      "Epoch 36: Val Loss 0.5374, Val R2 = -5.933, Val RMSE = 0.738, Val MSE = 0.544, Val MAE = 0.680\n"
     ]
    },
    {
     "name": "stderr",
     "output_type": "stream",
     "text": [
      "  0%|          | 0/176 [00:00<?, ?it/s]/home/stepan/Private/bearing_rul/lib/python3.10/site-packages/torch/nn/modules/loss.py:610: UserWarning: Using a target size (torch.Size([32, 1])) that is different to the input size (torch.Size([32])). This will likely lead to incorrect results due to broadcasting. Please ensure they have the same size.\n",
      "  return F.mse_loss(input, target, reduction=self.reduction)\n",
      " 99%|█████████▉| 175/176 [00:08<00:00, 16.46it/s]/home/stepan/Private/bearing_rul/lib/python3.10/site-packages/torch/nn/modules/loss.py:610: UserWarning: Using a target size (torch.Size([4, 1])) that is different to the input size (torch.Size([4])). This will likely lead to incorrect results due to broadcasting. Please ensure they have the same size.\n",
      "  return F.mse_loss(input, target, reduction=self.reduction)\n",
      "100%|██████████| 176/176 [00:08<00:00, 19.56it/s]\n"
     ]
    },
    {
     "name": "stdout",
     "output_type": "stream",
     "text": [
      "Epoch 37: Train Loss 0.0265, Train R2 = 0.681, Train RMSE = 0.163, Train MSE = 0.027, Train MAE = 0.100\n"
     ]
    },
    {
     "name": "stderr",
     "output_type": "stream",
     "text": [
      "Epoch 37 Val:   0%|          | 0/72 [00:00<?, ?it/s]/home/stepan/Private/bearing_rul/lib/python3.10/site-packages/torch/nn/modules/loss.py:610: UserWarning: Using a target size (torch.Size([32, 1])) that is different to the input size (torch.Size([32])). This will likely lead to incorrect results due to broadcasting. Please ensure they have the same size.\n",
      "  return F.mse_loss(input, target, reduction=self.reduction)\n",
      "Epoch 37 Val:  83%|████████▎ | 60/72 [00:00<00:00, 107.64it/s]/home/stepan/Private/bearing_rul/lib/python3.10/site-packages/torch/nn/modules/loss.py:610: UserWarning: Using a target size (torch.Size([4, 1])) that is different to the input size (torch.Size([4])). This will likely lead to incorrect results due to broadcasting. Please ensure they have the same size.\n",
      "  return F.mse_loss(input, target, reduction=self.reduction)\n",
      "Epoch 37 Val: 100%|██████████| 72/72 [00:00<00:00, 97.16it/s] \n"
     ]
    },
    {
     "name": "stdout",
     "output_type": "stream",
     "text": [
      "Epoch 37: Val Loss 0.4369, Val R2 = -4.634, Val RMSE = 0.665, Val MSE = 0.442, Val MAE = 0.605\n"
     ]
    },
    {
     "name": "stderr",
     "output_type": "stream",
     "text": [
      "  0%|          | 0/176 [00:00<?, ?it/s]/home/stepan/Private/bearing_rul/lib/python3.10/site-packages/torch/nn/modules/loss.py:610: UserWarning: Using a target size (torch.Size([32, 1])) that is different to the input size (torch.Size([32])). This will likely lead to incorrect results due to broadcasting. Please ensure they have the same size.\n",
      "  return F.mse_loss(input, target, reduction=self.reduction)\n",
      " 99%|█████████▉| 174/176 [00:07<00:00, 22.15it/s]/home/stepan/Private/bearing_rul/lib/python3.10/site-packages/torch/nn/modules/loss.py:610: UserWarning: Using a target size (torch.Size([4, 1])) that is different to the input size (torch.Size([4])). This will likely lead to incorrect results due to broadcasting. Please ensure they have the same size.\n",
      "  return F.mse_loss(input, target, reduction=self.reduction)\n",
      "100%|██████████| 176/176 [00:07<00:00, 22.01it/s]\n"
     ]
    },
    {
     "name": "stdout",
     "output_type": "stream",
     "text": [
      "Epoch 38: Train Loss 0.0148, Train R2 = 0.822, Train RMSE = 0.122, Train MSE = 0.015, Train MAE = 0.085\n"
     ]
    },
    {
     "name": "stderr",
     "output_type": "stream",
     "text": [
      "Epoch 38 Val:   0%|          | 0/72 [00:00<?, ?it/s]/home/stepan/Private/bearing_rul/lib/python3.10/site-packages/torch/nn/modules/loss.py:610: UserWarning: Using a target size (torch.Size([32, 1])) that is different to the input size (torch.Size([32])). This will likely lead to incorrect results due to broadcasting. Please ensure they have the same size.\n",
      "  return F.mse_loss(input, target, reduction=self.reduction)\n",
      "Epoch 38 Val:  83%|████████▎ | 60/72 [00:00<00:00, 117.21it/s]/home/stepan/Private/bearing_rul/lib/python3.10/site-packages/torch/nn/modules/loss.py:610: UserWarning: Using a target size (torch.Size([4, 1])) that is different to the input size (torch.Size([4])). This will likely lead to incorrect results due to broadcasting. Please ensure they have the same size.\n",
      "  return F.mse_loss(input, target, reduction=self.reduction)\n",
      "Epoch 38 Val: 100%|██████████| 72/72 [00:00<00:00, 117.21it/s]\n"
     ]
    },
    {
     "name": "stdout",
     "output_type": "stream",
     "text": [
      "Epoch 38: Val Loss 0.3391, Val R2 = -3.375, Val RMSE = 0.586, Val MSE = 0.343, Val MAE = 0.520\n"
     ]
    },
    {
     "name": "stderr",
     "output_type": "stream",
     "text": [
      "  0%|          | 0/176 [00:00<?, ?it/s]/home/stepan/Private/bearing_rul/lib/python3.10/site-packages/torch/nn/modules/loss.py:610: UserWarning: Using a target size (torch.Size([32, 1])) that is different to the input size (torch.Size([32])). This will likely lead to incorrect results due to broadcasting. Please ensure they have the same size.\n",
      "  return F.mse_loss(input, target, reduction=self.reduction)\n",
      " 99%|█████████▉| 174/176 [00:07<00:00, 14.33it/s]/home/stepan/Private/bearing_rul/lib/python3.10/site-packages/torch/nn/modules/loss.py:610: UserWarning: Using a target size (torch.Size([4, 1])) that is different to the input size (torch.Size([4])). This will likely lead to incorrect results due to broadcasting. Please ensure they have the same size.\n",
      "  return F.mse_loss(input, target, reduction=self.reduction)\n",
      "100%|██████████| 176/176 [00:07<00:00, 22.98it/s]\n"
     ]
    },
    {
     "name": "stdout",
     "output_type": "stream",
     "text": [
      "Epoch 39: Train Loss 0.0170, Train R2 = 0.795, Train RMSE = 0.131, Train MSE = 0.017, Train MAE = 0.084\n"
     ]
    },
    {
     "name": "stderr",
     "output_type": "stream",
     "text": [
      "Epoch 39 Val:   0%|          | 0/72 [00:00<?, ?it/s]/home/stepan/Private/bearing_rul/lib/python3.10/site-packages/torch/nn/modules/loss.py:610: UserWarning: Using a target size (torch.Size([32, 1])) that is different to the input size (torch.Size([32])). This will likely lead to incorrect results due to broadcasting. Please ensure they have the same size.\n",
      "  return F.mse_loss(input, target, reduction=self.reduction)\n",
      "Epoch 39 Val:  83%|████████▎ | 60/72 [00:00<00:00, 148.15it/s]/home/stepan/Private/bearing_rul/lib/python3.10/site-packages/torch/nn/modules/loss.py:610: UserWarning: Using a target size (torch.Size([4, 1])) that is different to the input size (torch.Size([4])). This will likely lead to incorrect results due to broadcasting. Please ensure they have the same size.\n",
      "  return F.mse_loss(input, target, reduction=self.reduction)\n",
      "Epoch 39 Val: 100%|██████████| 72/72 [00:00<00:00, 145.27it/s]\n"
     ]
    },
    {
     "name": "stdout",
     "output_type": "stream",
     "text": [
      "Epoch 39: Val Loss 0.0767, Val R2 = 0.011, Val RMSE = 0.279, Val MSE = 0.078, Val MAE = 0.238\n"
     ]
    },
    {
     "name": "stderr",
     "output_type": "stream",
     "text": [
      "  0%|          | 0/176 [00:00<?, ?it/s]/home/stepan/Private/bearing_rul/lib/python3.10/site-packages/torch/nn/modules/loss.py:610: UserWarning: Using a target size (torch.Size([32, 1])) that is different to the input size (torch.Size([32])). This will likely lead to incorrect results due to broadcasting. Please ensure they have the same size.\n",
      "  return F.mse_loss(input, target, reduction=self.reduction)\n",
      " 98%|█████████▊| 173/176 [00:08<00:00, 22.23it/s]/home/stepan/Private/bearing_rul/lib/python3.10/site-packages/torch/nn/modules/loss.py:610: UserWarning: Using a target size (torch.Size([4, 1])) that is different to the input size (torch.Size([4])). This will likely lead to incorrect results due to broadcasting. Please ensure they have the same size.\n",
      "  return F.mse_loss(input, target, reduction=self.reduction)\n",
      "100%|██████████| 176/176 [00:08<00:00, 21.16it/s]\n"
     ]
    },
    {
     "name": "stdout",
     "output_type": "stream",
     "text": [
      "Epoch 40: Train Loss 0.0126, Train R2 = 0.850, Train RMSE = 0.112, Train MSE = 0.013, Train MAE = 0.082\n"
     ]
    },
    {
     "name": "stderr",
     "output_type": "stream",
     "text": [
      "Epoch 40 Val:   0%|          | 0/72 [00:00<?, ?it/s]/home/stepan/Private/bearing_rul/lib/python3.10/site-packages/torch/nn/modules/loss.py:610: UserWarning: Using a target size (torch.Size([32, 1])) that is different to the input size (torch.Size([32])). This will likely lead to incorrect results due to broadcasting. Please ensure they have the same size.\n",
      "  return F.mse_loss(input, target, reduction=self.reduction)\n",
      "Epoch 40 Val:  83%|████████▎ | 60/72 [00:00<00:00, 116.09it/s]/home/stepan/Private/bearing_rul/lib/python3.10/site-packages/torch/nn/modules/loss.py:610: UserWarning: Using a target size (torch.Size([4, 1])) that is different to the input size (torch.Size([4])). This will likely lead to incorrect results due to broadcasting. Please ensure they have the same size.\n",
      "  return F.mse_loss(input, target, reduction=self.reduction)\n",
      "Epoch 40 Val: 100%|██████████| 72/72 [00:00<00:00, 116.81it/s]\n"
     ]
    },
    {
     "name": "stdout",
     "output_type": "stream",
     "text": [
      "Epoch 40: Val Loss 0.1831, Val R2 = -1.363, Val RMSE = 0.431, Val MSE = 0.185, Val MAE = 0.359\n"
     ]
    },
    {
     "name": "stderr",
     "output_type": "stream",
     "text": [
      "  0%|          | 0/176 [00:00<?, ?it/s]/home/stepan/Private/bearing_rul/lib/python3.10/site-packages/torch/nn/modules/loss.py:610: UserWarning: Using a target size (torch.Size([32, 1])) that is different to the input size (torch.Size([32])). This will likely lead to incorrect results due to broadcasting. Please ensure they have the same size.\n",
      "  return F.mse_loss(input, target, reduction=self.reduction)\n",
      " 99%|█████████▉| 174/176 [00:07<00:00, 22.40it/s]/home/stepan/Private/bearing_rul/lib/python3.10/site-packages/torch/nn/modules/loss.py:610: UserWarning: Using a target size (torch.Size([4, 1])) that is different to the input size (torch.Size([4])). This will likely lead to incorrect results due to broadcasting. Please ensure they have the same size.\n",
      "  return F.mse_loss(input, target, reduction=self.reduction)\n",
      "100%|██████████| 176/176 [00:07<00:00, 22.53it/s]\n"
     ]
    },
    {
     "name": "stdout",
     "output_type": "stream",
     "text": [
      "Epoch 41: Train Loss 0.0260, Train R2 = 0.687, Train RMSE = 0.162, Train MSE = 0.026, Train MAE = 0.093\n"
     ]
    },
    {
     "name": "stderr",
     "output_type": "stream",
     "text": [
      "Epoch 41 Val:   0%|          | 0/72 [00:00<?, ?it/s]/home/stepan/Private/bearing_rul/lib/python3.10/site-packages/torch/nn/modules/loss.py:610: UserWarning: Using a target size (torch.Size([32, 1])) that is different to the input size (torch.Size([32])). This will likely lead to incorrect results due to broadcasting. Please ensure they have the same size.\n",
      "  return F.mse_loss(input, target, reduction=self.reduction)\n",
      "Epoch 41 Val:  82%|████████▏ | 59/72 [00:00<00:00, 108.44it/s]/home/stepan/Private/bearing_rul/lib/python3.10/site-packages/torch/nn/modules/loss.py:610: UserWarning: Using a target size (torch.Size([4, 1])) that is different to the input size (torch.Size([4])). This will likely lead to incorrect results due to broadcasting. Please ensure they have the same size.\n",
      "  return F.mse_loss(input, target, reduction=self.reduction)\n",
      "Epoch 41 Val: 100%|██████████| 72/72 [00:00<00:00, 112.74it/s]\n"
     ]
    },
    {
     "name": "stdout",
     "output_type": "stream",
     "text": [
      "Epoch 41: Val Loss 0.2856, Val R2 = -2.680, Val RMSE = 0.537, Val MSE = 0.289, Val MAE = 0.489\n"
     ]
    },
    {
     "name": "stderr",
     "output_type": "stream",
     "text": [
      "  0%|          | 0/176 [00:00<?, ?it/s]/home/stepan/Private/bearing_rul/lib/python3.10/site-packages/torch/nn/modules/loss.py:610: UserWarning: Using a target size (torch.Size([32, 1])) that is different to the input size (torch.Size([32])). This will likely lead to incorrect results due to broadcasting. Please ensure they have the same size.\n",
      "  return F.mse_loss(input, target, reduction=self.reduction)\n",
      " 99%|█████████▉| 174/176 [00:07<00:00, 22.45it/s]/home/stepan/Private/bearing_rul/lib/python3.10/site-packages/torch/nn/modules/loss.py:610: UserWarning: Using a target size (torch.Size([4, 1])) that is different to the input size (torch.Size([4])). This will likely lead to incorrect results due to broadcasting. Please ensure they have the same size.\n",
      "  return F.mse_loss(input, target, reduction=self.reduction)\n",
      "100%|██████████| 176/176 [00:07<00:00, 22.49it/s]\n"
     ]
    },
    {
     "name": "stdout",
     "output_type": "stream",
     "text": [
      "Epoch 42: Train Loss 0.0129, Train R2 = 0.845, Train RMSE = 0.114, Train MSE = 0.013, Train MAE = 0.076\n"
     ]
    },
    {
     "name": "stderr",
     "output_type": "stream",
     "text": [
      "Epoch 42 Val:   0%|          | 0/72 [00:00<?, ?it/s]/home/stepan/Private/bearing_rul/lib/python3.10/site-packages/torch/nn/modules/loss.py:610: UserWarning: Using a target size (torch.Size([32, 1])) that is different to the input size (torch.Size([32])). This will likely lead to incorrect results due to broadcasting. Please ensure they have the same size.\n",
      "  return F.mse_loss(input, target, reduction=self.reduction)\n",
      "Epoch 42 Val:  83%|████████▎ | 60/72 [00:00<00:00, 115.83it/s]/home/stepan/Private/bearing_rul/lib/python3.10/site-packages/torch/nn/modules/loss.py:610: UserWarning: Using a target size (torch.Size([4, 1])) that is different to the input size (torch.Size([4])). This will likely lead to incorrect results due to broadcasting. Please ensure they have the same size.\n",
      "  return F.mse_loss(input, target, reduction=self.reduction)\n",
      "Epoch 42 Val: 100%|██████████| 72/72 [00:00<00:00, 115.78it/s]\n"
     ]
    },
    {
     "name": "stdout",
     "output_type": "stream",
     "text": [
      "Epoch 42: Val Loss 0.1015, Val R2 = -0.308, Val RMSE = 0.320, Val MSE = 0.103, Val MAE = 0.263\n"
     ]
    },
    {
     "name": "stderr",
     "output_type": "stream",
     "text": [
      "  0%|          | 0/176 [00:00<?, ?it/s]/home/stepan/Private/bearing_rul/lib/python3.10/site-packages/torch/nn/modules/loss.py:610: UserWarning: Using a target size (torch.Size([32, 1])) that is different to the input size (torch.Size([32])). This will likely lead to incorrect results due to broadcasting. Please ensure they have the same size.\n",
      "  return F.mse_loss(input, target, reduction=self.reduction)\n",
      " 99%|█████████▉| 174/176 [00:07<00:00, 22.72it/s]/home/stepan/Private/bearing_rul/lib/python3.10/site-packages/torch/nn/modules/loss.py:610: UserWarning: Using a target size (torch.Size([4, 1])) that is different to the input size (torch.Size([4])). This will likely lead to incorrect results due to broadcasting. Please ensure they have the same size.\n",
      "  return F.mse_loss(input, target, reduction=self.reduction)\n",
      "100%|██████████| 176/176 [00:07<00:00, 22.35it/s]\n"
     ]
    },
    {
     "name": "stdout",
     "output_type": "stream",
     "text": [
      "Epoch 43: Train Loss 0.0191, Train R2 = 0.770, Train RMSE = 0.138, Train MSE = 0.019, Train MAE = 0.102\n"
     ]
    },
    {
     "name": "stderr",
     "output_type": "stream",
     "text": [
      "Epoch 43 Val:   0%|          | 0/72 [00:00<?, ?it/s]/home/stepan/Private/bearing_rul/lib/python3.10/site-packages/torch/nn/modules/loss.py:610: UserWarning: Using a target size (torch.Size([32, 1])) that is different to the input size (torch.Size([32])). This will likely lead to incorrect results due to broadcasting. Please ensure they have the same size.\n",
      "  return F.mse_loss(input, target, reduction=self.reduction)\n",
      "Epoch 43 Val:  89%|████████▉ | 64/72 [00:00<00:00, 119.75it/s]/home/stepan/Private/bearing_rul/lib/python3.10/site-packages/torch/nn/modules/loss.py:610: UserWarning: Using a target size (torch.Size([4, 1])) that is different to the input size (torch.Size([4])). This will likely lead to incorrect results due to broadcasting. Please ensure they have the same size.\n",
      "  return F.mse_loss(input, target, reduction=self.reduction)\n",
      "Epoch 43 Val: 100%|██████████| 72/72 [00:00<00:00, 119.74it/s]\n"
     ]
    },
    {
     "name": "stdout",
     "output_type": "stream",
     "text": [
      "Epoch 43: Val Loss 0.2833, Val R2 = -2.654, Val RMSE = 0.535, Val MSE = 0.287, Val MAE = 0.460\n"
     ]
    },
    {
     "name": "stderr",
     "output_type": "stream",
     "text": [
      "  0%|          | 0/176 [00:00<?, ?it/s]/home/stepan/Private/bearing_rul/lib/python3.10/site-packages/torch/nn/modules/loss.py:610: UserWarning: Using a target size (torch.Size([32, 1])) that is different to the input size (torch.Size([32])). This will likely lead to incorrect results due to broadcasting. Please ensure they have the same size.\n",
      "  return F.mse_loss(input, target, reduction=self.reduction)\n",
      " 99%|█████████▉| 174/176 [00:07<00:00, 22.37it/s]/home/stepan/Private/bearing_rul/lib/python3.10/site-packages/torch/nn/modules/loss.py:610: UserWarning: Using a target size (torch.Size([4, 1])) that is different to the input size (torch.Size([4])). This will likely lead to incorrect results due to broadcasting. Please ensure they have the same size.\n",
      "  return F.mse_loss(input, target, reduction=self.reduction)\n",
      "100%|██████████| 176/176 [00:07<00:00, 22.45it/s]\n"
     ]
    },
    {
     "name": "stdout",
     "output_type": "stream",
     "text": [
      "Epoch 44: Train Loss 0.0419, Train R2 = 0.495, Train RMSE = 0.205, Train MSE = 0.042, Train MAE = 0.123\n"
     ]
    },
    {
     "name": "stderr",
     "output_type": "stream",
     "text": [
      "Epoch 44 Val:   0%|          | 0/72 [00:00<?, ?it/s]/home/stepan/Private/bearing_rul/lib/python3.10/site-packages/torch/nn/modules/loss.py:610: UserWarning: Using a target size (torch.Size([32, 1])) that is different to the input size (torch.Size([32])). This will likely lead to incorrect results due to broadcasting. Please ensure they have the same size.\n",
      "  return F.mse_loss(input, target, reduction=self.reduction)\n",
      "Epoch 44 Val:  83%|████████▎ | 60/72 [00:00<00:00, 117.22it/s]/home/stepan/Private/bearing_rul/lib/python3.10/site-packages/torch/nn/modules/loss.py:610: UserWarning: Using a target size (torch.Size([4, 1])) that is different to the input size (torch.Size([4])). This will likely lead to incorrect results due to broadcasting. Please ensure they have the same size.\n",
      "  return F.mse_loss(input, target, reduction=self.reduction)\n",
      "Epoch 44 Val: 100%|██████████| 72/72 [00:00<00:00, 117.71it/s]\n"
     ]
    },
    {
     "name": "stdout",
     "output_type": "stream",
     "text": [
      "Epoch 44: Val Loss 0.1145, Val R2 = -0.474, Val RMSE = 0.340, Val MSE = 0.116, Val MAE = 0.279\n"
     ]
    },
    {
     "name": "stderr",
     "output_type": "stream",
     "text": [
      "  0%|          | 0/176 [00:00<?, ?it/s]/home/stepan/Private/bearing_rul/lib/python3.10/site-packages/torch/nn/modules/loss.py:610: UserWarning: Using a target size (torch.Size([32, 1])) that is different to the input size (torch.Size([32])). This will likely lead to incorrect results due to broadcasting. Please ensure they have the same size.\n",
      "  return F.mse_loss(input, target, reduction=self.reduction)\n",
      " 99%|█████████▉| 174/176 [00:07<00:00, 22.64it/s]/home/stepan/Private/bearing_rul/lib/python3.10/site-packages/torch/nn/modules/loss.py:610: UserWarning: Using a target size (torch.Size([4, 1])) that is different to the input size (torch.Size([4])). This will likely lead to incorrect results due to broadcasting. Please ensure they have the same size.\n",
      "  return F.mse_loss(input, target, reduction=self.reduction)\n",
      "100%|██████████| 176/176 [00:07<00:00, 22.33it/s]\n"
     ]
    },
    {
     "name": "stdout",
     "output_type": "stream",
     "text": [
      "Epoch 45: Train Loss 0.0265, Train R2 = 0.681, Train RMSE = 0.163, Train MSE = 0.027, Train MAE = 0.104\n"
     ]
    },
    {
     "name": "stderr",
     "output_type": "stream",
     "text": [
      "Epoch 45 Val:   0%|          | 0/72 [00:00<?, ?it/s]/home/stepan/Private/bearing_rul/lib/python3.10/site-packages/torch/nn/modules/loss.py:610: UserWarning: Using a target size (torch.Size([32, 1])) that is different to the input size (torch.Size([32])). This will likely lead to incorrect results due to broadcasting. Please ensure they have the same size.\n",
      "  return F.mse_loss(input, target, reduction=self.reduction)\n",
      "Epoch 45 Val:  83%|████████▎ | 60/72 [00:00<00:00, 118.09it/s]/home/stepan/Private/bearing_rul/lib/python3.10/site-packages/torch/nn/modules/loss.py:610: UserWarning: Using a target size (torch.Size([4, 1])) that is different to the input size (torch.Size([4])). This will likely lead to incorrect results due to broadcasting. Please ensure they have the same size.\n",
      "  return F.mse_loss(input, target, reduction=self.reduction)\n",
      "Epoch 45 Val: 100%|██████████| 72/72 [00:00<00:00, 118.10it/s]\n"
     ]
    },
    {
     "name": "stdout",
     "output_type": "stream",
     "text": [
      "Epoch 45: Val Loss 0.0739, Val R2 = 0.049, Val RMSE = 0.273, Val MSE = 0.075, Val MAE = 0.235\n"
     ]
    },
    {
     "name": "stderr",
     "output_type": "stream",
     "text": [
      "  0%|          | 0/176 [00:00<?, ?it/s]/home/stepan/Private/bearing_rul/lib/python3.10/site-packages/torch/nn/modules/loss.py:610: UserWarning: Using a target size (torch.Size([32, 1])) that is different to the input size (torch.Size([32])). This will likely lead to incorrect results due to broadcasting. Please ensure they have the same size.\n",
      "  return F.mse_loss(input, target, reduction=self.reduction)\n",
      " 99%|█████████▉| 174/176 [00:07<00:00, 22.29it/s]/home/stepan/Private/bearing_rul/lib/python3.10/site-packages/torch/nn/modules/loss.py:610: UserWarning: Using a target size (torch.Size([4, 1])) that is different to the input size (torch.Size([4])). This will likely lead to incorrect results due to broadcasting. Please ensure they have the same size.\n",
      "  return F.mse_loss(input, target, reduction=self.reduction)\n",
      "100%|██████████| 176/176 [00:07<00:00, 22.51it/s]\n"
     ]
    },
    {
     "name": "stdout",
     "output_type": "stream",
     "text": [
      "Epoch 46: Train Loss 0.0194, Train R2 = 0.767, Train RMSE = 0.139, Train MSE = 0.019, Train MAE = 0.086\n"
     ]
    },
    {
     "name": "stderr",
     "output_type": "stream",
     "text": [
      "Epoch 46 Val:   0%|          | 0/72 [00:00<?, ?it/s]/home/stepan/Private/bearing_rul/lib/python3.10/site-packages/torch/nn/modules/loss.py:610: UserWarning: Using a target size (torch.Size([32, 1])) that is different to the input size (torch.Size([32])). This will likely lead to incorrect results due to broadcasting. Please ensure they have the same size.\n",
      "  return F.mse_loss(input, target, reduction=self.reduction)\n",
      "Epoch 46 Val:  99%|█████████▊| 71/72 [00:00<00:00, 112.20it/s]/home/stepan/Private/bearing_rul/lib/python3.10/site-packages/torch/nn/modules/loss.py:610: UserWarning: Using a target size (torch.Size([4, 1])) that is different to the input size (torch.Size([4])). This will likely lead to incorrect results due to broadcasting. Please ensure they have the same size.\n",
      "  return F.mse_loss(input, target, reduction=self.reduction)\n",
      "Epoch 46 Val: 100%|██████████| 72/72 [00:00<00:00, 113.11it/s]\n"
     ]
    },
    {
     "name": "stdout",
     "output_type": "stream",
     "text": [
      "Epoch 46: Val Loss 0.5129, Val R2 = -5.569, Val RMSE = 0.718, Val MSE = 0.515, Val MAE = 0.667\n"
     ]
    },
    {
     "name": "stderr",
     "output_type": "stream",
     "text": [
      "  0%|          | 0/176 [00:00<?, ?it/s]/home/stepan/Private/bearing_rul/lib/python3.10/site-packages/torch/nn/modules/loss.py:610: UserWarning: Using a target size (torch.Size([32, 1])) that is different to the input size (torch.Size([32])). This will likely lead to incorrect results due to broadcasting. Please ensure they have the same size.\n",
      "  return F.mse_loss(input, target, reduction=self.reduction)\n",
      " 99%|█████████▉| 174/176 [00:08<00:00, 20.98it/s]/home/stepan/Private/bearing_rul/lib/python3.10/site-packages/torch/nn/modules/loss.py:610: UserWarning: Using a target size (torch.Size([4, 1])) that is different to the input size (torch.Size([4])). This will likely lead to incorrect results due to broadcasting. Please ensure they have the same size.\n",
      "  return F.mse_loss(input, target, reduction=self.reduction)\n",
      "100%|██████████| 176/176 [00:08<00:00, 20.87it/s]\n"
     ]
    },
    {
     "name": "stdout",
     "output_type": "stream",
     "text": [
      "Epoch 47: Train Loss 0.0089, Train R2 = 0.893, Train RMSE = 0.094, Train MSE = 0.009, Train MAE = 0.066\n"
     ]
    },
    {
     "name": "stderr",
     "output_type": "stream",
     "text": [
      "Epoch 47 Val:   0%|          | 0/72 [00:00<?, ?it/s]/home/stepan/Private/bearing_rul/lib/python3.10/site-packages/torch/nn/modules/loss.py:610: UserWarning: Using a target size (torch.Size([32, 1])) that is different to the input size (torch.Size([32])). This will likely lead to incorrect results due to broadcasting. Please ensure they have the same size.\n",
      "  return F.mse_loss(input, target, reduction=self.reduction)\n",
      "Epoch 47 Val:  99%|█████████▊| 71/72 [00:00<00:00, 111.17it/s]/home/stepan/Private/bearing_rul/lib/python3.10/site-packages/torch/nn/modules/loss.py:610: UserWarning: Using a target size (torch.Size([4, 1])) that is different to the input size (torch.Size([4])). This will likely lead to incorrect results due to broadcasting. Please ensure they have the same size.\n",
      "  return F.mse_loss(input, target, reduction=self.reduction)\n",
      "Epoch 47 Val: 100%|██████████| 72/72 [00:00<00:00, 111.41it/s]\n"
     ]
    },
    {
     "name": "stdout",
     "output_type": "stream",
     "text": [
      "Epoch 47: Val Loss 0.0748, Val R2 = 0.038, Val RMSE = 0.275, Val MSE = 0.075, Val MAE = 0.234\n"
     ]
    },
    {
     "name": "stderr",
     "output_type": "stream",
     "text": [
      "  0%|          | 0/176 [00:00<?, ?it/s]/home/stepan/Private/bearing_rul/lib/python3.10/site-packages/torch/nn/modules/loss.py:610: UserWarning: Using a target size (torch.Size([32, 1])) that is different to the input size (torch.Size([32])). This will likely lead to incorrect results due to broadcasting. Please ensure they have the same size.\n",
      "  return F.mse_loss(input, target, reduction=self.reduction)\n",
      " 99%|█████████▉| 174/176 [00:08<00:00, 20.94it/s]/home/stepan/Private/bearing_rul/lib/python3.10/site-packages/torch/nn/modules/loss.py:610: UserWarning: Using a target size (torch.Size([4, 1])) that is different to the input size (torch.Size([4])). This will likely lead to incorrect results due to broadcasting. Please ensure they have the same size.\n",
      "  return F.mse_loss(input, target, reduction=self.reduction)\n",
      "100%|██████████| 176/176 [00:08<00:00, 20.79it/s]\n"
     ]
    },
    {
     "name": "stdout",
     "output_type": "stream",
     "text": [
      "Epoch 48: Train Loss 0.0116, Train R2 = 0.861, Train RMSE = 0.108, Train MSE = 0.012, Train MAE = 0.072\n"
     ]
    },
    {
     "name": "stderr",
     "output_type": "stream",
     "text": [
      "Epoch 48 Val:   0%|          | 0/72 [00:00<?, ?it/s]/home/stepan/Private/bearing_rul/lib/python3.10/site-packages/torch/nn/modules/loss.py:610: UserWarning: Using a target size (torch.Size([32, 1])) that is different to the input size (torch.Size([32])). This will likely lead to incorrect results due to broadcasting. Please ensure they have the same size.\n",
      "  return F.mse_loss(input, target, reduction=self.reduction)\n",
      "Epoch 48 Val:  96%|█████████▌| 69/72 [00:00<00:00, 109.94it/s]/home/stepan/Private/bearing_rul/lib/python3.10/site-packages/torch/nn/modules/loss.py:610: UserWarning: Using a target size (torch.Size([4, 1])) that is different to the input size (torch.Size([4])). This will likely lead to incorrect results due to broadcasting. Please ensure they have the same size.\n",
      "  return F.mse_loss(input, target, reduction=self.reduction)\n",
      "Epoch 48 Val: 100%|██████████| 72/72 [00:00<00:00, 109.84it/s]\n"
     ]
    },
    {
     "name": "stdout",
     "output_type": "stream",
     "text": [
      "Epoch 48: Val Loss 0.1022, Val R2 = -0.317, Val RMSE = 0.321, Val MSE = 0.103, Val MAE = 0.268\n"
     ]
    },
    {
     "name": "stderr",
     "output_type": "stream",
     "text": [
      "  0%|          | 0/176 [00:00<?, ?it/s]/home/stepan/Private/bearing_rul/lib/python3.10/site-packages/torch/nn/modules/loss.py:610: UserWarning: Using a target size (torch.Size([32, 1])) that is different to the input size (torch.Size([32])). This will likely lead to incorrect results due to broadcasting. Please ensure they have the same size.\n",
      "  return F.mse_loss(input, target, reduction=self.reduction)\n",
      " 99%|█████████▉| 174/176 [00:10<00:00, 17.72it/s]/home/stepan/Private/bearing_rul/lib/python3.10/site-packages/torch/nn/modules/loss.py:610: UserWarning: Using a target size (torch.Size([4, 1])) that is different to the input size (torch.Size([4])). This will likely lead to incorrect results due to broadcasting. Please ensure they have the same size.\n",
      "  return F.mse_loss(input, target, reduction=self.reduction)\n",
      "100%|██████████| 176/176 [00:10<00:00, 17.38it/s]\n"
     ]
    },
    {
     "name": "stdout",
     "output_type": "stream",
     "text": [
      "Epoch 49: Train Loss 0.0089, Train R2 = 0.893, Train RMSE = 0.095, Train MSE = 0.009, Train MAE = 0.071\n"
     ]
    },
    {
     "name": "stderr",
     "output_type": "stream",
     "text": [
      "Epoch 49 Val:   0%|          | 0/72 [00:00<?, ?it/s]/home/stepan/Private/bearing_rul/lib/python3.10/site-packages/torch/nn/modules/loss.py:610: UserWarning: Using a target size (torch.Size([32, 1])) that is different to the input size (torch.Size([32])). This will likely lead to incorrect results due to broadcasting. Please ensure they have the same size.\n",
      "  return F.mse_loss(input, target, reduction=self.reduction)\n",
      "Epoch 49 Val:  86%|████████▌ | 62/72 [00:00<00:00, 124.51it/s]/home/stepan/Private/bearing_rul/lib/python3.10/site-packages/torch/nn/modules/loss.py:610: UserWarning: Using a target size (torch.Size([4, 1])) that is different to the input size (torch.Size([4])). This will likely lead to incorrect results due to broadcasting. Please ensure they have the same size.\n",
      "  return F.mse_loss(input, target, reduction=self.reduction)\n",
      "Epoch 49 Val: 100%|██████████| 72/72 [00:00<00:00, 122.78it/s]\n"
     ]
    },
    {
     "name": "stdout",
     "output_type": "stream",
     "text": [
      "Epoch 49: Val Loss 0.2261, Val R2 = -1.912, Val RMSE = 0.478, Val MSE = 0.229, Val MAE = 0.409\n"
     ]
    },
    {
     "name": "stderr",
     "output_type": "stream",
     "text": [
      "  0%|          | 0/176 [00:00<?, ?it/s]/home/stepan/Private/bearing_rul/lib/python3.10/site-packages/torch/nn/modules/loss.py:610: UserWarning: Using a target size (torch.Size([32, 1])) that is different to the input size (torch.Size([32])). This will likely lead to incorrect results due to broadcasting. Please ensure they have the same size.\n",
      "  return F.mse_loss(input, target, reduction=self.reduction)\n",
      " 99%|█████████▉| 174/176 [00:08<00:00, 20.51it/s]/home/stepan/Private/bearing_rul/lib/python3.10/site-packages/torch/nn/modules/loss.py:610: UserWarning: Using a target size (torch.Size([4, 1])) that is different to the input size (torch.Size([4])). This will likely lead to incorrect results due to broadcasting. Please ensure they have the same size.\n",
      "  return F.mse_loss(input, target, reduction=self.reduction)\n",
      "100%|██████████| 176/176 [00:08<00:00, 20.00it/s]\n"
     ]
    },
    {
     "name": "stdout",
     "output_type": "stream",
     "text": [
      "Epoch 50: Train Loss 0.0112, Train R2 = 0.865, Train RMSE = 0.106, Train MSE = 0.011, Train MAE = 0.069\n"
     ]
    },
    {
     "name": "stderr",
     "output_type": "stream",
     "text": [
      "Epoch 50 Val:   0%|          | 0/72 [00:00<?, ?it/s]/home/stepan/Private/bearing_rul/lib/python3.10/site-packages/torch/nn/modules/loss.py:610: UserWarning: Using a target size (torch.Size([32, 1])) that is different to the input size (torch.Size([32])). This will likely lead to incorrect results due to broadcasting. Please ensure they have the same size.\n",
      "  return F.mse_loss(input, target, reduction=self.reduction)\n",
      "Epoch 50 Val:  93%|█████████▎| 67/72 [00:00<00:00, 109.35it/s]/home/stepan/Private/bearing_rul/lib/python3.10/site-packages/torch/nn/modules/loss.py:610: UserWarning: Using a target size (torch.Size([4, 1])) that is different to the input size (torch.Size([4])). This will likely lead to incorrect results due to broadcasting. Please ensure they have the same size.\n",
      "  return F.mse_loss(input, target, reduction=self.reduction)\n",
      "Epoch 50 Val: 100%|██████████| 72/72 [00:00<00:00, 109.25it/s]"
     ]
    },
    {
     "name": "stdout",
     "output_type": "stream",
     "text": [
      "Epoch 50: Val Loss 0.1246, Val R2 = -0.605, Val RMSE = 0.355, Val MSE = 0.126, Val MAE = 0.294\n"
     ]
    },
    {
     "name": "stderr",
     "output_type": "stream",
     "text": [
      "\n"
     ]
    },
    {
     "data": {
      "text/plain": [
       "{'train_loss': [0.02890267088283012,\n",
       "  0.03412676771238859,\n",
       "  0.03751070831375811,\n",
       "  0.039857871266245966,\n",
       "  0.04128613089613447,\n",
       "  0.04335211557785938,\n",
       "  0.04567736629343761,\n",
       "  0.045706097486386585,\n",
       "  0.04784899538340555,\n",
       "  0.053005078679151746,\n",
       "  0.05069474337109237,\n",
       "  0.055435781496767464,\n",
       "  0.05258296243184966,\n",
       "  0.06035631263644477,\n",
       "  0.053276968299707565,\n",
       "  0.052030910225849686,\n",
       "  0.05769889156429351,\n",
       "  0.04712076310467885,\n",
       "  0.029190267277458173,\n",
       "  0.07301482948770915,\n",
       "  0.061883900008979253,\n",
       "  0.0592008254514605,\n",
       "  0.04891218676692171,\n",
       "  0.05573992714926135,\n",
       "  0.05834609470779965,\n",
       "  0.05217320772565224,\n",
       "  0.07595207596287681,\n",
       "  0.08739054731598696,\n",
       "  0.07349647328506266,\n",
       "  0.05826332457614957,\n",
       "  0.0676832546239232,\n",
       "  0.07022533991138599,\n",
       "  0.07653442018437834,\n",
       "  0.048561400261612354,\n",
       "  0.03797597691564905,\n",
       "  0.025092944768733683,\n",
       "  0.02647640740840209,\n",
       "  0.014775259981185875,\n",
       "  0.01698739385359328,\n",
       "  0.01263341493441575,\n",
       "  0.026020708095695063,\n",
       "  0.012857633368350269,\n",
       "  0.019076183485925536,\n",
       "  0.041880979366727515,\n",
       "  0.0264702116784809,\n",
       "  0.019409380803567314,\n",
       "  0.008878934132967102,\n",
       "  0.011568823089460651,\n",
       "  0.008921945168615573,\n",
       "  0.011249879696565173],\n",
       " 'train_r2': [0.6512813298624198,\n",
       "  0.5882883198043203,\n",
       "  0.5474327712783076,\n",
       "  0.5190435185673583,\n",
       "  0.5018350500917705,\n",
       "  0.4772140243311148,\n",
       "  0.44892433937892495,\n",
       "  0.4486278510726267,\n",
       "  0.4226268056059449,\n",
       "  0.36110430933458015,\n",
       "  0.3887606638490776,\n",
       "  0.33135383076505054,\n",
       "  0.36651718251905896,\n",
       "  0.2727507131093361,\n",
       "  0.3574098732357496,\n",
       "  0.37279627854795816,\n",
       "  0.30377097146540544,\n",
       "  0.4316117957644088,\n",
       "  0.6492564957207891,\n",
       "  0.11914701089725255,\n",
       "  0.25457645887107927,\n",
       "  0.2861770661727293,\n",
       "  0.41000489555354525,\n",
       "  0.32788924987012147,\n",
       "  0.2971366269854172,\n",
       "  0.3715257256839245,\n",
       "  0.08376184806625087,\n",
       "  -0.05066581305109086,\n",
       "  0.11458402423331193,\n",
       "  0.29852464336877804,\n",
       "  0.184286892824312,\n",
       "  0.15657141957156295,\n",
       "  0.07738451949613168,\n",
       "  0.414644056984382,\n",
       "  0.5419174222943934,\n",
       "  0.6975880264996968,\n",
       "  0.6807457855724213,\n",
       "  0.8221001608832688,\n",
       "  0.7952616612931145,\n",
       "  0.8498025830115264,\n",
       "  0.6866055399588725,\n",
       "  0.8449124102196691,\n",
       "  0.7703287577189893,\n",
       "  0.4953475219120619,\n",
       "  0.6809737594686585,\n",
       "  0.7669796207303529,\n",
       "  0.8934956742296947,\n",
       "  0.860518126698782,\n",
       "  0.8927039968442657,\n",
       "  0.8645563019119699],\n",
       " 'train_mae': [0.0975055,\n",
       "  0.0996052,\n",
       "  0.104203716,\n",
       "  0.108119376,\n",
       "  0.110727444,\n",
       "  0.11336387,\n",
       "  0.11610458,\n",
       "  0.11710309,\n",
       "  0.12158739,\n",
       "  0.12916493,\n",
       "  0.13080269,\n",
       "  0.13716291,\n",
       "  0.1384422,\n",
       "  0.14822567,\n",
       "  0.13772124,\n",
       "  0.14081076,\n",
       "  0.14609313,\n",
       "  0.12320314,\n",
       "  0.11514195,\n",
       "  0.16707928,\n",
       "  0.15289252,\n",
       "  0.15118745,\n",
       "  0.14738552,\n",
       "  0.16013259,\n",
       "  0.1541362,\n",
       "  0.15592982,\n",
       "  0.20528942,\n",
       "  0.22685498,\n",
       "  0.19556193,\n",
       "  0.18462028,\n",
       "  0.18802121,\n",
       "  0.2109332,\n",
       "  0.20893405,\n",
       "  0.15426649,\n",
       "  0.12919393,\n",
       "  0.11120457,\n",
       "  0.10039833,\n",
       "  0.084598824,\n",
       "  0.083875656,\n",
       "  0.0816311,\n",
       "  0.09252591,\n",
       "  0.07621814,\n",
       "  0.10182298,\n",
       "  0.122575216,\n",
       "  0.104045056,\n",
       "  0.08577154,\n",
       "  0.06636708,\n",
       "  0.07214304,\n",
       "  0.07123516,\n",
       "  0.06939536],\n",
       " 'train_mse': [0.02904123,\n",
       "  0.034287274,\n",
       "  0.03768972,\n",
       "  0.04005397,\n",
       "  0.041487094,\n",
       "  0.043537524,\n",
       "  0.045893487,\n",
       "  0.045918174,\n",
       "  0.048083536,\n",
       "  0.053207118,\n",
       "  0.050903898,\n",
       "  0.05568474,\n",
       "  0.052756336,\n",
       "  0.060565196,\n",
       "  0.053514794,\n",
       "  0.052233417,\n",
       "  0.05798183,\n",
       "  0.047335267,\n",
       "  0.029209856,\n",
       "  0.073357284,\n",
       "  0.06207874,\n",
       "  0.05944704,\n",
       "  0.04913469,\n",
       "  0.05597327,\n",
       "  0.058534343,\n",
       "  0.052339226,\n",
       "  0.07630415,\n",
       "  0.08749927,\n",
       "  0.073737286,\n",
       "  0.058418747,\n",
       "  0.06793244,\n",
       "  0.07024059,\n",
       "  0.07683525,\n",
       "  0.048748344,\n",
       "  0.038149036,\n",
       "  0.025184814,\n",
       "  0.026587432,\n",
       "  0.014815467,\n",
       "  0.017050572,\n",
       "  0.012508414,\n",
       "  0.026099434,\n",
       "  0.012915666,\n",
       "  0.01912698,\n",
       "  0.04202737,\n",
       "  0.026568448,\n",
       "  0.019405898,\n",
       "  0.008869661,\n",
       "  0.011616025,\n",
       "  0.008935592,\n",
       "  0.011279727],\n",
       " 'train_rmse': [0.17041488,\n",
       "  0.18516824,\n",
       "  0.19413841,\n",
       "  0.20013489,\n",
       "  0.20368381,\n",
       "  0.20865647,\n",
       "  0.21422765,\n",
       "  0.21428527,\n",
       "  0.21927959,\n",
       "  0.23066668,\n",
       "  0.22561893,\n",
       "  0.23597614,\n",
       "  0.22968747,\n",
       "  0.24609998,\n",
       "  0.23133264,\n",
       "  0.2285463,\n",
       "  0.24079417,\n",
       "  0.2175667,\n",
       "  0.17090891,\n",
       "  0.2708455,\n",
       "  0.24915606,\n",
       "  0.24381763,\n",
       "  0.22166346,\n",
       "  0.2365867,\n",
       "  0.24193871,\n",
       "  0.22877768,\n",
       "  0.27623206,\n",
       "  0.29580274,\n",
       "  0.2715461,\n",
       "  0.24169971,\n",
       "  0.26063854,\n",
       "  0.2650294,\n",
       "  0.27719173,\n",
       "  0.22079027,\n",
       "  0.19531779,\n",
       "  0.15869723,\n",
       "  0.16305654,\n",
       "  0.1217188,\n",
       "  0.13057783,\n",
       "  0.11184102,\n",
       "  0.16155319,\n",
       "  0.11364711,\n",
       "  0.13830033,\n",
       "  0.20500578,\n",
       "  0.1629983,\n",
       "  0.13930506,\n",
       "  0.09417888,\n",
       "  0.10777766,\n",
       "  0.09452826,\n",
       "  0.10620606],\n",
       " 'val_loss': [0.34807946750273305,\n",
       "  0.38896614522996564,\n",
       "  0.38050572031190516,\n",
       "  0.3638849020013974,\n",
       "  0.3157066019703052,\n",
       "  0.3085800808451798,\n",
       "  0.3505806353536577,\n",
       "  0.2892509021455933,\n",
       "  0.3448540839433715,\n",
       "  0.26580965688610075,\n",
       "  0.283868420380006,\n",
       "  0.2940047262503261,\n",
       "  0.2711467834176599,\n",
       "  0.26663124019584455,\n",
       "  0.3130920092023896,\n",
       "  0.27948713882101905,\n",
       "  0.3518382465586506,\n",
       "  0.3601615729316513,\n",
       "  0.2269161238932611,\n",
       "  0.32967816805456907,\n",
       "  0.2657065136220101,\n",
       "  0.24463522888496905,\n",
       "  0.42055950653997975,\n",
       "  0.3970992301797701,\n",
       "  0.4531539565521396,\n",
       "  0.29089938794721903,\n",
       "  0.3283472426960038,\n",
       "  0.2330675400570625,\n",
       "  0.18661444267288768,\n",
       "  0.1704731443660421,\n",
       "  0.10518247004605048,\n",
       "  0.1552104524939245,\n",
       "  0.08812124460827261,\n",
       "  0.2956778816377563,\n",
       "  0.31084903195733204,\n",
       "  0.5374412588425912,\n",
       "  0.4368798614790042,\n",
       "  0.33906766750482753,\n",
       "  0.07673298208485196,\n",
       "  0.18314283982282278,\n",
       "  0.28562279952327824,\n",
       "  0.1014518762029992,\n",
       "  0.28331869727238274,\n",
       "  0.11446727676189362,\n",
       "  0.07392565270078598,\n",
       "  0.5128775329924085,\n",
       "  0.07479186918948875,\n",
       "  0.1021649535998424,\n",
       "  0.226065086569785,\n",
       "  0.12457579146575881],\n",
       " 'val_r2': [-3.4895048875553334,\n",
       "  -4.017809692931218,\n",
       "  -3.909003602559995,\n",
       "  -3.6945375850348405,\n",
       "  -3.0730997462564487,\n",
       "  -2.981230259378077,\n",
       "  -3.5231219324487215,\n",
       "  -2.7316358892193353,\n",
       "  -3.449246706783544,\n",
       "  -2.4289993264977094,\n",
       "  -2.661203320470025,\n",
       "  -2.7924435056840804,\n",
       "  -2.495993315820559,\n",
       "  -2.437995975929021,\n",
       "  -3.03787410422827,\n",
       "  -2.6025308469453394,\n",
       "  -3.5391389201070558,\n",
       "  -3.646662192931659,\n",
       "  -1.925744642945935,\n",
       "  -3.2534300055768286,\n",
       "  -2.4276626551697222,\n",
       "  -2.1561089245253053,\n",
       "  -4.425352075338058,\n",
       "  -4.121001764482228,\n",
       "  -4.846413482638786,\n",
       "  -2.7529130061258287,\n",
       "  -3.236173956729422,\n",
       "  -2.005930240952502,\n",
       "  -1.4018292133271473,\n",
       "  -1.188822421374112,\n",
       "  -0.35594417543896295,\n",
       "  -0.9918224805784643,\n",
       "  -0.13266382838927737,\n",
       "  -2.8141522560953933,\n",
       "  -3.009391519689671,\n",
       "  -5.932515281203936,\n",
       "  -4.634074783897431,\n",
       "  -3.374557996425035,\n",
       "  0.010580759320696798,\n",
       "  -1.362616531955723,\n",
       "  -2.6802254516729973,\n",
       "  -0.30832202978880985,\n",
       "  -2.6540547581511635,\n",
       "  -0.47403190706878817,\n",
       "  0.049452860913466234,\n",
       "  -5.569266030569382,\n",
       "  0.03834762014381654,\n",
       "  -0.3173418584092953,\n",
       "  -1.9124031609773158,\n",
       "  -0.6045382935273931],\n",
       " 'val_mae': [0.5242402,\n",
       "  0.5604555,\n",
       "  0.55262357,\n",
       "  0.5379718,\n",
       "  0.49205187,\n",
       "  0.4842296,\n",
       "  0.5243979,\n",
       "  0.46489245,\n",
       "  0.5189011,\n",
       "  0.43831688,\n",
       "  0.4601869,\n",
       "  0.46992984,\n",
       "  0.4499259,\n",
       "  0.4449351,\n",
       "  0.49098405,\n",
       "  0.45731932,\n",
       "  0.52847266,\n",
       "  0.5371975,\n",
       "  0.39921844,\n",
       "  0.50518286,\n",
       "  0.4425374,\n",
       "  0.42701745,\n",
       "  0.5897166,\n",
       "  0.5685237,\n",
       "  0.61490387,\n",
       "  0.46547893,\n",
       "  0.50416726,\n",
       "  0.4069939,\n",
       "  0.35892475,\n",
       "  0.33810923,\n",
       "  0.26756322,\n",
       "  0.3236704,\n",
       "  0.25203234,\n",
       "  0.48152068,\n",
       "  0.5059721,\n",
       "  0.6804977,\n",
       "  0.60489976,\n",
       "  0.52041095,\n",
       "  0.23764968,\n",
       "  0.3586623,\n",
       "  0.4890356,\n",
       "  0.26287025,\n",
       "  0.459697,\n",
       "  0.27942732,\n",
       "  0.2351637,\n",
       "  0.66686374,\n",
       "  0.23386379,\n",
       "  0.26759824,\n",
       "  0.40899867,\n",
       "  0.2940877],\n",
       " 'val_mse': [0.35225222,\n",
       "  0.39370367,\n",
       "  0.3851666,\n",
       "  0.36833933,\n",
       "  0.31958055,\n",
       "  0.31237233,\n",
       "  0.35488984,\n",
       "  0.29278883,\n",
       "  0.34909353,\n",
       "  0.26904362,\n",
       "  0.28726262,\n",
       "  0.29755992,\n",
       "  0.2743,\n",
       "  0.2697495,\n",
       "  0.31681672,\n",
       "  0.28265908,\n",
       "  0.35614657,\n",
       "  0.36458296,\n",
       "  0.22955759,\n",
       "  0.33372948,\n",
       "  0.26893872,\n",
       "  0.24763228,\n",
       "  0.42567995,\n",
       "  0.40180022,\n",
       "  0.45871696,\n",
       "  0.2944583,\n",
       "  0.33237556,\n",
       "  0.23584907,\n",
       "  0.18845055,\n",
       "  0.17173776,\n",
       "  0.10638909,\n",
       "  0.15628089,\n",
       "  0.088870235,\n",
       "  0.2992632,\n",
       "  0.3145819,\n",
       "  0.5439338,\n",
       "  0.44205663,\n",
       "  0.34323335,\n",
       "  0.07763107,\n",
       "  0.18537387,\n",
       "  0.28875512,\n",
       "  0.102652594,\n",
       "  0.28670174,\n",
       "  0.115654394,\n",
       "  0.074581124,\n",
       "  0.5154329,\n",
       "  0.07545246,\n",
       "  0.1033603,\n",
       "  0.22851083,\n",
       "  0.12589408],\n",
       " 'val_rmse': [0.5935084,\n",
       "  0.6274581,\n",
       "  0.6206179,\n",
       "  0.60690963,\n",
       "  0.5653146,\n",
       "  0.5589028,\n",
       "  0.5957263,\n",
       "  0.54109967,\n",
       "  0.59084135,\n",
       "  0.51869416,\n",
       "  0.53596884,\n",
       "  0.5454905,\n",
       "  0.5237366,\n",
       "  0.51937413,\n",
       "  0.5628647,\n",
       "  0.5316569,\n",
       "  0.5967802,\n",
       "  0.60380703,\n",
       "  0.47912169,\n",
       "  0.5776932,\n",
       "  0.518593,\n",
       "  0.49762663,\n",
       "  0.6524415,\n",
       "  0.63387716,\n",
       "  0.67728645,\n",
       "  0.54264015,\n",
       "  0.5765202,\n",
       "  0.48564294,\n",
       "  0.4341089,\n",
       "  0.41441256,\n",
       "  0.3261734,\n",
       "  0.39532378,\n",
       "  0.2981111,\n",
       "  0.5470495,\n",
       "  0.560876,\n",
       "  0.73751867,\n",
       "  0.66487336,\n",
       "  0.5858612,\n",
       "  0.27862352,\n",
       "  0.43055066,\n",
       "  0.5373594,\n",
       "  0.32039443,\n",
       "  0.5354454,\n",
       "  0.34008,\n",
       "  0.27309546,\n",
       "  0.7179366,\n",
       "  0.27468613,\n",
       "  0.32149696,\n",
       "  0.47802806,\n",
       "  0.35481557]}"
      ]
     },
     "execution_count": 64,
     "metadata": {},
     "output_type": "execute_result"
    }
   ],
   "source": [
    "train_results = train(model, train_loader, val_loader, optimizer, criterion, device, 50)\n",
    "\n",
    "train_results"
   ]
  },
  {
   "cell_type": "code",
   "execution_count": 65,
   "id": "a2b068a5",
   "metadata": {},
   "outputs": [],
   "source": [
    "def plot_training_history(loss_history, metric_history=None):\n",
    "    plt.figure(figsize=(12, 5))\n",
    "\n",
    "    # Loss plot\n",
    "    plt.subplot(1, 2, 1)\n",
    "    plt.plot(loss_history, label='Training Loss')\n",
    "    plt.title('Training Loss Curve')\n",
    "    plt.xlabel('Epoch')\n",
    "    plt.ylabel('Loss')\n",
    "    plt.grid(True)\n",
    "    \n",
    "    # Metrics plot\n",
    "    if metric_history:\n",
    "        plt.subplot(1, 2, 2)\n",
    "        for metric_name, values in metric_history.items():\n",
    "            plt.plot(values, label=metric_name)\n",
    "        plt.title('Training Metrics')\n",
    "        plt.xlabel('Epoch')\n",
    "        plt.ylabel('Metric Value')\n",
    "        plt.grid(True)\n",
    "        plt.legend()\n",
    "    \n",
    "    plt.tight_layout()\n",
    "    plt.show()\n",
    "\n",
    "def plot_predictions_vs_actuals(y_true, y_pred, title='Predictions vs True Values'):\n",
    "    plt.figure(figsize=(12, 6))\n",
    "    plt.plot(y_true, label='True Values', linewidth=2)\n",
    "    plt.plot(y_pred, label='Predictions', linestyle='--')\n",
    "    plt.xlabel('Time Step')\n",
    "    plt.ylabel('Value')\n",
    "    plt.title(title)\n",
    "    plt.legend()\n",
    "    plt.grid(True)\n",
    "    plt.show()\n",
    "\n"
   ]
  },
  {
   "cell_type": "code",
   "execution_count": 66,
   "id": "546655a0",
   "metadata": {},
   "outputs": [
    {
     "data": {
      "image/png": "[encoded data removed]",
      "text/plain": [
       "<Figure size 1200x500 with 2 Axes>"
      ]
     },
     "metadata": {},
     "output_type": "display_data"
    }
   ],
   "source": [
    "plot_training_history(\n",
    "    train_results['train_loss'],\n",
    "    {\n",
    "        'rmse': train_results['train_rmse'],\n",
    "        'mae': train_results['train_mae'],\n",
    "        'mse': train_results['train_mse'],\n",
    "        'r2': train_results['train_r2'],\n",
    "    }\n",
    ")"
   ]
  },
  {
   "cell_type": "code",
   "execution_count": 67,
   "id": "400eea63",
   "metadata": {},
   "outputs": [
    {
     "data": {
      "text/plain": [
       "113"
      ]
     },
     "execution_count": 67,
     "metadata": {},
     "output_type": "execute_result"
    }
   ],
   "source": [
    "len(test_loader)"
   ]
  },
  {
   "cell_type": "code",
   "execution_count": 72,
   "id": "15c351fd",
   "metadata": {},
   "outputs": [],
   "source": [
    "model.load_state_dict(torch.load('best_r2_model.pth', weights_only=True))\n",
    "\n",
    "def test(\n",
    "    model,\n",
    "    test_loader,\n",
    "    device,\n",
    "):\n",
    "    model.eval()\n",
    "\n",
    "    test_preds = []\n",
    "    test_targets = []\n",
    "\n",
    "    test_r2 = []\n",
    "    test_mae = []\n",
    "    test_mse = []\n",
    "    test_rmse = []\n",
    "    # test_eps = []\n",
    "    \n",
    "    rul = torch.ones((len(test_loader),)).to(device)\n",
    "\n",
    "    with torch.no_grad():\n",
    "        for i, (data, labels) in enumerate(tqdm(test_loader)):\n",
    "            time_frac = torch.linspace(0, 1, steps=labels.shape[0]).unsqueeze(1).to(device)\n",
    "            data = data.to(device)\n",
    "            labels = labels.to(device)\n",
    "            # print(time_frac.shape, \"SHAPE X\", data.shape)\n",
    "            predictions = model(data).flatten()\n",
    "            \n",
    "            # predictions = torch.cummin(predictions.flip(0), dim=0).values.flip(-1)\n",
    "\n",
    "            test_preds.append(predictions)\n",
    "            test_targets.append(labels)\n",
    "\n",
    "        test_preds = torch.cat(test_preds).cpu().detach().numpy()\n",
    "        test_targets = torch.cat(test_targets).cpu().detach().numpy()\n",
    "\n",
    "        mse = mean_squared_error(test_targets, test_preds)\n",
    "\n",
    "        test_r2.append(r2_score(test_targets, test_preds))\n",
    "        test_mae.append(mean_absolute_error(test_targets, test_preds))\n",
    "        test_mse.append(mse)\n",
    "        test_rmse.append(np.sqrt(mse))\n",
    "        # test_eps.append(early_prediction_score(test_targets, test_preds))\n",
    "\n",
    "    return {\n",
    "        'test_r2': test_r2,\n",
    "        'test_mae': test_mae,\n",
    "        'test_mse': test_mse,\n",
    "        'test_rmse': test_rmse,\n",
    "        'test_preds': test_preds,\n",
    "        'test_targets': test_targets,\n",
    "    }\n",
    "          "
   ]
  },
  {
   "cell_type": "code",
   "execution_count": 73,
   "id": "e519ea9d",
   "metadata": {},
   "outputs": [
    {
     "name": "stderr",
     "output_type": "stream",
     "text": [
      "100%|██████████| 113/113 [00:00<00:00, 177.42it/s]\n"
     ]
    },
    {
     "data": {
      "text/plain": [
       "{'test_r2': [-0.6581256420889863],\n",
       " 'test_mae': [0.24295469],\n",
       " 'test_mse': [0.07946446],\n",
       " 'test_rmse': [0.28189442],\n",
       " 'test_preds': array([ 0.4754937 ,  0.45867026,  0.46355227, ...,  0.06918326,\n",
       "        -0.04861772, -0.06932938], dtype=float32),\n",
       " 'test_targets': array([[0.99962103],\n",
       "        [0.9994105 ],\n",
       "        [0.9992    ],\n",
       "        ...,\n",
       "        [0.24190493],\n",
       "        [0.24169439],\n",
       "        [0.24148385]], dtype=float32)}"
      ]
     },
     "execution_count": 73,
     "metadata": {},
     "output_type": "execute_result"
    }
   ],
   "source": [
    "test_results = test(model, test_loader, device)\n",
    "\n",
    "test_results"
   ]
  },
  {
   "cell_type": "code",
   "execution_count": 76,
   "id": "df88c977",
   "metadata": {},
   "outputs": [
    {
     "data": {
      "image/png": "[encoded data removed]",
      "text/plain": [
       "<Figure size 1200x600 with 1 Axes>"
      ]
     },
     "metadata": {},
     "output_type": "display_data"
    }
   ],
   "source": [
    "plot_predictions_vs_actuals(\n",
    "    test_results['test_targets'],\n",
    "    test_results['test_preds'] + 0.2\n",
    ")"
   ]
  },
  {
   "cell_type": "code",
   "execution_count": null,
   "id": "b00566d8",
   "metadata": {},
   "outputs": [
    {
     "data": {
      "text/plain": [
       "(4602, 1)"
      ]
     },
     "execution_count": 288,
     "metadata": {},
     "output_type": "execute_result"
    }
   ],
   "source": [
    "test_results['test_targets']"
   ]
  },
  {
   "cell_type": "code",
   "execution_count": 300,
   "id": "a238957f",
   "metadata": {},
   "outputs": [
    {
     "data": {
      "text/plain": [
       "array([0.02777791, 0.02777791, 0.02777791, ..., 0.02777791, 0.02777791,\n",
       "       0.02777791], dtype=float32)"
      ]
     },
     "execution_count": 300,
     "metadata": {},
     "output_type": "execute_result"
    }
   ],
   "source": [
    "test_results['test_preds']"
   ]
  },
  {
   "cell_type": "code",
   "execution_count": 151,
   "id": "4b998a87",
   "metadata": {},
   "outputs": [
    {
     "data": {
      "text/plain": [
       "[<matplotlib.lines.Line2D at 0x7fdf5e9b52d0>]"
      ]
     },
     "execution_count": 151,
     "metadata": {},
     "output_type": "execute_result"
    },
    {
     "data": {
      "image/png": "[encoded data removed]",
      "text/plain": [
       "<Figure size 640x480 with 1 Axes>"
      ]
     },
     "metadata": {},
     "output_type": "display_data"
    }
   ],
   "source": [
    "plt.plot(test_results['rul'].cpu().numpy())"
   ]
  },
  {
   "cell_type": "code",
   "execution_count": null,
   "id": "a115a487",
   "metadata": {},
   "outputs": [],
   "source": []
  }
 ],
 "metadata": {
  "kernelspec": {
   "display_name": "bearing_rul",
   "language": "python",
   "name": "python3"
  },
  "language_info": {
   "codemirror_mode": {
    "name": "ipython",
    "version": 3
   },
   "file_extension": ".py",
   "mimetype": "text/x-python",
   "name": "python",
   "nbconvert_exporter": "python",
   "pygments_lexer": "ipython3",
   "version": "3.10.11"
  }
 },
 "nbformat": 4,
 "nbformat_minor": 5
}
