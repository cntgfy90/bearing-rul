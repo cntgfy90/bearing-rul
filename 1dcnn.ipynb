{
 "cells": [
  {
   "cell_type": "code",
   "execution_count": 1,
   "id": "3f31f366",
   "metadata": {},
   "outputs": [
    {
     "name": "stderr",
     "output_type": "stream",
     "text": [
      "/home/stepan/Private/bearing_rul/lib/python3.10/site-packages/xgboost/core.py:377: FutureWarning: Your system has an old version of glibc (< 2.28). We will stop supporting Linux distros with glibc older than 2.28 after **May 31, 2025**. Please upgrade to a recent Linux distro (with glibc >= 2.28) to use future versions of XGBoost.\n",
      "Note: You have installed the 'manylinux2014' variant of XGBoost. Certain features such as GPU algorithms or federated learning are not available. To use these features, please upgrade to a recent Linux distro with glibc 2.28+, and install the 'manylinux_2_28' variant.\n",
      "  warnings.warn(\n"
     ]
    }
   ],
   "source": [
    "import numpy as np\n",
    "import pandas as pd\n",
    "from torch import nn\n",
    "from phmd import datasets\n",
    "from sklearn.preprocessing import MinMaxScaler, StandardScaler, OneHotEncoder, RobustScaler\n",
    "from scipy.stats import kurtosis\n",
    "from scipy.fft import fft\n",
    "from scipy.fft import fft, fftfreq\n",
    "from sklearn.svm import SVR\n",
    "from sklearn.ensemble import RandomForestRegressor\n",
    "from sklearn.metrics import mean_absolute_error, mean_squared_error, r2_score\n",
    "from xgboost import XGBRegressor\n",
    "import matplotlib.pyplot as plt\n",
    "import seaborn as sns\n",
    "import os\n",
    "import torch\n",
    "from tqdm import tqdm"
   ]
  },
  {
   "cell_type": "code",
   "execution_count": 2,
   "id": "dad711b3",
   "metadata": {},
   "outputs": [],
   "source": [
    "def early_prediction_score(y_true, y_pred, alpha=0.5):\n",
    "    errors = y_pred - y_true\n",
    "    # Heavier penalty for late predictions\n",
    "    weights = np.where(errors < 0, alpha, 1)\n",
    "    return np.mean(weights * errors**2)"
   ]
  },
  {
   "cell_type": "code",
   "execution_count": 3,
   "id": "95d37866",
   "metadata": {},
   "outputs": [],
   "source": [
    "TRAIN_BEARINGS = {\n",
    "    1: [\n",
    "        '1_1',\n",
    "        # '1_2',\n",
    "    ],\n",
    "    2: [\n",
    "        '2_1',\n",
    "        '2_2',\n",
    "    ],\n",
    "    3: [\n",
    "        '3_1',\n",
    "        '3_2',\n",
    "    ]\n",
    "}\n",
    "\n",
    "TEST_BEARINGS = {\n",
    "    1: [\n",
    "        '1_3',\n",
    "        '1_4',\n",
    "        '1_5',\n",
    "        '1_6',\n",
    "        '1_7',\n",
    "    ],\n",
    "    2: [\n",
    "        '2_3',\n",
    "        '2_4',\n",
    "        '2_5',\n",
    "        '2_6',\n",
    "        '2_7',\n",
    "    ],\n",
    "    3: [\n",
    "        '3_3',\n",
    "    ]\n",
    "}"
   ]
  },
  {
   "cell_type": "code",
   "execution_count": 4,
   "id": "08d3cf88",
   "metadata": {},
   "outputs": [
    {
     "name": "stdout",
     "output_type": "stream",
     "text": [
      "Remember to cite the original publisher dataset:\n",
      "\t@inproceedings{nectoux2012pronostia,    \n",
      "\t    title={PRONOSTIA: An experimental platform for bearings accelerated degradation tests.},    \n",
      "\t    author={Nectoux, Patrick and Gouriveau, Rafael and Medjaher, Kamal and Ramasso, Emmanuel and Chebel-Morello, Brigitte and Zerhouni, Noureddine and Varnier, Christophe},    \n",
      "\t    booktitle={IEEE International Conference on Prognostics and Health Management, PHM'12.},    \n",
      "\t    pages={1--8},    \n",
      "\t    year={2012},    \n",
      "\t    organization={IEEE Catalog Number: CPF12PHM-CDR}    \n",
      "\t}\n",
      "You can download the dataset manually from:  https://www.nasa.gov/intelligent-systems-division/discovery-and-systems-health/pcoe/pcoe-data-set-repository/\n",
      "\n",
      "** If you find this tool useful, please cite our SoftwareX paper: \n",
      "\tSolís-Martín, David, Juan Galán-Páez, and Joaquín Borrego-Díaz. \"PHMD: An easy data access tool for prognosis and health management datasets.\" SoftwareX 29 (2025): 102039.\n",
      "\n"
     ]
    },
    {
     "name": "stderr",
     "output_type": "stream",
     "text": [
      "Reading Bearing3_2: 100%|██████████| 7534/7534 [00:19<00:00, 384.94it/s]\n",
      "Reading Bearing3_3: 100%|██████████| 13959/13959 [00:35<00:00, 390.76it/s]\n",
      "INFO:root:Read in 57.81956434249878 seconds\n"
     ]
    }
   ],
   "source": [
    "dataset = datasets.Dataset('PRONOSTIA')\n",
    "tasks = dataset['rul']\n",
    "df = tasks.load()"
   ]
  },
  {
   "cell_type": "code",
   "execution_count": 5,
   "id": "58e5a4bd",
   "metadata": {},
   "outputs": [
    {
     "data": {
      "text/plain": [
       "array(['1_1', '1_2', '2_1', '2_2', '3_1', '3_2'], dtype=object)"
      ]
     },
     "execution_count": 5,
     "metadata": {},
     "output_type": "execute_result"
    }
   ],
   "source": [
    "# train\n",
    "df[0]['unit'].unique()"
   ]
  },
  {
   "cell_type": "code",
   "execution_count": 6,
   "id": "9e59c6d2",
   "metadata": {},
   "outputs": [
    {
     "data": {
      "text/html": [
       "<div>\n",
       "<style scoped>\n",
       "    .dataframe tbody tr th:only-of-type {\n",
       "        vertical-align: middle;\n",
       "    }\n",
       "\n",
       "    .dataframe tbody tr th {\n",
       "        vertical-align: top;\n",
       "    }\n",
       "\n",
       "    .dataframe thead th {\n",
       "        text-align: right;\n",
       "    }\n",
       "</style>\n",
       "<table border=\"1\" class=\"dataframe\">\n",
       "  <thead>\n",
       "    <tr style=\"text-align: right;\">\n",
       "      <th></th>\n",
       "      <th>rul</th>\n",
       "      <th>V_acc</th>\n",
       "      <th>H_acc</th>\n",
       "      <th>unit</th>\n",
       "    </tr>\n",
       "  </thead>\n",
       "  <tbody>\n",
       "    <tr>\n",
       "      <th>0</th>\n",
       "      <td>28029</td>\n",
       "      <td>-0.146</td>\n",
       "      <td>0.552</td>\n",
       "      <td>1_1</td>\n",
       "    </tr>\n",
       "    <tr>\n",
       "      <th>1</th>\n",
       "      <td>28029</td>\n",
       "      <td>-0.480</td>\n",
       "      <td>0.501</td>\n",
       "      <td>1_1</td>\n",
       "    </tr>\n",
       "    <tr>\n",
       "      <th>2</th>\n",
       "      <td>28029</td>\n",
       "      <td>0.435</td>\n",
       "      <td>0.138</td>\n",
       "      <td>1_1</td>\n",
       "    </tr>\n",
       "    <tr>\n",
       "      <th>3</th>\n",
       "      <td>28029</td>\n",
       "      <td>0.240</td>\n",
       "      <td>-0.423</td>\n",
       "      <td>1_1</td>\n",
       "    </tr>\n",
       "    <tr>\n",
       "      <th>4</th>\n",
       "      <td>28029</td>\n",
       "      <td>0.020</td>\n",
       "      <td>-0.802</td>\n",
       "      <td>1_1</td>\n",
       "    </tr>\n",
       "  </tbody>\n",
       "</table>\n",
       "</div>"
      ],
      "text/plain": [
       "     rul  V_acc  H_acc unit\n",
       "0  28029 -0.146  0.552  1_1\n",
       "1  28029 -0.480  0.501  1_1\n",
       "2  28029  0.435  0.138  1_1\n",
       "3  28029  0.240 -0.423  1_1\n",
       "4  28029  0.020 -0.802  1_1"
      ]
     },
     "execution_count": 6,
     "metadata": {},
     "output_type": "execute_result"
    }
   ],
   "source": [
    "df[0].head(5)"
   ]
  },
  {
   "cell_type": "code",
   "execution_count": 7,
   "id": "36ab7dee",
   "metadata": {},
   "outputs": [
    {
     "data": {
      "text/plain": [
       "array(['1_3', '1_4', '1_5', '1_6', '1_7', '2_3', '2_4', '2_5', '2_6',\n",
       "       '2_7', '3_3'], dtype=object)"
      ]
     },
     "execution_count": 7,
     "metadata": {},
     "output_type": "execute_result"
    }
   ],
   "source": [
    "# test\n",
    "df[1]['unit'].unique()"
   ]
  },
  {
   "cell_type": "code",
   "execution_count": 8,
   "id": "0b4d16d9",
   "metadata": {},
   "outputs": [
    {
     "data": {
      "text/plain": [
       "0          1_1\n",
       "1          1_1\n",
       "2          1_1\n",
       "3          1_1\n",
       "4          1_1\n",
       "          ... \n",
       "7175675    1_1\n",
       "7175676    1_1\n",
       "7175677    1_1\n",
       "7175678    1_1\n",
       "7175679    1_1\n",
       "Name: unit, Length: 7175680, dtype: object"
      ]
     },
     "execution_count": 8,
     "metadata": {},
     "output_type": "execute_result"
    }
   ],
   "source": [
    "df[0][df[0]['unit'].isin(TRAIN_BEARINGS[1])]['unit']"
   ]
  },
  {
   "cell_type": "code",
   "execution_count": 9,
   "id": "c6ecf741",
   "metadata": {},
   "outputs": [
    {
     "data": {
      "text/html": [
       "<div>\n",
       "<style scoped>\n",
       "    .dataframe tbody tr th:only-of-type {\n",
       "        vertical-align: middle;\n",
       "    }\n",
       "\n",
       "    .dataframe tbody tr th {\n",
       "        vertical-align: top;\n",
       "    }\n",
       "\n",
       "    .dataframe thead th {\n",
       "        text-align: right;\n",
       "    }\n",
       "</style>\n",
       "<table border=\"1\" class=\"dataframe\">\n",
       "  <thead>\n",
       "    <tr style=\"text-align: right;\">\n",
       "      <th></th>\n",
       "      <th>rul</th>\n",
       "      <th>V_acc</th>\n",
       "      <th>H_acc</th>\n",
       "      <th>unit</th>\n",
       "    </tr>\n",
       "  </thead>\n",
       "  <tbody>\n",
       "    <tr>\n",
       "      <th>0</th>\n",
       "      <td>28029</td>\n",
       "      <td>-0.146</td>\n",
       "      <td>0.552</td>\n",
       "      <td>1_1</td>\n",
       "    </tr>\n",
       "    <tr>\n",
       "      <th>1</th>\n",
       "      <td>28029</td>\n",
       "      <td>-0.480</td>\n",
       "      <td>0.501</td>\n",
       "      <td>1_1</td>\n",
       "    </tr>\n",
       "    <tr>\n",
       "      <th>2</th>\n",
       "      <td>28029</td>\n",
       "      <td>0.435</td>\n",
       "      <td>0.138</td>\n",
       "      <td>1_1</td>\n",
       "    </tr>\n",
       "    <tr>\n",
       "      <th>3</th>\n",
       "      <td>28029</td>\n",
       "      <td>0.240</td>\n",
       "      <td>-0.423</td>\n",
       "      <td>1_1</td>\n",
       "    </tr>\n",
       "    <tr>\n",
       "      <th>4</th>\n",
       "      <td>28029</td>\n",
       "      <td>0.020</td>\n",
       "      <td>-0.802</td>\n",
       "      <td>1_1</td>\n",
       "    </tr>\n",
       "    <tr>\n",
       "      <th>...</th>\n",
       "      <td>...</td>\n",
       "      <td>...</td>\n",
       "      <td>...</td>\n",
       "      <td>...</td>\n",
       "    </tr>\n",
       "    <tr>\n",
       "      <th>7175675</th>\n",
       "      <td>0</td>\n",
       "      <td>2.129</td>\n",
       "      <td>-3.353</td>\n",
       "      <td>1_1</td>\n",
       "    </tr>\n",
       "    <tr>\n",
       "      <th>7175676</th>\n",
       "      <td>0</td>\n",
       "      <td>-2.299</td>\n",
       "      <td>-2.868</td>\n",
       "      <td>1_1</td>\n",
       "    </tr>\n",
       "    <tr>\n",
       "      <th>7175677</th>\n",
       "      <td>0</td>\n",
       "      <td>-1.844</td>\n",
       "      <td>-5.507</td>\n",
       "      <td>1_1</td>\n",
       "    </tr>\n",
       "    <tr>\n",
       "      <th>7175678</th>\n",
       "      <td>0</td>\n",
       "      <td>2.146</td>\n",
       "      <td>-3.578</td>\n",
       "      <td>1_1</td>\n",
       "    </tr>\n",
       "    <tr>\n",
       "      <th>7175679</th>\n",
       "      <td>0</td>\n",
       "      <td>0.470</td>\n",
       "      <td>-2.709</td>\n",
       "      <td>1_1</td>\n",
       "    </tr>\n",
       "  </tbody>\n",
       "</table>\n",
       "<p>7175680 rows × 4 columns</p>\n",
       "</div>"
      ],
      "text/plain": [
       "           rul  V_acc  H_acc unit\n",
       "0        28029 -0.146  0.552  1_1\n",
       "1        28029 -0.480  0.501  1_1\n",
       "2        28029  0.435  0.138  1_1\n",
       "3        28029  0.240 -0.423  1_1\n",
       "4        28029  0.020 -0.802  1_1\n",
       "...        ...    ...    ...  ...\n",
       "7175675      0  2.129 -3.353  1_1\n",
       "7175676      0 -2.299 -2.868  1_1\n",
       "7175677      0 -1.844 -5.507  1_1\n",
       "7175678      0  2.146 -3.578  1_1\n",
       "7175679      0  0.470 -2.709  1_1\n",
       "\n",
       "[7175680 rows x 4 columns]"
      ]
     },
     "execution_count": 9,
     "metadata": {},
     "output_type": "execute_result"
    }
   ],
   "source": [
    "df[0][df[0]['unit'].isin(TRAIN_BEARINGS[1])]"
   ]
  },
  {
   "cell_type": "code",
   "execution_count": 10,
   "id": "41fc4c80",
   "metadata": {},
   "outputs": [
    {
     "data": {
      "text/html": [
       "<div>\n",
       "<style scoped>\n",
       "    .dataframe tbody tr th:only-of-type {\n",
       "        vertical-align: middle;\n",
       "    }\n",
       "\n",
       "    .dataframe tbody tr th {\n",
       "        vertical-align: top;\n",
       "    }\n",
       "\n",
       "    .dataframe thead th {\n",
       "        text-align: right;\n",
       "    }\n",
       "</style>\n",
       "<table border=\"1\" class=\"dataframe\">\n",
       "  <thead>\n",
       "    <tr style=\"text-align: right;\">\n",
       "      <th></th>\n",
       "      <th>rul</th>\n",
       "      <th>V_acc</th>\n",
       "      <th>H_acc</th>\n",
       "      <th>unit</th>\n",
       "    </tr>\n",
       "  </thead>\n",
       "  <tbody>\n",
       "    <tr>\n",
       "      <th>0</th>\n",
       "      <td>23749</td>\n",
       "      <td>0.044</td>\n",
       "      <td>0.092</td>\n",
       "      <td>1_3</td>\n",
       "    </tr>\n",
       "    <tr>\n",
       "      <th>1</th>\n",
       "      <td>23749</td>\n",
       "      <td>0.432</td>\n",
       "      <td>-0.025</td>\n",
       "      <td>1_3</td>\n",
       "    </tr>\n",
       "    <tr>\n",
       "      <th>2</th>\n",
       "      <td>23749</td>\n",
       "      <td>0.008</td>\n",
       "      <td>-0.104</td>\n",
       "      <td>1_3</td>\n",
       "    </tr>\n",
       "    <tr>\n",
       "      <th>3</th>\n",
       "      <td>23749</td>\n",
       "      <td>-0.264</td>\n",
       "      <td>0.056</td>\n",
       "      <td>1_3</td>\n",
       "    </tr>\n",
       "    <tr>\n",
       "      <th>4</th>\n",
       "      <td>23749</td>\n",
       "      <td>-0.195</td>\n",
       "      <td>0.074</td>\n",
       "      <td>1_3</td>\n",
       "    </tr>\n",
       "    <tr>\n",
       "      <th>...</th>\n",
       "      <td>...</td>\n",
       "      <td>...</td>\n",
       "      <td>...</td>\n",
       "      <td>...</td>\n",
       "    </tr>\n",
       "    <tr>\n",
       "      <th>3845115</th>\n",
       "      <td>7570</td>\n",
       "      <td>-0.013</td>\n",
       "      <td>0.481</td>\n",
       "      <td>1_7</td>\n",
       "    </tr>\n",
       "    <tr>\n",
       "      <th>3845116</th>\n",
       "      <td>7570</td>\n",
       "      <td>-0.272</td>\n",
       "      <td>0.191</td>\n",
       "      <td>1_7</td>\n",
       "    </tr>\n",
       "    <tr>\n",
       "      <th>3845117</th>\n",
       "      <td>7570</td>\n",
       "      <td>0.466</td>\n",
       "      <td>0.250</td>\n",
       "      <td>1_7</td>\n",
       "    </tr>\n",
       "    <tr>\n",
       "      <th>3845118</th>\n",
       "      <td>7570</td>\n",
       "      <td>-0.582</td>\n",
       "      <td>0.001</td>\n",
       "      <td>1_7</td>\n",
       "    </tr>\n",
       "    <tr>\n",
       "      <th>3845119</th>\n",
       "      <td>7570</td>\n",
       "      <td>-0.371</td>\n",
       "      <td>0.199</td>\n",
       "      <td>1_7</td>\n",
       "    </tr>\n",
       "  </tbody>\n",
       "</table>\n",
       "<p>23160320 rows × 4 columns</p>\n",
       "</div>"
      ],
      "text/plain": [
       "           rul  V_acc  H_acc unit\n",
       "0        23749  0.044  0.092  1_3\n",
       "1        23749  0.432 -0.025  1_3\n",
       "2        23749  0.008 -0.104  1_3\n",
       "3        23749 -0.264  0.056  1_3\n",
       "4        23749 -0.195  0.074  1_3\n",
       "...        ...    ...    ...  ...\n",
       "3845115   7570 -0.013  0.481  1_7\n",
       "3845116   7570 -0.272  0.191  1_7\n",
       "3845117   7570  0.466  0.250  1_7\n",
       "3845118   7570 -0.582  0.001  1_7\n",
       "3845119   7570 -0.371  0.199  1_7\n",
       "\n",
       "[23160320 rows x 4 columns]"
      ]
     },
     "execution_count": 10,
     "metadata": {},
     "output_type": "execute_result"
    }
   ],
   "source": [
    "df[1][df[1]['unit'].isin(TEST_BEARINGS[1])]"
   ]
  },
  {
   "cell_type": "code",
   "execution_count": 11,
   "id": "0685c0bc",
   "metadata": {},
   "outputs": [
    {
     "data": {
      "text/plain": [
       "[<matplotlib.lines.Line2D at 0x7f5023c62470>]"
      ]
     },
     "execution_count": 11,
     "metadata": {},
     "output_type": "execute_result"
    },
    {
     "data": {
      "image/png": "[encoded data removed]",
      "text/plain": [
       "<Figure size 640x480 with 1 Axes>"
      ]
     },
     "metadata": {},
     "output_type": "display_data"
    }
   ],
   "source": [
    "plt.plot(df[1][df[1]['unit'] == '1_3']['rul'])"
   ]
  },
  {
   "cell_type": "code",
   "execution_count": 12,
   "id": "b131384a",
   "metadata": {},
   "outputs": [],
   "source": [
    "# sns.kdeplot(df[0][df[0]['unit'] == '1_1']['H_acc'], label='Train')\n",
    "# sns.kdeplot(test_features['h_RMS'], label='Test')\n",
    "# plt.legend(); plt.show()"
   ]
  },
  {
   "cell_type": "code",
   "execution_count": 370,
   "id": "a2dafbea",
   "metadata": {},
   "outputs": [],
   "source": [
    "class BearingDataset(torch.utils.data.Dataset):\n",
    "    def __init__(self, df, window_size=2560, step=2560 // 2):\n",
    "        self.windows = []\n",
    "        self.ruls = []\n",
    "        \n",
    "        # Create sequences\n",
    "        for unit, group in df.groupby('unit'):\n",
    "            h_acc =  group['H_acc'].transform(\n",
    "                lambda x: (x - x.mean()) / (x.std() + 1e-8)\n",
    "            )\n",
    "            v_acc =  group['V_acc'].transform(\n",
    "                lambda x: (x - x.mean()) / (x.std() + 1e-8)\n",
    "            )\n",
    "\n",
    "            rul = group['rul'].transform(lambda x: x / x.max())\n",
    "\n",
    "            for i in range(0, len(group) - window_size, step):\n",
    "\n",
    "                self.windows.append(np.stack([\n",
    "                    h_acc[i:i+window_size], \n",
    "                    v_acc[i:i+window_size]\n",
    "                ], axis=1))\n",
    "                self.ruls.append(rul.values[i+window_size-1])\n",
    "\n",
    "    def __len__(self):\n",
    "        return len(self.windows)\n",
    "    \n",
    "    def __getitem__(self, idx):\n",
    "        return torch.FloatTensor(self.windows[idx]), torch.FloatTensor([self.ruls[idx]])\n",
    "    \n",
    "train_dataset = BearingDataset(\n",
    "    # [b for state in TRAIN_BEARINGS for b in TRAIN_BEARINGS[state]]\n",
    "    df=df[0][df[0]['unit'].isin(['1_1'])],\n",
    ")\n",
    "\n",
    "test_dataset = BearingDataset(\n",
    "    df=df[1][df[1]['unit'] == '1_3'],\n",
    ")\n",
    "\n",
    "val_dataset = BearingDataset(\n",
    "    df=df[0][df[0]['unit'] == '1_2'],\n",
    ")\n",
    "\n",
    "train_loader = torch.utils.data.DataLoader(train_dataset, batch_size=32, shuffle=False)\n",
    "test_loader = torch.utils.data.DataLoader(test_dataset, batch_size=32, shuffle=False)\n",
    "val_loader = torch.utils.data.DataLoader(val_dataset, batch_size=32, shuffle=False)"
   ]
  },
  {
   "cell_type": "code",
   "execution_count": 371,
   "id": "42f0e240",
   "metadata": {},
   "outputs": [
    {
     "data": {
      "text/plain": [
       "5604"
      ]
     },
     "execution_count": 371,
     "metadata": {},
     "output_type": "execute_result"
    }
   ],
   "source": [
    "len(train_dataset)"
   ]
  },
  {
   "cell_type": "code",
   "execution_count": 412,
   "id": "27eff63f",
   "metadata": {},
   "outputs": [
    {
     "name": "stdout",
     "output_type": "stream",
     "text": [
      "BearingCNN(\n",
      "  (features): Sequential(\n",
      "    (0): Conv1d(2, 64, kernel_size=(51,), stride=(1,), padding=(25,))\n",
      "    (1): BatchNorm1d(64, eps=1e-05, momentum=0.1, affine=True, track_running_stats=True)\n",
      "    (2): LeakyReLU(negative_slope=0.1)\n",
      "    (3): MaxPool1d(kernel_size=4, stride=2, padding=0, dilation=1, ceil_mode=False)\n",
      "    (4): Conv1d(64, 128, kernel_size=(25,), stride=(1,), padding=(12,))\n",
      "    (5): BatchNorm1d(128, eps=1e-05, momentum=0.1, affine=True, track_running_stats=True)\n",
      "    (6): LeakyReLU(negative_slope=0.1)\n",
      "    (7): MaxPool1d(kernel_size=4, stride=2, padding=0, dilation=1, ceil_mode=False)\n",
      "    (8): Conv1d(128, 256, kernel_size=(10,), stride=(1,), padding=(5,))\n",
      "    (9): BatchNorm1d(256, eps=1e-05, momentum=0.1, affine=True, track_running_stats=True)\n",
      "    (10): LeakyReLU(negative_slope=0.1)\n",
      "    (11): AdaptiveAvgPool1d(output_size=1)\n",
      "  )\n",
      "  (regressor): Sequential(\n",
      "    (0): Linear(in_features=256, out_features=128, bias=True)\n",
      "    (1): LayerNorm((128,), eps=1e-05, elementwise_affine=True)\n",
      "    (2): LeakyReLU(negative_slope=0.1)\n",
      "    (3): Dropout(p=0.5, inplace=False)\n",
      "    (4): Linear(in_features=128, out_features=1, bias=True)\n",
      "  )\n",
      ")\n"
     ]
    }
   ],
   "source": [
    "class BearingCNN(torch.nn.Module):\n",
    "    def __init__(self):\n",
    "        super().__init__()\n",
    "        \n",
    "        # Feature extractor\n",
    "        self.features = torch.nn.Sequential(\n",
    "            # Layer 1: Wide receptive field\n",
    "            torch.nn.Conv1d(2, 64, kernel_size=51, padding=25),  # (B, 2, 2560) -> (B, 64, 2560)\n",
    "            torch.nn.BatchNorm1d(64),\n",
    "            torch.nn.LeakyReLU(0.1),\n",
    "            torch.nn.MaxPool1d(4, stride=2),  # -> (B, 64, 1278)\n",
    "            \n",
    "            # Layer 2: Mid-range features\n",
    "            torch.nn.Conv1d(64, 128, kernel_size=25, padding=12),  # -> (B, 128, 1278)\n",
    "            torch.nn.BatchNorm1d(128),\n",
    "            torch.nn.LeakyReLU(0.1),\n",
    "            torch.nn.MaxPool1d(4, stride=2),  # -> (B, 128, 637)\n",
    "            \n",
    "            # Layer 3: Local features\n",
    "            torch.nn.Conv1d(128, 256, kernel_size=10, padding=5),  # -> (B, 256, 637)\n",
    "            torch.nn.BatchNorm1d(256),\n",
    "            torch.nn.LeakyReLU(0.1),\n",
    "            torch.nn.AdaptiveAvgPool1d(1)  # -> (B, 256, 1)\n",
    "        )\n",
    "        \n",
    "        # Regressor (fixed input dim)\n",
    "        self.regressor = torch.nn.Sequential(\n",
    "            torch.nn.Linear(256, 128),\n",
    "            torch.nn.LayerNorm(128),  # Better for regression\n",
    "            torch.nn.LeakyReLU(0.1),\n",
    "            torch.nn.Dropout(0.5),\n",
    "            torch.nn.Linear(128, 1),\n",
    "            # torch.nn.Sigmoid(),\n",
    "            # Removed Sigmoid() for regression\n",
    "        )\n",
    "\n",
    "        # self.fc = torch.nn.Linear(128, 1)\n",
    "\n",
    "        # with torch.no_grad():\n",
    "        #     self.fc.weight.data = -torch.abs(self.fc.weight.data)\n",
    "        #     self.fc.bias.data.fill_(1.0)  # Start predictions near 1.0\n",
    "    \n",
    "    def forward(self, x):\n",
    "        # Input: (B, 2560, 2)\n",
    "        x = x.permute(0, 2, 1)  # -> (B, 2, 2560)\n",
    "        x = self.features(x)     # -> (B, 256, 1)\n",
    "        x = x.squeeze(-1)        # -> (B, 256)\n",
    "        x = self.regressor(x)  # -> (B,)\n",
    "        return x\n",
    "\n",
    "model = BearingCNN()\n",
    "\n",
    "print(model)"
   ]
  },
  {
   "cell_type": "code",
   "execution_count": 413,
   "id": "6a7be941",
   "metadata": {},
   "outputs": [],
   "source": [
    "class LogCoshLoss(nn.Module):\n",
    "    def forward(self, y_pred, y_true):\n",
    "        return torch.mean(torch.log(torch.cosh(y_pred - y_true)))\n",
    "\n",
    "def weighted_mse_loss(y_pred, y_true):\n",
    "    alpha=2.0\n",
    "    error = y_pred - y_true\n",
    "    weights = torch.where(error < 0, alpha, 1.0)  # Heavier penalty for underestimating RUL\n",
    "    return torch.mean(weights * (error ** 2))\n",
    "\n",
    "def r2_score_loss(y_pred, y_true):\n",
    "    # Calculate R² (Coefficient of Determination)\n",
    "    ss_res = torch.sum((y_true - y_pred) ** 2)\n",
    "    ss_tot = torch.sum((y_true - torch.mean(y_true)) ** 2)\n",
    "    r2 = 1 - (ss_res / (ss_tot + 1e-8))  # Avoid division by zero\n",
    "    return -r2  # Minimize this (equivalent to maximizing R²)\n",
    "\n",
    "def hybrid_r2_mse_loss(y_pred, y_true,):\n",
    "    # alpha=0.5\n",
    "    alpha = 0.8\n",
    "    mse = torch.mean((y_pred - y_true) ** 2)\n",
    "    r2 = r2_score_loss(y_pred, y_true)  # Returns -R²\n",
    "    return alpha * mse + (1 - alpha) * r2\n",
    "\n",
    "device = torch.device('cuda' if torch.cuda.is_available() else 'cpu')\n",
    "model = model.to(device)\n",
    "criterion = hybrid_r2_mse_loss\n",
    "optimizer = torch.optim.Adam(model.parameters(), lr=0.001, weight_decay=1e-4)\n",
    "scheduler = torch.optim.lr_scheduler.ReduceLROnPlateau(optimizer, 'min', patience=5)\n",
    "\n",
    "def train(\n",
    "    model,\n",
    "    train_loader,\n",
    "    val_loader,\n",
    "    optimizer,\n",
    "    criterion,\n",
    "    device,\n",
    "    epochs,\n",
    "):\n",
    "    train_r2 = []\n",
    "    train_mae = []\n",
    "    train_mse = []\n",
    "    train_rmse = []\n",
    "    train_loss = []\n",
    "\n",
    "    val_r2 = []\n",
    "    val_mae = []\n",
    "    val_mse = []\n",
    "    val_rmse = []\n",
    "    val_loss = []\n",
    "\n",
    "    best_r2 = -float('inf')\n",
    "\n",
    "    for epoch in range(epochs):\n",
    "        model.train()\n",
    "\n",
    "        epoch_train_loss = 0\n",
    "        epoch_train_preds = []\n",
    "        epoch_train_targets = []\n",
    "\n",
    "        for X_batch, y_batch in tqdm(train_loader):\n",
    "            X_batch, y_batch = X_batch.to(device), y_batch.to(device)\n",
    "            \n",
    "            optimizer.zero_grad()\n",
    "            y_pred = model(X_batch).flatten()\n",
    "\n",
    "            epoch_train_preds.append(y_pred)\n",
    "            epoch_train_targets.append(y_batch)\n",
    "\n",
    "            loss = criterion(y_pred, y_batch)\n",
    "            \n",
    "            loss.backward()\n",
    "            optimizer.step()\n",
    "            \n",
    "            epoch_train_loss += loss.item()\n",
    "        \n",
    "        train_preds = torch.cat(epoch_train_preds).cpu().detach().numpy()\n",
    "        train_targets = torch.cat(epoch_train_targets).cpu().detach().numpy()\n",
    "        \n",
    "        epoch_train_r2 = r2_score(train_targets, train_preds)\n",
    "        epoch_train_mae = mean_absolute_error(train_targets, train_preds)\n",
    "        epoch_train_mse = mean_squared_error(train_targets, train_preds)\n",
    "        epoch_train_rmse = np.sqrt(epoch_train_mse)\n",
    "        epoch_train_loss = epoch_train_loss/len(train_loader)\n",
    "        \n",
    "        train_r2.append(epoch_train_r2)\n",
    "        train_mae.append(epoch_train_mae)\n",
    "        train_mse.append(epoch_train_mse)\n",
    "        train_rmse.append(epoch_train_rmse)\n",
    "        train_loss.append(epoch_train_loss)\n",
    "    \n",
    "        print(\n",
    "            f'Epoch {epoch + 1}: Train Loss {epoch_train_loss:.4f}, '\n",
    "                + f'Train R2 = {epoch_train_r2:.3f}, '\n",
    "                + f'Train RMSE = {epoch_train_rmse:.3f}, '\n",
    "                + f'Train MSE = {epoch_train_mse:.3f}, '\n",
    "                + f'Train MAE = {epoch_train_mae:.3f}'\n",
    "                # + f'Train EPS = {epoch_train_eps:.3f}'\n",
    "        )\n",
    "\n",
    "\n",
    "        model.eval()\n",
    "\n",
    "        epoch_val_loss = 0\n",
    "        epoch_val_preds = []\n",
    "        epoch_val_targets = []\n",
    "\n",
    "        with torch.no_grad():\n",
    "            for X_val, y_val in tqdm(val_loader, desc=f'Epoch {epoch + 1} Val'):\n",
    "                X_val, y_val = X_val.to(device), y_val.to(device)\n",
    "\n",
    "                y_pred = model(X_val).flatten()\n",
    "\n",
    "                epoch_val_preds.append(y_pred)\n",
    "                epoch_val_targets.append(y_val)\n",
    "                \n",
    "                epoch_val_loss += criterion(y_pred, y_val).item()\n",
    "\n",
    "        val_preds = torch.cat(epoch_val_preds).cpu().detach().numpy()\n",
    "        val_targets = torch.cat(epoch_val_targets).cpu().detach().numpy()\n",
    "        \n",
    "        epoch_val_r2 = r2_score(val_targets, val_preds)\n",
    "        epoch_val_mae = mean_absolute_error(val_targets, val_preds)\n",
    "        epoch_val_mse = mean_squared_error(val_targets, val_preds)\n",
    "        epoch_val_rmse = np.sqrt(epoch_val_mse)\n",
    "        epoch_val_loss = epoch_val_loss/len(val_loader)\n",
    "        scheduler.step(epoch_val_loss)\n",
    "        \n",
    "        val_r2.append(epoch_val_r2)\n",
    "        val_mae.append(epoch_val_mae)\n",
    "        val_mse.append(epoch_val_mse)\n",
    "        val_rmse.append(epoch_val_rmse)\n",
    "        val_loss.append(epoch_val_loss)\n",
    "\n",
    "        if val_r2[-1] > best_r2:\n",
    "            best_r2 = val_r2[-1]\n",
    "            torch.save(model.state_dict(), 'best_r2_model.pth')\n",
    "\n",
    "        print(\n",
    "            f'Epoch {epoch + 1}: Val Loss {epoch_val_loss:.4f}, '\n",
    "                + f'Val R2 = {epoch_val_r2:.3f}, '\n",
    "                + f'Val RMSE = {epoch_val_rmse:.3f}, '\n",
    "                + f'Val MSE = {epoch_val_mse:.3f}, '\n",
    "                + f'Val MAE = {epoch_val_mae:.3f}'\n",
    "        ) \n",
    "\n",
    "    return {\n",
    "        'train_loss': train_loss,\n",
    "        'train_r2': train_r2,\n",
    "        'train_mae': train_mae,\n",
    "        'train_mse': train_mse,\n",
    "        'train_rmse': train_rmse,\n",
    "        'val_loss': val_loss,\n",
    "        'val_r2': val_r2,\n",
    "        'val_mae': val_mae,\n",
    "        'val_mse': val_mse,\n",
    "        'val_rmse': val_rmse,\n",
    "    }"
   ]
  },
  {
   "cell_type": "code",
   "execution_count": 414,
   "id": "5ce79b4d",
   "metadata": {},
   "outputs": [
    {
     "name": "stderr",
     "output_type": "stream",
     "text": [
      "100%|██████████| 176/176 [00:04<00:00, 42.00it/s]\n"
     ]
    },
    {
     "name": "stdout",
     "output_type": "stream",
     "text": [
      "Epoch 1: Train Loss 71411.4770, Train R2 = 0.635, Train RMSE = 0.174, Train MSE = 0.030, Train MAE = 0.103\n"
     ]
    },
    {
     "name": "stderr",
     "output_type": "stream",
     "text": [
      "Epoch 1 Val: 100%|██████████| 55/55 [00:00<00:00, 166.58it/s]\n"
     ]
    },
    {
     "name": "stdout",
     "output_type": "stream",
     "text": [
      "Epoch 1: Val Loss 75271.1224, Val R2 = -3.020, Val RMSE = 0.578, Val MSE = 0.334, Val MAE = 0.501\n"
     ]
    },
    {
     "name": "stderr",
     "output_type": "stream",
     "text": [
      "100%|██████████| 176/176 [00:04<00:00, 41.86it/s]\n"
     ]
    },
    {
     "name": "stdout",
     "output_type": "stream",
     "text": [
      "Epoch 2: Train Loss 72934.3530, Train R2 = 0.628, Train RMSE = 0.176, Train MSE = 0.031, Train MAE = 0.094\n"
     ]
    },
    {
     "name": "stderr",
     "output_type": "stream",
     "text": [
      "Epoch 2 Val: 100%|██████████| 55/55 [00:00<00:00, 164.05it/s]\n"
     ]
    },
    {
     "name": "stdout",
     "output_type": "stream",
     "text": [
      "Epoch 2: Val Loss 70061.1295, Val R2 = -2.741, Val RMSE = 0.558, Val MSE = 0.311, Val MAE = 0.478\n"
     ]
    },
    {
     "name": "stderr",
     "output_type": "stream",
     "text": [
      "100%|██████████| 176/176 [00:04<00:00, 41.69it/s]\n"
     ]
    },
    {
     "name": "stdout",
     "output_type": "stream",
     "text": [
      "Epoch 3: Train Loss 92069.4452, Train R2 = 0.532, Train RMSE = 0.198, Train MSE = 0.039, Train MAE = 0.105\n"
     ]
    },
    {
     "name": "stderr",
     "output_type": "stream",
     "text": [
      "Epoch 3 Val: 100%|██████████| 55/55 [00:00<00:00, 163.07it/s]\n"
     ]
    },
    {
     "name": "stdout",
     "output_type": "stream",
     "text": [
      "Epoch 3: Val Loss 73976.6144, Val R2 = -2.951, Val RMSE = 0.573, Val MSE = 0.329, Val MAE = 0.495\n"
     ]
    },
    {
     "name": "stderr",
     "output_type": "stream",
     "text": [
      "100%|██████████| 176/176 [00:04<00:00, 40.74it/s]\n"
     ]
    },
    {
     "name": "stdout",
     "output_type": "stream",
     "text": [
      "Epoch 4: Train Loss 92761.1194, Train R2 = 0.526, Train RMSE = 0.199, Train MSE = 0.039, Train MAE = 0.105\n"
     ]
    },
    {
     "name": "stderr",
     "output_type": "stream",
     "text": [
      "Epoch 4 Val: 100%|██████████| 55/55 [00:00<00:00, 156.26it/s]\n"
     ]
    },
    {
     "name": "stdout",
     "output_type": "stream",
     "text": [
      "Epoch 4: Val Loss 67710.7812, Val R2 = -2.616, Val RMSE = 0.548, Val MSE = 0.301, Val MAE = 0.469\n"
     ]
    },
    {
     "name": "stderr",
     "output_type": "stream",
     "text": [
      "100%|██████████| 176/176 [00:04<00:00, 37.25it/s]\n"
     ]
    },
    {
     "name": "stdout",
     "output_type": "stream",
     "text": [
      "Epoch 5: Train Loss 95194.0361, Train R2 = 0.517, Train RMSE = 0.201, Train MSE = 0.040, Train MAE = 0.109\n"
     ]
    },
    {
     "name": "stderr",
     "output_type": "stream",
     "text": [
      "Epoch 5 Val: 100%|██████████| 55/55 [00:00<00:00, 153.99it/s]\n"
     ]
    },
    {
     "name": "stdout",
     "output_type": "stream",
     "text": [
      "Epoch 5: Val Loss 74545.3920, Val R2 = -2.980, Val RMSE = 0.575, Val MSE = 0.331, Val MAE = 0.499\n"
     ]
    },
    {
     "name": "stderr",
     "output_type": "stream",
     "text": [
      "100%|██████████| 176/176 [00:04<00:00, 35.81it/s]\n"
     ]
    },
    {
     "name": "stdout",
     "output_type": "stream",
     "text": [
      "Epoch 6: Train Loss 85718.6375, Train R2 = 0.563, Train RMSE = 0.191, Train MSE = 0.036, Train MAE = 0.104\n"
     ]
    },
    {
     "name": "stderr",
     "output_type": "stream",
     "text": [
      "Epoch 6 Val: 100%|██████████| 55/55 [00:00<00:00, 148.40it/s]\n"
     ]
    },
    {
     "name": "stdout",
     "output_type": "stream",
     "text": [
      "Epoch 6: Val Loss 86453.3779, Val R2 = -3.616, Val RMSE = 0.620, Val MSE = 0.384, Val MAE = 0.548\n"
     ]
    },
    {
     "name": "stderr",
     "output_type": "stream",
     "text": [
      "100%|██████████| 176/176 [00:05<00:00, 34.08it/s]\n"
     ]
    },
    {
     "name": "stdout",
     "output_type": "stream",
     "text": [
      "Epoch 7: Train Loss 102784.1902, Train R2 = 0.476, Train RMSE = 0.209, Train MSE = 0.044, Train MAE = 0.112\n"
     ]
    },
    {
     "name": "stderr",
     "output_type": "stream",
     "text": [
      "Epoch 7 Val: 100%|██████████| 55/55 [00:00<00:00, 144.44it/s]\n"
     ]
    },
    {
     "name": "stdout",
     "output_type": "stream",
     "text": [
      "Epoch 7: Val Loss 82379.4172, Val R2 = -3.398, Val RMSE = 0.605, Val MSE = 0.366, Val MAE = 0.534\n"
     ]
    },
    {
     "name": "stderr",
     "output_type": "stream",
     "text": [
      "100%|██████████| 176/176 [00:05<00:00, 32.14it/s]\n"
     ]
    },
    {
     "name": "stdout",
     "output_type": "stream",
     "text": [
      "Epoch 8: Train Loss 110154.9261, Train R2 = 0.439, Train RMSE = 0.216, Train MSE = 0.047, Train MAE = 0.118\n"
     ]
    },
    {
     "name": "stderr",
     "output_type": "stream",
     "text": [
      "Epoch 8 Val: 100%|██████████| 55/55 [00:00<00:00, 130.67it/s]\n"
     ]
    },
    {
     "name": "stdout",
     "output_type": "stream",
     "text": [
      "Epoch 8: Val Loss 67264.7249, Val R2 = -2.588, Val RMSE = 0.546, Val MSE = 0.298, Val MAE = 0.468\n"
     ]
    },
    {
     "name": "stderr",
     "output_type": "stream",
     "text": [
      "100%|██████████| 176/176 [00:05<00:00, 31.99it/s]\n"
     ]
    },
    {
     "name": "stdout",
     "output_type": "stream",
     "text": [
      "Epoch 9: Train Loss 114369.5527, Train R2 = 0.416, Train RMSE = 0.221, Train MSE = 0.049, Train MAE = 0.120\n"
     ]
    },
    {
     "name": "stderr",
     "output_type": "stream",
     "text": [
      "Epoch 9 Val: 100%|██████████| 55/55 [00:00<00:00, 131.36it/s]\n"
     ]
    },
    {
     "name": "stdout",
     "output_type": "stream",
     "text": [
      "Epoch 9: Val Loss 85010.2275, Val R2 = -3.540, Val RMSE = 0.614, Val MSE = 0.378, Val MAE = 0.541\n"
     ]
    },
    {
     "name": "stderr",
     "output_type": "stream",
     "text": [
      "100%|██████████| 176/176 [00:05<00:00, 32.15it/s]\n"
     ]
    },
    {
     "name": "stdout",
     "output_type": "stream",
     "text": [
      "Epoch 10: Train Loss 110057.5530, Train R2 = 0.439, Train RMSE = 0.216, Train MSE = 0.047, Train MAE = 0.120\n"
     ]
    },
    {
     "name": "stderr",
     "output_type": "stream",
     "text": [
      "Epoch 10 Val: 100%|██████████| 55/55 [00:00<00:00, 124.41it/s]\n"
     ]
    },
    {
     "name": "stdout",
     "output_type": "stream",
     "text": [
      "Epoch 10: Val Loss 56990.9178, Val R2 = -2.038, Val RMSE = 0.503, Val MSE = 0.253, Val MAE = 0.422\n"
     ]
    },
    {
     "name": "stderr",
     "output_type": "stream",
     "text": [
      "100%|██████████| 176/176 [00:05<00:00, 32.12it/s]\n"
     ]
    },
    {
     "name": "stdout",
     "output_type": "stream",
     "text": [
      "Epoch 11: Train Loss 118108.0901, Train R2 = 0.398, Train RMSE = 0.224, Train MSE = 0.050, Train MAE = 0.131\n"
     ]
    },
    {
     "name": "stderr",
     "output_type": "stream",
     "text": [
      "Epoch 11 Val: 100%|██████████| 55/55 [00:00<00:00, 124.68it/s]\n"
     ]
    },
    {
     "name": "stdout",
     "output_type": "stream",
     "text": [
      "Epoch 11: Val Loss 69691.8075, Val R2 = -2.720, Val RMSE = 0.556, Val MSE = 0.309, Val MAE = 0.476\n"
     ]
    },
    {
     "name": "stderr",
     "output_type": "stream",
     "text": [
      "100%|██████████| 176/176 [00:05<00:00, 31.56it/s]\n"
     ]
    },
    {
     "name": "stdout",
     "output_type": "stream",
     "text": [
      "Epoch 12: Train Loss 130571.2510, Train R2 = 0.340, Train RMSE = 0.234, Train MSE = 0.055, Train MAE = 0.142\n"
     ]
    },
    {
     "name": "stderr",
     "output_type": "stream",
     "text": [
      "Epoch 12 Val: 100%|██████████| 55/55 [00:00<00:00, 125.57it/s]\n"
     ]
    },
    {
     "name": "stdout",
     "output_type": "stream",
     "text": [
      "Epoch 12: Val Loss 51681.7644, Val R2 = -1.750, Val RMSE = 0.478, Val MSE = 0.229, Val MAE = 0.395\n"
     ]
    },
    {
     "name": "stderr",
     "output_type": "stream",
     "text": [
      "100%|██████████| 176/176 [00:05<00:00, 30.19it/s]\n"
     ]
    },
    {
     "name": "stdout",
     "output_type": "stream",
     "text": [
      "Epoch 13: Train Loss 133551.7448, Train R2 = 0.317, Train RMSE = 0.238, Train MSE = 0.057, Train MAE = 0.144\n"
     ]
    },
    {
     "name": "stderr",
     "output_type": "stream",
     "text": [
      "Epoch 13 Val: 100%|██████████| 55/55 [00:00<00:00, 124.87it/s]\n"
     ]
    },
    {
     "name": "stdout",
     "output_type": "stream",
     "text": [
      "Epoch 13: Val Loss 58931.0143, Val R2 = -2.141, Val RMSE = 0.511, Val MSE = 0.261, Val MAE = 0.429\n"
     ]
    },
    {
     "name": "stderr",
     "output_type": "stream",
     "text": [
      "100%|██████████| 176/176 [00:06<00:00, 28.76it/s]\n"
     ]
    },
    {
     "name": "stdout",
     "output_type": "stream",
     "text": [
      "Epoch 14: Train Loss 129698.5244, Train R2 = 0.339, Train RMSE = 0.235, Train MSE = 0.055, Train MAE = 0.144\n"
     ]
    },
    {
     "name": "stderr",
     "output_type": "stream",
     "text": [
      "Epoch 14 Val: 100%|██████████| 55/55 [00:00<00:00, 112.81it/s]\n"
     ]
    },
    {
     "name": "stdout",
     "output_type": "stream",
     "text": [
      "Epoch 14: Val Loss 65276.9060, Val R2 = -2.472, Val RMSE = 0.537, Val MSE = 0.289, Val MAE = 0.462\n"
     ]
    },
    {
     "name": "stderr",
     "output_type": "stream",
     "text": [
      "100%|██████████| 176/176 [00:06<00:00, 27.59it/s]\n"
     ]
    },
    {
     "name": "stdout",
     "output_type": "stream",
     "text": [
      "Epoch 15: Train Loss 116771.2280, Train R2 = 0.404, Train RMSE = 0.223, Train MSE = 0.050, Train MAE = 0.136\n"
     ]
    },
    {
     "name": "stderr",
     "output_type": "stream",
     "text": [
      "Epoch 15 Val: 100%|██████████| 55/55 [00:00<00:00, 122.89it/s]\n"
     ]
    },
    {
     "name": "stdout",
     "output_type": "stream",
     "text": [
      "Epoch 15: Val Loss 66153.6956, Val R2 = -2.529, Val RMSE = 0.542, Val MSE = 0.293, Val MAE = 0.463\n"
     ]
    },
    {
     "name": "stderr",
     "output_type": "stream",
     "text": [
      "100%|██████████| 176/176 [00:06<00:00, 26.04it/s]\n"
     ]
    },
    {
     "name": "stdout",
     "output_type": "stream",
     "text": [
      "Epoch 16: Train Loss 111719.3397, Train R2 = 0.435, Train RMSE = 0.217, Train MSE = 0.047, Train MAE = 0.134\n"
     ]
    },
    {
     "name": "stderr",
     "output_type": "stream",
     "text": [
      "Epoch 16 Val: 100%|██████████| 55/55 [00:00<00:00, 118.85it/s]\n"
     ]
    },
    {
     "name": "stdout",
     "output_type": "stream",
     "text": [
      "Epoch 16: Val Loss 71915.1162, Val R2 = -2.828, Val RMSE = 0.564, Val MSE = 0.318, Val MAE = 0.492\n"
     ]
    },
    {
     "name": "stderr",
     "output_type": "stream",
     "text": [
      "100%|██████████| 176/176 [00:06<00:00, 26.30it/s]\n"
     ]
    },
    {
     "name": "stdout",
     "output_type": "stream",
     "text": [
      "Epoch 17: Train Loss 112538.1109, Train R2 = 0.427, Train RMSE = 0.218, Train MSE = 0.048, Train MAE = 0.139\n"
     ]
    },
    {
     "name": "stderr",
     "output_type": "stream",
     "text": [
      "Epoch 17 Val: 100%|██████████| 55/55 [00:00<00:00, 117.24it/s]\n"
     ]
    },
    {
     "name": "stdout",
     "output_type": "stream",
     "text": [
      "Epoch 17: Val Loss 43940.1102, Val R2 = -1.325, Val RMSE = 0.440, Val MSE = 0.193, Val MAE = 0.365\n"
     ]
    },
    {
     "name": "stderr",
     "output_type": "stream",
     "text": [
      "100%|██████████| 176/176 [00:06<00:00, 25.42it/s]\n"
     ]
    },
    {
     "name": "stdout",
     "output_type": "stream",
     "text": [
      "Epoch 18: Train Loss 92956.0246, Train R2 = 0.528, Train RMSE = 0.198, Train MSE = 0.039, Train MAE = 0.124\n"
     ]
    },
    {
     "name": "stderr",
     "output_type": "stream",
     "text": [
      "Epoch 18 Val: 100%|██████████| 55/55 [00:00<00:00, 108.72it/s]\n"
     ]
    },
    {
     "name": "stdout",
     "output_type": "stream",
     "text": [
      "Epoch 18: Val Loss 40503.1014, Val R2 = -1.123, Val RMSE = 0.420, Val MSE = 0.177, Val MAE = 0.351\n"
     ]
    },
    {
     "name": "stderr",
     "output_type": "stream",
     "text": [
      "100%|██████████| 176/176 [00:07<00:00, 24.22it/s]\n"
     ]
    },
    {
     "name": "stdout",
     "output_type": "stream",
     "text": [
      "Epoch 19: Train Loss 80638.4405, Train R2 = 0.607, Train RMSE = 0.181, Train MSE = 0.033, Train MAE = 0.118\n"
     ]
    },
    {
     "name": "stderr",
     "output_type": "stream",
     "text": [
      "Epoch 19 Val: 100%|██████████| 55/55 [00:00<00:00, 117.23it/s]\n"
     ]
    },
    {
     "name": "stdout",
     "output_type": "stream",
     "text": [
      "Epoch 19: Val Loss 36147.4063, Val R2 = -0.826, Val RMSE = 0.390, Val MSE = 0.152, Val MAE = 0.321\n"
     ]
    },
    {
     "name": "stderr",
     "output_type": "stream",
     "text": [
      "100%|██████████| 176/176 [00:07<00:00, 23.66it/s]\n"
     ]
    },
    {
     "name": "stdout",
     "output_type": "stream",
     "text": [
      "Epoch 20: Train Loss 88870.0536, Train R2 = 0.564, Train RMSE = 0.190, Train MSE = 0.036, Train MAE = 0.124\n"
     ]
    },
    {
     "name": "stderr",
     "output_type": "stream",
     "text": [
      "Epoch 20 Val: 100%|██████████| 55/55 [00:00<00:00, 112.46it/s]\n"
     ]
    },
    {
     "name": "stdout",
     "output_type": "stream",
     "text": [
      "Epoch 20: Val Loss 19696.9631, Val R2 = 0.082, Val RMSE = 0.276, Val MSE = 0.076, Val MAE = 0.238\n"
     ]
    },
    {
     "name": "stderr",
     "output_type": "stream",
     "text": [
      "100%|██████████| 176/176 [00:07<00:00, 24.19it/s]\n"
     ]
    },
    {
     "name": "stdout",
     "output_type": "stream",
     "text": [
      "Epoch 21: Train Loss 101010.5688, Train R2 = 0.500, Train RMSE = 0.204, Train MSE = 0.042, Train MAE = 0.129\n"
     ]
    },
    {
     "name": "stderr",
     "output_type": "stream",
     "text": [
      "Epoch 21 Val: 100%|██████████| 55/55 [00:00<00:00, 98.49it/s]\n"
     ]
    },
    {
     "name": "stdout",
     "output_type": "stream",
     "text": [
      "Epoch 21: Val Loss 34937.1708, Val R2 = -0.739, Val RMSE = 0.380, Val MSE = 0.145, Val MAE = 0.318\n"
     ]
    },
    {
     "name": "stderr",
     "output_type": "stream",
     "text": [
      "100%|██████████| 176/176 [00:07<00:00, 23.81it/s]\n"
     ]
    },
    {
     "name": "stdout",
     "output_type": "stream",
     "text": [
      "Epoch 22: Train Loss 97319.1855, Train R2 = 0.517, Train RMSE = 0.200, Train MSE = 0.040, Train MAE = 0.126\n"
     ]
    },
    {
     "name": "stderr",
     "output_type": "stream",
     "text": [
      "Epoch 22 Val: 100%|██████████| 55/55 [00:00<00:00, 108.20it/s]\n"
     ]
    },
    {
     "name": "stdout",
     "output_type": "stream",
     "text": [
      "Epoch 22: Val Loss 30209.2914, Val R2 = -0.501, Val RMSE = 0.353, Val MSE = 0.125, Val MAE = 0.301\n"
     ]
    },
    {
     "name": "stderr",
     "output_type": "stream",
     "text": [
      "100%|██████████| 176/176 [00:07<00:00, 22.45it/s]\n"
     ]
    },
    {
     "name": "stdout",
     "output_type": "stream",
     "text": [
      "Epoch 23: Train Loss 65690.5920, Train R2 = 0.673, Train RMSE = 0.165, Train MSE = 0.027, Train MAE = 0.103\n"
     ]
    },
    {
     "name": "stderr",
     "output_type": "stream",
     "text": [
      "Epoch 23 Val: 100%|██████████| 55/55 [00:00<00:00, 102.90it/s]\n"
     ]
    },
    {
     "name": "stdout",
     "output_type": "stream",
     "text": [
      "Epoch 23: Val Loss 42957.0893, Val R2 = -1.146, Val RMSE = 0.422, Val MSE = 0.178, Val MAE = 0.355\n"
     ]
    },
    {
     "name": "stderr",
     "output_type": "stream",
     "text": [
      "100%|██████████| 176/176 [00:07<00:00, 22.19it/s]\n"
     ]
    },
    {
     "name": "stdout",
     "output_type": "stream",
     "text": [
      "Epoch 24: Train Loss 51803.2198, Train R2 = 0.736, Train RMSE = 0.148, Train MSE = 0.022, Train MAE = 0.095\n"
     ]
    },
    {
     "name": "stderr",
     "output_type": "stream",
     "text": [
      "Epoch 24 Val: 100%|██████████| 55/55 [00:00<00:00, 97.44it/s]\n"
     ]
    },
    {
     "name": "stdout",
     "output_type": "stream",
     "text": [
      "Epoch 24: Val Loss 36249.3211, Val R2 = -0.681, Val RMSE = 0.374, Val MSE = 0.140, Val MAE = 0.309\n"
     ]
    },
    {
     "name": "stderr",
     "output_type": "stream",
     "text": [
      "100%|██████████| 176/176 [00:08<00:00, 21.77it/s]\n"
     ]
    },
    {
     "name": "stdout",
     "output_type": "stream",
     "text": [
      "Epoch 25: Train Loss 47444.7338, Train R2 = 0.758, Train RMSE = 0.142, Train MSE = 0.020, Train MAE = 0.085\n"
     ]
    },
    {
     "name": "stderr",
     "output_type": "stream",
     "text": [
      "Epoch 25 Val: 100%|██████████| 55/55 [00:00<00:00, 103.08it/s]\n"
     ]
    },
    {
     "name": "stdout",
     "output_type": "stream",
     "text": [
      "Epoch 25: Val Loss 25352.5038, Val R2 = -0.179, Val RMSE = 0.313, Val MSE = 0.098, Val MAE = 0.260\n"
     ]
    },
    {
     "name": "stderr",
     "output_type": "stream",
     "text": [
      "100%|██████████| 176/176 [00:07<00:00, 22.10it/s]\n"
     ]
    },
    {
     "name": "stdout",
     "output_type": "stream",
     "text": [
      "Epoch 26: Train Loss 38252.8205, Train R2 = 0.806, Train RMSE = 0.127, Train MSE = 0.016, Train MAE = 0.082\n"
     ]
    },
    {
     "name": "stderr",
     "output_type": "stream",
     "text": [
      "Epoch 26 Val: 100%|██████████| 55/55 [00:00<00:00, 104.41it/s]\n"
     ]
    },
    {
     "name": "stdout",
     "output_type": "stream",
     "text": [
      "Epoch 26: Val Loss 18046.5533, Val R2 = 0.213, Val RMSE = 0.256, Val MSE = 0.065, Val MAE = 0.191\n"
     ]
    },
    {
     "name": "stderr",
     "output_type": "stream",
     "text": [
      "100%|██████████| 176/176 [00:08<00:00, 21.16it/s]\n"
     ]
    },
    {
     "name": "stdout",
     "output_type": "stream",
     "text": [
      "Epoch 27: Train Loss 40785.5652, Train R2 = 0.799, Train RMSE = 0.129, Train MSE = 0.017, Train MAE = 0.085\n"
     ]
    },
    {
     "name": "stderr",
     "output_type": "stream",
     "text": [
      "Epoch 27 Val: 100%|██████████| 55/55 [00:00<00:00, 100.23it/s]\n"
     ]
    },
    {
     "name": "stdout",
     "output_type": "stream",
     "text": [
      "Epoch 27: Val Loss 90940.4713, Val R2 = -3.740, Val RMSE = 0.628, Val MSE = 0.394, Val MAE = 0.594\n"
     ]
    },
    {
     "name": "stderr",
     "output_type": "stream",
     "text": [
      "100%|██████████| 176/176 [00:08<00:00, 21.25it/s]\n"
     ]
    },
    {
     "name": "stdout",
     "output_type": "stream",
     "text": [
      "Epoch 28: Train Loss 46165.4673, Train R2 = 0.765, Train RMSE = 0.140, Train MSE = 0.020, Train MAE = 0.088\n"
     ]
    },
    {
     "name": "stderr",
     "output_type": "stream",
     "text": [
      "Epoch 28 Val: 100%|██████████| 55/55 [00:00<00:00, 75.00it/s]\n"
     ]
    },
    {
     "name": "stdout",
     "output_type": "stream",
     "text": [
      "Epoch 28: Val Loss 44624.2815, Val R2 = -1.227, Val RMSE = 0.430, Val MSE = 0.185, Val MAE = 0.366\n"
     ]
    },
    {
     "name": "stderr",
     "output_type": "stream",
     "text": [
      "100%|██████████| 176/176 [00:08<00:00, 21.22it/s]\n"
     ]
    },
    {
     "name": "stdout",
     "output_type": "stream",
     "text": [
      "Epoch 29: Train Loss 44656.8025, Train R2 = 0.776, Train RMSE = 0.136, Train MSE = 0.019, Train MAE = 0.086\n"
     ]
    },
    {
     "name": "stderr",
     "output_type": "stream",
     "text": [
      "Epoch 29 Val: 100%|██████████| 55/55 [00:00<00:00, 100.51it/s]\n"
     ]
    },
    {
     "name": "stdout",
     "output_type": "stream",
     "text": [
      "Epoch 29: Val Loss 32924.6405, Val R2 = -0.643, Val RMSE = 0.370, Val MSE = 0.137, Val MAE = 0.314\n"
     ]
    },
    {
     "name": "stderr",
     "output_type": "stream",
     "text": [
      "100%|██████████| 176/176 [00:08<00:00, 20.82it/s]\n"
     ]
    },
    {
     "name": "stdout",
     "output_type": "stream",
     "text": [
      "Epoch 30: Train Loss 38481.5112, Train R2 = 0.804, Train RMSE = 0.128, Train MSE = 0.016, Train MAE = 0.079\n"
     ]
    },
    {
     "name": "stderr",
     "output_type": "stream",
     "text": [
      "Epoch 30 Val: 100%|██████████| 55/55 [00:00<00:00, 98.23it/s]\n"
     ]
    },
    {
     "name": "stdout",
     "output_type": "stream",
     "text": [
      "Epoch 30: Val Loss 109529.0736, Val R2 = -4.721, Val RMSE = 0.690, Val MSE = 0.476, Val MAE = 0.654\n"
     ]
    },
    {
     "name": "stderr",
     "output_type": "stream",
     "text": [
      "100%|██████████| 176/176 [00:08<00:00, 20.02it/s]\n"
     ]
    },
    {
     "name": "stdout",
     "output_type": "stream",
     "text": [
      "Epoch 31: Train Loss 27974.6190, Train R2 = 0.859, Train RMSE = 0.108, Train MSE = 0.012, Train MAE = 0.069\n"
     ]
    },
    {
     "name": "stderr",
     "output_type": "stream",
     "text": [
      "Epoch 31 Val: 100%|██████████| 55/55 [00:00<00:00, 93.74it/s]\n"
     ]
    },
    {
     "name": "stdout",
     "output_type": "stream",
     "text": [
      "Epoch 31: Val Loss 23538.3515, Val R2 = -0.141, Val RMSE = 0.308, Val MSE = 0.095, Val MAE = 0.249\n"
     ]
    },
    {
     "name": "stderr",
     "output_type": "stream",
     "text": [
      "100%|██████████| 176/176 [00:08<00:00, 19.77it/s]\n"
     ]
    },
    {
     "name": "stdout",
     "output_type": "stream",
     "text": [
      "Epoch 32: Train Loss 25176.6185, Train R2 = 0.874, Train RMSE = 0.102, Train MSE = 0.010, Train MAE = 0.067\n"
     ]
    },
    {
     "name": "stderr",
     "output_type": "stream",
     "text": [
      "Epoch 32 Val: 100%|██████████| 55/55 [00:00<00:00, 94.78it/s]\n"
     ]
    },
    {
     "name": "stdout",
     "output_type": "stream",
     "text": [
      "Epoch 32: Val Loss 11370.4118, Val R2 = 0.454, Val RMSE = 0.213, Val MSE = 0.045, Val MAE = 0.177\n"
     ]
    },
    {
     "name": "stderr",
     "output_type": "stream",
     "text": [
      "100%|██████████| 176/176 [00:08<00:00, 19.89it/s]\n"
     ]
    },
    {
     "name": "stdout",
     "output_type": "stream",
     "text": [
      "Epoch 33: Train Loss 24126.5519, Train R2 = 0.881, Train RMSE = 0.100, Train MSE = 0.010, Train MAE = 0.067\n"
     ]
    },
    {
     "name": "stderr",
     "output_type": "stream",
     "text": [
      "Epoch 33 Val: 100%|██████████| 55/55 [00:00<00:00, 91.25it/s]\n"
     ]
    },
    {
     "name": "stdout",
     "output_type": "stream",
     "text": [
      "Epoch 33: Val Loss 76495.3081, Val R2 = -3.016, Val RMSE = 0.578, Val MSE = 0.334, Val MAE = 0.523\n"
     ]
    },
    {
     "name": "stderr",
     "output_type": "stream",
     "text": [
      "100%|██████████| 176/176 [00:09<00:00, 19.11it/s]\n"
     ]
    },
    {
     "name": "stdout",
     "output_type": "stream",
     "text": [
      "Epoch 34: Train Loss 28209.3252, Train R2 = 0.858, Train RMSE = 0.109, Train MSE = 0.012, Train MAE = 0.070\n"
     ]
    },
    {
     "name": "stderr",
     "output_type": "stream",
     "text": [
      "Epoch 34 Val: 100%|██████████| 55/55 [00:00<00:00, 90.73it/s]\n"
     ]
    },
    {
     "name": "stdout",
     "output_type": "stream",
     "text": [
      "Epoch 34: Val Loss 18109.5877, Val R2 = 0.180, Val RMSE = 0.261, Val MSE = 0.068, Val MAE = 0.203\n"
     ]
    },
    {
     "name": "stderr",
     "output_type": "stream",
     "text": [
      "100%|██████████| 176/176 [00:09<00:00, 18.85it/s]\n"
     ]
    },
    {
     "name": "stdout",
     "output_type": "stream",
     "text": [
      "Epoch 35: Train Loss 15123.1390, Train R2 = 0.926, Train RMSE = 0.078, Train MSE = 0.006, Train MAE = 0.054\n"
     ]
    },
    {
     "name": "stderr",
     "output_type": "stream",
     "text": [
      "Epoch 35 Val: 100%|██████████| 55/55 [00:00<00:00, 92.48it/s]\n"
     ]
    },
    {
     "name": "stdout",
     "output_type": "stream",
     "text": [
      "Epoch 35: Val Loss 25447.0860, Val R2 = -0.183, Val RMSE = 0.314, Val MSE = 0.098, Val MAE = 0.258\n"
     ]
    },
    {
     "name": "stderr",
     "output_type": "stream",
     "text": [
      "100%|██████████| 176/176 [00:09<00:00, 18.53it/s]\n"
     ]
    },
    {
     "name": "stdout",
     "output_type": "stream",
     "text": [
      "Epoch 36: Train Loss 19056.2442, Train R2 = 0.905, Train RMSE = 0.089, Train MSE = 0.008, Train MAE = 0.061\n"
     ]
    },
    {
     "name": "stderr",
     "output_type": "stream",
     "text": [
      "Epoch 36 Val: 100%|██████████| 55/55 [00:00<00:00, 86.36it/s]\n"
     ]
    },
    {
     "name": "stdout",
     "output_type": "stream",
     "text": [
      "Epoch 36: Val Loss 75937.9286, Val R2 = -2.874, Val RMSE = 0.568, Val MSE = 0.322, Val MAE = 0.503\n"
     ]
    },
    {
     "name": "stderr",
     "output_type": "stream",
     "text": [
      "100%|██████████| 176/176 [00:09<00:00, 18.52it/s]\n"
     ]
    },
    {
     "name": "stdout",
     "output_type": "stream",
     "text": [
      "Epoch 37: Train Loss 16006.6847, Train R2 = 0.923, Train RMSE = 0.080, Train MSE = 0.006, Train MAE = 0.056\n"
     ]
    },
    {
     "name": "stderr",
     "output_type": "stream",
     "text": [
      "Epoch 37 Val: 100%|██████████| 55/55 [00:00<00:00, 85.48it/s]\n"
     ]
    },
    {
     "name": "stdout",
     "output_type": "stream",
     "text": [
      "Epoch 37: Val Loss 48931.9473, Val R2 = -1.397, Val RMSE = 0.446, Val MSE = 0.199, Val MAE = 0.402\n"
     ]
    },
    {
     "name": "stderr",
     "output_type": "stream",
     "text": [
      "100%|██████████| 176/176 [00:09<00:00, 18.71it/s]\n"
     ]
    },
    {
     "name": "stdout",
     "output_type": "stream",
     "text": [
      "Epoch 38: Train Loss 14513.1174, Train R2 = 0.936, Train RMSE = 0.073, Train MSE = 0.005, Train MAE = 0.053\n"
     ]
    },
    {
     "name": "stderr",
     "output_type": "stream",
     "text": [
      "Epoch 38 Val: 100%|██████████| 55/55 [00:00<00:00, 84.78it/s]\n"
     ]
    },
    {
     "name": "stdout",
     "output_type": "stream",
     "text": [
      "Epoch 38: Val Loss 21978.3447, Val R2 = -0.120, Val RMSE = 0.305, Val MSE = 0.093, Val MAE = 0.259\n"
     ]
    },
    {
     "name": "stderr",
     "output_type": "stream",
     "text": [
      "100%|██████████| 176/176 [00:09<00:00, 18.35it/s]\n"
     ]
    },
    {
     "name": "stdout",
     "output_type": "stream",
     "text": [
      "Epoch 39: Train Loss 40482.2321, Train R2 = 0.810, Train RMSE = 0.126, Train MSE = 0.016, Train MAE = 0.093\n"
     ]
    },
    {
     "name": "stderr",
     "output_type": "stream",
     "text": [
      "Epoch 39 Val: 100%|██████████| 55/55 [00:00<00:00, 90.56it/s]\n"
     ]
    },
    {
     "name": "stdout",
     "output_type": "stream",
     "text": [
      "Epoch 39: Val Loss 112985.9268, Val R2 = -4.865, Val RMSE = 0.698, Val MSE = 0.488, Val MAE = 0.652\n"
     ]
    },
    {
     "name": "stderr",
     "output_type": "stream",
     "text": [
      "100%|██████████| 176/176 [00:09<00:00, 18.60it/s]\n"
     ]
    },
    {
     "name": "stdout",
     "output_type": "stream",
     "text": [
      "Epoch 40: Train Loss 29233.3324, Train R2 = 0.863, Train RMSE = 0.107, Train MSE = 0.011, Train MAE = 0.082\n"
     ]
    },
    {
     "name": "stderr",
     "output_type": "stream",
     "text": [
      "Epoch 40 Val: 100%|██████████| 55/55 [00:00<00:00, 89.60it/s]\n"
     ]
    },
    {
     "name": "stdout",
     "output_type": "stream",
     "text": [
      "Epoch 40: Val Loss 121432.0192, Val R2 = -5.332, Val RMSE = 0.726, Val MSE = 0.527, Val MAE = 0.634\n"
     ]
    },
    {
     "name": "stderr",
     "output_type": "stream",
     "text": [
      "100%|██████████| 176/176 [00:09<00:00, 18.90it/s]\n"
     ]
    },
    {
     "name": "stdout",
     "output_type": "stream",
     "text": [
      "Epoch 41: Train Loss 22679.3392, Train R2 = 0.888, Train RMSE = 0.097, Train MSE = 0.009, Train MAE = 0.073\n"
     ]
    },
    {
     "name": "stderr",
     "output_type": "stream",
     "text": [
      "Epoch 41 Val: 100%|██████████| 55/55 [00:00<00:00, 91.59it/s]\n"
     ]
    },
    {
     "name": "stdout",
     "output_type": "stream",
     "text": [
      "Epoch 41: Val Loss 98353.5266, Val R2 = -4.113, Val RMSE = 0.652, Val MSE = 0.425, Val MAE = 0.569\n"
     ]
    },
    {
     "name": "stderr",
     "output_type": "stream",
     "text": [
      "100%|██████████| 176/176 [00:11<00:00, 15.53it/s]\n"
     ]
    },
    {
     "name": "stdout",
     "output_type": "stream",
     "text": [
      "Epoch 42: Train Loss 18368.6919, Train R2 = 0.911, Train RMSE = 0.086, Train MSE = 0.007, Train MAE = 0.067\n"
     ]
    },
    {
     "name": "stderr",
     "output_type": "stream",
     "text": [
      "Epoch 42 Val: 100%|██████████| 55/55 [00:00<00:00, 78.75it/s]\n"
     ]
    },
    {
     "name": "stdout",
     "output_type": "stream",
     "text": [
      "Epoch 42: Val Loss 81409.0783, Val R2 = -3.220, Val RMSE = 0.592, Val MSE = 0.351, Val MAE = 0.509\n"
     ]
    },
    {
     "name": "stderr",
     "output_type": "stream",
     "text": [
      "100%|██████████| 176/176 [00:11<00:00, 15.51it/s]\n"
     ]
    },
    {
     "name": "stdout",
     "output_type": "stream",
     "text": [
      "Epoch 43: Train Loss 16120.3288, Train R2 = 0.922, Train RMSE = 0.081, Train MSE = 0.006, Train MAE = 0.064\n"
     ]
    },
    {
     "name": "stderr",
     "output_type": "stream",
     "text": [
      "Epoch 43 Val: 100%|██████████| 55/55 [00:00<00:00, 93.87it/s]\n"
     ]
    },
    {
     "name": "stdout",
     "output_type": "stream",
     "text": [
      "Epoch 43: Val Loss 74013.9989, Val R2 = -2.823, Val RMSE = 0.564, Val MSE = 0.318, Val MAE = 0.484\n"
     ]
    },
    {
     "name": "stderr",
     "output_type": "stream",
     "text": [
      "100%|██████████| 176/176 [00:10<00:00, 16.56it/s]\n"
     ]
    },
    {
     "name": "stdout",
     "output_type": "stream",
     "text": [
      "Epoch 44: Train Loss 15371.6316, Train R2 = 0.924, Train RMSE = 0.079, Train MSE = 0.006, Train MAE = 0.062\n"
     ]
    },
    {
     "name": "stderr",
     "output_type": "stream",
     "text": [
      "Epoch 44 Val: 100%|██████████| 55/55 [00:00<00:00, 85.24it/s]\n"
     ]
    },
    {
     "name": "stdout",
     "output_type": "stream",
     "text": [
      "Epoch 44: Val Loss 77084.1694, Val R2 = -2.976, Val RMSE = 0.575, Val MSE = 0.331, Val MAE = 0.493\n"
     ]
    },
    {
     "name": "stderr",
     "output_type": "stream",
     "text": [
      "100%|██████████| 176/176 [00:10<00:00, 16.46it/s]\n"
     ]
    },
    {
     "name": "stdout",
     "output_type": "stream",
     "text": [
      "Epoch 45: Train Loss 21161.1040, Train R2 = 0.898, Train RMSE = 0.092, Train MSE = 0.009, Train MAE = 0.076\n"
     ]
    },
    {
     "name": "stderr",
     "output_type": "stream",
     "text": [
      "Epoch 45 Val: 100%|██████████| 55/55 [00:00<00:00, 85.11it/s]\n"
     ]
    },
    {
     "name": "stdout",
     "output_type": "stream",
     "text": [
      "Epoch 45: Val Loss 78948.2927, Val R2 = -3.066, Val RMSE = 0.581, Val MSE = 0.338, Val MAE = 0.497\n"
     ]
    },
    {
     "name": "stderr",
     "output_type": "stream",
     "text": [
      "100%|██████████| 176/176 [00:10<00:00, 16.52it/s]\n"
     ]
    },
    {
     "name": "stdout",
     "output_type": "stream",
     "text": [
      "Epoch 46: Train Loss 16777.8345, Train R2 = 0.921, Train RMSE = 0.081, Train MSE = 0.007, Train MAE = 0.065\n"
     ]
    },
    {
     "name": "stderr",
     "output_type": "stream",
     "text": [
      "Epoch 46 Val: 100%|██████████| 55/55 [00:00<00:00, 82.39it/s]\n"
     ]
    },
    {
     "name": "stdout",
     "output_type": "stream",
     "text": [
      "Epoch 46: Val Loss 75976.5513, Val R2 = -2.910, Val RMSE = 0.570, Val MSE = 0.325, Val MAE = 0.488\n"
     ]
    },
    {
     "name": "stderr",
     "output_type": "stream",
     "text": [
      "100%|██████████| 176/176 [00:10<00:00, 16.12it/s]\n"
     ]
    },
    {
     "name": "stdout",
     "output_type": "stream",
     "text": [
      "Epoch 47: Train Loss 15381.1602, Train R2 = 0.927, Train RMSE = 0.078, Train MSE = 0.006, Train MAE = 0.062\n"
     ]
    },
    {
     "name": "stderr",
     "output_type": "stream",
     "text": [
      "Epoch 47 Val: 100%|██████████| 55/55 [00:00<00:00, 76.49it/s]\n"
     ]
    },
    {
     "name": "stdout",
     "output_type": "stream",
     "text": [
      "Epoch 47: Val Loss 73960.5295, Val R2 = -2.803, Val RMSE = 0.562, Val MSE = 0.316, Val MAE = 0.481\n"
     ]
    },
    {
     "name": "stderr",
     "output_type": "stream",
     "text": [
      "100%|██████████| 176/176 [00:10<00:00, 16.18it/s]\n"
     ]
    },
    {
     "name": "stdout",
     "output_type": "stream",
     "text": [
      "Epoch 48: Train Loss 14453.0498, Train R2 = 0.929, Train RMSE = 0.077, Train MSE = 0.006, Train MAE = 0.060\n"
     ]
    },
    {
     "name": "stderr",
     "output_type": "stream",
     "text": [
      "Epoch 48 Val: 100%|██████████| 55/55 [00:00<00:00, 80.27it/s]\n"
     ]
    },
    {
     "name": "stdout",
     "output_type": "stream",
     "text": [
      "Epoch 48: Val Loss 71941.9950, Val R2 = -2.694, Val RMSE = 0.554, Val MSE = 0.307, Val MAE = 0.475\n"
     ]
    },
    {
     "name": "stderr",
     "output_type": "stream",
     "text": [
      "100%|██████████| 176/176 [00:10<00:00, 16.20it/s]\n"
     ]
    },
    {
     "name": "stdout",
     "output_type": "stream",
     "text": [
      "Epoch 49: Train Loss 13575.2261, Train R2 = 0.932, Train RMSE = 0.075, Train MSE = 0.006, Train MAE = 0.059\n"
     ]
    },
    {
     "name": "stderr",
     "output_type": "stream",
     "text": [
      "Epoch 49 Val: 100%|██████████| 55/55 [00:00<00:00, 83.97it/s]\n"
     ]
    },
    {
     "name": "stdout",
     "output_type": "stream",
     "text": [
      "Epoch 49: Val Loss 71856.6636, Val R2 = -2.688, Val RMSE = 0.554, Val MSE = 0.307, Val MAE = 0.475\n"
     ]
    },
    {
     "name": "stderr",
     "output_type": "stream",
     "text": [
      "100%|██████████| 176/176 [00:10<00:00, 16.07it/s]\n"
     ]
    },
    {
     "name": "stdout",
     "output_type": "stream",
     "text": [
      "Epoch 50: Train Loss 13391.4159, Train R2 = 0.932, Train RMSE = 0.075, Train MSE = 0.006, Train MAE = 0.059\n"
     ]
    },
    {
     "name": "stderr",
     "output_type": "stream",
     "text": [
      "Epoch 50 Val: 100%|██████████| 55/55 [00:00<00:00, 79.28it/s]"
     ]
    },
    {
     "name": "stdout",
     "output_type": "stream",
     "text": [
      "Epoch 50: Val Loss 72419.8598, Val R2 = -2.716, Val RMSE = 0.556, Val MSE = 0.309, Val MAE = 0.476\n"
     ]
    },
    {
     "name": "stderr",
     "output_type": "stream",
     "text": [
      "\n"
     ]
    },
    {
     "data": {
      "text/plain": [
       "{'train_loss': [71411.47699529474,\n",
       "  72934.35299127753,\n",
       "  92069.4452348189,\n",
       "  92761.11941389604,\n",
       "  95194.03612448952,\n",
       "  85718.63745602695,\n",
       "  102784.19022854892,\n",
       "  110154.92611971768,\n",
       "  114369.55271356757,\n",
       "  110057.55301458185,\n",
       "  118108.09006292169,\n",
       "  130571.25100153143,\n",
       "  133551.74479259143,\n",
       "  129698.52443903143,\n",
       "  116771.2280439897,\n",
       "  111719.3397175182,\n",
       "  112538.11091475053,\n",
       "  92956.02457497337,\n",
       "  80638.44046783447,\n",
       "  88870.0535625111,\n",
       "  101010.56883933327,\n",
       "  97319.18547682329,\n",
       "  65690.59196402809,\n",
       "  51803.21976540305,\n",
       "  47444.73375355114,\n",
       "  38252.820488669655,\n",
       "  40785.565234097565,\n",
       "  46165.46734965931,\n",
       "  44656.802494395866,\n",
       "  38481.51115001331,\n",
       "  27974.619006070225,\n",
       "  25176.618532354183,\n",
       "  24126.551865317604,\n",
       "  28209.325192538174,\n",
       "  15123.138951388273,\n",
       "  19056.244228016247,\n",
       "  16006.68465909091,\n",
       "  14513.117352572355,\n",
       "  40482.23208063299,\n",
       "  29233.332412719727,\n",
       "  22679.33917236328,\n",
       "  18368.69191950018,\n",
       "  16120.328836614435,\n",
       "  15371.631640347567,\n",
       "  21161.104006680576,\n",
       "  16777.834465720436,\n",
       "  15381.160225608131,\n",
       "  14453.04976307262,\n",
       "  13575.226057572798,\n",
       "  13391.415865811434],\n",
       " 'train_r2': [0.6351853729829496,\n",
       "  0.627925378121451,\n",
       "  0.5315348862105518,\n",
       "  0.5261758808078408,\n",
       "  0.5165706601382878,\n",
       "  0.5626570042657745,\n",
       "  0.4761942799424179,\n",
       "  0.438586690599266,\n",
       "  0.4160795710637064,\n",
       "  0.439423868415978,\n",
       "  0.39757363240341415,\n",
       "  0.34049307087795455,\n",
       "  0.3171824091588603,\n",
       "  0.33885455454450564,\n",
       "  0.40404489219202655,\n",
       "  0.435057604179091,\n",
       "  0.4272772720339505,\n",
       "  0.5275075661582707,\n",
       "  0.6072114326486877,\n",
       "  0.5643588965802491,\n",
       "  0.5000073816696093,\n",
       "  0.5174467878323541,\n",
       "  0.672658794847286,\n",
       "  0.7363619166176671,\n",
       "  0.7582642764881691,\n",
       "  0.8059088126959937,\n",
       "  0.7987427524585602,\n",
       "  0.7651833657030911,\n",
       "  0.7763781226040865,\n",
       "  0.8038742070969722,\n",
       "  0.8592739806073322,\n",
       "  0.8740826343359349,\n",
       "  0.8809179510225893,\n",
       "  0.8578140397307109,\n",
       "  0.9260478264305725,\n",
       "  0.9046453520014068,\n",
       "  0.9230382811732909,\n",
       "  0.9363174274726546,\n",
       "  0.8103394166411888,\n",
       "  0.8625143516747229,\n",
       "  0.8879347447895141,\n",
       "  0.910801106096819,\n",
       "  0.9220019974444592,\n",
       "  0.924354575135135,\n",
       "  0.897816971245225,\n",
       "  0.920890514873079,\n",
       "  0.9266147786721425,\n",
       "  0.9293095388368124,\n",
       "  0.9318996763716024,\n",
       "  0.9324375714665726],\n",
       " 'train_mae': [0.10337115,\n",
       "  0.09400281,\n",
       "  0.10526702,\n",
       "  0.1045119,\n",
       "  0.108636305,\n",
       "  0.104212806,\n",
       "  0.11155859,\n",
       "  0.11808791,\n",
       "  0.11967785,\n",
       "  0.12002353,\n",
       "  0.13051823,\n",
       "  0.14179501,\n",
       "  0.14439155,\n",
       "  0.1437037,\n",
       "  0.1363518,\n",
       "  0.13414183,\n",
       "  0.13900585,\n",
       "  0.12444479,\n",
       "  0.11797174,\n",
       "  0.12437984,\n",
       "  0.12857021,\n",
       "  0.12629202,\n",
       "  0.103367634,\n",
       "  0.094766945,\n",
       "  0.085214965,\n",
       "  0.08166172,\n",
       "  0.08492129,\n",
       "  0.08784819,\n",
       "  0.086371414,\n",
       "  0.079088345,\n",
       "  0.06865188,\n",
       "  0.067479454,\n",
       "  0.06726341,\n",
       "  0.06950766,\n",
       "  0.05404452,\n",
       "  0.06132088,\n",
       "  0.05646074,\n",
       "  0.05290513,\n",
       "  0.09292887,\n",
       "  0.082190946,\n",
       "  0.07320952,\n",
       "  0.06711252,\n",
       "  0.06360098,\n",
       "  0.06232576,\n",
       "  0.075825505,\n",
       "  0.06533653,\n",
       "  0.061972674,\n",
       "  0.060008947,\n",
       "  0.05902777,\n",
       "  0.05854301],\n",
       " 'train_mse': [0.030381698,\n",
       "  0.030986309,\n",
       "  0.039013695,\n",
       "  0.03945999,\n",
       "  0.040259913,\n",
       "  0.036421847,\n",
       "  0.043622445,\n",
       "  0.0467544,\n",
       "  0.048628792,\n",
       "  0.04668468,\n",
       "  0.050169963,\n",
       "  0.05492362,\n",
       "  0.05686493,\n",
       "  0.055060077,\n",
       "  0.049631037,\n",
       "  0.047048304,\n",
       "  0.047696248,\n",
       "  0.03934909,\n",
       "  0.032711368,\n",
       "  0.036280114,\n",
       "  0.0416393,\n",
       "  0.04018695,\n",
       "  0.027260918,\n",
       "  0.021955734,\n",
       "  0.020131709,\n",
       "  0.016163882,\n",
       "  0.01676067,\n",
       "  0.01955549,\n",
       "  0.018623188,\n",
       "  0.016333321,\n",
       "  0.011719638,\n",
       "  0.0104863765,\n",
       "  0.009917133,\n",
       "  0.011841222,\n",
       "  0.006158724,\n",
       "  0.007941118,\n",
       "  0.0064093587,\n",
       "  0.005303473,\n",
       "  0.0157949,\n",
       "  0.011449779,\n",
       "  0.009332774,\n",
       "  0.007428468,\n",
       "  0.00649566,\n",
       "  0.006299738,\n",
       "  0.008509785,\n",
       "  0.006588224,\n",
       "  0.0061115087,\n",
       "  0.0058870893,\n",
       "  0.005671383,\n",
       "  0.005626587],\n",
       " 'train_rmse': [0.17430347,\n",
       "  0.17602928,\n",
       "  0.19751884,\n",
       "  0.19864538,\n",
       "  0.20064873,\n",
       "  0.19084509,\n",
       "  0.20885988,\n",
       "  0.21622767,\n",
       "  0.22051936,\n",
       "  0.21606638,\n",
       "  0.22398652,\n",
       "  0.2343579,\n",
       "  0.23846368,\n",
       "  0.23464884,\n",
       "  0.22278024,\n",
       "  0.2169062,\n",
       "  0.21839471,\n",
       "  0.19836605,\n",
       "  0.18086284,\n",
       "  0.1904734,\n",
       "  0.2040571,\n",
       "  0.20046683,\n",
       "  0.1651088,\n",
       "  0.14817467,\n",
       "  0.14188625,\n",
       "  0.12713726,\n",
       "  0.129463,\n",
       "  0.13984095,\n",
       "  0.1364668,\n",
       "  0.12780188,\n",
       "  0.10825727,\n",
       "  0.10240301,\n",
       "  0.0995848,\n",
       "  0.108817376,\n",
       "  0.07847754,\n",
       "  0.08911295,\n",
       "  0.08005847,\n",
       "  0.07282495,\n",
       "  0.12567776,\n",
       "  0.107003644,\n",
       "  0.096606284,\n",
       "  0.08618856,\n",
       "  0.08059566,\n",
       "  0.079370886,\n",
       "  0.09224849,\n",
       "  0.08116788,\n",
       "  0.07817614,\n",
       "  0.07672737,\n",
       "  0.07530858,\n",
       "  0.07501058],\n",
       " 'val_loss': [75271.12235405661,\n",
       "  70061.12945757779,\n",
       "  73976.61437504509,\n",
       "  67710.78118743896,\n",
       "  74545.39200106534,\n",
       "  86453.37793884278,\n",
       "  82379.41716974432,\n",
       "  67264.72493202903,\n",
       "  85010.22748205012,\n",
       "  56990.917759184405,\n",
       "  69691.80745558305,\n",
       "  51681.76443295912,\n",
       "  58931.0143350081,\n",
       "  65276.9059872714,\n",
       "  66153.69563099254,\n",
       "  71915.11618041992,\n",
       "  43940.11022470648,\n",
       "  40503.101404086025,\n",
       "  36147.406316722525,\n",
       "  19696.963079001685,\n",
       "  34937.17081867565,\n",
       "  30209.29136241566,\n",
       "  42957.08928971724,\n",
       "  36249.32106323242,\n",
       "  25352.503803946754,\n",
       "  18046.5533203125,\n",
       "  90940.47134232955,\n",
       "  44624.2814897017,\n",
       "  32924.64046075994,\n",
       "  109529.07357954545,\n",
       "  23538.35145596591,\n",
       "  11370.411835271661,\n",
       "  76495.30806551846,\n",
       "  18109.587659801135,\n",
       "  25447.085986328126,\n",
       "  75937.9285600142,\n",
       "  48931.94727228338,\n",
       "  21978.344653320313,\n",
       "  112985.92681107954,\n",
       "  121432.01923939098,\n",
       "  98353.52659912109,\n",
       "  81409.07832919034,\n",
       "  74013.99886030717,\n",
       "  77084.16935480291,\n",
       "  78948.29267245207,\n",
       "  75976.55130948154,\n",
       "  73960.52952658913,\n",
       "  71941.99502286044,\n",
       "  71856.66363414418,\n",
       "  72419.85976340553],\n",
       " 'val_r2': [-3.019679543105223,\n",
       "  -2.7413221423821468,\n",
       "  -2.950564068802498,\n",
       "  -2.6158119869865235,\n",
       "  -2.9798211282004563,\n",
       "  -3.6157756614488967,\n",
       "  -3.398357499862941,\n",
       "  -2.5884254519014953,\n",
       "  -3.5396937778121584,\n",
       "  -2.0376174025651363,\n",
       "  -2.7196119218426174,\n",
       "  -1.750480235385845,\n",
       "  -2.1405381696102666,\n",
       "  -2.4719566104154898,\n",
       "  -2.5288241954481756,\n",
       "  -2.8279759022853286,\n",
       "  -1.3251870258503455,\n",
       "  -1.1234005713409414,\n",
       "  -0.8255616907595542,\n",
       "  0.08172192424878555,\n",
       "  -0.739042798339824,\n",
       "  -0.5007480481636566,\n",
       "  -1.1464017457859006,\n",
       "  -0.6807525199958957,\n",
       "  -0.1787006272108902,\n",
       "  0.21329934748086,\n",
       "  -3.739613875741844,\n",
       "  -1.2270435412869647,\n",
       "  -0.6434148051565909,\n",
       "  -4.72058289810087,\n",
       "  -0.14102136691531508,\n",
       "  0.4540916215331534,\n",
       "  -3.016358719482662,\n",
       "  0.17964124836814876,\n",
       "  -0.1825468610298986,\n",
       "  -2.8736150117232047,\n",
       "  -1.3972314016628196,\n",
       "  -0.12039764439399114,\n",
       "  -4.8648878252136125,\n",
       "  -5.331802378527991,\n",
       "  -4.11303811141378,\n",
       "  -3.2196992300843306,\n",
       "  -2.82324038813199,\n",
       "  -2.9764734582543495,\n",
       "  -3.0657068547400925,\n",
       "  -2.909710361373804,\n",
       "  -2.803477776564153,\n",
       "  -2.694450833812842,\n",
       "  -2.688499742001378,\n",
       "  -2.7161361586434456],\n",
       " 'val_mae': [0.5006367,\n",
       "  0.47822437,\n",
       "  0.49519423,\n",
       "  0.4685603,\n",
       "  0.49931294,\n",
       "  0.54824877,\n",
       "  0.53404874,\n",
       "  0.46820813,\n",
       "  0.54124856,\n",
       "  0.421997,\n",
       "  0.47620556,\n",
       "  0.39473698,\n",
       "  0.42875454,\n",
       "  0.4618479,\n",
       "  0.46292096,\n",
       "  0.49228558,\n",
       "  0.36502734,\n",
       "  0.3509426,\n",
       "  0.3213477,\n",
       "  0.23756629,\n",
       "  0.3175485,\n",
       "  0.3012037,\n",
       "  0.35487205,\n",
       "  0.30895585,\n",
       "  0.2601509,\n",
       "  0.19146031,\n",
       "  0.5940824,\n",
       "  0.366044,\n",
       "  0.31397325,\n",
       "  0.6542863,\n",
       "  0.24851957,\n",
       "  0.17695022,\n",
       "  0.5229461,\n",
       "  0.20341256,\n",
       "  0.25758442,\n",
       "  0.50320154,\n",
       "  0.40248045,\n",
       "  0.25941116,\n",
       "  0.652202,\n",
       "  0.63428026,\n",
       "  0.5687371,\n",
       "  0.5090375,\n",
       "  0.48433757,\n",
       "  0.492915,\n",
       "  0.49749005,\n",
       "  0.48788723,\n",
       "  0.4814366,\n",
       "  0.47495076,\n",
       "  0.4746601,\n",
       "  0.47640613],\n",
       " 'val_mse': [0.33428124,\n",
       "  0.3111327,\n",
       "  0.32853347,\n",
       "  0.3006951,\n",
       "  0.33096653,\n",
       "  0.38385326,\n",
       "  0.36577252,\n",
       "  0.2984176,\n",
       "  0.3775262,\n",
       "  0.2526118,\n",
       "  0.30932721,\n",
       "  0.22873314,\n",
       "  0.2611708,\n",
       "  0.28873193,\n",
       "  0.29346114,\n",
       "  0.31833893,\n",
       "  0.19336525,\n",
       "  0.17658445,\n",
       "  0.15181583,\n",
       "  0.07636507,\n",
       "  0.1446208,\n",
       "  0.124803945,\n",
       "  0.17849725,\n",
       "  0.13977332,\n",
       "  0.09802211,\n",
       "  0.065422945,\n",
       "  0.39415178,\n",
       "  0.18520354,\n",
       "  0.13666828,\n",
       "  0.47573033,\n",
       "  0.09488866,\n",
       "  0.045398373,\n",
       "  0.33400506,\n",
       "  0.06822199,\n",
       "  0.098341964,\n",
       "  0.32213432,\n",
       "  0.19935656,\n",
       "  0.09317357,\n",
       "  0.4877309,\n",
       "  0.52656007,\n",
       "  0.4252062,\n",
       "  0.35091507,\n",
       "  0.3179451,\n",
       "  0.33068815,\n",
       "  0.33810893,\n",
       "  0.32513607,\n",
       "  0.3163016,\n",
       "  0.3072348,\n",
       "  0.30673993,\n",
       "  0.3090382],\n",
       " 'val_rmse': [0.5781706,\n",
       "  0.5577927,\n",
       "  0.5731784,\n",
       "  0.5483567,\n",
       "  0.5752969,\n",
       "  0.61955893,\n",
       "  0.6047913,\n",
       "  0.5462761,\n",
       "  0.6144316,\n",
       "  0.502605,\n",
       "  0.55617195,\n",
       "  0.47826055,\n",
       "  0.51104873,\n",
       "  0.53733784,\n",
       "  0.54172057,\n",
       "  0.5642153,\n",
       "  0.43973315,\n",
       "  0.42021954,\n",
       "  0.3896355,\n",
       "  0.2763423,\n",
       "  0.38029042,\n",
       "  0.353276,\n",
       "  0.42248935,\n",
       "  0.3738627,\n",
       "  0.31308484,\n",
       "  0.2557791,\n",
       "  0.62781507,\n",
       "  0.4303528,\n",
       "  0.36968672,\n",
       "  0.6897321,\n",
       "  0.30804002,\n",
       "  0.21306895,\n",
       "  0.5779317,\n",
       "  0.2611934,\n",
       "  0.31359524,\n",
       "  0.5675688,\n",
       "  0.44649363,\n",
       "  0.30524346,\n",
       "  0.6983773,\n",
       "  0.7256446,\n",
       "  0.6520784,\n",
       "  0.5923809,\n",
       "  0.5638662,\n",
       "  0.5750549,\n",
       "  0.5814713,\n",
       "  0.57020706,\n",
       "  0.56240696,\n",
       "  0.5542877,\n",
       "  0.55384105,\n",
       "  0.555912]}"
      ]
     },
     "execution_count": 414,
     "metadata": {},
     "output_type": "execute_result"
    }
   ],
   "source": [
    "train_results = train(model, train_loader, val_loader, optimizer, criterion, device, 50)\n",
    "\n",
    "train_results"
   ]
  },
  {
   "cell_type": "code",
   "execution_count": 415,
   "id": "a2b068a5",
   "metadata": {},
   "outputs": [],
   "source": [
    "def plot_training_history(loss_history, metric_history=None):\n",
    "    plt.figure(figsize=(12, 5))\n",
    "\n",
    "    # Loss plot\n",
    "    plt.subplot(1, 2, 1)\n",
    "    plt.plot(loss_history, label='Training Loss')\n",
    "    plt.title('Training Loss Curve')\n",
    "    plt.xlabel('Epoch')\n",
    "    plt.ylabel('Loss')\n",
    "    plt.grid(True)\n",
    "    \n",
    "    # Metrics plot\n",
    "    if metric_history:\n",
    "        plt.subplot(1, 2, 2)\n",
    "        for metric_name, values in metric_history.items():\n",
    "            plt.plot(values, label=metric_name)\n",
    "        plt.title('Training Metrics')\n",
    "        plt.xlabel('Epoch')\n",
    "        plt.ylabel('Metric Value')\n",
    "        plt.grid(True)\n",
    "        plt.legend()\n",
    "    \n",
    "    plt.tight_layout()\n",
    "    plt.show()\n",
    "\n",
    "def plot_predictions_vs_actuals(y_true, y_pred, title='Predictions vs True Values'):\n",
    "    plt.figure(figsize=(12, 6))\n",
    "    plt.plot(y_true, label='True Values', linewidth=2)\n",
    "    plt.plot(y_pred, label='Predictions', linestyle='--')\n",
    "    plt.xlabel('Time Step')\n",
    "    plt.ylabel('Value')\n",
    "    plt.title(title)\n",
    "    plt.legend()\n",
    "    plt.grid(True)\n",
    "    plt.show()\n",
    "\n"
   ]
  },
  {
   "cell_type": "code",
   "execution_count": 416,
   "id": "546655a0",
   "metadata": {},
   "outputs": [
    {
     "data": {
      "image/png": "[encoded data removed]",
      "text/plain": [
       "<Figure size 1200x500 with 2 Axes>"
      ]
     },
     "metadata": {},
     "output_type": "display_data"
    }
   ],
   "source": [
    "plot_training_history(\n",
    "    train_results['train_loss'],\n",
    "    {\n",
    "        'rmse': train_results['train_rmse'],\n",
    "        'mae': train_results['train_mae'],\n",
    "        'mse': train_results['train_mse'],\n",
    "        'r2': train_results['train_r2'],\n",
    "    }\n",
    ")"
   ]
  },
  {
   "cell_type": "code",
   "execution_count": 377,
   "id": "400eea63",
   "metadata": {},
   "outputs": [
    {
     "data": {
      "text/plain": [
       "113"
      ]
     },
     "execution_count": 377,
     "metadata": {},
     "output_type": "execute_result"
    }
   ],
   "source": [
    "len(test_loader)"
   ]
  },
  {
   "cell_type": "code",
   "execution_count": 417,
   "id": "15c351fd",
   "metadata": {},
   "outputs": [],
   "source": [
    "# model.load_state_dict(torch.load('best_r2_model.pth', weights_only=True))\n",
    "\n",
    "def test(\n",
    "    model,\n",
    "    test_loader,\n",
    "    device,\n",
    "):\n",
    "    model.eval()\n",
    "\n",
    "    test_preds = []\n",
    "    test_targets = []\n",
    "\n",
    "    test_r2 = []\n",
    "    test_mae = []\n",
    "    test_mse = []\n",
    "    test_rmse = []\n",
    "    \n",
    "    with torch.no_grad():\n",
    "        for data, labels in tqdm(test_loader):\n",
    "            data = data.to(device)\n",
    "            labels = labels.to(device)\n",
    "            predictions = model(data).flatten()\n",
    "            \n",
    "            # predictions = torch.cummin(predictions.flip(0), dim=0).values.flip(-1)\n",
    "\n",
    "            test_preds.append(predictions)\n",
    "            test_targets.append(labels)\n",
    "\n",
    "        test_preds = torch.cat(test_preds).cpu().detach().numpy()\n",
    "        test_targets = torch.cat(test_targets).cpu().detach().numpy()\n",
    "\n",
    "        mse = mean_squared_error(test_targets, test_preds)\n",
    "\n",
    "        test_r2.append(r2_score(test_targets, test_preds))\n",
    "        test_mae.append(mean_absolute_error(test_targets, test_preds))\n",
    "        test_mse.append(mse)\n",
    "        test_rmse.append(np.sqrt(mse))\n",
    "\n",
    "    return {\n",
    "        'test_r2': test_r2,\n",
    "        'test_mae': test_mae,\n",
    "        'test_mse': test_mse,\n",
    "        'test_rmse': test_rmse,\n",
    "        'test_preds': test_preds,\n",
    "        'test_targets': test_targets,\n",
    "    }\n",
    "          "
   ]
  },
  {
   "cell_type": "code",
   "execution_count": 418,
   "id": "e519ea9d",
   "metadata": {},
   "outputs": [
    {
     "name": "stderr",
     "output_type": "stream",
     "text": [
      "100%|██████████| 113/113 [00:00<00:00, 174.12it/s]\n"
     ]
    },
    {
     "data": {
      "text/plain": [
       "{'test_r2': [0.1718114612563425],\n",
       " 'test_mae': [0.16173251],\n",
       " 'test_mse': [0.03969033],\n",
       " 'test_rmse': [0.19922432],\n",
       " 'test_preds': array([ 0.580876  ,  0.6237904 ,  0.6354144 , ...,  0.04349749,\n",
       "        -0.05631678, -0.03484212], dtype=float32),\n",
       " 'test_targets': array([[0.99962103],\n",
       "        [0.9994105 ],\n",
       "        [0.9992    ],\n",
       "        ...,\n",
       "        [0.24190493],\n",
       "        [0.24169439],\n",
       "        [0.24148385]], dtype=float32)}"
      ]
     },
     "execution_count": 418,
     "metadata": {},
     "output_type": "execute_result"
    }
   ],
   "source": [
    "test_results = test(model, test_loader, device)\n",
    "\n",
    "test_results"
   ]
  },
  {
   "cell_type": "code",
   "execution_count": 420,
   "id": "df88c977",
   "metadata": {},
   "outputs": [
    {
     "data": {
      "image/png": "[encoded data removed]",
      "text/plain": [
       "<Figure size 1200x600 with 1 Axes>"
      ]
     },
     "metadata": {},
     "output_type": "display_data"
    }
   ],
   "source": [
    "plot_predictions_vs_actuals(\n",
    "    test_results['test_targets'],\n",
    "    test_results['test_preds']\n",
    ")"
   ]
  },
  {
   "cell_type": "code",
   "execution_count": null,
   "id": "b00566d8",
   "metadata": {},
   "outputs": [
    {
     "data": {
      "text/plain": [
       "(4602, 1)"
      ]
     },
     "execution_count": 288,
     "metadata": {},
     "output_type": "execute_result"
    }
   ],
   "source": [
    "test_results['test_targets']"
   ]
  },
  {
   "cell_type": "code",
   "execution_count": 300,
   "id": "a238957f",
   "metadata": {},
   "outputs": [
    {
     "data": {
      "text/plain": [
       "array([0.02777791, 0.02777791, 0.02777791, ..., 0.02777791, 0.02777791,\n",
       "       0.02777791], dtype=float32)"
      ]
     },
     "execution_count": 300,
     "metadata": {},
     "output_type": "execute_result"
    }
   ],
   "source": [
    "test_results['test_preds']"
   ]
  },
  {
   "cell_type": "code",
   "execution_count": 151,
   "id": "4b998a87",
   "metadata": {},
   "outputs": [
    {
     "data": {
      "text/plain": [
       "[<matplotlib.lines.Line2D at 0x7fdf5e9b52d0>]"
      ]
     },
     "execution_count": 151,
     "metadata": {},
     "output_type": "execute_result"
    },
    {
     "data": {
      "image/png": "[encoded data removed]",
      "text/plain": [
       "<Figure size 640x480 with 1 Axes>"
      ]
     },
     "metadata": {},
     "output_type": "display_data"
    }
   ],
   "source": [
    "plt.plot(test_results['rul'].cpu().numpy())"
   ]
  },
  {
   "cell_type": "code",
   "execution_count": null,
   "id": "a115a487",
   "metadata": {},
   "outputs": [],
   "source": []
  }
 ],
 "metadata": {
  "kernelspec": {
   "display_name": "bearing_rul",
   "language": "python",
   "name": "python3"
  },
  "language_info": {
   "codemirror_mode": {
    "name": "ipython",
    "version": 3
   },
   "file_extension": ".py",
   "mimetype": "text/x-python",
   "name": "python",
   "nbconvert_exporter": "python",
   "pygments_lexer": "ipython3",
   "version": "3.10.11"
  }
 },
 "nbformat": 4,
 "nbformat_minor": 5
}
