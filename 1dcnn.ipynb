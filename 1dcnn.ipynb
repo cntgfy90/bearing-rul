{
 "cells": [
  {
   "cell_type": "code",
   "execution_count": 130,
   "id": "3f31f366",
   "metadata": {},
   "outputs": [],
   "source": [
    "import numpy as np\n",
    "import pandas as pd\n",
    "from torch import nn\n",
    "from phmd import datasets\n",
    "from sklearn.preprocessing import MinMaxScaler, StandardScaler, OneHotEncoder, RobustScaler\n",
    "from scipy.stats import kurtosis\n",
    "from scipy.fft import fft\n",
    "from scipy.fft import fft, fftfreq\n",
    "from sklearn.svm import SVR\n",
    "from sklearn.ensemble import RandomForestRegressor\n",
    "from sklearn.metrics import mean_absolute_error, mean_squared_error, r2_score\n",
    "from xgboost import XGBRegressor\n",
    "import matplotlib.pyplot as plt\n",
    "import seaborn as sns\n",
    "import os\n",
    "import torch\n",
    "from tqdm import tqdm\n",
    "from scipy.signal import stft\n",
    "from scipy.stats import kurtosis\n",
    "from torchsummary import summary\n",
    "from tabulate import tabulate"
   ]
  },
  {
   "cell_type": "code",
   "execution_count": 6,
   "id": "95d37866",
   "metadata": {},
   "outputs": [],
   "source": [
    "TRAIN_BEARINGS = {\n",
    "    1: [\n",
    "        '1_1',\n",
    "        # '1_2',\n",
    "    ],\n",
    "    2: [\n",
    "        '2_1',\n",
    "        '2_2',\n",
    "    ],\n",
    "    3: [\n",
    "        '3_1',\n",
    "        '3_2',\n",
    "    ]\n",
    "}\n",
    "\n",
    "TEST_BEARINGS = {\n",
    "    1: [\n",
    "        '1_3',\n",
    "        '1_4',\n",
    "        '1_5',\n",
    "        '1_6',\n",
    "        '1_7',\n",
    "    ],\n",
    "    2: [\n",
    "        '2_3',\n",
    "        '2_4',\n",
    "        '2_5',\n",
    "        '2_6',\n",
    "        '2_7',\n",
    "    ],\n",
    "    3: [\n",
    "        '3_3',\n",
    "    ]\n",
    "}"
   ]
  },
  {
   "cell_type": "code",
   "execution_count": 7,
   "id": "e470752a",
   "metadata": {},
   "outputs": [
    {
     "name": "stdout",
     "output_type": "stream",
     "text": [
      "PRONOSTIA\n",
      "\n",
      "Description\n",
      "===========\n",
      "The IEEE PHM data challenge in 2012 utilized a renowned dataset provided by the FEMTO-ST Institute. The dataset originated from experiments conducted on a laboratory experimental platform known as PRONOSTIA, designed for accelerated degradation testing of bearings under various operating conditions. During these experiments, online health monitoring data including rotating speed, load force, temperature, and vibration were collected.\n",
      "\n",
      "The dataset considered data from three different loads, encompassing rotating speed and load force variations. A total of 6 run-to-failure bearings were designated for building prognostic models, while an additional 11 bearings were allocated for testing purposes.\n",
      "\n",
      "One notable characteristic of the challenge datasets was the relatively small amount of training data available, coupled with a high variability in experiment durations ranging from 1 to 7 hours. This variability posed a significant challenge in accurately estimating prognostic models, contributing to the excitement and complexity of the challenge.\n",
      "\n",
      "Designation: PHM IEEE Data Challenge 2012 - FEMTO Bearing Data Set\n",
      "Publisher: FEMTO-ST Institute\n",
      "Domain: Mechanical component\n",
      "Application: Bearing\n",
      "License: CC0\n",
      "\n",
      "System info\n",
      "===========\n",
      "1. type            : rotatory machine:gear box:bearing\n",
      "2. platform        : PRONOSTIA experimentation platform dedicated to test and validate bearings fault detection\n",
      "3. fault component : bearing\n",
      "4. characteristics :\n",
      "   4.1 motor power           : 250W\n",
      "   4.2 motor speed           : 2830rpm\n",
      "   4.3 secondary shaft spped : 2000rpm\n",
      "\n",
      "Features\n",
      "========\n",
      "H_acc :\n",
      "   description : \n",
      "   type        : vibration\n",
      "V_acc :\n",
      "   description : \n",
      "   type        : vibration\n",
      "\n",
      "Operating Conditions\n",
      "====================\n",
      "1 : 1800 rpm and 4000 N\n",
      "2 : 1650 rpm and 4200 N\n",
      "3 : 1500 rpm and 5000 N\n",
      "\n",
      "Tasks\n",
      "=====\n",
      "Prognosis :\n",
      "   features   : V_acc,H_acc\n",
      "   identifier : unit\n",
      "   min_ts_len : 1318400\n",
      "   nature     : time-series\n",
      "   num_units  : 6\n",
      "   target     : rul\n",
      "   type       : regression\n",
      "\n",
      "Filters\n",
      "=======\n",
      "Bearing   : 1,2,3,4,5,6,7\n",
      "Condition : 1,2,3\n",
      "\n",
      "Resources\n",
      "=========\n",
      "1. storage :\n",
      "   a) zipped   : 570MB\n",
      "   b) unzipped : 2.6GB\n",
      "   c) RAM :\n",
      "      Test set  : 21GB\n",
      "      Train set : 5GB\n",
      "2. load time (SSD disk) :\n",
      "   a) unzipped :\n",
      "      Test set  : 55s\n",
      "      Train set : 29s\n",
      "   a) zipped :\n",
      "      Test set  : 57s\n",
      "      Train set : 36s\n",
      "\n",
      "References\n",
      "==========\n",
      "citation        : @inproceedings{nectoux2012pronostia,    \n",
      "    title={PRONOSTIA: An experimental platform for bearings accelerated degradation tests.},    \n",
      "    author={Nectoux, Patrick and Gouriveau, Rafael and Medjaher, Kamal and Ramasso, Emmanuel and Chebel-Morello, Brigitte and Zerhouni, Noureddine and Varnier, Christophe},    \n",
      "    booktitle={IEEE International Conference on Prognostics and Health Management, PHM'12.},    \n",
      "    pages={1--8},    \n",
      "    year={2012},    \n",
      "    organization={IEEE Catalog Number: CPF12PHM-CDR}    \n",
      "}\n",
      "manual_download : https://www.nasa.gov/intelligent-systems-division/discovery-and-systems-health/pcoe/pcoe-data-set-repository/\n"
     ]
    }
   ],
   "source": [
    "datasets.Dataset('PRONOSTIA').describe()"
   ]
  },
  {
   "cell_type": "code",
   "execution_count": 8,
   "id": "08d3cf88",
   "metadata": {},
   "outputs": [
    {
     "name": "stdout",
     "output_type": "stream",
     "text": [
      "Remember to cite the original publisher dataset:\n",
      "\t@inproceedings{nectoux2012pronostia,    \n",
      "\t    title={PRONOSTIA: An experimental platform for bearings accelerated degradation tests.},    \n",
      "\t    author={Nectoux, Patrick and Gouriveau, Rafael and Medjaher, Kamal and Ramasso, Emmanuel and Chebel-Morello, Brigitte and Zerhouni, Noureddine and Varnier, Christophe},    \n",
      "\t    booktitle={IEEE International Conference on Prognostics and Health Management, PHM'12.},    \n",
      "\t    pages={1--8},    \n",
      "\t    year={2012},    \n",
      "\t    organization={IEEE Catalog Number: CPF12PHM-CDR}    \n",
      "\t}\n",
      "You can download the dataset manually from:  https://www.nasa.gov/intelligent-systems-division/discovery-and-systems-health/pcoe/pcoe-data-set-repository/\n",
      "\n",
      "** If you find this tool useful, please cite our SoftwareX paper: \n",
      "\tSolís-Martín, David, Juan Galán-Páez, and Joaquín Borrego-Díaz. \"PHMD: An easy data access tool for prognosis and health management datasets.\" SoftwareX 29 (2025): 102039.\n",
      "\n"
     ]
    },
    {
     "name": "stderr",
     "output_type": "stream",
     "text": [
      "Reading Bearing3_2: 100%|██████████| 7534/7534 [00:21<00:00, 349.05it/s]\n",
      "Reading Bearing3_3: 100%|██████████| 13959/13959 [00:39<00:00, 355.84it/s]\n",
      "INFO:root:Read in 64.48553395271301 seconds\n"
     ]
    }
   ],
   "source": [
    "dataset = datasets.Dataset('PRONOSTIA')\n",
    "tasks = dataset['rul']\n",
    "df = tasks.load()"
   ]
  },
  {
   "cell_type": "code",
   "execution_count": 29,
   "id": "d0ef967b",
   "metadata": {},
   "outputs": [
    {
     "data": {
      "text/plain": [
       "[<matplotlib.lines.Line2D at 0x7f12bd904a30>]"
      ]
     },
     "execution_count": 29,
     "metadata": {},
     "output_type": "execute_result"
    },
    {
     "data": {
      "image/png": "[encoded data removed]",
      "text/plain": [
       "<Figure size 640x480 with 1 Axes>"
      ]
     },
     "metadata": {},
     "output_type": "display_data"
    }
   ],
   "source": [
    "d_1_1 = df[0][df[0]['unit'] == '1_1']\n",
    "d_1_2 = df[0][df[0]['unit'] == '1_2']\n",
    "d_2_1 = df[0][df[0]['unit'] == '2_1']\n",
    "d_2_2 = df[0][df[0]['unit'] == '2_2']\n",
    "d_3_1 = df[0][df[0]['unit'] == '3_1']\n",
    "d_3_2 = df[0][df[0]['unit'] == '3_2']\n",
    "\n",
    "plt.plot(d_1_2['H_acc'])"
   ]
  },
  {
   "cell_type": "code",
   "execution_count": 58,
   "id": "66112189",
   "metadata": {},
   "outputs": [
    {
     "data": {
      "image/png": "[encoded data removed]",
      "text/plain": [
       "<Figure size 1000x1000 with 1 Axes>"
      ]
     },
     "metadata": {},
     "output_type": "display_data"
    }
   ],
   "source": [
    "f = []\n",
    "ffts = []\n",
    "\n",
    "nperseg = 1024\n",
    "\n",
    "for d in [\n",
    "    d_1_1,\n",
    "    d_1_2,\n",
    "    d_2_1,\n",
    "    d_2_2,\n",
    "    d_3_1,\n",
    "    d_3_2\n",
    "]:\n",
    "    vibration_signal = (d['H_acc'] - np.mean(d['H_acc'])) / np.std(d['H_acc'])\n",
    "    u,v,w = stft(vibration_signal, 25.6 * 1000, nperseg=nperseg,noverlap = 512, window='hann', nfft=2048)\n",
    "    f.append(u)\n",
    "    ffts.append(kurtosis(np.abs(w),fisher = False,axis = 1))\n",
    "\n",
    "f = np.asarray(f)\n",
    "ffts = np.asarray(ffts)\n",
    "\n",
    "fftn = (ffts - ffts.min()) / (ffts.max() - ffts.min())\n",
    "\n",
    "fftn = np.asarray(fftn)\n",
    "n = np.ones_like(f[0])\n",
    "\n",
    "fig = plt.figure(figsize = (10.0,10.0))\n",
    "ax = plt.axes(projection = '3d')\n",
    "ax.view_init(30,225)\n",
    "for i in range(f.shape[0]):\n",
    "    ax.plot((f[i] * 3) / 1.0e3,i * n,fftn[i],color = 'black',linewidth = 0.50)\n",
    "\n",
    "ax.set_xlabel('Frequency (kHz)')\n",
    "ax.set_ylabel('Sample')\n",
    "ax.set_zlabel('Kurtosis')\n",
    "plt.show()"
   ]
  },
  {
   "cell_type": "code",
   "execution_count": 5,
   "id": "58e5a4bd",
   "metadata": {},
   "outputs": [
    {
     "data": {
      "text/plain": [
       "array(['1_1', '1_2', '2_1', '2_2', '3_1', '3_2'], dtype=object)"
      ]
     },
     "execution_count": 5,
     "metadata": {},
     "output_type": "execute_result"
    }
   ],
   "source": [
    "# train\n",
    "df[0]['unit'].unique()"
   ]
  },
  {
   "cell_type": "code",
   "execution_count": 6,
   "id": "9e59c6d2",
   "metadata": {},
   "outputs": [
    {
     "data": {
      "text/html": [
       "<div>\n",
       "<style scoped>\n",
       "    .dataframe tbody tr th:only-of-type {\n",
       "        vertical-align: middle;\n",
       "    }\n",
       "\n",
       "    .dataframe tbody tr th {\n",
       "        vertical-align: top;\n",
       "    }\n",
       "\n",
       "    .dataframe thead th {\n",
       "        text-align: right;\n",
       "    }\n",
       "</style>\n",
       "<table border=\"1\" class=\"dataframe\">\n",
       "  <thead>\n",
       "    <tr style=\"text-align: right;\">\n",
       "      <th></th>\n",
       "      <th>rul</th>\n",
       "      <th>V_acc</th>\n",
       "      <th>H_acc</th>\n",
       "      <th>unit</th>\n",
       "    </tr>\n",
       "  </thead>\n",
       "  <tbody>\n",
       "    <tr>\n",
       "      <th>0</th>\n",
       "      <td>28029</td>\n",
       "      <td>-0.146</td>\n",
       "      <td>0.552</td>\n",
       "      <td>1_1</td>\n",
       "    </tr>\n",
       "    <tr>\n",
       "      <th>1</th>\n",
       "      <td>28029</td>\n",
       "      <td>-0.480</td>\n",
       "      <td>0.501</td>\n",
       "      <td>1_1</td>\n",
       "    </tr>\n",
       "    <tr>\n",
       "      <th>2</th>\n",
       "      <td>28029</td>\n",
       "      <td>0.435</td>\n",
       "      <td>0.138</td>\n",
       "      <td>1_1</td>\n",
       "    </tr>\n",
       "    <tr>\n",
       "      <th>3</th>\n",
       "      <td>28029</td>\n",
       "      <td>0.240</td>\n",
       "      <td>-0.423</td>\n",
       "      <td>1_1</td>\n",
       "    </tr>\n",
       "    <tr>\n",
       "      <th>4</th>\n",
       "      <td>28029</td>\n",
       "      <td>0.020</td>\n",
       "      <td>-0.802</td>\n",
       "      <td>1_1</td>\n",
       "    </tr>\n",
       "  </tbody>\n",
       "</table>\n",
       "</div>"
      ],
      "text/plain": [
       "     rul  V_acc  H_acc unit\n",
       "0  28029 -0.146  0.552  1_1\n",
       "1  28029 -0.480  0.501  1_1\n",
       "2  28029  0.435  0.138  1_1\n",
       "3  28029  0.240 -0.423  1_1\n",
       "4  28029  0.020 -0.802  1_1"
      ]
     },
     "execution_count": 6,
     "metadata": {},
     "output_type": "execute_result"
    }
   ],
   "source": [
    "df[0].head(5)"
   ]
  },
  {
   "cell_type": "code",
   "execution_count": 7,
   "id": "36ab7dee",
   "metadata": {},
   "outputs": [
    {
     "data": {
      "text/plain": [
       "array(['1_3', '1_4', '1_5', '1_6', '1_7', '2_3', '2_4', '2_5', '2_6',\n",
       "       '2_7', '3_3'], dtype=object)"
      ]
     },
     "execution_count": 7,
     "metadata": {},
     "output_type": "execute_result"
    }
   ],
   "source": [
    "# test\n",
    "df[1]['unit'].unique()"
   ]
  },
  {
   "cell_type": "code",
   "execution_count": 8,
   "id": "0b4d16d9",
   "metadata": {},
   "outputs": [
    {
     "data": {
      "text/plain": [
       "0          1_1\n",
       "1          1_1\n",
       "2          1_1\n",
       "3          1_1\n",
       "4          1_1\n",
       "          ... \n",
       "7175675    1_1\n",
       "7175676    1_1\n",
       "7175677    1_1\n",
       "7175678    1_1\n",
       "7175679    1_1\n",
       "Name: unit, Length: 7175680, dtype: object"
      ]
     },
     "execution_count": 8,
     "metadata": {},
     "output_type": "execute_result"
    }
   ],
   "source": [
    "df[0][df[0]['unit'].isin(TRAIN_BEARINGS[1])]['unit']"
   ]
  },
  {
   "cell_type": "code",
   "execution_count": 9,
   "id": "c6ecf741",
   "metadata": {},
   "outputs": [
    {
     "data": {
      "text/html": [
       "<div>\n",
       "<style scoped>\n",
       "    .dataframe tbody tr th:only-of-type {\n",
       "        vertical-align: middle;\n",
       "    }\n",
       "\n",
       "    .dataframe tbody tr th {\n",
       "        vertical-align: top;\n",
       "    }\n",
       "\n",
       "    .dataframe thead th {\n",
       "        text-align: right;\n",
       "    }\n",
       "</style>\n",
       "<table border=\"1\" class=\"dataframe\">\n",
       "  <thead>\n",
       "    <tr style=\"text-align: right;\">\n",
       "      <th></th>\n",
       "      <th>rul</th>\n",
       "      <th>V_acc</th>\n",
       "      <th>H_acc</th>\n",
       "      <th>unit</th>\n",
       "    </tr>\n",
       "  </thead>\n",
       "  <tbody>\n",
       "    <tr>\n",
       "      <th>0</th>\n",
       "      <td>28029</td>\n",
       "      <td>-0.146</td>\n",
       "      <td>0.552</td>\n",
       "      <td>1_1</td>\n",
       "    </tr>\n",
       "    <tr>\n",
       "      <th>1</th>\n",
       "      <td>28029</td>\n",
       "      <td>-0.480</td>\n",
       "      <td>0.501</td>\n",
       "      <td>1_1</td>\n",
       "    </tr>\n",
       "    <tr>\n",
       "      <th>2</th>\n",
       "      <td>28029</td>\n",
       "      <td>0.435</td>\n",
       "      <td>0.138</td>\n",
       "      <td>1_1</td>\n",
       "    </tr>\n",
       "    <tr>\n",
       "      <th>3</th>\n",
       "      <td>28029</td>\n",
       "      <td>0.240</td>\n",
       "      <td>-0.423</td>\n",
       "      <td>1_1</td>\n",
       "    </tr>\n",
       "    <tr>\n",
       "      <th>4</th>\n",
       "      <td>28029</td>\n",
       "      <td>0.020</td>\n",
       "      <td>-0.802</td>\n",
       "      <td>1_1</td>\n",
       "    </tr>\n",
       "    <tr>\n",
       "      <th>...</th>\n",
       "      <td>...</td>\n",
       "      <td>...</td>\n",
       "      <td>...</td>\n",
       "      <td>...</td>\n",
       "    </tr>\n",
       "    <tr>\n",
       "      <th>7175675</th>\n",
       "      <td>0</td>\n",
       "      <td>2.129</td>\n",
       "      <td>-3.353</td>\n",
       "      <td>1_1</td>\n",
       "    </tr>\n",
       "    <tr>\n",
       "      <th>7175676</th>\n",
       "      <td>0</td>\n",
       "      <td>-2.299</td>\n",
       "      <td>-2.868</td>\n",
       "      <td>1_1</td>\n",
       "    </tr>\n",
       "    <tr>\n",
       "      <th>7175677</th>\n",
       "      <td>0</td>\n",
       "      <td>-1.844</td>\n",
       "      <td>-5.507</td>\n",
       "      <td>1_1</td>\n",
       "    </tr>\n",
       "    <tr>\n",
       "      <th>7175678</th>\n",
       "      <td>0</td>\n",
       "      <td>2.146</td>\n",
       "      <td>-3.578</td>\n",
       "      <td>1_1</td>\n",
       "    </tr>\n",
       "    <tr>\n",
       "      <th>7175679</th>\n",
       "      <td>0</td>\n",
       "      <td>0.470</td>\n",
       "      <td>-2.709</td>\n",
       "      <td>1_1</td>\n",
       "    </tr>\n",
       "  </tbody>\n",
       "</table>\n",
       "<p>7175680 rows × 4 columns</p>\n",
       "</div>"
      ],
      "text/plain": [
       "           rul  V_acc  H_acc unit\n",
       "0        28029 -0.146  0.552  1_1\n",
       "1        28029 -0.480  0.501  1_1\n",
       "2        28029  0.435  0.138  1_1\n",
       "3        28029  0.240 -0.423  1_1\n",
       "4        28029  0.020 -0.802  1_1\n",
       "...        ...    ...    ...  ...\n",
       "7175675      0  2.129 -3.353  1_1\n",
       "7175676      0 -2.299 -2.868  1_1\n",
       "7175677      0 -1.844 -5.507  1_1\n",
       "7175678      0  2.146 -3.578  1_1\n",
       "7175679      0  0.470 -2.709  1_1\n",
       "\n",
       "[7175680 rows x 4 columns]"
      ]
     },
     "execution_count": 9,
     "metadata": {},
     "output_type": "execute_result"
    }
   ],
   "source": [
    "df[0][df[0]['unit'].isin(TRAIN_BEARINGS[1])]"
   ]
  },
  {
   "cell_type": "code",
   "execution_count": 10,
   "id": "41fc4c80",
   "metadata": {},
   "outputs": [
    {
     "data": {
      "text/html": [
       "<div>\n",
       "<style scoped>\n",
       "    .dataframe tbody tr th:only-of-type {\n",
       "        vertical-align: middle;\n",
       "    }\n",
       "\n",
       "    .dataframe tbody tr th {\n",
       "        vertical-align: top;\n",
       "    }\n",
       "\n",
       "    .dataframe thead th {\n",
       "        text-align: right;\n",
       "    }\n",
       "</style>\n",
       "<table border=\"1\" class=\"dataframe\">\n",
       "  <thead>\n",
       "    <tr style=\"text-align: right;\">\n",
       "      <th></th>\n",
       "      <th>rul</th>\n",
       "      <th>V_acc</th>\n",
       "      <th>H_acc</th>\n",
       "      <th>unit</th>\n",
       "    </tr>\n",
       "  </thead>\n",
       "  <tbody>\n",
       "    <tr>\n",
       "      <th>0</th>\n",
       "      <td>23749</td>\n",
       "      <td>0.044</td>\n",
       "      <td>0.092</td>\n",
       "      <td>1_3</td>\n",
       "    </tr>\n",
       "    <tr>\n",
       "      <th>1</th>\n",
       "      <td>23749</td>\n",
       "      <td>0.432</td>\n",
       "      <td>-0.025</td>\n",
       "      <td>1_3</td>\n",
       "    </tr>\n",
       "    <tr>\n",
       "      <th>2</th>\n",
       "      <td>23749</td>\n",
       "      <td>0.008</td>\n",
       "      <td>-0.104</td>\n",
       "      <td>1_3</td>\n",
       "    </tr>\n",
       "    <tr>\n",
       "      <th>3</th>\n",
       "      <td>23749</td>\n",
       "      <td>-0.264</td>\n",
       "      <td>0.056</td>\n",
       "      <td>1_3</td>\n",
       "    </tr>\n",
       "    <tr>\n",
       "      <th>4</th>\n",
       "      <td>23749</td>\n",
       "      <td>-0.195</td>\n",
       "      <td>0.074</td>\n",
       "      <td>1_3</td>\n",
       "    </tr>\n",
       "    <tr>\n",
       "      <th>...</th>\n",
       "      <td>...</td>\n",
       "      <td>...</td>\n",
       "      <td>...</td>\n",
       "      <td>...</td>\n",
       "    </tr>\n",
       "    <tr>\n",
       "      <th>3845115</th>\n",
       "      <td>7570</td>\n",
       "      <td>-0.013</td>\n",
       "      <td>0.481</td>\n",
       "      <td>1_7</td>\n",
       "    </tr>\n",
       "    <tr>\n",
       "      <th>3845116</th>\n",
       "      <td>7570</td>\n",
       "      <td>-0.272</td>\n",
       "      <td>0.191</td>\n",
       "      <td>1_7</td>\n",
       "    </tr>\n",
       "    <tr>\n",
       "      <th>3845117</th>\n",
       "      <td>7570</td>\n",
       "      <td>0.466</td>\n",
       "      <td>0.250</td>\n",
       "      <td>1_7</td>\n",
       "    </tr>\n",
       "    <tr>\n",
       "      <th>3845118</th>\n",
       "      <td>7570</td>\n",
       "      <td>-0.582</td>\n",
       "      <td>0.001</td>\n",
       "      <td>1_7</td>\n",
       "    </tr>\n",
       "    <tr>\n",
       "      <th>3845119</th>\n",
       "      <td>7570</td>\n",
       "      <td>-0.371</td>\n",
       "      <td>0.199</td>\n",
       "      <td>1_7</td>\n",
       "    </tr>\n",
       "  </tbody>\n",
       "</table>\n",
       "<p>23160320 rows × 4 columns</p>\n",
       "</div>"
      ],
      "text/plain": [
       "           rul  V_acc  H_acc unit\n",
       "0        23749  0.044  0.092  1_3\n",
       "1        23749  0.432 -0.025  1_3\n",
       "2        23749  0.008 -0.104  1_3\n",
       "3        23749 -0.264  0.056  1_3\n",
       "4        23749 -0.195  0.074  1_3\n",
       "...        ...    ...    ...  ...\n",
       "3845115   7570 -0.013  0.481  1_7\n",
       "3845116   7570 -0.272  0.191  1_7\n",
       "3845117   7570  0.466  0.250  1_7\n",
       "3845118   7570 -0.582  0.001  1_7\n",
       "3845119   7570 -0.371  0.199  1_7\n",
       "\n",
       "[23160320 rows x 4 columns]"
      ]
     },
     "execution_count": 10,
     "metadata": {},
     "output_type": "execute_result"
    }
   ],
   "source": [
    "df[1][df[1]['unit'].isin(TEST_BEARINGS[1])]"
   ]
  },
  {
   "cell_type": "code",
   "execution_count": 11,
   "id": "0685c0bc",
   "metadata": {},
   "outputs": [
    {
     "data": {
      "text/plain": [
       "[<matplotlib.lines.Line2D at 0x7f5023c62470>]"
      ]
     },
     "execution_count": 11,
     "metadata": {},
     "output_type": "execute_result"
    },
    {
     "data": {
      "image/png": "[encoded data removed]",
      "text/plain": [
       "<Figure size 640x480 with 1 Axes>"
      ]
     },
     "metadata": {},
     "output_type": "display_data"
    }
   ],
   "source": [
    "plt.plot(df[1][df[1]['unit'] == '1_3']['rul'])"
   ]
  },
  {
   "cell_type": "code",
   "execution_count": 12,
   "id": "b131384a",
   "metadata": {},
   "outputs": [],
   "source": [
    "# sns.kdeplot(df[0][df[0]['unit'] == '1_1']['H_acc'], label='Train')\n",
    "# sns.kdeplot(test_features['h_RMS'], label='Test')\n",
    "# plt.legend(); plt.show()"
   ]
  },
  {
   "cell_type": "code",
   "execution_count": 126,
   "id": "a2dafbea",
   "metadata": {},
   "outputs": [],
   "source": [
    "class BearingDataset(torch.utils.data.Dataset):\n",
    "    def __init__(self, df, window_size=2560, step=2560 // 2):\n",
    "        self.windows = []\n",
    "        self.ruls = []\n",
    "        \n",
    "        # Create sequences\n",
    "        for _, group in df.groupby('unit'):\n",
    "            h_acc =  group['H_acc'].transform(\n",
    "                lambda x: (x - x.mean()) / (x.std() + 1e-8)\n",
    "            )\n",
    "            v_acc =  group['V_acc'].transform(\n",
    "                lambda x: (x - x.mean()) / (x.std() + 1e-8)\n",
    "            )\n",
    "\n",
    "            rul = group['rul'].transform(lambda x: x / x.max())\n",
    "\n",
    "            for i in range(0, len(group) - window_size, step):\n",
    "\n",
    "                self.windows.append(np.stack([\n",
    "                    h_acc[i:i+window_size], \n",
    "                    v_acc[i:i+window_size]\n",
    "                ], axis=1))\n",
    "                self.ruls.append(rul.values[i+window_size-1])\n",
    "\n",
    "    def __len__(self):\n",
    "        return len(self.windows)\n",
    "    \n",
    "    def __getitem__(self, idx):\n",
    "        return torch.FloatTensor(self.windows[idx]), torch.FloatTensor([self.ruls[idx]])\n",
    "    \n",
    "train_dataset = BearingDataset(\n",
    "    # [b for state in TRAIN_BEARINGS for b in TRAIN_BEARINGS[state]]\n",
    "    df=df[0][df[0]['unit'].isin(['3_2'])],\n",
    ")\n",
    "\n",
    "test_dataset = BearingDataset(\n",
    "    df=df[1][df[1]['unit'] == '3_3'],\n",
    ")\n",
    "\n",
    "val_dataset = BearingDataset(\n",
    "    df=df[0][df[0]['unit'] == '3_1'],\n",
    ")\n",
    "\n",
    "train_loader = torch.utils.data.DataLoader(train_dataset, batch_size=32, shuffle=False)\n",
    "test_loader = torch.utils.data.DataLoader(test_dataset, batch_size=32, shuffle=False)\n",
    "val_loader = torch.utils.data.DataLoader(val_dataset, batch_size=32, shuffle=False)"
   ]
  },
  {
   "cell_type": "code",
   "execution_count": 114,
   "id": "42f0e240",
   "metadata": {},
   "outputs": [
    {
     "data": {
      "text/plain": [
       "1820"
      ]
     },
     "execution_count": 114,
     "metadata": {},
     "output_type": "execute_result"
    }
   ],
   "source": [
    "len(train_dataset)"
   ]
  },
  {
   "cell_type": "code",
   "execution_count": 207,
   "id": "27eff63f",
   "metadata": {},
   "outputs": [],
   "source": [
    "class BearingCNN(torch.nn.Module):\n",
    "    def __init__(self):\n",
    "        super(BearingCNN, self).__init__()\n",
    "        \n",
    "        # Feature extractor\n",
    "        self.features = nn.Sequential(\n",
    "            nn.Conv1d(2, 16, kernel_size=5, stride=1, padding=2),  # [32, 16, 2560]\n",
    "            nn.ReLU(),\n",
    "            nn.MaxPool1d(kernel_size=2, stride=2),                  # [32, 16, 1280]\n",
    "            nn.Conv1d(16, 32, kernel_size=3, stride=1, padding=1),  # [32, 32, 1280]\n",
    "            nn.ReLU(),\n",
    "            nn.MaxPool1d(kernel_size=2, stride=2),                  # [32, 32, 640]\n",
    "            nn.Conv1d(32, 64, kernel_size=3, stride=1, padding=1),  # [32, 64, 640]\n",
    "            nn.ReLU(),\n",
    "            nn.AdaptiveAvgPool1d(1)                                 # [32, 64, 1]\n",
    "        )\n",
    "        \n",
    "        # Regressor\n",
    "        self.regressor = nn.Sequential(\n",
    "            nn.Linear(64, 128),\n",
    "            nn.ReLU(),\n",
    "            nn.Linear(128, 1)\n",
    "        )\n",
    "    \n",
    "    def forward(self, x):\n",
    "        x = x.permute(0, 2, 1)\n",
    "        x = self.features(x)       # [32, 64, 1]\n",
    "        x = x.squeeze(-1)          # [32, 64]\n",
    "        x = self.regressor(x)      # [32, 1]\n",
    "        return x\n",
    "\n",
    "model = BearingCNN()\n",
    "# model.load_state_dict(torch.load('last_r2_model.pth', weights_only=True))"
   ]
  },
  {
   "cell_type": "code",
   "execution_count": 208,
   "id": "ff42671d",
   "metadata": {},
   "outputs": [],
   "source": [
    "# def model_summary_table(model, input_shape):\n",
    "#     # Get summary as a string\n",
    "#     summary_str = []\n",
    "#     def hook(module, input, output):\n",
    "#         summary_str.append([\n",
    "#             module.__class__.__name__,\n",
    "#             list(input[0].shape) if isinstance(input, tuple) else input.shape,\n",
    "#             list(output.shape),\n",
    "#             sum(p.numel() for p in module.parameters())\n",
    "#         ])\n",
    "    \n",
    "#     # Register hooks\n",
    "#     hooks = []\n",
    "#     for layer in model.children():\n",
    "#         hooks.append(layer.register_forward_hook(hook))\n",
    "    \n",
    "#     # Dummy forward pass\n",
    "#     dummy_input = torch.randn(input_shape)\n",
    "#     model(dummy_input)\n",
    "    \n",
    "#     # Remove hooks\n",
    "#     for hook in hooks:\n",
    "#         hook.remove()\n",
    "    \n",
    "#     # Print table\n",
    "#     headers = [\"Layer (type)\", \"Input Shape\", \"Output Shape\", \"Param #\"]\n",
    "#     print(tabulate(summary_str, headers=headers, tablefmt=\"grid\"))\n",
    "\n",
    "# summary(model, input_size=(2560, 2))"
   ]
  },
  {
   "cell_type": "code",
   "execution_count": 209,
   "id": "6a7be941",
   "metadata": {},
   "outputs": [],
   "source": [
    "class LogCoshLoss(nn.Module):\n",
    "    def forward(self, y_pred, y_true):\n",
    "        return torch.mean(torch.log(torch.cosh(y_pred - y_true)))\n",
    "\n",
    "def weighted_mse_loss(y_pred, y_true):\n",
    "    alpha=2.0\n",
    "    error = y_pred - y_true\n",
    "    weights = torch.where(error < 0, alpha, 1.0)  # Heavier penalty for underestimating RUL\n",
    "    return torch.mean(weights * (error ** 2))\n",
    "\n",
    "def r2_score_loss(y_pred, y_true):\n",
    "    # Calculate R² (Coefficient of Determination)\n",
    "    ss_res = torch.sum((y_true - y_pred) ** 2)\n",
    "    ss_tot = torch.sum((y_true - torch.mean(y_true)) ** 2)\n",
    "    r2 = 1 - (ss_res / (ss_tot + 1e-8))  # Avoid division by zero\n",
    "    return -r2  # Minimize this (equivalent to maximizing R²)\n",
    "\n",
    "def hybrid_r2_mse_loss(y_pred, y_true,):\n",
    "    # alpha=0.5\n",
    "    alpha = 0.7\n",
    "    mse = torch.mean((y_pred - y_true) ** 2)\n",
    "    r2 = r2_score_loss(y_pred, y_true)  # Returns -R²\n",
    "    return alpha * mse + (1 - alpha) * r2\n",
    "\n",
    "device = torch.device('cuda' if torch.cuda.is_available() else 'cpu')\n",
    "model = model.to(device)\n",
    "criterion = hybrid_r2_mse_loss\n",
    "# optimizer = torch.optim.Adam(model.parameters(), lr=0.001, weight_decay=1e-4)\n",
    "optimizer = torch.optim.AdamW(model.parameters(), lr=3e-4)\n",
    "scheduler = torch.optim.lr_scheduler.ReduceLROnPlateau(optimizer, 'min', patience=5)\n",
    "\n",
    "def train(\n",
    "    model,\n",
    "    train_loader,\n",
    "    val_loader,\n",
    "    optimizer,\n",
    "    criterion,\n",
    "    device,\n",
    "    epochs,\n",
    "):\n",
    "    train_r2 = []\n",
    "    train_mae = []\n",
    "    train_mse = []\n",
    "    train_rmse = []\n",
    "    train_loss = []\n",
    "\n",
    "    val_r2 = []\n",
    "    val_mae = []\n",
    "    val_mse = []\n",
    "    val_rmse = []\n",
    "    val_loss = []\n",
    "\n",
    "    best_r2 = -float('inf')\n",
    "\n",
    "    for epoch in range(epochs):\n",
    "        model.train()\n",
    "\n",
    "        epoch_train_loss = 0\n",
    "        epoch_train_preds = []\n",
    "        epoch_train_targets = []\n",
    "\n",
    "        for X_batch, y_batch in tqdm(train_loader):\n",
    "            X_batch, y_batch = X_batch.to(device), y_batch.to(device)\n",
    "            \n",
    "            optimizer.zero_grad()\n",
    "            y_pred = model(X_batch).flatten()\n",
    "\n",
    "            epoch_train_preds.append(y_pred)\n",
    "            epoch_train_targets.append(y_batch)\n",
    "\n",
    "            loss = criterion(y_pred, y_batch)\n",
    "            \n",
    "            loss.backward()\n",
    "            # torch.nn.utils.clip_grad_norm_(model.parameters(), 1.0)\n",
    "            optimizer.step()\n",
    "            \n",
    "            epoch_train_loss += loss.item()\n",
    "        \n",
    "        train_preds = torch.cat(epoch_train_preds).cpu().detach().numpy()\n",
    "        train_targets = torch.cat(epoch_train_targets).cpu().detach().numpy()\n",
    "        \n",
    "        epoch_train_r2 = r2_score(train_targets, train_preds)\n",
    "        epoch_train_mae = mean_absolute_error(train_targets, train_preds)\n",
    "        epoch_train_mse = mean_squared_error(train_targets, train_preds)\n",
    "        epoch_train_rmse = np.sqrt(epoch_train_mse)\n",
    "        epoch_train_loss = epoch_train_loss/len(train_loader)\n",
    "        \n",
    "        train_r2.append(epoch_train_r2)\n",
    "        train_mae.append(epoch_train_mae)\n",
    "        train_mse.append(epoch_train_mse)\n",
    "        train_rmse.append(epoch_train_rmse)\n",
    "        train_loss.append(epoch_train_loss)\n",
    "    \n",
    "        print(\n",
    "            f'Epoch {epoch + 1}: Train Loss {epoch_train_loss:.4f}, '\n",
    "                + f'Train R2 = {epoch_train_r2:.3f}, '\n",
    "                + f'Train RMSE = {epoch_train_rmse:.3f}, '\n",
    "                + f'Train MSE = {epoch_train_mse:.3f}, '\n",
    "                + f'Train MAE = {epoch_train_mae:.3f}'\n",
    "        )\n",
    "\n",
    "\n",
    "        model.eval()\n",
    "\n",
    "        epoch_val_loss = 0\n",
    "        epoch_val_preds = []\n",
    "        epoch_val_targets = []\n",
    "\n",
    "        with torch.no_grad():\n",
    "            for X_val, y_val in tqdm(val_loader, desc=f'Epoch {epoch + 1} Val'):\n",
    "                X_val, y_val = X_val.to(device), y_val.to(device)\n",
    "\n",
    "                y_pred = model(X_val).flatten()\n",
    "\n",
    "                epoch_val_preds.append(y_pred)\n",
    "                epoch_val_targets.append(y_val)\n",
    "                \n",
    "                epoch_val_loss += criterion(y_pred, y_val).item()\n",
    "\n",
    "        val_preds = torch.cat(epoch_val_preds).cpu().detach().numpy()\n",
    "        val_targets = torch.cat(epoch_val_targets).cpu().detach().numpy()\n",
    "        \n",
    "        epoch_val_r2 = r2_score(val_targets, val_preds)\n",
    "        epoch_val_mae = mean_absolute_error(val_targets, val_preds)\n",
    "        epoch_val_mse = mean_squared_error(val_targets, val_preds)\n",
    "        epoch_val_rmse = np.sqrt(epoch_val_mse)\n",
    "        epoch_val_loss = epoch_val_loss/len(val_loader)\n",
    "        # scheduler.step(epoch_val_loss)\n",
    "        \n",
    "        val_r2.append(epoch_val_r2)\n",
    "        val_mae.append(epoch_val_mae)\n",
    "        val_mse.append(epoch_val_mse)\n",
    "        val_rmse.append(epoch_val_rmse)\n",
    "        val_loss.append(epoch_val_loss)\n",
    "\n",
    "        if val_r2[-1] > best_r2:\n",
    "            best_r2 = val_r2[-1]\n",
    "            torch.save(model.state_dict(), 'best_r2_model.pth')\n",
    "\n",
    "        print(\n",
    "            f'Epoch {epoch + 1}: Val Loss {epoch_val_loss:.4f}, '\n",
    "                + f'Val R2 = {epoch_val_r2:.3f}, '\n",
    "                + f'Val RMSE = {epoch_val_rmse:.3f}, '\n",
    "                + f'Val MSE = {epoch_val_mse:.3f}, '\n",
    "                + f'Val MAE = {epoch_val_mae:.3f}'\n",
    "        ) \n",
    "\n",
    "    torch.save(model.state_dict(), 'last_r2_model.pth')\n",
    "\n",
    "    return {\n",
    "        'train_loss': train_loss,\n",
    "        'train_r2': train_r2,\n",
    "        'train_mae': train_mae,\n",
    "        'train_mse': train_mse,\n",
    "        'train_rmse': train_rmse,\n",
    "        'val_loss': val_loss,\n",
    "        'val_r2': val_r2,\n",
    "        'val_mae': val_mae,\n",
    "        'val_mse': val_mse,\n",
    "        'val_rmse': val_rmse,\n",
    "    }"
   ]
  },
  {
   "cell_type": "code",
   "execution_count": 210,
   "id": "5ce79b4d",
   "metadata": {},
   "outputs": [
    {
     "name": "stderr",
     "output_type": "stream",
     "text": [
      "100%|██████████| 103/103 [00:00<00:00, 189.91it/s]\n"
     ]
    },
    {
     "name": "stdout",
     "output_type": "stream",
     "text": [
      "Epoch 1: Train Loss 200552.1085, Train R2 = -0.823, Train RMSE = 0.390, Train MSE = 0.152, Train MAE = 0.281\n"
     ]
    },
    {
     "name": "stderr",
     "output_type": "stream",
     "text": [
      "Epoch 1 Val: 100%|██████████| 33/33 [00:00<00:00, 394.88it/s]\n"
     ]
    },
    {
     "name": "stdout",
     "output_type": "stream",
     "text": [
      "Epoch 1: Val Loss 26745.2435, Val R2 = -1.386, Val RMSE = 0.445, Val MSE = 0.198, Val MAE = 0.369\n"
     ]
    },
    {
     "name": "stderr",
     "output_type": "stream",
     "text": [
      "100%|██████████| 103/103 [00:00<00:00, 215.68it/s]\n"
     ]
    },
    {
     "name": "stdout",
     "output_type": "stream",
     "text": [
      "Epoch 2: Train Loss 218434.3607, Train R2 = -1.057, Train RMSE = 0.414, Train MSE = 0.171, Train MAE = 0.335\n"
     ]
    },
    {
     "name": "stderr",
     "output_type": "stream",
     "text": [
      "Epoch 2 Val: 100%|██████████| 33/33 [00:00<00:00, 452.21it/s]\n"
     ]
    },
    {
     "name": "stdout",
     "output_type": "stream",
     "text": [
      "Epoch 2: Val Loss 22174.5903, Val R2 = -0.895, Val RMSE = 0.397, Val MSE = 0.157, Val MAE = 0.326\n"
     ]
    },
    {
     "name": "stderr",
     "output_type": "stream",
     "text": [
      "100%|██████████| 103/103 [00:00<00:00, 213.07it/s]\n"
     ]
    },
    {
     "name": "stdout",
     "output_type": "stream",
     "text": [
      "Epoch 3: Train Loss 187601.1264, Train R2 = -0.774, Train RMSE = 0.384, Train MSE = 0.148, Train MAE = 0.317\n"
     ]
    },
    {
     "name": "stderr",
     "output_type": "stream",
     "text": [
      "Epoch 3 Val: 100%|██████████| 33/33 [00:00<00:00, 435.18it/s]\n"
     ]
    },
    {
     "name": "stdout",
     "output_type": "stream",
     "text": [
      "Epoch 3: Val Loss 20174.8339, Val R2 = -0.695, Val RMSE = 0.375, Val MSE = 0.141, Val MAE = 0.309\n"
     ]
    },
    {
     "name": "stderr",
     "output_type": "stream",
     "text": [
      "100%|██████████| 103/103 [00:00<00:00, 222.11it/s]\n"
     ]
    },
    {
     "name": "stdout",
     "output_type": "stream",
     "text": [
      "Epoch 4: Train Loss 167526.7113, Train R2 = -0.603, Train RMSE = 0.365, Train MSE = 0.133, Train MAE = 0.305\n"
     ]
    },
    {
     "name": "stderr",
     "output_type": "stream",
     "text": [
      "Epoch 4 Val: 100%|██████████| 33/33 [00:00<00:00, 424.02it/s]\n"
     ]
    },
    {
     "name": "stdout",
     "output_type": "stream",
     "text": [
      "Epoch 4: Val Loss 17801.8988, Val R2 = -0.479, Val RMSE = 0.351, Val MSE = 0.123, Val MAE = 0.290\n"
     ]
    },
    {
     "name": "stderr",
     "output_type": "stream",
     "text": [
      "100%|██████████| 103/103 [00:00<00:00, 221.50it/s]\n"
     ]
    },
    {
     "name": "stdout",
     "output_type": "stream",
     "text": [
      "Epoch 5: Train Loss 148044.6569, Train R2 = -0.441, Train RMSE = 0.346, Train MSE = 0.120, Train MAE = 0.292\n"
     ]
    },
    {
     "name": "stderr",
     "output_type": "stream",
     "text": [
      "Epoch 5 Val: 100%|██████████| 33/33 [00:00<00:00, 412.27it/s]\n"
     ]
    },
    {
     "name": "stdout",
     "output_type": "stream",
     "text": [
      "Epoch 5: Val Loss 16104.3217, Val R2 = -0.384, Val RMSE = 0.339, Val MSE = 0.115, Val MAE = 0.281\n"
     ]
    },
    {
     "name": "stderr",
     "output_type": "stream",
     "text": [
      "100%|██████████| 103/103 [00:00<00:00, 218.23it/s]\n"
     ]
    },
    {
     "name": "stdout",
     "output_type": "stream",
     "text": [
      "Epoch 6: Train Loss 134340.0108, Train R2 = -0.326, Train RMSE = 0.332, Train MSE = 0.110, Train MAE = 0.282\n"
     ]
    },
    {
     "name": "stderr",
     "output_type": "stream",
     "text": [
      "Epoch 6 Val: 100%|██████████| 33/33 [00:00<00:00, 440.89it/s]\n"
     ]
    },
    {
     "name": "stdout",
     "output_type": "stream",
     "text": [
      "Epoch 6: Val Loss 14781.8282, Val R2 = -0.328, Val RMSE = 0.332, Val MSE = 0.110, Val MAE = 0.276\n"
     ]
    },
    {
     "name": "stderr",
     "output_type": "stream",
     "text": [
      "100%|██████████| 103/103 [00:00<00:00, 220.91it/s]\n"
     ]
    },
    {
     "name": "stdout",
     "output_type": "stream",
     "text": [
      "Epoch 7: Train Loss 126118.7264, Train R2 = -0.259, Train RMSE = 0.324, Train MSE = 0.105, Train MAE = 0.276\n"
     ]
    },
    {
     "name": "stderr",
     "output_type": "stream",
     "text": [
      "Epoch 7 Val: 100%|██████████| 33/33 [00:00<00:00, 471.34it/s]\n"
     ]
    },
    {
     "name": "stdout",
     "output_type": "stream",
     "text": [
      "Epoch 7: Val Loss 13739.4038, Val R2 = -0.288, Val RMSE = 0.327, Val MSE = 0.107, Val MAE = 0.271\n"
     ]
    },
    {
     "name": "stderr",
     "output_type": "stream",
     "text": [
      "100%|██████████| 103/103 [00:00<00:00, 212.06it/s]\n"
     ]
    },
    {
     "name": "stdout",
     "output_type": "stream",
     "text": [
      "Epoch 8: Train Loss 121271.4966, Train R2 = -0.213, Train RMSE = 0.318, Train MSE = 0.101, Train MAE = 0.271\n"
     ]
    },
    {
     "name": "stderr",
     "output_type": "stream",
     "text": [
      "Epoch 8 Val: 100%|██████████| 33/33 [00:00<00:00, 447.38it/s]\n"
     ]
    },
    {
     "name": "stdout",
     "output_type": "stream",
     "text": [
      "Epoch 8: Val Loss 13788.0774, Val R2 = -0.297, Val RMSE = 0.328, Val MSE = 0.108, Val MAE = 0.272\n"
     ]
    },
    {
     "name": "stderr",
     "output_type": "stream",
     "text": [
      "100%|██████████| 103/103 [00:00<00:00, 219.54it/s]\n"
     ]
    },
    {
     "name": "stdout",
     "output_type": "stream",
     "text": [
      "Epoch 9: Train Loss 119410.8275, Train R2 = -0.194, Train RMSE = 0.315, Train MSE = 0.099, Train MAE = 0.269\n"
     ]
    },
    {
     "name": "stderr",
     "output_type": "stream",
     "text": [
      "Epoch 9 Val: 100%|██████████| 33/33 [00:00<00:00, 462.47it/s]\n"
     ]
    },
    {
     "name": "stdout",
     "output_type": "stream",
     "text": [
      "Epoch 9: Val Loss 12703.5359, Val R2 = -0.265, Val RMSE = 0.324, Val MSE = 0.105, Val MAE = 0.267\n"
     ]
    },
    {
     "name": "stderr",
     "output_type": "stream",
     "text": [
      "100%|██████████| 103/103 [00:00<00:00, 215.52it/s]\n"
     ]
    },
    {
     "name": "stdout",
     "output_type": "stream",
     "text": [
      "Epoch 10: Train Loss 118485.5123, Train R2 = -0.182, Train RMSE = 0.314, Train MSE = 0.098, Train MAE = 0.269\n"
     ]
    },
    {
     "name": "stderr",
     "output_type": "stream",
     "text": [
      "Epoch 10 Val: 100%|██████████| 33/33 [00:00<00:00, 437.58it/s]\n"
     ]
    },
    {
     "name": "stdout",
     "output_type": "stream",
     "text": [
      "Epoch 10: Val Loss 13350.7610, Val R2 = -0.217, Val RMSE = 0.318, Val MSE = 0.101, Val MAE = 0.265\n"
     ]
    },
    {
     "name": "stderr",
     "output_type": "stream",
     "text": [
      "100%|██████████| 103/103 [00:00<00:00, 217.45it/s]\n"
     ]
    },
    {
     "name": "stdout",
     "output_type": "stream",
     "text": [
      "Epoch 11: Train Loss 118328.5289, Train R2 = -0.184, Train RMSE = 0.314, Train MSE = 0.099, Train MAE = 0.269\n"
     ]
    },
    {
     "name": "stderr",
     "output_type": "stream",
     "text": [
      "Epoch 11 Val: 100%|██████████| 33/33 [00:00<00:00, 444.16it/s]\n"
     ]
    },
    {
     "name": "stdout",
     "output_type": "stream",
     "text": [
      "Epoch 11: Val Loss 11684.7775, Val R2 = -0.163, Val RMSE = 0.311, Val MSE = 0.097, Val MAE = 0.258\n"
     ]
    },
    {
     "name": "stderr",
     "output_type": "stream",
     "text": [
      "100%|██████████| 103/103 [00:00<00:00, 217.92it/s]\n"
     ]
    },
    {
     "name": "stdout",
     "output_type": "stream",
     "text": [
      "Epoch 12: Train Loss 111343.1006, Train R2 = -0.114, Train RMSE = 0.304, Train MSE = 0.093, Train MAE = 0.263\n"
     ]
    },
    {
     "name": "stderr",
     "output_type": "stream",
     "text": [
      "Epoch 12 Val: 100%|██████████| 33/33 [00:00<00:00, 426.46it/s]\n"
     ]
    },
    {
     "name": "stdout",
     "output_type": "stream",
     "text": [
      "Epoch 12: Val Loss 12441.7214, Val R2 = -0.170, Val RMSE = 0.312, Val MSE = 0.097, Val MAE = 0.261\n"
     ]
    },
    {
     "name": "stderr",
     "output_type": "stream",
     "text": [
      "100%|██████████| 103/103 [00:00<00:00, 224.94it/s]\n"
     ]
    },
    {
     "name": "stdout",
     "output_type": "stream",
     "text": [
      "Epoch 13: Train Loss 114940.2843, Train R2 = -0.149, Train RMSE = 0.309, Train MSE = 0.096, Train MAE = 0.266\n"
     ]
    },
    {
     "name": "stderr",
     "output_type": "stream",
     "text": [
      "Epoch 13 Val: 100%|██████████| 33/33 [00:00<00:00, 444.88it/s]\n"
     ]
    },
    {
     "name": "stdout",
     "output_type": "stream",
     "text": [
      "Epoch 13: Val Loss 11185.1950, Val R2 = -0.121, Val RMSE = 0.305, Val MSE = 0.093, Val MAE = 0.254\n"
     ]
    },
    {
     "name": "stderr",
     "output_type": "stream",
     "text": [
      "100%|██████████| 103/103 [00:00<00:00, 217.14it/s]\n"
     ]
    },
    {
     "name": "stdout",
     "output_type": "stream",
     "text": [
      "Epoch 14: Train Loss 110325.0519, Train R2 = -0.103, Train RMSE = 0.303, Train MSE = 0.092, Train MAE = 0.262\n"
     ]
    },
    {
     "name": "stderr",
     "output_type": "stream",
     "text": [
      "Epoch 14 Val: 100%|██████████| 33/33 [00:00<00:00, 378.71it/s]\n"
     ]
    },
    {
     "name": "stdout",
     "output_type": "stream",
     "text": [
      "Epoch 14: Val Loss 12277.7893, Val R2 = -0.158, Val RMSE = 0.310, Val MSE = 0.096, Val MAE = 0.260\n"
     ]
    },
    {
     "name": "stderr",
     "output_type": "stream",
     "text": [
      "100%|██████████| 103/103 [00:00<00:00, 216.82it/s]\n"
     ]
    },
    {
     "name": "stdout",
     "output_type": "stream",
     "text": [
      "Epoch 15: Train Loss 112134.3886, Train R2 = -0.114, Train RMSE = 0.305, Train MSE = 0.093, Train MAE = 0.263\n"
     ]
    },
    {
     "name": "stderr",
     "output_type": "stream",
     "text": [
      "Epoch 15 Val: 100%|██████████| 33/33 [00:00<00:00, 443.01it/s]\n"
     ]
    },
    {
     "name": "stdout",
     "output_type": "stream",
     "text": [
      "Epoch 15: Val Loss 10822.0978, Val R2 = -0.106, Val RMSE = 0.303, Val MSE = 0.092, Val MAE = 0.252\n"
     ]
    },
    {
     "name": "stderr",
     "output_type": "stream",
     "text": [
      "100%|██████████| 103/103 [00:00<00:00, 219.75it/s]\n"
     ]
    },
    {
     "name": "stdout",
     "output_type": "stream",
     "text": [
      "Epoch 16: Train Loss 108280.7360, Train R2 = -0.077, Train RMSE = 0.299, Train MSE = 0.090, Train MAE = 0.260\n"
     ]
    },
    {
     "name": "stderr",
     "output_type": "stream",
     "text": [
      "Epoch 16 Val: 100%|██████████| 33/33 [00:00<00:00, 395.31it/s]\n"
     ]
    },
    {
     "name": "stdout",
     "output_type": "stream",
     "text": [
      "Epoch 16: Val Loss 11663.2458, Val R2 = -0.093, Val RMSE = 0.301, Val MSE = 0.091, Val MAE = 0.254\n"
     ]
    },
    {
     "name": "stderr",
     "output_type": "stream",
     "text": [
      "100%|██████████| 103/103 [00:00<00:00, 218.57it/s]\n"
     ]
    },
    {
     "name": "stdout",
     "output_type": "stream",
     "text": [
      "Epoch 17: Train Loss 109124.4847, Train R2 = -0.093, Train RMSE = 0.302, Train MSE = 0.091, Train MAE = 0.261\n"
     ]
    },
    {
     "name": "stderr",
     "output_type": "stream",
     "text": [
      "Epoch 17 Val: 100%|██████████| 33/33 [00:00<00:00, 484.72it/s]\n"
     ]
    },
    {
     "name": "stdout",
     "output_type": "stream",
     "text": [
      "Epoch 17: Val Loss 10444.7413, Val R2 = -0.057, Val RMSE = 0.296, Val MSE = 0.088, Val MAE = 0.248\n"
     ]
    },
    {
     "name": "stderr",
     "output_type": "stream",
     "text": [
      "100%|██████████| 103/103 [00:00<00:00, 220.87it/s]\n"
     ]
    },
    {
     "name": "stdout",
     "output_type": "stream",
     "text": [
      "Epoch 18: Train Loss 104183.5633, Train R2 = -0.045, Train RMSE = 0.295, Train MSE = 0.087, Train MAE = 0.256\n"
     ]
    },
    {
     "name": "stderr",
     "output_type": "stream",
     "text": [
      "Epoch 18 Val: 100%|██████████| 33/33 [00:00<00:00, 439.07it/s]\n"
     ]
    },
    {
     "name": "stdout",
     "output_type": "stream",
     "text": [
      "Epoch 18: Val Loss 10449.8291, Val R2 = -0.051, Val RMSE = 0.295, Val MSE = 0.087, Val MAE = 0.248\n"
     ]
    },
    {
     "name": "stderr",
     "output_type": "stream",
     "text": [
      "100%|██████████| 103/103 [00:00<00:00, 214.53it/s]\n"
     ]
    },
    {
     "name": "stdout",
     "output_type": "stream",
     "text": [
      "Epoch 19: Train Loss 102803.4001, Train R2 = -0.027, Train RMSE = 0.292, Train MSE = 0.085, Train MAE = 0.253\n"
     ]
    },
    {
     "name": "stderr",
     "output_type": "stream",
     "text": [
      "Epoch 19 Val: 100%|██████████| 33/33 [00:00<00:00, 456.99it/s]\n"
     ]
    },
    {
     "name": "stdout",
     "output_type": "stream",
     "text": [
      "Epoch 19: Val Loss 10388.1634, Val R2 = -0.067, Val RMSE = 0.298, Val MSE = 0.089, Val MAE = 0.247\n"
     ]
    },
    {
     "name": "stderr",
     "output_type": "stream",
     "text": [
      "100%|██████████| 103/103 [00:00<00:00, 224.45it/s]\n"
     ]
    },
    {
     "name": "stdout",
     "output_type": "stream",
     "text": [
      "Epoch 20: Train Loss 100791.4210, Train R2 = -0.009, Train RMSE = 0.290, Train MSE = 0.084, Train MAE = 0.251\n"
     ]
    },
    {
     "name": "stderr",
     "output_type": "stream",
     "text": [
      "Epoch 20 Val: 100%|██████████| 33/33 [00:00<00:00, 437.89it/s]\n"
     ]
    },
    {
     "name": "stdout",
     "output_type": "stream",
     "text": [
      "Epoch 20: Val Loss 10430.1276, Val R2 = -0.051, Val RMSE = 0.295, Val MSE = 0.087, Val MAE = 0.247\n"
     ]
    },
    {
     "name": "stderr",
     "output_type": "stream",
     "text": [
      "100%|██████████| 103/103 [00:00<00:00, 208.13it/s]\n"
     ]
    },
    {
     "name": "stdout",
     "output_type": "stream",
     "text": [
      "Epoch 21: Train Loss 99842.7971, Train R2 = 0.006, Train RMSE = 0.288, Train MSE = 0.083, Train MAE = 0.249\n"
     ]
    },
    {
     "name": "stderr",
     "output_type": "stream",
     "text": [
      "Epoch 21 Val: 100%|██████████| 33/33 [00:00<00:00, 434.06it/s]\n"
     ]
    },
    {
     "name": "stdout",
     "output_type": "stream",
     "text": [
      "Epoch 21: Val Loss 9929.4254, Val R2 = -0.027, Val RMSE = 0.292, Val MSE = 0.085, Val MAE = 0.243\n"
     ]
    },
    {
     "name": "stderr",
     "output_type": "stream",
     "text": [
      "100%|██████████| 103/103 [00:00<00:00, 215.18it/s]\n"
     ]
    },
    {
     "name": "stdout",
     "output_type": "stream",
     "text": [
      "Epoch 22: Train Loss 94766.8154, Train R2 = 0.050, Train RMSE = 0.281, Train MSE = 0.079, Train MAE = 0.244\n"
     ]
    },
    {
     "name": "stderr",
     "output_type": "stream",
     "text": [
      "Epoch 22 Val: 100%|██████████| 33/33 [00:00<00:00, 438.90it/s]\n"
     ]
    },
    {
     "name": "stdout",
     "output_type": "stream",
     "text": [
      "Epoch 22: Val Loss 9921.3394, Val R2 = -0.014, Val RMSE = 0.290, Val MSE = 0.084, Val MAE = 0.243\n"
     ]
    },
    {
     "name": "stderr",
     "output_type": "stream",
     "text": [
      "100%|██████████| 103/103 [00:00<00:00, 222.80it/s]\n"
     ]
    },
    {
     "name": "stdout",
     "output_type": "stream",
     "text": [
      "Epoch 23: Train Loss 94500.7783, Train R2 = 0.060, Train RMSE = 0.280, Train MSE = 0.078, Train MAE = 0.242\n"
     ]
    },
    {
     "name": "stderr",
     "output_type": "stream",
     "text": [
      "Epoch 23 Val: 100%|██████████| 33/33 [00:00<00:00, 444.22it/s]\n"
     ]
    },
    {
     "name": "stdout",
     "output_type": "stream",
     "text": [
      "Epoch 23: Val Loss 9445.4055, Val R2 = 0.023, Val RMSE = 0.285, Val MSE = 0.081, Val MAE = 0.238\n"
     ]
    },
    {
     "name": "stderr",
     "output_type": "stream",
     "text": [
      "100%|██████████| 103/103 [00:00<00:00, 216.91it/s]\n"
     ]
    },
    {
     "name": "stdout",
     "output_type": "stream",
     "text": [
      "Epoch 24: Train Loss 87112.0999, Train R2 = 0.130, Train RMSE = 0.269, Train MSE = 0.072, Train MAE = 0.233\n"
     ]
    },
    {
     "name": "stderr",
     "output_type": "stream",
     "text": [
      "Epoch 24 Val: 100%|██████████| 33/33 [00:00<00:00, 471.27it/s]\n"
     ]
    },
    {
     "name": "stdout",
     "output_type": "stream",
     "text": [
      "Epoch 24: Val Loss 9531.6475, Val R2 = 0.028, Val RMSE = 0.284, Val MSE = 0.081, Val MAE = 0.239\n"
     ]
    },
    {
     "name": "stderr",
     "output_type": "stream",
     "text": [
      "100%|██████████| 103/103 [00:00<00:00, 214.10it/s]\n"
     ]
    },
    {
     "name": "stdout",
     "output_type": "stream",
     "text": [
      "Epoch 25: Train Loss 86829.1312, Train R2 = 0.142, Train RMSE = 0.267, Train MSE = 0.071, Train MAE = 0.229\n"
     ]
    },
    {
     "name": "stderr",
     "output_type": "stream",
     "text": [
      "Epoch 25 Val: 100%|██████████| 33/33 [00:00<00:00, 450.28it/s]\n"
     ]
    },
    {
     "name": "stdout",
     "output_type": "stream",
     "text": [
      "Epoch 25: Val Loss 8955.5784, Val R2 = 0.080, Val RMSE = 0.276, Val MSE = 0.076, Val MAE = 0.233\n"
     ]
    },
    {
     "name": "stderr",
     "output_type": "stream",
     "text": [
      "100%|██████████| 103/103 [00:00<00:00, 214.64it/s]\n"
     ]
    },
    {
     "name": "stdout",
     "output_type": "stream",
     "text": [
      "Epoch 26: Train Loss 76686.7657, Train R2 = 0.236, Train RMSE = 0.252, Train MSE = 0.064, Train MAE = 0.217\n"
     ]
    },
    {
     "name": "stderr",
     "output_type": "stream",
     "text": [
      "Epoch 26 Val: 100%|██████████| 33/33 [00:00<00:00, 452.77it/s]\n"
     ]
    },
    {
     "name": "stdout",
     "output_type": "stream",
     "text": [
      "Epoch 26: Val Loss 8884.5290, Val R2 = 0.095, Val RMSE = 0.274, Val MSE = 0.075, Val MAE = 0.232\n"
     ]
    },
    {
     "name": "stderr",
     "output_type": "stream",
     "text": [
      "100%|██████████| 103/103 [00:00<00:00, 214.51it/s]\n"
     ]
    },
    {
     "name": "stdout",
     "output_type": "stream",
     "text": [
      "Epoch 27: Train Loss 76850.4054, Train R2 = 0.235, Train RMSE = 0.252, Train MSE = 0.064, Train MAE = 0.213\n"
     ]
    },
    {
     "name": "stderr",
     "output_type": "stream",
     "text": [
      "Epoch 27 Val: 100%|██████████| 33/33 [00:00<00:00, 377.50it/s]\n"
     ]
    },
    {
     "name": "stdout",
     "output_type": "stream",
     "text": [
      "Epoch 27: Val Loss 8231.2218, Val R2 = 0.154, Val RMSE = 0.265, Val MSE = 0.070, Val MAE = 0.224\n"
     ]
    },
    {
     "name": "stderr",
     "output_type": "stream",
     "text": [
      "100%|██████████| 103/103 [00:00<00:00, 217.76it/s]\n"
     ]
    },
    {
     "name": "stdout",
     "output_type": "stream",
     "text": [
      "Epoch 28: Train Loss 65723.3025, Train R2 = 0.342, Train RMSE = 0.234, Train MSE = 0.055, Train MAE = 0.196\n"
     ]
    },
    {
     "name": "stderr",
     "output_type": "stream",
     "text": [
      "Epoch 28 Val: 100%|██████████| 33/33 [00:00<00:00, 418.75it/s]\n"
     ]
    },
    {
     "name": "stdout",
     "output_type": "stream",
     "text": [
      "Epoch 28: Val Loss 8073.0826, Val R2 = 0.166, Val RMSE = 0.263, Val MSE = 0.069, Val MAE = 0.222\n"
     ]
    },
    {
     "name": "stderr",
     "output_type": "stream",
     "text": [
      "100%|██████████| 103/103 [00:00<00:00, 217.82it/s]\n"
     ]
    },
    {
     "name": "stdout",
     "output_type": "stream",
     "text": [
      "Epoch 29: Train Loss 63791.1293, Train R2 = 0.361, Train RMSE = 0.231, Train MSE = 0.053, Train MAE = 0.190\n"
     ]
    },
    {
     "name": "stderr",
     "output_type": "stream",
     "text": [
      "Epoch 29 Val: 100%|██████████| 33/33 [00:00<00:00, 458.14it/s]\n"
     ]
    },
    {
     "name": "stdout",
     "output_type": "stream",
     "text": [
      "Epoch 29: Val Loss 7492.6679, Val R2 = 0.228, Val RMSE = 0.253, Val MSE = 0.064, Val MAE = 0.215\n"
     ]
    },
    {
     "name": "stderr",
     "output_type": "stream",
     "text": [
      "100%|██████████| 103/103 [00:00<00:00, 218.70it/s]\n"
     ]
    },
    {
     "name": "stdout",
     "output_type": "stream",
     "text": [
      "Epoch 30: Train Loss 56251.7904, Train R2 = 0.436, Train RMSE = 0.217, Train MSE = 0.047, Train MAE = 0.178\n"
     ]
    },
    {
     "name": "stderr",
     "output_type": "stream",
     "text": [
      "Epoch 30 Val: 100%|██████████| 33/33 [00:00<00:00, 449.22it/s]\n"
     ]
    },
    {
     "name": "stdout",
     "output_type": "stream",
     "text": [
      "Epoch 30: Val Loss 7490.0418, Val R2 = 0.227, Val RMSE = 0.253, Val MSE = 0.064, Val MAE = 0.215\n"
     ]
    },
    {
     "name": "stderr",
     "output_type": "stream",
     "text": [
      "100%|██████████| 103/103 [00:00<00:00, 220.16it/s]\n"
     ]
    },
    {
     "name": "stdout",
     "output_type": "stream",
     "text": [
      "Epoch 31: Train Loss 52450.0191, Train R2 = 0.475, Train RMSE = 0.209, Train MSE = 0.044, Train MAE = 0.171\n"
     ]
    },
    {
     "name": "stderr",
     "output_type": "stream",
     "text": [
      "Epoch 31 Val: 100%|██████████| 33/33 [00:00<00:00, 477.38it/s]\n"
     ]
    },
    {
     "name": "stdout",
     "output_type": "stream",
     "text": [
      "Epoch 31: Val Loss 6879.4537, Val R2 = 0.290, Val RMSE = 0.243, Val MSE = 0.059, Val MAE = 0.207\n"
     ]
    },
    {
     "name": "stderr",
     "output_type": "stream",
     "text": [
      "100%|██████████| 103/103 [00:00<00:00, 214.73it/s]\n"
     ]
    },
    {
     "name": "stdout",
     "output_type": "stream",
     "text": [
      "Epoch 32: Train Loss 48628.1341, Train R2 = 0.513, Train RMSE = 0.201, Train MSE = 0.041, Train MAE = 0.166\n"
     ]
    },
    {
     "name": "stderr",
     "output_type": "stream",
     "text": [
      "Epoch 32 Val: 100%|██████████| 33/33 [00:00<00:00, 434.54it/s]\n"
     ]
    },
    {
     "name": "stdout",
     "output_type": "stream",
     "text": [
      "Epoch 32: Val Loss 6430.5447, Val R2 = 0.342, Val RMSE = 0.234, Val MSE = 0.055, Val MAE = 0.199\n"
     ]
    },
    {
     "name": "stderr",
     "output_type": "stream",
     "text": [
      "100%|██████████| 103/103 [00:00<00:00, 216.13it/s]\n"
     ]
    },
    {
     "name": "stdout",
     "output_type": "stream",
     "text": [
      "Epoch 33: Train Loss 41862.8097, Train R2 = 0.584, Train RMSE = 0.186, Train MSE = 0.035, Train MAE = 0.152\n"
     ]
    },
    {
     "name": "stderr",
     "output_type": "stream",
     "text": [
      "Epoch 33 Val: 100%|██████████| 33/33 [00:00<00:00, 446.32it/s]\n"
     ]
    },
    {
     "name": "stdout",
     "output_type": "stream",
     "text": [
      "Epoch 33: Val Loss 6235.4036, Val R2 = 0.356, Val RMSE = 0.231, Val MSE = 0.053, Val MAE = 0.194\n"
     ]
    },
    {
     "name": "stderr",
     "output_type": "stream",
     "text": [
      "100%|██████████| 103/103 [00:00<00:00, 205.38it/s]\n"
     ]
    },
    {
     "name": "stdout",
     "output_type": "stream",
     "text": [
      "Epoch 34: Train Loss 42870.4018, Train R2 = 0.572, Train RMSE = 0.189, Train MSE = 0.036, Train MAE = 0.154\n"
     ]
    },
    {
     "name": "stderr",
     "output_type": "stream",
     "text": [
      "Epoch 34 Val: 100%|██████████| 33/33 [00:00<00:00, 422.12it/s]\n"
     ]
    },
    {
     "name": "stdout",
     "output_type": "stream",
     "text": [
      "Epoch 34: Val Loss 5474.5720, Val R2 = 0.449, Val RMSE = 0.214, Val MSE = 0.046, Val MAE = 0.180\n"
     ]
    },
    {
     "name": "stderr",
     "output_type": "stream",
     "text": [
      "100%|██████████| 103/103 [00:00<00:00, 212.95it/s]\n"
     ]
    },
    {
     "name": "stdout",
     "output_type": "stream",
     "text": [
      "Epoch 35: Train Loss 35550.9755, Train R2 = 0.651, Train RMSE = 0.170, Train MSE = 0.029, Train MAE = 0.138\n"
     ]
    },
    {
     "name": "stderr",
     "output_type": "stream",
     "text": [
      "Epoch 35 Val: 100%|██████████| 33/33 [00:00<00:00, 433.47it/s]\n"
     ]
    },
    {
     "name": "stdout",
     "output_type": "stream",
     "text": [
      "Epoch 35: Val Loss 5441.1258, Val R2 = 0.439, Val RMSE = 0.216, Val MSE = 0.047, Val MAE = 0.177\n"
     ]
    },
    {
     "name": "stderr",
     "output_type": "stream",
     "text": [
      "100%|██████████| 103/103 [00:00<00:00, 215.75it/s]\n"
     ]
    },
    {
     "name": "stdout",
     "output_type": "stream",
     "text": [
      "Epoch 36: Train Loss 41936.9878, Train R2 = 0.581, Train RMSE = 0.187, Train MSE = 0.035, Train MAE = 0.149\n"
     ]
    },
    {
     "name": "stderr",
     "output_type": "stream",
     "text": [
      "Epoch 36 Val: 100%|██████████| 33/33 [00:00<00:00, 429.79it/s]\n"
     ]
    },
    {
     "name": "stdout",
     "output_type": "stream",
     "text": [
      "Epoch 36: Val Loss 4789.0592, Val R2 = 0.524, Val RMSE = 0.199, Val MSE = 0.040, Val MAE = 0.166\n"
     ]
    },
    {
     "name": "stderr",
     "output_type": "stream",
     "text": [
      "100%|██████████| 103/103 [00:00<00:00, 219.44it/s]\n"
     ]
    },
    {
     "name": "stdout",
     "output_type": "stream",
     "text": [
      "Epoch 37: Train Loss 34369.2054, Train R2 = 0.664, Train RMSE = 0.167, Train MSE = 0.028, Train MAE = 0.133\n"
     ]
    },
    {
     "name": "stderr",
     "output_type": "stream",
     "text": [
      "Epoch 37 Val: 100%|██████████| 33/33 [00:00<00:00, 367.19it/s]\n"
     ]
    },
    {
     "name": "stdout",
     "output_type": "stream",
     "text": [
      "Epoch 37: Val Loss 4802.2695, Val R2 = 0.505, Val RMSE = 0.203, Val MSE = 0.041, Val MAE = 0.168\n"
     ]
    },
    {
     "name": "stderr",
     "output_type": "stream",
     "text": [
      "100%|██████████| 103/103 [00:00<00:00, 219.16it/s]\n"
     ]
    },
    {
     "name": "stdout",
     "output_type": "stream",
     "text": [
      "Epoch 38: Train Loss 41823.7731, Train R2 = 0.583, Train RMSE = 0.186, Train MSE = 0.035, Train MAE = 0.146\n"
     ]
    },
    {
     "name": "stderr",
     "output_type": "stream",
     "text": [
      "Epoch 38 Val: 100%|██████████| 33/33 [00:00<00:00, 446.68it/s]\n"
     ]
    },
    {
     "name": "stdout",
     "output_type": "stream",
     "text": [
      "Epoch 38: Val Loss 4364.3640, Val R2 = 0.569, Val RMSE = 0.189, Val MSE = 0.036, Val MAE = 0.161\n"
     ]
    },
    {
     "name": "stderr",
     "output_type": "stream",
     "text": [
      "100%|██████████| 103/103 [00:00<00:00, 210.58it/s]\n"
     ]
    },
    {
     "name": "stdout",
     "output_type": "stream",
     "text": [
      "Epoch 39: Train Loss 34716.3087, Train R2 = 0.660, Train RMSE = 0.168, Train MSE = 0.028, Train MAE = 0.132\n"
     ]
    },
    {
     "name": "stderr",
     "output_type": "stream",
     "text": [
      "Epoch 39 Val: 100%|██████████| 33/33 [00:00<00:00, 437.14it/s]\n"
     ]
    },
    {
     "name": "stdout",
     "output_type": "stream",
     "text": [
      "Epoch 39: Val Loss 4351.1519, Val R2 = 0.551, Val RMSE = 0.193, Val MSE = 0.037, Val MAE = 0.163\n"
     ]
    },
    {
     "name": "stderr",
     "output_type": "stream",
     "text": [
      "100%|██████████| 103/103 [00:00<00:00, 212.25it/s]\n"
     ]
    },
    {
     "name": "stdout",
     "output_type": "stream",
     "text": [
      "Epoch 40: Train Loss 40631.3559, Train R2 = 0.595, Train RMSE = 0.184, Train MSE = 0.034, Train MAE = 0.142\n"
     ]
    },
    {
     "name": "stderr",
     "output_type": "stream",
     "text": [
      "Epoch 40 Val: 100%|██████████| 33/33 [00:00<00:00, 432.95it/s]\n"
     ]
    },
    {
     "name": "stdout",
     "output_type": "stream",
     "text": [
      "Epoch 40: Val Loss 4099.4619, Val R2 = 0.594, Val RMSE = 0.184, Val MSE = 0.034, Val MAE = 0.158\n"
     ]
    },
    {
     "name": "stderr",
     "output_type": "stream",
     "text": [
      "100%|██████████| 103/103 [00:00<00:00, 213.27it/s]\n"
     ]
    },
    {
     "name": "stdout",
     "output_type": "stream",
     "text": [
      "Epoch 41: Train Loss 34563.9353, Train R2 = 0.660, Train RMSE = 0.168, Train MSE = 0.028, Train MAE = 0.132\n"
     ]
    },
    {
     "name": "stderr",
     "output_type": "stream",
     "text": [
      "Epoch 41 Val: 100%|██████████| 33/33 [00:00<00:00, 411.93it/s]\n"
     ]
    },
    {
     "name": "stdout",
     "output_type": "stream",
     "text": [
      "Epoch 41: Val Loss 3997.6599, Val R2 = 0.588, Val RMSE = 0.185, Val MSE = 0.034, Val MAE = 0.158\n"
     ]
    },
    {
     "name": "stderr",
     "output_type": "stream",
     "text": [
      "100%|██████████| 103/103 [00:00<00:00, 210.63it/s]\n"
     ]
    },
    {
     "name": "stdout",
     "output_type": "stream",
     "text": [
      "Epoch 42: Train Loss 37670.3713, Train R2 = 0.624, Train RMSE = 0.177, Train MSE = 0.031, Train MAE = 0.137\n"
     ]
    },
    {
     "name": "stderr",
     "output_type": "stream",
     "text": [
      "Epoch 42 Val: 100%|██████████| 33/33 [00:00<00:00, 441.42it/s]\n"
     ]
    },
    {
     "name": "stdout",
     "output_type": "stream",
     "text": [
      "Epoch 42: Val Loss 3871.8237, Val R2 = 0.614, Val RMSE = 0.179, Val MSE = 0.032, Val MAE = 0.154\n"
     ]
    },
    {
     "name": "stderr",
     "output_type": "stream",
     "text": [
      "100%|██████████| 103/103 [00:00<00:00, 213.97it/s]\n"
     ]
    },
    {
     "name": "stdout",
     "output_type": "stream",
     "text": [
      "Epoch 43: Train Loss 32812.1303, Train R2 = 0.675, Train RMSE = 0.164, Train MSE = 0.027, Train MAE = 0.129\n"
     ]
    },
    {
     "name": "stderr",
     "output_type": "stream",
     "text": [
      "Epoch 43 Val: 100%|██████████| 33/33 [00:00<00:00, 433.82it/s]\n"
     ]
    },
    {
     "name": "stdout",
     "output_type": "stream",
     "text": [
      "Epoch 43: Val Loss 3726.5716, Val R2 = 0.616, Val RMSE = 0.179, Val MSE = 0.032, Val MAE = 0.153\n"
     ]
    },
    {
     "name": "stderr",
     "output_type": "stream",
     "text": [
      "100%|██████████| 103/103 [00:00<00:00, 212.54it/s]\n"
     ]
    },
    {
     "name": "stdout",
     "output_type": "stream",
     "text": [
      "Epoch 44: Train Loss 32728.4369, Train R2 = 0.673, Train RMSE = 0.165, Train MSE = 0.027, Train MAE = 0.126\n"
     ]
    },
    {
     "name": "stderr",
     "output_type": "stream",
     "text": [
      "Epoch 44 Val: 100%|██████████| 33/33 [00:00<00:00, 460.98it/s]\n"
     ]
    },
    {
     "name": "stdout",
     "output_type": "stream",
     "text": [
      "Epoch 44: Val Loss 3673.2706, Val R2 = 0.631, Val RMSE = 0.175, Val MSE = 0.031, Val MAE = 0.151\n"
     ]
    },
    {
     "name": "stderr",
     "output_type": "stream",
     "text": [
      "100%|██████████| 103/103 [00:00<00:00, 219.02it/s]\n"
     ]
    },
    {
     "name": "stdout",
     "output_type": "stream",
     "text": [
      "Epoch 45: Train Loss 31073.3614, Train R2 = 0.693, Train RMSE = 0.160, Train MSE = 0.026, Train MAE = 0.124\n"
     ]
    },
    {
     "name": "stderr",
     "output_type": "stream",
     "text": [
      "Epoch 45 Val: 100%|██████████| 33/33 [00:00<00:00, 452.71it/s]\n"
     ]
    },
    {
     "name": "stdout",
     "output_type": "stream",
     "text": [
      "Epoch 45: Val Loss 3461.9418, Val R2 = 0.644, Val RMSE = 0.172, Val MSE = 0.030, Val MAE = 0.147\n"
     ]
    },
    {
     "name": "stderr",
     "output_type": "stream",
     "text": [
      "100%|██████████| 103/103 [00:00<00:00, 209.06it/s]\n"
     ]
    },
    {
     "name": "stdout",
     "output_type": "stream",
     "text": [
      "Epoch 46: Train Loss 31006.3954, Train R2 = 0.691, Train RMSE = 0.160, Train MSE = 0.026, Train MAE = 0.123\n"
     ]
    },
    {
     "name": "stderr",
     "output_type": "stream",
     "text": [
      "Epoch 46 Val: 100%|██████████| 33/33 [00:00<00:00, 405.67it/s]\n"
     ]
    },
    {
     "name": "stdout",
     "output_type": "stream",
     "text": [
      "Epoch 46: Val Loss 3593.5645, Val R2 = 0.640, Val RMSE = 0.173, Val MSE = 0.030, Val MAE = 0.147\n"
     ]
    },
    {
     "name": "stderr",
     "output_type": "stream",
     "text": [
      "100%|██████████| 103/103 [00:00<00:00, 217.59it/s]\n"
     ]
    },
    {
     "name": "stdout",
     "output_type": "stream",
     "text": [
      "Epoch 47: Train Loss 27574.1297, Train R2 = 0.733, Train RMSE = 0.149, Train MSE = 0.022, Train MAE = 0.115\n"
     ]
    },
    {
     "name": "stderr",
     "output_type": "stream",
     "text": [
      "Epoch 47 Val: 100%|██████████| 33/33 [00:00<00:00, 425.40it/s]\n"
     ]
    },
    {
     "name": "stdout",
     "output_type": "stream",
     "text": [
      "Epoch 47: Val Loss 3347.2665, Val R2 = 0.655, Val RMSE = 0.169, Val MSE = 0.029, Val MAE = 0.144\n"
     ]
    },
    {
     "name": "stderr",
     "output_type": "stream",
     "text": [
      "100%|██████████| 103/103 [00:00<00:00, 209.26it/s]\n"
     ]
    },
    {
     "name": "stdout",
     "output_type": "stream",
     "text": [
      "Epoch 48: Train Loss 30526.3470, Train R2 = 0.699, Train RMSE = 0.158, Train MSE = 0.025, Train MAE = 0.120\n"
     ]
    },
    {
     "name": "stderr",
     "output_type": "stream",
     "text": [
      "Epoch 48 Val: 100%|██████████| 33/33 [00:00<00:00, 447.25it/s]\n"
     ]
    },
    {
     "name": "stdout",
     "output_type": "stream",
     "text": [
      "Epoch 48: Val Loss 3753.1572, Val R2 = 0.627, Val RMSE = 0.176, Val MSE = 0.031, Val MAE = 0.149\n"
     ]
    },
    {
     "name": "stderr",
     "output_type": "stream",
     "text": [
      "100%|██████████| 103/103 [00:00<00:00, 209.55it/s]\n"
     ]
    },
    {
     "name": "stdout",
     "output_type": "stream",
     "text": [
      "Epoch 49: Train Loss 24736.3364, Train R2 = 0.769, Train RMSE = 0.139, Train MSE = 0.019, Train MAE = 0.108\n"
     ]
    },
    {
     "name": "stderr",
     "output_type": "stream",
     "text": [
      "Epoch 49 Val: 100%|██████████| 33/33 [00:00<00:00, 402.42it/s]\n"
     ]
    },
    {
     "name": "stdout",
     "output_type": "stream",
     "text": [
      "Epoch 49: Val Loss 3478.3726, Val R2 = 0.652, Val RMSE = 0.170, Val MSE = 0.029, Val MAE = 0.143\n"
     ]
    },
    {
     "name": "stderr",
     "output_type": "stream",
     "text": [
      "100%|██████████| 103/103 [00:00<00:00, 219.24it/s]\n"
     ]
    },
    {
     "name": "stdout",
     "output_type": "stream",
     "text": [
      "Epoch 50: Train Loss 27867.8482, Train R2 = 0.723, Train RMSE = 0.152, Train MSE = 0.023, Train MAE = 0.114\n"
     ]
    },
    {
     "name": "stderr",
     "output_type": "stream",
     "text": [
      "Epoch 50 Val: 100%|██████████| 33/33 [00:00<00:00, 449.32it/s]\n"
     ]
    },
    {
     "name": "stdout",
     "output_type": "stream",
     "text": [
      "Epoch 50: Val Loss 3810.2272, Val R2 = 0.614, Val RMSE = 0.179, Val MSE = 0.032, Val MAE = 0.149\n"
     ]
    },
    {
     "name": "stderr",
     "output_type": "stream",
     "text": [
      "100%|██████████| 103/103 [00:00<00:00, 219.52it/s]\n"
     ]
    },
    {
     "name": "stdout",
     "output_type": "stream",
     "text": [
      "Epoch 51: Train Loss 21839.6469, Train R2 = 0.787, Train RMSE = 0.133, Train MSE = 0.018, Train MAE = 0.101\n"
     ]
    },
    {
     "name": "stderr",
     "output_type": "stream",
     "text": [
      "Epoch 51 Val: 100%|██████████| 33/33 [00:00<00:00, 386.78it/s]\n"
     ]
    },
    {
     "name": "stdout",
     "output_type": "stream",
     "text": [
      "Epoch 51: Val Loss 3687.4486, Val R2 = 0.622, Val RMSE = 0.177, Val MSE = 0.031, Val MAE = 0.145\n"
     ]
    },
    {
     "name": "stderr",
     "output_type": "stream",
     "text": [
      "100%|██████████| 103/103 [00:00<00:00, 216.13it/s]\n"
     ]
    },
    {
     "name": "stdout",
     "output_type": "stream",
     "text": [
      "Epoch 52: Train Loss 22942.5087, Train R2 = 0.771, Train RMSE = 0.138, Train MSE = 0.019, Train MAE = 0.103\n"
     ]
    },
    {
     "name": "stderr",
     "output_type": "stream",
     "text": [
      "Epoch 52 Val: 100%|██████████| 33/33 [00:00<00:00, 358.49it/s]\n"
     ]
    },
    {
     "name": "stdout",
     "output_type": "stream",
     "text": [
      "Epoch 52: Val Loss 4048.2138, Val R2 = 0.585, Val RMSE = 0.186, Val MSE = 0.034, Val MAE = 0.152\n"
     ]
    },
    {
     "name": "stderr",
     "output_type": "stream",
     "text": [
      "100%|██████████| 103/103 [00:00<00:00, 217.24it/s]\n"
     ]
    },
    {
     "name": "stdout",
     "output_type": "stream",
     "text": [
      "Epoch 53: Train Loss 18306.3006, Train R2 = 0.820, Train RMSE = 0.122, Train MSE = 0.015, Train MAE = 0.091\n"
     ]
    },
    {
     "name": "stderr",
     "output_type": "stream",
     "text": [
      "Epoch 53 Val: 100%|██████████| 33/33 [00:00<00:00, 434.13it/s]\n"
     ]
    },
    {
     "name": "stdout",
     "output_type": "stream",
     "text": [
      "Epoch 53: Val Loss 4153.1394, Val R2 = 0.572, Val RMSE = 0.188, Val MSE = 0.036, Val MAE = 0.152\n"
     ]
    },
    {
     "name": "stderr",
     "output_type": "stream",
     "text": [
      "100%|██████████| 103/103 [00:00<00:00, 215.60it/s]\n"
     ]
    },
    {
     "name": "stdout",
     "output_type": "stream",
     "text": [
      "Epoch 54: Train Loss 19896.5676, Train R2 = 0.803, Train RMSE = 0.128, Train MSE = 0.016, Train MAE = 0.096\n"
     ]
    },
    {
     "name": "stderr",
     "output_type": "stream",
     "text": [
      "Epoch 54 Val: 100%|██████████| 33/33 [00:00<00:00, 453.73it/s]\n"
     ]
    },
    {
     "name": "stdout",
     "output_type": "stream",
     "text": [
      "Epoch 54: Val Loss 4458.1083, Val R2 = 0.543, Val RMSE = 0.195, Val MSE = 0.038, Val MAE = 0.158\n"
     ]
    },
    {
     "name": "stderr",
     "output_type": "stream",
     "text": [
      "100%|██████████| 103/103 [00:00<00:00, 206.82it/s]\n"
     ]
    },
    {
     "name": "stdout",
     "output_type": "stream",
     "text": [
      "Epoch 55: Train Loss 14864.4871, Train R2 = 0.861, Train RMSE = 0.108, Train MSE = 0.012, Train MAE = 0.081\n"
     ]
    },
    {
     "name": "stderr",
     "output_type": "stream",
     "text": [
      "Epoch 55 Val: 100%|██████████| 33/33 [00:00<00:00, 437.17it/s]\n"
     ]
    },
    {
     "name": "stdout",
     "output_type": "stream",
     "text": [
      "Epoch 55: Val Loss 4492.0790, Val R2 = 0.543, Val RMSE = 0.195, Val MSE = 0.038, Val MAE = 0.157\n"
     ]
    },
    {
     "name": "stderr",
     "output_type": "stream",
     "text": [
      "100%|██████████| 103/103 [00:00<00:00, 210.99it/s]\n"
     ]
    },
    {
     "name": "stdout",
     "output_type": "stream",
     "text": [
      "Epoch 56: Train Loss 19075.7449, Train R2 = 0.817, Train RMSE = 0.124, Train MSE = 0.015, Train MAE = 0.092\n"
     ]
    },
    {
     "name": "stderr",
     "output_type": "stream",
     "text": [
      "Epoch 56 Val: 100%|██████████| 33/33 [00:00<00:00, 410.27it/s]\n"
     ]
    },
    {
     "name": "stdout",
     "output_type": "stream",
     "text": [
      "Epoch 56: Val Loss 5197.7045, Val R2 = 0.470, Val RMSE = 0.210, Val MSE = 0.044, Val MAE = 0.170\n"
     ]
    },
    {
     "name": "stderr",
     "output_type": "stream",
     "text": [
      "100%|██████████| 103/103 [00:00<00:00, 214.64it/s]\n"
     ]
    },
    {
     "name": "stdout",
     "output_type": "stream",
     "text": [
      "Epoch 57: Train Loss 13028.3546, Train R2 = 0.889, Train RMSE = 0.096, Train MSE = 0.009, Train MAE = 0.073\n"
     ]
    },
    {
     "name": "stderr",
     "output_type": "stream",
     "text": [
      "Epoch 57 Val: 100%|██████████| 33/33 [00:00<00:00, 428.97it/s]\n"
     ]
    },
    {
     "name": "stdout",
     "output_type": "stream",
     "text": [
      "Epoch 57: Val Loss 4965.5021, Val R2 = 0.521, Val RMSE = 0.200, Val MSE = 0.040, Val MAE = 0.162\n"
     ]
    },
    {
     "name": "stderr",
     "output_type": "stream",
     "text": [
      "100%|██████████| 103/103 [00:00<00:00, 214.54it/s]\n"
     ]
    },
    {
     "name": "stdout",
     "output_type": "stream",
     "text": [
      "Epoch 58: Train Loss 15873.5509, Train R2 = 0.842, Train RMSE = 0.115, Train MSE = 0.013, Train MAE = 0.084\n"
     ]
    },
    {
     "name": "stderr",
     "output_type": "stream",
     "text": [
      "Epoch 58 Val: 100%|██████████| 33/33 [00:00<00:00, 418.88it/s]\n"
     ]
    },
    {
     "name": "stdout",
     "output_type": "stream",
     "text": [
      "Epoch 58: Val Loss 5455.6763, Val R2 = 0.437, Val RMSE = 0.216, Val MSE = 0.047, Val MAE = 0.175\n"
     ]
    },
    {
     "name": "stderr",
     "output_type": "stream",
     "text": [
      "100%|██████████| 103/103 [00:00<00:00, 215.81it/s]\n"
     ]
    },
    {
     "name": "stdout",
     "output_type": "stream",
     "text": [
      "Epoch 59: Train Loss 10634.4955, Train R2 = 0.896, Train RMSE = 0.093, Train MSE = 0.009, Train MAE = 0.071\n"
     ]
    },
    {
     "name": "stderr",
     "output_type": "stream",
     "text": [
      "Epoch 59 Val: 100%|██████████| 33/33 [00:00<00:00, 425.08it/s]\n"
     ]
    },
    {
     "name": "stdout",
     "output_type": "stream",
     "text": [
      "Epoch 59: Val Loss 6143.5346, Val R2 = 0.370, Val RMSE = 0.229, Val MSE = 0.052, Val MAE = 0.189\n"
     ]
    },
    {
     "name": "stderr",
     "output_type": "stream",
     "text": [
      "100%|██████████| 103/103 [00:00<00:00, 208.18it/s]\n"
     ]
    },
    {
     "name": "stdout",
     "output_type": "stream",
     "text": [
      "Epoch 60: Train Loss 13335.0324, Train R2 = 0.867, Train RMSE = 0.105, Train MSE = 0.011, Train MAE = 0.079\n"
     ]
    },
    {
     "name": "stderr",
     "output_type": "stream",
     "text": [
      "Epoch 60 Val: 100%|██████████| 33/33 [00:00<00:00, 407.39it/s]\n"
     ]
    },
    {
     "name": "stdout",
     "output_type": "stream",
     "text": [
      "Epoch 60: Val Loss 5861.2829, Val R2 = 0.394, Val RMSE = 0.224, Val MSE = 0.050, Val MAE = 0.182\n"
     ]
    },
    {
     "name": "stderr",
     "output_type": "stream",
     "text": [
      "100%|██████████| 103/103 [00:00<00:00, 211.93it/s]\n"
     ]
    },
    {
     "name": "stdout",
     "output_type": "stream",
     "text": [
      "Epoch 61: Train Loss 8822.4345, Train R2 = 0.914, Train RMSE = 0.085, Train MSE = 0.007, Train MAE = 0.065\n"
     ]
    },
    {
     "name": "stderr",
     "output_type": "stream",
     "text": [
      "Epoch 61 Val: 100%|██████████| 33/33 [00:00<00:00, 424.60it/s]\n"
     ]
    },
    {
     "name": "stdout",
     "output_type": "stream",
     "text": [
      "Epoch 61: Val Loss 6579.3001, Val R2 = 0.325, Val RMSE = 0.237, Val MSE = 0.056, Val MAE = 0.198\n"
     ]
    },
    {
     "name": "stderr",
     "output_type": "stream",
     "text": [
      "100%|██████████| 103/103 [00:00<00:00, 208.07it/s]\n"
     ]
    },
    {
     "name": "stdout",
     "output_type": "stream",
     "text": [
      "Epoch 62: Train Loss 11310.3101, Train R2 = 0.889, Train RMSE = 0.096, Train MSE = 0.009, Train MAE = 0.073\n"
     ]
    },
    {
     "name": "stderr",
     "output_type": "stream",
     "text": [
      "Epoch 62 Val: 100%|██████████| 33/33 [00:00<00:00, 441.94it/s]\n"
     ]
    },
    {
     "name": "stdout",
     "output_type": "stream",
     "text": [
      "Epoch 62: Val Loss 6537.2664, Val R2 = 0.325, Val RMSE = 0.237, Val MSE = 0.056, Val MAE = 0.193\n"
     ]
    },
    {
     "name": "stderr",
     "output_type": "stream",
     "text": [
      "100%|██████████| 103/103 [00:00<00:00, 209.16it/s]\n"
     ]
    },
    {
     "name": "stdout",
     "output_type": "stream",
     "text": [
      "Epoch 63: Train Loss 7692.2783, Train R2 = 0.928, Train RMSE = 0.077, Train MSE = 0.006, Train MAE = 0.061\n"
     ]
    },
    {
     "name": "stderr",
     "output_type": "stream",
     "text": [
      "Epoch 63 Val: 100%|██████████| 33/33 [00:00<00:00, 443.64it/s]\n"
     ]
    },
    {
     "name": "stdout",
     "output_type": "stream",
     "text": [
      "Epoch 63: Val Loss 6769.5102, Val R2 = 0.311, Val RMSE = 0.239, Val MSE = 0.057, Val MAE = 0.201\n"
     ]
    },
    {
     "name": "stderr",
     "output_type": "stream",
     "text": [
      "100%|██████████| 103/103 [00:00<00:00, 199.67it/s]\n"
     ]
    },
    {
     "name": "stdout",
     "output_type": "stream",
     "text": [
      "Epoch 64: Train Loss 10330.2671, Train R2 = 0.900, Train RMSE = 0.091, Train MSE = 0.008, Train MAE = 0.070\n"
     ]
    },
    {
     "name": "stderr",
     "output_type": "stream",
     "text": [
      "Epoch 64 Val: 100%|██████████| 33/33 [00:00<00:00, 434.63it/s]\n"
     ]
    },
    {
     "name": "stdout",
     "output_type": "stream",
     "text": [
      "Epoch 64: Val Loss 7196.4554, Val R2 = 0.257, Val RMSE = 0.248, Val MSE = 0.062, Val MAE = 0.203\n"
     ]
    },
    {
     "name": "stderr",
     "output_type": "stream",
     "text": [
      "100%|██████████| 103/103 [00:00<00:00, 211.60it/s]\n"
     ]
    },
    {
     "name": "stdout",
     "output_type": "stream",
     "text": [
      "Epoch 65: Train Loss 7329.3941, Train R2 = 0.935, Train RMSE = 0.073, Train MSE = 0.005, Train MAE = 0.058\n"
     ]
    },
    {
     "name": "stderr",
     "output_type": "stream",
     "text": [
      "Epoch 65 Val: 100%|██████████| 33/33 [00:00<00:00, 412.50it/s]\n"
     ]
    },
    {
     "name": "stdout",
     "output_type": "stream",
     "text": [
      "Epoch 65: Val Loss 6854.6267, Val R2 = 0.315, Val RMSE = 0.239, Val MSE = 0.057, Val MAE = 0.201\n"
     ]
    },
    {
     "name": "stderr",
     "output_type": "stream",
     "text": [
      "100%|██████████| 103/103 [00:00<00:00, 209.39it/s]\n"
     ]
    },
    {
     "name": "stdout",
     "output_type": "stream",
     "text": [
      "Epoch 66: Train Loss 9423.4903, Train R2 = 0.909, Train RMSE = 0.087, Train MSE = 0.008, Train MAE = 0.067\n"
     ]
    },
    {
     "name": "stderr",
     "output_type": "stream",
     "text": [
      "Epoch 66 Val: 100%|██████████| 33/33 [00:00<00:00, 431.50it/s]\n"
     ]
    },
    {
     "name": "stdout",
     "output_type": "stream",
     "text": [
      "Epoch 66: Val Loss 7836.3716, Val R2 = 0.191, Val RMSE = 0.259, Val MSE = 0.067, Val MAE = 0.213\n"
     ]
    },
    {
     "name": "stderr",
     "output_type": "stream",
     "text": [
      "100%|██████████| 103/103 [00:00<00:00, 206.46it/s]\n"
     ]
    },
    {
     "name": "stdout",
     "output_type": "stream",
     "text": [
      "Epoch 67: Train Loss 6589.2435, Train R2 = 0.940, Train RMSE = 0.071, Train MSE = 0.005, Train MAE = 0.056\n"
     ]
    },
    {
     "name": "stderr",
     "output_type": "stream",
     "text": [
      "Epoch 67 Val: 100%|██████████| 33/33 [00:00<00:00, 403.53it/s]\n"
     ]
    },
    {
     "name": "stdout",
     "output_type": "stream",
     "text": [
      "Epoch 67: Val Loss 7225.4358, Val R2 = 0.269, Val RMSE = 0.246, Val MSE = 0.061, Val MAE = 0.208\n"
     ]
    },
    {
     "name": "stderr",
     "output_type": "stream",
     "text": [
      "100%|██████████| 103/103 [00:00<00:00, 214.99it/s]\n"
     ]
    },
    {
     "name": "stdout",
     "output_type": "stream",
     "text": [
      "Epoch 68: Train Loss 8362.7301, Train R2 = 0.918, Train RMSE = 0.082, Train MSE = 0.007, Train MAE = 0.064\n"
     ]
    },
    {
     "name": "stderr",
     "output_type": "stream",
     "text": [
      "Epoch 68 Val: 100%|██████████| 33/33 [00:00<00:00, 425.25it/s]\n"
     ]
    },
    {
     "name": "stdout",
     "output_type": "stream",
     "text": [
      "Epoch 68: Val Loss 7950.2622, Val R2 = 0.178, Val RMSE = 0.261, Val MSE = 0.068, Val MAE = 0.216\n"
     ]
    },
    {
     "name": "stderr",
     "output_type": "stream",
     "text": [
      "100%|██████████| 103/103 [00:00<00:00, 210.96it/s]\n"
     ]
    },
    {
     "name": "stdout",
     "output_type": "stream",
     "text": [
      "Epoch 69: Train Loss 6296.8866, Train R2 = 0.940, Train RMSE = 0.071, Train MSE = 0.005, Train MAE = 0.056\n"
     ]
    },
    {
     "name": "stderr",
     "output_type": "stream",
     "text": [
      "Epoch 69 Val: 100%|██████████| 33/33 [00:00<00:00, 395.89it/s]\n"
     ]
    },
    {
     "name": "stdout",
     "output_type": "stream",
     "text": [
      "Epoch 69: Val Loss 7460.5770, Val R2 = 0.238, Val RMSE = 0.252, Val MSE = 0.063, Val MAE = 0.213\n"
     ]
    },
    {
     "name": "stderr",
     "output_type": "stream",
     "text": [
      "100%|██████████| 103/103 [00:00<00:00, 209.44it/s]\n"
     ]
    },
    {
     "name": "stdout",
     "output_type": "stream",
     "text": [
      "Epoch 70: Train Loss 7470.2788, Train R2 = 0.927, Train RMSE = 0.078, Train MSE = 0.006, Train MAE = 0.061\n"
     ]
    },
    {
     "name": "stderr",
     "output_type": "stream",
     "text": [
      "Epoch 70 Val: 100%|██████████| 33/33 [00:00<00:00, 371.50it/s]\n"
     ]
    },
    {
     "name": "stdout",
     "output_type": "stream",
     "text": [
      "Epoch 70: Val Loss 8142.3412, Val R2 = 0.158, Val RMSE = 0.264, Val MSE = 0.070, Val MAE = 0.220\n"
     ]
    },
    {
     "name": "stderr",
     "output_type": "stream",
     "text": [
      "100%|██████████| 103/103 [00:00<00:00, 211.77it/s]\n"
     ]
    },
    {
     "name": "stdout",
     "output_type": "stream",
     "text": [
      "Epoch 71: Train Loss 5961.5427, Train R2 = 0.942, Train RMSE = 0.069, Train MSE = 0.005, Train MAE = 0.054\n"
     ]
    },
    {
     "name": "stderr",
     "output_type": "stream",
     "text": [
      "Epoch 71 Val: 100%|██████████| 33/33 [00:00<00:00, 436.18it/s]\n"
     ]
    },
    {
     "name": "stdout",
     "output_type": "stream",
     "text": [
      "Epoch 71: Val Loss 7422.8817, Val R2 = 0.240, Val RMSE = 0.251, Val MSE = 0.063, Val MAE = 0.212\n"
     ]
    },
    {
     "name": "stderr",
     "output_type": "stream",
     "text": [
      "100%|██████████| 103/103 [00:00<00:00, 207.22it/s]\n"
     ]
    },
    {
     "name": "stdout",
     "output_type": "stream",
     "text": [
      "Epoch 72: Train Loss 6971.9581, Train R2 = 0.932, Train RMSE = 0.075, Train MSE = 0.006, Train MAE = 0.058\n"
     ]
    },
    {
     "name": "stderr",
     "output_type": "stream",
     "text": [
      "Epoch 72 Val: 100%|██████████| 33/33 [00:00<00:00, 399.53it/s]\n"
     ]
    },
    {
     "name": "stdout",
     "output_type": "stream",
     "text": [
      "Epoch 72: Val Loss 8174.6519, Val R2 = 0.154, Val RMSE = 0.265, Val MSE = 0.070, Val MAE = 0.222\n"
     ]
    },
    {
     "name": "stderr",
     "output_type": "stream",
     "text": [
      "100%|██████████| 103/103 [00:00<00:00, 208.33it/s]\n"
     ]
    },
    {
     "name": "stdout",
     "output_type": "stream",
     "text": [
      "Epoch 73: Train Loss 5867.5840, Train R2 = 0.943, Train RMSE = 0.069, Train MSE = 0.005, Train MAE = 0.054\n"
     ]
    },
    {
     "name": "stderr",
     "output_type": "stream",
     "text": [
      "Epoch 73 Val: 100%|██████████| 33/33 [00:00<00:00, 424.99it/s]\n"
     ]
    },
    {
     "name": "stdout",
     "output_type": "stream",
     "text": [
      "Epoch 73: Val Loss 7325.2469, Val R2 = 0.249, Val RMSE = 0.250, Val MSE = 0.062, Val MAE = 0.209\n"
     ]
    },
    {
     "name": "stderr",
     "output_type": "stream",
     "text": [
      "100%|██████████| 103/103 [00:00<00:00, 209.97it/s]\n"
     ]
    },
    {
     "name": "stdout",
     "output_type": "stream",
     "text": [
      "Epoch 74: Train Loss 6634.7029, Train R2 = 0.935, Train RMSE = 0.074, Train MSE = 0.005, Train MAE = 0.057\n"
     ]
    },
    {
     "name": "stderr",
     "output_type": "stream",
     "text": [
      "Epoch 74 Val: 100%|██████████| 33/33 [00:00<00:00, 422.84it/s]\n"
     ]
    },
    {
     "name": "stdout",
     "output_type": "stream",
     "text": [
      "Epoch 74: Val Loss 8264.4623, Val R2 = 0.145, Val RMSE = 0.266, Val MSE = 0.071, Val MAE = 0.225\n"
     ]
    },
    {
     "name": "stderr",
     "output_type": "stream",
     "text": [
      "100%|██████████| 103/103 [00:00<00:00, 205.87it/s]\n"
     ]
    },
    {
     "name": "stdout",
     "output_type": "stream",
     "text": [
      "Epoch 75: Train Loss 5807.7240, Train R2 = 0.943, Train RMSE = 0.069, Train MSE = 0.005, Train MAE = 0.054\n"
     ]
    },
    {
     "name": "stderr",
     "output_type": "stream",
     "text": [
      "Epoch 75 Val: 100%|██████████| 33/33 [00:00<00:00, 395.27it/s]\n"
     ]
    },
    {
     "name": "stdout",
     "output_type": "stream",
     "text": [
      "Epoch 75: Val Loss 7085.6436, Val R2 = 0.274, Val RMSE = 0.246, Val MSE = 0.060, Val MAE = 0.204\n"
     ]
    },
    {
     "name": "stderr",
     "output_type": "stream",
     "text": [
      "100%|██████████| 103/103 [00:00<00:00, 203.61it/s]\n"
     ]
    },
    {
     "name": "stdout",
     "output_type": "stream",
     "text": [
      "Epoch 76: Train Loss 6396.7548, Train R2 = 0.937, Train RMSE = 0.072, Train MSE = 0.005, Train MAE = 0.056\n"
     ]
    },
    {
     "name": "stderr",
     "output_type": "stream",
     "text": [
      "Epoch 76 Val: 100%|██████████| 33/33 [00:00<00:00, 410.67it/s]\n"
     ]
    },
    {
     "name": "stdout",
     "output_type": "stream",
     "text": [
      "Epoch 76: Val Loss 8278.4569, Val R2 = 0.144, Val RMSE = 0.267, Val MSE = 0.071, Val MAE = 0.227\n"
     ]
    },
    {
     "name": "stderr",
     "output_type": "stream",
     "text": [
      "100%|██████████| 103/103 [00:00<00:00, 200.92it/s]\n"
     ]
    },
    {
     "name": "stdout",
     "output_type": "stream",
     "text": [
      "Epoch 77: Train Loss 5926.4441, Train R2 = 0.942, Train RMSE = 0.069, Train MSE = 0.005, Train MAE = 0.054\n"
     ]
    },
    {
     "name": "stderr",
     "output_type": "stream",
     "text": [
      "Epoch 77 Val: 100%|██████████| 33/33 [00:00<00:00, 434.98it/s]\n"
     ]
    },
    {
     "name": "stdout",
     "output_type": "stream",
     "text": [
      "Epoch 77: Val Loss 6824.0048, Val R2 = 0.301, Val RMSE = 0.241, Val MSE = 0.058, Val MAE = 0.197\n"
     ]
    },
    {
     "name": "stderr",
     "output_type": "stream",
     "text": [
      "100%|██████████| 103/103 [00:00<00:00, 207.80it/s]\n"
     ]
    },
    {
     "name": "stdout",
     "output_type": "stream",
     "text": [
      "Epoch 78: Train Loss 6252.0264, Train R2 = 0.939, Train RMSE = 0.071, Train MSE = 0.005, Train MAE = 0.055\n"
     ]
    },
    {
     "name": "stderr",
     "output_type": "stream",
     "text": [
      "Epoch 78 Val: 100%|██████████| 33/33 [00:00<00:00, 413.85it/s]\n"
     ]
    },
    {
     "name": "stdout",
     "output_type": "stream",
     "text": [
      "Epoch 78: Val Loss 8320.5501, Val R2 = 0.139, Val RMSE = 0.267, Val MSE = 0.071, Val MAE = 0.230\n"
     ]
    },
    {
     "name": "stderr",
     "output_type": "stream",
     "text": [
      "100%|██████████| 103/103 [00:00<00:00, 207.35it/s]\n"
     ]
    },
    {
     "name": "stdout",
     "output_type": "stream",
     "text": [
      "Epoch 79: Train Loss 6152.1841, Train R2 = 0.940, Train RMSE = 0.071, Train MSE = 0.005, Train MAE = 0.056\n"
     ]
    },
    {
     "name": "stderr",
     "output_type": "stream",
     "text": [
      "Epoch 79 Val: 100%|██████████| 33/33 [00:00<00:00, 432.21it/s]\n"
     ]
    },
    {
     "name": "stdout",
     "output_type": "stream",
     "text": [
      "Epoch 79: Val Loss 6563.9492, Val R2 = 0.328, Val RMSE = 0.236, Val MSE = 0.056, Val MAE = 0.191\n"
     ]
    },
    {
     "name": "stderr",
     "output_type": "stream",
     "text": [
      "100%|██████████| 103/103 [00:00<00:00, 207.35it/s]\n"
     ]
    },
    {
     "name": "stdout",
     "output_type": "stream",
     "text": [
      "Epoch 80: Train Loss 6146.8018, Train R2 = 0.939, Train RMSE = 0.071, Train MSE = 0.005, Train MAE = 0.055\n"
     ]
    },
    {
     "name": "stderr",
     "output_type": "stream",
     "text": [
      "Epoch 80 Val: 100%|██████████| 33/33 [00:00<00:00, 407.99it/s]\n"
     ]
    },
    {
     "name": "stdout",
     "output_type": "stream",
     "text": [
      "Epoch 80: Val Loss 8296.5212, Val R2 = 0.142, Val RMSE = 0.267, Val MSE = 0.071, Val MAE = 0.232\n"
     ]
    },
    {
     "name": "stderr",
     "output_type": "stream",
     "text": [
      "100%|██████████| 103/103 [00:00<00:00, 207.47it/s]\n"
     ]
    },
    {
     "name": "stdout",
     "output_type": "stream",
     "text": [
      "Epoch 81: Train Loss 6577.9709, Train R2 = 0.935, Train RMSE = 0.074, Train MSE = 0.005, Train MAE = 0.058\n"
     ]
    },
    {
     "name": "stderr",
     "output_type": "stream",
     "text": [
      "Epoch 81 Val: 100%|██████████| 33/33 [00:00<00:00, 425.44it/s]\n"
     ]
    },
    {
     "name": "stdout",
     "output_type": "stream",
     "text": [
      "Epoch 81: Val Loss 6415.5457, Val R2 = 0.342, Val RMSE = 0.234, Val MSE = 0.055, Val MAE = 0.189\n"
     ]
    },
    {
     "name": "stderr",
     "output_type": "stream",
     "text": [
      "100%|██████████| 103/103 [00:00<00:00, 200.46it/s]\n"
     ]
    },
    {
     "name": "stdout",
     "output_type": "stream",
     "text": [
      "Epoch 82: Train Loss 6060.0809, Train R2 = 0.940, Train RMSE = 0.071, Train MSE = 0.005, Train MAE = 0.055\n"
     ]
    },
    {
     "name": "stderr",
     "output_type": "stream",
     "text": [
      "Epoch 82 Val: 100%|██████████| 33/33 [00:00<00:00, 305.16it/s]\n"
     ]
    },
    {
     "name": "stdout",
     "output_type": "stream",
     "text": [
      "Epoch 82: Val Loss 8159.7856, Val R2 = 0.156, Val RMSE = 0.265, Val MSE = 0.070, Val MAE = 0.231\n"
     ]
    },
    {
     "name": "stderr",
     "output_type": "stream",
     "text": [
      "100%|██████████| 103/103 [00:00<00:00, 206.79it/s]\n"
     ]
    },
    {
     "name": "stdout",
     "output_type": "stream",
     "text": [
      "Epoch 83: Train Loss 6953.0098, Train R2 = 0.931, Train RMSE = 0.076, Train MSE = 0.006, Train MAE = 0.059\n"
     ]
    },
    {
     "name": "stderr",
     "output_type": "stream",
     "text": [
      "Epoch 83 Val: 100%|██████████| 33/33 [00:00<00:00, 429.02it/s]\n"
     ]
    },
    {
     "name": "stdout",
     "output_type": "stream",
     "text": [
      "Epoch 83: Val Loss 6386.8471, Val R2 = 0.343, Val RMSE = 0.234, Val MSE = 0.055, Val MAE = 0.189\n"
     ]
    },
    {
     "name": "stderr",
     "output_type": "stream",
     "text": [
      "100%|██████████| 103/103 [00:00<00:00, 202.60it/s]\n"
     ]
    },
    {
     "name": "stdout",
     "output_type": "stream",
     "text": [
      "Epoch 84: Train Loss 5896.8992, Train R2 = 0.941, Train RMSE = 0.070, Train MSE = 0.005, Train MAE = 0.055\n"
     ]
    },
    {
     "name": "stderr",
     "output_type": "stream",
     "text": [
      "Epoch 84 Val: 100%|██████████| 33/33 [00:00<00:00, 418.06it/s]\n"
     ]
    },
    {
     "name": "stdout",
     "output_type": "stream",
     "text": [
      "Epoch 84: Val Loss 7834.2416, Val R2 = 0.191, Val RMSE = 0.259, Val MSE = 0.067, Val MAE = 0.226\n"
     ]
    },
    {
     "name": "stderr",
     "output_type": "stream",
     "text": [
      "100%|██████████| 103/103 [00:00<00:00, 206.21it/s]\n"
     ]
    },
    {
     "name": "stdout",
     "output_type": "stream",
     "text": [
      "Epoch 85: Train Loss 6967.9410, Train R2 = 0.930, Train RMSE = 0.076, Train MSE = 0.006, Train MAE = 0.059\n"
     ]
    },
    {
     "name": "stderr",
     "output_type": "stream",
     "text": [
      "Epoch 85 Val: 100%|██████████| 33/33 [00:00<00:00, 432.27it/s]\n"
     ]
    },
    {
     "name": "stdout",
     "output_type": "stream",
     "text": [
      "Epoch 85: Val Loss 6507.7999, Val R2 = 0.329, Val RMSE = 0.236, Val MSE = 0.056, Val MAE = 0.190\n"
     ]
    },
    {
     "name": "stderr",
     "output_type": "stream",
     "text": [
      "100%|██████████| 103/103 [00:00<00:00, 207.00it/s]\n"
     ]
    },
    {
     "name": "stdout",
     "output_type": "stream",
     "text": [
      "Epoch 86: Train Loss 5576.6342, Train R2 = 0.945, Train RMSE = 0.068, Train MSE = 0.005, Train MAE = 0.053\n"
     ]
    },
    {
     "name": "stderr",
     "output_type": "stream",
     "text": [
      "Epoch 86 Val: 100%|██████████| 33/33 [00:00<00:00, 441.26it/s]\n"
     ]
    },
    {
     "name": "stdout",
     "output_type": "stream",
     "text": [
      "Epoch 86: Val Loss 7218.9332, Val R2 = 0.255, Val RMSE = 0.249, Val MSE = 0.062, Val MAE = 0.214\n"
     ]
    },
    {
     "name": "stderr",
     "output_type": "stream",
     "text": [
      "100%|██████████| 103/103 [00:00<00:00, 195.44it/s]\n"
     ]
    },
    {
     "name": "stdout",
     "output_type": "stream",
     "text": [
      "Epoch 87: Train Loss 6912.7925, Train R2 = 0.932, Train RMSE = 0.075, Train MSE = 0.006, Train MAE = 0.058\n"
     ]
    },
    {
     "name": "stderr",
     "output_type": "stream",
     "text": [
      "Epoch 87 Val: 100%|██████████| 33/33 [00:00<00:00, 432.65it/s]\n"
     ]
    },
    {
     "name": "stdout",
     "output_type": "stream",
     "text": [
      "Epoch 87: Val Loss 7095.3814, Val R2 = 0.266, Val RMSE = 0.247, Val MSE = 0.061, Val MAE = 0.200\n"
     ]
    },
    {
     "name": "stderr",
     "output_type": "stream",
     "text": [
      "100%|██████████| 103/103 [00:00<00:00, 205.18it/s]\n"
     ]
    },
    {
     "name": "stdout",
     "output_type": "stream",
     "text": [
      "Epoch 88: Train Loss 5545.4621, Train R2 = 0.949, Train RMSE = 0.065, Train MSE = 0.004, Train MAE = 0.051\n"
     ]
    },
    {
     "name": "stderr",
     "output_type": "stream",
     "text": [
      "Epoch 88 Val: 100%|██████████| 33/33 [00:00<00:00, 413.46it/s]\n"
     ]
    },
    {
     "name": "stdout",
     "output_type": "stream",
     "text": [
      "Epoch 88: Val Loss 6038.7663, Val R2 = 0.388, Val RMSE = 0.225, Val MSE = 0.051, Val MAE = 0.188\n"
     ]
    },
    {
     "name": "stderr",
     "output_type": "stream",
     "text": [
      "100%|██████████| 103/103 [00:00<00:00, 200.16it/s]\n"
     ]
    },
    {
     "name": "stdout",
     "output_type": "stream",
     "text": [
      "Epoch 89: Train Loss 7287.6308, Train R2 = 0.931, Train RMSE = 0.076, Train MSE = 0.006, Train MAE = 0.059\n"
     ]
    },
    {
     "name": "stderr",
     "output_type": "stream",
     "text": [
      "Epoch 89 Val: 100%|██████████| 33/33 [00:00<00:00, 417.89it/s]\n"
     ]
    },
    {
     "name": "stdout",
     "output_type": "stream",
     "text": [
      "Epoch 89: Val Loss 8610.1296, Val R2 = 0.111, Val RMSE = 0.272, Val MSE = 0.074, Val MAE = 0.233\n"
     ]
    },
    {
     "name": "stderr",
     "output_type": "stream",
     "text": [
      "100%|██████████| 103/103 [00:00<00:00, 206.95it/s]\n"
     ]
    },
    {
     "name": "stdout",
     "output_type": "stream",
     "text": [
      "Epoch 90: Train Loss 5769.4388, Train R2 = 0.948, Train RMSE = 0.066, Train MSE = 0.004, Train MAE = 0.052\n"
     ]
    },
    {
     "name": "stderr",
     "output_type": "stream",
     "text": [
      "Epoch 90 Val: 100%|██████████| 33/33 [00:00<00:00, 402.00it/s]\n"
     ]
    },
    {
     "name": "stdout",
     "output_type": "stream",
     "text": [
      "Epoch 90: Val Loss 5434.0773, Val R2 = 0.455, Val RMSE = 0.213, Val MSE = 0.045, Val MAE = 0.170\n"
     ]
    },
    {
     "name": "stderr",
     "output_type": "stream",
     "text": [
      "100%|██████████| 103/103 [00:00<00:00, 206.03it/s]\n"
     ]
    },
    {
     "name": "stdout",
     "output_type": "stream",
     "text": [
      "Epoch 91: Train Loss 7147.3681, Train R2 = 0.930, Train RMSE = 0.076, Train MSE = 0.006, Train MAE = 0.060\n"
     ]
    },
    {
     "name": "stderr",
     "output_type": "stream",
     "text": [
      "Epoch 91 Val: 100%|██████████| 33/33 [00:00<00:00, 371.40it/s]\n"
     ]
    },
    {
     "name": "stdout",
     "output_type": "stream",
     "text": [
      "Epoch 91: Val Loss 8548.1325, Val R2 = 0.116, Val RMSE = 0.271, Val MSE = 0.073, Val MAE = 0.240\n"
     ]
    },
    {
     "name": "stderr",
     "output_type": "stream",
     "text": [
      "100%|██████████| 103/103 [00:00<00:00, 201.69it/s]\n"
     ]
    },
    {
     "name": "stdout",
     "output_type": "stream",
     "text": [
      "Epoch 92: Train Loss 7258.0455, Train R2 = 0.928, Train RMSE = 0.077, Train MSE = 0.006, Train MAE = 0.060\n"
     ]
    },
    {
     "name": "stderr",
     "output_type": "stream",
     "text": [
      "Epoch 92 Val: 100%|██████████| 33/33 [00:00<00:00, 379.38it/s]\n"
     ]
    },
    {
     "name": "stdout",
     "output_type": "stream",
     "text": [
      "Epoch 92: Val Loss 6066.3759, Val R2 = 0.380, Val RMSE = 0.227, Val MSE = 0.051, Val MAE = 0.184\n"
     ]
    },
    {
     "name": "stderr",
     "output_type": "stream",
     "text": [
      "100%|██████████| 103/103 [00:00<00:00, 197.20it/s]\n"
     ]
    },
    {
     "name": "stdout",
     "output_type": "stream",
     "text": [
      "Epoch 93: Train Loss 5942.2692, Train R2 = 0.941, Train RMSE = 0.070, Train MSE = 0.005, Train MAE = 0.055\n"
     ]
    },
    {
     "name": "stderr",
     "output_type": "stream",
     "text": [
      "Epoch 93 Val: 100%|██████████| 33/33 [00:00<00:00, 414.90it/s]\n"
     ]
    },
    {
     "name": "stdout",
     "output_type": "stream",
     "text": [
      "Epoch 93: Val Loss 7924.0359, Val R2 = 0.181, Val RMSE = 0.261, Val MSE = 0.068, Val MAE = 0.229\n"
     ]
    },
    {
     "name": "stderr",
     "output_type": "stream",
     "text": [
      "100%|██████████| 103/103 [00:00<00:00, 195.14it/s]\n"
     ]
    },
    {
     "name": "stdout",
     "output_type": "stream",
     "text": [
      "Epoch 94: Train Loss 6828.1100, Train R2 = 0.932, Train RMSE = 0.075, Train MSE = 0.006, Train MAE = 0.058\n"
     ]
    },
    {
     "name": "stderr",
     "output_type": "stream",
     "text": [
      "Epoch 94 Val: 100%|██████████| 33/33 [00:00<00:00, 318.95it/s]\n"
     ]
    },
    {
     "name": "stdout",
     "output_type": "stream",
     "text": [
      "Epoch 94: Val Loss 6307.1303, Val R2 = 0.350, Val RMSE = 0.232, Val MSE = 0.054, Val MAE = 0.186\n"
     ]
    },
    {
     "name": "stderr",
     "output_type": "stream",
     "text": [
      "100%|██████████| 103/103 [00:00<00:00, 200.69it/s]\n"
     ]
    },
    {
     "name": "stdout",
     "output_type": "stream",
     "text": [
      "Epoch 95: Train Loss 5367.2628, Train R2 = 0.946, Train RMSE = 0.067, Train MSE = 0.004, Train MAE = 0.052\n"
     ]
    },
    {
     "name": "stderr",
     "output_type": "stream",
     "text": [
      "Epoch 95 Val: 100%|██████████| 33/33 [00:00<00:00, 396.15it/s]\n"
     ]
    },
    {
     "name": "stdout",
     "output_type": "stream",
     "text": [
      "Epoch 95: Val Loss 7118.5028, Val R2 = 0.265, Val RMSE = 0.247, Val MSE = 0.061, Val MAE = 0.213\n"
     ]
    },
    {
     "name": "stderr",
     "output_type": "stream",
     "text": [
      "100%|██████████| 103/103 [00:00<00:00, 195.85it/s]\n"
     ]
    },
    {
     "name": "stdout",
     "output_type": "stream",
     "text": [
      "Epoch 96: Train Loss 6252.1550, Train R2 = 0.938, Train RMSE = 0.072, Train MSE = 0.005, Train MAE = 0.056\n"
     ]
    },
    {
     "name": "stderr",
     "output_type": "stream",
     "text": [
      "Epoch 96 Val: 100%|██████████| 33/33 [00:00<00:00, 404.50it/s]\n"
     ]
    },
    {
     "name": "stdout",
     "output_type": "stream",
     "text": [
      "Epoch 96: Val Loss 6618.8575, Val R2 = 0.316, Val RMSE = 0.238, Val MSE = 0.057, Val MAE = 0.194\n"
     ]
    },
    {
     "name": "stderr",
     "output_type": "stream",
     "text": [
      "100%|██████████| 103/103 [00:00<00:00, 199.62it/s]\n"
     ]
    },
    {
     "name": "stdout",
     "output_type": "stream",
     "text": [
      "Epoch 97: Train Loss 5186.4570, Train R2 = 0.948, Train RMSE = 0.066, Train MSE = 0.004, Train MAE = 0.051\n"
     ]
    },
    {
     "name": "stderr",
     "output_type": "stream",
     "text": [
      "Epoch 97 Val: 100%|██████████| 33/33 [00:00<00:00, 395.79it/s]\n"
     ]
    },
    {
     "name": "stdout",
     "output_type": "stream",
     "text": [
      "Epoch 97: Val Loss 6554.9614, Val R2 = 0.324, Val RMSE = 0.237, Val MSE = 0.056, Val MAE = 0.200\n"
     ]
    },
    {
     "name": "stderr",
     "output_type": "stream",
     "text": [
      "100%|██████████| 103/103 [00:00<00:00, 198.23it/s]\n"
     ]
    },
    {
     "name": "stdout",
     "output_type": "stream",
     "text": [
      "Epoch 98: Train Loss 5937.8625, Train R2 = 0.941, Train RMSE = 0.070, Train MSE = 0.005, Train MAE = 0.054\n"
     ]
    },
    {
     "name": "stderr",
     "output_type": "stream",
     "text": [
      "Epoch 98 Val: 100%|██████████| 33/33 [00:00<00:00, 363.62it/s]\n"
     ]
    },
    {
     "name": "stdout",
     "output_type": "stream",
     "text": [
      "Epoch 98: Val Loss 6942.2928, Val R2 = 0.282, Val RMSE = 0.244, Val MSE = 0.060, Val MAE = 0.204\n"
     ]
    },
    {
     "name": "stderr",
     "output_type": "stream",
     "text": [
      "100%|██████████| 103/103 [00:00<00:00, 197.63it/s]\n"
     ]
    },
    {
     "name": "stdout",
     "output_type": "stream",
     "text": [
      "Epoch 99: Train Loss 5220.9559, Train R2 = 0.949, Train RMSE = 0.065, Train MSE = 0.004, Train MAE = 0.050\n"
     ]
    },
    {
     "name": "stderr",
     "output_type": "stream",
     "text": [
      "Epoch 99 Val: 100%|██████████| 33/33 [00:00<00:00, 376.08it/s]\n"
     ]
    },
    {
     "name": "stdout",
     "output_type": "stream",
     "text": [
      "Epoch 99: Val Loss 5959.3757, Val R2 = 0.388, Val RMSE = 0.225, Val MSE = 0.051, Val MAE = 0.186\n"
     ]
    },
    {
     "name": "stderr",
     "output_type": "stream",
     "text": [
      "100%|██████████| 103/103 [00:00<00:00, 195.70it/s]\n"
     ]
    },
    {
     "name": "stdout",
     "output_type": "stream",
     "text": [
      "Epoch 100: Train Loss 5993.5386, Train R2 = 0.942, Train RMSE = 0.070, Train MSE = 0.005, Train MAE = 0.054\n"
     ]
    },
    {
     "name": "stderr",
     "output_type": "stream",
     "text": [
      "Epoch 100 Val: 100%|██████████| 33/33 [00:00<00:00, 377.07it/s]\n"
     ]
    },
    {
     "name": "stdout",
     "output_type": "stream",
     "text": [
      "Epoch 100: Val Loss 7516.2102, Val R2 = 0.223, Val RMSE = 0.254, Val MSE = 0.065, Val MAE = 0.217\n"
     ]
    },
    {
     "data": {
      "text/plain": [
       "{'train_loss': [200552.10847606475,\n",
       "  218434.36072192146,\n",
       "  187601.12639125343,\n",
       "  167526.71127471182,\n",
       "  148044.65687012905,\n",
       "  134340.01079403775,\n",
       "  126118.7263639876,\n",
       "  121271.49658106832,\n",
       "  119410.8274515578,\n",
       "  118485.51234204561,\n",
       "  118328.5289126461,\n",
       "  111343.1006066776,\n",
       "  114940.28431094272,\n",
       "  110325.05189434534,\n",
       "  112134.3885799519,\n",
       "  108280.73603920797,\n",
       "  109124.48471454509,\n",
       "  104183.56329123488,\n",
       "  102803.4000727459,\n",
       "  100791.42104209974,\n",
       "  99842.79708062329,\n",
       "  94766.8154300949,\n",
       "  94500.77830964616,\n",
       "  87112.09985929323,\n",
       "  86829.13120721614,\n",
       "  76686.76570121988,\n",
       "  76850.40535965706,\n",
       "  65723.30254726966,\n",
       "  63791.12932549634,\n",
       "  56251.79044675364,\n",
       "  52450.019078819496,\n",
       "  48628.134108015634,\n",
       "  41862.80968719779,\n",
       "  42870.401845617205,\n",
       "  35550.97546105246,\n",
       "  41936.98776956207,\n",
       "  34369.20541263321,\n",
       "  41823.773118102436,\n",
       "  34716.30872567186,\n",
       "  40631.355880292875,\n",
       "  34563.935263624466,\n",
       "  37670.37127507775,\n",
       "  32812.13033242828,\n",
       "  32728.436918980868,\n",
       "  31073.361449973097,\n",
       "  31006.395394038227,\n",
       "  27574.12967867064,\n",
       "  30526.3470352321,\n",
       "  24736.336367412678,\n",
       "  27867.848175345116,\n",
       "  21839.646944286753,\n",
       "  22942.50866343674,\n",
       "  18306.300606144283,\n",
       "  19896.567608287034,\n",
       "  14864.48713476681,\n",
       "  19075.744891416678,\n",
       "  13028.354619294694,\n",
       "  15873.550909542342,\n",
       "  10634.495517471461,\n",
       "  13335.032387446432,\n",
       "  8822.4344917964,\n",
       "  11310.310061704766,\n",
       "  7692.278307868439,\n",
       "  10330.267138434845,\n",
       "  7329.394110818511,\n",
       "  9423.490340742093,\n",
       "  6589.243527014279,\n",
       "  8362.730136908374,\n",
       "  6296.886591790949,\n",
       "  7470.27882266739,\n",
       "  5961.5427160170475,\n",
       "  6971.95813721592,\n",
       "  5867.583972523514,\n",
       "  6634.702898932892,\n",
       "  5807.723993690269,\n",
       "  6396.75479518557,\n",
       "  5926.444064242169,\n",
       "  6252.026353410147,\n",
       "  6152.184083216399,\n",
       "  6146.801759812438,\n",
       "  6577.970913488888,\n",
       "  6060.080879285498,\n",
       "  6953.00978503181,\n",
       "  5896.899156144522,\n",
       "  6967.940953226923,\n",
       "  5576.6342046052505,\n",
       "  6912.792500690349,\n",
       "  5545.4620690947595,\n",
       "  7287.630791821526,\n",
       "  5769.438781145707,\n",
       "  7147.36814628527,\n",
       "  7258.045517041845,\n",
       "  5942.269229333378,\n",
       "  6828.110036312955,\n",
       "  5367.262789235531,\n",
       "  6252.155020111973,\n",
       "  5186.456959437398,\n",
       "  5937.862473571185,\n",
       "  5220.955932469044,\n",
       "  5993.538558848853],\n",
       " 'train_r2': [-0.8232762584323845,\n",
       "  -1.056651425954792,\n",
       "  -0.7744608968414706,\n",
       "  -0.6033034197748519,\n",
       "  -0.4408293187279235,\n",
       "  -0.3263913394108975,\n",
       "  -0.25926368612870787,\n",
       "  -0.213258090695297,\n",
       "  -0.1937420105272778,\n",
       "  -0.18153208555677747,\n",
       "  -0.1836480568978327,\n",
       "  -0.1138534343780615,\n",
       "  -0.1491178676373539,\n",
       "  -0.10274460082461134,\n",
       "  -0.11428382204909382,\n",
       "  -0.0772388013278098,\n",
       "  -0.09290025319313622,\n",
       "  -0.04451512836529492,\n",
       "  -0.02680313206885354,\n",
       "  -0.008949006793429026,\n",
       "  0.005968143366070544,\n",
       "  0.05049993725864732,\n",
       "  0.05999637348156117,\n",
       "  0.13038345573631538,\n",
       "  0.1415085457695866,\n",
       "  0.23619919556323987,\n",
       "  0.23488471003448008,\n",
       "  0.34190467813297254,\n",
       "  0.3612784927725883,\n",
       "  0.4362659382100649,\n",
       "  0.47480489655803404,\n",
       "  0.5129772015515306,\n",
       "  0.5844392121429495,\n",
       "  0.5716005589885527,\n",
       "  0.6507735702613024,\n",
       "  0.5814396918961666,\n",
       "  0.6635876985907467,\n",
       "  0.5831510904157127,\n",
       "  0.6603934254583348,\n",
       "  0.5947820952895773,\n",
       "  0.6598443220704593,\n",
       "  0.6239749375031347,\n",
       "  0.6750661061942207,\n",
       "  0.672838502202806,\n",
       "  0.6926893683344162,\n",
       "  0.6911770494419824,\n",
       "  0.7334292688392874,\n",
       "  0.6993781915958859,\n",
       "  0.7689313489341494,\n",
       "  0.7226886463369573,\n",
       "  0.7867736164016643,\n",
       "  0.7711105232967519,\n",
       "  0.8203350144906484,\n",
       "  0.8029424135263381,\n",
       "  0.8607371597333002,\n",
       "  0.8166204797952665,\n",
       "  0.8891653783575338,\n",
       "  0.8421930515663039,\n",
       "  0.8962404055951423,\n",
       "  0.8673929478148162,\n",
       "  0.9139354113359961,\n",
       "  0.8887971137400414,\n",
       "  0.9279929152265983,\n",
       "  0.9004389085993918,\n",
       "  0.9354700378374085,\n",
       "  0.909458900884297,\n",
       "  0.9396380341074484,\n",
       "  0.9183528854375265,\n",
       "  0.9398494264683775,\n",
       "  0.9269382332999709,\n",
       "  0.9421941576605667,\n",
       "  0.9315403476861666,\n",
       "  0.9427442026615449,\n",
       "  0.9348663226937529,\n",
       "  0.9432114480427422,\n",
       "  0.9372090528601185,\n",
       "  0.9419808207128038,\n",
       "  0.9386330701421668,\n",
       "  0.9395468001168169,\n",
       "  0.9394010613792975,\n",
       "  0.9348460974469219,\n",
       "  0.9399212514324179,\n",
       "  0.9306584854706139,\n",
       "  0.9412311820483698,\n",
       "  0.9303530898559726,\n",
       "  0.944537540170329,\n",
       "  0.932297495170132,\n",
       "  0.9488185911399768,\n",
       "  0.9308758864591079,\n",
       "  0.9483406722550795,\n",
       "  0.9297663872368562,\n",
       "  0.9283001096883676,\n",
       "  0.940864468453833,\n",
       "  0.9317694869900206,\n",
       "  0.9464408448394149,\n",
       "  0.9376403304600816,\n",
       "  0.9484103079821143,\n",
       "  0.9412695728352691,\n",
       "  0.9488652152050209,\n",
       "  0.9416210612462806],\n",
       " 'train_mae': [0.28096825,\n",
       "  0.33544242,\n",
       "  0.31657735,\n",
       "  0.30472434,\n",
       "  0.29199675,\n",
       "  0.28200814,\n",
       "  0.2757308,\n",
       "  0.2713341,\n",
       "  0.26867893,\n",
       "  0.26947558,\n",
       "  0.26909277,\n",
       "  0.26314372,\n",
       "  0.26609728,\n",
       "  0.26234126,\n",
       "  0.26256168,\n",
       "  0.26004484,\n",
       "  0.2607986,\n",
       "  0.2559428,\n",
       "  0.2534017,\n",
       "  0.251256,\n",
       "  0.24899822,\n",
       "  0.24366662,\n",
       "  0.24175626,\n",
       "  0.23280796,\n",
       "  0.22938006,\n",
       "  0.21678367,\n",
       "  0.21325335,\n",
       "  0.19606386,\n",
       "  0.19022547,\n",
       "  0.17764576,\n",
       "  0.17097059,\n",
       "  0.16564927,\n",
       "  0.15239087,\n",
       "  0.15389465,\n",
       "  0.13803521,\n",
       "  0.1488304,\n",
       "  0.1328484,\n",
       "  0.14561005,\n",
       "  0.13227046,\n",
       "  0.14240104,\n",
       "  0.13201426,\n",
       "  0.13695034,\n",
       "  0.12854455,\n",
       "  0.12645501,\n",
       "  0.1241594,\n",
       "  0.123330325,\n",
       "  0.115172625,\n",
       "  0.120299354,\n",
       "  0.10758214,\n",
       "  0.11363245,\n",
       "  0.10114002,\n",
       "  0.103139155,\n",
       "  0.09110293,\n",
       "  0.095522575,\n",
       "  0.08051793,\n",
       "  0.09194065,\n",
       "  0.07295771,\n",
       "  0.08421159,\n",
       "  0.07064968,\n",
       "  0.07894195,\n",
       "  0.06519356,\n",
       "  0.07332327,\n",
       "  0.060706433,\n",
       "  0.07001124,\n",
       "  0.05796333,\n",
       "  0.06714891,\n",
       "  0.056270752,\n",
       "  0.06373252,\n",
       "  0.05582134,\n",
       "  0.060717437,\n",
       "  0.05443201,\n",
       "  0.05846988,\n",
       "  0.05387683,\n",
       "  0.056895595,\n",
       "  0.05355341,\n",
       "  0.055646643,\n",
       "  0.054223917,\n",
       "  0.055162407,\n",
       "  0.05552705,\n",
       "  0.055349894,\n",
       "  0.05754382,\n",
       "  0.055354685,\n",
       "  0.058971796,\n",
       "  0.054732904,\n",
       "  0.058860134,\n",
       "  0.053089105,\n",
       "  0.05824554,\n",
       "  0.050829995,\n",
       "  0.059427116,\n",
       "  0.05159623,\n",
       "  0.059997287,\n",
       "  0.059845008,\n",
       "  0.05519586,\n",
       "  0.058221065,\n",
       "  0.052190542,\n",
       "  0.055668518,\n",
       "  0.0505819,\n",
       "  0.053901438,\n",
       "  0.05036048,\n",
       "  0.054109894],\n",
       " 'train_mse': [0.15177265,\n",
       "  0.17119917,\n",
       "  0.14770916,\n",
       "  0.13346173,\n",
       "  0.11993711,\n",
       "  0.110411085,\n",
       "  0.10482328,\n",
       "  0.10099369,\n",
       "  0.09936913,\n",
       "  0.09835275,\n",
       "  0.09852889,\n",
       "  0.09271907,\n",
       "  0.09565454,\n",
       "  0.09179435,\n",
       "  0.09275489,\n",
       "  0.0896712,\n",
       "  0.0909749,\n",
       "  0.08694723,\n",
       "  0.08547285,\n",
       "  0.08398664,\n",
       "  0.08274492,\n",
       "  0.07903801,\n",
       "  0.07824752,\n",
       "  0.07238837,\n",
       "  0.0714623,\n",
       "  0.06358009,\n",
       "  0.06368951,\n",
       "  0.054780982,\n",
       "  0.053168274,\n",
       "  0.046926185,\n",
       "  0.04371814,\n",
       "  0.04054061,\n",
       "  0.03459199,\n",
       "  0.035660703,\n",
       "  0.029070204,\n",
       "  0.034841675,\n",
       "  0.028003534,\n",
       "  0.03469922,\n",
       "  0.028269434,\n",
       "  0.033731032,\n",
       "  0.02831514,\n",
       "  0.03130097,\n",
       "  0.027048055,\n",
       "  0.027233483,\n",
       "  0.025581064,\n",
       "  0.025706954,\n",
       "  0.022189805,\n",
       "  0.025024274,\n",
       "  0.01923455,\n",
       "  0.023083871,\n",
       "  0.01774933,\n",
       "  0.019053152,\n",
       "  0.014955621,\n",
       "  0.016403412,\n",
       "  0.011592477,\n",
       "  0.015264826,\n",
       "  0.009226064,\n",
       "  0.013136121,\n",
       "  0.008637127,\n",
       "  0.0110384375,\n",
       "  0.0071641635,\n",
       "  0.00925672,\n",
       "  0.0059939935,\n",
       "  0.008287635,\n",
       "  0.0053715846,\n",
       "  0.007536796,\n",
       "  0.005024634,\n",
       "  0.006796445,\n",
       "  0.005007037,\n",
       "  0.006081787,\n",
       "  0.004811858,\n",
       "  0.005698699,\n",
       "  0.0047660703,\n",
       "  0.005421839,\n",
       "  0.0047271764,\n",
       "  0.0052268268,\n",
       "  0.004829616,\n",
       "  0.005108289,\n",
       "  0.0050322283,\n",
       "  0.0050443592,\n",
       "  0.0054235226,\n",
       "  0.0050010574,\n",
       "  0.005772107,\n",
       "  0.0048920168,\n",
       "  0.005797528,\n",
       "  0.0046167905,\n",
       "  0.005635672,\n",
       "  0.0042604282,\n",
       "  0.00575401,\n",
       "  0.0043002106,\n",
       "  0.0058463663,\n",
       "  0.0059684217,\n",
       "  0.004922543,\n",
       "  0.005679625,\n",
       "  0.0044583557,\n",
       "  0.0051909257,\n",
       "  0.0042944145,\n",
       "  0.0048888214,\n",
       "  0.004256547,\n",
       "  0.004859563],\n",
       " 'train_rmse': [0.3895801,\n",
       "  0.4137622,\n",
       "  0.3843295,\n",
       "  0.36532414,\n",
       "  0.34631938,\n",
       "  0.33228165,\n",
       "  0.32376423,\n",
       "  0.31779504,\n",
       "  0.3152287,\n",
       "  0.31361243,\n",
       "  0.3138931,\n",
       "  0.30449808,\n",
       "  0.3092807,\n",
       "  0.30297583,\n",
       "  0.30455688,\n",
       "  0.2994515,\n",
       "  0.30162045,\n",
       "  0.29486817,\n",
       "  0.29235741,\n",
       "  0.2898045,\n",
       "  0.28765416,\n",
       "  0.281137,\n",
       "  0.27972758,\n",
       "  0.26905087,\n",
       "  0.26732433,\n",
       "  0.25215092,\n",
       "  0.2523678,\n",
       "  0.23405337,\n",
       "  0.23058246,\n",
       "  0.21662453,\n",
       "  0.20908883,\n",
       "  0.201347,\n",
       "  0.18598923,\n",
       "  0.18884042,\n",
       "  0.17049986,\n",
       "  0.18665925,\n",
       "  0.16734256,\n",
       "  0.18627727,\n",
       "  0.16813517,\n",
       "  0.1836601,\n",
       "  0.16827103,\n",
       "  0.1769208,\n",
       "  0.16446292,\n",
       "  0.16502571,\n",
       "  0.15994081,\n",
       "  0.16033389,\n",
       "  0.14896242,\n",
       "  0.15819062,\n",
       "  0.13868868,\n",
       "  0.15193377,\n",
       "  0.13322662,\n",
       "  0.13803315,\n",
       "  0.122293174,\n",
       "  0.12807581,\n",
       "  0.10766836,\n",
       "  0.12355091,\n",
       "  0.0960524,\n",
       "  0.11461292,\n",
       "  0.09293614,\n",
       "  0.10506397,\n",
       "  0.08464138,\n",
       "  0.09621185,\n",
       "  0.07742088,\n",
       "  0.09103645,\n",
       "  0.07329109,\n",
       "  0.086814724,\n",
       "  0.07088465,\n",
       "  0.082440555,\n",
       "  0.07076042,\n",
       "  0.077985816,\n",
       "  0.06936756,\n",
       "  0.07548973,\n",
       "  0.06903673,\n",
       "  0.07363314,\n",
       "  0.068754464,\n",
       "  0.0722968,\n",
       "  0.06949544,\n",
       "  0.071472295,\n",
       "  0.0709382,\n",
       "  0.07102365,\n",
       "  0.07364457,\n",
       "  0.070718154,\n",
       "  0.07597438,\n",
       "  0.06994295,\n",
       "  0.0761415,\n",
       "  0.06794697,\n",
       "  0.07507111,\n",
       "  0.06527196,\n",
       "  0.07585519,\n",
       "  0.065575995,\n",
       "  0.07646153,\n",
       "  0.07725556,\n",
       "  0.070160836,\n",
       "  0.075363286,\n",
       "  0.06677092,\n",
       "  0.072048075,\n",
       "  0.06553178,\n",
       "  0.06992011,\n",
       "  0.065242216,\n",
       "  0.06971057],\n",
       " 'val_loss': [26745.24350276138,\n",
       "  22174.59032168533,\n",
       "  20174.833854733093,\n",
       "  17801.89875160564,\n",
       "  16104.321720585678,\n",
       "  14781.828212477943,\n",
       "  13739.403807177689,\n",
       "  13788.077387116173,\n",
       "  12703.53588997234,\n",
       "  13350.761024706291,\n",
       "  11684.777509429237,\n",
       "  12441.72144239599,\n",
       "  11185.195035905548,\n",
       "  12277.78931724664,\n",
       "  10822.097826090727,\n",
       "  11663.245772448454,\n",
       "  10444.741338556463,\n",
       "  10449.82908410737,\n",
       "  10388.163422151045,\n",
       "  10430.127608732744,\n",
       "  9929.42536654617,\n",
       "  9921.339377894546,\n",
       "  9445.40554786451,\n",
       "  9531.647528330484,\n",
       "  8955.578352725866,\n",
       "  8884.52897459088,\n",
       "  8231.221822969841,\n",
       "  8073.082612471147,\n",
       "  7492.66786401922,\n",
       "  7490.0417512835875,\n",
       "  6879.453693389893,\n",
       "  6430.544706864791,\n",
       "  6235.403570810954,\n",
       "  5474.572027264219,\n",
       "  5441.125788948752,\n",
       "  4789.059162486683,\n",
       "  4802.269498882872,\n",
       "  4364.3639581853695,\n",
       "  4351.151860786207,\n",
       "  4099.461874528365,\n",
       "  3997.6599136121345,\n",
       "  3871.8237276944246,\n",
       "  3726.5715551665335,\n",
       "  3673.2705688476562,\n",
       "  3461.941791418827,\n",
       "  3593.5645303437204,\n",
       "  3347.2664956757517,\n",
       "  3753.157213153261,\n",
       "  3478.3725918856535,\n",
       "  3810.2271936590023,\n",
       "  3687.448629668265,\n",
       "  4048.2137821081915,\n",
       "  4153.139394124349,\n",
       "  4458.108299948953,\n",
       "  4492.079019719904,\n",
       "  5197.7044973662405,\n",
       "  4965.502119122129,\n",
       "  5455.6762880267515,\n",
       "  6143.534579190341,\n",
       "  5861.282914132783,\n",
       "  6579.300055301551,\n",
       "  6537.266370831114,\n",
       "  6769.510172526042,\n",
       "  7196.455412893584,\n",
       "  6854.626674305309,\n",
       "  7836.371570009173,\n",
       "  7225.435811360677,\n",
       "  7950.262193622011,\n",
       "  7460.577036077326,\n",
       "  8142.3412161162405,\n",
       "  7422.8816842743845,\n",
       "  8174.651859630238,\n",
       "  7325.246934370561,\n",
       "  8264.462254842123,\n",
       "  7085.643627282345,\n",
       "  8278.45688305479,\n",
       "  6824.004836804939,\n",
       "  8320.550116799095,\n",
       "  6563.949168580951,\n",
       "  8296.521150993578,\n",
       "  6415.545695911755,\n",
       "  8159.785620487098,\n",
       "  6386.847064393939,\n",
       "  7834.241617838542,\n",
       "  6507.799870808919,\n",
       "  7218.933210893111,\n",
       "  7095.381351702141,\n",
       "  6038.7662501479645,\n",
       "  8610.129631273674,\n",
       "  5434.077314665823,\n",
       "  8548.132472991943,\n",
       "  6066.375873450077,\n",
       "  7924.03591040409,\n",
       "  6307.130315376051,\n",
       "  7118.502781723485,\n",
       "  6618.857517126835,\n",
       "  6554.961442427201,\n",
       "  6942.2927579012785,\n",
       "  5959.375702366684,\n",
       "  7516.2102013790245],\n",
       " 'val_r2': [-1.3861838187637332,\n",
       "  -0.8945525283099522,\n",
       "  -0.695052005592578,\n",
       "  -0.4794514129930567,\n",
       "  -0.3839996104333674,\n",
       "  -0.3280787032306385,\n",
       "  -0.28783919682762305,\n",
       "  -0.29711993294345507,\n",
       "  -0.2645314539304484,\n",
       "  -0.21698878145244005,\n",
       "  -0.16265258850591358,\n",
       "  -0.16978242073994476,\n",
       "  -0.12120998912390846,\n",
       "  -0.15847312193633645,\n",
       "  -0.10642549086945041,\n",
       "  -0.0933642695836554,\n",
       "  -0.057238293933749906,\n",
       "  -0.05102495039426391,\n",
       "  -0.06708015538225243,\n",
       "  -0.05062377484524583,\n",
       "  -0.026954418751921727,\n",
       "  -0.0138172160426151,\n",
       "  0.022700071706111546,\n",
       "  0.028447094227778913,\n",
       "  0.08034046800794059,\n",
       "  0.09487738131787282,\n",
       "  0.1543439705844064,\n",
       "  0.16564295328961143,\n",
       "  0.22782333182726366,\n",
       "  0.22657390866464877,\n",
       "  0.29024996831579186,\n",
       "  0.3417445885570046,\n",
       "  0.35585304369074244,\n",
       "  0.44926929747196753,\n",
       "  0.43912492572728223,\n",
       "  0.5236168059785484,\n",
       "  0.5052291172119698,\n",
       "  0.5686786471605352,\n",
       "  0.5510306488676682,\n",
       "  0.5937034809577226,\n",
       "  0.5876225177313364,\n",
       "  0.6140785209062721,\n",
       "  0.6158174251809999,\n",
       "  0.6308012730312842,\n",
       "  0.6435789548991997,\n",
       "  0.6403176100220178,\n",
       "  0.6554546423668595,\n",
       "  0.6266230577313665,\n",
       "  0.6522844196413073,\n",
       "  0.6136553644670437,\n",
       "  0.6220338286458515,\n",
       "  0.5852059718883631,\n",
       "  0.5724085815718087,\n",
       "  0.5431042173831203,\n",
       "  0.5431433374934236,\n",
       "  0.46966001659422885,\n",
       "  0.5206692545102719,\n",
       "  0.43691104464083175,\n",
       "  0.3696462094921531,\n",
       "  0.3943006681851222,\n",
       "  0.32457433366522725,\n",
       "  0.32455568524855116,\n",
       "  0.3107911471189997,\n",
       "  0.25686688665639057,\n",
       "  0.3150133869673567,\n",
       "  0.19069444544777703,\n",
       "  0.26944734203417886,\n",
       "  0.17787535493890372,\n",
       "  0.23821785693599462,\n",
       "  0.15783424136234503,\n",
       "  0.24009472529079467,\n",
       "  0.15436830928130774,\n",
       "  0.24947955960629153,\n",
       "  0.1450736793068227,\n",
       "  0.2738643550743277,\n",
       "  0.14363160806709308,\n",
       "  0.3011805047501688,\n",
       "  0.13930735794564797,\n",
       "  0.3277598497577381,\n",
       "  0.14188749242343146,\n",
       "  0.3421672881140909,\n",
       "  0.15628331070593604,\n",
       "  0.3431567853022187,\n",
       "  0.19057282022997657,\n",
       "  0.3288141736465028,\n",
       "  0.255330426345321,\n",
       "  0.26612549853498735,\n",
       "  0.38802568145953065,\n",
       "  0.11097987710018609,\n",
       "  0.45504238763229177,\n",
       "  0.11588997423770442,\n",
       "  0.380113688953885,\n",
       "  0.18081097844803273,\n",
       "  0.3496207460980737,\n",
       "  0.26498749460935955,\n",
       "  0.3159881479424902,\n",
       "  0.32424338115897333,\n",
       "  0.28206378522350595,\n",
       "  0.38839754098072743,\n",
       "  0.22312331452857426],\n",
       " 'val_mae': [0.36924827,\n",
       "  0.32616946,\n",
       "  0.3087898,\n",
       "  0.28994176,\n",
       "  0.28114852,\n",
       "  0.2755407,\n",
       "  0.27115586,\n",
       "  0.2717981,\n",
       "  0.26703936,\n",
       "  0.2653862,\n",
       "  0.25804317,\n",
       "  0.26053685,\n",
       "  0.25405046,\n",
       "  0.25958097,\n",
       "  0.25153413,\n",
       "  0.25394604,\n",
       "  0.24776384,\n",
       "  0.24756117,\n",
       "  0.24742813,\n",
       "  0.24744639,\n",
       "  0.24261574,\n",
       "  0.24290583,\n",
       "  0.23780799,\n",
       "  0.23871145,\n",
       "  0.23271449,\n",
       "  0.23174457,\n",
       "  0.2244393,\n",
       "  0.22223777,\n",
       "  0.21530342,\n",
       "  0.21478182,\n",
       "  0.20652029,\n",
       "  0.19899775,\n",
       "  0.1938359,\n",
       "  0.17978321,\n",
       "  0.17740081,\n",
       "  0.16595578,\n",
       "  0.16818036,\n",
       "  0.16055174,\n",
       "  0.1632086,\n",
       "  0.15771008,\n",
       "  0.15818779,\n",
       "  0.15441488,\n",
       "  0.15302514,\n",
       "  0.15055287,\n",
       "  0.14726804,\n",
       "  0.14739046,\n",
       "  0.14362864,\n",
       "  0.148845,\n",
       "  0.14326575,\n",
       "  0.14929558,\n",
       "  0.1453412,\n",
       "  0.15206125,\n",
       "  0.15151887,\n",
       "  0.15831167,\n",
       "  0.15674888,\n",
       "  0.17024733,\n",
       "  0.16211885,\n",
       "  0.1753553,\n",
       "  0.18899323,\n",
       "  0.18239728,\n",
       "  0.19781859,\n",
       "  0.19294327,\n",
       "  0.20100784,\n",
       "  0.20283401,\n",
       "  0.20065495,\n",
       "  0.21295454,\n",
       "  0.20767042,\n",
       "  0.21632463,\n",
       "  0.21259117,\n",
       "  0.2199859,\n",
       "  0.21164742,\n",
       "  0.22172645,\n",
       "  0.20930395,\n",
       "  0.22459187,\n",
       "  0.2036386,\n",
       "  0.22710568,\n",
       "  0.19699895,\n",
       "  0.23041047,\n",
       "  0.1907626,\n",
       "  0.2324525,\n",
       "  0.18867338,\n",
       "  0.23144041,\n",
       "  0.18865694,\n",
       "  0.22599852,\n",
       "  0.18954077,\n",
       "  0.21412905,\n",
       "  0.20041478,\n",
       "  0.18752547,\n",
       "  0.2326885,\n",
       "  0.17049177,\n",
       "  0.23961757,\n",
       "  0.18404786,\n",
       "  0.22871509,\n",
       "  0.18638587,\n",
       "  0.21264535,\n",
       "  0.19440036,\n",
       "  0.1998378,\n",
       "  0.20356998,\n",
       "  0.18582226,\n",
       "  0.21724325],\n",
       " 'val_mse': [0.19815393,\n",
       "  0.15732779,\n",
       "  0.14076081,\n",
       "  0.12285689,\n",
       "  0.114930354,\n",
       "  0.11028656,\n",
       "  0.106944986,\n",
       "  0.10771568,\n",
       "  0.10500946,\n",
       "  0.10106142,\n",
       "  0.096549205,\n",
       "  0.0971413,\n",
       "  0.09310774,\n",
       "  0.09620215,\n",
       "  0.09188,\n",
       "  0.09079536,\n",
       "  0.08779539,\n",
       "  0.08727941,\n",
       "  0.088612676,\n",
       "  0.0872461,\n",
       "  0.085280545,\n",
       "  0.0841896,\n",
       "  0.081157126,\n",
       "  0.080679886,\n",
       "  0.076370545,\n",
       "  0.07516337,\n",
       "  0.070225134,\n",
       "  0.06928684,\n",
       "  0.06412324,\n",
       "  0.064227,\n",
       "  0.0589392,\n",
       "  0.054662973,\n",
       "  0.053491376,\n",
       "  0.045733888,\n",
       "  0.046576295,\n",
       "  0.0395599,\n",
       "  0.041086853,\n",
       "  0.03581787,\n",
       "  0.0372834,\n",
       "  0.033739753,\n",
       "  0.03424473,\n",
       "  0.032047763,\n",
       "  0.031903364,\n",
       "  0.030659072,\n",
       "  0.029597985,\n",
       "  0.029868815,\n",
       "  0.028611802,\n",
       "  0.031006042,\n",
       "  0.028875064,\n",
       "  0.032082904,\n",
       "  0.031387135,\n",
       "  0.0344454,\n",
       "  0.035508126,\n",
       "  0.037941627,\n",
       "  0.03793838,\n",
       "  0.044040594,\n",
       "  0.039804675,\n",
       "  0.046760138,\n",
       "  0.05234596,\n",
       "  0.050298598,\n",
       "  0.05608883,\n",
       "  0.056090377,\n",
       "  0.05723341,\n",
       "  0.061711404,\n",
       "  0.056882787,\n",
       "  0.0672065,\n",
       "  0.060666688,\n",
       "  0.068271026,\n",
       "  0.06326006,\n",
       "  0.06993529,\n",
       "  0.0631042,\n",
       "  0.07022311,\n",
       "  0.062324867,\n",
       "  0.07099495,\n",
       "  0.060299896,\n",
       "  0.071114704,\n",
       "  0.0580315,\n",
       "  0.0714738,\n",
       "  0.05582429,\n",
       "  0.07125954,\n",
       "  0.05462787,\n",
       "  0.070064075,\n",
       "  0.054545704,\n",
       "  0.067216605,\n",
       "  0.055736743,\n",
       "  0.06183899,\n",
       "  0.060942546,\n",
       "  0.05081969,\n",
       "  0.07382618,\n",
       "  0.045254473,\n",
       "  0.07341844,\n",
       "  0.051476717,\n",
       "  0.06802724,\n",
       "  0.05400892,\n",
       "  0.061037052,\n",
       "  0.056801844,\n",
       "  0.056116313,\n",
       "  0.059619,\n",
       "  0.050788805,\n",
       "  0.06451354],\n",
       " 'val_rmse': [0.44514483,\n",
       "  0.39664567,\n",
       "  0.37518105,\n",
       "  0.35050946,\n",
       "  0.3390138,\n",
       "  0.33209422,\n",
       "  0.32702443,\n",
       "  0.32820067,\n",
       "  0.32405162,\n",
       "  0.31790158,\n",
       "  0.3107237,\n",
       "  0.31167498,\n",
       "  0.3051356,\n",
       "  0.31016472,\n",
       "  0.30311713,\n",
       "  0.3013227,\n",
       "  0.29630288,\n",
       "  0.2954309,\n",
       "  0.2976788,\n",
       "  0.2953745,\n",
       "  0.29202834,\n",
       "  0.29015446,\n",
       "  0.2848809,\n",
       "  0.28404206,\n",
       "  0.2763522,\n",
       "  0.2741594,\n",
       "  0.26500025,\n",
       "  0.26322395,\n",
       "  0.25322568,\n",
       "  0.25343046,\n",
       "  0.24277397,\n",
       "  0.23380114,\n",
       "  0.23128203,\n",
       "  0.21385483,\n",
       "  0.21581542,\n",
       "  0.1988967,\n",
       "  0.20269892,\n",
       "  0.18925609,\n",
       "  0.1930891,\n",
       "  0.18368384,\n",
       "  0.18505332,\n",
       "  0.17901888,\n",
       "  0.17861512,\n",
       "  0.17509732,\n",
       "  0.17204064,\n",
       "  0.17282596,\n",
       "  0.16915023,\n",
       "  0.17608532,\n",
       "  0.16992664,\n",
       "  0.17911701,\n",
       "  0.17716415,\n",
       "  0.18559472,\n",
       "  0.188436,\n",
       "  0.1947861,\n",
       "  0.19477777,\n",
       "  0.2098585,\n",
       "  0.1995111,\n",
       "  0.21624093,\n",
       "  0.2287924,\n",
       "  0.22427349,\n",
       "  0.2368308,\n",
       "  0.23683406,\n",
       "  0.23923506,\n",
       "  0.24841781,\n",
       "  0.23850113,\n",
       "  0.25924218,\n",
       "  0.24630609,\n",
       "  0.26128724,\n",
       "  0.25151554,\n",
       "  0.26445282,\n",
       "  0.25120547,\n",
       "  0.26499644,\n",
       "  0.2496495,\n",
       "  0.26644877,\n",
       "  0.24556038,\n",
       "  0.26667342,\n",
       "  0.24089728,\n",
       "  0.26734585,\n",
       "  0.23627165,\n",
       "  0.26694483,\n",
       "  0.23372605,\n",
       "  0.26469618,\n",
       "  0.23355022,\n",
       "  0.25926167,\n",
       "  0.23608631,\n",
       "  0.24867447,\n",
       "  0.24686544,\n",
       "  0.22543223,\n",
       "  0.27170974,\n",
       "  0.21273099,\n",
       "  0.27095836,\n",
       "  0.22688481,\n",
       "  0.26082033,\n",
       "  0.2323982,\n",
       "  0.24705678,\n",
       "  0.23833138,\n",
       "  0.23688883,\n",
       "  0.24417002,\n",
       "  0.22536372,\n",
       "  0.25399515]}"
      ]
     },
     "execution_count": 210,
     "metadata": {},
     "output_type": "execute_result"
    }
   ],
   "source": [
    "train_results = train(model, train_loader, val_loader, optimizer, criterion, device, 100)\n",
    "\n",
    "train_results"
   ]
  },
  {
   "cell_type": "code",
   "execution_count": 211,
   "id": "a2b068a5",
   "metadata": {},
   "outputs": [],
   "source": [
    "def plot_training_history(loss_history, metric_history=None):\n",
    "    plt.figure(figsize=(12, 5))\n",
    "\n",
    "    # Loss plot\n",
    "    plt.subplot(1, 2, 1)\n",
    "    plt.plot(loss_history, label='Training Loss')\n",
    "    plt.title('Training Loss Curve')\n",
    "    plt.xlabel('Epoch')\n",
    "    plt.ylabel('Loss')\n",
    "    plt.grid(True)\n",
    "    \n",
    "    # Metrics plot\n",
    "    if metric_history:\n",
    "        plt.subplot(1, 2, 2)\n",
    "        for metric_name, values in metric_history.items():\n",
    "            plt.plot(values, label=metric_name)\n",
    "        plt.title('Training Metrics')\n",
    "        plt.xlabel('Epoch')\n",
    "        plt.ylabel('Metric Value')\n",
    "        plt.grid(True)\n",
    "        plt.legend()\n",
    "    \n",
    "    plt.tight_layout()\n",
    "    plt.show()\n",
    "\n",
    "def plot_predictions_vs_actuals(y_true, y_pred, title='Predictions vs True Values'):\n",
    "    plt.figure(figsize=(12, 6))\n",
    "    plt.plot(y_true, label='True Values', linewidth=2)\n",
    "    plt.plot(y_pred, label='Predictions', linestyle='--')\n",
    "    plt.xlabel('Time Step')\n",
    "    plt.ylabel('Value')\n",
    "    plt.title(title)\n",
    "    plt.legend()\n",
    "    plt.grid(True)\n",
    "    plt.show()\n",
    "\n"
   ]
  },
  {
   "cell_type": "code",
   "execution_count": 212,
   "id": "546655a0",
   "metadata": {},
   "outputs": [
    {
     "data": {
      "image/png": "[encoded data removed]",
      "text/plain": [
       "<Figure size 1200x500 with 2 Axes>"
      ]
     },
     "metadata": {},
     "output_type": "display_data"
    }
   ],
   "source": [
    "plot_training_history(\n",
    "    train_results['train_loss'],\n",
    "    {\n",
    "        'rmse': train_results['train_rmse'],\n",
    "        'mae': train_results['train_mae'],\n",
    "        'mse': train_results['train_mse'],\n",
    "        'r2': train_results['train_r2'],\n",
    "    }\n",
    ")"
   ]
  },
  {
   "cell_type": "code",
   "execution_count": 377,
   "id": "400eea63",
   "metadata": {},
   "outputs": [
    {
     "data": {
      "text/plain": [
       "113"
      ]
     },
     "execution_count": 377,
     "metadata": {},
     "output_type": "execute_result"
    }
   ],
   "source": [
    "len(test_loader)"
   ]
  },
  {
   "cell_type": "code",
   "execution_count": 216,
   "id": "15c351fd",
   "metadata": {},
   "outputs": [],
   "source": [
    "model.load_state_dict(torch.load('best_r2_model.pth', weights_only=True))\n",
    "\n",
    "def test(\n",
    "    model,\n",
    "    test_loader,\n",
    "    device,\n",
    "):\n",
    "    model.eval()\n",
    "\n",
    "    test_preds = []\n",
    "    test_targets = []\n",
    "\n",
    "    test_r2 = []\n",
    "    test_mae = []\n",
    "    test_mse = []\n",
    "    test_rmse = []\n",
    "    \n",
    "    with torch.no_grad():\n",
    "        for data, labels in tqdm(test_loader):\n",
    "            data = data.to(device)\n",
    "            labels = labels.to(device)\n",
    "            predictions = model(data).flatten()\n",
    "            \n",
    "            # predictions = torch.cummin(predictions.flip(0), dim=0).values.flip(-1)\n",
    "\n",
    "            test_preds.append(predictions)\n",
    "            test_targets.append(labels)\n",
    "\n",
    "        test_preds = torch.cat(test_preds).cpu().detach().numpy()\n",
    "        test_targets = torch.cat(test_targets).cpu().detach().numpy()\n",
    "\n",
    "        mse = mean_squared_error(test_targets, test_preds)\n",
    "\n",
    "        test_r2.append(r2_score(test_targets, test_preds))\n",
    "        test_mae.append(mean_absolute_error(test_targets, test_preds))\n",
    "        test_mse.append(mse)\n",
    "        test_rmse.append(np.sqrt(mse))\n",
    "\n",
    "    return {\n",
    "        'test_r2': test_r2,\n",
    "        'test_mae': test_mae,\n",
    "        'test_mse': test_mse,\n",
    "        'test_rmse': test_rmse,\n",
    "        'test_preds': test_preds,\n",
    "        'test_targets': test_targets,\n",
    "    }\n",
    "          "
   ]
  },
  {
   "cell_type": "code",
   "execution_count": 217,
   "id": "e519ea9d",
   "metadata": {},
   "outputs": [
    {
     "name": "stderr",
     "output_type": "stream",
     "text": [
      "100%|██████████| 22/22 [00:00<00:00, 546.00it/s]\n"
     ]
    },
    {
     "data": {
      "text/plain": [
       "{'test_r2': [0.38191235736486995],\n",
       " 'test_mae': [0.1454507],\n",
       " 'test_mse': [0.033705663],\n",
       " 'test_rmse': [0.18359102],\n",
       " 'test_preds': array([ 1.07995343e+00,  1.18742120e+00,  1.24200344e+00,  1.26929283e+00,\n",
       "         1.20624220e+00,  1.12949145e+00,  1.20146406e+00,  1.30117500e+00,\n",
       "         1.27392340e+00,  1.24483049e+00,  1.25188971e+00,  1.22789645e+00,\n",
       "         1.22546732e+00,  1.40527380e+00,  1.40105426e+00,  1.30577624e+00,\n",
       "         1.44650209e+00,  1.41768157e+00,  1.43294883e+00,  1.47019100e+00,\n",
       "         1.44720519e+00,  1.45951891e+00,  1.45798481e+00,  1.47526646e+00,\n",
       "         1.52114761e+00,  1.36400211e+00,  1.33097720e+00,  1.43057323e+00,\n",
       "         1.33858287e+00,  1.28889251e+00,  1.20469570e+00,  1.11098826e+00,\n",
       "         1.16299736e+00,  1.16525066e+00,  1.12204432e+00,  1.09477806e+00,\n",
       "         1.09263718e+00,  1.11343181e+00,  1.11097443e+00,  1.07965004e+00,\n",
       "         1.12400591e+00,  1.10025895e+00,  1.05122888e+00,  1.00774753e+00,\n",
       "         9.36623991e-01,  9.86567199e-01,  1.04813778e+00,  9.90710974e-01,\n",
       "         9.38322067e-01,  9.63270426e-01,  9.77185965e-01,  1.04349589e+00,\n",
       "         9.98312473e-01,  8.73241901e-01,  9.41253603e-01,  1.01006031e+00,\n",
       "         9.55689609e-01,  1.04043567e+00,  1.09638357e+00,  9.92201090e-01,\n",
       "         9.85651851e-01,  9.60915208e-01,  9.75959480e-01,  9.95948374e-01,\n",
       "         9.46117699e-01,  9.12593603e-01,  9.16489780e-01,  9.55522239e-01,\n",
       "         9.59486306e-01,  9.77707207e-01,  9.39271510e-01,  9.57620800e-01,\n",
       "         9.51043665e-01,  9.27176893e-01,  8.81084204e-01,  8.33095372e-01,\n",
       "         8.55305076e-01,  9.33103919e-01,  9.62645888e-01,  9.62128103e-01,\n",
       "         9.59657192e-01,  9.27042305e-01,  9.09790218e-01,  8.29378486e-01,\n",
       "         8.13883483e-01,  8.39152753e-01,  8.43921423e-01,  9.50375676e-01,\n",
       "         9.96457756e-01,  8.72477531e-01,  8.78053308e-01,  8.76709044e-01,\n",
       "         8.02612543e-01,  8.06882143e-01,  8.22841465e-01,  8.51022899e-01,\n",
       "         8.48972321e-01,  8.15805018e-01,  8.85230362e-01,  8.87442946e-01,\n",
       "         8.36575210e-01,  7.94981301e-01,  8.57673645e-01,  8.86146843e-01,\n",
       "         8.05517912e-01,  8.23271751e-01,  8.39944303e-01,  8.22504759e-01,\n",
       "         8.18744540e-01,  8.71432483e-01,  8.99315178e-01,  8.57925594e-01,\n",
       "         8.57370019e-01,  8.69598627e-01,  8.30038607e-01,  7.68210948e-01,\n",
       "         7.63116241e-01,  8.17332149e-01,  8.00615132e-01,  7.79405534e-01,\n",
       "         7.09497809e-01,  7.12594390e-01,  8.16048563e-01,  7.93670893e-01,\n",
       "         7.72672594e-01,  8.11236203e-01,  8.36172104e-01,  8.43480170e-01,\n",
       "         8.44004810e-01,  8.33148837e-01,  8.26586843e-01,  7.83185840e-01,\n",
       "         7.67871678e-01,  8.26185644e-01,  8.49633694e-01,  8.48037899e-01,\n",
       "         8.40212822e-01,  7.64946461e-01,  6.63152635e-01,  6.29526615e-01,\n",
       "         6.30020261e-01,  6.79320574e-01,  7.07077444e-01,  6.95419371e-01,\n",
       "         6.73878193e-01,  6.20075285e-01,  6.12701654e-01,  6.58169329e-01,\n",
       "         6.78429425e-01,  6.74234986e-01,  6.56384528e-01,  5.94315708e-01,\n",
       "         5.60330629e-01,  5.49734175e-01,  5.86523950e-01,  5.73640287e-01,\n",
       "         4.78091925e-01,  5.28627694e-01,  5.31225145e-01,  5.47055483e-01,\n",
       "         5.35523355e-01,  5.27321875e-01,  5.10474861e-01,  4.63031501e-01,\n",
       "         4.87159520e-01,  4.12715584e-01,  3.13949883e-01,  3.71669888e-01,\n",
       "         3.83635461e-01,  4.82474089e-01,  5.74108243e-01,  5.39083838e-01,\n",
       "         5.21524191e-01,  3.96548957e-01,  3.36591899e-01,  4.27907676e-01,\n",
       "         4.01946753e-01,  4.51122850e-01,  5.60387194e-01,  5.37336588e-01,\n",
       "         5.45551658e-01,  5.74982285e-01,  5.42615473e-01,  4.66577232e-01,\n",
       "         5.28902292e-01,  5.06546617e-01,  3.96714836e-01,  5.09452939e-01,\n",
       "         6.00530684e-01,  6.11521006e-01,  5.39234042e-01,  3.92683148e-01,\n",
       "         3.68294567e-01,  4.68574226e-01,  4.42498803e-01,  4.55363929e-01,\n",
       "         5.19580007e-01,  5.62508285e-01,  5.29679596e-01,  5.08286178e-01,\n",
       "         5.22201419e-01,  5.32634854e-01,  5.14997959e-01,  5.31543076e-01,\n",
       "         5.54737210e-01,  5.60432732e-01,  6.01378679e-01,  6.08889580e-01,\n",
       "         6.23305261e-01,  5.73359787e-01,  6.39242947e-01,  5.90156376e-01,\n",
       "         5.46149969e-01,  5.35253763e-01,  3.14525306e-01,  4.08317953e-01,\n",
       "         5.58053792e-01,  5.28385997e-01,  4.11991417e-01,  3.82844001e-01,\n",
       "         3.81123692e-01,  4.43091780e-01,  5.13508379e-01,  5.31362414e-01,\n",
       "         4.80488569e-01,  4.96431053e-01,  5.47320604e-01,  5.16145229e-01,\n",
       "         4.74336892e-01,  5.27382374e-01,  5.66326618e-01,  5.27079642e-01,\n",
       "         5.20200133e-01,  5.21960974e-01,  5.38807988e-01,  4.91953254e-01,\n",
       "         3.91043544e-01,  4.05482888e-01,  4.19514000e-01,  4.82514888e-01,\n",
       "         5.49630880e-01,  5.46328783e-01,  4.37086135e-01,  3.21766853e-01,\n",
       "         3.10728729e-01,  3.27323705e-01,  3.44578624e-01,  4.47018296e-01,\n",
       "         4.78551835e-01,  5.16636968e-01,  5.47233701e-01,  5.03306866e-01,\n",
       "         4.64897871e-01,  5.42549610e-01,  5.95686257e-01,  5.58177471e-01,\n",
       "         5.24992585e-01,  4.21227574e-01,  4.93714482e-01,  5.58769703e-01,\n",
       "         6.10847890e-01,  6.39345944e-01,  5.36670208e-01,  5.36197245e-01,\n",
       "         6.11598790e-01,  5.12691498e-01,  4.02720600e-01,  4.34917659e-01,\n",
       "         4.27724987e-01,  4.21654731e-01,  4.73955095e-01,  4.42318261e-01,\n",
       "         3.48849863e-01,  3.78441691e-01,  3.86073112e-01,  4.25802112e-01,\n",
       "         4.27528679e-01,  3.98495942e-01,  3.71637344e-01,  4.04204071e-01,\n",
       "         4.90911484e-01,  4.71545458e-01,  4.49892759e-01,  4.23774570e-01,\n",
       "         4.06657487e-01,  4.30495858e-01,  4.70531523e-01,  5.05160630e-01,\n",
       "         4.79074240e-01,  5.35462379e-01,  4.79095578e-01,  3.92377198e-01,\n",
       "         4.90702420e-01,  4.60091084e-01,  4.10789132e-01,  5.23987651e-01,\n",
       "         6.08367383e-01,  5.88816106e-01,  5.15050232e-01,  4.78706896e-01,\n",
       "         5.31733632e-01,  5.28899610e-01,  5.91966033e-01,  6.23081386e-01,\n",
       "         5.22923589e-01,  4.96727079e-01,  4.77557540e-01,  4.02278483e-01,\n",
       "         4.11345214e-01,  5.00401616e-01,  5.39133191e-01,  5.35597920e-01,\n",
       "         4.93373603e-01,  5.22076666e-01,  6.07889593e-01,  5.69491386e-01,\n",
       "         5.31001568e-01,  4.84396458e-01,  4.06549126e-01,  4.46572512e-01,\n",
       "         4.48570132e-01,  4.68260974e-01,  4.98001635e-01,  5.14626563e-01,\n",
       "         5.11593461e-01,  4.60029840e-01,  5.42992353e-01,  5.34525394e-01,\n",
       "         5.08562684e-01,  5.13965130e-01,  4.59471554e-01,  5.80586612e-01,\n",
       "         5.85625648e-01,  4.57645535e-01,  4.68717068e-01,  5.14025152e-01,\n",
       "         4.68301594e-01,  4.47475404e-01,  4.55996454e-01,  4.79608536e-01,\n",
       "         5.67121446e-01,  5.13608932e-01,  5.42302668e-01,  5.50630808e-01,\n",
       "         4.30814207e-01,  5.16456962e-01,  5.18710017e-01,  5.71259618e-01,\n",
       "         5.88606954e-01,  4.60656792e-01,  4.55622226e-01,  5.68857789e-01,\n",
       "         5.61264873e-01,  4.58194792e-01,  4.00846094e-01,  4.57344443e-01,\n",
       "         5.32996058e-01,  4.98748302e-01,  4.47969943e-01,  4.28255290e-01,\n",
       "         3.88581932e-01,  3.84106368e-01,  4.48044270e-01,  4.48027819e-01,\n",
       "         5.32579184e-01,  5.51264763e-01,  4.50543046e-01,  4.94632483e-01,\n",
       "         5.30167818e-01,  4.96228904e-01,  4.08243120e-01,  3.56487989e-01,\n",
       "         3.70501548e-01,  3.47701848e-01,  4.46507454e-01,  4.30300444e-01,\n",
       "         3.92355025e-01,  4.54663426e-01,  4.68788415e-01,  4.92913276e-01,\n",
       "         4.23060566e-01,  4.13511366e-01,  4.44849998e-01,  3.36913884e-01,\n",
       "         3.71322066e-01,  4.00144607e-01,  3.57996285e-01,  3.31279546e-01,\n",
       "         3.07417899e-01,  3.69679838e-01,  4.30326581e-01,  4.73858744e-01,\n",
       "         4.75235939e-01,  5.06499767e-01,  5.01485229e-01,  4.33876067e-01,\n",
       "         3.82398695e-01,  4.45860088e-01,  4.99024391e-01,  4.93686140e-01,\n",
       "         4.50479209e-01,  4.64754134e-01,  4.97357309e-01,  5.35240591e-01,\n",
       "         5.21774650e-01,  4.07451779e-01,  5.32329917e-01,  4.90425140e-01,\n",
       "         4.19211507e-01,  4.49921906e-01,  4.04775560e-01,  4.21706438e-01,\n",
       "         4.61629957e-01,  5.25499821e-01,  4.90132689e-01,  4.21735466e-01,\n",
       "         4.37452674e-01,  5.04602790e-01,  4.22889948e-01,  2.91944802e-01,\n",
       "         3.07981908e-01,  3.48978460e-01,  4.12401199e-01,  5.03234327e-01,\n",
       "         5.00456691e-01,  4.57034945e-01,  5.38531184e-01,  4.69022006e-01,\n",
       "         3.29538673e-01,  3.40836614e-01,  3.35631877e-01,  3.87020350e-01,\n",
       "         4.94482040e-01,  4.72917944e-01,  3.64875704e-01,  3.86220425e-01,\n",
       "         4.29417133e-01,  4.16374475e-01,  4.21804070e-01,  4.71269161e-01,\n",
       "         5.20390570e-01,  5.03331542e-01,  5.11988997e-01,  5.51261425e-01,\n",
       "         5.00061989e-01,  3.90790969e-01,  2.63736963e-01,  2.64192909e-01,\n",
       "         3.61319274e-01,  3.82785887e-01,  3.66611570e-01,  3.97046119e-01,\n",
       "         5.08352637e-01,  5.10053754e-01,  3.87156457e-01,  3.06179553e-01,\n",
       "         3.32160115e-01,  4.29244608e-01,  5.42941332e-01,  5.53559065e-01,\n",
       "         4.68291074e-01,  3.29519510e-01,  2.40329891e-01,  3.65301996e-01,\n",
       "         5.10831118e-01,  4.61677849e-01,  3.61738712e-01,  3.62447977e-01,\n",
       "         4.13898259e-01,  5.15493751e-01,  4.60083812e-01,  4.16676790e-01,\n",
       "         4.36397851e-01,  3.91450882e-01,  4.15339977e-01,  3.77245426e-01,\n",
       "         3.92502934e-01,  4.06046450e-01,  4.33276951e-01,  4.82918650e-01,\n",
       "         4.49172914e-01,  3.98635685e-01,  3.85074764e-01,  3.57464433e-01,\n",
       "         2.90294170e-01,  4.39072758e-01,  5.53914905e-01,  4.19481814e-01,\n",
       "         3.23310494e-01,  3.95389259e-01,  4.59309101e-01,  4.61365074e-01,\n",
       "         3.64392996e-01,  3.97085339e-01,  4.41527873e-01,  3.59973103e-01,\n",
       "         3.08076978e-01,  3.65780443e-01,  5.59814095e-01,  4.99930710e-01,\n",
       "         4.09476817e-01,  4.15740311e-01,  2.94369608e-01,  2.75294662e-01,\n",
       "         2.59337574e-01,  3.20271105e-01,  3.45315576e-01,  3.30843359e-01,\n",
       "         3.35094184e-01,  3.97541910e-01,  5.24587035e-01,  5.19618392e-01,\n",
       "         4.82686311e-01,  4.14733618e-01,  3.44379365e-01,  3.34465891e-01,\n",
       "         3.88059437e-01,  3.75106096e-01,  3.00788909e-01,  4.49695081e-01,\n",
       "         5.14373064e-01,  4.17979956e-01,  3.98717463e-01,  4.12874460e-01,\n",
       "         4.47689474e-01,  3.63516688e-01,  3.10884833e-01,  3.30227911e-01,\n",
       "         2.88455904e-01,  3.28735232e-01,  4.40413445e-01,  5.41838467e-01,\n",
       "         4.86969501e-01,  3.23096395e-01,  2.97136366e-01,  3.15936834e-01,\n",
       "         3.94013107e-01,  3.76591682e-01,  3.90461981e-01,  3.90073329e-01,\n",
       "         3.10878277e-01,  3.50591600e-01,  3.17823172e-01,  3.02972734e-01,\n",
       "         3.06220561e-01,  2.72161245e-01,  2.71621943e-01,  3.27318788e-01,\n",
       "         4.20292407e-01,  4.08845395e-01,  3.33029479e-01,  2.79395998e-01,\n",
       "         3.07210743e-01,  3.60116273e-01,  4.06628251e-01,  3.37906390e-01,\n",
       "         2.62663931e-01,  2.78376579e-01,  2.88537502e-01,  3.26699495e-01,\n",
       "         3.30857068e-01,  3.27746630e-01,  3.16894859e-01,  2.92715400e-01,\n",
       "         3.07796717e-01,  3.43992651e-01,  3.44926447e-01,  3.43369931e-01,\n",
       "         3.44006062e-01,  3.11998188e-01,  2.92543441e-01,  3.76879960e-01,\n",
       "         4.11531895e-01,  3.24412912e-01,  3.16831768e-01,  3.31773490e-01,\n",
       "         3.15812320e-01,  3.01341921e-01,  3.25988084e-01,  3.51844162e-01,\n",
       "         4.21530724e-01,  3.90038818e-01,  3.28190267e-01,  4.02759999e-01,\n",
       "         4.12125528e-01,  3.11564386e-01,  2.08798289e-01,  2.78555572e-01,\n",
       "         2.77827084e-01,  2.35025778e-01,  2.97016621e-01,  3.80100846e-01,\n",
       "         4.09104675e-01,  3.36073607e-01,  2.29282558e-01,  2.26565942e-01,\n",
       "         3.60251546e-01,  3.89172852e-01,  3.09999883e-01,  2.40929961e-01,\n",
       "         2.30279550e-01,  3.12396914e-01,  3.41121346e-01,  2.44891748e-01,\n",
       "         1.98811918e-01,  3.00398916e-01,  3.61036003e-01,  2.92373180e-01,\n",
       "         1.78388000e-01,  2.42214620e-01,  3.35209608e-01,  2.63805896e-01,\n",
       "         2.65127957e-01,  2.37374231e-01,  1.48658395e-01,  1.92082644e-01,\n",
       "         1.66799709e-01,  1.28053308e-01,  1.44480377e-01,  1.10121146e-01,\n",
       "         1.34678274e-01,  2.15438157e-01,  1.66807264e-01,  1.48964375e-01,\n",
       "         2.45997980e-01,  2.80275822e-01,  1.78124160e-01,  1.41699627e-01,\n",
       "         1.62064791e-01,  1.11451998e-01,  9.93836075e-02,  1.15124755e-01,\n",
       "         1.14903823e-01,  9.19258147e-02,  7.94136077e-02,  5.10292798e-02,\n",
       "         2.66216695e-04,  4.63787504e-02,  8.89354348e-02,  4.75031883e-02,\n",
       "         3.29076909e-02,  3.33016552e-02,  2.62837410e-02,  5.25918975e-02,\n",
       "         6.47813082e-02,  4.61622961e-02,  8.35209638e-02,  5.10516316e-02,\n",
       "        -5.93559444e-03, -1.16392970e-03, -1.52691007e-02, -1.93823278e-02,\n",
       "        -1.84521824e-03, -8.88404250e-03, -2.84218937e-02, -2.50951871e-02,\n",
       "        -2.51503810e-02, -1.37447715e-02, -4.48480248e-04, -1.49972290e-02,\n",
       "        -3.26880738e-02, -4.12864983e-02, -3.66976336e-02, -3.27900052e-02,\n",
       "        -2.62658149e-02, -3.54161039e-02, -5.42455316e-02, -4.50795665e-02,\n",
       "        -4.22184467e-02, -5.34529537e-02, -5.79059422e-02, -5.06851822e-02,\n",
       "        -4.19053510e-02, -4.99688983e-02, -6.28829598e-02, -7.70314485e-02,\n",
       "        -8.29355270e-02, -7.19484240e-02, -6.48305118e-02, -6.21582419e-02,\n",
       "        -6.24732822e-02, -7.08017647e-02, -7.91732073e-02, -7.22279847e-02,\n",
       "        -7.47683197e-02, -8.91791433e-02, -9.32046771e-02, -9.41987336e-02,\n",
       "        -9.07378495e-02, -7.89874494e-02, -7.87093937e-02, -8.03098530e-02,\n",
       "        -7.96224177e-02, -8.58051181e-02, -8.26537609e-02, -7.63898492e-02,\n",
       "        -7.70528913e-02, -8.85453373e-02, -1.09123945e-01, -1.05425984e-01,\n",
       "        -9.24346000e-02, -9.63356644e-02], dtype=float32),\n",
       " 'test_targets': array([[0.9979258 ],\n",
       "        [0.9967734 ],\n",
       "        [0.9956211 ],\n",
       "        [0.99446875],\n",
       "        [0.9933164 ],\n",
       "        [0.9921641 ],\n",
       "        [0.99101174],\n",
       "        [0.9898594 ],\n",
       "        [0.98870707],\n",
       "        [0.9875547 ],\n",
       "        [0.9864024 ],\n",
       "        [0.98525006],\n",
       "        [0.9840977 ],\n",
       "        [0.9829454 ],\n",
       "        [0.98179305],\n",
       "        [0.9806407 ],\n",
       "        [0.9794884 ],\n",
       "        [0.97833604],\n",
       "        [0.9771837 ],\n",
       "        [0.97603136],\n",
       "        [0.974879  ],\n",
       "        [0.9737267 ],\n",
       "        [0.97257435],\n",
       "        [0.97142196],\n",
       "        [0.9702696 ],\n",
       "        [0.9691173 ],\n",
       "        [0.96796495],\n",
       "        [0.9668126 ],\n",
       "        [0.9656603 ],\n",
       "        [0.96450794],\n",
       "        [0.9633556 ],\n",
       "        [0.96220326],\n",
       "        [0.9610509 ],\n",
       "        [0.9598986 ],\n",
       "        [0.95874625],\n",
       "        [0.9575939 ],\n",
       "        [0.9564416 ],\n",
       "        [0.95528924],\n",
       "        [0.9541369 ],\n",
       "        [0.9529846 ],\n",
       "        [0.95183223],\n",
       "        [0.9506799 ],\n",
       "        [0.94952756],\n",
       "        [0.9483752 ],\n",
       "        [0.9472229 ],\n",
       "        [0.94607055],\n",
       "        [0.94491816],\n",
       "        [0.9437658 ],\n",
       "        [0.9426135 ],\n",
       "        [0.94146115],\n",
       "        [0.9403088 ],\n",
       "        [0.9391565 ],\n",
       "        [0.93800414],\n",
       "        [0.9368518 ],\n",
       "        [0.93569946],\n",
       "        [0.9345471 ],\n",
       "        [0.9333948 ],\n",
       "        [0.93224245],\n",
       "        [0.9310901 ],\n",
       "        [0.9299378 ],\n",
       "        [0.92878544],\n",
       "        [0.9276331 ],\n",
       "        [0.92648077],\n",
       "        [0.92532843],\n",
       "        [0.9241761 ],\n",
       "        [0.92302376],\n",
       "        [0.9218714 ],\n",
       "        [0.9207191 ],\n",
       "        [0.9195667 ],\n",
       "        [0.91841435],\n",
       "        [0.917262  ],\n",
       "        [0.9161097 ],\n",
       "        [0.91495734],\n",
       "        [0.913805  ],\n",
       "        [0.9126527 ],\n",
       "        [0.91150033],\n",
       "        [0.910348  ],\n",
       "        [0.90919566],\n",
       "        [0.9080433 ],\n",
       "        [0.906891  ],\n",
       "        [0.90573865],\n",
       "        [0.9045863 ],\n",
       "        [0.903434  ],\n",
       "        [0.90228164],\n",
       "        [0.9011293 ],\n",
       "        [0.89997697],\n",
       "        [0.89882463],\n",
       "        [0.8976723 ],\n",
       "        [0.89651996],\n",
       "        [0.8953676 ],\n",
       "        [0.8942153 ],\n",
       "        [0.8930629 ],\n",
       "        [0.89191055],\n",
       "        [0.8907582 ],\n",
       "        [0.8896059 ],\n",
       "        [0.88845354],\n",
       "        [0.8873012 ],\n",
       "        [0.88614887],\n",
       "        [0.88499653],\n",
       "        [0.8838442 ],\n",
       "        [0.88269186],\n",
       "        [0.8815395 ],\n",
       "        [0.8803872 ],\n",
       "        [0.87923485],\n",
       "        [0.8780825 ],\n",
       "        [0.8769302 ],\n",
       "        [0.87577784],\n",
       "        [0.8746255 ],\n",
       "        [0.87347317],\n",
       "        [0.87232083],\n",
       "        [0.8711685 ],\n",
       "        [0.87001616],\n",
       "        [0.8688638 ],\n",
       "        [0.8677114 ],\n",
       "        [0.8665591 ],\n",
       "        [0.86540675],\n",
       "        [0.8642544 ],\n",
       "        [0.8631021 ],\n",
       "        [0.86194974],\n",
       "        [0.8607974 ],\n",
       "        [0.85964507],\n",
       "        [0.85849273],\n",
       "        [0.8573404 ],\n",
       "        [0.85618806],\n",
       "        [0.8550357 ],\n",
       "        [0.8538834 ],\n",
       "        [0.85273105],\n",
       "        [0.8515787 ],\n",
       "        [0.8504264 ],\n",
       "        [0.84927404],\n",
       "        [0.8481217 ],\n",
       "        [0.84696937],\n",
       "        [0.845817  ],\n",
       "        [0.8446647 ],\n",
       "        [0.84351236],\n",
       "        [0.84236   ],\n",
       "        [0.8412076 ],\n",
       "        [0.8400553 ],\n",
       "        [0.83890295],\n",
       "        [0.8377506 ],\n",
       "        [0.8365983 ],\n",
       "        [0.83544594],\n",
       "        [0.8342936 ],\n",
       "        [0.83314127],\n",
       "        [0.83198893],\n",
       "        [0.8308366 ],\n",
       "        [0.82968426],\n",
       "        [0.8285319 ],\n",
       "        [0.8273796 ],\n",
       "        [0.82622725],\n",
       "        [0.8250749 ],\n",
       "        [0.8239226 ],\n",
       "        [0.82277024],\n",
       "        [0.8216179 ],\n",
       "        [0.82046556],\n",
       "        [0.8193132 ],\n",
       "        [0.8181609 ],\n",
       "        [0.81700855],\n",
       "        [0.81585616],\n",
       "        [0.8147038 ],\n",
       "        [0.8135515 ],\n",
       "        [0.81239915],\n",
       "        [0.8112468 ],\n",
       "        [0.8100945 ],\n",
       "        [0.80894214],\n",
       "        [0.8077898 ],\n",
       "        [0.80663747],\n",
       "        [0.8054851 ],\n",
       "        [0.8043328 ],\n",
       "        [0.80318046],\n",
       "        [0.8020281 ],\n",
       "        [0.8008758 ],\n",
       "        [0.79972345],\n",
       "        [0.7985711 ],\n",
       "        [0.7974188 ],\n",
       "        [0.79626644],\n",
       "        [0.7951141 ],\n",
       "        [0.79396176],\n",
       "        [0.7928094 ],\n",
       "        [0.7916571 ],\n",
       "        [0.79050475],\n",
       "        [0.78935236],\n",
       "        [0.7882    ],\n",
       "        [0.7870477 ],\n",
       "        [0.78589535],\n",
       "        [0.784743  ],\n",
       "        [0.7835907 ],\n",
       "        [0.78243834],\n",
       "        [0.781286  ],\n",
       "        [0.78013366],\n",
       "        [0.7789813 ],\n",
       "        [0.777829  ],\n",
       "        [0.77667665],\n",
       "        [0.7755243 ],\n",
       "        [0.774372  ],\n",
       "        [0.77321965],\n",
       "        [0.7720673 ],\n",
       "        [0.770915  ],\n",
       "        [0.76976264],\n",
       "        [0.7686103 ],\n",
       "        [0.76745796],\n",
       "        [0.7663056 ],\n",
       "        [0.7651533 ],\n",
       "        [0.7640009 ],\n",
       "        [0.76284856],\n",
       "        [0.7616962 ],\n",
       "        [0.7605439 ],\n",
       "        [0.75939155],\n",
       "        [0.7582392 ],\n",
       "        [0.7570869 ],\n",
       "        [0.75593454],\n",
       "        [0.7547822 ],\n",
       "        [0.75362986],\n",
       "        [0.7524775 ],\n",
       "        [0.7513252 ],\n",
       "        [0.75017285],\n",
       "        [0.7490205 ],\n",
       "        [0.7478682 ],\n",
       "        [0.74671584],\n",
       "        [0.7455635 ],\n",
       "        [0.7444112 ],\n",
       "        [0.74325883],\n",
       "        [0.7421065 ],\n",
       "        [0.74095416],\n",
       "        [0.7398018 ],\n",
       "        [0.7386495 ],\n",
       "        [0.7374971 ],\n",
       "        [0.73634475],\n",
       "        [0.7351924 ],\n",
       "        [0.7340401 ],\n",
       "        [0.73288774],\n",
       "        [0.7317354 ],\n",
       "        [0.7305831 ],\n",
       "        [0.72943074],\n",
       "        [0.7282784 ],\n",
       "        [0.72712606],\n",
       "        [0.7259737 ],\n",
       "        [0.7248214 ],\n",
       "        [0.72366905],\n",
       "        [0.7225167 ],\n",
       "        [0.7213644 ],\n",
       "        [0.72021204],\n",
       "        [0.7190597 ],\n",
       "        [0.71790737],\n",
       "        [0.71675503],\n",
       "        [0.7156027 ],\n",
       "        [0.71445036],\n",
       "        [0.713298  ],\n",
       "        [0.7121456 ],\n",
       "        [0.7109933 ],\n",
       "        [0.70984095],\n",
       "        [0.7086886 ],\n",
       "        [0.7075363 ],\n",
       "        [0.70638394],\n",
       "        [0.7052316 ],\n",
       "        [0.7040793 ],\n",
       "        [0.70292693],\n",
       "        [0.7017746 ],\n",
       "        [0.70062226],\n",
       "        [0.6994699 ],\n",
       "        [0.6983176 ],\n",
       "        [0.69716525],\n",
       "        [0.6960129 ],\n",
       "        [0.6948606 ],\n",
       "        [0.69370824],\n",
       "        [0.6925559 ],\n",
       "        [0.69140357],\n",
       "        [0.69025123],\n",
       "        [0.6890989 ],\n",
       "        [0.68794656],\n",
       "        [0.6867942 ],\n",
       "        [0.6856418 ],\n",
       "        [0.6844895 ],\n",
       "        [0.68333715],\n",
       "        [0.6821848 ],\n",
       "        [0.6810325 ],\n",
       "        [0.67988014],\n",
       "        [0.6787278 ],\n",
       "        [0.67757547],\n",
       "        [0.67642313],\n",
       "        [0.6752708 ],\n",
       "        [0.67411846],\n",
       "        [0.6729661 ],\n",
       "        [0.6718138 ],\n",
       "        [0.67066145],\n",
       "        [0.6695091 ],\n",
       "        [0.6683568 ],\n",
       "        [0.66720444],\n",
       "        [0.6660521 ],\n",
       "        [0.66489977],\n",
       "        [0.66374743],\n",
       "        [0.6625951 ],\n",
       "        [0.66144276],\n",
       "        [0.66029036],\n",
       "        [0.659138  ],\n",
       "        [0.6579857 ],\n",
       "        [0.65683335],\n",
       "        [0.655681  ],\n",
       "        [0.6545287 ],\n",
       "        [0.65337634],\n",
       "        [0.652224  ],\n",
       "        [0.65107167],\n",
       "        [0.64991933],\n",
       "        [0.648767  ],\n",
       "        [0.64761466],\n",
       "        [0.6464623 ],\n",
       "        [0.64531   ],\n",
       "        [0.64415765],\n",
       "        [0.6430053 ],\n",
       "        [0.641853  ],\n",
       "        [0.64070064],\n",
       "        [0.6395483 ],\n",
       "        [0.63839597],\n",
       "        [0.6372436 ],\n",
       "        [0.6360913 ],\n",
       "        [0.63493896],\n",
       "        [0.63378656],\n",
       "        [0.6326342 ],\n",
       "        [0.6314819 ],\n",
       "        [0.63032955],\n",
       "        [0.6291772 ],\n",
       "        [0.6280249 ],\n",
       "        [0.62687254],\n",
       "        [0.6257202 ],\n",
       "        [0.62456787],\n",
       "        [0.6234155 ],\n",
       "        [0.6222632 ],\n",
       "        [0.62111086],\n",
       "        [0.6199585 ],\n",
       "        [0.6188062 ],\n",
       "        [0.61765385],\n",
       "        [0.6165015 ],\n",
       "        [0.6153492 ],\n",
       "        [0.61419684],\n",
       "        [0.6130445 ],\n",
       "        [0.61189216],\n",
       "        [0.6107398 ],\n",
       "        [0.6095875 ],\n",
       "        [0.6084351 ],\n",
       "        [0.60728276],\n",
       "        [0.6061304 ],\n",
       "        [0.6049781 ],\n",
       "        [0.60382575],\n",
       "        [0.6026734 ],\n",
       "        [0.6015211 ],\n",
       "        [0.60036874],\n",
       "        [0.5992164 ],\n",
       "        [0.59806406],\n",
       "        [0.5969117 ],\n",
       "        [0.5957594 ],\n",
       "        [0.59460706],\n",
       "        [0.5934547 ],\n",
       "        [0.5923024 ],\n",
       "        [0.59115005],\n",
       "        [0.5899977 ],\n",
       "        [0.5888454 ],\n",
       "        [0.58769304],\n",
       "        [0.5865407 ],\n",
       "        [0.58538836],\n",
       "        [0.584236  ],\n",
       "        [0.5830837 ],\n",
       "        [0.5819313 ],\n",
       "        [0.58077896],\n",
       "        [0.5796266 ],\n",
       "        [0.5784743 ],\n",
       "        [0.57732195],\n",
       "        [0.5761696 ],\n",
       "        [0.5750173 ],\n",
       "        [0.57386494],\n",
       "        [0.5727126 ],\n",
       "        [0.57156026],\n",
       "        [0.5704079 ],\n",
       "        [0.5692556 ],\n",
       "        [0.56810325],\n",
       "        [0.5669509 ],\n",
       "        [0.5657986 ],\n",
       "        [0.56464624],\n",
       "        [0.5634939 ],\n",
       "        [0.5623416 ],\n",
       "        [0.56118923],\n",
       "        [0.5600369 ],\n",
       "        [0.55888456],\n",
       "        [0.5577322 ],\n",
       "        [0.5565798 ],\n",
       "        [0.5554275 ],\n",
       "        [0.55427516],\n",
       "        [0.5531228 ],\n",
       "        [0.5519705 ],\n",
       "        [0.55081815],\n",
       "        [0.5496658 ],\n",
       "        [0.5485135 ],\n",
       "        [0.54736114],\n",
       "        [0.5462088 ],\n",
       "        [0.54505646],\n",
       "        [0.5439041 ],\n",
       "        [0.5427518 ],\n",
       "        [0.54159945],\n",
       "        [0.5404471 ],\n",
       "        [0.5392948 ],\n",
       "        [0.53814244],\n",
       "        [0.5369901 ],\n",
       "        [0.53583777],\n",
       "        [0.53468543],\n",
       "        [0.5335331 ],\n",
       "        [0.53238076],\n",
       "        [0.5312284 ],\n",
       "        [0.530076  ],\n",
       "        [0.5289237 ],\n",
       "        [0.52777135],\n",
       "        [0.526619  ],\n",
       "        [0.5254667 ],\n",
       "        [0.52431434],\n",
       "        [0.523162  ],\n",
       "        [0.5220097 ],\n",
       "        [0.52085733],\n",
       "        [0.519705  ],\n",
       "        [0.51855266],\n",
       "        [0.5174003 ],\n",
       "        [0.516248  ],\n",
       "        [0.51509565],\n",
       "        [0.5139433 ],\n",
       "        [0.512791  ],\n",
       "        [0.51163864],\n",
       "        [0.5104863 ],\n",
       "        [0.50933397],\n",
       "        [0.50818163],\n",
       "        [0.5070293 ],\n",
       "        [0.50587696],\n",
       "        [0.50472456],\n",
       "        [0.5035722 ],\n",
       "        [0.5024199 ],\n",
       "        [0.50126755],\n",
       "        [0.5001152 ],\n",
       "        [0.4989629 ],\n",
       "        [0.49781054],\n",
       "        [0.4966582 ],\n",
       "        [0.49550587],\n",
       "        [0.49435353],\n",
       "        [0.4932012 ],\n",
       "        [0.49204886],\n",
       "        [0.49089652],\n",
       "        [0.4897442 ],\n",
       "        [0.48859185],\n",
       "        [0.4874395 ],\n",
       "        [0.48628718],\n",
       "        [0.4851348 ],\n",
       "        [0.48398247],\n",
       "        [0.48283014],\n",
       "        [0.4816778 ],\n",
       "        [0.48052546],\n",
       "        [0.47937313],\n",
       "        [0.4782208 ],\n",
       "        [0.47706845],\n",
       "        [0.47591612],\n",
       "        [0.47476378],\n",
       "        [0.47361144],\n",
       "        [0.47245908],\n",
       "        [0.47130674],\n",
       "        [0.4701544 ],\n",
       "        [0.46900207],\n",
       "        [0.46784973],\n",
       "        [0.4666974 ],\n",
       "        [0.46554506],\n",
       "        [0.46439272],\n",
       "        [0.46324039],\n",
       "        [0.46208805],\n",
       "        [0.4609357 ],\n",
       "        [0.45978335],\n",
       "        [0.458631  ],\n",
       "        [0.45747867],\n",
       "        [0.45632634],\n",
       "        [0.455174  ],\n",
       "        [0.45402166],\n",
       "        [0.45286933],\n",
       "        [0.451717  ],\n",
       "        [0.45056465],\n",
       "        [0.44941232],\n",
       "        [0.44825998],\n",
       "        [0.44710764],\n",
       "        [0.44595528],\n",
       "        [0.44480294],\n",
       "        [0.4436506 ],\n",
       "        [0.44249827],\n",
       "        [0.44134593],\n",
       "        [0.4401936 ],\n",
       "        [0.43904126],\n",
       "        [0.43788892],\n",
       "        [0.43673658],\n",
       "        [0.43558425],\n",
       "        [0.4344319 ],\n",
       "        [0.43327954],\n",
       "        [0.4321272 ],\n",
       "        [0.43097487],\n",
       "        [0.42982253],\n",
       "        [0.4286702 ],\n",
       "        [0.42751786],\n",
       "        [0.42636552],\n",
       "        [0.4252132 ],\n",
       "        [0.42406085],\n",
       "        [0.4229085 ],\n",
       "        [0.42175618],\n",
       "        [0.4206038 ],\n",
       "        [0.41945148],\n",
       "        [0.41829914],\n",
       "        [0.4171468 ],\n",
       "        [0.41599447],\n",
       "        [0.41484213],\n",
       "        [0.4136898 ],\n",
       "        [0.41253746],\n",
       "        [0.41138512],\n",
       "        [0.41023278],\n",
       "        [0.40908045],\n",
       "        [0.40792808],\n",
       "        [0.40677574],\n",
       "        [0.4056234 ],\n",
       "        [0.40447107],\n",
       "        [0.40331873],\n",
       "        [0.4021664 ],\n",
       "        [0.40101406],\n",
       "        [0.39986172],\n",
       "        [0.3987094 ],\n",
       "        [0.39755705],\n",
       "        [0.3964047 ],\n",
       "        [0.39525238],\n",
       "        [0.3941    ],\n",
       "        [0.39294767],\n",
       "        [0.39179534],\n",
       "        [0.390643  ],\n",
       "        [0.38949066],\n",
       "        [0.38833833],\n",
       "        [0.387186  ],\n",
       "        [0.38603365],\n",
       "        [0.38488132],\n",
       "        [0.38372898],\n",
       "        [0.38257664],\n",
       "        [0.38142428],\n",
       "        [0.38027194],\n",
       "        [0.3791196 ],\n",
       "        [0.37796727],\n",
       "        [0.37681493],\n",
       "        [0.3756626 ],\n",
       "        [0.37451026],\n",
       "        [0.37335792],\n",
       "        [0.3722056 ],\n",
       "        [0.37105325],\n",
       "        [0.3699009 ],\n",
       "        [0.36874855],\n",
       "        [0.3675962 ],\n",
       "        [0.36644387],\n",
       "        [0.36529154],\n",
       "        [0.3641392 ],\n",
       "        [0.36298686],\n",
       "        [0.36183453],\n",
       "        [0.3606822 ],\n",
       "        [0.35952985],\n",
       "        [0.35837752],\n",
       "        [0.35722518],\n",
       "        [0.3560728 ],\n",
       "        [0.35492048],\n",
       "        [0.35376814],\n",
       "        [0.3526158 ],\n",
       "        [0.35146347],\n",
       "        [0.35031113],\n",
       "        [0.3491588 ],\n",
       "        [0.34800646],\n",
       "        [0.34685412],\n",
       "        [0.34570178],\n",
       "        [0.34454945],\n",
       "        [0.3433971 ],\n",
       "        [0.34224474],\n",
       "        [0.3410924 ],\n",
       "        [0.33994007],\n",
       "        [0.33878773],\n",
       "        [0.3376354 ],\n",
       "        [0.33648306],\n",
       "        [0.33533072],\n",
       "        [0.3341784 ],\n",
       "        [0.33302605],\n",
       "        [0.33187371],\n",
       "        [0.33072138],\n",
       "        [0.329569  ],\n",
       "        [0.32841668],\n",
       "        [0.32726434],\n",
       "        [0.326112  ],\n",
       "        [0.32495967],\n",
       "        [0.32380733],\n",
       "        [0.322655  ],\n",
       "        [0.32150266],\n",
       "        [0.32035032],\n",
       "        [0.31919798],\n",
       "        [0.31804565],\n",
       "        [0.31689328],\n",
       "        [0.31574094],\n",
       "        [0.3145886 ],\n",
       "        [0.31343627],\n",
       "        [0.31228393],\n",
       "        [0.3111316 ],\n",
       "        [0.30997926],\n",
       "        [0.30882692],\n",
       "        [0.3076746 ],\n",
       "        [0.30652225],\n",
       "        [0.3053699 ],\n",
       "        [0.30421755],\n",
       "        [0.3030652 ],\n",
       "        [0.30191287],\n",
       "        [0.30076054],\n",
       "        [0.2996082 ],\n",
       "        [0.29845586],\n",
       "        [0.29730353],\n",
       "        [0.2961512 ],\n",
       "        [0.29499885],\n",
       "        [0.29384652],\n",
       "        [0.29269418],\n",
       "        [0.29154184],\n",
       "        [0.29038948],\n",
       "        [0.28923714],\n",
       "        [0.2880848 ],\n",
       "        [0.28693247],\n",
       "        [0.28578013],\n",
       "        [0.2846278 ],\n",
       "        [0.28347546],\n",
       "        [0.28232312],\n",
       "        [0.2811708 ],\n",
       "        [0.28001845],\n",
       "        [0.2788661 ],\n",
       "        [0.27771375],\n",
       "        [0.2765614 ],\n",
       "        [0.27540907],\n",
       "        [0.27425674],\n",
       "        [0.2731044 ],\n",
       "        [0.27195206],\n",
       "        [0.27079973],\n",
       "        [0.2696474 ],\n",
       "        [0.26849505],\n",
       "        [0.26734272],\n",
       "        [0.26619038],\n",
       "        [0.265038  ],\n",
       "        [0.26388568],\n",
       "        [0.26273334],\n",
       "        [0.261581  ],\n",
       "        [0.26042867],\n",
       "        [0.25927633],\n",
       "        [0.258124  ],\n",
       "        [0.25697166],\n",
       "        [0.25581932],\n",
       "        [0.25466698],\n",
       "        [0.25351465],\n",
       "        [0.25236228],\n",
       "        [0.25120994],\n",
       "        [0.2500576 ],\n",
       "        [0.24890527],\n",
       "        [0.24775293],\n",
       "        [0.2466006 ],\n",
       "        [0.24544826],\n",
       "        [0.24429592],\n",
       "        [0.24314359],\n",
       "        [0.24199124],\n",
       "        [0.2408389 ],\n",
       "        [0.23968656],\n",
       "        [0.23853423],\n",
       "        [0.23738189],\n",
       "        [0.23622954],\n",
       "        [0.2350772 ],\n",
       "        [0.23392487],\n",
       "        [0.23277253],\n",
       "        [0.23162019],\n",
       "        [0.23046786],\n",
       "        [0.2293155 ],\n",
       "        [0.22816317],\n",
       "        [0.22701083],\n",
       "        [0.2258585 ],\n",
       "        [0.22470616],\n",
       "        [0.22355382],\n",
       "        [0.22240147],\n",
       "        [0.22124913],\n",
       "        [0.2200968 ],\n",
       "        [0.21894446],\n",
       "        [0.21779212],\n",
       "        [0.21663977],\n",
       "        [0.21548744],\n",
       "        [0.2143351 ],\n",
       "        [0.21318276],\n",
       "        [0.21203043],\n",
       "        [0.21087809],\n",
       "        [0.20972574],\n",
       "        [0.2085734 ],\n",
       "        [0.20742106],\n",
       "        [0.20626873],\n",
       "        [0.20511639],\n",
       "        [0.20396404],\n",
       "        [0.2028117 ],\n",
       "        [0.20165937],\n",
       "        [0.20050703],\n",
       "        [0.1993547 ],\n",
       "        [0.19820236],\n",
       "        [0.19705   ],\n",
       "        [0.19589767],\n",
       "        [0.19474533],\n",
       "        [0.193593  ],\n",
       "        [0.19244066],\n",
       "        [0.19128832],\n",
       "        [0.19013597]], dtype=float32)}"
      ]
     },
     "execution_count": 217,
     "metadata": {},
     "output_type": "execute_result"
    }
   ],
   "source": [
    "test_results = test(model, test_loader, device)\n",
    "\n",
    "test_results"
   ]
  },
  {
   "cell_type": "code",
   "execution_count": 218,
   "id": "df88c977",
   "metadata": {},
   "outputs": [
    {
     "data": {
      "image/png": "[encoded data removed]",
      "text/plain": [
       "<Figure size 1200x600 with 1 Axes>"
      ]
     },
     "metadata": {},
     "output_type": "display_data"
    }
   ],
   "source": [
    "plot_predictions_vs_actuals(\n",
    "    test_results['test_targets'],\n",
    "    test_results['test_preds']\n",
    ")"
   ]
  },
  {
   "cell_type": "code",
   "execution_count": null,
   "id": "b00566d8",
   "metadata": {},
   "outputs": [
    {
     "data": {
      "text/plain": [
       "(4602, 1)"
      ]
     },
     "execution_count": 288,
     "metadata": {},
     "output_type": "execute_result"
    }
   ],
   "source": [
    "test_results['test_targets']"
   ]
  },
  {
   "cell_type": "code",
   "execution_count": 300,
   "id": "a238957f",
   "metadata": {},
   "outputs": [
    {
     "data": {
      "text/plain": [
       "array([0.02777791, 0.02777791, 0.02777791, ..., 0.02777791, 0.02777791,\n",
       "       0.02777791], dtype=float32)"
      ]
     },
     "execution_count": 300,
     "metadata": {},
     "output_type": "execute_result"
    }
   ],
   "source": [
    "test_results['test_preds']"
   ]
  },
  {
   "cell_type": "code",
   "execution_count": 151,
   "id": "4b998a87",
   "metadata": {},
   "outputs": [
    {
     "data": {
      "text/plain": [
       "[<matplotlib.lines.Line2D at 0x7fdf5e9b52d0>]"
      ]
     },
     "execution_count": 151,
     "metadata": {},
     "output_type": "execute_result"
    },
    {
     "data": {
      "image/png": "[encoded data removed]",
      "text/plain": [
       "<Figure size 640x480 with 1 Axes>"
      ]
     },
     "metadata": {},
     "output_type": "display_data"
    }
   ],
   "source": [
    "plt.plot(test_results['rul'].cpu().numpy())"
   ]
  },
  {
   "cell_type": "code",
   "execution_count": null,
   "id": "a115a487",
   "metadata": {},
   "outputs": [],
   "source": []
  }
 ],
 "metadata": {
  "kernelspec": {
   "display_name": "bearing_rul",
   "language": "python",
   "name": "python3"
  },
  "language_info": {
   "codemirror_mode": {
    "name": "ipython",
    "version": 3
   },
   "file_extension": ".py",
   "mimetype": "text/x-python",
   "name": "python",
   "nbconvert_exporter": "python",
   "pygments_lexer": "ipython3",
   "version": "3.10.11"
  }
 },
 "nbformat": 4,
 "nbformat_minor": 5
}
