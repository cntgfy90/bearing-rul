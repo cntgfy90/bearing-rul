{
 "cells": [
  {
   "cell_type": "code",
   "execution_count": 1,
   "id": "3f31f366",
   "metadata": {},
   "outputs": [
    {
     "name": "stderr",
     "output_type": "stream",
     "text": [
      "/home/stepan/Private/bearing_rul/lib/python3.10/site-packages/xgboost/core.py:377: FutureWarning: Your system has an old version of glibc (< 2.28). We will stop supporting Linux distros with glibc older than 2.28 after **May 31, 2025**. Please upgrade to a recent Linux distro (with glibc >= 2.28) to use future versions of XGBoost.\n",
      "Note: You have installed the 'manylinux2014' variant of XGBoost. Certain features such as GPU algorithms or federated learning are not available. To use these features, please upgrade to a recent Linux distro with glibc 2.28+, and install the 'manylinux_2_28' variant.\n",
      "  warnings.warn(\n"
     ]
    }
   ],
   "source": [
    "import numpy as np\n",
    "import pandas as pd\n",
    "from torch import nn\n",
    "from phmd import datasets\n",
    "from sklearn.preprocessing import MinMaxScaler, StandardScaler, OneHotEncoder, RobustScaler\n",
    "from scipy.stats import kurtosis\n",
    "from scipy.fft import fft\n",
    "from scipy.fft import fft, fftfreq\n",
    "from sklearn.svm import SVR\n",
    "from sklearn.ensemble import RandomForestRegressor\n",
    "from sklearn.metrics import mean_absolute_error, mean_squared_error, r2_score\n",
    "from xgboost import XGBRegressor\n",
    "import matplotlib.pyplot as plt\n",
    "import seaborn as sns\n",
    "import os\n",
    "import torch\n",
    "from tqdm import tqdm"
   ]
  },
  {
   "cell_type": "code",
   "execution_count": 2,
   "id": "dad711b3",
   "metadata": {},
   "outputs": [],
   "source": [
    "def early_prediction_score(y_true, y_pred, alpha=0.5):\n",
    "    errors = y_pred - y_true\n",
    "    # Heavier penalty for late predictions\n",
    "    weights = np.where(errors < 0, alpha, 1)\n",
    "    return np.mean(weights * errors**2)"
   ]
  },
  {
   "cell_type": "code",
   "execution_count": 3,
   "id": "95d37866",
   "metadata": {},
   "outputs": [],
   "source": [
    "TRAIN_BEARINGS = {\n",
    "    1: [\n",
    "        '1_1',\n",
    "        # '1_2',\n",
    "    ],\n",
    "    2: [\n",
    "        '2_1',\n",
    "        '2_2',\n",
    "    ],\n",
    "    3: [\n",
    "        '3_1',\n",
    "        '3_2',\n",
    "    ]\n",
    "}\n",
    "\n",
    "TEST_BEARINGS = {\n",
    "    1: [\n",
    "        '1_3',\n",
    "        '1_4',\n",
    "        '1_5',\n",
    "        '1_6',\n",
    "        '1_7',\n",
    "    ],\n",
    "    2: [\n",
    "        '2_3',\n",
    "        '2_4',\n",
    "        '2_5',\n",
    "        '2_6',\n",
    "        '2_7',\n",
    "    ],\n",
    "    3: [\n",
    "        '3_3',\n",
    "    ]\n",
    "}"
   ]
  },
  {
   "cell_type": "code",
   "execution_count": 4,
   "id": "08d3cf88",
   "metadata": {},
   "outputs": [
    {
     "name": "stdout",
     "output_type": "stream",
     "text": [
      "Remember to cite the original publisher dataset:\n",
      "\t@inproceedings{nectoux2012pronostia,    \n",
      "\t    title={PRONOSTIA: An experimental platform for bearings accelerated degradation tests.},    \n",
      "\t    author={Nectoux, Patrick and Gouriveau, Rafael and Medjaher, Kamal and Ramasso, Emmanuel and Chebel-Morello, Brigitte and Zerhouni, Noureddine and Varnier, Christophe},    \n",
      "\t    booktitle={IEEE International Conference on Prognostics and Health Management, PHM'12.},    \n",
      "\t    pages={1--8},    \n",
      "\t    year={2012},    \n",
      "\t    organization={IEEE Catalog Number: CPF12PHM-CDR}    \n",
      "\t}\n",
      "You can download the dataset manually from:  https://www.nasa.gov/intelligent-systems-division/discovery-and-systems-health/pcoe/pcoe-data-set-repository/\n",
      "\n",
      "** If you find this tool useful, please cite our SoftwareX paper: \n",
      "\tSolís-Martín, David, Juan Galán-Páez, and Joaquín Borrego-Díaz. \"PHMD: An easy data access tool for prognosis and health management datasets.\" SoftwareX 29 (2025): 102039.\n",
      "\n"
     ]
    },
    {
     "name": "stderr",
     "output_type": "stream",
     "text": [
      "Reading Bearing3_2: 100%|██████████| 7534/7534 [00:19<00:00, 384.94it/s]\n",
      "Reading Bearing3_3: 100%|██████████| 13959/13959 [00:35<00:00, 390.76it/s]\n",
      "INFO:root:Read in 57.81956434249878 seconds\n"
     ]
    }
   ],
   "source": [
    "dataset = datasets.Dataset('PRONOSTIA')\n",
    "tasks = dataset['rul']\n",
    "df = tasks.load()"
   ]
  },
  {
   "cell_type": "code",
   "execution_count": 5,
   "id": "58e5a4bd",
   "metadata": {},
   "outputs": [
    {
     "data": {
      "text/plain": [
       "array(['1_1', '1_2', '2_1', '2_2', '3_1', '3_2'], dtype=object)"
      ]
     },
     "execution_count": 5,
     "metadata": {},
     "output_type": "execute_result"
    }
   ],
   "source": [
    "# train\n",
    "df[0]['unit'].unique()"
   ]
  },
  {
   "cell_type": "code",
   "execution_count": 6,
   "id": "9e59c6d2",
   "metadata": {},
   "outputs": [
    {
     "data": {
      "text/html": [
       "<div>\n",
       "<style scoped>\n",
       "    .dataframe tbody tr th:only-of-type {\n",
       "        vertical-align: middle;\n",
       "    }\n",
       "\n",
       "    .dataframe tbody tr th {\n",
       "        vertical-align: top;\n",
       "    }\n",
       "\n",
       "    .dataframe thead th {\n",
       "        text-align: right;\n",
       "    }\n",
       "</style>\n",
       "<table border=\"1\" class=\"dataframe\">\n",
       "  <thead>\n",
       "    <tr style=\"text-align: right;\">\n",
       "      <th></th>\n",
       "      <th>rul</th>\n",
       "      <th>V_acc</th>\n",
       "      <th>H_acc</th>\n",
       "      <th>unit</th>\n",
       "    </tr>\n",
       "  </thead>\n",
       "  <tbody>\n",
       "    <tr>\n",
       "      <th>0</th>\n",
       "      <td>28029</td>\n",
       "      <td>-0.146</td>\n",
       "      <td>0.552</td>\n",
       "      <td>1_1</td>\n",
       "    </tr>\n",
       "    <tr>\n",
       "      <th>1</th>\n",
       "      <td>28029</td>\n",
       "      <td>-0.480</td>\n",
       "      <td>0.501</td>\n",
       "      <td>1_1</td>\n",
       "    </tr>\n",
       "    <tr>\n",
       "      <th>2</th>\n",
       "      <td>28029</td>\n",
       "      <td>0.435</td>\n",
       "      <td>0.138</td>\n",
       "      <td>1_1</td>\n",
       "    </tr>\n",
       "    <tr>\n",
       "      <th>3</th>\n",
       "      <td>28029</td>\n",
       "      <td>0.240</td>\n",
       "      <td>-0.423</td>\n",
       "      <td>1_1</td>\n",
       "    </tr>\n",
       "    <tr>\n",
       "      <th>4</th>\n",
       "      <td>28029</td>\n",
       "      <td>0.020</td>\n",
       "      <td>-0.802</td>\n",
       "      <td>1_1</td>\n",
       "    </tr>\n",
       "  </tbody>\n",
       "</table>\n",
       "</div>"
      ],
      "text/plain": [
       "     rul  V_acc  H_acc unit\n",
       "0  28029 -0.146  0.552  1_1\n",
       "1  28029 -0.480  0.501  1_1\n",
       "2  28029  0.435  0.138  1_1\n",
       "3  28029  0.240 -0.423  1_1\n",
       "4  28029  0.020 -0.802  1_1"
      ]
     },
     "execution_count": 6,
     "metadata": {},
     "output_type": "execute_result"
    }
   ],
   "source": [
    "df[0].head(5)"
   ]
  },
  {
   "cell_type": "code",
   "execution_count": 7,
   "id": "36ab7dee",
   "metadata": {},
   "outputs": [
    {
     "data": {
      "text/plain": [
       "array(['1_3', '1_4', '1_5', '1_6', '1_7', '2_3', '2_4', '2_5', '2_6',\n",
       "       '2_7', '3_3'], dtype=object)"
      ]
     },
     "execution_count": 7,
     "metadata": {},
     "output_type": "execute_result"
    }
   ],
   "source": [
    "# test\n",
    "df[1]['unit'].unique()"
   ]
  },
  {
   "cell_type": "code",
   "execution_count": 8,
   "id": "0b4d16d9",
   "metadata": {},
   "outputs": [
    {
     "data": {
      "text/plain": [
       "0          1_1\n",
       "1          1_1\n",
       "2          1_1\n",
       "3          1_1\n",
       "4          1_1\n",
       "          ... \n",
       "7175675    1_1\n",
       "7175676    1_1\n",
       "7175677    1_1\n",
       "7175678    1_1\n",
       "7175679    1_1\n",
       "Name: unit, Length: 7175680, dtype: object"
      ]
     },
     "execution_count": 8,
     "metadata": {},
     "output_type": "execute_result"
    }
   ],
   "source": [
    "df[0][df[0]['unit'].isin(TRAIN_BEARINGS[1])]['unit']"
   ]
  },
  {
   "cell_type": "code",
   "execution_count": 9,
   "id": "c6ecf741",
   "metadata": {},
   "outputs": [
    {
     "data": {
      "text/html": [
       "<div>\n",
       "<style scoped>\n",
       "    .dataframe tbody tr th:only-of-type {\n",
       "        vertical-align: middle;\n",
       "    }\n",
       "\n",
       "    .dataframe tbody tr th {\n",
       "        vertical-align: top;\n",
       "    }\n",
       "\n",
       "    .dataframe thead th {\n",
       "        text-align: right;\n",
       "    }\n",
       "</style>\n",
       "<table border=\"1\" class=\"dataframe\">\n",
       "  <thead>\n",
       "    <tr style=\"text-align: right;\">\n",
       "      <th></th>\n",
       "      <th>rul</th>\n",
       "      <th>V_acc</th>\n",
       "      <th>H_acc</th>\n",
       "      <th>unit</th>\n",
       "    </tr>\n",
       "  </thead>\n",
       "  <tbody>\n",
       "    <tr>\n",
       "      <th>0</th>\n",
       "      <td>28029</td>\n",
       "      <td>-0.146</td>\n",
       "      <td>0.552</td>\n",
       "      <td>1_1</td>\n",
       "    </tr>\n",
       "    <tr>\n",
       "      <th>1</th>\n",
       "      <td>28029</td>\n",
       "      <td>-0.480</td>\n",
       "      <td>0.501</td>\n",
       "      <td>1_1</td>\n",
       "    </tr>\n",
       "    <tr>\n",
       "      <th>2</th>\n",
       "      <td>28029</td>\n",
       "      <td>0.435</td>\n",
       "      <td>0.138</td>\n",
       "      <td>1_1</td>\n",
       "    </tr>\n",
       "    <tr>\n",
       "      <th>3</th>\n",
       "      <td>28029</td>\n",
       "      <td>0.240</td>\n",
       "      <td>-0.423</td>\n",
       "      <td>1_1</td>\n",
       "    </tr>\n",
       "    <tr>\n",
       "      <th>4</th>\n",
       "      <td>28029</td>\n",
       "      <td>0.020</td>\n",
       "      <td>-0.802</td>\n",
       "      <td>1_1</td>\n",
       "    </tr>\n",
       "    <tr>\n",
       "      <th>...</th>\n",
       "      <td>...</td>\n",
       "      <td>...</td>\n",
       "      <td>...</td>\n",
       "      <td>...</td>\n",
       "    </tr>\n",
       "    <tr>\n",
       "      <th>7175675</th>\n",
       "      <td>0</td>\n",
       "      <td>2.129</td>\n",
       "      <td>-3.353</td>\n",
       "      <td>1_1</td>\n",
       "    </tr>\n",
       "    <tr>\n",
       "      <th>7175676</th>\n",
       "      <td>0</td>\n",
       "      <td>-2.299</td>\n",
       "      <td>-2.868</td>\n",
       "      <td>1_1</td>\n",
       "    </tr>\n",
       "    <tr>\n",
       "      <th>7175677</th>\n",
       "      <td>0</td>\n",
       "      <td>-1.844</td>\n",
       "      <td>-5.507</td>\n",
       "      <td>1_1</td>\n",
       "    </tr>\n",
       "    <tr>\n",
       "      <th>7175678</th>\n",
       "      <td>0</td>\n",
       "      <td>2.146</td>\n",
       "      <td>-3.578</td>\n",
       "      <td>1_1</td>\n",
       "    </tr>\n",
       "    <tr>\n",
       "      <th>7175679</th>\n",
       "      <td>0</td>\n",
       "      <td>0.470</td>\n",
       "      <td>-2.709</td>\n",
       "      <td>1_1</td>\n",
       "    </tr>\n",
       "  </tbody>\n",
       "</table>\n",
       "<p>7175680 rows × 4 columns</p>\n",
       "</div>"
      ],
      "text/plain": [
       "           rul  V_acc  H_acc unit\n",
       "0        28029 -0.146  0.552  1_1\n",
       "1        28029 -0.480  0.501  1_1\n",
       "2        28029  0.435  0.138  1_1\n",
       "3        28029  0.240 -0.423  1_1\n",
       "4        28029  0.020 -0.802  1_1\n",
       "...        ...    ...    ...  ...\n",
       "7175675      0  2.129 -3.353  1_1\n",
       "7175676      0 -2.299 -2.868  1_1\n",
       "7175677      0 -1.844 -5.507  1_1\n",
       "7175678      0  2.146 -3.578  1_1\n",
       "7175679      0  0.470 -2.709  1_1\n",
       "\n",
       "[7175680 rows x 4 columns]"
      ]
     },
     "execution_count": 9,
     "metadata": {},
     "output_type": "execute_result"
    }
   ],
   "source": [
    "df[0][df[0]['unit'].isin(TRAIN_BEARINGS[1])]"
   ]
  },
  {
   "cell_type": "code",
   "execution_count": 10,
   "id": "41fc4c80",
   "metadata": {},
   "outputs": [
    {
     "data": {
      "text/html": [
       "<div>\n",
       "<style scoped>\n",
       "    .dataframe tbody tr th:only-of-type {\n",
       "        vertical-align: middle;\n",
       "    }\n",
       "\n",
       "    .dataframe tbody tr th {\n",
       "        vertical-align: top;\n",
       "    }\n",
       "\n",
       "    .dataframe thead th {\n",
       "        text-align: right;\n",
       "    }\n",
       "</style>\n",
       "<table border=\"1\" class=\"dataframe\">\n",
       "  <thead>\n",
       "    <tr style=\"text-align: right;\">\n",
       "      <th></th>\n",
       "      <th>rul</th>\n",
       "      <th>V_acc</th>\n",
       "      <th>H_acc</th>\n",
       "      <th>unit</th>\n",
       "    </tr>\n",
       "  </thead>\n",
       "  <tbody>\n",
       "    <tr>\n",
       "      <th>0</th>\n",
       "      <td>23749</td>\n",
       "      <td>0.044</td>\n",
       "      <td>0.092</td>\n",
       "      <td>1_3</td>\n",
       "    </tr>\n",
       "    <tr>\n",
       "      <th>1</th>\n",
       "      <td>23749</td>\n",
       "      <td>0.432</td>\n",
       "      <td>-0.025</td>\n",
       "      <td>1_3</td>\n",
       "    </tr>\n",
       "    <tr>\n",
       "      <th>2</th>\n",
       "      <td>23749</td>\n",
       "      <td>0.008</td>\n",
       "      <td>-0.104</td>\n",
       "      <td>1_3</td>\n",
       "    </tr>\n",
       "    <tr>\n",
       "      <th>3</th>\n",
       "      <td>23749</td>\n",
       "      <td>-0.264</td>\n",
       "      <td>0.056</td>\n",
       "      <td>1_3</td>\n",
       "    </tr>\n",
       "    <tr>\n",
       "      <th>4</th>\n",
       "      <td>23749</td>\n",
       "      <td>-0.195</td>\n",
       "      <td>0.074</td>\n",
       "      <td>1_3</td>\n",
       "    </tr>\n",
       "    <tr>\n",
       "      <th>...</th>\n",
       "      <td>...</td>\n",
       "      <td>...</td>\n",
       "      <td>...</td>\n",
       "      <td>...</td>\n",
       "    </tr>\n",
       "    <tr>\n",
       "      <th>3845115</th>\n",
       "      <td>7570</td>\n",
       "      <td>-0.013</td>\n",
       "      <td>0.481</td>\n",
       "      <td>1_7</td>\n",
       "    </tr>\n",
       "    <tr>\n",
       "      <th>3845116</th>\n",
       "      <td>7570</td>\n",
       "      <td>-0.272</td>\n",
       "      <td>0.191</td>\n",
       "      <td>1_7</td>\n",
       "    </tr>\n",
       "    <tr>\n",
       "      <th>3845117</th>\n",
       "      <td>7570</td>\n",
       "      <td>0.466</td>\n",
       "      <td>0.250</td>\n",
       "      <td>1_7</td>\n",
       "    </tr>\n",
       "    <tr>\n",
       "      <th>3845118</th>\n",
       "      <td>7570</td>\n",
       "      <td>-0.582</td>\n",
       "      <td>0.001</td>\n",
       "      <td>1_7</td>\n",
       "    </tr>\n",
       "    <tr>\n",
       "      <th>3845119</th>\n",
       "      <td>7570</td>\n",
       "      <td>-0.371</td>\n",
       "      <td>0.199</td>\n",
       "      <td>1_7</td>\n",
       "    </tr>\n",
       "  </tbody>\n",
       "</table>\n",
       "<p>23160320 rows × 4 columns</p>\n",
       "</div>"
      ],
      "text/plain": [
       "           rul  V_acc  H_acc unit\n",
       "0        23749  0.044  0.092  1_3\n",
       "1        23749  0.432 -0.025  1_3\n",
       "2        23749  0.008 -0.104  1_3\n",
       "3        23749 -0.264  0.056  1_3\n",
       "4        23749 -0.195  0.074  1_3\n",
       "...        ...    ...    ...  ...\n",
       "3845115   7570 -0.013  0.481  1_7\n",
       "3845116   7570 -0.272  0.191  1_7\n",
       "3845117   7570  0.466  0.250  1_7\n",
       "3845118   7570 -0.582  0.001  1_7\n",
       "3845119   7570 -0.371  0.199  1_7\n",
       "\n",
       "[23160320 rows x 4 columns]"
      ]
     },
     "execution_count": 10,
     "metadata": {},
     "output_type": "execute_result"
    }
   ],
   "source": [
    "df[1][df[1]['unit'].isin(TEST_BEARINGS[1])]"
   ]
  },
  {
   "cell_type": "code",
   "execution_count": 11,
   "id": "0685c0bc",
   "metadata": {},
   "outputs": [
    {
     "data": {
      "text/plain": [
       "[<matplotlib.lines.Line2D at 0x7f5023c62470>]"
      ]
     },
     "execution_count": 11,
     "metadata": {},
     "output_type": "execute_result"
    },
    {
     "data": {
      "image/png": "[encoded data removed]",
      "text/plain": [
       "<Figure size 640x480 with 1 Axes>"
      ]
     },
     "metadata": {},
     "output_type": "display_data"
    }
   ],
   "source": [
    "plt.plot(df[1][df[1]['unit'] == '1_3']['rul'])"
   ]
  },
  {
   "cell_type": "code",
   "execution_count": 12,
   "id": "b131384a",
   "metadata": {},
   "outputs": [],
   "source": [
    "# sns.kdeplot(df[0][df[0]['unit'] == '1_1']['H_acc'], label='Train')\n",
    "# sns.kdeplot(test_features['h_RMS'], label='Test')\n",
    "# plt.legend(); plt.show()"
   ]
  },
  {
   "cell_type": "code",
   "execution_count": 45,
   "id": "a2dafbea",
   "metadata": {},
   "outputs": [],
   "source": [
    "class BearingDataset(torch.utils.data.Dataset):\n",
    "    def __init__(self, df, window_size=2560, step=2560 // 2):\n",
    "        self.windows = []\n",
    "        self.ruls = []\n",
    "        \n",
    "        # Create sequences\n",
    "        for unit, group in df.groupby('unit'):\n",
    "            h_acc =  group['H_acc'].transform(\n",
    "                lambda x: (x - x.mean()) / (x.std() + 1e-8)\n",
    "            )\n",
    "            v_acc =  group['V_acc'].transform(\n",
    "                lambda x: (x - x.mean()) / (x.std() + 1e-8)\n",
    "            )\n",
    "\n",
    "            rul = group['rul'].transform(lambda x: x / x.max())\n",
    "\n",
    "            for i in range(0, len(group) - window_size, step):\n",
    "\n",
    "                self.windows.append(np.stack([\n",
    "                    h_acc[i:i+window_size], \n",
    "                    v_acc[i:i+window_size]\n",
    "                ], axis=1))\n",
    "                self.ruls.append(rul.values[i+window_size-1])\n",
    "\n",
    "    def __len__(self):\n",
    "        return len(self.windows)\n",
    "    \n",
    "    def __getitem__(self, idx):\n",
    "        return torch.FloatTensor(self.windows[idx]), torch.FloatTensor([self.ruls[idx]])\n",
    "    \n",
    "    def create_overlapping_windows(signal, window_size=2560, overlap=0.75):\n",
    "        step = int(window_size * (1 - overlap))\n",
    "        return np.lib.stride_tricks.sliding_window_view(\n",
    "            signal, window_shape=window_size, axis=0\n",
    "        )[::step]\n",
    "    \n",
    "train_dataset = BearingDataset(\n",
    "    # [b for state in TRAIN_BEARINGS for b in TRAIN_BEARINGS[state]]\n",
    "    df=df[0][df[0]['unit'].isin(['1_1'])],\n",
    ")\n",
    "\n",
    "test_dataset = BearingDataset(\n",
    "    df=df[1][df[1]['unit'] == '1_3'],\n",
    ")\n",
    "\n",
    "val_dataset = BearingDataset(\n",
    "    df=df[1][df[1]['unit'] == '1_4'],\n",
    ")\n",
    "\n",
    "train_loader = torch.utils.data.DataLoader(train_dataset, batch_size=32, shuffle=False)\n",
    "test_loader = torch.utils.data.DataLoader(test_dataset, batch_size=32, shuffle=False)\n",
    "val_loader = torch.utils.data.DataLoader(val_dataset, batch_size=32, shuffle=False)"
   ]
  },
  {
   "cell_type": "code",
   "execution_count": 46,
   "id": "42f0e240",
   "metadata": {},
   "outputs": [
    {
     "data": {
      "text/plain": [
       "5604"
      ]
     },
     "execution_count": 46,
     "metadata": {},
     "output_type": "execute_result"
    }
   ],
   "source": [
    "len(train_dataset)"
   ]
  },
  {
   "cell_type": "code",
   "execution_count": 134,
   "id": "27eff63f",
   "metadata": {},
   "outputs": [
    {
     "name": "stdout",
     "output_type": "stream",
     "text": [
      "BearingCNN(\n",
      "  (features): Sequential(\n",
      "    (0): Conv1d(2, 64, kernel_size=(51,), stride=(1,), padding=(25,))\n",
      "    (1): BatchNorm1d(64, eps=1e-05, momentum=0.1, affine=True, track_running_stats=True)\n",
      "    (2): LeakyReLU(negative_slope=0.1)\n",
      "    (3): MaxPool1d(kernel_size=4, stride=2, padding=0, dilation=1, ceil_mode=False)\n",
      "    (4): Conv1d(64, 128, kernel_size=(25,), stride=(1,), padding=(12,))\n",
      "    (5): BatchNorm1d(128, eps=1e-05, momentum=0.1, affine=True, track_running_stats=True)\n",
      "    (6): LeakyReLU(negative_slope=0.1)\n",
      "    (7): MaxPool1d(kernel_size=4, stride=2, padding=0, dilation=1, ceil_mode=False)\n",
      "    (8): Conv1d(128, 256, kernel_size=(10,), stride=(1,), padding=(5,))\n",
      "    (9): BatchNorm1d(256, eps=1e-05, momentum=0.1, affine=True, track_running_stats=True)\n",
      "    (10): LeakyReLU(negative_slope=0.1)\n",
      "    (11): AdaptiveAvgPool1d(output_size=1)\n",
      "  )\n",
      "  (regressor): Sequential(\n",
      "    (0): Linear(in_features=256, out_features=128, bias=True)\n",
      "    (1): LayerNorm((128,), eps=1e-05, elementwise_affine=True)\n",
      "    (2): LeakyReLU(negative_slope=0.1)\n",
      "    (3): Dropout(p=0.5, inplace=False)\n",
      "    (4): Linear(in_features=128, out_features=1, bias=True)\n",
      "  )\n",
      ")\n"
     ]
    }
   ],
   "source": [
    "class BearingCNN(torch.nn.Module):\n",
    "    def __init__(self):\n",
    "        super().__init__()\n",
    "        \n",
    "        # Feature extractor\n",
    "        self.features = torch.nn.Sequential(\n",
    "            # Layer 1: Wide receptive field\n",
    "            torch.nn.Conv1d(2, 64, kernel_size=51, padding=25),  # (B, 2, 2560) -> (B, 64, 2560)\n",
    "            torch.nn.BatchNorm1d(64),\n",
    "            torch.nn.LeakyReLU(0.1),\n",
    "            torch.nn.MaxPool1d(4, stride=2),  # -> (B, 64, 1278)\n",
    "            \n",
    "            # Layer 2: Mid-range features\n",
    "            torch.nn.Conv1d(64, 128, kernel_size=25, padding=12),  # -> (B, 128, 1278)\n",
    "            torch.nn.BatchNorm1d(128),\n",
    "            torch.nn.LeakyReLU(0.1),\n",
    "            torch.nn.MaxPool1d(4, stride=2),  # -> (B, 128, 637)\n",
    "            \n",
    "            # Layer 3: Local features\n",
    "            torch.nn.Conv1d(128, 256, kernel_size=10, padding=5),  # -> (B, 256, 637)\n",
    "            torch.nn.BatchNorm1d(256),\n",
    "            torch.nn.LeakyReLU(0.1),\n",
    "            torch.nn.AdaptiveAvgPool1d(1)  # -> (B, 256, 1)\n",
    "        )\n",
    "        \n",
    "        # Regressor (fixed input dim)\n",
    "        self.regressor = torch.nn.Sequential(\n",
    "            torch.nn.Linear(256, 128),\n",
    "            torch.nn.LayerNorm(128),  # Better for regression\n",
    "            torch.nn.LeakyReLU(0.1),\n",
    "            torch.nn.Dropout(0.5),\n",
    "            torch.nn.Linear(128, 1),\n",
    "            # Removed Sigmoid() for regression\n",
    "        )\n",
    "\n",
    "        # self.fc = torch.nn.Linear(128, 1)\n",
    "\n",
    "        # with torch.no_grad():\n",
    "        #     self.fc.weight.data = -torch.abs(self.fc.weight.data)\n",
    "        #     self.fc.bias.data.fill_(1.0)  # Start predictions near 1.0\n",
    "    \n",
    "    def forward(self, x):\n",
    "        # Input: (B, 2560, 2)\n",
    "        x = x.permute(0, 2, 1)  # -> (B, 2, 2560)\n",
    "        x = self.features(x)     # -> (B, 256, 1)\n",
    "        x = x.squeeze(-1)        # -> (B, 256)\n",
    "        x = self.regressor(x)  # -> (B,)\n",
    "        return x\n",
    "\n",
    "model = BearingCNN()\n",
    "\n",
    "print(model)"
   ]
  },
  {
   "cell_type": "code",
   "execution_count": 135,
   "id": "6a7be941",
   "metadata": {},
   "outputs": [],
   "source": [
    "class LogCoshLoss(nn.Module):\n",
    "    def forward(self, y_pred, y_true):\n",
    "        return torch.mean(torch.log(torch.cosh(y_pred - y_true)))\n",
    "\n",
    "def weighted_mse_loss(y_pred, y_true):\n",
    "    alpha=2.0\n",
    "    error = y_pred - y_true\n",
    "    weights = torch.where(error < 0, alpha, 1.0)  # Heavier penalty for underestimating RUL\n",
    "    return torch.mean(weights * (error ** 2))\n",
    "\n",
    "device = torch.device('cuda' if torch.cuda.is_available() else 'cpu')\n",
    "model = model.to(device)\n",
    "criterion = weighted_mse_loss\n",
    "optimizer = torch.optim.Adam(model.parameters(), lr=0.001, weight_decay=1e-4)\n",
    "scheduler = torch.optim.lr_scheduler.ReduceLROnPlateau(optimizer, 'min', patience=5)\n",
    "\n",
    "def train(\n",
    "    model,\n",
    "    train_loader,\n",
    "    val_loader,\n",
    "    optimizer,\n",
    "    criterion,\n",
    "    device,\n",
    "    epochs,\n",
    "):\n",
    "    train_r2 = []\n",
    "    train_mae = []\n",
    "    train_mse = []\n",
    "    train_rmse = []\n",
    "    train_loss = []\n",
    "\n",
    "    val_r2 = []\n",
    "    val_mae = []\n",
    "    val_mse = []\n",
    "    val_rmse = []\n",
    "    val_loss = []\n",
    "\n",
    "    best_r2 = -float('inf')\n",
    "\n",
    "    for epoch in range(epochs):\n",
    "        model.train()\n",
    "\n",
    "        epoch_train_loss = 0\n",
    "        epoch_train_preds = []\n",
    "        epoch_train_targets = []\n",
    "\n",
    "        for X_batch, y_batch in tqdm(train_loader):\n",
    "            X_batch, y_batch = X_batch.to(device), y_batch.to(device)\n",
    "            \n",
    "            optimizer.zero_grad()\n",
    "            y_pred = model(X_batch).flatten()\n",
    "\n",
    "            epoch_train_preds.append(y_pred)\n",
    "            epoch_train_targets.append(y_batch)\n",
    "\n",
    "            loss = criterion(y_pred, y_batch)\n",
    "            \n",
    "            loss.backward()\n",
    "            optimizer.step()\n",
    "            \n",
    "            epoch_train_loss += loss.item()\n",
    "        \n",
    "        train_preds = torch.cat(epoch_train_preds).cpu().detach().numpy()\n",
    "        train_targets = torch.cat(epoch_train_targets).cpu().detach().numpy()\n",
    "        \n",
    "        epoch_train_r2 = r2_score(train_targets, train_preds)\n",
    "        epoch_train_mae = mean_absolute_error(train_targets, train_preds)\n",
    "        epoch_train_mse = mean_squared_error(train_targets, train_preds)\n",
    "        epoch_train_rmse = np.sqrt(epoch_train_mse)\n",
    "        epoch_train_loss = epoch_train_loss/len(train_loader)\n",
    "        \n",
    "        train_r2.append(epoch_train_r2)\n",
    "        train_mae.append(epoch_train_mae)\n",
    "        train_mse.append(epoch_train_mse)\n",
    "        train_rmse.append(epoch_train_rmse)\n",
    "        train_loss.append(epoch_train_loss)\n",
    "    \n",
    "        print(\n",
    "            f'Epoch {epoch + 1}: Train Loss {epoch_train_loss:.4f}, '\n",
    "                + f'Train R2 = {epoch_train_r2:.3f}, '\n",
    "                + f'Train RMSE = {epoch_train_rmse:.3f}, '\n",
    "                + f'Train MSE = {epoch_train_mse:.3f}, '\n",
    "                + f'Train MAE = {epoch_train_mae:.3f}'\n",
    "                # + f'Train EPS = {epoch_train_eps:.3f}'\n",
    "        )\n",
    "\n",
    "\n",
    "        model.eval()\n",
    "\n",
    "        epoch_val_loss = 0\n",
    "        epoch_val_preds = []\n",
    "        epoch_val_targets = []\n",
    "\n",
    "        with torch.no_grad():\n",
    "            for X_val, y_val in tqdm(val_loader, desc=f'Epoch {epoch + 1} Val'):\n",
    "                X_val, y_val = X_val.to(device), y_val.to(device)\n",
    "\n",
    "                y_pred = model(X_val).flatten()\n",
    "\n",
    "                epoch_val_preds.append(y_pred)\n",
    "                epoch_val_targets.append(y_val)\n",
    "                \n",
    "                epoch_val_loss += criterion(y_pred, y_val).item()\n",
    "\n",
    "        val_preds = torch.cat(epoch_val_preds).cpu().detach().numpy()\n",
    "        val_targets = torch.cat(epoch_val_targets).cpu().detach().numpy()\n",
    "        \n",
    "        epoch_val_r2 = r2_score(val_targets, val_preds)\n",
    "        epoch_val_mae = mean_absolute_error(val_targets, val_preds)\n",
    "        epoch_val_mse = mean_squared_error(val_targets, val_preds)\n",
    "        epoch_val_rmse = np.sqrt(epoch_val_mse)\n",
    "        epoch_val_loss = epoch_val_loss/len(val_loader)\n",
    "        # scheduler.step(epoch_val_loss)\n",
    "        \n",
    "        val_r2.append(epoch_val_r2)\n",
    "        val_mae.append(epoch_val_mae)\n",
    "        val_mse.append(epoch_val_mse)\n",
    "        val_rmse.append(epoch_val_rmse)\n",
    "        val_loss.append(epoch_val_loss)\n",
    "\n",
    "        if val_r2[-1] > best_r2:\n",
    "            best_r2 = val_r2[-1]\n",
    "            torch.save(model.state_dict(), 'best_r2_model.pth')\n",
    "\n",
    "        print(\n",
    "            f'Epoch {epoch + 1}: Val Loss {epoch_val_loss:.4f}, '\n",
    "                + f'Val R2 = {epoch_val_r2:.3f}, '\n",
    "                + f'Val RMSE = {epoch_val_rmse:.3f}, '\n",
    "                + f'Val MSE = {epoch_val_mse:.3f}, '\n",
    "                + f'Val MAE = {epoch_val_mae:.3f}'\n",
    "        ) \n",
    "\n",
    "    return {\n",
    "        'train_loss': train_loss,\n",
    "        'train_r2': train_r2,\n",
    "        'train_mae': train_mae,\n",
    "        'train_mse': train_mse,\n",
    "        'train_rmse': train_rmse,\n",
    "        'val_loss': val_loss,\n",
    "        'val_r2': val_r2,\n",
    "        'val_mae': val_mae,\n",
    "        'val_mse': val_mse,\n",
    "        'val_rmse': val_rmse,\n",
    "    }"
   ]
  },
  {
   "cell_type": "code",
   "execution_count": null,
   "id": "5ce79b4d",
   "metadata": {},
   "outputs": [
    {
     "name": "stderr",
     "output_type": "stream",
     "text": [
      "100%|██████████| 176/176 [00:03<00:00, 48.32it/s]\n"
     ]
    },
    {
     "name": "stdout",
     "output_type": "stream",
     "text": [
      "Epoch 1: Train Loss 0.0414, Train R2 = 0.636, Train RMSE = 0.174, Train MSE = 0.030, Train MAE = 0.102\n"
     ]
    },
    {
     "name": "stderr",
     "output_type": "stream",
     "text": [
      "Epoch 1 Val: 100%|██████████| 72/72 [00:00<00:00, 190.04it/s]\n"
     ]
    },
    {
     "name": "stdout",
     "output_type": "stream",
     "text": [
      "Epoch 1: Val Loss 0.6364, Val R2 = -3.105, Val RMSE = 0.568, Val MSE = 0.322, Val MAE = 0.494\n"
     ]
    },
    {
     "name": "stderr",
     "output_type": "stream",
     "text": [
      "100%|██████████| 176/176 [00:03<00:00, 48.53it/s]\n"
     ]
    },
    {
     "name": "stdout",
     "output_type": "stream",
     "text": [
      "Epoch 2: Train Loss 0.0570, Train R2 = 0.547, Train RMSE = 0.194, Train MSE = 0.038, Train MAE = 0.112\n"
     ]
    },
    {
     "name": "stderr",
     "output_type": "stream",
     "text": [
      "Epoch 2 Val: 100%|██████████| 72/72 [00:00<00:00, 192.37it/s]\n"
     ]
    },
    {
     "name": "stdout",
     "output_type": "stream",
     "text": [
      "Epoch 2: Val Loss 0.6734, Val R2 = -3.344, Val RMSE = 0.584, Val MSE = 0.341, Val MAE = 0.511\n"
     ]
    },
    {
     "name": "stderr",
     "output_type": "stream",
     "text": [
      "100%|██████████| 176/176 [00:03<00:00, 48.33it/s]\n"
     ]
    },
    {
     "name": "stdout",
     "output_type": "stream",
     "text": [
      "Epoch 3: Train Loss 0.0629, Train R2 = 0.528, Train RMSE = 0.198, Train MSE = 0.039, Train MAE = 0.117\n"
     ]
    },
    {
     "name": "stderr",
     "output_type": "stream",
     "text": [
      "Epoch 3 Val: 100%|██████████| 72/72 [00:00<00:00, 193.05it/s]\n"
     ]
    },
    {
     "name": "stdout",
     "output_type": "stream",
     "text": [
      "Epoch 3: Val Loss 0.7584, Val R2 = -3.892, Val RMSE = 0.620, Val MSE = 0.384, Val MAE = 0.550\n"
     ]
    },
    {
     "name": "stderr",
     "output_type": "stream",
     "text": [
      "100%|██████████| 176/176 [00:03<00:00, 48.22it/s]\n"
     ]
    },
    {
     "name": "stdout",
     "output_type": "stream",
     "text": [
      "Epoch 4: Train Loss 0.0626, Train R2 = 0.539, Train RMSE = 0.196, Train MSE = 0.038, Train MAE = 0.115\n"
     ]
    },
    {
     "name": "stderr",
     "output_type": "stream",
     "text": [
      "Epoch 4 Val: 100%|██████████| 72/72 [00:00<00:00, 190.46it/s]\n"
     ]
    },
    {
     "name": "stdout",
     "output_type": "stream",
     "text": [
      "Epoch 4: Val Loss 0.6657, Val R2 = -3.295, Val RMSE = 0.580, Val MSE = 0.337, Val MAE = 0.508\n"
     ]
    },
    {
     "name": "stderr",
     "output_type": "stream",
     "text": [
      "100%|██████████| 176/176 [00:03<00:00, 48.07it/s]\n"
     ]
    },
    {
     "name": "stdout",
     "output_type": "stream",
     "text": [
      "Epoch 5: Train Loss 0.0600, Train R2 = 0.551, Train RMSE = 0.193, Train MSE = 0.037, Train MAE = 0.116\n"
     ]
    },
    {
     "name": "stderr",
     "output_type": "stream",
     "text": [
      "Epoch 5 Val: 100%|██████████| 72/72 [00:00<00:00, 189.70it/s]\n"
     ]
    },
    {
     "name": "stdout",
     "output_type": "stream",
     "text": [
      "Epoch 5: Val Loss 0.6939, Val R2 = -3.476, Val RMSE = 0.593, Val MSE = 0.351, Val MAE = 0.521\n"
     ]
    },
    {
     "name": "stderr",
     "output_type": "stream",
     "text": [
      "100%|██████████| 176/176 [00:03<00:00, 48.14it/s]\n"
     ]
    },
    {
     "name": "stdout",
     "output_type": "stream",
     "text": [
      "Epoch 6: Train Loss 0.0661, Train R2 = 0.518, Train RMSE = 0.200, Train MSE = 0.040, Train MAE = 0.121\n"
     ]
    },
    {
     "name": "stderr",
     "output_type": "stream",
     "text": [
      "Epoch 6 Val: 100%|██████████| 72/72 [00:00<00:00, 188.04it/s]\n"
     ]
    },
    {
     "name": "stdout",
     "output_type": "stream",
     "text": [
      "Epoch 6: Val Loss 0.6417, Val R2 = -3.139, Val RMSE = 0.570, Val MSE = 0.325, Val MAE = 0.496\n"
     ]
    },
    {
     "name": "stderr",
     "output_type": "stream",
     "text": [
      "100%|██████████| 176/176 [00:03<00:00, 48.15it/s]\n"
     ]
    },
    {
     "name": "stdout",
     "output_type": "stream",
     "text": [
      "Epoch 7: Train Loss 0.0700, Train R2 = 0.496, Train RMSE = 0.205, Train MSE = 0.042, Train MAE = 0.127\n"
     ]
    },
    {
     "name": "stderr",
     "output_type": "stream",
     "text": [
      "Epoch 7 Val: 100%|██████████| 72/72 [00:00<00:00, 190.72it/s]\n"
     ]
    },
    {
     "name": "stdout",
     "output_type": "stream",
     "text": [
      "Epoch 7: Val Loss 0.6489, Val R2 = -3.186, Val RMSE = 0.573, Val MSE = 0.328, Val MAE = 0.500\n"
     ]
    },
    {
     "name": "stderr",
     "output_type": "stream",
     "text": [
      "100%|██████████| 176/176 [00:03<00:00, 47.76it/s]\n"
     ]
    },
    {
     "name": "stdout",
     "output_type": "stream",
     "text": [
      "Epoch 8: Train Loss 0.0731, Train R2 = 0.474, Train RMSE = 0.209, Train MSE = 0.044, Train MAE = 0.134\n"
     ]
    },
    {
     "name": "stderr",
     "output_type": "stream",
     "text": [
      "Epoch 8 Val: 100%|██████████| 72/72 [00:00<00:00, 189.28it/s]\n"
     ]
    },
    {
     "name": "stdout",
     "output_type": "stream",
     "text": [
      "Epoch 8: Val Loss 0.4082, Val R2 = -1.635, Val RMSE = 0.455, Val MSE = 0.207, Val MAE = 0.371\n"
     ]
    },
    {
     "name": "stderr",
     "output_type": "stream",
     "text": [
      "100%|██████████| 176/176 [00:03<00:00, 47.58it/s]\n"
     ]
    },
    {
     "name": "stdout",
     "output_type": "stream",
     "text": [
      "Epoch 9: Train Loss 0.0781, Train R2 = 0.436, Train RMSE = 0.217, Train MSE = 0.047, Train MAE = 0.142\n"
     ]
    },
    {
     "name": "stderr",
     "output_type": "stream",
     "text": [
      "Epoch 9 Val: 100%|██████████| 72/72 [00:00<00:00, 187.57it/s]\n"
     ]
    },
    {
     "name": "stdout",
     "output_type": "stream",
     "text": [
      "Epoch 9: Val Loss 0.5918, Val R2 = -2.819, Val RMSE = 0.547, Val MSE = 0.300, Val MAE = 0.473\n"
     ]
    },
    {
     "name": "stderr",
     "output_type": "stream",
     "text": [
      "100%|██████████| 176/176 [00:03<00:00, 47.31it/s]\n"
     ]
    },
    {
     "name": "stdout",
     "output_type": "stream",
     "text": [
      "Epoch 10: Train Loss 0.0818, Train R2 = 0.413, Train RMSE = 0.221, Train MSE = 0.049, Train MAE = 0.153\n"
     ]
    },
    {
     "name": "stderr",
     "output_type": "stream",
     "text": [
      "Epoch 10 Val: 100%|██████████| 72/72 [00:00<00:00, 188.59it/s]\n"
     ]
    },
    {
     "name": "stdout",
     "output_type": "stream",
     "text": [
      "Epoch 10: Val Loss 0.5849, Val R2 = -2.774, Val RMSE = 0.544, Val MSE = 0.296, Val MAE = 0.466\n"
     ]
    },
    {
     "name": "stderr",
     "output_type": "stream",
     "text": [
      "100%|██████████| 176/176 [00:03<00:00, 46.45it/s]\n"
     ]
    },
    {
     "name": "stdout",
     "output_type": "stream",
     "text": [
      "Epoch 11: Train Loss 0.0827, Train R2 = 0.412, Train RMSE = 0.221, Train MSE = 0.049, Train MAE = 0.154\n"
     ]
    },
    {
     "name": "stderr",
     "output_type": "stream",
     "text": [
      "Epoch 11 Val: 100%|██████████| 72/72 [00:00<00:00, 186.99it/s]\n"
     ]
    },
    {
     "name": "stdout",
     "output_type": "stream",
     "text": [
      "Epoch 11: Val Loss 0.5129, Val R2 = -2.309, Val RMSE = 0.510, Val MSE = 0.260, Val MAE = 0.430\n"
     ]
    },
    {
     "name": "stderr",
     "output_type": "stream",
     "text": [
      "100%|██████████| 176/176 [00:03<00:00, 44.55it/s]\n"
     ]
    },
    {
     "name": "stdout",
     "output_type": "stream",
     "text": [
      "Epoch 12: Train Loss 0.0828, Train R2 = 0.400, Train RMSE = 0.223, Train MSE = 0.050, Train MAE = 0.157\n"
     ]
    },
    {
     "name": "stderr",
     "output_type": "stream",
     "text": [
      "Epoch 12 Val: 100%|██████████| 72/72 [00:00<00:00, 186.11it/s]\n"
     ]
    },
    {
     "name": "stdout",
     "output_type": "stream",
     "text": [
      "Epoch 12: Val Loss 0.4347, Val R2 = -1.806, Val RMSE = 0.469, Val MSE = 0.220, Val MAE = 0.390\n"
     ]
    },
    {
     "name": "stderr",
     "output_type": "stream",
     "text": [
      "100%|██████████| 176/176 [00:04<00:00, 43.62it/s]\n"
     ]
    },
    {
     "name": "stdout",
     "output_type": "stream",
     "text": [
      "Epoch 13: Train Loss 0.1015, Train R2 = 0.306, Train RMSE = 0.240, Train MSE = 0.058, Train MAE = 0.163\n"
     ]
    },
    {
     "name": "stderr",
     "output_type": "stream",
     "text": [
      "Epoch 13 Val: 100%|██████████| 72/72 [00:00<00:00, 178.00it/s]\n"
     ]
    },
    {
     "name": "stdout",
     "output_type": "stream",
     "text": [
      "Epoch 13: Val Loss 0.6118, Val R2 = -2.947, Val RMSE = 0.557, Val MSE = 0.310, Val MAE = 0.482\n"
     ]
    },
    {
     "name": "stderr",
     "output_type": "stream",
     "text": [
      "100%|██████████| 176/176 [00:04<00:00, 42.21it/s]\n"
     ]
    },
    {
     "name": "stdout",
     "output_type": "stream",
     "text": [
      "Epoch 14: Train Loss 0.0732, Train R2 = 0.454, Train RMSE = 0.213, Train MSE = 0.045, Train MAE = 0.155\n"
     ]
    },
    {
     "name": "stderr",
     "output_type": "stream",
     "text": [
      "Epoch 14 Val: 100%|██████████| 72/72 [00:00<00:00, 179.17it/s]\n"
     ]
    },
    {
     "name": "stdout",
     "output_type": "stream",
     "text": [
      "Epoch 14: Val Loss 0.3783, Val R2 = -1.447, Val RMSE = 0.438, Val MSE = 0.192, Val MAE = 0.361\n"
     ]
    },
    {
     "name": "stderr",
     "output_type": "stream",
     "text": [
      "100%|██████████| 176/176 [00:04<00:00, 39.53it/s]\n"
     ]
    },
    {
     "name": "stdout",
     "output_type": "stream",
     "text": [
      "Epoch 15: Train Loss 0.0866, Train R2 = 0.370, Train RMSE = 0.229, Train MSE = 0.052, Train MAE = 0.166\n"
     ]
    },
    {
     "name": "stderr",
     "output_type": "stream",
     "text": [
      "Epoch 15 Val: 100%|██████████| 72/72 [00:00<00:00, 174.49it/s]\n"
     ]
    },
    {
     "name": "stdout",
     "output_type": "stream",
     "text": [
      "Epoch 15: Val Loss 0.2756, Val R2 = -0.803, Val RMSE = 0.376, Val MSE = 0.141, Val MAE = 0.305\n"
     ]
    },
    {
     "name": "stderr",
     "output_type": "stream",
     "text": [
      "100%|██████████| 176/176 [00:04<00:00, 39.44it/s]\n"
     ]
    },
    {
     "name": "stdout",
     "output_type": "stream",
     "text": [
      "Epoch 16: Train Loss 0.0704, Train R2 = 0.491, Train RMSE = 0.206, Train MSE = 0.042, Train MAE = 0.147\n"
     ]
    },
    {
     "name": "stderr",
     "output_type": "stream",
     "text": [
      "Epoch 16 Val: 100%|██████████| 72/72 [00:00<00:00, 168.81it/s]\n"
     ]
    },
    {
     "name": "stdout",
     "output_type": "stream",
     "text": [
      "Epoch 16: Val Loss 0.3672, Val R2 = -1.374, Val RMSE = 0.432, Val MSE = 0.186, Val MAE = 0.352\n"
     ]
    },
    {
     "name": "stderr",
     "output_type": "stream",
     "text": [
      "100%|██████████| 176/176 [00:04<00:00, 38.63it/s]\n"
     ]
    },
    {
     "name": "stdout",
     "output_type": "stream",
     "text": [
      "Epoch 17: Train Loss 0.0750, Train R2 = 0.456, Train RMSE = 0.213, Train MSE = 0.045, Train MAE = 0.149\n"
     ]
    },
    {
     "name": "stderr",
     "output_type": "stream",
     "text": [
      "Epoch 17 Val: 100%|██████████| 72/72 [00:00<00:00, 153.32it/s]\n"
     ]
    },
    {
     "name": "stdout",
     "output_type": "stream",
     "text": [
      "Epoch 17: Val Loss 0.5529, Val R2 = -2.569, Val RMSE = 0.529, Val MSE = 0.280, Val MAE = 0.459\n"
     ]
    },
    {
     "name": "stderr",
     "output_type": "stream",
     "text": [
      "100%|██████████| 176/176 [00:04<00:00, 38.77it/s]\n"
     ]
    },
    {
     "name": "stdout",
     "output_type": "stream",
     "text": [
      "Epoch 18: Train Loss 0.0558, Train R2 = 0.588, Train RMSE = 0.185, Train MSE = 0.034, Train MAE = 0.132\n"
     ]
    },
    {
     "name": "stderr",
     "output_type": "stream",
     "text": [
      "Epoch 18 Val: 100%|██████████| 72/72 [00:00<00:00, 157.15it/s]\n"
     ]
    },
    {
     "name": "stdout",
     "output_type": "stream",
     "text": [
      "Epoch 18: Val Loss 0.5046, Val R2 = -2.255, Val RMSE = 0.505, Val MSE = 0.255, Val MAE = 0.426\n"
     ]
    },
    {
     "name": "stderr",
     "output_type": "stream",
     "text": [
      "100%|██████████| 176/176 [00:04<00:00, 38.83it/s]\n"
     ]
    },
    {
     "name": "stdout",
     "output_type": "stream",
     "text": [
      "Epoch 19: Train Loss 0.0544, Train R2 = 0.605, Train RMSE = 0.181, Train MSE = 0.033, Train MAE = 0.122\n"
     ]
    },
    {
     "name": "stderr",
     "output_type": "stream",
     "text": [
      "Epoch 19 Val: 100%|██████████| 72/72 [00:00<00:00, 155.81it/s]\n"
     ]
    },
    {
     "name": "stdout",
     "output_type": "stream",
     "text": [
      "Epoch 19: Val Loss 0.1391, Val R2 = -0.137, Val RMSE = 0.299, Val MSE = 0.089, Val MAE = 0.239\n"
     ]
    },
    {
     "name": "stderr",
     "output_type": "stream",
     "text": [
      "100%|██████████| 176/176 [00:04<00:00, 38.76it/s]\n"
     ]
    },
    {
     "name": "stdout",
     "output_type": "stream",
     "text": [
      "Epoch 20: Train Loss 0.0407, Train R2 = 0.698, Train RMSE = 0.158, Train MSE = 0.025, Train MAE = 0.108\n"
     ]
    },
    {
     "name": "stderr",
     "output_type": "stream",
     "text": [
      "Epoch 20 Val: 100%|██████████| 72/72 [00:00<00:00, 155.81it/s]\n"
     ]
    },
    {
     "name": "stdout",
     "output_type": "stream",
     "text": [
      "Epoch 20: Val Loss 0.6401, Val R2 = -3.139, Val RMSE = 0.570, Val MSE = 0.325, Val MAE = 0.500\n"
     ]
    },
    {
     "name": "stderr",
     "output_type": "stream",
     "text": [
      "100%|██████████| 176/176 [00:04<00:00, 38.80it/s]\n"
     ]
    },
    {
     "name": "stdout",
     "output_type": "stream",
     "text": [
      "Epoch 21: Train Loss 0.0377, Train R2 = 0.720, Train RMSE = 0.153, Train MSE = 0.023, Train MAE = 0.101\n"
     ]
    },
    {
     "name": "stderr",
     "output_type": "stream",
     "text": [
      "Epoch 21 Val: 100%|██████████| 72/72 [00:00<00:00, 157.39it/s]\n"
     ]
    },
    {
     "name": "stdout",
     "output_type": "stream",
     "text": [
      "Epoch 21: Val Loss 0.4155, Val R2 = -1.691, Val RMSE = 0.460, Val MSE = 0.211, Val MAE = 0.368\n"
     ]
    },
    {
     "name": "stderr",
     "output_type": "stream",
     "text": [
      "100%|██████████| 176/176 [00:04<00:00, 37.82it/s]\n"
     ]
    },
    {
     "name": "stdout",
     "output_type": "stream",
     "text": [
      "Epoch 22: Train Loss 0.0492, Train R2 = 0.633, Train RMSE = 0.175, Train MSE = 0.031, Train MAE = 0.120\n"
     ]
    },
    {
     "name": "stderr",
     "output_type": "stream",
     "text": [
      "Epoch 22 Val: 100%|██████████| 72/72 [00:00<00:00, 156.57it/s]\n"
     ]
    },
    {
     "name": "stdout",
     "output_type": "stream",
     "text": [
      "Epoch 22: Val Loss 0.1376, Val R2 = -0.580, Val RMSE = 0.352, Val MSE = 0.124, Val MAE = 0.295\n"
     ]
    },
    {
     "name": "stderr",
     "output_type": "stream",
     "text": [
      "100%|██████████| 176/176 [00:04<00:00, 36.94it/s]\n"
     ]
    },
    {
     "name": "stdout",
     "output_type": "stream",
     "text": [
      "Epoch 23: Train Loss 0.0381, Train R2 = 0.705, Train RMSE = 0.157, Train MSE = 0.025, Train MAE = 0.113\n"
     ]
    },
    {
     "name": "stderr",
     "output_type": "stream",
     "text": [
      "Epoch 23 Val: 100%|██████████| 72/72 [00:00<00:00, 152.34it/s]\n"
     ]
    },
    {
     "name": "stdout",
     "output_type": "stream",
     "text": [
      "Epoch 23: Val Loss 0.1367, Val R2 = -0.019, Val RMSE = 0.283, Val MSE = 0.080, Val MAE = 0.240\n"
     ]
    },
    {
     "name": "stderr",
     "output_type": "stream",
     "text": [
      "100%|██████████| 176/176 [00:04<00:00, 36.05it/s]\n"
     ]
    },
    {
     "name": "stdout",
     "output_type": "stream",
     "text": [
      "Epoch 24: Train Loss 0.0595, Train R2 = 0.587, Train RMSE = 0.185, Train MSE = 0.034, Train MAE = 0.115\n"
     ]
    },
    {
     "name": "stderr",
     "output_type": "stream",
     "text": [
      "Epoch 24 Val: 100%|██████████| 72/72 [00:00<00:00, 152.43it/s]\n"
     ]
    },
    {
     "name": "stdout",
     "output_type": "stream",
     "text": [
      "Epoch 24: Val Loss 0.5146, Val R2 = -2.322, Val RMSE = 0.511, Val MSE = 0.261, Val MAE = 0.433\n"
     ]
    },
    {
     "name": "stderr",
     "output_type": "stream",
     "text": [
      "100%|██████████| 176/176 [00:05<00:00, 34.88it/s]\n"
     ]
    },
    {
     "name": "stdout",
     "output_type": "stream",
     "text": [
      "Epoch 25: Train Loss 0.0549, Train R2 = 0.580, Train RMSE = 0.187, Train MSE = 0.035, Train MAE = 0.128\n"
     ]
    },
    {
     "name": "stderr",
     "output_type": "stream",
     "text": [
      "Epoch 25 Val: 100%|██████████| 72/72 [00:00<00:00, 152.26it/s]\n"
     ]
    },
    {
     "name": "stdout",
     "output_type": "stream",
     "text": [
      "Epoch 25: Val Loss 0.7405, Val R2 = -3.778, Val RMSE = 0.612, Val MSE = 0.375, Val MAE = 0.543\n"
     ]
    },
    {
     "name": "stderr",
     "output_type": "stream",
     "text": [
      "100%|██████████| 176/176 [00:05<00:00, 34.44it/s]\n"
     ]
    },
    {
     "name": "stdout",
     "output_type": "stream",
     "text": [
      "Epoch 26: Train Loss 0.0769, Train R2 = 0.451, Train RMSE = 0.214, Train MSE = 0.046, Train MAE = 0.147\n"
     ]
    },
    {
     "name": "stderr",
     "output_type": "stream",
     "text": [
      "Epoch 26 Val: 100%|██████████| 72/72 [00:00<00:00, 145.06it/s]\n"
     ]
    },
    {
     "name": "stdout",
     "output_type": "stream",
     "text": [
      "Epoch 26: Val Loss 0.5795, Val R2 = -2.744, Val RMSE = 0.542, Val MSE = 0.294, Val MAE = 0.475\n"
     ]
    },
    {
     "name": "stderr",
     "output_type": "stream",
     "text": [
      "100%|██████████| 176/176 [00:05<00:00, 33.08it/s]\n"
     ]
    },
    {
     "name": "stdout",
     "output_type": "stream",
     "text": [
      "Epoch 27: Train Loss 0.0745, Train R2 = 0.473, Train RMSE = 0.210, Train MSE = 0.044, Train MAE = 0.137\n"
     ]
    },
    {
     "name": "stderr",
     "output_type": "stream",
     "text": [
      "Epoch 27 Val: 100%|██████████| 72/72 [00:00<00:00, 145.73it/s]\n"
     ]
    },
    {
     "name": "stdout",
     "output_type": "stream",
     "text": [
      "Epoch 27: Val Loss 0.6471, Val R2 = -3.180, Val RMSE = 0.573, Val MSE = 0.328, Val MAE = 0.493\n"
     ]
    },
    {
     "name": "stderr",
     "output_type": "stream",
     "text": [
      "100%|██████████| 176/176 [00:05<00:00, 32.97it/s]\n"
     ]
    },
    {
     "name": "stdout",
     "output_type": "stream",
     "text": [
      "Epoch 28: Train Loss 0.0638, Train R2 = 0.535, Train RMSE = 0.197, Train MSE = 0.039, Train MAE = 0.134\n"
     ]
    },
    {
     "name": "stderr",
     "output_type": "stream",
     "text": [
      "Epoch 28 Val: 100%|██████████| 72/72 [00:00<00:00, 145.33it/s]\n"
     ]
    },
    {
     "name": "stdout",
     "output_type": "stream",
     "text": [
      "Epoch 28: Val Loss 0.4805, Val R2 = -2.104, Val RMSE = 0.493, Val MSE = 0.244, Val MAE = 0.427\n"
     ]
    },
    {
     "name": "stderr",
     "output_type": "stream",
     "text": [
      "100%|██████████| 176/176 [00:05<00:00, 32.58it/s]\n"
     ]
    },
    {
     "name": "stdout",
     "output_type": "stream",
     "text": [
      "Epoch 29: Train Loss 0.0584, Train R2 = 0.551, Train RMSE = 0.193, Train MSE = 0.037, Train MAE = 0.141\n"
     ]
    },
    {
     "name": "stderr",
     "output_type": "stream",
     "text": [
      "Epoch 29 Val: 100%|██████████| 72/72 [00:00<00:00, 139.10it/s]\n"
     ]
    },
    {
     "name": "stdout",
     "output_type": "stream",
     "text": [
      "Epoch 29: Val Loss 1.4753, Val R2 = -8.520, Val RMSE = 0.864, Val MSE = 0.747, Val MAE = 0.816\n"
     ]
    },
    {
     "name": "stderr",
     "output_type": "stream",
     "text": [
      "100%|██████████| 176/176 [00:05<00:00, 32.36it/s]\n"
     ]
    },
    {
     "name": "stdout",
     "output_type": "stream",
     "text": [
      "Epoch 30: Train Loss 0.0515, Train R2 = 0.588, Train RMSE = 0.185, Train MSE = 0.034, Train MAE = 0.140\n"
     ]
    },
    {
     "name": "stderr",
     "output_type": "stream",
     "text": [
      "Epoch 30 Val: 100%|██████████| 72/72 [00:00<00:00, 145.89it/s]"
     ]
    },
    {
     "name": "stdout",
     "output_type": "stream",
     "text": [
      "Epoch 30: Val Loss 1.5819, Val R2 = -9.214, Val RMSE = 0.895, Val MSE = 0.801, Val MAE = 0.847\n"
     ]
    },
    {
     "name": "stderr",
     "output_type": "stream",
     "text": [
      "\n"
     ]
    },
    {
     "data": {
      "text/plain": [
       "{'train_loss': [0.04140019124712457,\n",
       "  0.05699100966607644,\n",
       "  0.06285750378050249,\n",
       "  0.06261658966700039,\n",
       "  0.05998015988139245,\n",
       "  0.06611885063069746,\n",
       "  0.0699895483452234,\n",
       "  0.07307334814421748,\n",
       "  0.07813045030078766,\n",
       "  0.08180463473862884,\n",
       "  0.08272845767814116,\n",
       "  0.08279615720014342,\n",
       "  0.10150059582189318,\n",
       "  0.07317083897545341,\n",
       "  0.0866252026607981,\n",
       "  0.07042941497109662,\n",
       "  0.07497261196575974,\n",
       "  0.05575933992539914,\n",
       "  0.05442027488474692,\n",
       "  0.04068835209314288,\n",
       "  0.03768316302078099,\n",
       "  0.049160407012757125,\n",
       "  0.03814874771474437,\n",
       "  0.0594881954457378,\n",
       "  0.05492221634895858,\n",
       "  0.07689697154935195,\n",
       "  0.07454842771138911,\n",
       "  0.06377575383124746,\n",
       "  0.058440450598771516,\n",
       "  0.051484323125226765],\n",
       " 'train_r2': [0.6357266251315346,\n",
       "  0.5472881535812372,\n",
       "  0.5279132323338191,\n",
       "  0.5392019983734347,\n",
       "  0.5513343296496005,\n",
       "  0.5182013854785252,\n",
       "  0.49598686448251905,\n",
       "  0.4739286606267782,\n",
       "  0.4363657402432103,\n",
       "  0.4129664008498727,\n",
       "  0.41170935972037115,\n",
       "  0.40020084570179193,\n",
       "  0.30560195205761687,\n",
       "  0.4539534586763393,\n",
       "  0.37023906576528454,\n",
       "  0.49072226936607954,\n",
       "  0.45574939218350385,\n",
       "  0.5883122039975572,\n",
       "  0.6050720345979252,\n",
       "  0.6984018460941761,\n",
       "  0.7200964803108632,\n",
       "  0.6329661295701134,\n",
       "  0.7048993240182104,\n",
       "  0.5870007341950172,\n",
       "  0.5804685390300669,\n",
       "  0.4512507711256657,\n",
       "  0.4727609975655521,\n",
       "  0.5350466425458742,\n",
       "  0.5510163176255434,\n",
       "  0.5878277479108507],\n",
       " 'train_mae': [0.10213472,\n",
       "  0.11182471,\n",
       "  0.11682096,\n",
       "  0.11497634,\n",
       "  0.11582081,\n",
       "  0.12146753,\n",
       "  0.12703303,\n",
       "  0.13396265,\n",
       "  0.14186363,\n",
       "  0.15335777,\n",
       "  0.15366672,\n",
       "  0.15677036,\n",
       "  0.16270092,\n",
       "  0.15527801,\n",
       "  0.16646917,\n",
       "  0.14727913,\n",
       "  0.1491453,\n",
       "  0.13194759,\n",
       "  0.12189527,\n",
       "  0.10772167,\n",
       "  0.10063193,\n",
       "  0.11975072,\n",
       "  0.113215074,\n",
       "  0.11453768,\n",
       "  0.12800743,\n",
       "  0.1472519,\n",
       "  0.1372836,\n",
       "  0.13359274,\n",
       "  0.1409407,\n",
       "  0.1403867],\n",
       " 'train_mse': [0.03033662,\n",
       "  0.037701763,\n",
       "  0.039315302,\n",
       "  0.03837518,\n",
       "  0.0373648,\n",
       "  0.040124103,\n",
       "  0.041974124,\n",
       "  0.043811128,\n",
       "  0.04693936,\n",
       "  0.048888054,\n",
       "  0.04899274,\n",
       "  0.04995117,\n",
       "  0.05782935,\n",
       "  0.04547466,\n",
       "  0.052446377,\n",
       "  0.04241256,\n",
       "  0.045325093,\n",
       "  0.03428529,\n",
       "  0.03288953,\n",
       "  0.02511704,\n",
       "  0.023310313,\n",
       "  0.03056652,\n",
       "  0.024575932,\n",
       "  0.034394506,\n",
       "  0.034938503,\n",
       "  0.04569974,\n",
       "  0.04390837,\n",
       "  0.038721234,\n",
       "  0.037391283,\n",
       "  0.034325633],\n",
       " 'train_rmse': [0.17417412,\n",
       "  0.19416942,\n",
       "  0.19828087,\n",
       "  0.19589584,\n",
       "  0.19329977,\n",
       "  0.20031002,\n",
       "  0.20487587,\n",
       "  0.20931108,\n",
       "  0.21665494,\n",
       "  0.22110642,\n",
       "  0.22134304,\n",
       "  0.22349758,\n",
       "  0.24047734,\n",
       "  0.21324788,\n",
       "  0.22901174,\n",
       "  0.2059431,\n",
       "  0.21289691,\n",
       "  0.18516287,\n",
       "  0.1813547,\n",
       "  0.15848356,\n",
       "  0.15267715,\n",
       "  0.17483284,\n",
       "  0.15676713,\n",
       "  0.18545756,\n",
       "  0.18691844,\n",
       "  0.21377498,\n",
       "  0.20954324,\n",
       "  0.19677712,\n",
       "  0.19336826,\n",
       "  0.18527178],\n",
       " 'val_loss': [0.6363536434978919,\n",
       "  0.6733764937511952,\n",
       "  0.7583969414081366,\n",
       "  0.6657363927292358,\n",
       "  0.693850605642284,\n",
       "  0.6416733689099298,\n",
       "  0.648871714809502,\n",
       "  0.4082316154391871,\n",
       "  0.5918488100352179,\n",
       "  0.5849117544518473,\n",
       "  0.5128626925956168,\n",
       "  0.4347035166191644,\n",
       "  0.6118200811842043,\n",
       "  0.37826406864395623,\n",
       "  0.2755899458217957,\n",
       "  0.36723909371913677,\n",
       "  0.5529438223085081,\n",
       "  0.5046430027418864,\n",
       "  0.1391463517502416,\n",
       "  0.6401175503399119,\n",
       "  0.4155057534559698,\n",
       "  0.1375588195773566,\n",
       "  0.13666794554673187,\n",
       "  0.5146429721004703,\n",
       "  0.7404601044965804,\n",
       "  0.5794766397512932,\n",
       "  0.6471435841651529,\n",
       "  0.4805091319948487,\n",
       "  1.4753434441776738,\n",
       "  1.5818556816731062],\n",
       " 'val_r2': [-3.1048628199556045,\n",
       "  -3.343947740643646,\n",
       "  -3.892396579188371,\n",
       "  -3.294647378038966,\n",
       "  -3.4760106635795562,\n",
       "  -3.139419057727066,\n",
       "  -3.185871239519993,\n",
       "  -1.634962130310536,\n",
       "  -2.818964896546695,\n",
       "  -2.7740066506192553,\n",
       "  -2.309186761000614,\n",
       "  -1.8063446539578334,\n",
       "  -2.947351629013143,\n",
       "  -1.4465408376441786,\n",
       "  -0.8033473301555172,\n",
       "  -1.3744445830623504,\n",
       "  -2.568704605911352,\n",
       "  -2.255208013687533,\n",
       "  -0.1366538899940679,\n",
       "  -3.1385538516772824,\n",
       "  -1.6913284053307631,\n",
       "  -0.5801417754892797,\n",
       "  -0.018977256934250564,\n",
       "  -2.32238967421629,\n",
       "  -3.7781401893590747,\n",
       "  -2.7438898605578097,\n",
       "  -3.1800215251936486,\n",
       "  -2.1039196404564118,\n",
       "  -8.520139300223581,\n",
       "  -9.21382427283276],\n",
       " 'val_mae': [0.4939274,\n",
       "  0.51070654,\n",
       "  0.5498125,\n",
       "  0.5077129,\n",
       "  0.5211302,\n",
       "  0.49572486,\n",
       "  0.50003606,\n",
       "  0.37146926,\n",
       "  0.47325447,\n",
       "  0.46625656,\n",
       "  0.43020436,\n",
       "  0.38960746,\n",
       "  0.48230103,\n",
       "  0.3606712,\n",
       "  0.30495286,\n",
       "  0.3522262,\n",
       "  0.4587259,\n",
       "  0.42586875,\n",
       "  0.23897226,\n",
       "  0.4999344,\n",
       "  0.36809006,\n",
       "  0.29473898,\n",
       "  0.2400355,\n",
       "  0.43282592,\n",
       "  0.543117,\n",
       "  0.47522348,\n",
       "  0.49277893,\n",
       "  0.42746627,\n",
       "  0.8159805,\n",
       "  0.8466114],\n",
       " 'val_mse': [0.3220727,\n",
       "  0.3408316,\n",
       "  0.38386363,\n",
       "  0.33696344,\n",
       "  0.35119346,\n",
       "  0.32478404,\n",
       "  0.32842872,\n",
       "  0.20674245,\n",
       "  0.29964077,\n",
       "  0.2961133,\n",
       "  0.25964296,\n",
       "  0.22018935,\n",
       "  0.3097142,\n",
       "  0.1919587,\n",
       "  0.1414929,\n",
       "  0.18630193,\n",
       "  0.28000504,\n",
       "  0.25540772,\n",
       "  0.0891833,\n",
       "  0.32471615,\n",
       "  0.21116503,\n",
       "  0.12397991,\n",
       "  0.07995024,\n",
       "  0.2606789,\n",
       "  0.3748989,\n",
       "  0.2937503,\n",
       "  0.32796976,\n",
       "  0.24353744,\n",
       "  0.74696213,\n",
       "  0.8013896],\n",
       " 'val_rmse': [0.5675145,\n",
       "  0.5838078,\n",
       "  0.6195673,\n",
       "  0.5804855,\n",
       "  0.5926158,\n",
       "  0.56989825,\n",
       "  0.573087,\n",
       "  0.4546894,\n",
       "  0.5473945,\n",
       "  0.5441629,\n",
       "  0.5095517,\n",
       "  0.46924338,\n",
       "  0.55651975,\n",
       "  0.43813092,\n",
       "  0.37615544,\n",
       "  0.43162706,\n",
       "  0.529155,\n",
       "  0.5053788,\n",
       "  0.29863572,\n",
       "  0.5698387,\n",
       "  0.45952696,\n",
       "  0.35210782,\n",
       "  0.28275475,\n",
       "  0.51056725,\n",
       "  0.6122899,\n",
       "  0.54198736,\n",
       "  0.57268643,\n",
       "  0.49349514,\n",
       "  0.86426973,\n",
       "  0.89520365]}"
      ]
     },
     "execution_count": 136,
     "metadata": {},
     "output_type": "execute_result"
    }
   ],
   "source": [
    "train_results = train(model, train_loader, val_loader, optimizer, criterion, device, 30)\n",
    "\n",
    "train_results"
   ]
  },
  {
   "cell_type": "code",
   "execution_count": 137,
   "id": "a2b068a5",
   "metadata": {},
   "outputs": [],
   "source": [
    "def plot_training_history(loss_history, metric_history=None):\n",
    "    plt.figure(figsize=(12, 5))\n",
    "\n",
    "    # Loss plot\n",
    "    plt.subplot(1, 2, 1)\n",
    "    plt.plot(loss_history, label='Training Loss')\n",
    "    plt.title('Training Loss Curve')\n",
    "    plt.xlabel('Epoch')\n",
    "    plt.ylabel('Loss')\n",
    "    plt.grid(True)\n",
    "    \n",
    "    # Metrics plot\n",
    "    if metric_history:\n",
    "        plt.subplot(1, 2, 2)\n",
    "        for metric_name, values in metric_history.items():\n",
    "            plt.plot(values, label=metric_name)\n",
    "        plt.title('Training Metrics')\n",
    "        plt.xlabel('Epoch')\n",
    "        plt.ylabel('Metric Value')\n",
    "        plt.grid(True)\n",
    "        plt.legend()\n",
    "    \n",
    "    plt.tight_layout()\n",
    "    plt.show()\n",
    "\n",
    "def plot_predictions_vs_actuals(y_true, y_pred, title='Predictions vs True Values'):\n",
    "    plt.figure(figsize=(12, 6))\n",
    "    plt.plot(y_true, label='True Values', linewidth=2)\n",
    "    plt.plot(y_pred, label='Predictions', linestyle='--')\n",
    "    plt.xlabel('Time Step')\n",
    "    plt.ylabel('Value')\n",
    "    plt.title(title)\n",
    "    plt.legend()\n",
    "    plt.grid(True)\n",
    "    plt.show()\n",
    "\n"
   ]
  },
  {
   "cell_type": "code",
   "execution_count": 138,
   "id": "546655a0",
   "metadata": {},
   "outputs": [
    {
     "data": {
      "image/png": "[encoded data removed]",
      "text/plain": [
       "<Figure size 1200x500 with 2 Axes>"
      ]
     },
     "metadata": {},
     "output_type": "display_data"
    }
   ],
   "source": [
    "plot_training_history(\n",
    "    train_results['train_loss'],\n",
    "    {\n",
    "        'rmse': train_results['train_rmse'],\n",
    "        'mae': train_results['train_mae'],\n",
    "        'mse': train_results['train_mse'],\n",
    "        'r2': train_results['train_r2'],\n",
    "    }\n",
    ")"
   ]
  },
  {
   "cell_type": "code",
   "execution_count": 139,
   "id": "400eea63",
   "metadata": {},
   "outputs": [
    {
     "data": {
      "text/plain": [
       "113"
      ]
     },
     "execution_count": 139,
     "metadata": {},
     "output_type": "execute_result"
    }
   ],
   "source": [
    "len(test_loader)"
   ]
  },
  {
   "cell_type": "code",
   "execution_count": 143,
   "id": "15c351fd",
   "metadata": {},
   "outputs": [],
   "source": [
    "model.load_state_dict(torch.load('best_r2_model.pth', weights_only=True))\n",
    "\n",
    "def test(\n",
    "    model,\n",
    "    test_loader,\n",
    "    device,\n",
    "):\n",
    "    model.eval()\n",
    "\n",
    "    test_preds = []\n",
    "    test_targets = []\n",
    "\n",
    "    test_r2 = []\n",
    "    test_mae = []\n",
    "    test_mse = []\n",
    "    test_rmse = []\n",
    "    # test_eps = []\n",
    "    \n",
    "    rul = torch.ones((len(test_loader),)).to(device)\n",
    "\n",
    "    with torch.no_grad():\n",
    "        for i, (data, labels) in enumerate(tqdm(test_loader)):\n",
    "            time_frac = torch.linspace(0, 1, steps=labels.shape[0]).unsqueeze(1).to(device)\n",
    "            data = data.to(device)\n",
    "            labels = labels.to(device)\n",
    "            # print(time_frac.shape, \"SHAPE X\", data.shape)\n",
    "            predictions = model(data).flatten()\n",
    "            \n",
    "            # predictions = torch.cummin(predictions.flip(0), dim=0).values.flip(-1)\n",
    "\n",
    "            test_preds.append(predictions)\n",
    "            test_targets.append(labels)\n",
    "\n",
    "        test_preds = torch.cat(test_preds).cpu().detach().numpy()\n",
    "        test_targets = torch.cat(test_targets).cpu().detach().numpy()\n",
    "\n",
    "        mse = mean_squared_error(test_targets, test_preds)\n",
    "\n",
    "        test_r2.append(r2_score(test_targets, test_preds))\n",
    "        test_mae.append(mean_absolute_error(test_targets, test_preds))\n",
    "        test_mse.append(mse)\n",
    "        test_rmse.append(np.sqrt(mse))\n",
    "        # test_eps.append(early_prediction_score(test_targets, test_preds))\n",
    "\n",
    "    return {\n",
    "        'test_r2': test_r2,\n",
    "        'test_mae': test_mae,\n",
    "        'test_mse': test_mse,\n",
    "        'test_rmse': test_rmse,\n",
    "        'test_preds': test_preds,\n",
    "        'test_targets': test_targets,\n",
    "    }\n",
    "          "
   ]
  },
  {
   "cell_type": "code",
   "execution_count": 144,
   "id": "e519ea9d",
   "metadata": {},
   "outputs": [
    {
     "name": "stderr",
     "output_type": "stream",
     "text": [
      "100%|██████████| 113/113 [00:00<00:00, 206.97it/s]\n"
     ]
    },
    {
     "data": {
      "text/plain": [
       "{'test_r2': [-1.0219521376528684],\n",
       " 'test_mae': [0.2472288],\n",
       " 'test_mse': [0.09690058],\n",
       " 'test_rmse': [0.3112886],\n",
       " 'test_preds': array([0.3483485 , 0.38082814, 0.37881064, ..., 0.08103932, 0.07857196,\n",
       "        0.10913455], dtype=float32),\n",
       " 'test_targets': array([[0.99962103],\n",
       "        [0.9994105 ],\n",
       "        [0.9992    ],\n",
       "        ...,\n",
       "        [0.24190493],\n",
       "        [0.24169439],\n",
       "        [0.24148385]], dtype=float32)}"
      ]
     },
     "execution_count": 144,
     "metadata": {},
     "output_type": "execute_result"
    }
   ],
   "source": [
    "test_results = test(model, test_loader, device)\n",
    "\n",
    "test_results"
   ]
  },
  {
   "cell_type": "code",
   "execution_count": 146,
   "id": "df88c977",
   "metadata": {},
   "outputs": [
    {
     "data": {
      "image/png": "[encoded data removed]",
      "text/plain": [
       "<Figure size 1200x600 with 1 Axes>"
      ]
     },
     "metadata": {},
     "output_type": "display_data"
    }
   ],
   "source": [
    "plot_predictions_vs_actuals(\n",
    "    test_results['test_targets'],\n",
    "    test_results['test_preds']\n",
    ")"
   ]
  },
  {
   "cell_type": "code",
   "execution_count": null,
   "id": "b00566d8",
   "metadata": {},
   "outputs": [
    {
     "data": {
      "text/plain": [
       "(4602, 1)"
      ]
     },
     "execution_count": 288,
     "metadata": {},
     "output_type": "execute_result"
    }
   ],
   "source": [
    "test_results['test_targets']"
   ]
  },
  {
   "cell_type": "code",
   "execution_count": 300,
   "id": "a238957f",
   "metadata": {},
   "outputs": [
    {
     "data": {
      "text/plain": [
       "array([0.02777791, 0.02777791, 0.02777791, ..., 0.02777791, 0.02777791,\n",
       "       0.02777791], dtype=float32)"
      ]
     },
     "execution_count": 300,
     "metadata": {},
     "output_type": "execute_result"
    }
   ],
   "source": [
    "test_results['test_preds']"
   ]
  },
  {
   "cell_type": "code",
   "execution_count": 151,
   "id": "4b998a87",
   "metadata": {},
   "outputs": [
    {
     "data": {
      "text/plain": [
       "[<matplotlib.lines.Line2D at 0x7fdf5e9b52d0>]"
      ]
     },
     "execution_count": 151,
     "metadata": {},
     "output_type": "execute_result"
    },
    {
     "data": {
      "image/png": "[encoded data removed]",
      "text/plain": [
       "<Figure size 640x480 with 1 Axes>"
      ]
     },
     "metadata": {},
     "output_type": "display_data"
    }
   ],
   "source": [
    "plt.plot(test_results['rul'].cpu().numpy())"
   ]
  },
  {
   "cell_type": "code",
   "execution_count": null,
   "id": "a115a487",
   "metadata": {},
   "outputs": [],
   "source": []
  }
 ],
 "metadata": {
  "kernelspec": {
   "display_name": "bearing_rul",
   "language": "python",
   "name": "python3"
  },
  "language_info": {
   "codemirror_mode": {
    "name": "ipython",
    "version": 3
   },
   "file_extension": ".py",
   "mimetype": "text/x-python",
   "name": "python",
   "nbconvert_exporter": "python",
   "pygments_lexer": "ipython3",
   "version": "3.10.11"
  }
 },
 "nbformat": 4,
 "nbformat_minor": 5
}
