{
 "cells": [
  {
   "cell_type": "code",
   "execution_count": 1,
   "id": "3f31f366",
   "metadata": {},
   "outputs": [
    {
     "name": "stderr",
     "output_type": "stream",
     "text": [
      "/home/stepan/Private/bearing_rul/lib/python3.10/site-packages/xgboost/core.py:377: FutureWarning: Your system has an old version of glibc (< 2.28). We will stop supporting Linux distros with glibc older than 2.28 after **May 31, 2025**. Please upgrade to a recent Linux distro (with glibc >= 2.28) to use future versions of XGBoost.\n",
      "Note: You have installed the 'manylinux2014' variant of XGBoost. Certain features such as GPU algorithms or federated learning are not available. To use these features, please upgrade to a recent Linux distro with glibc 2.28+, and install the 'manylinux_2_28' variant.\n",
      "  warnings.warn(\n"
     ]
    }
   ],
   "source": [
    "import numpy as np\n",
    "import pandas as pd\n",
    "from torch import nn\n",
    "from phmd import datasets\n",
    "from sklearn.preprocessing import MinMaxScaler, StandardScaler, OneHotEncoder, RobustScaler\n",
    "from scipy.stats import kurtosis\n",
    "from scipy.fft import fft\n",
    "from scipy.fft import fft, fftfreq\n",
    "from sklearn.svm import SVR\n",
    "from sklearn.ensemble import RandomForestRegressor\n",
    "from sklearn.metrics import mean_absolute_error, mean_squared_error, r2_score\n",
    "from xgboost import XGBRegressor\n",
    "import matplotlib.pyplot as plt\n",
    "import seaborn as sns\n",
    "import os\n",
    "import torch\n",
    "from tqdm import tqdm"
   ]
  },
  {
   "cell_type": "code",
   "execution_count": 2,
   "id": "dad711b3",
   "metadata": {},
   "outputs": [],
   "source": [
    "def early_prediction_score(y_true, y_pred, alpha=0.5):\n",
    "    errors = y_pred - y_true\n",
    "    # Heavier penalty for late predictions\n",
    "    weights = np.where(errors < 0, alpha, 1)\n",
    "    return np.mean(weights * errors**2)"
   ]
  },
  {
   "cell_type": "code",
   "execution_count": 3,
   "id": "95d37866",
   "metadata": {},
   "outputs": [],
   "source": [
    "TRAIN_BEARINGS = {\n",
    "    1: [\n",
    "        '1_1',\n",
    "        # '1_2',\n",
    "    ],\n",
    "    2: [\n",
    "        '2_1',\n",
    "        '2_2',\n",
    "    ],\n",
    "    3: [\n",
    "        '3_1',\n",
    "        '3_2',\n",
    "    ]\n",
    "}\n",
    "\n",
    "TEST_BEARINGS = {\n",
    "    1: [\n",
    "        '1_3',\n",
    "        '1_4',\n",
    "        '1_5',\n",
    "        '1_6',\n",
    "        '1_7',\n",
    "    ],\n",
    "    2: [\n",
    "        '2_3',\n",
    "        '2_4',\n",
    "        '2_5',\n",
    "        '2_6',\n",
    "        '2_7',\n",
    "    ],\n",
    "    3: [\n",
    "        '3_3',\n",
    "    ]\n",
    "}"
   ]
  },
  {
   "cell_type": "code",
   "execution_count": 4,
   "id": "08d3cf88",
   "metadata": {},
   "outputs": [
    {
     "name": "stdout",
     "output_type": "stream",
     "text": [
      "Remember to cite the original publisher dataset:\n",
      "\t@inproceedings{nectoux2012pronostia,    \n",
      "\t    title={PRONOSTIA: An experimental platform for bearings accelerated degradation tests.},    \n",
      "\t    author={Nectoux, Patrick and Gouriveau, Rafael and Medjaher, Kamal and Ramasso, Emmanuel and Chebel-Morello, Brigitte and Zerhouni, Noureddine and Varnier, Christophe},    \n",
      "\t    booktitle={IEEE International Conference on Prognostics and Health Management, PHM'12.},    \n",
      "\t    pages={1--8},    \n",
      "\t    year={2012},    \n",
      "\t    organization={IEEE Catalog Number: CPF12PHM-CDR}    \n",
      "\t}\n",
      "You can download the dataset manually from:  https://www.nasa.gov/intelligent-systems-division/discovery-and-systems-health/pcoe/pcoe-data-set-repository/\n",
      "\n",
      "** If you find this tool useful, please cite our SoftwareX paper: \n",
      "\tSolís-Martín, David, Juan Galán-Páez, and Joaquín Borrego-Díaz. \"PHMD: An easy data access tool for prognosis and health management datasets.\" SoftwareX 29 (2025): 102039.\n",
      "\n"
     ]
    },
    {
     "name": "stderr",
     "output_type": "stream",
     "text": [
      "Reading Bearing3_2: 100%|██████████| 7534/7534 [00:19<00:00, 384.94it/s]\n",
      "Reading Bearing3_3: 100%|██████████| 13959/13959 [00:35<00:00, 390.76it/s]\n",
      "INFO:root:Read in 57.81956434249878 seconds\n"
     ]
    }
   ],
   "source": [
    "dataset = datasets.Dataset('PRONOSTIA')\n",
    "tasks = dataset['rul']\n",
    "df = tasks.load()"
   ]
  },
  {
   "cell_type": "code",
   "execution_count": 5,
   "id": "58e5a4bd",
   "metadata": {},
   "outputs": [
    {
     "data": {
      "text/plain": [
       "array(['1_1', '1_2', '2_1', '2_2', '3_1', '3_2'], dtype=object)"
      ]
     },
     "execution_count": 5,
     "metadata": {},
     "output_type": "execute_result"
    }
   ],
   "source": [
    "# train\n",
    "df[0]['unit'].unique()"
   ]
  },
  {
   "cell_type": "code",
   "execution_count": 6,
   "id": "9e59c6d2",
   "metadata": {},
   "outputs": [
    {
     "data": {
      "text/html": [
       "<div>\n",
       "<style scoped>\n",
       "    .dataframe tbody tr th:only-of-type {\n",
       "        vertical-align: middle;\n",
       "    }\n",
       "\n",
       "    .dataframe tbody tr th {\n",
       "        vertical-align: top;\n",
       "    }\n",
       "\n",
       "    .dataframe thead th {\n",
       "        text-align: right;\n",
       "    }\n",
       "</style>\n",
       "<table border=\"1\" class=\"dataframe\">\n",
       "  <thead>\n",
       "    <tr style=\"text-align: right;\">\n",
       "      <th></th>\n",
       "      <th>rul</th>\n",
       "      <th>V_acc</th>\n",
       "      <th>H_acc</th>\n",
       "      <th>unit</th>\n",
       "    </tr>\n",
       "  </thead>\n",
       "  <tbody>\n",
       "    <tr>\n",
       "      <th>0</th>\n",
       "      <td>28029</td>\n",
       "      <td>-0.146</td>\n",
       "      <td>0.552</td>\n",
       "      <td>1_1</td>\n",
       "    </tr>\n",
       "    <tr>\n",
       "      <th>1</th>\n",
       "      <td>28029</td>\n",
       "      <td>-0.480</td>\n",
       "      <td>0.501</td>\n",
       "      <td>1_1</td>\n",
       "    </tr>\n",
       "    <tr>\n",
       "      <th>2</th>\n",
       "      <td>28029</td>\n",
       "      <td>0.435</td>\n",
       "      <td>0.138</td>\n",
       "      <td>1_1</td>\n",
       "    </tr>\n",
       "    <tr>\n",
       "      <th>3</th>\n",
       "      <td>28029</td>\n",
       "      <td>0.240</td>\n",
       "      <td>-0.423</td>\n",
       "      <td>1_1</td>\n",
       "    </tr>\n",
       "    <tr>\n",
       "      <th>4</th>\n",
       "      <td>28029</td>\n",
       "      <td>0.020</td>\n",
       "      <td>-0.802</td>\n",
       "      <td>1_1</td>\n",
       "    </tr>\n",
       "  </tbody>\n",
       "</table>\n",
       "</div>"
      ],
      "text/plain": [
       "     rul  V_acc  H_acc unit\n",
       "0  28029 -0.146  0.552  1_1\n",
       "1  28029 -0.480  0.501  1_1\n",
       "2  28029  0.435  0.138  1_1\n",
       "3  28029  0.240 -0.423  1_1\n",
       "4  28029  0.020 -0.802  1_1"
      ]
     },
     "execution_count": 6,
     "metadata": {},
     "output_type": "execute_result"
    }
   ],
   "source": [
    "df[0].head(5)"
   ]
  },
  {
   "cell_type": "code",
   "execution_count": 7,
   "id": "36ab7dee",
   "metadata": {},
   "outputs": [
    {
     "data": {
      "text/plain": [
       "array(['1_3', '1_4', '1_5', '1_6', '1_7', '2_3', '2_4', '2_5', '2_6',\n",
       "       '2_7', '3_3'], dtype=object)"
      ]
     },
     "execution_count": 7,
     "metadata": {},
     "output_type": "execute_result"
    }
   ],
   "source": [
    "# test\n",
    "df[1]['unit'].unique()"
   ]
  },
  {
   "cell_type": "code",
   "execution_count": 8,
   "id": "0b4d16d9",
   "metadata": {},
   "outputs": [
    {
     "data": {
      "text/plain": [
       "0          1_1\n",
       "1          1_1\n",
       "2          1_1\n",
       "3          1_1\n",
       "4          1_1\n",
       "          ... \n",
       "7175675    1_1\n",
       "7175676    1_1\n",
       "7175677    1_1\n",
       "7175678    1_1\n",
       "7175679    1_1\n",
       "Name: unit, Length: 7175680, dtype: object"
      ]
     },
     "execution_count": 8,
     "metadata": {},
     "output_type": "execute_result"
    }
   ],
   "source": [
    "df[0][df[0]['unit'].isin(TRAIN_BEARINGS[1])]['unit']"
   ]
  },
  {
   "cell_type": "code",
   "execution_count": 9,
   "id": "c6ecf741",
   "metadata": {},
   "outputs": [
    {
     "data": {
      "text/html": [
       "<div>\n",
       "<style scoped>\n",
       "    .dataframe tbody tr th:only-of-type {\n",
       "        vertical-align: middle;\n",
       "    }\n",
       "\n",
       "    .dataframe tbody tr th {\n",
       "        vertical-align: top;\n",
       "    }\n",
       "\n",
       "    .dataframe thead th {\n",
       "        text-align: right;\n",
       "    }\n",
       "</style>\n",
       "<table border=\"1\" class=\"dataframe\">\n",
       "  <thead>\n",
       "    <tr style=\"text-align: right;\">\n",
       "      <th></th>\n",
       "      <th>rul</th>\n",
       "      <th>V_acc</th>\n",
       "      <th>H_acc</th>\n",
       "      <th>unit</th>\n",
       "    </tr>\n",
       "  </thead>\n",
       "  <tbody>\n",
       "    <tr>\n",
       "      <th>0</th>\n",
       "      <td>28029</td>\n",
       "      <td>-0.146</td>\n",
       "      <td>0.552</td>\n",
       "      <td>1_1</td>\n",
       "    </tr>\n",
       "    <tr>\n",
       "      <th>1</th>\n",
       "      <td>28029</td>\n",
       "      <td>-0.480</td>\n",
       "      <td>0.501</td>\n",
       "      <td>1_1</td>\n",
       "    </tr>\n",
       "    <tr>\n",
       "      <th>2</th>\n",
       "      <td>28029</td>\n",
       "      <td>0.435</td>\n",
       "      <td>0.138</td>\n",
       "      <td>1_1</td>\n",
       "    </tr>\n",
       "    <tr>\n",
       "      <th>3</th>\n",
       "      <td>28029</td>\n",
       "      <td>0.240</td>\n",
       "      <td>-0.423</td>\n",
       "      <td>1_1</td>\n",
       "    </tr>\n",
       "    <tr>\n",
       "      <th>4</th>\n",
       "      <td>28029</td>\n",
       "      <td>0.020</td>\n",
       "      <td>-0.802</td>\n",
       "      <td>1_1</td>\n",
       "    </tr>\n",
       "    <tr>\n",
       "      <th>...</th>\n",
       "      <td>...</td>\n",
       "      <td>...</td>\n",
       "      <td>...</td>\n",
       "      <td>...</td>\n",
       "    </tr>\n",
       "    <tr>\n",
       "      <th>7175675</th>\n",
       "      <td>0</td>\n",
       "      <td>2.129</td>\n",
       "      <td>-3.353</td>\n",
       "      <td>1_1</td>\n",
       "    </tr>\n",
       "    <tr>\n",
       "      <th>7175676</th>\n",
       "      <td>0</td>\n",
       "      <td>-2.299</td>\n",
       "      <td>-2.868</td>\n",
       "      <td>1_1</td>\n",
       "    </tr>\n",
       "    <tr>\n",
       "      <th>7175677</th>\n",
       "      <td>0</td>\n",
       "      <td>-1.844</td>\n",
       "      <td>-5.507</td>\n",
       "      <td>1_1</td>\n",
       "    </tr>\n",
       "    <tr>\n",
       "      <th>7175678</th>\n",
       "      <td>0</td>\n",
       "      <td>2.146</td>\n",
       "      <td>-3.578</td>\n",
       "      <td>1_1</td>\n",
       "    </tr>\n",
       "    <tr>\n",
       "      <th>7175679</th>\n",
       "      <td>0</td>\n",
       "      <td>0.470</td>\n",
       "      <td>-2.709</td>\n",
       "      <td>1_1</td>\n",
       "    </tr>\n",
       "  </tbody>\n",
       "</table>\n",
       "<p>7175680 rows × 4 columns</p>\n",
       "</div>"
      ],
      "text/plain": [
       "           rul  V_acc  H_acc unit\n",
       "0        28029 -0.146  0.552  1_1\n",
       "1        28029 -0.480  0.501  1_1\n",
       "2        28029  0.435  0.138  1_1\n",
       "3        28029  0.240 -0.423  1_1\n",
       "4        28029  0.020 -0.802  1_1\n",
       "...        ...    ...    ...  ...\n",
       "7175675      0  2.129 -3.353  1_1\n",
       "7175676      0 -2.299 -2.868  1_1\n",
       "7175677      0 -1.844 -5.507  1_1\n",
       "7175678      0  2.146 -3.578  1_1\n",
       "7175679      0  0.470 -2.709  1_1\n",
       "\n",
       "[7175680 rows x 4 columns]"
      ]
     },
     "execution_count": 9,
     "metadata": {},
     "output_type": "execute_result"
    }
   ],
   "source": [
    "df[0][df[0]['unit'].isin(TRAIN_BEARINGS[1])]"
   ]
  },
  {
   "cell_type": "code",
   "execution_count": 10,
   "id": "41fc4c80",
   "metadata": {},
   "outputs": [
    {
     "data": {
      "text/html": [
       "<div>\n",
       "<style scoped>\n",
       "    .dataframe tbody tr th:only-of-type {\n",
       "        vertical-align: middle;\n",
       "    }\n",
       "\n",
       "    .dataframe tbody tr th {\n",
       "        vertical-align: top;\n",
       "    }\n",
       "\n",
       "    .dataframe thead th {\n",
       "        text-align: right;\n",
       "    }\n",
       "</style>\n",
       "<table border=\"1\" class=\"dataframe\">\n",
       "  <thead>\n",
       "    <tr style=\"text-align: right;\">\n",
       "      <th></th>\n",
       "      <th>rul</th>\n",
       "      <th>V_acc</th>\n",
       "      <th>H_acc</th>\n",
       "      <th>unit</th>\n",
       "    </tr>\n",
       "  </thead>\n",
       "  <tbody>\n",
       "    <tr>\n",
       "      <th>0</th>\n",
       "      <td>23749</td>\n",
       "      <td>0.044</td>\n",
       "      <td>0.092</td>\n",
       "      <td>1_3</td>\n",
       "    </tr>\n",
       "    <tr>\n",
       "      <th>1</th>\n",
       "      <td>23749</td>\n",
       "      <td>0.432</td>\n",
       "      <td>-0.025</td>\n",
       "      <td>1_3</td>\n",
       "    </tr>\n",
       "    <tr>\n",
       "      <th>2</th>\n",
       "      <td>23749</td>\n",
       "      <td>0.008</td>\n",
       "      <td>-0.104</td>\n",
       "      <td>1_3</td>\n",
       "    </tr>\n",
       "    <tr>\n",
       "      <th>3</th>\n",
       "      <td>23749</td>\n",
       "      <td>-0.264</td>\n",
       "      <td>0.056</td>\n",
       "      <td>1_3</td>\n",
       "    </tr>\n",
       "    <tr>\n",
       "      <th>4</th>\n",
       "      <td>23749</td>\n",
       "      <td>-0.195</td>\n",
       "      <td>0.074</td>\n",
       "      <td>1_3</td>\n",
       "    </tr>\n",
       "    <tr>\n",
       "      <th>...</th>\n",
       "      <td>...</td>\n",
       "      <td>...</td>\n",
       "      <td>...</td>\n",
       "      <td>...</td>\n",
       "    </tr>\n",
       "    <tr>\n",
       "      <th>3845115</th>\n",
       "      <td>7570</td>\n",
       "      <td>-0.013</td>\n",
       "      <td>0.481</td>\n",
       "      <td>1_7</td>\n",
       "    </tr>\n",
       "    <tr>\n",
       "      <th>3845116</th>\n",
       "      <td>7570</td>\n",
       "      <td>-0.272</td>\n",
       "      <td>0.191</td>\n",
       "      <td>1_7</td>\n",
       "    </tr>\n",
       "    <tr>\n",
       "      <th>3845117</th>\n",
       "      <td>7570</td>\n",
       "      <td>0.466</td>\n",
       "      <td>0.250</td>\n",
       "      <td>1_7</td>\n",
       "    </tr>\n",
       "    <tr>\n",
       "      <th>3845118</th>\n",
       "      <td>7570</td>\n",
       "      <td>-0.582</td>\n",
       "      <td>0.001</td>\n",
       "      <td>1_7</td>\n",
       "    </tr>\n",
       "    <tr>\n",
       "      <th>3845119</th>\n",
       "      <td>7570</td>\n",
       "      <td>-0.371</td>\n",
       "      <td>0.199</td>\n",
       "      <td>1_7</td>\n",
       "    </tr>\n",
       "  </tbody>\n",
       "</table>\n",
       "<p>23160320 rows × 4 columns</p>\n",
       "</div>"
      ],
      "text/plain": [
       "           rul  V_acc  H_acc unit\n",
       "0        23749  0.044  0.092  1_3\n",
       "1        23749  0.432 -0.025  1_3\n",
       "2        23749  0.008 -0.104  1_3\n",
       "3        23749 -0.264  0.056  1_3\n",
       "4        23749 -0.195  0.074  1_3\n",
       "...        ...    ...    ...  ...\n",
       "3845115   7570 -0.013  0.481  1_7\n",
       "3845116   7570 -0.272  0.191  1_7\n",
       "3845117   7570  0.466  0.250  1_7\n",
       "3845118   7570 -0.582  0.001  1_7\n",
       "3845119   7570 -0.371  0.199  1_7\n",
       "\n",
       "[23160320 rows x 4 columns]"
      ]
     },
     "execution_count": 10,
     "metadata": {},
     "output_type": "execute_result"
    }
   ],
   "source": [
    "df[1][df[1]['unit'].isin(TEST_BEARINGS[1])]"
   ]
  },
  {
   "cell_type": "code",
   "execution_count": 11,
   "id": "0685c0bc",
   "metadata": {},
   "outputs": [
    {
     "data": {
      "text/plain": [
       "[<matplotlib.lines.Line2D at 0x7f5023c62470>]"
      ]
     },
     "execution_count": 11,
     "metadata": {},
     "output_type": "execute_result"
    },
    {
     "data": {
      "image/png": "[encoded data removed]",
      "text/plain": [
       "<Figure size 640x480 with 1 Axes>"
      ]
     },
     "metadata": {},
     "output_type": "display_data"
    }
   ],
   "source": [
    "plt.plot(df[1][df[1]['unit'] == '1_3']['rul'])"
   ]
  },
  {
   "cell_type": "code",
   "execution_count": 12,
   "id": "b131384a",
   "metadata": {},
   "outputs": [],
   "source": [
    "# sns.kdeplot(df[0][df[0]['unit'] == '1_1']['H_acc'], label='Train')\n",
    "# sns.kdeplot(test_features['h_RMS'], label='Test')\n",
    "# plt.legend(); plt.show()"
   ]
  },
  {
   "cell_type": "code",
   "execution_count": 308,
   "id": "a2dafbea",
   "metadata": {},
   "outputs": [],
   "source": [
    "class BearingDataset(torch.utils.data.Dataset):\n",
    "    def __init__(self, df, window_size=2560, step=2560 // 2):\n",
    "        self.windows = []\n",
    "        self.ruls = []\n",
    "        \n",
    "        # Create sequences\n",
    "        for unit, group in df.groupby('unit'):\n",
    "            h_acc =  group['H_acc'].transform(\n",
    "                lambda x: (x - x.mean()) / (x.std() + 1e-8)\n",
    "            )\n",
    "            v_acc =  group['V_acc'].transform(\n",
    "                lambda x: (x - x.mean()) / (x.std() + 1e-8)\n",
    "            )\n",
    "\n",
    "            rul = group['rul'].transform(lambda x: x / x.max())\n",
    "\n",
    "            for i in range(0, len(group) - window_size, step):\n",
    "\n",
    "                self.windows.append(np.stack([\n",
    "                    h_acc[i:i+window_size], \n",
    "                    v_acc[i:i+window_size]\n",
    "                ], axis=1))\n",
    "                self.ruls.append(rul.values[i+window_size-1])\n",
    "\n",
    "    def __len__(self):\n",
    "        return len(self.windows)\n",
    "    \n",
    "    def __getitem__(self, idx):\n",
    "        return torch.FloatTensor(self.windows[idx]), torch.FloatTensor([self.ruls[idx]])\n",
    "    \n",
    "    def create_overlapping_windows(signal, window_size=2560, overlap=0.75):\n",
    "        step = int(window_size * (1 - overlap))\n",
    "        return np.lib.stride_tricks.sliding_window_view(\n",
    "            signal, window_shape=window_size, axis=0\n",
    "        )[::step]\n",
    "    \n",
    "train_dataset = BearingDataset(\n",
    "    # [b for state in TRAIN_BEARINGS for b in TRAIN_BEARINGS[state]]\n",
    "    df=df[0][df[0]['unit'].isin(['1_1'])],\n",
    ")\n",
    "\n",
    "test_dataset = BearingDataset(\n",
    "    df=df[1][df[1]['unit'] == '1_3'],\n",
    ")\n",
    "\n",
    "val_dataset = BearingDataset(\n",
    "    df=df[0][df[0]['unit'] == '1_2'],\n",
    ")\n",
    "\n",
    "train_loader = torch.utils.data.DataLoader(train_dataset, batch_size=32, shuffle=False)\n",
    "test_loader = torch.utils.data.DataLoader(test_dataset, batch_size=32, shuffle=False)\n",
    "val_loader = torch.utils.data.DataLoader(val_dataset, batch_size=32, shuffle=False)"
   ]
  },
  {
   "cell_type": "code",
   "execution_count": 309,
   "id": "42f0e240",
   "metadata": {},
   "outputs": [
    {
     "data": {
      "text/plain": [
       "5604"
      ]
     },
     "execution_count": 309,
     "metadata": {},
     "output_type": "execute_result"
    }
   ],
   "source": [
    "len(train_dataset)"
   ]
  },
  {
   "cell_type": "code",
   "execution_count": 310,
   "id": "27eff63f",
   "metadata": {},
   "outputs": [
    {
     "name": "stdout",
     "output_type": "stream",
     "text": [
      "BearingCNN(\n",
      "  (features): Sequential(\n",
      "    (0): Conv1d(2, 64, kernel_size=(51,), stride=(1,), padding=(25,))\n",
      "    (1): BatchNorm1d(64, eps=1e-05, momentum=0.1, affine=True, track_running_stats=True)\n",
      "    (2): LeakyReLU(negative_slope=0.1)\n",
      "    (3): MaxPool1d(kernel_size=4, stride=2, padding=0, dilation=1, ceil_mode=False)\n",
      "    (4): Conv1d(64, 128, kernel_size=(25,), stride=(1,), padding=(12,))\n",
      "    (5): BatchNorm1d(128, eps=1e-05, momentum=0.1, affine=True, track_running_stats=True)\n",
      "    (6): LeakyReLU(negative_slope=0.1)\n",
      "    (7): MaxPool1d(kernel_size=4, stride=2, padding=0, dilation=1, ceil_mode=False)\n",
      "    (8): Conv1d(128, 256, kernel_size=(10,), stride=(1,), padding=(5,))\n",
      "    (9): BatchNorm1d(256, eps=1e-05, momentum=0.1, affine=True, track_running_stats=True)\n",
      "    (10): LeakyReLU(negative_slope=0.1)\n",
      "    (11): AdaptiveAvgPool1d(output_size=1)\n",
      "  )\n",
      "  (regressor): Sequential(\n",
      "    (0): Linear(in_features=256, out_features=128, bias=True)\n",
      "    (1): LayerNorm((128,), eps=1e-05, elementwise_affine=True)\n",
      "    (2): LeakyReLU(negative_slope=0.1)\n",
      "    (3): Dropout(p=0.5, inplace=False)\n",
      "    (4): Linear(in_features=128, out_features=1, bias=True)\n",
      "  )\n",
      ")\n"
     ]
    }
   ],
   "source": [
    "class BearingCNN(torch.nn.Module):\n",
    "    def __init__(self):\n",
    "        super().__init__()\n",
    "        \n",
    "        # Feature extractor\n",
    "        self.features = torch.nn.Sequential(\n",
    "            # Layer 1: Wide receptive field\n",
    "            torch.nn.Conv1d(2, 64, kernel_size=51, padding=25),  # (B, 2, 2560) -> (B, 64, 2560)\n",
    "            torch.nn.BatchNorm1d(64),\n",
    "            torch.nn.LeakyReLU(0.1),\n",
    "            torch.nn.MaxPool1d(4, stride=2),  # -> (B, 64, 1278)\n",
    "            \n",
    "            # Layer 2: Mid-range features\n",
    "            torch.nn.Conv1d(64, 128, kernel_size=25, padding=12),  # -> (B, 128, 1278)\n",
    "            torch.nn.BatchNorm1d(128),\n",
    "            torch.nn.LeakyReLU(0.1),\n",
    "            torch.nn.MaxPool1d(4, stride=2),  # -> (B, 128, 637)\n",
    "            \n",
    "            # Layer 3: Local features\n",
    "            torch.nn.Conv1d(128, 256, kernel_size=10, padding=5),  # -> (B, 256, 637)\n",
    "            torch.nn.BatchNorm1d(256),\n",
    "            torch.nn.LeakyReLU(0.1),\n",
    "            torch.nn.AdaptiveAvgPool1d(1)  # -> (B, 256, 1)\n",
    "        )\n",
    "        \n",
    "        # Regressor (fixed input dim)\n",
    "        self.regressor = torch.nn.Sequential(\n",
    "            torch.nn.Linear(256, 128),\n",
    "            torch.nn.LayerNorm(128),  # Better for regression\n",
    "            torch.nn.LeakyReLU(0.1),\n",
    "            torch.nn.Dropout(0.5),\n",
    "            torch.nn.Linear(128, 1),\n",
    "            # torch.nn.Sigmoid(),\n",
    "            # Removed Sigmoid() for regression\n",
    "        )\n",
    "\n",
    "        # self.fc = torch.nn.Linear(128, 1)\n",
    "\n",
    "        # with torch.no_grad():\n",
    "        #     self.fc.weight.data = -torch.abs(self.fc.weight.data)\n",
    "        #     self.fc.bias.data.fill_(1.0)  # Start predictions near 1.0\n",
    "    \n",
    "    def forward(self, x):\n",
    "        # Input: (B, 2560, 2)\n",
    "        x = x.permute(0, 2, 1)  # -> (B, 2, 2560)\n",
    "        x = self.features(x)     # -> (B, 256, 1)\n",
    "        x = x.squeeze(-1)        # -> (B, 256)\n",
    "        x = self.regressor(x)  # -> (B,)\n",
    "        return x\n",
    "\n",
    "model = BearingCNN()\n",
    "\n",
    "print(model)"
   ]
  },
  {
   "cell_type": "code",
   "execution_count": 311,
   "id": "6a7be941",
   "metadata": {},
   "outputs": [],
   "source": [
    "class LogCoshLoss(nn.Module):\n",
    "    def forward(self, y_pred, y_true):\n",
    "        return torch.mean(torch.log(torch.cosh(y_pred - y_true)))\n",
    "\n",
    "def weighted_mse_loss(y_pred, y_true):\n",
    "    alpha=2.0\n",
    "    error = y_pred - y_true\n",
    "    weights = torch.where(error < 0, alpha, 1.0)  # Heavier penalty for underestimating RUL\n",
    "    return torch.mean(weights * (error ** 2))\n",
    "\n",
    "def r2_score_loss(y_pred, y_true):\n",
    "    # Calculate R² (Coefficient of Determination)\n",
    "    ss_res = torch.sum((y_true - y_pred) ** 2)\n",
    "    ss_tot = torch.sum((y_true - torch.mean(y_true)) ** 2)\n",
    "    r2 = 1 - (ss_res / (ss_tot + 1e-8))  # Avoid division by zero\n",
    "    return -r2  # Minimize this (equivalent to maximizing R²)\n",
    "\n",
    "def hybrid_r2_mse_loss(y_pred, y_true,):\n",
    "    alpha=0.5\n",
    "    mse = torch.mean((y_pred - y_true) ** 2)\n",
    "    r2 = r2_score_loss(y_pred, y_true)  # Returns -R²\n",
    "    return alpha * mse + (1 - alpha) * r2\n",
    "\n",
    "device = torch.device('cuda' if torch.cuda.is_available() else 'cpu')\n",
    "model = model.to(device)\n",
    "criterion = hybrid_r2_mse_loss\n",
    "optimizer = torch.optim.Adam(model.parameters(), lr=0.001, weight_decay=1e-4)\n",
    "scheduler = torch.optim.lr_scheduler.ReduceLROnPlateau(optimizer, 'min', patience=5)\n",
    "\n",
    "def train(\n",
    "    model,\n",
    "    train_loader,\n",
    "    val_loader,\n",
    "    optimizer,\n",
    "    criterion,\n",
    "    device,\n",
    "    epochs,\n",
    "):\n",
    "    train_r2 = []\n",
    "    train_mae = []\n",
    "    train_mse = []\n",
    "    train_rmse = []\n",
    "    train_loss = []\n",
    "\n",
    "    val_r2 = []\n",
    "    val_mae = []\n",
    "    val_mse = []\n",
    "    val_rmse = []\n",
    "    val_loss = []\n",
    "\n",
    "    best_r2 = -float('inf')\n",
    "\n",
    "    for epoch in range(epochs):\n",
    "        model.train()\n",
    "\n",
    "        epoch_train_loss = 0\n",
    "        epoch_train_preds = []\n",
    "        epoch_train_targets = []\n",
    "\n",
    "        for X_batch, y_batch in tqdm(train_loader):\n",
    "            X_batch, y_batch = X_batch.to(device), y_batch.to(device)\n",
    "            \n",
    "            optimizer.zero_grad()\n",
    "            y_pred = model(X_batch).flatten()\n",
    "\n",
    "            epoch_train_preds.append(y_pred)\n",
    "            epoch_train_targets.append(y_batch)\n",
    "\n",
    "            loss = criterion(y_pred, y_batch)\n",
    "            \n",
    "            loss.backward()\n",
    "            optimizer.step()\n",
    "            \n",
    "            epoch_train_loss += loss.item()\n",
    "        \n",
    "        train_preds = torch.cat(epoch_train_preds).cpu().detach().numpy()\n",
    "        train_targets = torch.cat(epoch_train_targets).cpu().detach().numpy()\n",
    "        \n",
    "        epoch_train_r2 = r2_score(train_targets, train_preds)\n",
    "        epoch_train_mae = mean_absolute_error(train_targets, train_preds)\n",
    "        epoch_train_mse = mean_squared_error(train_targets, train_preds)\n",
    "        epoch_train_rmse = np.sqrt(epoch_train_mse)\n",
    "        epoch_train_loss = epoch_train_loss/len(train_loader)\n",
    "        \n",
    "        train_r2.append(epoch_train_r2)\n",
    "        train_mae.append(epoch_train_mae)\n",
    "        train_mse.append(epoch_train_mse)\n",
    "        train_rmse.append(epoch_train_rmse)\n",
    "        train_loss.append(epoch_train_loss)\n",
    "    \n",
    "        print(\n",
    "            f'Epoch {epoch + 1}: Train Loss {epoch_train_loss:.4f}, '\n",
    "                + f'Train R2 = {epoch_train_r2:.3f}, '\n",
    "                + f'Train RMSE = {epoch_train_rmse:.3f}, '\n",
    "                + f'Train MSE = {epoch_train_mse:.3f}, '\n",
    "                + f'Train MAE = {epoch_train_mae:.3f}'\n",
    "                # + f'Train EPS = {epoch_train_eps:.3f}'\n",
    "        )\n",
    "\n",
    "\n",
    "        model.eval()\n",
    "\n",
    "        epoch_val_loss = 0\n",
    "        epoch_val_preds = []\n",
    "        epoch_val_targets = []\n",
    "\n",
    "        with torch.no_grad():\n",
    "            for X_val, y_val in tqdm(val_loader, desc=f'Epoch {epoch + 1} Val'):\n",
    "                X_val, y_val = X_val.to(device), y_val.to(device)\n",
    "\n",
    "                y_pred = model(X_val).flatten()\n",
    "\n",
    "                epoch_val_preds.append(y_pred)\n",
    "                epoch_val_targets.append(y_val)\n",
    "                \n",
    "                epoch_val_loss += criterion(y_pred, y_val).item()\n",
    "\n",
    "        val_preds = torch.cat(epoch_val_preds).cpu().detach().numpy()\n",
    "        val_targets = torch.cat(epoch_val_targets).cpu().detach().numpy()\n",
    "        \n",
    "        epoch_val_r2 = r2_score(val_targets, val_preds)\n",
    "        epoch_val_mae = mean_absolute_error(val_targets, val_preds)\n",
    "        epoch_val_mse = mean_squared_error(val_targets, val_preds)\n",
    "        epoch_val_rmse = np.sqrt(epoch_val_mse)\n",
    "        epoch_val_loss = epoch_val_loss/len(val_loader)\n",
    "        # scheduler.step(epoch_val_loss)\n",
    "        \n",
    "        val_r2.append(epoch_val_r2)\n",
    "        val_mae.append(epoch_val_mae)\n",
    "        val_mse.append(epoch_val_mse)\n",
    "        val_rmse.append(epoch_val_rmse)\n",
    "        val_loss.append(epoch_val_loss)\n",
    "\n",
    "        if val_r2[-1] > best_r2:\n",
    "            best_r2 = val_r2[-1]\n",
    "            torch.save(model.state_dict(), 'best_r2_model.pth')\n",
    "\n",
    "        print(\n",
    "            f'Epoch {epoch + 1}: Val Loss {epoch_val_loss:.4f}, '\n",
    "                + f'Val R2 = {epoch_val_r2:.3f}, '\n",
    "                + f'Val RMSE = {epoch_val_rmse:.3f}, '\n",
    "                + f'Val MSE = {epoch_val_mse:.3f}, '\n",
    "                + f'Val MAE = {epoch_val_mae:.3f}'\n",
    "        ) \n",
    "\n",
    "    return {\n",
    "        'train_loss': train_loss,\n",
    "        'train_r2': train_r2,\n",
    "        'train_mae': train_mae,\n",
    "        'train_mse': train_mse,\n",
    "        'train_rmse': train_rmse,\n",
    "        'val_loss': val_loss,\n",
    "        'val_r2': val_r2,\n",
    "        'val_mae': val_mae,\n",
    "        'val_mse': val_mse,\n",
    "        'val_rmse': val_rmse,\n",
    "    }"
   ]
  },
  {
   "cell_type": "code",
   "execution_count": 312,
   "id": "5ce79b4d",
   "metadata": {},
   "outputs": [
    {
     "name": "stderr",
     "output_type": "stream",
     "text": [
      "100%|██████████| 176/176 [00:03<00:00, 48.19it/s]\n"
     ]
    },
    {
     "name": "stdout",
     "output_type": "stream",
     "text": [
      "Epoch 1: Train Loss 206376.6879, Train R2 = 0.579, Train RMSE = 0.187, Train MSE = 0.035, Train MAE = 0.110\n"
     ]
    },
    {
     "name": "stderr",
     "output_type": "stream",
     "text": [
      "Epoch 1 Val: 100%|██████████| 55/55 [00:00<00:00, 193.02it/s]\n"
     ]
    },
    {
     "name": "stdout",
     "output_type": "stream",
     "text": [
      "Epoch 1: Val Loss 221092.6903, Val R2 = -3.722, Val RMSE = 0.627, Val MSE = 0.393, Val MAE = 0.555\n"
     ]
    },
    {
     "name": "stderr",
     "output_type": "stream",
     "text": [
      "100%|██████████| 176/176 [00:03<00:00, 48.74it/s]\n"
     ]
    },
    {
     "name": "stdout",
     "output_type": "stream",
     "text": [
      "Epoch 2: Train Loss 220402.1217, Train R2 = 0.549, Train RMSE = 0.194, Train MSE = 0.038, Train MAE = 0.107\n"
     ]
    },
    {
     "name": "stderr",
     "output_type": "stream",
     "text": [
      "Epoch 2 Val: 100%|██████████| 55/55 [00:00<00:00, 184.89it/s]\n"
     ]
    },
    {
     "name": "stdout",
     "output_type": "stream",
     "text": [
      "Epoch 2: Val Loss 168240.8617, Val R2 = -2.594, Val RMSE = 0.547, Val MSE = 0.299, Val MAE = 0.466\n"
     ]
    },
    {
     "name": "stderr",
     "output_type": "stream",
     "text": [
      "100%|██████████| 176/176 [00:03<00:00, 49.71it/s]\n"
     ]
    },
    {
     "name": "stdout",
     "output_type": "stream",
     "text": [
      "Epoch 3: Train Loss 235900.1481, Train R2 = 0.520, Train RMSE = 0.200, Train MSE = 0.040, Train MAE = 0.109\n"
     ]
    },
    {
     "name": "stderr",
     "output_type": "stream",
     "text": [
      "Epoch 3 Val: 100%|██████████| 55/55 [00:00<00:00, 201.52it/s]\n"
     ]
    },
    {
     "name": "stdout",
     "output_type": "stream",
     "text": [
      "Epoch 3: Val Loss 176350.2085, Val R2 = -2.767, Val RMSE = 0.560, Val MSE = 0.313, Val MAE = 0.481\n"
     ]
    },
    {
     "name": "stderr",
     "output_type": "stream",
     "text": [
      "100%|██████████| 176/176 [00:03<00:00, 52.11it/s]\n"
     ]
    },
    {
     "name": "stdout",
     "output_type": "stream",
     "text": [
      "Epoch 4: Train Loss 255953.6593, Train R2 = 0.478, Train RMSE = 0.208, Train MSE = 0.043, Train MAE = 0.113\n"
     ]
    },
    {
     "name": "stderr",
     "output_type": "stream",
     "text": [
      "Epoch 4 Val: 100%|██████████| 55/55 [00:00<00:00, 200.33it/s]\n"
     ]
    },
    {
     "name": "stdout",
     "output_type": "stream",
     "text": [
      "Epoch 4: Val Loss 206464.6191, Val R2 = -3.410, Val RMSE = 0.606, Val MSE = 0.367, Val MAE = 0.532\n"
     ]
    },
    {
     "name": "stderr",
     "output_type": "stream",
     "text": [
      "100%|██████████| 176/176 [00:03<00:00, 51.97it/s]\n"
     ]
    },
    {
     "name": "stdout",
     "output_type": "stream",
     "text": [
      "Epoch 5: Train Loss 241976.5731, Train R2 = 0.507, Train RMSE = 0.203, Train MSE = 0.041, Train MAE = 0.110\n"
     ]
    },
    {
     "name": "stderr",
     "output_type": "stream",
     "text": [
      "Epoch 5 Val: 100%|██████████| 55/55 [00:00<00:00, 201.14it/s]\n"
     ]
    },
    {
     "name": "stdout",
     "output_type": "stream",
     "text": [
      "Epoch 5: Val Loss 178413.7144, Val R2 = -2.810, Val RMSE = 0.563, Val MSE = 0.317, Val MAE = 0.486\n"
     ]
    },
    {
     "name": "stderr",
     "output_type": "stream",
     "text": [
      "100%|██████████| 176/176 [00:03<00:00, 51.30it/s]\n"
     ]
    },
    {
     "name": "stdout",
     "output_type": "stream",
     "text": [
      "Epoch 6: Train Loss 240621.2734, Train R2 = 0.508, Train RMSE = 0.202, Train MSE = 0.041, Train MAE = 0.110\n"
     ]
    },
    {
     "name": "stderr",
     "output_type": "stream",
     "text": [
      "Epoch 6 Val: 100%|██████████| 55/55 [00:00<00:00, 201.95it/s]\n"
     ]
    },
    {
     "name": "stdout",
     "output_type": "stream",
     "text": [
      "Epoch 6: Val Loss 172889.8693, Val R2 = -2.692, Val RMSE = 0.554, Val MSE = 0.307, Val MAE = 0.476\n"
     ]
    },
    {
     "name": "stderr",
     "output_type": "stream",
     "text": [
      "100%|██████████| 176/176 [00:03<00:00, 51.61it/s]\n"
     ]
    },
    {
     "name": "stdout",
     "output_type": "stream",
     "text": [
      "Epoch 7: Train Loss 249976.8132, Train R2 = 0.492, Train RMSE = 0.206, Train MSE = 0.042, Train MAE = 0.111\n"
     ]
    },
    {
     "name": "stderr",
     "output_type": "stream",
     "text": [
      "Epoch 7 Val: 100%|██████████| 55/55 [00:00<00:00, 198.10it/s]\n"
     ]
    },
    {
     "name": "stdout",
     "output_type": "stream",
     "text": [
      "Epoch 7: Val Loss 200028.7396, Val R2 = -3.273, Val RMSE = 0.596, Val MSE = 0.355, Val MAE = 0.520\n"
     ]
    },
    {
     "name": "stderr",
     "output_type": "stream",
     "text": [
      "100%|██████████| 176/176 [00:03<00:00, 51.16it/s]\n"
     ]
    },
    {
     "name": "stdout",
     "output_type": "stream",
     "text": [
      "Epoch 8: Train Loss 268819.3526, Train R2 = 0.459, Train RMSE = 0.212, Train MSE = 0.045, Train MAE = 0.116\n"
     ]
    },
    {
     "name": "stderr",
     "output_type": "stream",
     "text": [
      "Epoch 8 Val: 100%|██████████| 55/55 [00:00<00:00, 201.82it/s]\n"
     ]
    },
    {
     "name": "stdout",
     "output_type": "stream",
     "text": [
      "Epoch 8: Val Loss 183282.7398, Val R2 = -2.915, Val RMSE = 0.571, Val MSE = 0.326, Val MAE = 0.491\n"
     ]
    },
    {
     "name": "stderr",
     "output_type": "stream",
     "text": [
      "100%|██████████| 176/176 [00:03<00:00, 51.28it/s]\n"
     ]
    },
    {
     "name": "stdout",
     "output_type": "stream",
     "text": [
      "Epoch 9: Train Loss 284557.5440, Train R2 = 0.421, Train RMSE = 0.220, Train MSE = 0.048, Train MAE = 0.119\n"
     ]
    },
    {
     "name": "stderr",
     "output_type": "stream",
     "text": [
      "Epoch 9 Val: 100%|██████████| 55/55 [00:00<00:00, 200.14it/s]\n"
     ]
    },
    {
     "name": "stdout",
     "output_type": "stream",
     "text": [
      "Epoch 9: Val Loss 176104.1331, Val R2 = -2.760, Val RMSE = 0.559, Val MSE = 0.313, Val MAE = 0.481\n"
     ]
    },
    {
     "name": "stderr",
     "output_type": "stream",
     "text": [
      "100%|██████████| 176/176 [00:03<00:00, 50.91it/s]\n"
     ]
    },
    {
     "name": "stdout",
     "output_type": "stream",
     "text": [
      "Epoch 10: Train Loss 274912.4856, Train R2 = 0.439, Train RMSE = 0.216, Train MSE = 0.047, Train MAE = 0.118\n"
     ]
    },
    {
     "name": "stderr",
     "output_type": "stream",
     "text": [
      "Epoch 10 Val: 100%|██████████| 55/55 [00:00<00:00, 198.50it/s]\n"
     ]
    },
    {
     "name": "stdout",
     "output_type": "stream",
     "text": [
      "Epoch 10: Val Loss 146510.6800, Val R2 = -2.128, Val RMSE = 0.510, Val MSE = 0.260, Val MAE = 0.421\n"
     ]
    },
    {
     "name": "stderr",
     "output_type": "stream",
     "text": [
      "100%|██████████| 176/176 [00:03<00:00, 50.85it/s]\n"
     ]
    },
    {
     "name": "stdout",
     "output_type": "stream",
     "text": [
      "Epoch 11: Train Loss 292296.0155, Train R2 = 0.405, Train RMSE = 0.223, Train MSE = 0.050, Train MAE = 0.126\n"
     ]
    },
    {
     "name": "stderr",
     "output_type": "stream",
     "text": [
      "Epoch 11 Val: 100%|██████████| 55/55 [00:00<00:00, 202.61it/s]\n"
     ]
    },
    {
     "name": "stdout",
     "output_type": "stream",
     "text": [
      "Epoch 11: Val Loss 182980.7544, Val R2 = -2.907, Val RMSE = 0.570, Val MSE = 0.325, Val MAE = 0.493\n"
     ]
    },
    {
     "name": "stderr",
     "output_type": "stream",
     "text": [
      "100%|██████████| 176/176 [00:03<00:00, 50.53it/s]\n"
     ]
    },
    {
     "name": "stdout",
     "output_type": "stream",
     "text": [
      "Epoch 12: Train Loss 312885.3311, Train R2 = 0.364, Train RMSE = 0.230, Train MSE = 0.053, Train MAE = 0.133\n"
     ]
    },
    {
     "name": "stderr",
     "output_type": "stream",
     "text": [
      "Epoch 12 Val: 100%|██████████| 55/55 [00:00<00:00, 198.30it/s]\n"
     ]
    },
    {
     "name": "stdout",
     "output_type": "stream",
     "text": [
      "Epoch 12: Val Loss 138504.1297, Val R2 = -1.953, Val RMSE = 0.496, Val MSE = 0.246, Val MAE = 0.410\n"
     ]
    },
    {
     "name": "stderr",
     "output_type": "stream",
     "text": [
      "100%|██████████| 176/176 [00:03<00:00, 50.45it/s]\n"
     ]
    },
    {
     "name": "stdout",
     "output_type": "stream",
     "text": [
      "Epoch 13: Train Loss 326744.6638, Train R2 = 0.333, Train RMSE = 0.236, Train MSE = 0.056, Train MAE = 0.137\n"
     ]
    },
    {
     "name": "stderr",
     "output_type": "stream",
     "text": [
      "Epoch 13 Val: 100%|██████████| 55/55 [00:00<00:00, 198.78it/s]\n"
     ]
    },
    {
     "name": "stdout",
     "output_type": "stream",
     "text": [
      "Epoch 13: Val Loss 116021.4898, Val R2 = -1.472, Val RMSE = 0.453, Val MSE = 0.206, Val MAE = 0.368\n"
     ]
    },
    {
     "name": "stderr",
     "output_type": "stream",
     "text": [
      "100%|██████████| 176/176 [00:03<00:00, 50.15it/s]\n"
     ]
    },
    {
     "name": "stdout",
     "output_type": "stream",
     "text": [
      "Epoch 14: Train Loss 320385.6720, Train R2 = 0.348, Train RMSE = 0.233, Train MSE = 0.054, Train MAE = 0.139\n"
     ]
    },
    {
     "name": "stderr",
     "output_type": "stream",
     "text": [
      "Epoch 14 Val: 100%|██████████| 55/55 [00:00<00:00, 198.72it/s]\n"
     ]
    },
    {
     "name": "stdout",
     "output_type": "stream",
     "text": [
      "Epoch 14: Val Loss 93707.2552, Val R2 = -0.993, Val RMSE = 0.407, Val MSE = 0.166, Val MAE = 0.330\n"
     ]
    },
    {
     "name": "stderr",
     "output_type": "stream",
     "text": [
      "100%|██████████| 176/176 [00:03<00:00, 50.15it/s]\n"
     ]
    },
    {
     "name": "stdout",
     "output_type": "stream",
     "text": [
      "Epoch 15: Train Loss 314011.2429, Train R2 = 0.362, Train RMSE = 0.231, Train MSE = 0.053, Train MAE = 0.140\n"
     ]
    },
    {
     "name": "stderr",
     "output_type": "stream",
     "text": [
      "Epoch 15 Val: 100%|██████████| 55/55 [00:00<00:00, 196.66it/s]\n"
     ]
    },
    {
     "name": "stdout",
     "output_type": "stream",
     "text": [
      "Epoch 15: Val Loss 106509.1671, Val R2 = -1.267, Val RMSE = 0.434, Val MSE = 0.189, Val MAE = 0.353\n"
     ]
    },
    {
     "name": "stderr",
     "output_type": "stream",
     "text": [
      "100%|██████████| 176/176 [00:03<00:00, 50.12it/s]\n"
     ]
    },
    {
     "name": "stdout",
     "output_type": "stream",
     "text": [
      "Epoch 16: Train Loss 317232.5159, Train R2 = 0.358, Train RMSE = 0.231, Train MSE = 0.053, Train MAE = 0.141\n"
     ]
    },
    {
     "name": "stderr",
     "output_type": "stream",
     "text": [
      "Epoch 16 Val: 100%|██████████| 55/55 [00:00<00:00, 196.68it/s]\n"
     ]
    },
    {
     "name": "stdout",
     "output_type": "stream",
     "text": [
      "Epoch 16: Val Loss 133702.1599, Val R2 = -1.843, Val RMSE = 0.486, Val MSE = 0.236, Val MAE = 0.405\n"
     ]
    },
    {
     "name": "stderr",
     "output_type": "stream",
     "text": [
      "100%|██████████| 176/176 [00:03<00:00, 49.28it/s]\n"
     ]
    },
    {
     "name": "stdout",
     "output_type": "stream",
     "text": [
      "Epoch 17: Train Loss 316931.0813, Train R2 = 0.357, Train RMSE = 0.231, Train MSE = 0.054, Train MAE = 0.139\n"
     ]
    },
    {
     "name": "stderr",
     "output_type": "stream",
     "text": [
      "Epoch 17 Val: 100%|██████████| 55/55 [00:00<00:00, 197.90it/s]\n"
     ]
    },
    {
     "name": "stdout",
     "output_type": "stream",
     "text": [
      "Epoch 17: Val Loss 122065.4600, Val R2 = -1.595, Val RMSE = 0.465, Val MSE = 0.216, Val MAE = 0.388\n"
     ]
    },
    {
     "name": "stderr",
     "output_type": "stream",
     "text": [
      "100%|██████████| 176/176 [00:03<00:00, 48.22it/s]\n"
     ]
    },
    {
     "name": "stdout",
     "output_type": "stream",
     "text": [
      "Epoch 18: Train Loss 344536.8299, Train R2 = 0.306, Train RMSE = 0.240, Train MSE = 0.058, Train MAE = 0.148\n"
     ]
    },
    {
     "name": "stderr",
     "output_type": "stream",
     "text": [
      "Epoch 18 Val: 100%|██████████| 55/55 [00:00<00:00, 192.55it/s]\n"
     ]
    },
    {
     "name": "stdout",
     "output_type": "stream",
     "text": [
      "Epoch 18: Val Loss 127740.3209, Val R2 = -1.714, Val RMSE = 0.475, Val MSE = 0.226, Val MAE = 0.399\n"
     ]
    },
    {
     "name": "stderr",
     "output_type": "stream",
     "text": [
      "100%|██████████| 176/176 [00:03<00:00, 47.00it/s]\n"
     ]
    },
    {
     "name": "stdout",
     "output_type": "stream",
     "text": [
      "Epoch 19: Train Loss 287825.8447, Train R2 = 0.416, Train RMSE = 0.221, Train MSE = 0.049, Train MAE = 0.137\n"
     ]
    },
    {
     "name": "stderr",
     "output_type": "stream",
     "text": [
      "Epoch 19 Val: 100%|██████████| 55/55 [00:00<00:00, 191.82it/s]\n"
     ]
    },
    {
     "name": "stdout",
     "output_type": "stream",
     "text": [
      "Epoch 19: Val Loss 173594.6131, Val R2 = -2.698, Val RMSE = 0.555, Val MSE = 0.308, Val MAE = 0.484\n"
     ]
    },
    {
     "name": "stderr",
     "output_type": "stream",
     "text": [
      "100%|██████████| 176/176 [00:03<00:00, 46.50it/s]\n"
     ]
    },
    {
     "name": "stdout",
     "output_type": "stream",
     "text": [
      "Epoch 20: Train Loss 254085.3944, Train R2 = 0.486, Train RMSE = 0.207, Train MSE = 0.043, Train MAE = 0.126\n"
     ]
    },
    {
     "name": "stderr",
     "output_type": "stream",
     "text": [
      "Epoch 20 Val: 100%|██████████| 55/55 [00:00<00:00, 185.12it/s]\n"
     ]
    },
    {
     "name": "stdout",
     "output_type": "stream",
     "text": [
      "Epoch 20: Val Loss 163846.2986, Val R2 = -2.495, Val RMSE = 0.539, Val MSE = 0.291, Val MAE = 0.468\n"
     ]
    },
    {
     "name": "stderr",
     "output_type": "stream",
     "text": [
      "100%|██████████| 176/176 [00:03<00:00, 45.64it/s]\n"
     ]
    },
    {
     "name": "stdout",
     "output_type": "stream",
     "text": [
      "Epoch 21: Train Loss 246149.7901, Train R2 = 0.504, Train RMSE = 0.203, Train MSE = 0.041, Train MAE = 0.123\n"
     ]
    },
    {
     "name": "stderr",
     "output_type": "stream",
     "text": [
      "Epoch 21 Val: 100%|██████████| 55/55 [00:00<00:00, 186.61it/s]\n"
     ]
    },
    {
     "name": "stdout",
     "output_type": "stream",
     "text": [
      "Epoch 21: Val Loss 211387.5132, Val R2 = -3.503, Val RMSE = 0.612, Val MSE = 0.374, Val MAE = 0.552\n"
     ]
    },
    {
     "name": "stderr",
     "output_type": "stream",
     "text": [
      "100%|██████████| 176/176 [00:03<00:00, 44.82it/s]\n"
     ]
    },
    {
     "name": "stdout",
     "output_type": "stream",
     "text": [
      "Epoch 22: Train Loss 206931.2552, Train R2 = 0.587, Train RMSE = 0.185, Train MSE = 0.034, Train MAE = 0.118\n"
     ]
    },
    {
     "name": "stderr",
     "output_type": "stream",
     "text": [
      "Epoch 22 Val: 100%|██████████| 55/55 [00:00<00:00, 186.67it/s]\n"
     ]
    },
    {
     "name": "stdout",
     "output_type": "stream",
     "text": [
      "Epoch 22: Val Loss 126531.0025, Val R2 = -1.688, Val RMSE = 0.473, Val MSE = 0.224, Val MAE = 0.397\n"
     ]
    },
    {
     "name": "stderr",
     "output_type": "stream",
     "text": [
      "100%|██████████| 176/176 [00:04<00:00, 43.28it/s]\n"
     ]
    },
    {
     "name": "stdout",
     "output_type": "stream",
     "text": [
      "Epoch 23: Train Loss 301426.1269, Train R2 = 0.392, Train RMSE = 0.225, Train MSE = 0.051, Train MAE = 0.136\n"
     ]
    },
    {
     "name": "stderr",
     "output_type": "stream",
     "text": [
      "Epoch 23 Val: 100%|██████████| 55/55 [00:00<00:00, 184.00it/s]\n"
     ]
    },
    {
     "name": "stdout",
     "output_type": "stream",
     "text": [
      "Epoch 23: Val Loss 85165.1910, Val R2 = -0.789, Val RMSE = 0.386, Val MSE = 0.149, Val MAE = 0.321\n"
     ]
    },
    {
     "name": "stderr",
     "output_type": "stream",
     "text": [
      "100%|██████████| 176/176 [00:04<00:00, 43.26it/s]\n"
     ]
    },
    {
     "name": "stdout",
     "output_type": "stream",
     "text": [
      "Epoch 24: Train Loss 171828.4806, Train R2 = 0.652, Train RMSE = 0.170, Train MSE = 0.029, Train MAE = 0.100\n"
     ]
    },
    {
     "name": "stderr",
     "output_type": "stream",
     "text": [
      "Epoch 24 Val: 100%|██████████| 55/55 [00:00<00:00, 174.28it/s]\n"
     ]
    },
    {
     "name": "stdout",
     "output_type": "stream",
     "text": [
      "Epoch 24: Val Loss 70084.7435, Val R2 = -0.448, Val RMSE = 0.347, Val MSE = 0.120, Val MAE = 0.288\n"
     ]
    },
    {
     "name": "stderr",
     "output_type": "stream",
     "text": [
      "100%|██████████| 176/176 [00:04<00:00, 42.35it/s]\n"
     ]
    },
    {
     "name": "stdout",
     "output_type": "stream",
     "text": [
      "Epoch 25: Train Loss 158761.7039, Train R2 = 0.685, Train RMSE = 0.162, Train MSE = 0.026, Train MAE = 0.092\n"
     ]
    },
    {
     "name": "stderr",
     "output_type": "stream",
     "text": [
      "Epoch 25 Val: 100%|██████████| 55/55 [00:00<00:00, 173.40it/s]\n"
     ]
    },
    {
     "name": "stdout",
     "output_type": "stream",
     "text": [
      "Epoch 25: Val Loss 70742.0135, Val R2 = -0.478, Val RMSE = 0.351, Val MSE = 0.123, Val MAE = 0.304\n"
     ]
    },
    {
     "name": "stderr",
     "output_type": "stream",
     "text": [
      "100%|██████████| 176/176 [00:04<00:00, 39.49it/s]\n"
     ]
    },
    {
     "name": "stdout",
     "output_type": "stream",
     "text": [
      "Epoch 26: Train Loss 108689.3556, Train R2 = 0.780, Train RMSE = 0.135, Train MSE = 0.018, Train MAE = 0.079\n"
     ]
    },
    {
     "name": "stderr",
     "output_type": "stream",
     "text": [
      "Epoch 26 Val: 100%|██████████| 55/55 [00:00<00:00, 145.20it/s]\n"
     ]
    },
    {
     "name": "stdout",
     "output_type": "stream",
     "text": [
      "Epoch 26: Val Loss 42635.1314, Val R2 = 0.130, Val RMSE = 0.269, Val MSE = 0.072, Val MAE = 0.229\n"
     ]
    },
    {
     "name": "stderr",
     "output_type": "stream",
     "text": [
      "100%|██████████| 176/176 [00:04<00:00, 37.62it/s]\n"
     ]
    },
    {
     "name": "stdout",
     "output_type": "stream",
     "text": [
      "Epoch 27: Train Loss 97415.7831, Train R2 = 0.807, Train RMSE = 0.127, Train MSE = 0.016, Train MAE = 0.077\n"
     ]
    },
    {
     "name": "stderr",
     "output_type": "stream",
     "text": [
      "Epoch 27 Val: 100%|██████████| 55/55 [00:00<00:00, 144.66it/s]\n"
     ]
    },
    {
     "name": "stdout",
     "output_type": "stream",
     "text": [
      "Epoch 27: Val Loss 52264.7006, Val R2 = -0.046, Val RMSE = 0.295, Val MSE = 0.087, Val MAE = 0.251\n"
     ]
    },
    {
     "name": "stderr",
     "output_type": "stream",
     "text": [
      "100%|██████████| 176/176 [00:04<00:00, 38.06it/s]\n"
     ]
    },
    {
     "name": "stdout",
     "output_type": "stream",
     "text": [
      "Epoch 28: Train Loss 89073.4823, Train R2 = 0.824, Train RMSE = 0.121, Train MSE = 0.015, Train MAE = 0.080\n"
     ]
    },
    {
     "name": "stderr",
     "output_type": "stream",
     "text": [
      "Epoch 28 Val: 100%|██████████| 55/55 [00:00<00:00, 163.36it/s]\n"
     ]
    },
    {
     "name": "stdout",
     "output_type": "stream",
     "text": [
      "Epoch 28: Val Loss 145312.8724, Val R2 = -2.013, Val RMSE = 0.501, Val MSE = 0.251, Val MAE = 0.442\n"
     ]
    },
    {
     "name": "stderr",
     "output_type": "stream",
     "text": [
      "100%|██████████| 176/176 [00:04<00:00, 41.99it/s]\n"
     ]
    },
    {
     "name": "stdout",
     "output_type": "stream",
     "text": [
      "Epoch 29: Train Loss 138371.4550, Train R2 = 0.719, Train RMSE = 0.153, Train MSE = 0.023, Train MAE = 0.088\n"
     ]
    },
    {
     "name": "stderr",
     "output_type": "stream",
     "text": [
      "Epoch 29 Val: 100%|██████████| 55/55 [00:00<00:00, 160.09it/s]\n"
     ]
    },
    {
     "name": "stdout",
     "output_type": "stream",
     "text": [
      "Epoch 29: Val Loss 61847.1895, Val R2 = -0.247, Val RMSE = 0.322, Val MSE = 0.104, Val MAE = 0.272\n"
     ]
    },
    {
     "name": "stderr",
     "output_type": "stream",
     "text": [
      "100%|██████████| 176/176 [00:04<00:00, 39.42it/s]\n"
     ]
    },
    {
     "name": "stdout",
     "output_type": "stream",
     "text": [
      "Epoch 30: Train Loss 101425.9319, Train R2 = 0.794, Train RMSE = 0.131, Train MSE = 0.017, Train MAE = 0.079\n"
     ]
    },
    {
     "name": "stderr",
     "output_type": "stream",
     "text": [
      "Epoch 30 Val: 100%|██████████| 55/55 [00:00<00:00, 143.60it/s]\n"
     ]
    },
    {
     "name": "stdout",
     "output_type": "stream",
     "text": [
      "Epoch 30: Val Loss 56299.1761, Val R2 = -0.124, Val RMSE = 0.306, Val MSE = 0.093, Val MAE = 0.265\n"
     ]
    },
    {
     "name": "stderr",
     "output_type": "stream",
     "text": [
      "100%|██████████| 176/176 [00:04<00:00, 40.81it/s]\n"
     ]
    },
    {
     "name": "stdout",
     "output_type": "stream",
     "text": [
      "Epoch 31: Train Loss 104780.8843, Train R2 = 0.787, Train RMSE = 0.133, Train MSE = 0.018, Train MAE = 0.078\n"
     ]
    },
    {
     "name": "stderr",
     "output_type": "stream",
     "text": [
      "Epoch 31 Val: 100%|██████████| 55/55 [00:00<00:00, 157.50it/s]\n"
     ]
    },
    {
     "name": "stdout",
     "output_type": "stream",
     "text": [
      "Epoch 31: Val Loss 51083.6495, Val R2 = 0.078, Val RMSE = 0.277, Val MSE = 0.077, Val MAE = 0.228\n"
     ]
    },
    {
     "name": "stderr",
     "output_type": "stream",
     "text": [
      "100%|██████████| 176/176 [00:04<00:00, 40.53it/s]\n"
     ]
    },
    {
     "name": "stdout",
     "output_type": "stream",
     "text": [
      "Epoch 32: Train Loss 71074.7841, Train R2 = 0.857, Train RMSE = 0.109, Train MSE = 0.012, Train MAE = 0.070\n"
     ]
    },
    {
     "name": "stderr",
     "output_type": "stream",
     "text": [
      "Epoch 32 Val: 100%|██████████| 55/55 [00:00<00:00, 172.99it/s]\n"
     ]
    },
    {
     "name": "stdout",
     "output_type": "stream",
     "text": [
      "Epoch 32: Val Loss 35722.1709, Val R2 = 0.344, Val RMSE = 0.234, Val MSE = 0.055, Val MAE = 0.192\n"
     ]
    },
    {
     "name": "stderr",
     "output_type": "stream",
     "text": [
      "100%|██████████| 176/176 [00:04<00:00, 42.40it/s]\n"
     ]
    },
    {
     "name": "stdout",
     "output_type": "stream",
     "text": [
      "Epoch 33: Train Loss 52244.2799, Train R2 = 0.899, Train RMSE = 0.092, Train MSE = 0.008, Train MAE = 0.064\n"
     ]
    },
    {
     "name": "stderr",
     "output_type": "stream",
     "text": [
      "Epoch 33 Val: 100%|██████████| 55/55 [00:00<00:00, 175.96it/s]\n"
     ]
    },
    {
     "name": "stdout",
     "output_type": "stream",
     "text": [
      "Epoch 33: Val Loss 201221.0492, Val R2 = -3.267, Val RMSE = 0.596, Val MSE = 0.355, Val MAE = 0.545\n"
     ]
    },
    {
     "name": "stderr",
     "output_type": "stream",
     "text": [
      "100%|██████████| 176/176 [00:04<00:00, 42.61it/s]\n"
     ]
    },
    {
     "name": "stdout",
     "output_type": "stream",
     "text": [
      "Epoch 34: Train Loss 67744.4605, Train R2 = 0.865, Train RMSE = 0.106, Train MSE = 0.011, Train MAE = 0.070\n"
     ]
    },
    {
     "name": "stderr",
     "output_type": "stream",
     "text": [
      "Epoch 34 Val: 100%|██████████| 55/55 [00:00<00:00, 175.73it/s]\n"
     ]
    },
    {
     "name": "stdout",
     "output_type": "stream",
     "text": [
      "Epoch 34: Val Loss 122490.9058, Val R2 = -1.492, Val RMSE = 0.455, Val MSE = 0.207, Val MAE = 0.415\n"
     ]
    },
    {
     "name": "stderr",
     "output_type": "stream",
     "text": [
      "100%|██████████| 176/176 [00:04<00:00, 40.00it/s]\n"
     ]
    },
    {
     "name": "stdout",
     "output_type": "stream",
     "text": [
      "Epoch 35: Train Loss 43984.7475, Train R2 = 0.912, Train RMSE = 0.086, Train MSE = 0.007, Train MAE = 0.059\n"
     ]
    },
    {
     "name": "stderr",
     "output_type": "stream",
     "text": [
      "Epoch 35 Val: 100%|██████████| 55/55 [00:00<00:00, 160.73it/s]\n"
     ]
    },
    {
     "name": "stdout",
     "output_type": "stream",
     "text": [
      "Epoch 35: Val Loss 40933.9125, Val R2 = 0.163, Val RMSE = 0.264, Val MSE = 0.070, Val MAE = 0.225\n"
     ]
    },
    {
     "name": "stderr",
     "output_type": "stream",
     "text": [
      "100%|██████████| 176/176 [00:04<00:00, 36.72it/s]\n"
     ]
    },
    {
     "name": "stdout",
     "output_type": "stream",
     "text": [
      "Epoch 36: Train Loss 51864.3437, Train R2 = 0.900, Train RMSE = 0.091, Train MSE = 0.008, Train MAE = 0.060\n"
     ]
    },
    {
     "name": "stderr",
     "output_type": "stream",
     "text": [
      "Epoch 36 Val: 100%|██████████| 55/55 [00:00<00:00, 154.49it/s]\n"
     ]
    },
    {
     "name": "stdout",
     "output_type": "stream",
     "text": [
      "Epoch 36: Val Loss 54315.0686, Val R2 = -0.062, Val RMSE = 0.297, Val MSE = 0.088, Val MAE = 0.257\n"
     ]
    },
    {
     "name": "stderr",
     "output_type": "stream",
     "text": [
      "100%|██████████| 176/176 [00:05<00:00, 34.05it/s]\n"
     ]
    },
    {
     "name": "stdout",
     "output_type": "stream",
     "text": [
      "Epoch 37: Train Loss 37638.7913, Train R2 = 0.925, Train RMSE = 0.079, Train MSE = 0.006, Train MAE = 0.056\n"
     ]
    },
    {
     "name": "stderr",
     "output_type": "stream",
     "text": [
      "Epoch 37 Val: 100%|██████████| 55/55 [00:00<00:00, 133.83it/s]\n"
     ]
    },
    {
     "name": "stdout",
     "output_type": "stream",
     "text": [
      "Epoch 37: Val Loss 327305.0952, Val R2 = -5.938, Val RMSE = 0.760, Val MSE = 0.577, Val MAE = 0.653\n"
     ]
    },
    {
     "name": "stderr",
     "output_type": "stream",
     "text": [
      "100%|██████████| 176/176 [00:05<00:00, 29.34it/s]\n"
     ]
    },
    {
     "name": "stdout",
     "output_type": "stream",
     "text": [
      "Epoch 38: Train Loss 59281.5667, Train R2 = 0.879, Train RMSE = 0.100, Train MSE = 0.010, Train MAE = 0.068\n"
     ]
    },
    {
     "name": "stderr",
     "output_type": "stream",
     "text": [
      "Epoch 38 Val: 100%|██████████| 55/55 [00:00<00:00, 121.77it/s]\n"
     ]
    },
    {
     "name": "stdout",
     "output_type": "stream",
     "text": [
      "Epoch 38: Val Loss 78306.2147, Val R2 = -0.640, Val RMSE = 0.369, Val MSE = 0.136, Val MAE = 0.311\n"
     ]
    },
    {
     "name": "stderr",
     "output_type": "stream",
     "text": [
      "100%|██████████| 176/176 [00:06<00:00, 29.24it/s]\n"
     ]
    },
    {
     "name": "stdout",
     "output_type": "stream",
     "text": [
      "Epoch 39: Train Loss 71813.6771, Train R2 = 0.858, Train RMSE = 0.109, Train MSE = 0.012, Train MAE = 0.070\n"
     ]
    },
    {
     "name": "stderr",
     "output_type": "stream",
     "text": [
      "Epoch 39 Val: 100%|██████████| 55/55 [00:00<00:00, 124.18it/s]\n"
     ]
    },
    {
     "name": "stdout",
     "output_type": "stream",
     "text": [
      "Epoch 39: Val Loss 45831.9377, Val R2 = 0.068, Val RMSE = 0.278, Val MSE = 0.078, Val MAE = 0.236\n"
     ]
    },
    {
     "name": "stderr",
     "output_type": "stream",
     "text": [
      "100%|██████████| 176/176 [00:06<00:00, 28.76it/s]\n"
     ]
    },
    {
     "name": "stdout",
     "output_type": "stream",
     "text": [
      "Epoch 40: Train Loss 39892.9337, Train R2 = 0.924, Train RMSE = 0.079, Train MSE = 0.006, Train MAE = 0.056\n"
     ]
    },
    {
     "name": "stderr",
     "output_type": "stream",
     "text": [
      "Epoch 40 Val: 100%|██████████| 55/55 [00:00<00:00, 129.74it/s]\n"
     ]
    },
    {
     "name": "stdout",
     "output_type": "stream",
     "text": [
      "Epoch 40: Val Loss 41479.1970, Val R2 = 0.175, Val RMSE = 0.262, Val MSE = 0.069, Val MAE = 0.225\n"
     ]
    },
    {
     "name": "stderr",
     "output_type": "stream",
     "text": [
      "100%|██████████| 176/176 [00:06<00:00, 28.11it/s]\n"
     ]
    },
    {
     "name": "stdout",
     "output_type": "stream",
     "text": [
      "Epoch 41: Train Loss 30157.2806, Train R2 = 0.940, Train RMSE = 0.070, Train MSE = 0.005, Train MAE = 0.051\n"
     ]
    },
    {
     "name": "stderr",
     "output_type": "stream",
     "text": [
      "Epoch 41 Val: 100%|██████████| 55/55 [00:00<00:00, 125.26it/s]\n"
     ]
    },
    {
     "name": "stdout",
     "output_type": "stream",
     "text": [
      "Epoch 41: Val Loss 40257.9201, Val R2 = 0.216, Val RMSE = 0.255, Val MSE = 0.065, Val MAE = 0.218\n"
     ]
    },
    {
     "name": "stderr",
     "output_type": "stream",
     "text": [
      "100%|██████████| 176/176 [00:06<00:00, 28.40it/s]\n"
     ]
    },
    {
     "name": "stdout",
     "output_type": "stream",
     "text": [
      "Epoch 42: Train Loss 30967.4926, Train R2 = 0.938, Train RMSE = 0.072, Train MSE = 0.005, Train MAE = 0.052\n"
     ]
    },
    {
     "name": "stderr",
     "output_type": "stream",
     "text": [
      "Epoch 42 Val: 100%|██████████| 55/55 [00:00<00:00, 131.86it/s]\n"
     ]
    },
    {
     "name": "stdout",
     "output_type": "stream",
     "text": [
      "Epoch 42: Val Loss 46687.2719, Val R2 = 0.078, Val RMSE = 0.277, Val MSE = 0.077, Val MAE = 0.235\n"
     ]
    },
    {
     "name": "stderr",
     "output_type": "stream",
     "text": [
      "100%|██████████| 176/176 [00:06<00:00, 28.44it/s]\n"
     ]
    },
    {
     "name": "stdout",
     "output_type": "stream",
     "text": [
      "Epoch 43: Train Loss 24941.7157, Train R2 = 0.954, Train RMSE = 0.062, Train MSE = 0.004, Train MAE = 0.047\n"
     ]
    },
    {
     "name": "stderr",
     "output_type": "stream",
     "text": [
      "Epoch 43 Val: 100%|██████████| 55/55 [00:00<00:00, 123.89it/s]\n"
     ]
    },
    {
     "name": "stdout",
     "output_type": "stream",
     "text": [
      "Epoch 43: Val Loss 91694.5112, Val R2 = -0.903, Val RMSE = 0.398, Val MSE = 0.158, Val MAE = 0.344\n"
     ]
    },
    {
     "name": "stderr",
     "output_type": "stream",
     "text": [
      "100%|██████████| 176/176 [00:06<00:00, 27.45it/s]\n"
     ]
    },
    {
     "name": "stdout",
     "output_type": "stream",
     "text": [
      "Epoch 44: Train Loss 31387.5916, Train R2 = 0.940, Train RMSE = 0.071, Train MSE = 0.005, Train MAE = 0.052\n"
     ]
    },
    {
     "name": "stderr",
     "output_type": "stream",
     "text": [
      "Epoch 44 Val: 100%|██████████| 55/55 [00:00<00:00, 122.73it/s]\n"
     ]
    },
    {
     "name": "stdout",
     "output_type": "stream",
     "text": [
      "Epoch 44: Val Loss 49170.3280, Val R2 = 0.039, Val RMSE = 0.283, Val MSE = 0.080, Val MAE = 0.244\n"
     ]
    },
    {
     "name": "stderr",
     "output_type": "stream",
     "text": [
      "100%|██████████| 176/176 [00:06<00:00, 27.54it/s]\n"
     ]
    },
    {
     "name": "stdout",
     "output_type": "stream",
     "text": [
      "Epoch 45: Train Loss 27640.2081, Train R2 = 0.952, Train RMSE = 0.063, Train MSE = 0.004, Train MAE = 0.047\n"
     ]
    },
    {
     "name": "stderr",
     "output_type": "stream",
     "text": [
      "Epoch 45 Val: 100%|██████████| 55/55 [00:00<00:00, 120.84it/s]\n"
     ]
    },
    {
     "name": "stdout",
     "output_type": "stream",
     "text": [
      "Epoch 45: Val Loss 70899.2688, Val R2 = -0.479, Val RMSE = 0.351, Val MSE = 0.123, Val MAE = 0.290\n"
     ]
    },
    {
     "name": "stderr",
     "output_type": "stream",
     "text": [
      "100%|██████████| 176/176 [00:06<00:00, 26.41it/s]\n"
     ]
    },
    {
     "name": "stdout",
     "output_type": "stream",
     "text": [
      "Epoch 46: Train Loss 75748.1981, Train R2 = 0.847, Train RMSE = 0.113, Train MSE = 0.013, Train MAE = 0.069\n"
     ]
    },
    {
     "name": "stderr",
     "output_type": "stream",
     "text": [
      "Epoch 46 Val: 100%|██████████| 55/55 [00:00<00:00, 113.21it/s]\n"
     ]
    },
    {
     "name": "stdout",
     "output_type": "stream",
     "text": [
      "Epoch 46: Val Loss 76790.9338, Val R2 = -0.582, Val RMSE = 0.363, Val MSE = 0.132, Val MAE = 0.303\n"
     ]
    },
    {
     "name": "stderr",
     "output_type": "stream",
     "text": [
      "100%|██████████| 176/176 [00:06<00:00, 26.91it/s]\n"
     ]
    },
    {
     "name": "stdout",
     "output_type": "stream",
     "text": [
      "Epoch 47: Train Loss 27320.1324, Train R2 = 0.945, Train RMSE = 0.068, Train MSE = 0.005, Train MAE = 0.050\n"
     ]
    },
    {
     "name": "stderr",
     "output_type": "stream",
     "text": [
      "Epoch 47 Val: 100%|██████████| 55/55 [00:00<00:00, 121.66it/s]\n"
     ]
    },
    {
     "name": "stdout",
     "output_type": "stream",
     "text": [
      "Epoch 47: Val Loss 56840.8029, Val R2 = -0.151, Val RMSE = 0.309, Val MSE = 0.096, Val MAE = 0.260\n"
     ]
    },
    {
     "name": "stderr",
     "output_type": "stream",
     "text": [
      "100%|██████████| 176/176 [00:06<00:00, 26.17it/s]\n"
     ]
    },
    {
     "name": "stdout",
     "output_type": "stream",
     "text": [
      "Epoch 48: Train Loss 24629.9598, Train R2 = 0.950, Train RMSE = 0.064, Train MSE = 0.004, Train MAE = 0.049\n"
     ]
    },
    {
     "name": "stderr",
     "output_type": "stream",
     "text": [
      "Epoch 48 Val: 100%|██████████| 55/55 [00:00<00:00, 115.35it/s]\n"
     ]
    },
    {
     "name": "stdout",
     "output_type": "stream",
     "text": [
      "Epoch 48: Val Loss 52002.8117, Val R2 = -0.029, Val RMSE = 0.292, Val MSE = 0.086, Val MAE = 0.248\n"
     ]
    },
    {
     "name": "stderr",
     "output_type": "stream",
     "text": [
      "100%|██████████| 176/176 [00:06<00:00, 25.66it/s]\n"
     ]
    },
    {
     "name": "stdout",
     "output_type": "stream",
     "text": [
      "Epoch 49: Train Loss 24054.6230, Train R2 = 0.952, Train RMSE = 0.064, Train MSE = 0.004, Train MAE = 0.049\n"
     ]
    },
    {
     "name": "stderr",
     "output_type": "stream",
     "text": [
      "Epoch 49 Val: 100%|██████████| 55/55 [00:00<00:00, 115.29it/s]\n"
     ]
    },
    {
     "name": "stdout",
     "output_type": "stream",
     "text": [
      "Epoch 49: Val Loss 68624.8986, Val R2 = -0.405, Val RMSE = 0.342, Val MSE = 0.117, Val MAE = 0.286\n"
     ]
    },
    {
     "name": "stderr",
     "output_type": "stream",
     "text": [
      "100%|██████████| 176/176 [00:06<00:00, 25.67it/s]\n"
     ]
    },
    {
     "name": "stdout",
     "output_type": "stream",
     "text": [
      "Epoch 50: Train Loss 21421.0290, Train R2 = 0.957, Train RMSE = 0.060, Train MSE = 0.004, Train MAE = 0.046\n"
     ]
    },
    {
     "name": "stderr",
     "output_type": "stream",
     "text": [
      "Epoch 50 Val: 100%|██████████| 55/55 [00:00<00:00, 111.87it/s]"
     ]
    },
    {
     "name": "stdout",
     "output_type": "stream",
     "text": [
      "Epoch 50: Val Loss 76386.1066, Val R2 = -0.585, Val RMSE = 0.363, Val MSE = 0.132, Val MAE = 0.302\n"
     ]
    },
    {
     "name": "stderr",
     "output_type": "stream",
     "text": [
      "\n"
     ]
    },
    {
     "data": {
      "text/plain": [
       "{'train_loss': [206376.6879272461,\n",
       "  220402.12165138937,\n",
       "  235900.1481101296,\n",
       "  255953.65934337268,\n",
       "  241976.57311456854,\n",
       "  240621.2733820135,\n",
       "  249976.81322687323,\n",
       "  268819.35263893823,\n",
       "  284557.54395086115,\n",
       "  274912.48562344635,\n",
       "  292296.01546963776,\n",
       "  312885.3311212713,\n",
       "  326744.66379061615,\n",
       "  320385.671985973,\n",
       "  314011.2428977273,\n",
       "  317232.51592462714,\n",
       "  316931.081340443,\n",
       "  344536.8298894709,\n",
       "  287825.844662753,\n",
       "  254085.394411954,\n",
       "  246149.7901056463,\n",
       "  206931.2551574707,\n",
       "  301426.1269337047,\n",
       "  171828.4806241122,\n",
       "  158761.70386851917,\n",
       "  108689.35564630682,\n",
       "  97415.78309492632,\n",
       "  89073.48227483575,\n",
       "  138371.4549560547,\n",
       "  101425.93190557306,\n",
       "  104780.88428011807,\n",
       "  71074.78412420099,\n",
       "  52244.27993635698,\n",
       "  67744.4604991566,\n",
       "  43984.74745594372,\n",
       "  51864.34367162531,\n",
       "  37638.791259765625,\n",
       "  59281.56666426225,\n",
       "  71813.67707824707,\n",
       "  39892.9337088845,\n",
       "  30157.28056890314,\n",
       "  30967.492573824795,\n",
       "  24941.715742631393,\n",
       "  31387.591607527298,\n",
       "  27640.208131269974,\n",
       "  75748.19809930975,\n",
       "  27320.132422013718,\n",
       "  24629.959754943848,\n",
       "  24054.622976823288,\n",
       "  21421.029038862747],\n",
       " 'train_r2': [0.5791367141009002,\n",
       "  0.5493121406041671,\n",
       "  0.5199166501021021,\n",
       "  0.4781546895343286,\n",
       "  0.5065306841990671,\n",
       "  0.5080778216028989,\n",
       "  0.49234244811491656,\n",
       "  0.4591781453041198,\n",
       "  0.42051273681289747,\n",
       "  0.4392137382641367,\n",
       "  0.4046512784412346,\n",
       "  0.3639088586172464,\n",
       "  0.3334982527718475,\n",
       "  0.34762083822260303,\n",
       "  0.36181190882996106,\n",
       "  0.3583402003977263,\n",
       "  0.3571815519618333,\n",
       "  0.3058600638305887,\n",
       "  0.4158766615170001,\n",
       "  0.4863278565399364,\n",
       "  0.5043392292652251,\n",
       "  0.5869543098355402,\n",
       "  0.39179275984593587,\n",
       "  0.651801744817456,\n",
       "  0.6845686660223609,\n",
       "  0.7798351774880521,\n",
       "  0.8066936133378828,\n",
       "  0.8244466977881872,\n",
       "  0.7187452855982928,\n",
       "  0.7942226374885626,\n",
       "  0.7873740300520697,\n",
       "  0.857499169102,\n",
       "  0.8991912717966913,\n",
       "  0.8654388867993502,\n",
       "  0.9121777620674385,\n",
       "  0.9002232804502213,\n",
       "  0.9251515528391788,\n",
       "  0.8792764416512278,\n",
       "  0.8577476674834149,\n",
       "  0.924283116953114,\n",
       "  0.9403293578002727,\n",
       "  0.9375517916421313,\n",
       "  0.9537713887084097,\n",
       "  0.9399306989925253,\n",
       "  0.9519295678965829,\n",
       "  0.8469344156430885,\n",
       "  0.9452174049525389,\n",
       "  0.9504986534547007,\n",
       "  0.9515720183231237,\n",
       "  0.9570723691457241],\n",
       " 'train_mae': [0.11003075,\n",
       "  0.10744119,\n",
       "  0.10888535,\n",
       "  0.11301162,\n",
       "  0.11043837,\n",
       "  0.11032399,\n",
       "  0.1113811,\n",
       "  0.11638249,\n",
       "  0.11851834,\n",
       "  0.118009135,\n",
       "  0.12559131,\n",
       "  0.13335808,\n",
       "  0.13730043,\n",
       "  0.13884194,\n",
       "  0.14001699,\n",
       "  0.14138335,\n",
       "  0.13915049,\n",
       "  0.148447,\n",
       "  0.13659278,\n",
       "  0.12550795,\n",
       "  0.12264173,\n",
       "  0.118195355,\n",
       "  0.13589892,\n",
       "  0.10036996,\n",
       "  0.09187001,\n",
       "  0.078660145,\n",
       "  0.07678826,\n",
       "  0.079962194,\n",
       "  0.088194475,\n",
       "  0.079265356,\n",
       "  0.07788406,\n",
       "  0.0702805,\n",
       "  0.06413078,\n",
       "  0.06999081,\n",
       "  0.059127014,\n",
       "  0.06029987,\n",
       "  0.05564564,\n",
       "  0.06810227,\n",
       "  0.06967312,\n",
       "  0.05588201,\n",
       "  0.05104395,\n",
       "  0.052417256,\n",
       "  0.046513624,\n",
       "  0.051830687,\n",
       "  0.047393024,\n",
       "  0.06870012,\n",
       "  0.050252713,\n",
       "  0.048514344,\n",
       "  0.048891954,\n",
       "  0.045761023],\n",
       " 'train_mse': [0.03504942,\n",
       "  0.037533205,\n",
       "  0.039981253,\n",
       "  0.04345919,\n",
       "  0.041096035,\n",
       "  0.040967193,\n",
       "  0.04227763,\n",
       "  0.04503955,\n",
       "  0.048259597,\n",
       "  0.04670218,\n",
       "  0.049580537,\n",
       "  0.05297356,\n",
       "  0.055506144,\n",
       "  0.054330017,\n",
       "  0.05314819,\n",
       "  0.053437307,\n",
       "  0.05353381,\n",
       "  0.05780785,\n",
       "  0.04864569,\n",
       "  0.042778526,\n",
       "  0.04127854,\n",
       "  0.03439837,\n",
       "  0.050651394,\n",
       "  0.028997889,\n",
       "  0.026269065,\n",
       "  0.018335288,\n",
       "  0.016098522,\n",
       "  0.014620048,\n",
       "  0.023422843,\n",
       "  0.017137103,\n",
       "  0.017707452,\n",
       "  0.011867444,\n",
       "  0.008395333,\n",
       "  0.0112062255,\n",
       "  0.00731382,\n",
       "  0.008309388,\n",
       "  0.0062333653,\n",
       "  0.010053836,\n",
       "  0.011846748,\n",
       "  0.0063056885,\n",
       "  0.004969361,\n",
       "  0.005200676,\n",
       "  0.0038499108,\n",
       "  0.005002561,\n",
       "  0.0040032975,\n",
       "  0.012747274,\n",
       "  0.004562285,\n",
       "  0.004122463,\n",
       "  0.004033074,\n",
       "  0.0035750053],\n",
       " 'train_rmse': [0.1872149,\n",
       "  0.19373488,\n",
       "  0.19995312,\n",
       "  0.20846868,\n",
       "  0.20272157,\n",
       "  0.20240355,\n",
       "  0.20561525,\n",
       "  0.21222523,\n",
       "  0.21968067,\n",
       "  0.21610688,\n",
       "  0.22266687,\n",
       "  0.23015986,\n",
       "  0.23559742,\n",
       "  0.233088,\n",
       "  0.23053892,\n",
       "  0.23116511,\n",
       "  0.23137374,\n",
       "  0.24043263,\n",
       "  0.22055767,\n",
       "  0.2068297,\n",
       "  0.20317121,\n",
       "  0.18546797,\n",
       "  0.22505865,\n",
       "  0.17028767,\n",
       "  0.16207734,\n",
       "  0.13540787,\n",
       "  0.12687995,\n",
       "  0.120913394,\n",
       "  0.15304524,\n",
       "  0.13090876,\n",
       "  0.13306935,\n",
       "  0.1089378,\n",
       "  0.09162605,\n",
       "  0.10585946,\n",
       "  0.08552088,\n",
       "  0.09115584,\n",
       "  0.078951664,\n",
       "  0.10026882,\n",
       "  0.10884277,\n",
       "  0.07940836,\n",
       "  0.07049369,\n",
       "  0.07211571,\n",
       "  0.06204765,\n",
       "  0.07072879,\n",
       "  0.06327162,\n",
       "  0.112903826,\n",
       "  0.067544684,\n",
       "  0.06420641,\n",
       "  0.063506484,\n",
       "  0.05979135],\n",
       " 'val_loss': [221092.69030872692,\n",
       "  168240.86168809372,\n",
       "  176350.20848749334,\n",
       "  206464.61906120993,\n",
       "  178413.71443252562,\n",
       "  172889.86931859798,\n",
       "  200028.73959655763,\n",
       "  183282.73981711647,\n",
       "  176104.13311944442,\n",
       "  146510.68002180618,\n",
       "  182980.75439002298,\n",
       "  138504.12968007868,\n",
       "  116021.48982464183,\n",
       "  93707.25521250638,\n",
       "  106509.16713811702,\n",
       "  133702.15989622637,\n",
       "  122065.46002131376,\n",
       "  127740.32086708762,\n",
       "  173594.61306596236,\n",
       "  163846.2985928622,\n",
       "  211387.51315696022,\n",
       "  126531.00250583995,\n",
       "  85165.19097317783,\n",
       "  70084.7435227134,\n",
       "  70742.01350319602,\n",
       "  42635.13137207031,\n",
       "  52264.70063365589,\n",
       "  145312.8723815918,\n",
       "  61847.18952359286,\n",
       "  56299.17610418146,\n",
       "  51083.64951948686,\n",
       "  35722.17085626775,\n",
       "  201221.04923650567,\n",
       "  122490.90578169389,\n",
       "  40933.91254549893,\n",
       "  54315.06856023615,\n",
       "  327305.09523703833,\n",
       "  78306.21473471902,\n",
       "  45831.93770751953,\n",
       "  41479.19696988192,\n",
       "  40257.92013827237,\n",
       "  46687.27192271839,\n",
       "  91694.511188299,\n",
       "  49170.32797393799,\n",
       "  70899.26875110973,\n",
       "  76790.93381847035,\n",
       "  56840.80289861506,\n",
       "  52002.81169378107,\n",
       "  68624.89861339223,\n",
       "  76386.10655684037],\n",
       " 'val_r2': [-3.7220223036460203,\n",
       "  -2.5937660125114537,\n",
       "  -2.766923447474661,\n",
       "  -3.4100802788862365,\n",
       "  -2.8103711425244455,\n",
       "  -2.6921062976783094,\n",
       "  -3.2725101070997598,\n",
       "  -2.9145026835920835,\n",
       "  -2.7602077452798577,\n",
       "  -2.1276250482593793,\n",
       "  -2.906857896272634,\n",
       "  -1.9531281572086248,\n",
       "  -1.4718519892889868,\n",
       "  -0.9931548921038296,\n",
       "  -1.2670224145926308,\n",
       "  -1.8433372390407667,\n",
       "  -1.5951412169706076,\n",
       "  -1.71408639841487,\n",
       "  -2.6982347798684594,\n",
       "  -2.49545343784824,\n",
       "  -3.503123118267786,\n",
       "  -1.6877834969542875,\n",
       "  -0.788532091504996,\n",
       "  -0.4477008034847343,\n",
       "  -0.47807172065747183,\n",
       "  0.12997400950172633,\n",
       "  -0.04631122591421932,\n",
       "  -2.013102662492625,\n",
       "  -0.2468014143966557,\n",
       "  -0.12414544830729501,\n",
       "  0.07774600682987376,\n",
       "  0.34381322631674527,\n",
       "  -3.2667355645920058,\n",
       "  -1.4919852067618353,\n",
       "  0.1627420736205215,\n",
       "  -0.0619529660894611,\n",
       "  -5.937525122401917,\n",
       "  -0.6402850700859786,\n",
       "  0.06752003030363374,\n",
       "  0.17454886321146812,\n",
       "  0.21641518795383274,\n",
       "  0.07796426258371125,\n",
       "  -0.903000345294019,\n",
       "  0.03942104723361761,\n",
       "  -0.47916799717511527,\n",
       "  -0.5816592111571013,\n",
       "  -0.1511363669880923,\n",
       "  -0.028671905845000456,\n",
       "  -0.40533405875245143,\n",
       "  -0.5846257892978475],\n",
       " 'val_mae': [0.5550141,\n",
       "  0.46566078,\n",
       "  0.48069656,\n",
       "  0.5317634,\n",
       "  0.48565435,\n",
       "  0.47604707,\n",
       "  0.5204157,\n",
       "  0.49080503,\n",
       "  0.48123583,\n",
       "  0.4211348,\n",
       "  0.49275267,\n",
       "  0.41030672,\n",
       "  0.3683085,\n",
       "  0.3296303,\n",
       "  0.3526688,\n",
       "  0.4050779,\n",
       "  0.38751078,\n",
       "  0.39851382,\n",
       "  0.4839439,\n",
       "  0.46842602,\n",
       "  0.5520566,\n",
       "  0.39662242,\n",
       "  0.32124534,\n",
       "  0.28787702,\n",
       "  0.30420116,\n",
       "  0.22916481,\n",
       "  0.2505961,\n",
       "  0.44244626,\n",
       "  0.2719961,\n",
       "  0.26536417,\n",
       "  0.22799544,\n",
       "  0.19152868,\n",
       "  0.5446979,\n",
       "  0.41506684,\n",
       "  0.22517289,\n",
       "  0.25705355,\n",
       "  0.6529618,\n",
       "  0.31071037,\n",
       "  0.23636895,\n",
       "  0.22456649,\n",
       "  0.21799488,\n",
       "  0.23495904,\n",
       "  0.3436511,\n",
       "  0.24422914,\n",
       "  0.2904939,\n",
       "  0.3026411,\n",
       "  0.25986114,\n",
       "  0.24778955,\n",
       "  0.28604075,\n",
       "  0.30208457],\n",
       " 'val_mse': [0.39268884,\n",
       "  0.29886174,\n",
       "  0.31326172,\n",
       "  0.36674735,\n",
       "  0.3168749,\n",
       "  0.30703986,\n",
       "  0.3553069,\n",
       "  0.32553458,\n",
       "  0.31270325,\n",
       "  0.26009694,\n",
       "  0.32489884,\n",
       "  0.24558555,\n",
       "  0.20556207,\n",
       "  0.16575307,\n",
       "  0.18852821,\n",
       "  0.23645522,\n",
       "  0.21581495,\n",
       "  0.22570656,\n",
       "  0.30754948,\n",
       "  0.29068595,\n",
       "  0.37448493,\n",
       "  0.22351919,\n",
       "  0.1487364,\n",
       "  0.12039248,\n",
       "  0.12291816,\n",
       "  0.07235237,\n",
       "  0.087012455,\n",
       "  0.25057313,\n",
       "  0.103685446,\n",
       "  0.093485236,\n",
       "  0.07669571,\n",
       "  0.05456925,\n",
       "  0.3548267,\n",
       "  0.20723636,\n",
       "  0.06962734,\n",
       "  0.088313244,\n",
       "  0.5769326,\n",
       "  0.13640802,\n",
       "  0.07754611,\n",
       "  0.06864547,\n",
       "  0.06516383,\n",
       "  0.07667755,\n",
       "  0.15825573,\n",
       "  0.07988287,\n",
       "  0.123009324,\n",
       "  0.13153262,\n",
       "  0.095729835,\n",
       "  0.08554555,\n",
       "  0.11686921,\n",
       "  0.13177931],\n",
       " 'val_rmse': [0.6266489,\n",
       "  0.5466825,\n",
       "  0.55969787,\n",
       "  0.60559666,\n",
       "  0.5629164,\n",
       "  0.5541118,\n",
       "  0.59607625,\n",
       "  0.5705564,\n",
       "  0.55919874,\n",
       "  0.509997,\n",
       "  0.569999,\n",
       "  0.4955659,\n",
       "  0.45338953,\n",
       "  0.40712783,\n",
       "  0.43419835,\n",
       "  0.4862666,\n",
       "  0.46455887,\n",
       "  0.47508585,\n",
       "  0.55457145,\n",
       "  0.539153,\n",
       "  0.6119517,\n",
       "  0.47277817,\n",
       "  0.3856636,\n",
       "  0.3469762,\n",
       "  0.35059687,\n",
       "  0.26898396,\n",
       "  0.29497874,\n",
       "  0.5005728,\n",
       "  0.32200223,\n",
       "  0.30575356,\n",
       "  0.2769399,\n",
       "  0.23360063,\n",
       "  0.5956733,\n",
       "  0.4552322,\n",
       "  0.2638699,\n",
       "  0.29717544,\n",
       "  0.7595608,\n",
       "  0.36933455,\n",
       "  0.27847102,\n",
       "  0.2620028,\n",
       "  0.25527206,\n",
       "  0.27690712,\n",
       "  0.39781368,\n",
       "  0.28263557,\n",
       "  0.35072684,\n",
       "  0.36267427,\n",
       "  0.30940238,\n",
       "  0.2924817,\n",
       "  0.3418614,\n",
       "  0.3630142]}"
      ]
     },
     "execution_count": 312,
     "metadata": {},
     "output_type": "execute_result"
    }
   ],
   "source": [
    "train_results = train(model, train_loader, val_loader, optimizer, criterion, device, 50)\n",
    "\n",
    "train_results"
   ]
  },
  {
   "cell_type": "code",
   "execution_count": 313,
   "id": "a2b068a5",
   "metadata": {},
   "outputs": [],
   "source": [
    "def plot_training_history(loss_history, metric_history=None):\n",
    "    plt.figure(figsize=(12, 5))\n",
    "\n",
    "    # Loss plot\n",
    "    plt.subplot(1, 2, 1)\n",
    "    plt.plot(loss_history, label='Training Loss')\n",
    "    plt.title('Training Loss Curve')\n",
    "    plt.xlabel('Epoch')\n",
    "    plt.ylabel('Loss')\n",
    "    plt.grid(True)\n",
    "    \n",
    "    # Metrics plot\n",
    "    if metric_history:\n",
    "        plt.subplot(1, 2, 2)\n",
    "        for metric_name, values in metric_history.items():\n",
    "            plt.plot(values, label=metric_name)\n",
    "        plt.title('Training Metrics')\n",
    "        plt.xlabel('Epoch')\n",
    "        plt.ylabel('Metric Value')\n",
    "        plt.grid(True)\n",
    "        plt.legend()\n",
    "    \n",
    "    plt.tight_layout()\n",
    "    plt.show()\n",
    "\n",
    "def plot_predictions_vs_actuals(y_true, y_pred, title='Predictions vs True Values'):\n",
    "    plt.figure(figsize=(12, 6))\n",
    "    plt.plot(y_true, label='True Values', linewidth=2)\n",
    "    plt.plot(y_pred, label='Predictions', linestyle='--')\n",
    "    plt.xlabel('Time Step')\n",
    "    plt.ylabel('Value')\n",
    "    plt.title(title)\n",
    "    plt.legend()\n",
    "    plt.grid(True)\n",
    "    plt.show()\n",
    "\n"
   ]
  },
  {
   "cell_type": "code",
   "execution_count": 314,
   "id": "546655a0",
   "metadata": {},
   "outputs": [
    {
     "data": {
      "image/png": "[encoded data removed]",
      "text/plain": [
       "<Figure size 1200x500 with 2 Axes>"
      ]
     },
     "metadata": {},
     "output_type": "display_data"
    }
   ],
   "source": [
    "plot_training_history(\n",
    "    train_results['train_loss'],\n",
    "    {\n",
    "        'rmse': train_results['train_rmse'],\n",
    "        'mae': train_results['train_mae'],\n",
    "        'mse': train_results['train_mse'],\n",
    "        'r2': train_results['train_r2'],\n",
    "    }\n",
    ")"
   ]
  },
  {
   "cell_type": "code",
   "execution_count": 182,
   "id": "400eea63",
   "metadata": {},
   "outputs": [
    {
     "data": {
      "text/plain": [
       "113"
      ]
     },
     "execution_count": 182,
     "metadata": {},
     "output_type": "execute_result"
    }
   ],
   "source": [
    "len(test_loader)"
   ]
  },
  {
   "cell_type": "code",
   "execution_count": 318,
   "id": "15c351fd",
   "metadata": {},
   "outputs": [],
   "source": [
    "model.load_state_dict(torch.load('best_r2_model.pth', weights_only=True))\n",
    "\n",
    "def test(\n",
    "    model,\n",
    "    test_loader,\n",
    "    device,\n",
    "):\n",
    "    model.eval()\n",
    "\n",
    "    test_preds = []\n",
    "    test_targets = []\n",
    "\n",
    "    test_r2 = []\n",
    "    test_mae = []\n",
    "    test_mse = []\n",
    "    test_rmse = []\n",
    "    \n",
    "    with torch.no_grad():\n",
    "        for data, labels in tqdm(test_loader):\n",
    "            data = data.to(device)\n",
    "            labels = labels.to(device)\n",
    "            predictions = model(data).flatten()\n",
    "            \n",
    "            # predictions = torch.cummin(predictions.flip(0), dim=0).values.flip(-1)\n",
    "\n",
    "            test_preds.append(predictions)\n",
    "            test_targets.append(labels)\n",
    "\n",
    "        test_preds = torch.cat(test_preds).cpu().detach().numpy()\n",
    "        test_targets = torch.cat(test_targets).cpu().detach().numpy()\n",
    "\n",
    "        mse = mean_squared_error(test_targets, test_preds)\n",
    "\n",
    "        test_r2.append(r2_score(test_targets, test_preds))\n",
    "        test_mae.append(mean_absolute_error(test_targets, test_preds))\n",
    "        test_mse.append(mse)\n",
    "        test_rmse.append(np.sqrt(mse))\n",
    "\n",
    "    return {\n",
    "        'test_r2': test_r2,\n",
    "        'test_mae': test_mae,\n",
    "        'test_mse': test_mse,\n",
    "        'test_rmse': test_rmse,\n",
    "        'test_preds': test_preds,\n",
    "        'test_targets': test_targets,\n",
    "    }\n",
    "          "
   ]
  },
  {
   "cell_type": "code",
   "execution_count": 319,
   "id": "e519ea9d",
   "metadata": {},
   "outputs": [
    {
     "name": "stderr",
     "output_type": "stream",
     "text": [
      "100%|██████████| 113/113 [00:00<00:00, 156.55it/s]\n"
     ]
    },
    {
     "data": {
      "text/plain": [
       "{'test_r2': [-2.300435542514811],\n",
       " 'test_mae': [0.38305703],\n",
       " 'test_mse': [0.15817097],\n",
       " 'test_rmse': [0.39770713],\n",
       " 'test_preds': array([0.4776669 , 0.48015353, 0.48236725, ..., 0.19974852, 0.20821479,\n",
       "        0.1579358 ], dtype=float32),\n",
       " 'test_targets': array([[0.99962103],\n",
       "        [0.9994105 ],\n",
       "        [0.9992    ],\n",
       "        ...,\n",
       "        [0.24190493],\n",
       "        [0.24169439],\n",
       "        [0.24148385]], dtype=float32)}"
      ]
     },
     "execution_count": 319,
     "metadata": {},
     "output_type": "execute_result"
    }
   ],
   "source": [
    "test_results = test(model, test_loader, device)\n",
    "\n",
    "test_results"
   ]
  },
  {
   "cell_type": "code",
   "execution_count": 321,
   "id": "df88c977",
   "metadata": {},
   "outputs": [
    {
     "data": {
      "image/png": "[encoded data removed]",
      "text/plain": [
       "<Figure size 1200x600 with 1 Axes>"
      ]
     },
     "metadata": {},
     "output_type": "display_data"
    }
   ],
   "source": [
    "plot_predictions_vs_actuals(\n",
    "    test_results['test_targets'],\n",
    "    test_results['test_preds'] + 0.4\n",
    ")"
   ]
  },
  {
   "cell_type": "code",
   "execution_count": null,
   "id": "b00566d8",
   "metadata": {},
   "outputs": [
    {
     "data": {
      "text/plain": [
       "(4602, 1)"
      ]
     },
     "execution_count": 288,
     "metadata": {},
     "output_type": "execute_result"
    }
   ],
   "source": [
    "test_results['test_targets']"
   ]
  },
  {
   "cell_type": "code",
   "execution_count": 300,
   "id": "a238957f",
   "metadata": {},
   "outputs": [
    {
     "data": {
      "text/plain": [
       "array([0.02777791, 0.02777791, 0.02777791, ..., 0.02777791, 0.02777791,\n",
       "       0.02777791], dtype=float32)"
      ]
     },
     "execution_count": 300,
     "metadata": {},
     "output_type": "execute_result"
    }
   ],
   "source": [
    "test_results['test_preds']"
   ]
  },
  {
   "cell_type": "code",
   "execution_count": 151,
   "id": "4b998a87",
   "metadata": {},
   "outputs": [
    {
     "data": {
      "text/plain": [
       "[<matplotlib.lines.Line2D at 0x7fdf5e9b52d0>]"
      ]
     },
     "execution_count": 151,
     "metadata": {},
     "output_type": "execute_result"
    },
    {
     "data": {
      "image/png": "[encoded data removed]",
      "text/plain": [
       "<Figure size 640x480 with 1 Axes>"
      ]
     },
     "metadata": {},
     "output_type": "display_data"
    }
   ],
   "source": [
    "plt.plot(test_results['rul'].cpu().numpy())"
   ]
  },
  {
   "cell_type": "code",
   "execution_count": null,
   "id": "a115a487",
   "metadata": {},
   "outputs": [],
   "source": []
  }
 ],
 "metadata": {
  "kernelspec": {
   "display_name": "bearing_rul",
   "language": "python",
   "name": "python3"
  },
  "language_info": {
   "codemirror_mode": {
    "name": "ipython",
    "version": 3
   },
   "file_extension": ".py",
   "mimetype": "text/x-python",
   "name": "python",
   "nbconvert_exporter": "python",
   "pygments_lexer": "ipython3",
   "version": "3.10.11"
  }
 },
 "nbformat": 4,
 "nbformat_minor": 5
}
