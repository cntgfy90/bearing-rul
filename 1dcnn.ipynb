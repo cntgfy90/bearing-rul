{
 "cells": [
  {
   "cell_type": "code",
   "execution_count": 1,
   "id": "3f31f366",
   "metadata": {},
   "outputs": [
    {
     "name": "stderr",
     "output_type": "stream",
     "text": [
      "/home/stepan/Private/bearing_rul/lib/python3.10/site-packages/xgboost/core.py:377: FutureWarning: Your system has an old version of glibc (< 2.28). We will stop supporting Linux distros with glibc older than 2.28 after **May 31, 2025**. Please upgrade to a recent Linux distro (with glibc >= 2.28) to use future versions of XGBoost.\n",
      "Note: You have installed the 'manylinux2014' variant of XGBoost. Certain features such as GPU algorithms or federated learning are not available. To use these features, please upgrade to a recent Linux distro with glibc 2.28+, and install the 'manylinux_2_28' variant.\n",
      "  warnings.warn(\n"
     ]
    }
   ],
   "source": [
    "import numpy as np\n",
    "import pandas as pd\n",
    "from torch import nn\n",
    "from phmd import datasets\n",
    "from sklearn.preprocessing import MinMaxScaler, StandardScaler, OneHotEncoder, RobustScaler\n",
    "from scipy.stats import kurtosis\n",
    "from scipy.fft import fft\n",
    "from scipy.fft import fft, fftfreq\n",
    "from sklearn.svm import SVR\n",
    "from sklearn.ensemble import RandomForestRegressor\n",
    "from sklearn.metrics import mean_absolute_error, mean_squared_error, r2_score\n",
    "from xgboost import XGBRegressor\n",
    "import matplotlib.pyplot as plt\n",
    "import seaborn as sns\n",
    "import os\n",
    "import torch\n",
    "from tqdm import tqdm"
   ]
  },
  {
   "cell_type": "code",
   "execution_count": 2,
   "id": "dad711b3",
   "metadata": {},
   "outputs": [],
   "source": [
    "def early_prediction_score(y_true, y_pred, alpha=0.5):\n",
    "    errors = y_pred - y_true\n",
    "    # Heavier penalty for late predictions\n",
    "    weights = np.where(errors < 0, alpha, 1)\n",
    "    return np.mean(weights * errors**2)"
   ]
  },
  {
   "cell_type": "code",
   "execution_count": 3,
   "id": "95d37866",
   "metadata": {},
   "outputs": [],
   "source": [
    "TRAIN_BEARINGS = {\n",
    "    1: [\n",
    "        '1_1',\n",
    "        '1_2',\n",
    "    ],\n",
    "    2: [\n",
    "        '2_1',\n",
    "        '2_2',\n",
    "    ],\n",
    "    3: [\n",
    "        '3_1',\n",
    "        '3_2',\n",
    "    ]\n",
    "}\n",
    "\n",
    "TEST_BEARINGS = {\n",
    "    1: [\n",
    "        '1_3',\n",
    "        '1_4',\n",
    "        '1_5',\n",
    "        '1_6',\n",
    "        '1_7',\n",
    "    ],\n",
    "    2: [\n",
    "        '2_3',\n",
    "        '2_4',\n",
    "        '2_5',\n",
    "        '2_6',\n",
    "        '2_7',\n",
    "    ],\n",
    "    3: [\n",
    "        '3_3',\n",
    "    ]\n",
    "}"
   ]
  },
  {
   "cell_type": "code",
   "execution_count": 4,
   "id": "08d3cf88",
   "metadata": {},
   "outputs": [
    {
     "name": "stdout",
     "output_type": "stream",
     "text": [
      "Remember to cite the original publisher dataset:\n",
      "\t@inproceedings{nectoux2012pronostia,    \n",
      "\t    title={PRONOSTIA: An experimental platform for bearings accelerated degradation tests.},    \n",
      "\t    author={Nectoux, Patrick and Gouriveau, Rafael and Medjaher, Kamal and Ramasso, Emmanuel and Chebel-Morello, Brigitte and Zerhouni, Noureddine and Varnier, Christophe},    \n",
      "\t    booktitle={IEEE International Conference on Prognostics and Health Management, PHM'12.},    \n",
      "\t    pages={1--8},    \n",
      "\t    year={2012},    \n",
      "\t    organization={IEEE Catalog Number: CPF12PHM-CDR}    \n",
      "\t}\n",
      "You can download the dataset manually from:  https://www.nasa.gov/intelligent-systems-division/discovery-and-systems-health/pcoe/pcoe-data-set-repository/\n",
      "\n",
      "** If you find this tool useful, please cite our SoftwareX paper: \n",
      "\tSolís-Martín, David, Juan Galán-Páez, and Joaquín Borrego-Díaz. \"PHMD: An easy data access tool for prognosis and health management datasets.\" SoftwareX 29 (2025): 102039.\n",
      "\n"
     ]
    },
    {
     "name": "stderr",
     "output_type": "stream",
     "text": [
      "Reading Bearing3_2: 100%|██████████| 7534/7534 [00:17<00:00, 427.63it/s]\n",
      "Reading Bearing3_3: 100%|██████████| 13959/13959 [00:32<00:00, 434.38it/s]\n",
      "INFO:root:Read in 52.222763538360596 seconds\n"
     ]
    }
   ],
   "source": [
    "dataset = datasets.Dataset('PRONOSTIA')\n",
    "tasks = dataset['rul']\n",
    "df = tasks.load()"
   ]
  },
  {
   "cell_type": "code",
   "execution_count": 5,
   "id": "58e5a4bd",
   "metadata": {},
   "outputs": [
    {
     "data": {
      "text/plain": [
       "array(['1_1', '1_2', '2_1', '2_2', '3_1', '3_2'], dtype=object)"
      ]
     },
     "execution_count": 5,
     "metadata": {},
     "output_type": "execute_result"
    }
   ],
   "source": [
    "# train\n",
    "df[0]['unit'].unique()"
   ]
  },
  {
   "cell_type": "code",
   "execution_count": 6,
   "id": "9e59c6d2",
   "metadata": {},
   "outputs": [
    {
     "data": {
      "text/html": [
       "<div>\n",
       "<style scoped>\n",
       "    .dataframe tbody tr th:only-of-type {\n",
       "        vertical-align: middle;\n",
       "    }\n",
       "\n",
       "    .dataframe tbody tr th {\n",
       "        vertical-align: top;\n",
       "    }\n",
       "\n",
       "    .dataframe thead th {\n",
       "        text-align: right;\n",
       "    }\n",
       "</style>\n",
       "<table border=\"1\" class=\"dataframe\">\n",
       "  <thead>\n",
       "    <tr style=\"text-align: right;\">\n",
       "      <th></th>\n",
       "      <th>V_acc</th>\n",
       "      <th>H_acc</th>\n",
       "      <th>unit</th>\n",
       "      <th>rul</th>\n",
       "    </tr>\n",
       "  </thead>\n",
       "  <tbody>\n",
       "    <tr>\n",
       "      <th>0</th>\n",
       "      <td>-0.146</td>\n",
       "      <td>0.552</td>\n",
       "      <td>1_1</td>\n",
       "      <td>28029</td>\n",
       "    </tr>\n",
       "    <tr>\n",
       "      <th>1</th>\n",
       "      <td>-0.480</td>\n",
       "      <td>0.501</td>\n",
       "      <td>1_1</td>\n",
       "      <td>28029</td>\n",
       "    </tr>\n",
       "    <tr>\n",
       "      <th>2</th>\n",
       "      <td>0.435</td>\n",
       "      <td>0.138</td>\n",
       "      <td>1_1</td>\n",
       "      <td>28029</td>\n",
       "    </tr>\n",
       "    <tr>\n",
       "      <th>3</th>\n",
       "      <td>0.240</td>\n",
       "      <td>-0.423</td>\n",
       "      <td>1_1</td>\n",
       "      <td>28029</td>\n",
       "    </tr>\n",
       "    <tr>\n",
       "      <th>4</th>\n",
       "      <td>0.020</td>\n",
       "      <td>-0.802</td>\n",
       "      <td>1_1</td>\n",
       "      <td>28029</td>\n",
       "    </tr>\n",
       "  </tbody>\n",
       "</table>\n",
       "</div>"
      ],
      "text/plain": [
       "   V_acc  H_acc unit    rul\n",
       "0 -0.146  0.552  1_1  28029\n",
       "1 -0.480  0.501  1_1  28029\n",
       "2  0.435  0.138  1_1  28029\n",
       "3  0.240 -0.423  1_1  28029\n",
       "4  0.020 -0.802  1_1  28029"
      ]
     },
     "execution_count": 6,
     "metadata": {},
     "output_type": "execute_result"
    }
   ],
   "source": [
    "df[0].head(5)"
   ]
  },
  {
   "cell_type": "code",
   "execution_count": 7,
   "id": "36ab7dee",
   "metadata": {},
   "outputs": [
    {
     "data": {
      "text/plain": [
       "array(['1_3', '1_4', '1_5', '1_6', '1_7', '2_3', '2_4', '2_5', '2_6',\n",
       "       '2_7', '3_3'], dtype=object)"
      ]
     },
     "execution_count": 7,
     "metadata": {},
     "output_type": "execute_result"
    }
   ],
   "source": [
    "# test\n",
    "df[1]['unit'].unique()"
   ]
  },
  {
   "cell_type": "code",
   "execution_count": 8,
   "id": "0b4d16d9",
   "metadata": {},
   "outputs": [
    {
     "data": {
      "text/plain": [
       "0          1_1\n",
       "1          1_1\n",
       "2          1_1\n",
       "3          1_1\n",
       "4          1_1\n",
       "          ... \n",
       "2229755    1_2\n",
       "2229756    1_2\n",
       "2229757    1_2\n",
       "2229758    1_2\n",
       "2229759    1_2\n",
       "Name: unit, Length: 9405440, dtype: object"
      ]
     },
     "execution_count": 8,
     "metadata": {},
     "output_type": "execute_result"
    }
   ],
   "source": [
    "df[0][df[0]['unit'].isin(TRAIN_BEARINGS[1])]['unit']"
   ]
  },
  {
   "cell_type": "code",
   "execution_count": 9,
   "id": "c6ecf741",
   "metadata": {},
   "outputs": [
    {
     "data": {
      "text/html": [
       "<div>\n",
       "<style scoped>\n",
       "    .dataframe tbody tr th:only-of-type {\n",
       "        vertical-align: middle;\n",
       "    }\n",
       "\n",
       "    .dataframe tbody tr th {\n",
       "        vertical-align: top;\n",
       "    }\n",
       "\n",
       "    .dataframe thead th {\n",
       "        text-align: right;\n",
       "    }\n",
       "</style>\n",
       "<table border=\"1\" class=\"dataframe\">\n",
       "  <thead>\n",
       "    <tr style=\"text-align: right;\">\n",
       "      <th></th>\n",
       "      <th>V_acc</th>\n",
       "      <th>H_acc</th>\n",
       "      <th>unit</th>\n",
       "      <th>rul</th>\n",
       "    </tr>\n",
       "  </thead>\n",
       "  <tbody>\n",
       "    <tr>\n",
       "      <th>0</th>\n",
       "      <td>-0.146</td>\n",
       "      <td>0.552</td>\n",
       "      <td>1_1</td>\n",
       "      <td>28029</td>\n",
       "    </tr>\n",
       "    <tr>\n",
       "      <th>1</th>\n",
       "      <td>-0.480</td>\n",
       "      <td>0.501</td>\n",
       "      <td>1_1</td>\n",
       "      <td>28029</td>\n",
       "    </tr>\n",
       "    <tr>\n",
       "      <th>2</th>\n",
       "      <td>0.435</td>\n",
       "      <td>0.138</td>\n",
       "      <td>1_1</td>\n",
       "      <td>28029</td>\n",
       "    </tr>\n",
       "    <tr>\n",
       "      <th>3</th>\n",
       "      <td>0.240</td>\n",
       "      <td>-0.423</td>\n",
       "      <td>1_1</td>\n",
       "      <td>28029</td>\n",
       "    </tr>\n",
       "    <tr>\n",
       "      <th>4</th>\n",
       "      <td>0.020</td>\n",
       "      <td>-0.802</td>\n",
       "      <td>1_1</td>\n",
       "      <td>28029</td>\n",
       "    </tr>\n",
       "    <tr>\n",
       "      <th>...</th>\n",
       "      <td>...</td>\n",
       "      <td>...</td>\n",
       "      <td>...</td>\n",
       "      <td>...</td>\n",
       "    </tr>\n",
       "    <tr>\n",
       "      <th>2229755</th>\n",
       "      <td>3.622</td>\n",
       "      <td>-2.595</td>\n",
       "      <td>1_2</td>\n",
       "      <td>0</td>\n",
       "    </tr>\n",
       "    <tr>\n",
       "      <th>2229756</th>\n",
       "      <td>8.675</td>\n",
       "      <td>-2.869</td>\n",
       "      <td>1_2</td>\n",
       "      <td>0</td>\n",
       "    </tr>\n",
       "    <tr>\n",
       "      <th>2229757</th>\n",
       "      <td>8.111</td>\n",
       "      <td>1.457</td>\n",
       "      <td>1_2</td>\n",
       "      <td>0</td>\n",
       "    </tr>\n",
       "    <tr>\n",
       "      <th>2229758</th>\n",
       "      <td>1.403</td>\n",
       "      <td>1.591</td>\n",
       "      <td>1_2</td>\n",
       "      <td>0</td>\n",
       "    </tr>\n",
       "    <tr>\n",
       "      <th>2229759</th>\n",
       "      <td>-0.508</td>\n",
       "      <td>-4.701</td>\n",
       "      <td>1_2</td>\n",
       "      <td>0</td>\n",
       "    </tr>\n",
       "  </tbody>\n",
       "</table>\n",
       "<p>9405440 rows × 4 columns</p>\n",
       "</div>"
      ],
      "text/plain": [
       "         V_acc  H_acc unit    rul\n",
       "0       -0.146  0.552  1_1  28029\n",
       "1       -0.480  0.501  1_1  28029\n",
       "2        0.435  0.138  1_1  28029\n",
       "3        0.240 -0.423  1_1  28029\n",
       "4        0.020 -0.802  1_1  28029\n",
       "...        ...    ...  ...    ...\n",
       "2229755  3.622 -2.595  1_2      0\n",
       "2229756  8.675 -2.869  1_2      0\n",
       "2229757  8.111  1.457  1_2      0\n",
       "2229758  1.403  1.591  1_2      0\n",
       "2229759 -0.508 -4.701  1_2      0\n",
       "\n",
       "[9405440 rows x 4 columns]"
      ]
     },
     "execution_count": 9,
     "metadata": {},
     "output_type": "execute_result"
    }
   ],
   "source": [
    "df[0][df[0]['unit'].isin(TRAIN_BEARINGS[1])]"
   ]
  },
  {
   "cell_type": "code",
   "execution_count": 10,
   "id": "41fc4c80",
   "metadata": {},
   "outputs": [
    {
     "data": {
      "text/html": [
       "<div>\n",
       "<style scoped>\n",
       "    .dataframe tbody tr th:only-of-type {\n",
       "        vertical-align: middle;\n",
       "    }\n",
       "\n",
       "    .dataframe tbody tr th {\n",
       "        vertical-align: top;\n",
       "    }\n",
       "\n",
       "    .dataframe thead th {\n",
       "        text-align: right;\n",
       "    }\n",
       "</style>\n",
       "<table border=\"1\" class=\"dataframe\">\n",
       "  <thead>\n",
       "    <tr style=\"text-align: right;\">\n",
       "      <th></th>\n",
       "      <th>V_acc</th>\n",
       "      <th>H_acc</th>\n",
       "      <th>unit</th>\n",
       "      <th>rul</th>\n",
       "    </tr>\n",
       "  </thead>\n",
       "  <tbody>\n",
       "    <tr>\n",
       "      <th>0</th>\n",
       "      <td>0.044</td>\n",
       "      <td>0.092</td>\n",
       "      <td>1_3</td>\n",
       "      <td>23749</td>\n",
       "    </tr>\n",
       "    <tr>\n",
       "      <th>1</th>\n",
       "      <td>0.432</td>\n",
       "      <td>-0.025</td>\n",
       "      <td>1_3</td>\n",
       "      <td>23749</td>\n",
       "    </tr>\n",
       "    <tr>\n",
       "      <th>2</th>\n",
       "      <td>0.008</td>\n",
       "      <td>-0.104</td>\n",
       "      <td>1_3</td>\n",
       "      <td>23749</td>\n",
       "    </tr>\n",
       "    <tr>\n",
       "      <th>3</th>\n",
       "      <td>-0.264</td>\n",
       "      <td>0.056</td>\n",
       "      <td>1_3</td>\n",
       "      <td>23749</td>\n",
       "    </tr>\n",
       "    <tr>\n",
       "      <th>4</th>\n",
       "      <td>-0.195</td>\n",
       "      <td>0.074</td>\n",
       "      <td>1_3</td>\n",
       "      <td>23749</td>\n",
       "    </tr>\n",
       "    <tr>\n",
       "      <th>...</th>\n",
       "      <td>...</td>\n",
       "      <td>...</td>\n",
       "      <td>...</td>\n",
       "      <td>...</td>\n",
       "    </tr>\n",
       "    <tr>\n",
       "      <th>3845115</th>\n",
       "      <td>-0.013</td>\n",
       "      <td>0.481</td>\n",
       "      <td>1_7</td>\n",
       "      <td>7570</td>\n",
       "    </tr>\n",
       "    <tr>\n",
       "      <th>3845116</th>\n",
       "      <td>-0.272</td>\n",
       "      <td>0.191</td>\n",
       "      <td>1_7</td>\n",
       "      <td>7570</td>\n",
       "    </tr>\n",
       "    <tr>\n",
       "      <th>3845117</th>\n",
       "      <td>0.466</td>\n",
       "      <td>0.250</td>\n",
       "      <td>1_7</td>\n",
       "      <td>7570</td>\n",
       "    </tr>\n",
       "    <tr>\n",
       "      <th>3845118</th>\n",
       "      <td>-0.582</td>\n",
       "      <td>0.001</td>\n",
       "      <td>1_7</td>\n",
       "      <td>7570</td>\n",
       "    </tr>\n",
       "    <tr>\n",
       "      <th>3845119</th>\n",
       "      <td>-0.371</td>\n",
       "      <td>0.199</td>\n",
       "      <td>1_7</td>\n",
       "      <td>7570</td>\n",
       "    </tr>\n",
       "  </tbody>\n",
       "</table>\n",
       "<p>23160320 rows × 4 columns</p>\n",
       "</div>"
      ],
      "text/plain": [
       "         V_acc  H_acc unit    rul\n",
       "0        0.044  0.092  1_3  23749\n",
       "1        0.432 -0.025  1_3  23749\n",
       "2        0.008 -0.104  1_3  23749\n",
       "3       -0.264  0.056  1_3  23749\n",
       "4       -0.195  0.074  1_3  23749\n",
       "...        ...    ...  ...    ...\n",
       "3845115 -0.013  0.481  1_7   7570\n",
       "3845116 -0.272  0.191  1_7   7570\n",
       "3845117  0.466  0.250  1_7   7570\n",
       "3845118 -0.582  0.001  1_7   7570\n",
       "3845119 -0.371  0.199  1_7   7570\n",
       "\n",
       "[23160320 rows x 4 columns]"
      ]
     },
     "execution_count": 10,
     "metadata": {},
     "output_type": "execute_result"
    }
   ],
   "source": [
    "df[1][df[1]['unit'].isin(TEST_BEARINGS[1])]"
   ]
  },
  {
   "cell_type": "code",
   "execution_count": 11,
   "id": "0685c0bc",
   "metadata": {},
   "outputs": [
    {
     "data": {
      "text/plain": [
       "[<matplotlib.lines.Line2D at 0x7fdfe06525c0>]"
      ]
     },
     "execution_count": 11,
     "metadata": {},
     "output_type": "execute_result"
    },
    {
     "data": {
      "image/png": "[encoded data removed]",
      "text/plain": [
       "<Figure size 640x480 with 1 Axes>"
      ]
     },
     "metadata": {},
     "output_type": "display_data"
    }
   ],
   "source": [
    "plt.plot(df[1][df[1]['unit'] == '1_3']['rul'])"
   ]
  },
  {
   "cell_type": "code",
   "execution_count": 211,
   "id": "b131384a",
   "metadata": {},
   "outputs": [],
   "source": [
    "# sns.kdeplot(df[0][df[0]['unit'] == '1_1']['H_acc'], label='Train')\n",
    "# sns.kdeplot(test_features['h_RMS'], label='Test')\n",
    "# plt.legend(); plt.show()"
   ]
  },
  {
   "cell_type": "code",
   "execution_count": 218,
   "id": "a2dafbea",
   "metadata": {},
   "outputs": [],
   "source": [
    "class BearingDataset(torch.utils.data.Dataset):\n",
    "    def __init__(self, df, window_size=2560, step=2560 // 2):\n",
    "        self.windows = []\n",
    "        self.ruls = []\n",
    "\n",
    "        # df['rul'] = df.groupby('unit')['rul'].transform(\n",
    "        #     lambda x: x / x.max()\n",
    "        # ).values\n",
    "\n",
    "        # df['H_acc'] = df.groupby('unit')['H_acc'].transform(\n",
    "        #     lambda x: (x - x.mean()) / (x.std() + 1e-8)\n",
    "        # )\n",
    "        # df['V_acc'] = df.groupby('unit')['V_acc'].transform(\n",
    "        #     lambda x: (x - x.mean()) / (x.std() + 1e-8)\n",
    "        # )\n",
    "        \n",
    "        # Create sequences\n",
    "        for unit, group in df.groupby('unit'):\n",
    "            h_acc =  group['H_acc'].transform(\n",
    "                lambda x: (x - x.mean()) / (x.std() + 1e-8)\n",
    "            )\n",
    "            v_acc =  group['V_acc'].transform(\n",
    "                lambda x: (x - x.mean()) / (x.std() + 1e-8)\n",
    "            )\n",
    "\n",
    "            rul = group['rul'].transform(lambda x: x / x.max())\n",
    "\n",
    "            for i in range(0, len(group) - window_size, step):\n",
    "\n",
    "                self.windows.append(np.stack([\n",
    "                    h_acc[i:i+window_size], \n",
    "                    v_acc[i:i+window_size]\n",
    "                ], axis=1))\n",
    "                self.ruls.append(rul.values[i+window_size])\n",
    "\n",
    "    def __len__(self):\n",
    "        return len(self.windows)\n",
    "    \n",
    "    def __getitem__(self, idx):\n",
    "        return torch.FloatTensor(self.windows[idx]), torch.FloatTensor([self.ruls[idx]])\n",
    "    \n",
    "    def create_overlapping_windows(signal, window_size=2560, overlap=0.75):\n",
    "        step = int(window_size * (1 - overlap))\n",
    "        return np.lib.stride_tricks.sliding_window_view(\n",
    "            signal, window_shape=window_size, axis=0\n",
    "        )[::step]\n",
    "    \n",
    "train_dataset = BearingDataset(\n",
    "    # [b for state in TRAIN_BEARINGS for b in TRAIN_BEARINGS[state]]\n",
    "    df=df[0][df[0]['unit'].isin(TRAIN_BEARINGS[1])],\n",
    ")\n",
    "\n",
    "test_dataset = BearingDataset(\n",
    "    df=df[1][df[1]['unit'] == '1_3'],\n",
    ")\n",
    "\n",
    "val_dataset = BearingDataset(\n",
    "    df=df[1][df[1]['unit'] == '1_7'],\n",
    ")\n",
    "\n",
    "train_loader = torch.utils.data.DataLoader(train_dataset, batch_size=32, shuffle=False)\n",
    "test_loader = torch.utils.data.DataLoader(test_dataset, batch_size=32, shuffle=False)\n",
    "val_loader = torch.utils.data.DataLoader(val_dataset, batch_size=32, shuffle=False)"
   ]
  },
  {
   "cell_type": "code",
   "execution_count": 219,
   "id": "42f0e240",
   "metadata": {},
   "outputs": [
    {
     "data": {
      "text/plain": [
       "7344"
      ]
     },
     "execution_count": 219,
     "metadata": {},
     "output_type": "execute_result"
    }
   ],
   "source": [
    "len(train_dataset)"
   ]
  },
  {
   "cell_type": "code",
   "execution_count": 225,
   "id": "27eff63f",
   "metadata": {},
   "outputs": [
    {
     "name": "stdout",
     "output_type": "stream",
     "text": [
      "BearingCNN(\n",
      "  (features): Sequential(\n",
      "    (0): Conv1d(2, 64, kernel_size=(51,), stride=(1,), padding=(25,))\n",
      "    (1): BatchNorm1d(64, eps=1e-05, momentum=0.1, affine=True, track_running_stats=True)\n",
      "    (2): LeakyReLU(negative_slope=0.1)\n",
      "    (3): MaxPool1d(kernel_size=4, stride=2, padding=0, dilation=1, ceil_mode=False)\n",
      "    (4): Conv1d(64, 128, kernel_size=(25,), stride=(1,), padding=(12,))\n",
      "    (5): BatchNorm1d(128, eps=1e-05, momentum=0.1, affine=True, track_running_stats=True)\n",
      "    (6): LeakyReLU(negative_slope=0.1)\n",
      "    (7): MaxPool1d(kernel_size=4, stride=2, padding=0, dilation=1, ceil_mode=False)\n",
      "    (8): Conv1d(128, 256, kernel_size=(10,), stride=(1,), padding=(5,))\n",
      "    (9): BatchNorm1d(256, eps=1e-05, momentum=0.1, affine=True, track_running_stats=True)\n",
      "    (10): LeakyReLU(negative_slope=0.1)\n",
      "    (11): AdaptiveAvgPool1d(output_size=1)\n",
      "  )\n",
      "  (regressor): Sequential(\n",
      "    (0): Linear(in_features=256, out_features=128, bias=True)\n",
      "    (1): LayerNorm((128,), eps=1e-05, elementwise_affine=True)\n",
      "    (2): LeakyReLU(negative_slope=0.1)\n",
      "    (3): Dropout(p=0.5, inplace=False)\n",
      "    (4): Linear(in_features=128, out_features=1, bias=True)\n",
      "  )\n",
      ")\n"
     ]
    }
   ],
   "source": [
    "class BearingCNN(torch.nn.Module):\n",
    "    def __init__(self):\n",
    "        super().__init__()\n",
    "        \n",
    "        # Feature extractor\n",
    "        self.features = torch.nn.Sequential(\n",
    "            # Layer 1: Wide receptive field\n",
    "            torch.nn.Conv1d(2, 64, kernel_size=51, padding=25),  # (B, 2, 2560) -> (B, 64, 2560)\n",
    "            torch.nn.BatchNorm1d(64),\n",
    "            torch.nn.LeakyReLU(0.1),\n",
    "            torch.nn.MaxPool1d(4, stride=2),  # -> (B, 64, 1278)\n",
    "            \n",
    "            # Layer 2: Mid-range features\n",
    "            torch.nn.Conv1d(64, 128, kernel_size=25, padding=12),  # -> (B, 128, 1278)\n",
    "            torch.nn.BatchNorm1d(128),\n",
    "            torch.nn.LeakyReLU(0.1),\n",
    "            torch.nn.MaxPool1d(4, stride=2),  # -> (B, 128, 637)\n",
    "            \n",
    "            # Layer 3: Local features\n",
    "            torch.nn.Conv1d(128, 256, kernel_size=10, padding=5),  # -> (B, 256, 637)\n",
    "            torch.nn.BatchNorm1d(256),\n",
    "            torch.nn.LeakyReLU(0.1),\n",
    "            torch.nn.AdaptiveAvgPool1d(1)  # -> (B, 256, 1)\n",
    "        )\n",
    "        \n",
    "        # Regressor (fixed input dim)\n",
    "        self.regressor = torch.nn.Sequential(\n",
    "            torch.nn.Linear(256, 128),\n",
    "            torch.nn.LayerNorm(128),  # Better for regression\n",
    "            torch.nn.LeakyReLU(0.1),\n",
    "            torch.nn.Dropout(0.5),\n",
    "            torch.nn.Linear(128, 1),\n",
    "            # Removed Sigmoid() for regression\n",
    "        )\n",
    "\n",
    "        # self.fc = torch.nn.Linear(128, 1)\n",
    "\n",
    "        # with torch.no_grad():\n",
    "        #     self.fc.weight.data = -torch.abs(self.fc.weight.data)\n",
    "        #     self.fc.bias.data.fill_(1.0)  # Start predictions near 1.0\n",
    "    \n",
    "    def forward(self, x):\n",
    "        # Input: (B, 2560, 2)\n",
    "        x = x.permute(0, 2, 1)  # -> (B, 2, 2560)\n",
    "        x = self.features(x)     # -> (B, 256, 1)\n",
    "        x = x.squeeze(-1)        # -> (B, 256)\n",
    "        x = self.regressor(x)  # -> (B,)\n",
    "        return x\n",
    "\n",
    "model = BearingCNN()\n",
    "\n",
    "print(model)"
   ]
  },
  {
   "cell_type": "code",
   "execution_count": 226,
   "id": "6a7be941",
   "metadata": {},
   "outputs": [],
   "source": [
    "device = torch.device('cuda' if torch.cuda.is_available() else 'cpu')\n",
    "model = model.to(device)\n",
    "criterion = torch.nn.MSELoss()\n",
    "optimizer = torch.optim.Adam(model.parameters(), lr=0.001, weight_decay=1e-4)\n",
    "scheduler = torch.optim.lr_scheduler.ReduceLROnPlateau(optimizer, 'min', patience=5)\n",
    "\n",
    "def train(\n",
    "    model,\n",
    "    train_loader,\n",
    "    val_loader,\n",
    "    optimizer,\n",
    "    criterion,\n",
    "    device,\n",
    "    epochs,\n",
    "):\n",
    "    train_r2 = []\n",
    "    train_mae = []\n",
    "    train_mse = []\n",
    "    train_rmse = []\n",
    "    train_loss = []\n",
    "\n",
    "    val_r2 = []\n",
    "    val_mae = []\n",
    "    val_mse = []\n",
    "    val_rmse = []\n",
    "    val_loss = []\n",
    "\n",
    "    best_r2 = -float('inf')\n",
    "\n",
    "    for epoch in range(epochs):\n",
    "        model.train()\n",
    "\n",
    "        epoch_train_loss = 0\n",
    "        epoch_train_preds = []\n",
    "        epoch_train_targets = []\n",
    "\n",
    "        for X_batch, y_batch in tqdm(train_loader):\n",
    "            X_batch, y_batch = X_batch.to(device), y_batch.to(device)\n",
    "            \n",
    "            optimizer.zero_grad()\n",
    "            y_pred = model(X_batch).flatten()\n",
    "\n",
    "            epoch_train_preds.append(y_pred)\n",
    "            epoch_train_targets.append(y_batch)\n",
    "\n",
    "            loss = criterion(y_pred, y_batch)\n",
    "            \n",
    "            loss.backward()\n",
    "            optimizer.step()\n",
    "            \n",
    "            epoch_train_loss += loss.item()\n",
    "        \n",
    "        train_preds = torch.cat(epoch_train_preds).cpu().detach().numpy()\n",
    "        train_targets = torch.cat(epoch_train_targets).cpu().detach().numpy()\n",
    "        \n",
    "        epoch_train_r2 = r2_score(train_targets, train_preds)\n",
    "        epoch_train_mae = mean_absolute_error(train_targets, train_preds)\n",
    "        epoch_train_mse = mean_squared_error(train_targets, train_preds)\n",
    "        epoch_train_rmse = np.sqrt(epoch_train_mse)\n",
    "        epoch_train_loss = epoch_train_loss/len(train_loader)\n",
    "        \n",
    "        train_r2.append(epoch_train_r2)\n",
    "        train_mae.append(epoch_train_mae)\n",
    "        train_mse.append(epoch_train_mse)\n",
    "        train_rmse.append(epoch_train_rmse)\n",
    "        train_loss.append(epoch_train_loss)\n",
    "    \n",
    "        print(\n",
    "            f'Epoch {epoch + 1}: Train Loss {epoch_train_loss:.4f}, '\n",
    "                + f'Train R2 = {epoch_train_r2:.3f}, '\n",
    "                + f'Train RMSE = {epoch_train_rmse:.3f}, '\n",
    "                + f'Train MSE = {epoch_train_mse:.3f}, '\n",
    "                + f'Train MAE = {epoch_train_mae:.3f}'\n",
    "                # + f'Train EPS = {epoch_train_eps:.3f}'\n",
    "        )\n",
    "\n",
    "\n",
    "        model.eval()\n",
    "\n",
    "        epoch_val_loss = 0\n",
    "        epoch_val_preds = []\n",
    "        epoch_val_targets = []\n",
    "\n",
    "        with torch.no_grad():\n",
    "            for X_val, y_val in tqdm(val_loader, desc=f'Epoch {epoch + 1} Val'):\n",
    "                X_val, y_val = X_val.to(device), y_val.to(device)\n",
    "\n",
    "                y_pred = model(X_val).flatten()\n",
    "\n",
    "                epoch_val_preds.append(y_pred)\n",
    "                epoch_val_targets.append(y_val)\n",
    "                \n",
    "                epoch_val_loss += criterion(y_pred, y_val).item()\n",
    "\n",
    "        val_preds = torch.cat(epoch_val_preds).cpu().detach().numpy()\n",
    "        val_targets = torch.cat(epoch_val_targets).cpu().detach().numpy()\n",
    "        \n",
    "        epoch_val_r2 = r2_score(val_targets, val_preds)\n",
    "        epoch_val_mae = mean_absolute_error(val_targets, val_preds)\n",
    "        epoch_val_mse = mean_squared_error(val_targets, val_preds)\n",
    "        epoch_val_rmse = np.sqrt(epoch_val_mse)\n",
    "        epoch_val_loss = epoch_val_loss/len(val_loader)\n",
    "        scheduler.step(epoch_val_loss)\n",
    "        \n",
    "        val_r2.append(epoch_val_r2)\n",
    "        val_mae.append(epoch_val_mae)\n",
    "        val_mse.append(epoch_val_mse)\n",
    "        val_rmse.append(epoch_val_rmse)\n",
    "        val_loss.append(epoch_val_loss)\n",
    "\n",
    "        if val_r2[-1] > best_r2:\n",
    "            best_r2 = val_r2[-1]\n",
    "            torch.save(model.state_dict(), 'best_r2_model.pth')\n",
    "\n",
    "        print(\n",
    "            f'Epoch {epoch + 1}: Val Loss {epoch_val_loss:.4f}, '\n",
    "                + f'Val R2 = {epoch_val_r2:.3f}, '\n",
    "                + f'Val RMSE = {epoch_val_rmse:.3f}, '\n",
    "                + f'Val MSE = {epoch_val_mse:.3f}, '\n",
    "                + f'Val MAE = {epoch_val_mae:.3f}'\n",
    "        ) \n",
    "\n",
    "    return {\n",
    "        'train_loss': train_loss,\n",
    "        'train_r2': train_r2,\n",
    "        'train_mae': train_mae,\n",
    "        'train_mse': train_mse,\n",
    "        'train_rmse': train_rmse,\n",
    "        'val_loss': val_loss,\n",
    "        'val_r2': val_r2,\n",
    "        'val_mae': val_mae,\n",
    "        'val_mse': val_mse,\n",
    "        'val_rmse': val_rmse,\n",
    "    }"
   ]
  },
  {
   "cell_type": "code",
   "execution_count": 227,
   "id": "5ce79b4d",
   "metadata": {},
   "outputs": [
    {
     "name": "stderr",
     "output_type": "stream",
     "text": [
      "  0%|          | 0/230 [00:00<?, ?it/s]/home/stepan/Private/bearing_rul/lib/python3.10/site-packages/torch/nn/modules/loss.py:610: UserWarning: Using a target size (torch.Size([32, 1])) that is different to the input size (torch.Size([32])). This will likely lead to incorrect results due to broadcasting. Please ensure they have the same size.\n",
      "  return F.mse_loss(input, target, reduction=self.reduction)\n",
      " 98%|█████████▊| 226/230 [00:04<00:00, 47.92it/s]/home/stepan/Private/bearing_rul/lib/python3.10/site-packages/torch/nn/modules/loss.py:610: UserWarning: Using a target size (torch.Size([16, 1])) that is different to the input size (torch.Size([16])). This will likely lead to incorrect results due to broadcasting. Please ensure they have the same size.\n",
      "  return F.mse_loss(input, target, reduction=self.reduction)\n",
      "100%|██████████| 230/230 [00:04<00:00, 47.60it/s]\n"
     ]
    },
    {
     "name": "stdout",
     "output_type": "stream",
     "text": [
      "Epoch 1: Train Loss 0.0550, Train R2 = 0.338, Train RMSE = 0.235, Train MSE = 0.055, Train MAE = 0.136\n"
     ]
    },
    {
     "name": "stderr",
     "output_type": "stream",
     "text": [
      "Epoch 1 Val:   0%|          | 0/94 [00:00<?, ?it/s]/home/stepan/Private/bearing_rul/lib/python3.10/site-packages/torch/nn/modules/loss.py:610: UserWarning: Using a target size (torch.Size([32, 1])) that is different to the input size (torch.Size([32])). This will likely lead to incorrect results due to broadcasting. Please ensure they have the same size.\n",
      "  return F.mse_loss(input, target, reduction=self.reduction)\n",
      "Epoch 1 Val:  86%|████████▌ | 81/94 [00:00<00:00, 202.03it/s]/home/stepan/Private/bearing_rul/lib/python3.10/site-packages/torch/nn/modules/loss.py:610: UserWarning: Using a target size (torch.Size([26, 1])) that is different to the input size (torch.Size([26])). This will likely lead to incorrect results due to broadcasting. Please ensure they have the same size.\n",
      "  return F.mse_loss(input, target, reduction=self.reduction)\n",
      "Epoch 1 Val: 100%|██████████| 94/94 [00:00<00:00, 200.10it/s]\n"
     ]
    },
    {
     "name": "stdout",
     "output_type": "stream",
     "text": [
      "Epoch 1: Val Loss 0.5933, Val R2 = -15.149, Val RMSE = 0.771, Val MSE = 0.594, Val MAE = 0.745\n"
     ]
    },
    {
     "name": "stderr",
     "output_type": "stream",
     "text": [
      "  0%|          | 0/230 [00:00<?, ?it/s]/home/stepan/Private/bearing_rul/lib/python3.10/site-packages/torch/nn/modules/loss.py:610: UserWarning: Using a target size (torch.Size([32, 1])) that is different to the input size (torch.Size([32])). This will likely lead to incorrect results due to broadcasting. Please ensure they have the same size.\n",
      "  return F.mse_loss(input, target, reduction=self.reduction)\n",
      " 98%|█████████▊| 225/230 [00:04<00:00, 47.72it/s]/home/stepan/Private/bearing_rul/lib/python3.10/site-packages/torch/nn/modules/loss.py:610: UserWarning: Using a target size (torch.Size([16, 1])) that is different to the input size (torch.Size([16])). This will likely lead to incorrect results due to broadcasting. Please ensure they have the same size.\n",
      "  return F.mse_loss(input, target, reduction=self.reduction)\n",
      "100%|██████████| 230/230 [00:04<00:00, 47.73it/s]\n"
     ]
    },
    {
     "name": "stdout",
     "output_type": "stream",
     "text": [
      "Epoch 2: Train Loss 0.0565, Train R2 = 0.321, Train RMSE = 0.238, Train MSE = 0.057, Train MAE = 0.133\n"
     ]
    },
    {
     "name": "stderr",
     "output_type": "stream",
     "text": [
      "Epoch 2 Val:   0%|          | 0/94 [00:00<?, ?it/s]/home/stepan/Private/bearing_rul/lib/python3.10/site-packages/torch/nn/modules/loss.py:610: UserWarning: Using a target size (torch.Size([32, 1])) that is different to the input size (torch.Size([32])). This will likely lead to incorrect results due to broadcasting. Please ensure they have the same size.\n",
      "  return F.mse_loss(input, target, reduction=self.reduction)\n",
      "Epoch 2 Val:  84%|████████▍ | 79/94 [00:00<00:00, 190.68it/s]/home/stepan/Private/bearing_rul/lib/python3.10/site-packages/torch/nn/modules/loss.py:610: UserWarning: Using a target size (torch.Size([26, 1])) that is different to the input size (torch.Size([26])). This will likely lead to incorrect results due to broadcasting. Please ensure they have the same size.\n",
      "  return F.mse_loss(input, target, reduction=self.reduction)\n",
      "Epoch 2 Val: 100%|██████████| 94/94 [00:00<00:00, 191.03it/s]\n"
     ]
    },
    {
     "name": "stdout",
     "output_type": "stream",
     "text": [
      "Epoch 2: Val Loss 0.4612, Val R2 = -11.553, Val RMSE = 0.680, Val MSE = 0.462, Val MAE = 0.651\n"
     ]
    },
    {
     "name": "stderr",
     "output_type": "stream",
     "text": [
      "  0%|          | 0/230 [00:00<?, ?it/s]/home/stepan/Private/bearing_rul/lib/python3.10/site-packages/torch/nn/modules/loss.py:610: UserWarning: Using a target size (torch.Size([32, 1])) that is different to the input size (torch.Size([32])). This will likely lead to incorrect results due to broadcasting. Please ensure they have the same size.\n",
      "  return F.mse_loss(input, target, reduction=self.reduction)\n",
      " 98%|█████████▊| 225/230 [00:04<00:00, 45.64it/s]/home/stepan/Private/bearing_rul/lib/python3.10/site-packages/torch/nn/modules/loss.py:610: UserWarning: Using a target size (torch.Size([16, 1])) that is different to the input size (torch.Size([16])). This will likely lead to incorrect results due to broadcasting. Please ensure they have the same size.\n",
      "  return F.mse_loss(input, target, reduction=self.reduction)\n",
      "100%|██████████| 230/230 [00:04<00:00, 46.85it/s]\n"
     ]
    },
    {
     "name": "stdout",
     "output_type": "stream",
     "text": [
      "Epoch 3: Train Loss 0.0577, Train R2 = 0.307, Train RMSE = 0.240, Train MSE = 0.058, Train MAE = 0.142\n"
     ]
    },
    {
     "name": "stderr",
     "output_type": "stream",
     "text": [
      "Epoch 3 Val:   0%|          | 0/94 [00:00<?, ?it/s]/home/stepan/Private/bearing_rul/lib/python3.10/site-packages/torch/nn/modules/loss.py:610: UserWarning: Using a target size (torch.Size([32, 1])) that is different to the input size (torch.Size([32])). This will likely lead to incorrect results due to broadcasting. Please ensure they have the same size.\n",
      "  return F.mse_loss(input, target, reduction=self.reduction)\n",
      "Epoch 3 Val:  82%|████████▏ | 77/94 [00:00<00:00, 187.06it/s]/home/stepan/Private/bearing_rul/lib/python3.10/site-packages/torch/nn/modules/loss.py:610: UserWarning: Using a target size (torch.Size([26, 1])) that is different to the input size (torch.Size([26])). This will likely lead to incorrect results due to broadcasting. Please ensure they have the same size.\n",
      "  return F.mse_loss(input, target, reduction=self.reduction)\n",
      "Epoch 3 Val: 100%|██████████| 94/94 [00:00<00:00, 186.80it/s]\n"
     ]
    },
    {
     "name": "stdout",
     "output_type": "stream",
     "text": [
      "Epoch 3: Val Loss 0.4711, Val R2 = -11.825, Val RMSE = 0.687, Val MSE = 0.472, Val MAE = 0.657\n"
     ]
    },
    {
     "name": "stderr",
     "output_type": "stream",
     "text": [
      "  0%|          | 0/230 [00:00<?, ?it/s]/home/stepan/Private/bearing_rul/lib/python3.10/site-packages/torch/nn/modules/loss.py:610: UserWarning: Using a target size (torch.Size([32, 1])) that is different to the input size (torch.Size([32])). This will likely lead to incorrect results due to broadcasting. Please ensure they have the same size.\n",
      "  return F.mse_loss(input, target, reduction=self.reduction)\n",
      " 98%|█████████▊| 225/230 [00:05<00:00, 43.52it/s]/home/stepan/Private/bearing_rul/lib/python3.10/site-packages/torch/nn/modules/loss.py:610: UserWarning: Using a target size (torch.Size([16, 1])) that is different to the input size (torch.Size([16])). This will likely lead to incorrect results due to broadcasting. Please ensure they have the same size.\n",
      "  return F.mse_loss(input, target, reduction=self.reduction)\n",
      "100%|██████████| 230/230 [00:05<00:00, 44.36it/s]\n"
     ]
    },
    {
     "name": "stdout",
     "output_type": "stream",
     "text": [
      "Epoch 4: Train Loss 0.0655, Train R2 = 0.212, Train RMSE = 0.256, Train MSE = 0.066, Train MAE = 0.158\n"
     ]
    },
    {
     "name": "stderr",
     "output_type": "stream",
     "text": [
      "Epoch 4 Val:   0%|          | 0/94 [00:00<?, ?it/s]/home/stepan/Private/bearing_rul/lib/python3.10/site-packages/torch/nn/modules/loss.py:610: UserWarning: Using a target size (torch.Size([32, 1])) that is different to the input size (torch.Size([32])). This will likely lead to incorrect results due to broadcasting. Please ensure they have the same size.\n",
      "  return F.mse_loss(input, target, reduction=self.reduction)\n",
      "Epoch 4 Val:  81%|████████  | 76/94 [00:00<00:00, 179.11it/s]/home/stepan/Private/bearing_rul/lib/python3.10/site-packages/torch/nn/modules/loss.py:610: UserWarning: Using a target size (torch.Size([26, 1])) that is different to the input size (torch.Size([26])). This will likely lead to incorrect results due to broadcasting. Please ensure they have the same size.\n",
      "  return F.mse_loss(input, target, reduction=self.reduction)\n",
      "Epoch 4 Val: 100%|██████████| 94/94 [00:00<00:00, 179.90it/s]\n"
     ]
    },
    {
     "name": "stdout",
     "output_type": "stream",
     "text": [
      "Epoch 4: Val Loss 0.4561, Val R2 = -11.417, Val RMSE = 0.676, Val MSE = 0.457, Val MAE = 0.647\n"
     ]
    },
    {
     "name": "stderr",
     "output_type": "stream",
     "text": [
      "  0%|          | 0/230 [00:00<?, ?it/s]/home/stepan/Private/bearing_rul/lib/python3.10/site-packages/torch/nn/modules/loss.py:610: UserWarning: Using a target size (torch.Size([32, 1])) that is different to the input size (torch.Size([32])). This will likely lead to incorrect results due to broadcasting. Please ensure they have the same size.\n",
      "  return F.mse_loss(input, target, reduction=self.reduction)\n",
      " 99%|█████████▉| 228/230 [00:05<00:00, 39.27it/s]/home/stepan/Private/bearing_rul/lib/python3.10/site-packages/torch/nn/modules/loss.py:610: UserWarning: Using a target size (torch.Size([16, 1])) that is different to the input size (torch.Size([16])). This will likely lead to incorrect results due to broadcasting. Please ensure they have the same size.\n",
      "  return F.mse_loss(input, target, reduction=self.reduction)\n",
      "100%|██████████| 230/230 [00:05<00:00, 41.59it/s]\n"
     ]
    },
    {
     "name": "stdout",
     "output_type": "stream",
     "text": [
      "Epoch 5: Train Loss 0.0744, Train R2 = 0.106, Train RMSE = 0.273, Train MSE = 0.074, Train MAE = 0.176\n"
     ]
    },
    {
     "name": "stderr",
     "output_type": "stream",
     "text": [
      "Epoch 5 Val:   0%|          | 0/94 [00:00<?, ?it/s]/home/stepan/Private/bearing_rul/lib/python3.10/site-packages/torch/nn/modules/loss.py:610: UserWarning: Using a target size (torch.Size([32, 1])) that is different to the input size (torch.Size([32])). This will likely lead to incorrect results due to broadcasting. Please ensure they have the same size.\n",
      "  return F.mse_loss(input, target, reduction=self.reduction)\n",
      "Epoch 5 Val:  95%|█████████▍| 89/94 [00:00<00:00, 173.52it/s]/home/stepan/Private/bearing_rul/lib/python3.10/site-packages/torch/nn/modules/loss.py:610: UserWarning: Using a target size (torch.Size([26, 1])) that is different to the input size (torch.Size([26])). This will likely lead to incorrect results due to broadcasting. Please ensure they have the same size.\n",
      "  return F.mse_loss(input, target, reduction=self.reduction)\n",
      "Epoch 5 Val: 100%|██████████| 94/94 [00:00<00:00, 173.07it/s]\n"
     ]
    },
    {
     "name": "stdout",
     "output_type": "stream",
     "text": [
      "Epoch 5: Val Loss 0.2047, Val R2 = -4.573, Val RMSE = 0.453, Val MSE = 0.205, Val MAE = 0.410\n"
     ]
    },
    {
     "name": "stderr",
     "output_type": "stream",
     "text": [
      "  0%|          | 0/230 [00:00<?, ?it/s]/home/stepan/Private/bearing_rul/lib/python3.10/site-packages/torch/nn/modules/loss.py:610: UserWarning: Using a target size (torch.Size([32, 1])) that is different to the input size (torch.Size([32])). This will likely lead to incorrect results due to broadcasting. Please ensure they have the same size.\n",
      "  return F.mse_loss(input, target, reduction=self.reduction)\n",
      " 99%|█████████▉| 228/230 [00:05<00:00, 38.83it/s]/home/stepan/Private/bearing_rul/lib/python3.10/site-packages/torch/nn/modules/loss.py:610: UserWarning: Using a target size (torch.Size([16, 1])) that is different to the input size (torch.Size([16])). This will likely lead to incorrect results due to broadcasting. Please ensure they have the same size.\n",
      "  return F.mse_loss(input, target, reduction=self.reduction)\n",
      "100%|██████████| 230/230 [00:05<00:00, 38.96it/s]\n"
     ]
    },
    {
     "name": "stdout",
     "output_type": "stream",
     "text": [
      "Epoch 6: Train Loss 0.0808, Train R2 = 0.030, Train RMSE = 0.284, Train MSE = 0.081, Train MAE = 0.197\n"
     ]
    },
    {
     "name": "stderr",
     "output_type": "stream",
     "text": [
      "Epoch 6 Val:   0%|          | 0/94 [00:00<?, ?it/s]/home/stepan/Private/bearing_rul/lib/python3.10/site-packages/torch/nn/modules/loss.py:610: UserWarning: Using a target size (torch.Size([32, 1])) that is different to the input size (torch.Size([32])). This will likely lead to incorrect results due to broadcasting. Please ensure they have the same size.\n",
      "  return F.mse_loss(input, target, reduction=self.reduction)\n",
      "Epoch 6 Val:  84%|████████▍ | 79/94 [00:00<00:00, 155.68it/s]/home/stepan/Private/bearing_rul/lib/python3.10/site-packages/torch/nn/modules/loss.py:610: UserWarning: Using a target size (torch.Size([26, 1])) that is different to the input size (torch.Size([26])). This will likely lead to incorrect results due to broadcasting. Please ensure they have the same size.\n",
      "  return F.mse_loss(input, target, reduction=self.reduction)\n",
      "Epoch 6 Val: 100%|██████████| 94/94 [00:00<00:00, 154.73it/s]\n"
     ]
    },
    {
     "name": "stdout",
     "output_type": "stream",
     "text": [
      "Epoch 6: Val Loss 0.1757, Val R2 = -3.785, Val RMSE = 0.420, Val MSE = 0.176, Val MAE = 0.373\n"
     ]
    },
    {
     "name": "stderr",
     "output_type": "stream",
     "text": [
      "  0%|          | 0/230 [00:00<?, ?it/s]/home/stepan/Private/bearing_rul/lib/python3.10/site-packages/torch/nn/modules/loss.py:610: UserWarning: Using a target size (torch.Size([32, 1])) that is different to the input size (torch.Size([32])). This will likely lead to incorrect results due to broadcasting. Please ensure they have the same size.\n",
      "  return F.mse_loss(input, target, reduction=self.reduction)\n",
      " 99%|█████████▉| 228/230 [00:05<00:00, 38.80it/s]/home/stepan/Private/bearing_rul/lib/python3.10/site-packages/torch/nn/modules/loss.py:610: UserWarning: Using a target size (torch.Size([16, 1])) that is different to the input size (torch.Size([16])). This will likely lead to incorrect results due to broadcasting. Please ensure they have the same size.\n",
      "  return F.mse_loss(input, target, reduction=self.reduction)\n",
      "100%|██████████| 230/230 [00:05<00:00, 38.78it/s]\n"
     ]
    },
    {
     "name": "stdout",
     "output_type": "stream",
     "text": [
      "Epoch 7: Train Loss 0.0787, Train R2 = 0.056, Train RMSE = 0.280, Train MSE = 0.079, Train MAE = 0.198\n"
     ]
    },
    {
     "name": "stderr",
     "output_type": "stream",
     "text": [
      "Epoch 7 Val:   0%|          | 0/94 [00:00<?, ?it/s]/home/stepan/Private/bearing_rul/lib/python3.10/site-packages/torch/nn/modules/loss.py:610: UserWarning: Using a target size (torch.Size([32, 1])) that is different to the input size (torch.Size([32])). This will likely lead to incorrect results due to broadcasting. Please ensure they have the same size.\n",
      "  return F.mse_loss(input, target, reduction=self.reduction)\n",
      "Epoch 7 Val:  86%|████████▌ | 81/94 [00:00<00:00, 158.63it/s]/home/stepan/Private/bearing_rul/lib/python3.10/site-packages/torch/nn/modules/loss.py:610: UserWarning: Using a target size (torch.Size([26, 1])) that is different to the input size (torch.Size([26])). This will likely lead to incorrect results due to broadcasting. Please ensure they have the same size.\n",
      "  return F.mse_loss(input, target, reduction=self.reduction)\n",
      "Epoch 7 Val: 100%|██████████| 94/94 [00:00<00:00, 158.70it/s]\n"
     ]
    },
    {
     "name": "stdout",
     "output_type": "stream",
     "text": [
      "Epoch 7: Val Loss 0.1304, Val R2 = -2.551, Val RMSE = 0.361, Val MSE = 0.131, Val MAE = 0.307\n"
     ]
    },
    {
     "name": "stderr",
     "output_type": "stream",
     "text": [
      "  0%|          | 0/230 [00:00<?, ?it/s]/home/stepan/Private/bearing_rul/lib/python3.10/site-packages/torch/nn/modules/loss.py:610: UserWarning: Using a target size (torch.Size([32, 1])) that is different to the input size (torch.Size([32])). This will likely lead to incorrect results due to broadcasting. Please ensure they have the same size.\n",
      "  return F.mse_loss(input, target, reduction=self.reduction)\n",
      " 99%|█████████▉| 228/230 [00:05<00:00, 38.37it/s]/home/stepan/Private/bearing_rul/lib/python3.10/site-packages/torch/nn/modules/loss.py:610: UserWarning: Using a target size (torch.Size([16, 1])) that is different to the input size (torch.Size([16])). This will likely lead to incorrect results due to broadcasting. Please ensure they have the same size.\n",
      "  return F.mse_loss(input, target, reduction=self.reduction)\n",
      "100%|██████████| 230/230 [00:05<00:00, 38.58it/s]\n"
     ]
    },
    {
     "name": "stdout",
     "output_type": "stream",
     "text": [
      "Epoch 8: Train Loss 0.0770, Train R2 = 0.077, Train RMSE = 0.277, Train MSE = 0.077, Train MAE = 0.202\n"
     ]
    },
    {
     "name": "stderr",
     "output_type": "stream",
     "text": [
      "Epoch 8 Val:   0%|          | 0/94 [00:00<?, ?it/s]/home/stepan/Private/bearing_rul/lib/python3.10/site-packages/torch/nn/modules/loss.py:610: UserWarning: Using a target size (torch.Size([32, 1])) that is different to the input size (torch.Size([32])). This will likely lead to incorrect results due to broadcasting. Please ensure they have the same size.\n",
      "  return F.mse_loss(input, target, reduction=self.reduction)\n",
      "Epoch 8 Val:  85%|████████▌ | 80/94 [00:00<00:00, 157.76it/s]/home/stepan/Private/bearing_rul/lib/python3.10/site-packages/torch/nn/modules/loss.py:610: UserWarning: Using a target size (torch.Size([26, 1])) that is different to the input size (torch.Size([26])). This will likely lead to incorrect results due to broadcasting. Please ensure they have the same size.\n",
      "  return F.mse_loss(input, target, reduction=self.reduction)\n",
      "Epoch 8 Val: 100%|██████████| 94/94 [00:00<00:00, 158.30it/s]\n"
     ]
    },
    {
     "name": "stdout",
     "output_type": "stream",
     "text": [
      "Epoch 8: Val Loss 0.1243, Val R2 = -2.384, Val RMSE = 0.353, Val MSE = 0.125, Val MAE = 0.298\n"
     ]
    },
    {
     "name": "stderr",
     "output_type": "stream",
     "text": [
      "  0%|          | 0/230 [00:00<?, ?it/s]/home/stepan/Private/bearing_rul/lib/python3.10/site-packages/torch/nn/modules/loss.py:610: UserWarning: Using a target size (torch.Size([32, 1])) that is different to the input size (torch.Size([32])). This will likely lead to incorrect results due to broadcasting. Please ensure they have the same size.\n",
      "  return F.mse_loss(input, target, reduction=self.reduction)\n",
      " 99%|█████████▉| 228/230 [00:05<00:00, 38.88it/s]/home/stepan/Private/bearing_rul/lib/python3.10/site-packages/torch/nn/modules/loss.py:610: UserWarning: Using a target size (torch.Size([16, 1])) that is different to the input size (torch.Size([16])). This will likely lead to incorrect results due to broadcasting. Please ensure they have the same size.\n",
      "  return F.mse_loss(input, target, reduction=self.reduction)\n",
      "100%|██████████| 230/230 [00:05<00:00, 38.81it/s]\n"
     ]
    },
    {
     "name": "stdout",
     "output_type": "stream",
     "text": [
      "Epoch 9: Train Loss 0.0763, Train R2 = 0.085, Train RMSE = 0.276, Train MSE = 0.076, Train MAE = 0.203\n"
     ]
    },
    {
     "name": "stderr",
     "output_type": "stream",
     "text": [
      "Epoch 9 Val:   0%|          | 0/94 [00:00<?, ?it/s]/home/stepan/Private/bearing_rul/lib/python3.10/site-packages/torch/nn/modules/loss.py:610: UserWarning: Using a target size (torch.Size([32, 1])) that is different to the input size (torch.Size([32])). This will likely lead to incorrect results due to broadcasting. Please ensure they have the same size.\n",
      "  return F.mse_loss(input, target, reduction=self.reduction)\n",
      "Epoch 9 Val:  85%|████████▌ | 80/94 [00:00<00:00, 157.30it/s]/home/stepan/Private/bearing_rul/lib/python3.10/site-packages/torch/nn/modules/loss.py:610: UserWarning: Using a target size (torch.Size([26, 1])) that is different to the input size (torch.Size([26])). This will likely lead to incorrect results due to broadcasting. Please ensure they have the same size.\n",
      "  return F.mse_loss(input, target, reduction=self.reduction)\n",
      "Epoch 9 Val: 100%|██████████| 94/94 [00:00<00:00, 157.33it/s]\n"
     ]
    },
    {
     "name": "stdout",
     "output_type": "stream",
     "text": [
      "Epoch 9: Val Loss 0.1129, Val R2 = -2.073, Val RMSE = 0.336, Val MSE = 0.113, Val MAE = 0.281\n"
     ]
    },
    {
     "name": "stderr",
     "output_type": "stream",
     "text": [
      "  0%|          | 0/230 [00:00<?, ?it/s]/home/stepan/Private/bearing_rul/lib/python3.10/site-packages/torch/nn/modules/loss.py:610: UserWarning: Using a target size (torch.Size([32, 1])) that is different to the input size (torch.Size([32])). This will likely lead to incorrect results due to broadcasting. Please ensure they have the same size.\n",
      "  return F.mse_loss(input, target, reduction=self.reduction)\n",
      " 98%|█████████▊| 226/230 [00:05<00:00, 40.37it/s]/home/stepan/Private/bearing_rul/lib/python3.10/site-packages/torch/nn/modules/loss.py:610: UserWarning: Using a target size (torch.Size([16, 1])) that is different to the input size (torch.Size([16])). This will likely lead to incorrect results due to broadcasting. Please ensure they have the same size.\n",
      "  return F.mse_loss(input, target, reduction=self.reduction)\n",
      "100%|██████████| 230/230 [00:05<00:00, 38.98it/s]\n"
     ]
    },
    {
     "name": "stdout",
     "output_type": "stream",
     "text": [
      "Epoch 10: Train Loss 0.0794, Train R2 = 0.048, Train RMSE = 0.282, Train MSE = 0.079, Train MAE = 0.218\n"
     ]
    },
    {
     "name": "stderr",
     "output_type": "stream",
     "text": [
      "Epoch 10 Val:   0%|          | 0/94 [00:00<?, ?it/s]/home/stepan/Private/bearing_rul/lib/python3.10/site-packages/torch/nn/modules/loss.py:610: UserWarning: Using a target size (torch.Size([32, 1])) that is different to the input size (torch.Size([32])). This will likely lead to incorrect results due to broadcasting. Please ensure they have the same size.\n",
      "  return F.mse_loss(input, target, reduction=self.reduction)\n",
      "Epoch 10 Val:  93%|█████████▎| 87/94 [00:00<00:00, 168.86it/s]/home/stepan/Private/bearing_rul/lib/python3.10/site-packages/torch/nn/modules/loss.py:610: UserWarning: Using a target size (torch.Size([26, 1])) that is different to the input size (torch.Size([26])). This will likely lead to incorrect results due to broadcasting. Please ensure they have the same size.\n",
      "  return F.mse_loss(input, target, reduction=self.reduction)\n",
      "Epoch 10 Val: 100%|██████████| 94/94 [00:00<00:00, 167.32it/s]\n"
     ]
    },
    {
     "name": "stdout",
     "output_type": "stream",
     "text": [
      "Epoch 10: Val Loss 0.1177, Val R2 = -2.205, Val RMSE = 0.343, Val MSE = 0.118, Val MAE = 0.288\n"
     ]
    },
    {
     "name": "stderr",
     "output_type": "stream",
     "text": [
      "  0%|          | 0/230 [00:00<?, ?it/s]/home/stepan/Private/bearing_rul/lib/python3.10/site-packages/torch/nn/modules/loss.py:610: UserWarning: Using a target size (torch.Size([32, 1])) that is different to the input size (torch.Size([32])). This will likely lead to incorrect results due to broadcasting. Please ensure they have the same size.\n",
      "  return F.mse_loss(input, target, reduction=self.reduction)\n",
      "100%|█████████▉| 229/230 [00:06<00:00, 35.77it/s]/home/stepan/Private/bearing_rul/lib/python3.10/site-packages/torch/nn/modules/loss.py:610: UserWarning: Using a target size (torch.Size([16, 1])) that is different to the input size (torch.Size([16])). This will likely lead to incorrect results due to broadcasting. Please ensure they have the same size.\n",
      "  return F.mse_loss(input, target, reduction=self.reduction)\n",
      "100%|██████████| 230/230 [00:06<00:00, 36.91it/s]\n"
     ]
    },
    {
     "name": "stdout",
     "output_type": "stream",
     "text": [
      "Epoch 11: Train Loss 0.0823, Train R2 = 0.013, Train RMSE = 0.287, Train MSE = 0.082, Train MAE = 0.222\n"
     ]
    },
    {
     "name": "stderr",
     "output_type": "stream",
     "text": [
      "Epoch 11 Val:   0%|          | 0/94 [00:00<?, ?it/s]/home/stepan/Private/bearing_rul/lib/python3.10/site-packages/torch/nn/modules/loss.py:610: UserWarning: Using a target size (torch.Size([32, 1])) that is different to the input size (torch.Size([32])). This will likely lead to incorrect results due to broadcasting. Please ensure they have the same size.\n",
      "  return F.mse_loss(input, target, reduction=self.reduction)\n",
      "Epoch 11 Val:  96%|█████████▌| 90/94 [00:00<00:00, 144.46it/s]/home/stepan/Private/bearing_rul/lib/python3.10/site-packages/torch/nn/modules/loss.py:610: UserWarning: Using a target size (torch.Size([26, 1])) that is different to the input size (torch.Size([26])). This will likely lead to incorrect results due to broadcasting. Please ensure they have the same size.\n",
      "  return F.mse_loss(input, target, reduction=self.reduction)\n",
      "Epoch 11 Val: 100%|██████████| 94/94 [00:00<00:00, 145.17it/s]\n"
     ]
    },
    {
     "name": "stdout",
     "output_type": "stream",
     "text": [
      "Epoch 11: Val Loss 0.1090, Val R2 = -1.967, Val RMSE = 0.330, Val MSE = 0.109, Val MAE = 0.275\n"
     ]
    },
    {
     "name": "stderr",
     "output_type": "stream",
     "text": [
      "  0%|          | 0/230 [00:00<?, ?it/s]/home/stepan/Private/bearing_rul/lib/python3.10/site-packages/torch/nn/modules/loss.py:610: UserWarning: Using a target size (torch.Size([32, 1])) that is different to the input size (torch.Size([32])). This will likely lead to incorrect results due to broadcasting. Please ensure they have the same size.\n",
      "  return F.mse_loss(input, target, reduction=self.reduction)\n",
      " 99%|█████████▉| 228/230 [00:06<00:00, 32.35it/s]/home/stepan/Private/bearing_rul/lib/python3.10/site-packages/torch/nn/modules/loss.py:610: UserWarning: Using a target size (torch.Size([16, 1])) that is different to the input size (torch.Size([16])). This will likely lead to incorrect results due to broadcasting. Please ensure they have the same size.\n",
      "  return F.mse_loss(input, target, reduction=self.reduction)\n",
      "100%|██████████| 230/230 [00:06<00:00, 33.53it/s]\n"
     ]
    },
    {
     "name": "stdout",
     "output_type": "stream",
     "text": [
      "Epoch 12: Train Loss 0.0799, Train R2 = 0.042, Train RMSE = 0.282, Train MSE = 0.080, Train MAE = 0.223\n"
     ]
    },
    {
     "name": "stderr",
     "output_type": "stream",
     "text": [
      "Epoch 12 Val:   0%|          | 0/94 [00:00<?, ?it/s]/home/stepan/Private/bearing_rul/lib/python3.10/site-packages/torch/nn/modules/loss.py:610: UserWarning: Using a target size (torch.Size([32, 1])) that is different to the input size (torch.Size([32])). This will likely lead to incorrect results due to broadcasting. Please ensure they have the same size.\n",
      "  return F.mse_loss(input, target, reduction=self.reduction)\n",
      "Epoch 12 Val:  95%|█████████▍| 89/94 [00:00<00:00, 140.57it/s]/home/stepan/Private/bearing_rul/lib/python3.10/site-packages/torch/nn/modules/loss.py:610: UserWarning: Using a target size (torch.Size([26, 1])) that is different to the input size (torch.Size([26])). This will likely lead to incorrect results due to broadcasting. Please ensure they have the same size.\n",
      "  return F.mse_loss(input, target, reduction=self.reduction)\n",
      "Epoch 12 Val: 100%|██████████| 94/94 [00:00<00:00, 140.70it/s]\n"
     ]
    },
    {
     "name": "stdout",
     "output_type": "stream",
     "text": [
      "Epoch 12: Val Loss 0.1135, Val R2 = -2.092, Val RMSE = 0.337, Val MSE = 0.114, Val MAE = 0.282\n"
     ]
    },
    {
     "name": "stderr",
     "output_type": "stream",
     "text": [
      "  0%|          | 0/230 [00:00<?, ?it/s]/home/stepan/Private/bearing_rul/lib/python3.10/site-packages/torch/nn/modules/loss.py:610: UserWarning: Using a target size (torch.Size([32, 1])) that is different to the input size (torch.Size([32])). This will likely lead to incorrect results due to broadcasting. Please ensure they have the same size.\n",
      "  return F.mse_loss(input, target, reduction=self.reduction)\n",
      " 99%|█████████▉| 228/230 [00:06<00:00, 33.37it/s]/home/stepan/Private/bearing_rul/lib/python3.10/site-packages/torch/nn/modules/loss.py:610: UserWarning: Using a target size (torch.Size([16, 1])) that is different to the input size (torch.Size([16])). This will likely lead to incorrect results due to broadcasting. Please ensure they have the same size.\n",
      "  return F.mse_loss(input, target, reduction=self.reduction)\n",
      "100%|██████████| 230/230 [00:07<00:00, 32.79it/s]\n"
     ]
    },
    {
     "name": "stdout",
     "output_type": "stream",
     "text": [
      "Epoch 13: Train Loss 0.0851, Train R2 = -0.020, Train RMSE = 0.291, Train MSE = 0.085, Train MAE = 0.237\n"
     ]
    },
    {
     "name": "stderr",
     "output_type": "stream",
     "text": [
      "Epoch 13 Val:   0%|          | 0/94 [00:00<?, ?it/s]/home/stepan/Private/bearing_rul/lib/python3.10/site-packages/torch/nn/modules/loss.py:610: UserWarning: Using a target size (torch.Size([32, 1])) that is different to the input size (torch.Size([32])). This will likely lead to incorrect results due to broadcasting. Please ensure they have the same size.\n",
      "  return F.mse_loss(input, target, reduction=self.reduction)\n",
      "Epoch 13 Val:  89%|████████▉ | 84/94 [00:00<00:00, 134.10it/s]/home/stepan/Private/bearing_rul/lib/python3.10/site-packages/torch/nn/modules/loss.py:610: UserWarning: Using a target size (torch.Size([26, 1])) that is different to the input size (torch.Size([26])). This will likely lead to incorrect results due to broadcasting. Please ensure they have the same size.\n",
      "  return F.mse_loss(input, target, reduction=self.reduction)\n",
      "Epoch 13 Val: 100%|██████████| 94/94 [00:00<00:00, 135.06it/s]\n"
     ]
    },
    {
     "name": "stdout",
     "output_type": "stream",
     "text": [
      "Epoch 13: Val Loss 0.1093, Val R2 = -1.976, Val RMSE = 0.331, Val MSE = 0.109, Val MAE = 0.275\n"
     ]
    },
    {
     "name": "stderr",
     "output_type": "stream",
     "text": [
      "  0%|          | 0/230 [00:00<?, ?it/s]/home/stepan/Private/bearing_rul/lib/python3.10/site-packages/torch/nn/modules/loss.py:610: UserWarning: Using a target size (torch.Size([32, 1])) that is different to the input size (torch.Size([32])). This will likely lead to incorrect results due to broadcasting. Please ensure they have the same size.\n",
      "  return F.mse_loss(input, target, reduction=self.reduction)\n",
      "100%|█████████▉| 229/230 [00:07<00:00, 29.52it/s]/home/stepan/Private/bearing_rul/lib/python3.10/site-packages/torch/nn/modules/loss.py:610: UserWarning: Using a target size (torch.Size([16, 1])) that is different to the input size (torch.Size([16])). This will likely lead to incorrect results due to broadcasting. Please ensure they have the same size.\n",
      "  return F.mse_loss(input, target, reduction=self.reduction)\n",
      "100%|██████████| 230/230 [00:07<00:00, 32.07it/s]\n"
     ]
    },
    {
     "name": "stdout",
     "output_type": "stream",
     "text": [
      "Epoch 14: Train Loss 0.0825, Train R2 = 0.011, Train RMSE = 0.287, Train MSE = 0.082, Train MAE = 0.228\n"
     ]
    },
    {
     "name": "stderr",
     "output_type": "stream",
     "text": [
      "Epoch 14 Val:   0%|          | 0/94 [00:00<?, ?it/s]/home/stepan/Private/bearing_rul/lib/python3.10/site-packages/torch/nn/modules/loss.py:610: UserWarning: Using a target size (torch.Size([32, 1])) that is different to the input size (torch.Size([32])). This will likely lead to incorrect results due to broadcasting. Please ensure they have the same size.\n",
      "  return F.mse_loss(input, target, reduction=self.reduction)\n",
      "Epoch 14 Val:  90%|█████████ | 85/94 [00:00<00:00, 134.34it/s]/home/stepan/Private/bearing_rul/lib/python3.10/site-packages/torch/nn/modules/loss.py:610: UserWarning: Using a target size (torch.Size([26, 1])) that is different to the input size (torch.Size([26])). This will likely lead to incorrect results due to broadcasting. Please ensure they have the same size.\n",
      "  return F.mse_loss(input, target, reduction=self.reduction)\n",
      "Epoch 14 Val: 100%|██████████| 94/94 [00:00<00:00, 134.74it/s]\n"
     ]
    },
    {
     "name": "stdout",
     "output_type": "stream",
     "text": [
      "Epoch 14: Val Loss 0.1126, Val R2 = -2.065, Val RMSE = 0.336, Val MSE = 0.113, Val MAE = 0.281\n"
     ]
    },
    {
     "name": "stderr",
     "output_type": "stream",
     "text": [
      "  0%|          | 0/230 [00:00<?, ?it/s]/home/stepan/Private/bearing_rul/lib/python3.10/site-packages/torch/nn/modules/loss.py:610: UserWarning: Using a target size (torch.Size([32, 1])) that is different to the input size (torch.Size([32])). This will likely lead to incorrect results due to broadcasting. Please ensure they have the same size.\n",
      "  return F.mse_loss(input, target, reduction=self.reduction)\n",
      " 99%|█████████▉| 228/230 [00:07<00:00, 32.68it/s]/home/stepan/Private/bearing_rul/lib/python3.10/site-packages/torch/nn/modules/loss.py:610: UserWarning: Using a target size (torch.Size([16, 1])) that is different to the input size (torch.Size([16])). This will likely lead to incorrect results due to broadcasting. Please ensure they have the same size.\n",
      "  return F.mse_loss(input, target, reduction=self.reduction)\n",
      "100%|██████████| 230/230 [00:07<00:00, 30.56it/s]\n"
     ]
    },
    {
     "name": "stdout",
     "output_type": "stream",
     "text": [
      "Epoch 15: Train Loss 0.0805, Train R2 = 0.037, Train RMSE = 0.283, Train MSE = 0.080, Train MAE = 0.227\n"
     ]
    },
    {
     "name": "stderr",
     "output_type": "stream",
     "text": [
      "Epoch 15 Val:   0%|          | 0/94 [00:00<?, ?it/s]/home/stepan/Private/bearing_rul/lib/python3.10/site-packages/torch/nn/modules/loss.py:610: UserWarning: Using a target size (torch.Size([32, 1])) that is different to the input size (torch.Size([32])). This will likely lead to incorrect results due to broadcasting. Please ensure they have the same size.\n",
      "  return F.mse_loss(input, target, reduction=self.reduction)\n",
      "Epoch 15 Val:  83%|████████▎ | 78/94 [00:00<00:00, 150.31it/s]/home/stepan/Private/bearing_rul/lib/python3.10/site-packages/torch/nn/modules/loss.py:610: UserWarning: Using a target size (torch.Size([26, 1])) that is different to the input size (torch.Size([26])). This will likely lead to incorrect results due to broadcasting. Please ensure they have the same size.\n",
      "  return F.mse_loss(input, target, reduction=self.reduction)\n",
      "Epoch 15 Val: 100%|██████████| 94/94 [00:00<00:00, 149.82it/s]\n"
     ]
    },
    {
     "name": "stdout",
     "output_type": "stream",
     "text": [
      "Epoch 15: Val Loss 0.0954, Val R2 = -1.598, Val RMSE = 0.309, Val MSE = 0.096, Val MAE = 0.255\n"
     ]
    },
    {
     "name": "stderr",
     "output_type": "stream",
     "text": [
      "  0%|          | 0/230 [00:00<?, ?it/s]/home/stepan/Private/bearing_rul/lib/python3.10/site-packages/torch/nn/modules/loss.py:610: UserWarning: Using a target size (torch.Size([32, 1])) that is different to the input size (torch.Size([32])). This will likely lead to incorrect results due to broadcasting. Please ensure they have the same size.\n",
      "  return F.mse_loss(input, target, reduction=self.reduction)\n",
      "100%|█████████▉| 229/230 [00:06<00:00, 34.27it/s]/home/stepan/Private/bearing_rul/lib/python3.10/site-packages/torch/nn/modules/loss.py:610: UserWarning: Using a target size (torch.Size([16, 1])) that is different to the input size (torch.Size([16])). This will likely lead to incorrect results due to broadcasting. Please ensure they have the same size.\n",
      "  return F.mse_loss(input, target, reduction=self.reduction)\n",
      "100%|██████████| 230/230 [00:06<00:00, 33.59it/s]\n"
     ]
    },
    {
     "name": "stdout",
     "output_type": "stream",
     "text": [
      "Epoch 16: Train Loss 0.0836, Train R2 = -0.001, Train RMSE = 0.289, Train MSE = 0.083, Train MAE = 0.247\n"
     ]
    },
    {
     "name": "stderr",
     "output_type": "stream",
     "text": [
      "Epoch 16 Val:   0%|          | 0/94 [00:00<?, ?it/s]/home/stepan/Private/bearing_rul/lib/python3.10/site-packages/torch/nn/modules/loss.py:610: UserWarning: Using a target size (torch.Size([32, 1])) that is different to the input size (torch.Size([32])). This will likely lead to incorrect results due to broadcasting. Please ensure they have the same size.\n",
      "  return F.mse_loss(input, target, reduction=self.reduction)\n",
      "Epoch 16 Val:  96%|█████████▌| 90/94 [00:00<00:00, 145.45it/s]/home/stepan/Private/bearing_rul/lib/python3.10/site-packages/torch/nn/modules/loss.py:610: UserWarning: Using a target size (torch.Size([26, 1])) that is different to the input size (torch.Size([26])). This will likely lead to incorrect results due to broadcasting. Please ensure they have the same size.\n",
      "  return F.mse_loss(input, target, reduction=self.reduction)\n",
      "Epoch 16 Val: 100%|██████████| 94/94 [00:00<00:00, 143.16it/s]\n"
     ]
    },
    {
     "name": "stdout",
     "output_type": "stream",
     "text": [
      "Epoch 16: Val Loss 0.1091, Val R2 = -1.972, Val RMSE = 0.331, Val MSE = 0.109, Val MAE = 0.275\n"
     ]
    },
    {
     "name": "stderr",
     "output_type": "stream",
     "text": [
      "  0%|          | 0/230 [00:00<?, ?it/s]/home/stepan/Private/bearing_rul/lib/python3.10/site-packages/torch/nn/modules/loss.py:610: UserWarning: Using a target size (torch.Size([32, 1])) that is different to the input size (torch.Size([32])). This will likely lead to incorrect results due to broadcasting. Please ensure they have the same size.\n",
      "  return F.mse_loss(input, target, reduction=self.reduction)\n",
      " 99%|█████████▊| 227/230 [00:07<00:00, 35.10it/s]/home/stepan/Private/bearing_rul/lib/python3.10/site-packages/torch/nn/modules/loss.py:610: UserWarning: Using a target size (torch.Size([16, 1])) that is different to the input size (torch.Size([16])). This will likely lead to incorrect results due to broadcasting. Please ensure they have the same size.\n",
      "  return F.mse_loss(input, target, reduction=self.reduction)\n",
      "100%|██████████| 230/230 [00:07<00:00, 32.13it/s]\n"
     ]
    },
    {
     "name": "stdout",
     "output_type": "stream",
     "text": [
      "Epoch 17: Train Loss 0.0906, Train R2 = -0.088, Train RMSE = 0.301, Train MSE = 0.091, Train MAE = 0.249\n"
     ]
    },
    {
     "name": "stderr",
     "output_type": "stream",
     "text": [
      "Epoch 17 Val:   0%|          | 0/94 [00:00<?, ?it/s]/home/stepan/Private/bearing_rul/lib/python3.10/site-packages/torch/nn/modules/loss.py:610: UserWarning: Using a target size (torch.Size([32, 1])) that is different to the input size (torch.Size([32])). This will likely lead to incorrect results due to broadcasting. Please ensure they have the same size.\n",
      "  return F.mse_loss(input, target, reduction=self.reduction)\n",
      "Epoch 17 Val:  97%|█████████▋| 91/94 [00:00<00:00, 146.50it/s]/home/stepan/Private/bearing_rul/lib/python3.10/site-packages/torch/nn/modules/loss.py:610: UserWarning: Using a target size (torch.Size([26, 1])) that is different to the input size (torch.Size([26])). This will likely lead to incorrect results due to broadcasting. Please ensure they have the same size.\n",
      "  return F.mse_loss(input, target, reduction=self.reduction)\n",
      "Epoch 17 Val: 100%|██████████| 94/94 [00:00<00:00, 143.45it/s]\n"
     ]
    },
    {
     "name": "stdout",
     "output_type": "stream",
     "text": [
      "Epoch 17: Val Loss 0.1109, Val R2 = -2.021, Val RMSE = 0.333, Val MSE = 0.111, Val MAE = 0.278\n"
     ]
    },
    {
     "name": "stderr",
     "output_type": "stream",
     "text": [
      "  0%|          | 0/230 [00:00<?, ?it/s]/home/stepan/Private/bearing_rul/lib/python3.10/site-packages/torch/nn/modules/loss.py:610: UserWarning: Using a target size (torch.Size([32, 1])) that is different to the input size (torch.Size([32])). This will likely lead to incorrect results due to broadcasting. Please ensure they have the same size.\n",
      "  return F.mse_loss(input, target, reduction=self.reduction)\n",
      " 99%|█████████▉| 228/230 [00:06<00:00, 30.15it/s]/home/stepan/Private/bearing_rul/lib/python3.10/site-packages/torch/nn/modules/loss.py:610: UserWarning: Using a target size (torch.Size([16, 1])) that is different to the input size (torch.Size([16])). This will likely lead to incorrect results due to broadcasting. Please ensure they have the same size.\n",
      "  return F.mse_loss(input, target, reduction=self.reduction)\n",
      "100%|██████████| 230/230 [00:06<00:00, 33.87it/s]\n"
     ]
    },
    {
     "name": "stdout",
     "output_type": "stream",
     "text": [
      "Epoch 18: Train Loss 0.0898, Train R2 = -0.076, Train RMSE = 0.299, Train MSE = 0.090, Train MAE = 0.247\n"
     ]
    },
    {
     "name": "stderr",
     "output_type": "stream",
     "text": [
      "Epoch 18 Val:   0%|          | 0/94 [00:00<?, ?it/s]/home/stepan/Private/bearing_rul/lib/python3.10/site-packages/torch/nn/modules/loss.py:610: UserWarning: Using a target size (torch.Size([32, 1])) that is different to the input size (torch.Size([32])). This will likely lead to incorrect results due to broadcasting. Please ensure they have the same size.\n",
      "  return F.mse_loss(input, target, reduction=self.reduction)\n",
      "Epoch 18 Val:  90%|█████████ | 85/94 [00:00<00:00, 136.30it/s]/home/stepan/Private/bearing_rul/lib/python3.10/site-packages/torch/nn/modules/loss.py:610: UserWarning: Using a target size (torch.Size([26, 1])) that is different to the input size (torch.Size([26])). This will likely lead to incorrect results due to broadcasting. Please ensure they have the same size.\n",
      "  return F.mse_loss(input, target, reduction=self.reduction)\n",
      "Epoch 18 Val: 100%|██████████| 94/94 [00:00<00:00, 137.31it/s]\n"
     ]
    },
    {
     "name": "stdout",
     "output_type": "stream",
     "text": [
      "Epoch 18: Val Loss 0.1049, Val R2 = -1.858, Val RMSE = 0.324, Val MSE = 0.105, Val MAE = 0.269\n"
     ]
    },
    {
     "name": "stderr",
     "output_type": "stream",
     "text": [
      "  0%|          | 0/230 [00:00<?, ?it/s]/home/stepan/Private/bearing_rul/lib/python3.10/site-packages/torch/nn/modules/loss.py:610: UserWarning: Using a target size (torch.Size([32, 1])) that is different to the input size (torch.Size([32])). This will likely lead to incorrect results due to broadcasting. Please ensure they have the same size.\n",
      "  return F.mse_loss(input, target, reduction=self.reduction)\n",
      " 99%|█████████▉| 228/230 [00:08<00:00, 28.61it/s]/home/stepan/Private/bearing_rul/lib/python3.10/site-packages/torch/nn/modules/loss.py:610: UserWarning: Using a target size (torch.Size([16, 1])) that is different to the input size (torch.Size([16])). This will likely lead to incorrect results due to broadcasting. Please ensure they have the same size.\n",
      "  return F.mse_loss(input, target, reduction=self.reduction)\n",
      "100%|██████████| 230/230 [00:08<00:00, 28.45it/s]\n"
     ]
    },
    {
     "name": "stdout",
     "output_type": "stream",
     "text": [
      "Epoch 19: Train Loss 0.0879, Train R2 = -0.054, Train RMSE = 0.296, Train MSE = 0.088, Train MAE = 0.251\n"
     ]
    },
    {
     "name": "stderr",
     "output_type": "stream",
     "text": [
      "Epoch 19 Val:   0%|          | 0/94 [00:00<?, ?it/s]/home/stepan/Private/bearing_rul/lib/python3.10/site-packages/torch/nn/modules/loss.py:610: UserWarning: Using a target size (torch.Size([32, 1])) that is different to the input size (torch.Size([32])). This will likely lead to incorrect results due to broadcasting. Please ensure they have the same size.\n",
      "  return F.mse_loss(input, target, reduction=self.reduction)\n",
      "Epoch 19 Val:  87%|████████▋ | 82/94 [00:00<00:00, 129.74it/s]/home/stepan/Private/bearing_rul/lib/python3.10/site-packages/torch/nn/modules/loss.py:610: UserWarning: Using a target size (torch.Size([26, 1])) that is different to the input size (torch.Size([26])). This will likely lead to incorrect results due to broadcasting. Please ensure they have the same size.\n",
      "  return F.mse_loss(input, target, reduction=self.reduction)\n",
      "Epoch 19 Val: 100%|██████████| 94/94 [00:00<00:00, 130.11it/s]\n"
     ]
    },
    {
     "name": "stdout",
     "output_type": "stream",
     "text": [
      "Epoch 19: Val Loss 0.1020, Val R2 = -1.776, Val RMSE = 0.320, Val MSE = 0.102, Val MAE = 0.265\n"
     ]
    },
    {
     "name": "stderr",
     "output_type": "stream",
     "text": [
      "  0%|          | 0/230 [00:00<?, ?it/s]/home/stepan/Private/bearing_rul/lib/python3.10/site-packages/torch/nn/modules/loss.py:610: UserWarning: Using a target size (torch.Size([32, 1])) that is different to the input size (torch.Size([32])). This will likely lead to incorrect results due to broadcasting. Please ensure they have the same size.\n",
      "  return F.mse_loss(input, target, reduction=self.reduction)\n",
      "100%|█████████▉| 229/230 [00:07<00:00, 30.60it/s]/home/stepan/Private/bearing_rul/lib/python3.10/site-packages/torch/nn/modules/loss.py:610: UserWarning: Using a target size (torch.Size([16, 1])) that is different to the input size (torch.Size([16])). This will likely lead to incorrect results due to broadcasting. Please ensure they have the same size.\n",
      "  return F.mse_loss(input, target, reduction=self.reduction)\n",
      "100%|██████████| 230/230 [00:07<00:00, 30.36it/s]\n"
     ]
    },
    {
     "name": "stdout",
     "output_type": "stream",
     "text": [
      "Epoch 20: Train Loss 0.0844, Train R2 = -0.013, Train RMSE = 0.290, Train MSE = 0.084, Train MAE = 0.244\n"
     ]
    },
    {
     "name": "stderr",
     "output_type": "stream",
     "text": [
      "Epoch 20 Val:   0%|          | 0/94 [00:00<?, ?it/s]/home/stepan/Private/bearing_rul/lib/python3.10/site-packages/torch/nn/modules/loss.py:610: UserWarning: Using a target size (torch.Size([32, 1])) that is different to the input size (torch.Size([32])). This will likely lead to incorrect results due to broadcasting. Please ensure they have the same size.\n",
      "  return F.mse_loss(input, target, reduction=self.reduction)\n",
      "Epoch 20 Val:  90%|█████████ | 85/94 [00:00<00:00, 137.57it/s]/home/stepan/Private/bearing_rul/lib/python3.10/site-packages/torch/nn/modules/loss.py:610: UserWarning: Using a target size (torch.Size([26, 1])) that is different to the input size (torch.Size([26])). This will likely lead to incorrect results due to broadcasting. Please ensure they have the same size.\n",
      "  return F.mse_loss(input, target, reduction=self.reduction)\n",
      "Epoch 20 Val: 100%|██████████| 94/94 [00:00<00:00, 136.34it/s]\n"
     ]
    },
    {
     "name": "stdout",
     "output_type": "stream",
     "text": [
      "Epoch 20: Val Loss 0.1617, Val R2 = -3.404, Val RMSE = 0.403, Val MSE = 0.162, Val MAE = 0.354\n"
     ]
    },
    {
     "name": "stderr",
     "output_type": "stream",
     "text": [
      "  0%|          | 0/230 [00:00<?, ?it/s]/home/stepan/Private/bearing_rul/lib/python3.10/site-packages/torch/nn/modules/loss.py:610: UserWarning: Using a target size (torch.Size([32, 1])) that is different to the input size (torch.Size([32])). This will likely lead to incorrect results due to broadcasting. Please ensure they have the same size.\n",
      "  return F.mse_loss(input, target, reduction=self.reduction)\n",
      " 99%|█████████▊| 227/230 [00:07<00:00, 28.52it/s]/home/stepan/Private/bearing_rul/lib/python3.10/site-packages/torch/nn/modules/loss.py:610: UserWarning: Using a target size (torch.Size([16, 1])) that is different to the input size (torch.Size([16])). This will likely lead to incorrect results due to broadcasting. Please ensure they have the same size.\n",
      "  return F.mse_loss(input, target, reduction=self.reduction)\n",
      "100%|██████████| 230/230 [00:07<00:00, 29.08it/s]\n"
     ]
    },
    {
     "name": "stdout",
     "output_type": "stream",
     "text": [
      "Epoch 21: Train Loss 0.0881, Train R2 = -0.058, Train RMSE = 0.297, Train MSE = 0.088, Train MAE = 0.245\n"
     ]
    },
    {
     "name": "stderr",
     "output_type": "stream",
     "text": [
      "Epoch 21 Val:   0%|          | 0/94 [00:00<?, ?it/s]/home/stepan/Private/bearing_rul/lib/python3.10/site-packages/torch/nn/modules/loss.py:610: UserWarning: Using a target size (torch.Size([32, 1])) that is different to the input size (torch.Size([32])). This will likely lead to incorrect results due to broadcasting. Please ensure they have the same size.\n",
      "  return F.mse_loss(input, target, reduction=self.reduction)\n",
      "Epoch 21 Val:  97%|█████████▋| 91/94 [00:00<00:00, 127.22it/s]/home/stepan/Private/bearing_rul/lib/python3.10/site-packages/torch/nn/modules/loss.py:610: UserWarning: Using a target size (torch.Size([26, 1])) that is different to the input size (torch.Size([26])). This will likely lead to incorrect results due to broadcasting. Please ensure they have the same size.\n",
      "  return F.mse_loss(input, target, reduction=self.reduction)\n",
      "Epoch 21 Val: 100%|██████████| 94/94 [00:00<00:00, 127.16it/s]\n"
     ]
    },
    {
     "name": "stdout",
     "output_type": "stream",
     "text": [
      "Epoch 21: Val Loss 0.2021, Val R2 = -4.504, Val RMSE = 0.450, Val MSE = 0.203, Val MAE = 0.407\n"
     ]
    },
    {
     "name": "stderr",
     "output_type": "stream",
     "text": [
      "  0%|          | 0/230 [00:00<?, ?it/s]/home/stepan/Private/bearing_rul/lib/python3.10/site-packages/torch/nn/modules/loss.py:610: UserWarning: Using a target size (torch.Size([32, 1])) that is different to the input size (torch.Size([32])). This will likely lead to incorrect results due to broadcasting. Please ensure they have the same size.\n",
      "  return F.mse_loss(input, target, reduction=self.reduction)\n",
      " 99%|█████████▉| 228/230 [00:07<00:00, 28.59it/s]/home/stepan/Private/bearing_rul/lib/python3.10/site-packages/torch/nn/modules/loss.py:610: UserWarning: Using a target size (torch.Size([16, 1])) that is different to the input size (torch.Size([16])). This will likely lead to incorrect results due to broadcasting. Please ensure they have the same size.\n",
      "  return F.mse_loss(input, target, reduction=self.reduction)\n",
      "100%|██████████| 230/230 [00:08<00:00, 28.55it/s]\n"
     ]
    },
    {
     "name": "stdout",
     "output_type": "stream",
     "text": [
      "Epoch 22: Train Loss 0.1026, Train R2 = -0.231, Train RMSE = 0.320, Train MSE = 0.102, Train MAE = 0.270\n"
     ]
    },
    {
     "name": "stderr",
     "output_type": "stream",
     "text": [
      "Epoch 22 Val:   0%|          | 0/94 [00:00<?, ?it/s]/home/stepan/Private/bearing_rul/lib/python3.10/site-packages/torch/nn/modules/loss.py:610: UserWarning: Using a target size (torch.Size([32, 1])) that is different to the input size (torch.Size([32])). This will likely lead to incorrect results due to broadcasting. Please ensure they have the same size.\n",
      "  return F.mse_loss(input, target, reduction=self.reduction)\n",
      "Epoch 22 Val:  96%|█████████▌| 90/94 [00:00<00:00, 127.25it/s]/home/stepan/Private/bearing_rul/lib/python3.10/site-packages/torch/nn/modules/loss.py:610: UserWarning: Using a target size (torch.Size([26, 1])) that is different to the input size (torch.Size([26])). This will likely lead to incorrect results due to broadcasting. Please ensure they have the same size.\n",
      "  return F.mse_loss(input, target, reduction=self.reduction)\n",
      "Epoch 22 Val: 100%|██████████| 94/94 [00:00<00:00, 125.31it/s]\n"
     ]
    },
    {
     "name": "stdout",
     "output_type": "stream",
     "text": [
      "Epoch 22: Val Loss 0.0997, Val R2 = -1.715, Val RMSE = 0.316, Val MSE = 0.100, Val MAE = 0.261\n"
     ]
    },
    {
     "name": "stderr",
     "output_type": "stream",
     "text": [
      "  0%|          | 0/230 [00:00<?, ?it/s]/home/stepan/Private/bearing_rul/lib/python3.10/site-packages/torch/nn/modules/loss.py:610: UserWarning: Using a target size (torch.Size([32, 1])) that is different to the input size (torch.Size([32])). This will likely lead to incorrect results due to broadcasting. Please ensure they have the same size.\n",
      "  return F.mse_loss(input, target, reduction=self.reduction)\n",
      " 99%|█████████▉| 228/230 [00:08<00:00, 28.27it/s]/home/stepan/Private/bearing_rul/lib/python3.10/site-packages/torch/nn/modules/loss.py:610: UserWarning: Using a target size (torch.Size([16, 1])) that is different to the input size (torch.Size([16])). This will likely lead to incorrect results due to broadcasting. Please ensure they have the same size.\n",
      "  return F.mse_loss(input, target, reduction=self.reduction)\n",
      "100%|██████████| 230/230 [00:08<00:00, 28.51it/s]\n"
     ]
    },
    {
     "name": "stdout",
     "output_type": "stream",
     "text": [
      "Epoch 23: Train Loss 0.0901, Train R2 = -0.080, Train RMSE = 0.300, Train MSE = 0.090, Train MAE = 0.258\n"
     ]
    },
    {
     "name": "stderr",
     "output_type": "stream",
     "text": [
      "Epoch 23 Val:   0%|          | 0/94 [00:00<?, ?it/s]/home/stepan/Private/bearing_rul/lib/python3.10/site-packages/torch/nn/modules/loss.py:610: UserWarning: Using a target size (torch.Size([32, 1])) that is different to the input size (torch.Size([32])). This will likely lead to incorrect results due to broadcasting. Please ensure they have the same size.\n",
      "  return F.mse_loss(input, target, reduction=self.reduction)\n",
      "Epoch 23 Val:  88%|████████▊ | 83/94 [00:00<00:00, 130.31it/s]/home/stepan/Private/bearing_rul/lib/python3.10/site-packages/torch/nn/modules/loss.py:610: UserWarning: Using a target size (torch.Size([26, 1])) that is different to the input size (torch.Size([26])). This will likely lead to incorrect results due to broadcasting. Please ensure they have the same size.\n",
      "  return F.mse_loss(input, target, reduction=self.reduction)\n",
      "Epoch 23 Val: 100%|██████████| 94/94 [00:00<00:00, 129.71it/s]\n"
     ]
    },
    {
     "name": "stdout",
     "output_type": "stream",
     "text": [
      "Epoch 23: Val Loss 0.0857, Val R2 = -1.334, Val RMSE = 0.293, Val MSE = 0.086, Val MAE = 0.240\n"
     ]
    },
    {
     "name": "stderr",
     "output_type": "stream",
     "text": [
      "  0%|          | 0/230 [00:00<?, ?it/s]/home/stepan/Private/bearing_rul/lib/python3.10/site-packages/torch/nn/modules/loss.py:610: UserWarning: Using a target size (torch.Size([32, 1])) that is different to the input size (torch.Size([32])). This will likely lead to incorrect results due to broadcasting. Please ensure they have the same size.\n",
      "  return F.mse_loss(input, target, reduction=self.reduction)\n",
      " 99%|█████████▊| 227/230 [00:08<00:00, 29.14it/s]/home/stepan/Private/bearing_rul/lib/python3.10/site-packages/torch/nn/modules/loss.py:610: UserWarning: Using a target size (torch.Size([16, 1])) that is different to the input size (torch.Size([16])). This will likely lead to incorrect results due to broadcasting. Please ensure they have the same size.\n",
      "  return F.mse_loss(input, target, reduction=self.reduction)\n",
      "100%|██████████| 230/230 [00:08<00:00, 27.66it/s]\n"
     ]
    },
    {
     "name": "stdout",
     "output_type": "stream",
     "text": [
      "Epoch 24: Train Loss 0.0878, Train R2 = -0.052, Train RMSE = 0.296, Train MSE = 0.088, Train MAE = 0.255\n"
     ]
    },
    {
     "name": "stderr",
     "output_type": "stream",
     "text": [
      "Epoch 24 Val:   0%|          | 0/94 [00:00<?, ?it/s]/home/stepan/Private/bearing_rul/lib/python3.10/site-packages/torch/nn/modules/loss.py:610: UserWarning: Using a target size (torch.Size([32, 1])) that is different to the input size (torch.Size([32])). This will likely lead to incorrect results due to broadcasting. Please ensure they have the same size.\n",
      "  return F.mse_loss(input, target, reduction=self.reduction)\n",
      "Epoch 24 Val:  88%|████████▊ | 83/94 [00:00<00:00, 131.93it/s]/home/stepan/Private/bearing_rul/lib/python3.10/site-packages/torch/nn/modules/loss.py:610: UserWarning: Using a target size (torch.Size([26, 1])) that is different to the input size (torch.Size([26])). This will likely lead to incorrect results due to broadcasting. Please ensure they have the same size.\n",
      "  return F.mse_loss(input, target, reduction=self.reduction)\n",
      "Epoch 24 Val: 100%|██████████| 94/94 [00:00<00:00, 132.07it/s]\n"
     ]
    },
    {
     "name": "stdout",
     "output_type": "stream",
     "text": [
      "Epoch 24: Val Loss 0.0781, Val R2 = -1.127, Val RMSE = 0.280, Val MSE = 0.078, Val MAE = 0.229\n"
     ]
    },
    {
     "name": "stderr",
     "output_type": "stream",
     "text": [
      "  0%|          | 0/230 [00:00<?, ?it/s]/home/stepan/Private/bearing_rul/lib/python3.10/site-packages/torch/nn/modules/loss.py:610: UserWarning: Using a target size (torch.Size([32, 1])) that is different to the input size (torch.Size([32])). This will likely lead to incorrect results due to broadcasting. Please ensure they have the same size.\n",
      "  return F.mse_loss(input, target, reduction=self.reduction)\n",
      "100%|█████████▉| 229/230 [00:08<00:00, 27.83it/s]/home/stepan/Private/bearing_rul/lib/python3.10/site-packages/torch/nn/modules/loss.py:610: UserWarning: Using a target size (torch.Size([16, 1])) that is different to the input size (torch.Size([16])). This will likely lead to incorrect results due to broadcasting. Please ensure they have the same size.\n",
      "  return F.mse_loss(input, target, reduction=self.reduction)\n",
      "100%|██████████| 230/230 [00:08<00:00, 27.03it/s]\n"
     ]
    },
    {
     "name": "stdout",
     "output_type": "stream",
     "text": [
      "Epoch 25: Train Loss 0.0868, Train R2 = -0.038, Train RMSE = 0.294, Train MSE = 0.086, Train MAE = 0.254\n"
     ]
    },
    {
     "name": "stderr",
     "output_type": "stream",
     "text": [
      "Epoch 25 Val:   0%|          | 0/94 [00:00<?, ?it/s]/home/stepan/Private/bearing_rul/lib/python3.10/site-packages/torch/nn/modules/loss.py:610: UserWarning: Using a target size (torch.Size([32, 1])) that is different to the input size (torch.Size([32])). This will likely lead to incorrect results due to broadcasting. Please ensure they have the same size.\n",
      "  return F.mse_loss(input, target, reduction=self.reduction)\n",
      "Epoch 25 Val:  99%|█████████▉| 93/94 [00:00<00:00, 128.89it/s]/home/stepan/Private/bearing_rul/lib/python3.10/site-packages/torch/nn/modules/loss.py:610: UserWarning: Using a target size (torch.Size([26, 1])) that is different to the input size (torch.Size([26])). This will likely lead to incorrect results due to broadcasting. Please ensure they have the same size.\n",
      "  return F.mse_loss(input, target, reduction=self.reduction)\n",
      "Epoch 25 Val: 100%|██████████| 94/94 [00:00<00:00, 128.23it/s]\n"
     ]
    },
    {
     "name": "stdout",
     "output_type": "stream",
     "text": [
      "Epoch 25: Val Loss 0.0733, Val R2 = -0.994, Val RMSE = 0.271, Val MSE = 0.073, Val MAE = 0.221\n"
     ]
    },
    {
     "name": "stderr",
     "output_type": "stream",
     "text": [
      "  0%|          | 0/230 [00:00<?, ?it/s]/home/stepan/Private/bearing_rul/lib/python3.10/site-packages/torch/nn/modules/loss.py:610: UserWarning: Using a target size (torch.Size([32, 1])) that is different to the input size (torch.Size([32])). This will likely lead to incorrect results due to broadcasting. Please ensure they have the same size.\n",
      "  return F.mse_loss(input, target, reduction=self.reduction)\n",
      "100%|█████████▉| 229/230 [00:08<00:00, 22.00it/s]/home/stepan/Private/bearing_rul/lib/python3.10/site-packages/torch/nn/modules/loss.py:610: UserWarning: Using a target size (torch.Size([16, 1])) that is different to the input size (torch.Size([16])). This will likely lead to incorrect results due to broadcasting. Please ensure they have the same size.\n",
      "  return F.mse_loss(input, target, reduction=self.reduction)\n",
      "100%|██████████| 230/230 [00:08<00:00, 26.69it/s]\n"
     ]
    },
    {
     "name": "stdout",
     "output_type": "stream",
     "text": [
      "Epoch 26: Train Loss 0.0861, Train R2 = -0.031, Train RMSE = 0.293, Train MSE = 0.086, Train MAE = 0.253\n"
     ]
    },
    {
     "name": "stderr",
     "output_type": "stream",
     "text": [
      "Epoch 26 Val:   0%|          | 0/94 [00:00<?, ?it/s]/home/stepan/Private/bearing_rul/lib/python3.10/site-packages/torch/nn/modules/loss.py:610: UserWarning: Using a target size (torch.Size([32, 1])) that is different to the input size (torch.Size([32])). This will likely lead to incorrect results due to broadcasting. Please ensure they have the same size.\n",
      "  return F.mse_loss(input, target, reduction=self.reduction)\n",
      "Epoch 26 Val:  91%|█████████▏| 86/94 [00:00<00:00, 120.34it/s]/home/stepan/Private/bearing_rul/lib/python3.10/site-packages/torch/nn/modules/loss.py:610: UserWarning: Using a target size (torch.Size([26, 1])) that is different to the input size (torch.Size([26])). This will likely lead to incorrect results due to broadcasting. Please ensure they have the same size.\n",
      "  return F.mse_loss(input, target, reduction=self.reduction)\n",
      "Epoch 26 Val: 100%|██████████| 94/94 [00:00<00:00, 119.22it/s]\n"
     ]
    },
    {
     "name": "stdout",
     "output_type": "stream",
     "text": [
      "Epoch 26: Val Loss 0.0706, Val R2 = -0.920, Val RMSE = 0.266, Val MSE = 0.071, Val MAE = 0.217\n"
     ]
    },
    {
     "name": "stderr",
     "output_type": "stream",
     "text": [
      "  0%|          | 0/230 [00:00<?, ?it/s]/home/stepan/Private/bearing_rul/lib/python3.10/site-packages/torch/nn/modules/loss.py:610: UserWarning: Using a target size (torch.Size([32, 1])) that is different to the input size (torch.Size([32])). This will likely lead to incorrect results due to broadcasting. Please ensure they have the same size.\n",
      "  return F.mse_loss(input, target, reduction=self.reduction)\n",
      "100%|█████████▉| 229/230 [00:09<00:00, 27.56it/s]/home/stepan/Private/bearing_rul/lib/python3.10/site-packages/torch/nn/modules/loss.py:610: UserWarning: Using a target size (torch.Size([16, 1])) that is different to the input size (torch.Size([16])). This will likely lead to incorrect results due to broadcasting. Please ensure they have the same size.\n",
      "  return F.mse_loss(input, target, reduction=self.reduction)\n",
      "100%|██████████| 230/230 [00:09<00:00, 24.42it/s]\n"
     ]
    },
    {
     "name": "stdout",
     "output_type": "stream",
     "text": [
      "Epoch 27: Train Loss 0.0855, Train R2 = -0.024, Train RMSE = 0.292, Train MSE = 0.085, Train MAE = 0.252\n"
     ]
    },
    {
     "name": "stderr",
     "output_type": "stream",
     "text": [
      "Epoch 27 Val:   0%|          | 0/94 [00:00<?, ?it/s]/home/stepan/Private/bearing_rul/lib/python3.10/site-packages/torch/nn/modules/loss.py:610: UserWarning: Using a target size (torch.Size([32, 1])) that is different to the input size (torch.Size([32])). This will likely lead to incorrect results due to broadcasting. Please ensure they have the same size.\n",
      "  return F.mse_loss(input, target, reduction=self.reduction)\n",
      "Epoch 27 Val:  97%|█████████▋| 91/94 [00:00<00:00, 128.56it/s]/home/stepan/Private/bearing_rul/lib/python3.10/site-packages/torch/nn/modules/loss.py:610: UserWarning: Using a target size (torch.Size([26, 1])) that is different to the input size (torch.Size([26])). This will likely lead to incorrect results due to broadcasting. Please ensure they have the same size.\n",
      "  return F.mse_loss(input, target, reduction=self.reduction)\n",
      "Epoch 27 Val: 100%|██████████| 94/94 [00:00<00:00, 128.11it/s]\n"
     ]
    },
    {
     "name": "stdout",
     "output_type": "stream",
     "text": [
      "Epoch 27: Val Loss 0.0681, Val R2 = -0.854, Val RMSE = 0.261, Val MSE = 0.068, Val MAE = 0.213\n"
     ]
    },
    {
     "name": "stderr",
     "output_type": "stream",
     "text": [
      "  0%|          | 0/230 [00:00<?, ?it/s]/home/stepan/Private/bearing_rul/lib/python3.10/site-packages/torch/nn/modules/loss.py:610: UserWarning: Using a target size (torch.Size([32, 1])) that is different to the input size (torch.Size([32])). This will likely lead to incorrect results due to broadcasting. Please ensure they have the same size.\n",
      "  return F.mse_loss(input, target, reduction=self.reduction)\n",
      " 99%|█████████▉| 228/230 [00:08<00:00, 27.85it/s]/home/stepan/Private/bearing_rul/lib/python3.10/site-packages/torch/nn/modules/loss.py:610: UserWarning: Using a target size (torch.Size([16, 1])) that is different to the input size (torch.Size([16])). This will likely lead to incorrect results due to broadcasting. Please ensure they have the same size.\n",
      "  return F.mse_loss(input, target, reduction=self.reduction)\n",
      "100%|██████████| 230/230 [00:08<00:00, 26.48it/s]\n"
     ]
    },
    {
     "name": "stdout",
     "output_type": "stream",
     "text": [
      "Epoch 28: Train Loss 0.0855, Train R2 = -0.023, Train RMSE = 0.292, Train MSE = 0.085, Train MAE = 0.252\n"
     ]
    },
    {
     "name": "stderr",
     "output_type": "stream",
     "text": [
      "Epoch 28 Val:   0%|          | 0/94 [00:00<?, ?it/s]/home/stepan/Private/bearing_rul/lib/python3.10/site-packages/torch/nn/modules/loss.py:610: UserWarning: Using a target size (torch.Size([32, 1])) that is different to the input size (torch.Size([32])). This will likely lead to incorrect results due to broadcasting. Please ensure they have the same size.\n",
      "  return F.mse_loss(input, target, reduction=self.reduction)\n",
      "Epoch 28 Val:  88%|████████▊ | 83/94 [00:00<00:00, 135.67it/s]/home/stepan/Private/bearing_rul/lib/python3.10/site-packages/torch/nn/modules/loss.py:610: UserWarning: Using a target size (torch.Size([26, 1])) that is different to the input size (torch.Size([26])). This will likely lead to incorrect results due to broadcasting. Please ensure they have the same size.\n",
      "  return F.mse_loss(input, target, reduction=self.reduction)\n",
      "Epoch 28 Val: 100%|██████████| 94/94 [00:00<00:00, 134.95it/s]\n"
     ]
    },
    {
     "name": "stdout",
     "output_type": "stream",
     "text": [
      "Epoch 28: Val Loss 0.0662, Val R2 = -0.801, Val RMSE = 0.257, Val MSE = 0.066, Val MAE = 0.211\n"
     ]
    },
    {
     "name": "stderr",
     "output_type": "stream",
     "text": [
      "  0%|          | 0/230 [00:00<?, ?it/s]/home/stepan/Private/bearing_rul/lib/python3.10/site-packages/torch/nn/modules/loss.py:610: UserWarning: Using a target size (torch.Size([32, 1])) that is different to the input size (torch.Size([32])). This will likely lead to incorrect results due to broadcasting. Please ensure they have the same size.\n",
      "  return F.mse_loss(input, target, reduction=self.reduction)\n",
      " 99%|█████████▊| 227/230 [00:08<00:00, 26.06it/s]/home/stepan/Private/bearing_rul/lib/python3.10/site-packages/torch/nn/modules/loss.py:610: UserWarning: Using a target size (torch.Size([16, 1])) that is different to the input size (torch.Size([16])). This will likely lead to incorrect results due to broadcasting. Please ensure they have the same size.\n",
      "  return F.mse_loss(input, target, reduction=self.reduction)\n",
      "100%|██████████| 230/230 [00:08<00:00, 26.34it/s]\n"
     ]
    },
    {
     "name": "stdout",
     "output_type": "stream",
     "text": [
      "Epoch 29: Train Loss 0.0847, Train R2 = -0.014, Train RMSE = 0.291, Train MSE = 0.084, Train MAE = 0.251\n"
     ]
    },
    {
     "name": "stderr",
     "output_type": "stream",
     "text": [
      "Epoch 29 Val:   0%|          | 0/94 [00:00<?, ?it/s]/home/stepan/Private/bearing_rul/lib/python3.10/site-packages/torch/nn/modules/loss.py:610: UserWarning: Using a target size (torch.Size([32, 1])) that is different to the input size (torch.Size([32])). This will likely lead to incorrect results due to broadcasting. Please ensure they have the same size.\n",
      "  return F.mse_loss(input, target, reduction=self.reduction)\n",
      "Epoch 29 Val:  96%|█████████▌| 90/94 [00:00<00:00, 124.69it/s]/home/stepan/Private/bearing_rul/lib/python3.10/site-packages/torch/nn/modules/loss.py:610: UserWarning: Using a target size (torch.Size([26, 1])) that is different to the input size (torch.Size([26])). This will likely lead to incorrect results due to broadcasting. Please ensure they have the same size.\n",
      "  return F.mse_loss(input, target, reduction=self.reduction)\n",
      "Epoch 29 Val: 100%|██████████| 94/94 [00:00<00:00, 123.38it/s]\n"
     ]
    },
    {
     "name": "stdout",
     "output_type": "stream",
     "text": [
      "Epoch 29: Val Loss 0.0648, Val R2 = -0.763, Val RMSE = 0.255, Val MSE = 0.065, Val MAE = 0.208\n"
     ]
    },
    {
     "name": "stderr",
     "output_type": "stream",
     "text": [
      "  0%|          | 0/230 [00:00<?, ?it/s]/home/stepan/Private/bearing_rul/lib/python3.10/site-packages/torch/nn/modules/loss.py:610: UserWarning: Using a target size (torch.Size([32, 1])) that is different to the input size (torch.Size([32])). This will likely lead to incorrect results due to broadcasting. Please ensure they have the same size.\n",
      "  return F.mse_loss(input, target, reduction=self.reduction)\n",
      " 99%|█████████▊| 227/230 [00:09<00:00, 24.52it/s]/home/stepan/Private/bearing_rul/lib/python3.10/site-packages/torch/nn/modules/loss.py:610: UserWarning: Using a target size (torch.Size([16, 1])) that is different to the input size (torch.Size([16])). This will likely lead to incorrect results due to broadcasting. Please ensure they have the same size.\n",
      "  return F.mse_loss(input, target, reduction=self.reduction)\n",
      "100%|██████████| 230/230 [00:09<00:00, 24.54it/s]\n"
     ]
    },
    {
     "name": "stdout",
     "output_type": "stream",
     "text": [
      "Epoch 30: Train Loss 0.0842, Train R2 = -0.007, Train RMSE = 0.290, Train MSE = 0.084, Train MAE = 0.251\n"
     ]
    },
    {
     "name": "stderr",
     "output_type": "stream",
     "text": [
      "Epoch 30 Val:   0%|          | 0/94 [00:00<?, ?it/s]/home/stepan/Private/bearing_rul/lib/python3.10/site-packages/torch/nn/modules/loss.py:610: UserWarning: Using a target size (torch.Size([32, 1])) that is different to the input size (torch.Size([32])). This will likely lead to incorrect results due to broadcasting. Please ensure they have the same size.\n",
      "  return F.mse_loss(input, target, reduction=self.reduction)\n",
      "Epoch 30 Val:  96%|█████████▌| 90/94 [00:00<00:00, 120.55it/s]/home/stepan/Private/bearing_rul/lib/python3.10/site-packages/torch/nn/modules/loss.py:610: UserWarning: Using a target size (torch.Size([26, 1])) that is different to the input size (torch.Size([26])). This will likely lead to incorrect results due to broadcasting. Please ensure they have the same size.\n",
      "  return F.mse_loss(input, target, reduction=self.reduction)\n",
      "Epoch 30 Val: 100%|██████████| 94/94 [00:00<00:00, 120.77it/s]\n"
     ]
    },
    {
     "name": "stdout",
     "output_type": "stream",
     "text": [
      "Epoch 30: Val Loss 0.0640, Val R2 = -0.742, Val RMSE = 0.253, Val MSE = 0.064, Val MAE = 0.207\n"
     ]
    },
    {
     "name": "stderr",
     "output_type": "stream",
     "text": [
      "  0%|          | 0/230 [00:00<?, ?it/s]/home/stepan/Private/bearing_rul/lib/python3.10/site-packages/torch/nn/modules/loss.py:610: UserWarning: Using a target size (torch.Size([32, 1])) that is different to the input size (torch.Size([32])). This will likely lead to incorrect results due to broadcasting. Please ensure they have the same size.\n",
      "  return F.mse_loss(input, target, reduction=self.reduction)\n",
      " 99%|█████████▉| 228/230 [00:08<00:00, 26.63it/s]/home/stepan/Private/bearing_rul/lib/python3.10/site-packages/torch/nn/modules/loss.py:610: UserWarning: Using a target size (torch.Size([16, 1])) that is different to the input size (torch.Size([16])). This will likely lead to incorrect results due to broadcasting. Please ensure they have the same size.\n",
      "  return F.mse_loss(input, target, reduction=self.reduction)\n",
      "100%|██████████| 230/230 [00:08<00:00, 25.93it/s]\n"
     ]
    },
    {
     "name": "stdout",
     "output_type": "stream",
     "text": [
      "Epoch 31: Train Loss 0.0823, Train R2 = 0.015, Train RMSE = 0.286, Train MSE = 0.082, Train MAE = 0.248\n"
     ]
    },
    {
     "name": "stderr",
     "output_type": "stream",
     "text": [
      "Epoch 31 Val:   0%|          | 0/94 [00:00<?, ?it/s]/home/stepan/Private/bearing_rul/lib/python3.10/site-packages/torch/nn/modules/loss.py:610: UserWarning: Using a target size (torch.Size([32, 1])) that is different to the input size (torch.Size([32])). This will likely lead to incorrect results due to broadcasting. Please ensure they have the same size.\n",
      "  return F.mse_loss(input, target, reduction=self.reduction)\n",
      "Epoch 31 Val:  89%|████████▉ | 84/94 [00:00<00:00, 135.75it/s]/home/stepan/Private/bearing_rul/lib/python3.10/site-packages/torch/nn/modules/loss.py:610: UserWarning: Using a target size (torch.Size([26, 1])) that is different to the input size (torch.Size([26])). This will likely lead to incorrect results due to broadcasting. Please ensure they have the same size.\n",
      "  return F.mse_loss(input, target, reduction=self.reduction)\n",
      "Epoch 31 Val: 100%|██████████| 94/94 [00:00<00:00, 134.28it/s]\n"
     ]
    },
    {
     "name": "stdout",
     "output_type": "stream",
     "text": [
      "Epoch 31: Val Loss 0.0653, Val R2 = -0.777, Val RMSE = 0.256, Val MSE = 0.065, Val MAE = 0.209\n"
     ]
    },
    {
     "name": "stderr",
     "output_type": "stream",
     "text": [
      "  0%|          | 0/230 [00:00<?, ?it/s]/home/stepan/Private/bearing_rul/lib/python3.10/site-packages/torch/nn/modules/loss.py:610: UserWarning: Using a target size (torch.Size([32, 1])) that is different to the input size (torch.Size([32])). This will likely lead to incorrect results due to broadcasting. Please ensure they have the same size.\n",
      "  return F.mse_loss(input, target, reduction=self.reduction)\n",
      " 99%|█████████▉| 228/230 [00:08<00:00, 24.40it/s]/home/stepan/Private/bearing_rul/lib/python3.10/site-packages/torch/nn/modules/loss.py:610: UserWarning: Using a target size (torch.Size([16, 1])) that is different to the input size (torch.Size([16])). This will likely lead to incorrect results due to broadcasting. Please ensure they have the same size.\n",
      "  return F.mse_loss(input, target, reduction=self.reduction)\n",
      "100%|██████████| 230/230 [00:08<00:00, 25.65it/s]\n"
     ]
    },
    {
     "name": "stdout",
     "output_type": "stream",
     "text": [
      "Epoch 32: Train Loss 0.0807, Train R2 = 0.033, Train RMSE = 0.284, Train MSE = 0.081, Train MAE = 0.243\n"
     ]
    },
    {
     "name": "stderr",
     "output_type": "stream",
     "text": [
      "Epoch 32 Val:   0%|          | 0/94 [00:00<?, ?it/s]/home/stepan/Private/bearing_rul/lib/python3.10/site-packages/torch/nn/modules/loss.py:610: UserWarning: Using a target size (torch.Size([32, 1])) that is different to the input size (torch.Size([32])). This will likely lead to incorrect results due to broadcasting. Please ensure they have the same size.\n",
      "  return F.mse_loss(input, target, reduction=self.reduction)\n",
      "Epoch 32 Val:  89%|████████▉ | 84/94 [00:00<00:00, 116.34it/s]/home/stepan/Private/bearing_rul/lib/python3.10/site-packages/torch/nn/modules/loss.py:610: UserWarning: Using a target size (torch.Size([26, 1])) that is different to the input size (torch.Size([26])). This will likely lead to incorrect results due to broadcasting. Please ensure they have the same size.\n",
      "  return F.mse_loss(input, target, reduction=self.reduction)\n",
      "Epoch 32 Val: 100%|██████████| 94/94 [00:00<00:00, 116.36it/s]\n"
     ]
    },
    {
     "name": "stdout",
     "output_type": "stream",
     "text": [
      "Epoch 32: Val Loss 0.0616, Val R2 = -0.677, Val RMSE = 0.248, Val MSE = 0.062, Val MAE = 0.204\n"
     ]
    },
    {
     "name": "stderr",
     "output_type": "stream",
     "text": [
      "  0%|          | 0/230 [00:00<?, ?it/s]/home/stepan/Private/bearing_rul/lib/python3.10/site-packages/torch/nn/modules/loss.py:610: UserWarning: Using a target size (torch.Size([32, 1])) that is different to the input size (torch.Size([32])). This will likely lead to incorrect results due to broadcasting. Please ensure they have the same size.\n",
      "  return F.mse_loss(input, target, reduction=self.reduction)\n",
      " 99%|█████████▉| 228/230 [00:09<00:00, 24.36it/s]/home/stepan/Private/bearing_rul/lib/python3.10/site-packages/torch/nn/modules/loss.py:610: UserWarning: Using a target size (torch.Size([16, 1])) that is different to the input size (torch.Size([16])). This will likely lead to incorrect results due to broadcasting. Please ensure they have the same size.\n",
      "  return F.mse_loss(input, target, reduction=self.reduction)\n",
      "100%|██████████| 230/230 [00:09<00:00, 24.38it/s]\n"
     ]
    },
    {
     "name": "stdout",
     "output_type": "stream",
     "text": [
      "Epoch 33: Train Loss 0.0733, Train R2 = 0.122, Train RMSE = 0.270, Train MSE = 0.073, Train MAE = 0.230\n"
     ]
    },
    {
     "name": "stderr",
     "output_type": "stream",
     "text": [
      "Epoch 33 Val:   0%|          | 0/94 [00:00<?, ?it/s]/home/stepan/Private/bearing_rul/lib/python3.10/site-packages/torch/nn/modules/loss.py:610: UserWarning: Using a target size (torch.Size([32, 1])) that is different to the input size (torch.Size([32])). This will likely lead to incorrect results due to broadcasting. Please ensure they have the same size.\n",
      "  return F.mse_loss(input, target, reduction=self.reduction)\n",
      "Epoch 33 Val:  98%|█████████▊| 92/94 [00:00<00:00, 105.38it/s]/home/stepan/Private/bearing_rul/lib/python3.10/site-packages/torch/nn/modules/loss.py:610: UserWarning: Using a target size (torch.Size([26, 1])) that is different to the input size (torch.Size([26])). This will likely lead to incorrect results due to broadcasting. Please ensure they have the same size.\n",
      "  return F.mse_loss(input, target, reduction=self.reduction)\n",
      "Epoch 33 Val: 100%|██████████| 94/94 [00:00<00:00, 114.96it/s]\n"
     ]
    },
    {
     "name": "stdout",
     "output_type": "stream",
     "text": [
      "Epoch 33: Val Loss 0.0548, Val R2 = -0.490, Val RMSE = 0.234, Val MSE = 0.055, Val MAE = 0.192\n"
     ]
    },
    {
     "name": "stderr",
     "output_type": "stream",
     "text": [
      "  0%|          | 0/230 [00:00<?, ?it/s]/home/stepan/Private/bearing_rul/lib/python3.10/site-packages/torch/nn/modules/loss.py:610: UserWarning: Using a target size (torch.Size([32, 1])) that is different to the input size (torch.Size([32])). This will likely lead to incorrect results due to broadcasting. Please ensure they have the same size.\n",
      "  return F.mse_loss(input, target, reduction=self.reduction)\n",
      " 99%|█████████▉| 228/230 [00:09<00:00, 25.87it/s]/home/stepan/Private/bearing_rul/lib/python3.10/site-packages/torch/nn/modules/loss.py:610: UserWarning: Using a target size (torch.Size([16, 1])) that is different to the input size (torch.Size([16])). This will likely lead to incorrect results due to broadcasting. Please ensure they have the same size.\n",
      "  return F.mse_loss(input, target, reduction=self.reduction)\n",
      "100%|██████████| 230/230 [00:09<00:00, 24.08it/s]\n"
     ]
    },
    {
     "name": "stdout",
     "output_type": "stream",
     "text": [
      "Epoch 34: Train Loss 0.0737, Train R2 = 0.118, Train RMSE = 0.271, Train MSE = 0.073, Train MAE = 0.226\n"
     ]
    },
    {
     "name": "stderr",
     "output_type": "stream",
     "text": [
      "Epoch 34 Val:   0%|          | 0/94 [00:00<?, ?it/s]/home/stepan/Private/bearing_rul/lib/python3.10/site-packages/torch/nn/modules/loss.py:610: UserWarning: Using a target size (torch.Size([32, 1])) that is different to the input size (torch.Size([32])). This will likely lead to incorrect results due to broadcasting. Please ensure they have the same size.\n",
      "  return F.mse_loss(input, target, reduction=self.reduction)\n",
      "Epoch 34 Val:  94%|█████████▎| 88/94 [00:00<00:00, 126.25it/s]/home/stepan/Private/bearing_rul/lib/python3.10/site-packages/torch/nn/modules/loss.py:610: UserWarning: Using a target size (torch.Size([26, 1])) that is different to the input size (torch.Size([26])). This will likely lead to incorrect results due to broadcasting. Please ensure they have the same size.\n",
      "  return F.mse_loss(input, target, reduction=self.reduction)\n",
      "Epoch 34 Val: 100%|██████████| 94/94 [00:00<00:00, 122.19it/s]\n"
     ]
    },
    {
     "name": "stdout",
     "output_type": "stream",
     "text": [
      "Epoch 34: Val Loss 0.0824, Val R2 = -1.242, Val RMSE = 0.287, Val MSE = 0.082, Val MAE = 0.242\n"
     ]
    },
    {
     "name": "stderr",
     "output_type": "stream",
     "text": [
      "  0%|          | 0/230 [00:00<?, ?it/s]/home/stepan/Private/bearing_rul/lib/python3.10/site-packages/torch/nn/modules/loss.py:610: UserWarning: Using a target size (torch.Size([32, 1])) that is different to the input size (torch.Size([32])). This will likely lead to incorrect results due to broadcasting. Please ensure they have the same size.\n",
      "  return F.mse_loss(input, target, reduction=self.reduction)\n",
      " 99%|█████████▉| 228/230 [00:09<00:00, 23.78it/s]/home/stepan/Private/bearing_rul/lib/python3.10/site-packages/torch/nn/modules/loss.py:610: UserWarning: Using a target size (torch.Size([16, 1])) that is different to the input size (torch.Size([16])). This will likely lead to incorrect results due to broadcasting. Please ensure they have the same size.\n",
      "  return F.mse_loss(input, target, reduction=self.reduction)\n",
      "100%|██████████| 230/230 [00:09<00:00, 24.54it/s]\n"
     ]
    },
    {
     "name": "stdout",
     "output_type": "stream",
     "text": [
      "Epoch 35: Train Loss 0.0708, Train R2 = 0.152, Train RMSE = 0.266, Train MSE = 0.071, Train MAE = 0.217\n"
     ]
    },
    {
     "name": "stderr",
     "output_type": "stream",
     "text": [
      "Epoch 35 Val:   0%|          | 0/94 [00:00<?, ?it/s]/home/stepan/Private/bearing_rul/lib/python3.10/site-packages/torch/nn/modules/loss.py:610: UserWarning: Using a target size (torch.Size([32, 1])) that is different to the input size (torch.Size([32])). This will likely lead to incorrect results due to broadcasting. Please ensure they have the same size.\n",
      "  return F.mse_loss(input, target, reduction=self.reduction)\n",
      "Epoch 35 Val:  98%|█████████▊| 92/94 [00:00<00:00, 121.42it/s]/home/stepan/Private/bearing_rul/lib/python3.10/site-packages/torch/nn/modules/loss.py:610: UserWarning: Using a target size (torch.Size([26, 1])) that is different to the input size (torch.Size([26])). This will likely lead to incorrect results due to broadcasting. Please ensure they have the same size.\n",
      "  return F.mse_loss(input, target, reduction=self.reduction)\n",
      "Epoch 35 Val: 100%|██████████| 94/94 [00:00<00:00, 122.91it/s]\n"
     ]
    },
    {
     "name": "stdout",
     "output_type": "stream",
     "text": [
      "Epoch 35: Val Loss 0.0631, Val R2 = -0.717, Val RMSE = 0.251, Val MSE = 0.063, Val MAE = 0.210\n"
     ]
    },
    {
     "name": "stderr",
     "output_type": "stream",
     "text": [
      "  0%|          | 0/230 [00:00<?, ?it/s]/home/stepan/Private/bearing_rul/lib/python3.10/site-packages/torch/nn/modules/loss.py:610: UserWarning: Using a target size (torch.Size([32, 1])) that is different to the input size (torch.Size([32])). This will likely lead to incorrect results due to broadcasting. Please ensure they have the same size.\n",
      "  return F.mse_loss(input, target, reduction=self.reduction)\n",
      " 99%|█████████▊| 227/230 [00:09<00:00, 26.08it/s]/home/stepan/Private/bearing_rul/lib/python3.10/site-packages/torch/nn/modules/loss.py:610: UserWarning: Using a target size (torch.Size([16, 1])) that is different to the input size (torch.Size([16])). This will likely lead to incorrect results due to broadcasting. Please ensure they have the same size.\n",
      "  return F.mse_loss(input, target, reduction=self.reduction)\n",
      "100%|██████████| 230/230 [00:09<00:00, 23.19it/s]\n"
     ]
    },
    {
     "name": "stdout",
     "output_type": "stream",
     "text": [
      "Epoch 36: Train Loss 0.0501, Train R2 = 0.403, Train RMSE = 0.223, Train MSE = 0.050, Train MAE = 0.169\n"
     ]
    },
    {
     "name": "stderr",
     "output_type": "stream",
     "text": [
      "Epoch 36 Val:   0%|          | 0/94 [00:00<?, ?it/s]/home/stepan/Private/bearing_rul/lib/python3.10/site-packages/torch/nn/modules/loss.py:610: UserWarning: Using a target size (torch.Size([32, 1])) that is different to the input size (torch.Size([32])). This will likely lead to incorrect results due to broadcasting. Please ensure they have the same size.\n",
      "  return F.mse_loss(input, target, reduction=self.reduction)\n",
      "Epoch 36 Val:  88%|████████▊ | 83/94 [00:00<00:00, 135.78it/s]/home/stepan/Private/bearing_rul/lib/python3.10/site-packages/torch/nn/modules/loss.py:610: UserWarning: Using a target size (torch.Size([26, 1])) that is different to the input size (torch.Size([26])). This will likely lead to incorrect results due to broadcasting. Please ensure they have the same size.\n",
      "  return F.mse_loss(input, target, reduction=self.reduction)\n",
      "Epoch 36 Val: 100%|██████████| 94/94 [00:00<00:00, 134.30it/s]\n"
     ]
    },
    {
     "name": "stdout",
     "output_type": "stream",
     "text": [
      "Epoch 36: Val Loss 0.0654, Val R2 = -0.779, Val RMSE = 0.256, Val MSE = 0.065, Val MAE = 0.215\n"
     ]
    },
    {
     "name": "stderr",
     "output_type": "stream",
     "text": [
      "  0%|          | 0/230 [00:00<?, ?it/s]/home/stepan/Private/bearing_rul/lib/python3.10/site-packages/torch/nn/modules/loss.py:610: UserWarning: Using a target size (torch.Size([32, 1])) that is different to the input size (torch.Size([32])). This will likely lead to incorrect results due to broadcasting. Please ensure they have the same size.\n",
      "  return F.mse_loss(input, target, reduction=self.reduction)\n",
      " 99%|█████████▉| 228/230 [00:10<00:00, 21.15it/s]/home/stepan/Private/bearing_rul/lib/python3.10/site-packages/torch/nn/modules/loss.py:610: UserWarning: Using a target size (torch.Size([16, 1])) that is different to the input size (torch.Size([16])). This will likely lead to incorrect results due to broadcasting. Please ensure they have the same size.\n",
      "  return F.mse_loss(input, target, reduction=self.reduction)\n",
      "100%|██████████| 230/230 [00:10<00:00, 22.08it/s]\n"
     ]
    },
    {
     "name": "stdout",
     "output_type": "stream",
     "text": [
      "Epoch 37: Train Loss 0.0373, Train R2 = 0.557, Train RMSE = 0.192, Train MSE = 0.037, Train MAE = 0.146\n"
     ]
    },
    {
     "name": "stderr",
     "output_type": "stream",
     "text": [
      "Epoch 37 Val:   0%|          | 0/94 [00:00<?, ?it/s]/home/stepan/Private/bearing_rul/lib/python3.10/site-packages/torch/nn/modules/loss.py:610: UserWarning: Using a target size (torch.Size([32, 1])) that is different to the input size (torch.Size([32])). This will likely lead to incorrect results due to broadcasting. Please ensure they have the same size.\n",
      "  return F.mse_loss(input, target, reduction=self.reduction)\n",
      "Epoch 37 Val:  88%|████████▊ | 83/94 [00:00<00:00, 110.64it/s]/home/stepan/Private/bearing_rul/lib/python3.10/site-packages/torch/nn/modules/loss.py:610: UserWarning: Using a target size (torch.Size([26, 1])) that is different to the input size (torch.Size([26])). This will likely lead to incorrect results due to broadcasting. Please ensure they have the same size.\n",
      "  return F.mse_loss(input, target, reduction=self.reduction)\n",
      "Epoch 37 Val: 100%|██████████| 94/94 [00:00<00:00, 111.10it/s]\n"
     ]
    },
    {
     "name": "stdout",
     "output_type": "stream",
     "text": [
      "Epoch 37: Val Loss 0.1821, Val R2 = -3.960, Val RMSE = 0.427, Val MSE = 0.182, Val MAE = 0.343\n"
     ]
    },
    {
     "name": "stderr",
     "output_type": "stream",
     "text": [
      "  0%|          | 0/230 [00:00<?, ?it/s]/home/stepan/Private/bearing_rul/lib/python3.10/site-packages/torch/nn/modules/loss.py:610: UserWarning: Using a target size (torch.Size([32, 1])) that is different to the input size (torch.Size([32])). This will likely lead to incorrect results due to broadcasting. Please ensure they have the same size.\n",
      "  return F.mse_loss(input, target, reduction=self.reduction)\n",
      " 99%|█████████▉| 228/230 [00:10<00:00, 21.18it/s]/home/stepan/Private/bearing_rul/lib/python3.10/site-packages/torch/nn/modules/loss.py:610: UserWarning: Using a target size (torch.Size([16, 1])) that is different to the input size (torch.Size([16])). This will likely lead to incorrect results due to broadcasting. Please ensure they have the same size.\n",
      "  return F.mse_loss(input, target, reduction=self.reduction)\n",
      "100%|██████████| 230/230 [00:10<00:00, 21.14it/s]\n"
     ]
    },
    {
     "name": "stdout",
     "output_type": "stream",
     "text": [
      "Epoch 38: Train Loss 0.0319, Train R2 = 0.621, Train RMSE = 0.178, Train MSE = 0.032, Train MAE = 0.137\n"
     ]
    },
    {
     "name": "stderr",
     "output_type": "stream",
     "text": [
      "Epoch 38 Val:   0%|          | 0/94 [00:00<?, ?it/s]/home/stepan/Private/bearing_rul/lib/python3.10/site-packages/torch/nn/modules/loss.py:610: UserWarning: Using a target size (torch.Size([32, 1])) that is different to the input size (torch.Size([32])). This will likely lead to incorrect results due to broadcasting. Please ensure they have the same size.\n",
      "  return F.mse_loss(input, target, reduction=self.reduction)\n",
      "Epoch 38 Val:  88%|████████▊ | 83/94 [00:00<00:00, 110.04it/s]/home/stepan/Private/bearing_rul/lib/python3.10/site-packages/torch/nn/modules/loss.py:610: UserWarning: Using a target size (torch.Size([26, 1])) that is different to the input size (torch.Size([26])). This will likely lead to incorrect results due to broadcasting. Please ensure they have the same size.\n",
      "  return F.mse_loss(input, target, reduction=self.reduction)\n",
      "Epoch 38 Val: 100%|██████████| 94/94 [00:00<00:00, 110.35it/s]\n"
     ]
    },
    {
     "name": "stdout",
     "output_type": "stream",
     "text": [
      "Epoch 38: Val Loss 0.0803, Val R2 = -1.186, Val RMSE = 0.284, Val MSE = 0.080, Val MAE = 0.214\n"
     ]
    },
    {
     "name": "stderr",
     "output_type": "stream",
     "text": [
      "  0%|          | 0/230 [00:00<?, ?it/s]/home/stepan/Private/bearing_rul/lib/python3.10/site-packages/torch/nn/modules/loss.py:610: UserWarning: Using a target size (torch.Size([32, 1])) that is different to the input size (torch.Size([32])). This will likely lead to incorrect results due to broadcasting. Please ensure they have the same size.\n",
      "  return F.mse_loss(input, target, reduction=self.reduction)\n",
      " 99%|█████████▉| 228/230 [00:10<00:00, 21.42it/s]/home/stepan/Private/bearing_rul/lib/python3.10/site-packages/torch/nn/modules/loss.py:610: UserWarning: Using a target size (torch.Size([16, 1])) that is different to the input size (torch.Size([16])). This will likely lead to incorrect results due to broadcasting. Please ensure they have the same size.\n",
      "  return F.mse_loss(input, target, reduction=self.reduction)\n",
      "100%|██████████| 230/230 [00:10<00:00, 21.24it/s]\n"
     ]
    },
    {
     "name": "stdout",
     "output_type": "stream",
     "text": [
      "Epoch 39: Train Loss 0.0258, Train R2 = 0.694, Train RMSE = 0.160, Train MSE = 0.025, Train MAE = 0.124\n"
     ]
    },
    {
     "name": "stderr",
     "output_type": "stream",
     "text": [
      "Epoch 39 Val:   0%|          | 0/94 [00:00<?, ?it/s]/home/stepan/Private/bearing_rul/lib/python3.10/site-packages/torch/nn/modules/loss.py:610: UserWarning: Using a target size (torch.Size([32, 1])) that is different to the input size (torch.Size([32])). This will likely lead to incorrect results due to broadcasting. Please ensure they have the same size.\n",
      "  return F.mse_loss(input, target, reduction=self.reduction)\n",
      "Epoch 39 Val:  88%|████████▊ | 83/94 [00:00<00:00, 111.80it/s]/home/stepan/Private/bearing_rul/lib/python3.10/site-packages/torch/nn/modules/loss.py:610: UserWarning: Using a target size (torch.Size([26, 1])) that is different to the input size (torch.Size([26])). This will likely lead to incorrect results due to broadcasting. Please ensure they have the same size.\n",
      "  return F.mse_loss(input, target, reduction=self.reduction)\n",
      "Epoch 39 Val: 100%|██████████| 94/94 [00:00<00:00, 111.70it/s]\n"
     ]
    },
    {
     "name": "stdout",
     "output_type": "stream",
     "text": [
      "Epoch 39: Val Loss 0.1223, Val R2 = -2.329, Val RMSE = 0.350, Val MSE = 0.122, Val MAE = 0.285\n"
     ]
    },
    {
     "name": "stderr",
     "output_type": "stream",
     "text": [
      "  0%|          | 0/230 [00:00<?, ?it/s]/home/stepan/Private/bearing_rul/lib/python3.10/site-packages/torch/nn/modules/loss.py:610: UserWarning: Using a target size (torch.Size([32, 1])) that is different to the input size (torch.Size([32])). This will likely lead to incorrect results due to broadcasting. Please ensure they have the same size.\n",
      "  return F.mse_loss(input, target, reduction=self.reduction)\n",
      " 99%|█████████▉| 228/230 [00:10<00:00, 21.29it/s]/home/stepan/Private/bearing_rul/lib/python3.10/site-packages/torch/nn/modules/loss.py:610: UserWarning: Using a target size (torch.Size([16, 1])) that is different to the input size (torch.Size([16])). This will likely lead to incorrect results due to broadcasting. Please ensure they have the same size.\n",
      "  return F.mse_loss(input, target, reduction=self.reduction)\n",
      "100%|██████████| 230/230 [00:10<00:00, 21.39it/s]\n"
     ]
    },
    {
     "name": "stdout",
     "output_type": "stream",
     "text": [
      "Epoch 40: Train Loss 0.0361, Train R2 = 0.572, Train RMSE = 0.189, Train MSE = 0.036, Train MAE = 0.158\n"
     ]
    },
    {
     "name": "stderr",
     "output_type": "stream",
     "text": [
      "Epoch 40 Val:   0%|          | 0/94 [00:00<?, ?it/s]/home/stepan/Private/bearing_rul/lib/python3.10/site-packages/torch/nn/modules/loss.py:610: UserWarning: Using a target size (torch.Size([32, 1])) that is different to the input size (torch.Size([32])). This will likely lead to incorrect results due to broadcasting. Please ensure they have the same size.\n",
      "  return F.mse_loss(input, target, reduction=self.reduction)\n",
      "Epoch 40 Val:  87%|████████▋ | 82/94 [00:00<00:00, 109.69it/s]/home/stepan/Private/bearing_rul/lib/python3.10/site-packages/torch/nn/modules/loss.py:610: UserWarning: Using a target size (torch.Size([26, 1])) that is different to the input size (torch.Size([26])). This will likely lead to incorrect results due to broadcasting. Please ensure they have the same size.\n",
      "  return F.mse_loss(input, target, reduction=self.reduction)\n",
      "Epoch 40 Val: 100%|██████████| 94/94 [00:00<00:00, 110.16it/s]\n"
     ]
    },
    {
     "name": "stdout",
     "output_type": "stream",
     "text": [
      "Epoch 40: Val Loss 0.0535, Val R2 = -0.453, Val RMSE = 0.231, Val MSE = 0.053, Val MAE = 0.175\n"
     ]
    },
    {
     "name": "stderr",
     "output_type": "stream",
     "text": [
      "  0%|          | 0/230 [00:00<?, ?it/s]/home/stepan/Private/bearing_rul/lib/python3.10/site-packages/torch/nn/modules/loss.py:610: UserWarning: Using a target size (torch.Size([32, 1])) that is different to the input size (torch.Size([32])). This will likely lead to incorrect results due to broadcasting. Please ensure they have the same size.\n",
      "  return F.mse_loss(input, target, reduction=self.reduction)\n",
      " 99%|█████████▉| 228/230 [00:10<00:00, 21.14it/s]/home/stepan/Private/bearing_rul/lib/python3.10/site-packages/torch/nn/modules/loss.py:610: UserWarning: Using a target size (torch.Size([16, 1])) that is different to the input size (torch.Size([16])). This will likely lead to incorrect results due to broadcasting. Please ensure they have the same size.\n",
      "  return F.mse_loss(input, target, reduction=self.reduction)\n",
      "100%|██████████| 230/230 [00:10<00:00, 21.19it/s]\n"
     ]
    },
    {
     "name": "stdout",
     "output_type": "stream",
     "text": [
      "Epoch 41: Train Loss 0.0282, Train R2 = 0.667, Train RMSE = 0.166, Train MSE = 0.028, Train MAE = 0.135\n"
     ]
    },
    {
     "name": "stderr",
     "output_type": "stream",
     "text": [
      "Epoch 41 Val:   0%|          | 0/94 [00:00<?, ?it/s]/home/stepan/Private/bearing_rul/lib/python3.10/site-packages/torch/nn/modules/loss.py:610: UserWarning: Using a target size (torch.Size([32, 1])) that is different to the input size (torch.Size([32])). This will likely lead to incorrect results due to broadcasting. Please ensure they have the same size.\n",
      "  return F.mse_loss(input, target, reduction=self.reduction)\n",
      "Epoch 41 Val:  88%|████████▊ | 83/94 [00:00<00:00, 111.22it/s]/home/stepan/Private/bearing_rul/lib/python3.10/site-packages/torch/nn/modules/loss.py:610: UserWarning: Using a target size (torch.Size([26, 1])) that is different to the input size (torch.Size([26])). This will likely lead to incorrect results due to broadcasting. Please ensure they have the same size.\n",
      "  return F.mse_loss(input, target, reduction=self.reduction)\n",
      "Epoch 41 Val: 100%|██████████| 94/94 [00:00<00:00, 111.40it/s]\n"
     ]
    },
    {
     "name": "stdout",
     "output_type": "stream",
     "text": [
      "Epoch 41: Val Loss 0.0671, Val R2 = -0.825, Val RMSE = 0.259, Val MSE = 0.067, Val MAE = 0.192\n"
     ]
    },
    {
     "name": "stderr",
     "output_type": "stream",
     "text": [
      "  0%|          | 0/230 [00:00<?, ?it/s]/home/stepan/Private/bearing_rul/lib/python3.10/site-packages/torch/nn/modules/loss.py:610: UserWarning: Using a target size (torch.Size([32, 1])) that is different to the input size (torch.Size([32])). This will likely lead to incorrect results due to broadcasting. Please ensure they have the same size.\n",
      "  return F.mse_loss(input, target, reduction=self.reduction)\n",
      " 99%|█████████▉| 228/230 [00:10<00:00, 21.34it/s]/home/stepan/Private/bearing_rul/lib/python3.10/site-packages/torch/nn/modules/loss.py:610: UserWarning: Using a target size (torch.Size([16, 1])) that is different to the input size (torch.Size([16])). This will likely lead to incorrect results due to broadcasting. Please ensure they have the same size.\n",
      "  return F.mse_loss(input, target, reduction=self.reduction)\n",
      "100%|██████████| 230/230 [00:10<00:00, 21.11it/s]\n"
     ]
    },
    {
     "name": "stdout",
     "output_type": "stream",
     "text": [
      "Epoch 42: Train Loss 0.0258, Train R2 = 0.695, Train RMSE = 0.159, Train MSE = 0.025, Train MAE = 0.127\n"
     ]
    },
    {
     "name": "stderr",
     "output_type": "stream",
     "text": [
      "Epoch 42 Val:   0%|          | 0/94 [00:00<?, ?it/s]/home/stepan/Private/bearing_rul/lib/python3.10/site-packages/torch/nn/modules/loss.py:610: UserWarning: Using a target size (torch.Size([32, 1])) that is different to the input size (torch.Size([32])). This will likely lead to incorrect results due to broadcasting. Please ensure they have the same size.\n",
      "  return F.mse_loss(input, target, reduction=self.reduction)\n",
      "Epoch 42 Val:  88%|████████▊ | 83/94 [00:00<00:00, 113.36it/s]/home/stepan/Private/bearing_rul/lib/python3.10/site-packages/torch/nn/modules/loss.py:610: UserWarning: Using a target size (torch.Size([26, 1])) that is different to the input size (torch.Size([26])). This will likely lead to incorrect results due to broadcasting. Please ensure they have the same size.\n",
      "  return F.mse_loss(input, target, reduction=self.reduction)\n",
      "Epoch 42 Val: 100%|██████████| 94/94 [00:00<00:00, 112.35it/s]\n"
     ]
    },
    {
     "name": "stdout",
     "output_type": "stream",
     "text": [
      "Epoch 42: Val Loss 0.0720, Val R2 = -0.960, Val RMSE = 0.269, Val MSE = 0.072, Val MAE = 0.200\n"
     ]
    },
    {
     "name": "stderr",
     "output_type": "stream",
     "text": [
      "  0%|          | 0/230 [00:00<?, ?it/s]/home/stepan/Private/bearing_rul/lib/python3.10/site-packages/torch/nn/modules/loss.py:610: UserWarning: Using a target size (torch.Size([32, 1])) that is different to the input size (torch.Size([32])). This will likely lead to incorrect results due to broadcasting. Please ensure they have the same size.\n",
      "  return F.mse_loss(input, target, reduction=self.reduction)\n",
      " 99%|█████████▉| 228/230 [00:10<00:00, 21.16it/s]/home/stepan/Private/bearing_rul/lib/python3.10/site-packages/torch/nn/modules/loss.py:610: UserWarning: Using a target size (torch.Size([16, 1])) that is different to the input size (torch.Size([16])). This will likely lead to incorrect results due to broadcasting. Please ensure they have the same size.\n",
      "  return F.mse_loss(input, target, reduction=self.reduction)\n",
      "100%|██████████| 230/230 [00:10<00:00, 21.54it/s]\n"
     ]
    },
    {
     "name": "stdout",
     "output_type": "stream",
     "text": [
      "Epoch 43: Train Loss 0.0240, Train R2 = 0.718, Train RMSE = 0.153, Train MSE = 0.024, Train MAE = 0.121\n"
     ]
    },
    {
     "name": "stderr",
     "output_type": "stream",
     "text": [
      "Epoch 43 Val:   0%|          | 0/94 [00:00<?, ?it/s]/home/stepan/Private/bearing_rul/lib/python3.10/site-packages/torch/nn/modules/loss.py:610: UserWarning: Using a target size (torch.Size([32, 1])) that is different to the input size (torch.Size([32])). This will likely lead to incorrect results due to broadcasting. Please ensure they have the same size.\n",
      "  return F.mse_loss(input, target, reduction=self.reduction)\n",
      "Epoch 43 Val:  98%|█████████▊| 92/94 [00:00<00:00, 108.86it/s]/home/stepan/Private/bearing_rul/lib/python3.10/site-packages/torch/nn/modules/loss.py:610: UserWarning: Using a target size (torch.Size([26, 1])) that is different to the input size (torch.Size([26])). This will likely lead to incorrect results due to broadcasting. Please ensure they have the same size.\n",
      "  return F.mse_loss(input, target, reduction=self.reduction)\n",
      "Epoch 43 Val: 100%|██████████| 94/94 [00:00<00:00, 109.09it/s]\n"
     ]
    },
    {
     "name": "stdout",
     "output_type": "stream",
     "text": [
      "Epoch 43: Val Loss 0.0754, Val R2 = -1.051, Val RMSE = 0.275, Val MSE = 0.075, Val MAE = 0.206\n"
     ]
    },
    {
     "name": "stderr",
     "output_type": "stream",
     "text": [
      "  0%|          | 0/230 [00:00<?, ?it/s]/home/stepan/Private/bearing_rul/lib/python3.10/site-packages/torch/nn/modules/loss.py:610: UserWarning: Using a target size (torch.Size([32, 1])) that is different to the input size (torch.Size([32])). This will likely lead to incorrect results due to broadcasting. Please ensure they have the same size.\n",
      "  return F.mse_loss(input, target, reduction=self.reduction)\n",
      " 99%|█████████▉| 228/230 [00:10<00:00, 20.97it/s]/home/stepan/Private/bearing_rul/lib/python3.10/site-packages/torch/nn/modules/loss.py:610: UserWarning: Using a target size (torch.Size([16, 1])) that is different to the input size (torch.Size([16])). This will likely lead to incorrect results due to broadcasting. Please ensure they have the same size.\n",
      "  return F.mse_loss(input, target, reduction=self.reduction)\n",
      "100%|██████████| 230/230 [00:10<00:00, 21.46it/s]\n"
     ]
    },
    {
     "name": "stdout",
     "output_type": "stream",
     "text": [
      "Epoch 44: Train Loss 0.0222, Train R2 = 0.737, Train RMSE = 0.148, Train MSE = 0.022, Train MAE = 0.117\n"
     ]
    },
    {
     "name": "stderr",
     "output_type": "stream",
     "text": [
      "Epoch 44 Val:   0%|          | 0/94 [00:00<?, ?it/s]/home/stepan/Private/bearing_rul/lib/python3.10/site-packages/torch/nn/modules/loss.py:610: UserWarning: Using a target size (torch.Size([32, 1])) that is different to the input size (torch.Size([32])). This will likely lead to incorrect results due to broadcasting. Please ensure they have the same size.\n",
      "  return F.mse_loss(input, target, reduction=self.reduction)\n",
      "Epoch 44 Val:  99%|█████████▉| 93/94 [00:00<00:00, 109.64it/s]/home/stepan/Private/bearing_rul/lib/python3.10/site-packages/torch/nn/modules/loss.py:610: UserWarning: Using a target size (torch.Size([26, 1])) that is different to the input size (torch.Size([26])). This will likely lead to incorrect results due to broadcasting. Please ensure they have the same size.\n",
      "  return F.mse_loss(input, target, reduction=self.reduction)\n",
      "Epoch 44 Val: 100%|██████████| 94/94 [00:00<00:00, 108.64it/s]\n"
     ]
    },
    {
     "name": "stdout",
     "output_type": "stream",
     "text": [
      "Epoch 44: Val Loss 0.0793, Val R2 = -1.158, Val RMSE = 0.282, Val MSE = 0.079, Val MAE = 0.213\n"
     ]
    },
    {
     "name": "stderr",
     "output_type": "stream",
     "text": [
      "  0%|          | 0/230 [00:00<?, ?it/s]/home/stepan/Private/bearing_rul/lib/python3.10/site-packages/torch/nn/modules/loss.py:610: UserWarning: Using a target size (torch.Size([32, 1])) that is different to the input size (torch.Size([32])). This will likely lead to incorrect results due to broadcasting. Please ensure they have the same size.\n",
      "  return F.mse_loss(input, target, reduction=self.reduction)\n",
      " 99%|█████████▉| 228/230 [00:10<00:00, 21.65it/s]/home/stepan/Private/bearing_rul/lib/python3.10/site-packages/torch/nn/modules/loss.py:610: UserWarning: Using a target size (torch.Size([16, 1])) that is different to the input size (torch.Size([16])). This will likely lead to incorrect results due to broadcasting. Please ensure they have the same size.\n",
      "  return F.mse_loss(input, target, reduction=self.reduction)\n",
      "100%|██████████| 230/230 [00:10<00:00, 21.20it/s]\n"
     ]
    },
    {
     "name": "stdout",
     "output_type": "stream",
     "text": [
      "Epoch 45: Train Loss 0.0212, Train R2 = 0.751, Train RMSE = 0.144, Train MSE = 0.021, Train MAE = 0.114\n"
     ]
    },
    {
     "name": "stderr",
     "output_type": "stream",
     "text": [
      "Epoch 45 Val:   0%|          | 0/94 [00:00<?, ?it/s]/home/stepan/Private/bearing_rul/lib/python3.10/site-packages/torch/nn/modules/loss.py:610: UserWarning: Using a target size (torch.Size([32, 1])) that is different to the input size (torch.Size([32])). This will likely lead to incorrect results due to broadcasting. Please ensure they have the same size.\n",
      "  return F.mse_loss(input, target, reduction=self.reduction)\n",
      "Epoch 45 Val:  88%|████████▊ | 83/94 [00:00<00:00, 113.03it/s]/home/stepan/Private/bearing_rul/lib/python3.10/site-packages/torch/nn/modules/loss.py:610: UserWarning: Using a target size (torch.Size([26, 1])) that is different to the input size (torch.Size([26])). This will likely lead to incorrect results due to broadcasting. Please ensure they have the same size.\n",
      "  return F.mse_loss(input, target, reduction=self.reduction)\n",
      "Epoch 45 Val: 100%|██████████| 94/94 [00:00<00:00, 111.45it/s]\n"
     ]
    },
    {
     "name": "stdout",
     "output_type": "stream",
     "text": [
      "Epoch 45: Val Loss 0.0845, Val R2 = -1.298, Val RMSE = 0.291, Val MSE = 0.085, Val MAE = 0.222\n"
     ]
    },
    {
     "name": "stderr",
     "output_type": "stream",
     "text": [
      "  0%|          | 0/230 [00:00<?, ?it/s]/home/stepan/Private/bearing_rul/lib/python3.10/site-packages/torch/nn/modules/loss.py:610: UserWarning: Using a target size (torch.Size([32, 1])) that is different to the input size (torch.Size([32])). This will likely lead to incorrect results due to broadcasting. Please ensure they have the same size.\n",
      "  return F.mse_loss(input, target, reduction=self.reduction)\n",
      " 99%|█████████▉| 228/230 [00:10<00:00, 21.80it/s]/home/stepan/Private/bearing_rul/lib/python3.10/site-packages/torch/nn/modules/loss.py:610: UserWarning: Using a target size (torch.Size([16, 1])) that is different to the input size (torch.Size([16])). This will likely lead to incorrect results due to broadcasting. Please ensure they have the same size.\n",
      "  return F.mse_loss(input, target, reduction=self.reduction)\n",
      "100%|██████████| 230/230 [00:10<00:00, 21.07it/s]\n"
     ]
    },
    {
     "name": "stdout",
     "output_type": "stream",
     "text": [
      "Epoch 46: Train Loss 0.0201, Train R2 = 0.762, Train RMSE = 0.141, Train MSE = 0.020, Train MAE = 0.111\n"
     ]
    },
    {
     "name": "stderr",
     "output_type": "stream",
     "text": [
      "Epoch 46 Val:   0%|          | 0/94 [00:00<?, ?it/s]/home/stepan/Private/bearing_rul/lib/python3.10/site-packages/torch/nn/modules/loss.py:610: UserWarning: Using a target size (torch.Size([32, 1])) that is different to the input size (torch.Size([32])). This will likely lead to incorrect results due to broadcasting. Please ensure they have the same size.\n",
      "  return F.mse_loss(input, target, reduction=self.reduction)\n",
      "Epoch 46 Val:  87%|████████▋ | 82/94 [00:00<00:00, 109.61it/s]/home/stepan/Private/bearing_rul/lib/python3.10/site-packages/torch/nn/modules/loss.py:610: UserWarning: Using a target size (torch.Size([26, 1])) that is different to the input size (torch.Size([26])). This will likely lead to incorrect results due to broadcasting. Please ensure they have the same size.\n",
      "  return F.mse_loss(input, target, reduction=self.reduction)\n",
      "Epoch 46 Val: 100%|██████████| 94/94 [00:00<00:00, 109.82it/s]\n"
     ]
    },
    {
     "name": "stdout",
     "output_type": "stream",
     "text": [
      "Epoch 46: Val Loss 0.0884, Val R2 = -1.407, Val RMSE = 0.298, Val MSE = 0.089, Val MAE = 0.228\n"
     ]
    },
    {
     "name": "stderr",
     "output_type": "stream",
     "text": [
      "  0%|          | 0/230 [00:00<?, ?it/s]/home/stepan/Private/bearing_rul/lib/python3.10/site-packages/torch/nn/modules/loss.py:610: UserWarning: Using a target size (torch.Size([32, 1])) that is different to the input size (torch.Size([32])). This will likely lead to incorrect results due to broadcasting. Please ensure they have the same size.\n",
      "  return F.mse_loss(input, target, reduction=self.reduction)\n",
      " 99%|█████████▉| 228/230 [00:10<00:00, 21.38it/s]/home/stepan/Private/bearing_rul/lib/python3.10/site-packages/torch/nn/modules/loss.py:610: UserWarning: Using a target size (torch.Size([16, 1])) that is different to the input size (torch.Size([16])). This will likely lead to incorrect results due to broadcasting. Please ensure they have the same size.\n",
      "  return F.mse_loss(input, target, reduction=self.reduction)\n",
      "100%|██████████| 230/230 [00:10<00:00, 21.03it/s]\n"
     ]
    },
    {
     "name": "stdout",
     "output_type": "stream",
     "text": [
      "Epoch 47: Train Loss 0.0185, Train R2 = 0.782, Train RMSE = 0.135, Train MSE = 0.018, Train MAE = 0.106\n"
     ]
    },
    {
     "name": "stderr",
     "output_type": "stream",
     "text": [
      "Epoch 47 Val:   0%|          | 0/94 [00:00<?, ?it/s]/home/stepan/Private/bearing_rul/lib/python3.10/site-packages/torch/nn/modules/loss.py:610: UserWarning: Using a target size (torch.Size([32, 1])) that is different to the input size (torch.Size([32])). This will likely lead to incorrect results due to broadcasting. Please ensure they have the same size.\n",
      "  return F.mse_loss(input, target, reduction=self.reduction)\n",
      "Epoch 47 Val:  87%|████████▋ | 82/94 [00:00<00:00, 110.97it/s]/home/stepan/Private/bearing_rul/lib/python3.10/site-packages/torch/nn/modules/loss.py:610: UserWarning: Using a target size (torch.Size([26, 1])) that is different to the input size (torch.Size([26])). This will likely lead to incorrect results due to broadcasting. Please ensure they have the same size.\n",
      "  return F.mse_loss(input, target, reduction=self.reduction)\n",
      "Epoch 47 Val: 100%|██████████| 94/94 [00:00<00:00, 111.12it/s]\n"
     ]
    },
    {
     "name": "stdout",
     "output_type": "stream",
     "text": [
      "Epoch 47: Val Loss 0.0957, Val R2 = -1.605, Val RMSE = 0.310, Val MSE = 0.096, Val MAE = 0.239\n"
     ]
    },
    {
     "name": "stderr",
     "output_type": "stream",
     "text": [
      "  0%|          | 0/230 [00:00<?, ?it/s]/home/stepan/Private/bearing_rul/lib/python3.10/site-packages/torch/nn/modules/loss.py:610: UserWarning: Using a target size (torch.Size([32, 1])) that is different to the input size (torch.Size([32])). This will likely lead to incorrect results due to broadcasting. Please ensure they have the same size.\n",
      "  return F.mse_loss(input, target, reduction=self.reduction)\n",
      " 99%|█████████▉| 228/230 [00:10<00:00, 20.95it/s]/home/stepan/Private/bearing_rul/lib/python3.10/site-packages/torch/nn/modules/loss.py:610: UserWarning: Using a target size (torch.Size([16, 1])) that is different to the input size (torch.Size([16])). This will likely lead to incorrect results due to broadcasting. Please ensure they have the same size.\n",
      "  return F.mse_loss(input, target, reduction=self.reduction)\n",
      "100%|██████████| 230/230 [00:10<00:00, 21.09it/s]\n"
     ]
    },
    {
     "name": "stdout",
     "output_type": "stream",
     "text": [
      "Epoch 48: Train Loss 0.0185, Train R2 = 0.782, Train RMSE = 0.135, Train MSE = 0.018, Train MAE = 0.106\n"
     ]
    },
    {
     "name": "stderr",
     "output_type": "stream",
     "text": [
      "Epoch 48 Val:   0%|          | 0/94 [00:00<?, ?it/s]/home/stepan/Private/bearing_rul/lib/python3.10/site-packages/torch/nn/modules/loss.py:610: UserWarning: Using a target size (torch.Size([32, 1])) that is different to the input size (torch.Size([32])). This will likely lead to incorrect results due to broadcasting. Please ensure they have the same size.\n",
      "  return F.mse_loss(input, target, reduction=self.reduction)\n",
      "Epoch 48 Val:  94%|█████████▎| 88/94 [00:00<00:00, 108.73it/s]/home/stepan/Private/bearing_rul/lib/python3.10/site-packages/torch/nn/modules/loss.py:610: UserWarning: Using a target size (torch.Size([26, 1])) that is different to the input size (torch.Size([26])). This will likely lead to incorrect results due to broadcasting. Please ensure they have the same size.\n",
      "  return F.mse_loss(input, target, reduction=self.reduction)\n",
      "Epoch 48 Val: 100%|██████████| 94/94 [00:00<00:00, 108.47it/s]\n"
     ]
    },
    {
     "name": "stdout",
     "output_type": "stream",
     "text": [
      "Epoch 48: Val Loss 0.0912, Val R2 = -1.481, Val RMSE = 0.302, Val MSE = 0.091, Val MAE = 0.232\n"
     ]
    },
    {
     "name": "stderr",
     "output_type": "stream",
     "text": [
      "  0%|          | 0/230 [00:00<?, ?it/s]/home/stepan/Private/bearing_rul/lib/python3.10/site-packages/torch/nn/modules/loss.py:610: UserWarning: Using a target size (torch.Size([32, 1])) that is different to the input size (torch.Size([32])). This will likely lead to incorrect results due to broadcasting. Please ensure they have the same size.\n",
      "  return F.mse_loss(input, target, reduction=self.reduction)\n",
      " 99%|█████████▉| 228/230 [00:10<00:00, 21.63it/s]/home/stepan/Private/bearing_rul/lib/python3.10/site-packages/torch/nn/modules/loss.py:610: UserWarning: Using a target size (torch.Size([16, 1])) that is different to the input size (torch.Size([16])). This will likely lead to incorrect results due to broadcasting. Please ensure they have the same size.\n",
      "  return F.mse_loss(input, target, reduction=self.reduction)\n",
      "100%|██████████| 230/230 [00:10<00:00, 20.96it/s]\n"
     ]
    },
    {
     "name": "stdout",
     "output_type": "stream",
     "text": [
      "Epoch 49: Train Loss 0.0178, Train R2 = 0.790, Train RMSE = 0.132, Train MSE = 0.017, Train MAE = 0.103\n"
     ]
    },
    {
     "name": "stderr",
     "output_type": "stream",
     "text": [
      "Epoch 49 Val:   0%|          | 0/94 [00:00<?, ?it/s]/home/stepan/Private/bearing_rul/lib/python3.10/site-packages/torch/nn/modules/loss.py:610: UserWarning: Using a target size (torch.Size([32, 1])) that is different to the input size (torch.Size([32])). This will likely lead to incorrect results due to broadcasting. Please ensure they have the same size.\n",
      "  return F.mse_loss(input, target, reduction=self.reduction)\n",
      "Epoch 49 Val:  88%|████████▊ | 83/94 [00:00<00:00, 112.98it/s]/home/stepan/Private/bearing_rul/lib/python3.10/site-packages/torch/nn/modules/loss.py:610: UserWarning: Using a target size (torch.Size([26, 1])) that is different to the input size (torch.Size([26])). This will likely lead to incorrect results due to broadcasting. Please ensure they have the same size.\n",
      "  return F.mse_loss(input, target, reduction=self.reduction)\n",
      "Epoch 49 Val: 100%|██████████| 94/94 [00:00<00:00, 112.77it/s]\n"
     ]
    },
    {
     "name": "stdout",
     "output_type": "stream",
     "text": [
      "Epoch 49: Val Loss 0.0892, Val R2 = -1.427, Val RMSE = 0.299, Val MSE = 0.089, Val MAE = 0.229\n"
     ]
    },
    {
     "name": "stderr",
     "output_type": "stream",
     "text": [
      "  0%|          | 0/230 [00:00<?, ?it/s]/home/stepan/Private/bearing_rul/lib/python3.10/site-packages/torch/nn/modules/loss.py:610: UserWarning: Using a target size (torch.Size([32, 1])) that is different to the input size (torch.Size([32])). This will likely lead to incorrect results due to broadcasting. Please ensure they have the same size.\n",
      "  return F.mse_loss(input, target, reduction=self.reduction)\n",
      " 99%|█████████▉| 228/230 [00:10<00:00, 20.78it/s]/home/stepan/Private/bearing_rul/lib/python3.10/site-packages/torch/nn/modules/loss.py:610: UserWarning: Using a target size (torch.Size([16, 1])) that is different to the input size (torch.Size([16])). This will likely lead to incorrect results due to broadcasting. Please ensure they have the same size.\n",
      "  return F.mse_loss(input, target, reduction=self.reduction)\n",
      "100%|██████████| 230/230 [00:11<00:00, 20.85it/s]\n"
     ]
    },
    {
     "name": "stdout",
     "output_type": "stream",
     "text": [
      "Epoch 50: Train Loss 0.0181, Train R2 = 0.787, Train RMSE = 0.133, Train MSE = 0.018, Train MAE = 0.105\n"
     ]
    },
    {
     "name": "stderr",
     "output_type": "stream",
     "text": [
      "Epoch 50 Val:   0%|          | 0/94 [00:00<?, ?it/s]/home/stepan/Private/bearing_rul/lib/python3.10/site-packages/torch/nn/modules/loss.py:610: UserWarning: Using a target size (torch.Size([32, 1])) that is different to the input size (torch.Size([32])). This will likely lead to incorrect results due to broadcasting. Please ensure they have the same size.\n",
      "  return F.mse_loss(input, target, reduction=self.reduction)\n",
      "Epoch 50 Val:  96%|█████████▌| 90/94 [00:00<00:00, 107.96it/s]/home/stepan/Private/bearing_rul/lib/python3.10/site-packages/torch/nn/modules/loss.py:610: UserWarning: Using a target size (torch.Size([26, 1])) that is different to the input size (torch.Size([26])). This will likely lead to incorrect results due to broadcasting. Please ensure they have the same size.\n",
      "  return F.mse_loss(input, target, reduction=self.reduction)\n",
      "Epoch 50 Val: 100%|██████████| 94/94 [00:00<00:00, 108.36it/s]"
     ]
    },
    {
     "name": "stdout",
     "output_type": "stream",
     "text": [
      "Epoch 50: Val Loss 0.0883, Val R2 = -1.402, Val RMSE = 0.297, Val MSE = 0.088, Val MAE = 0.227\n"
     ]
    },
    {
     "name": "stderr",
     "output_type": "stream",
     "text": [
      "\n"
     ]
    },
    {
     "data": {
      "text/plain": [
       "{'train_loss': [0.05504631927824053,\n",
       "  0.056470242554180164,\n",
       "  0.057651074528795386,\n",
       "  0.06554354746502054,\n",
       "  0.07440398192721541,\n",
       "  0.08081711242987734,\n",
       "  0.07870544846898511,\n",
       "  0.07702238506070622,\n",
       "  0.07631398517051306,\n",
       "  0.07938956983245747,\n",
       "  0.0823467567998349,\n",
       "  0.07992953717576988,\n",
       "  0.08507364419815333,\n",
       "  0.08245110994953986,\n",
       "  0.08052719628549708,\n",
       "  0.08355690990928966,\n",
       "  0.09060222824944346,\n",
       "  0.0898493250249885,\n",
       "  0.08785375749145675,\n",
       "  0.08443397440714762,\n",
       "  0.08811269455093323,\n",
       "  0.1026065359432402,\n",
       "  0.09011334426588449,\n",
       "  0.08780332612147068,\n",
       "  0.08677016302890084,\n",
       "  0.08608355710622044,\n",
       "  0.0855325797991574,\n",
       "  0.08546869059272981,\n",
       "  0.08473295295160548,\n",
       "  0.08415351751989321,\n",
       "  0.08231529472497008,\n",
       "  0.08073499898322473,\n",
       "  0.07332810881628614,\n",
       "  0.07368010435906319,\n",
       "  0.07078242573391079,\n",
       "  0.05006027095596832,\n",
       "  0.037278586602769795,\n",
       "  0.03194925547678672,\n",
       "  0.02581274573508974,\n",
       "  0.036134544793394924,\n",
       "  0.028180737221492048,\n",
       "  0.025827204380386874,\n",
       "  0.02395377155423731,\n",
       "  0.022180913486922887,\n",
       "  0.02117273896406202,\n",
       "  0.020149408480273964,\n",
       "  0.01854281284056766,\n",
       "  0.018517962884684297,\n",
       "  0.017833727021175236,\n",
       "  0.01812766011622127],\n",
       " 'train_r2': [0.3377383066495412,\n",
       "  0.3211840153377282,\n",
       "  0.30695543965054206,\n",
       "  0.21192200808596606,\n",
       "  0.10629563773272,\n",
       "  0.029762416807802783,\n",
       "  0.056167737924729844,\n",
       "  0.0772316690953817,\n",
       "  0.08469148408689109,\n",
       "  0.04805115953149974,\n",
       "  0.012904241252610693,\n",
       "  0.041894747506945995,\n",
       "  -0.02031532044786144,\n",
       "  0.011232476870175812,\n",
       "  0.037011831348688795,\n",
       "  -0.0013369993582419415,\n",
       "  -0.08770066202253202,\n",
       "  -0.07617543216538536,\n",
       "  -0.05354673977281599,\n",
       "  -0.012645795997079379,\n",
       "  -0.05784505410816321,\n",
       "  -0.23072365980999288,\n",
       "  -0.07966804780690007,\n",
       "  -0.05160514240738023,\n",
       "  -0.03846003792334152,\n",
       "  -0.030620749080888965,\n",
       "  -0.023731727423828675,\n",
       "  -0.022938798708952657,\n",
       "  -0.01412070594506254,\n",
       "  -0.007141973040347249,\n",
       "  0.01465099731253483,\n",
       "  0.032916986859091724,\n",
       "  0.12212917275935875,\n",
       "  0.11794590193532695,\n",
       "  0.15176603783921827,\n",
       "  0.40265263399510387,\n",
       "  0.5571707543719592,\n",
       "  0.6206367560646748,\n",
       "  0.694227730482248,\n",
       "  0.5719879676326757,\n",
       "  0.6672146063619094,\n",
       "  0.6953048128479212,\n",
       "  0.7175124568045993,\n",
       "  0.7371715793452677,\n",
       "  0.7505006600924057,\n",
       "  0.762230442009669,\n",
       "  0.7819281436405849,\n",
       "  0.7818598728598317,\n",
       "  0.7904143895172177,\n",
       "  0.7866007208744643],\n",
       " 'train_mae': [0.13631897,\n",
       "  0.1334832,\n",
       "  0.14175166,\n",
       "  0.15849777,\n",
       "  0.17603126,\n",
       "  0.19716802,\n",
       "  0.19774826,\n",
       "  0.20211053,\n",
       "  0.20321162,\n",
       "  0.21761829,\n",
       "  0.22153918,\n",
       "  0.22251873,\n",
       "  0.23704359,\n",
       "  0.22823289,\n",
       "  0.22679,\n",
       "  0.24712455,\n",
       "  0.24948409,\n",
       "  0.24724258,\n",
       "  0.2514132,\n",
       "  0.24383767,\n",
       "  0.24506499,\n",
       "  0.27021155,\n",
       "  0.25759906,\n",
       "  0.2550422,\n",
       "  0.25391695,\n",
       "  0.2530547,\n",
       "  0.2523154,\n",
       "  0.25218314,\n",
       "  0.25125927,\n",
       "  0.25072262,\n",
       "  0.24763432,\n",
       "  0.24344753,\n",
       "  0.23021437,\n",
       "  0.22623427,\n",
       "  0.21722971,\n",
       "  0.16916183,\n",
       "  0.14605686,\n",
       "  0.136837,\n",
       "  0.12351586,\n",
       "  0.15799688,\n",
       "  0.13504824,\n",
       "  0.127478,\n",
       "  0.12146465,\n",
       "  0.11678015,\n",
       "  0.11372066,\n",
       "  0.11086081,\n",
       "  0.1056861,\n",
       "  0.10593063,\n",
       "  0.10294372,\n",
       "  0.104842424],\n",
       " 'train_mse': [0.055134423,\n",
       "  0.056512594,\n",
       "  0.057697155,\n",
       "  0.06560885,\n",
       "  0.07440243,\n",
       "  0.08077394,\n",
       "  0.078575656,\n",
       "  0.07682205,\n",
       "  0.076201014,\n",
       "  0.07925137,\n",
       "  0.08217742,\n",
       "  0.079763904,\n",
       "  0.084943004,\n",
       "  0.08231659,\n",
       "  0.08017042,\n",
       "  0.08336303,\n",
       "  0.09055294,\n",
       "  0.08959346,\n",
       "  0.08770958,\n",
       "  0.084304504,\n",
       "  0.08806741,\n",
       "  0.10245986,\n",
       "  0.089884214,\n",
       "  0.087547936,\n",
       "  0.08645358,\n",
       "  0.08580095,\n",
       "  0.085227415,\n",
       "  0.08516141,\n",
       "  0.0844273,\n",
       "  0.0838463,\n",
       "  0.082031995,\n",
       "  0.080511324,\n",
       "  0.07308426,\n",
       "  0.07343252,\n",
       "  0.07061693,\n",
       "  0.049730197,\n",
       "  0.036866292,\n",
       "  0.031582642,\n",
       "  0.025456069,\n",
       "  0.035632737,\n",
       "  0.027704958,\n",
       "  0.0253664,\n",
       "  0.023517575,\n",
       "  0.021880917,\n",
       "  0.020771246,\n",
       "  0.019794723,\n",
       "  0.018154858,\n",
       "  0.018160539,\n",
       "  0.017448364,\n",
       "  0.017765855],\n",
       " 'train_rmse': [0.23480721,\n",
       "  0.23772378,\n",
       "  0.24020232,\n",
       "  0.25614226,\n",
       "  0.27276808,\n",
       "  0.28420758,\n",
       "  0.2803135,\n",
       "  0.27716792,\n",
       "  0.27604532,\n",
       "  0.2815162,\n",
       "  0.28666604,\n",
       "  0.28242505,\n",
       "  0.29144984,\n",
       "  0.2869087,\n",
       "  0.28314382,\n",
       "  0.28872657,\n",
       "  0.30092016,\n",
       "  0.29932168,\n",
       "  0.29615805,\n",
       "  0.29035237,\n",
       "  0.29676154,\n",
       "  0.3200935,\n",
       "  0.29980695,\n",
       "  0.295885,\n",
       "  0.2940299,\n",
       "  0.292918,\n",
       "  0.29193735,\n",
       "  0.29182428,\n",
       "  0.29056376,\n",
       "  0.28956226,\n",
       "  0.28641227,\n",
       "  0.28374517,\n",
       "  0.270341,\n",
       "  0.27098435,\n",
       "  0.26573846,\n",
       "  0.22300269,\n",
       "  0.19200598,\n",
       "  0.17771506,\n",
       "  0.15954958,\n",
       "  0.18876636,\n",
       "  0.16644806,\n",
       "  0.15926832,\n",
       "  0.1533544,\n",
       "  0.147922,\n",
       "  0.14412233,\n",
       "  0.14069372,\n",
       "  0.13473997,\n",
       "  0.13476105,\n",
       "  0.13209225,\n",
       "  0.13328862],\n",
       " 'val_loss': [0.5933445994841292,\n",
       "  0.4611617070721819,\n",
       "  0.4711145975012728,\n",
       "  0.4561443998617061,\n",
       "  0.20466377312674167,\n",
       "  0.17572601859091205,\n",
       "  0.13040700905688202,\n",
       "  0.12427768701341034,\n",
       "  0.11286672892340884,\n",
       "  0.11767803179088546,\n",
       "  0.10895201880174817,\n",
       "  0.11354630774641261,\n",
       "  0.10928527895503841,\n",
       "  0.11255358693936982,\n",
       "  0.09540857773355767,\n",
       "  0.10913776647367605,\n",
       "  0.11094370178877998,\n",
       "  0.10494764177862267,\n",
       "  0.10196315295279225,\n",
       "  0.1617396310599709,\n",
       "  0.20211185985046656,\n",
       "  0.0997151926302688,\n",
       "  0.08572345829883914,\n",
       "  0.07813184457046056,\n",
       "  0.0732640599544345,\n",
       "  0.07055823952324569,\n",
       "  0.06814012288059336,\n",
       "  0.06619385023159725,\n",
       "  0.06479315189821175,\n",
       "  0.06402152179187862,\n",
       "  0.06529073094184532,\n",
       "  0.06163877588078128,\n",
       "  0.0547931934386415,\n",
       "  0.08235641532054944,\n",
       "  0.06310784803482672,\n",
       "  0.06542656338252585,\n",
       "  0.18212655809351264,\n",
       "  0.08030833100820793,\n",
       "  0.12225311660911253,\n",
       "  0.053450410306315,\n",
       "  0.06708950810679333,\n",
       "  0.07203034904384192,\n",
       "  0.0753660462672842,\n",
       "  0.07932019616883407,\n",
       "  0.08445610180546707,\n",
       "  0.08844040521727677,\n",
       "  0.09569221304016227,\n",
       "  0.0911610949700302,\n",
       "  0.08918998274763927,\n",
       "  0.0882681806180428],\n",
       " 'val_r2': [-15.149458087483648,\n",
       "  -11.553384113263755,\n",
       "  -11.824613877873835,\n",
       "  -11.416915707796326,\n",
       "  -4.573049782490993,\n",
       "  -3.7853135674786884,\n",
       "  -2.551227052655488,\n",
       "  -2.384282735420891,\n",
       "  -2.0734368837583323,\n",
       "  -2.204514502532896,\n",
       "  -1.9667988936440608,\n",
       "  -2.0919577115088734,\n",
       "  -1.975871786218534,\n",
       "  -2.064887628782897,\n",
       "  -1.5977338502646168,\n",
       "  -1.9718379510271484,\n",
       "  -2.021047386402129,\n",
       "  -1.8576771654452315,\n",
       "  -1.7763320040973185,\n",
       "  -3.4044703003794696,\n",
       "  -4.503637731411358,\n",
       "  -1.7151015092969173,\n",
       "  -1.3337763014057025,\n",
       "  -1.1268161394834002,\n",
       "  -0.99408117557622,\n",
       "  -0.9202835642071474,\n",
       "  -0.8543311546374179,\n",
       "  -0.801249701275405,\n",
       "  -0.7630484089798031,\n",
       "  -0.7419990326335129,\n",
       "  -0.7766535279535023,\n",
       "  -0.6770289364825133,\n",
       "  -0.4903486565087798,\n",
       "  -1.2416674362839513,\n",
       "  -0.7166531472176405,\n",
       "  -0.7791724170300298,\n",
       "  -3.959755698032758,\n",
       "  -1.186010062509161,\n",
       "  -2.3290688483524,\n",
       "  -0.4529606124666383,\n",
       "  -0.8249839780945731,\n",
       "  -0.9596633797841319,\n",
       "  -1.050607039697736,\n",
       "  -1.1583971045528716,\n",
       "  -1.2984278621887824,\n",
       "  -1.406976076534578,\n",
       "  -1.6047130109355248,\n",
       "  -1.4811872730417024,\n",
       "  -1.4274476036026482,\n",
       "  -1.402314199905033],\n",
       " 'val_mae': [0.74497014,\n",
       "  0.6507683,\n",
       "  0.6565451,\n",
       "  0.6465657,\n",
       "  0.41044155,\n",
       "  0.37304634,\n",
       "  0.30746412,\n",
       "  0.29817876,\n",
       "  0.28085667,\n",
       "  0.28756675,\n",
       "  0.2752784,\n",
       "  0.2818412,\n",
       "  0.2754248,\n",
       "  0.28059322,\n",
       "  0.25463352,\n",
       "  0.27531075,\n",
       "  0.27805775,\n",
       "  0.26909578,\n",
       "  0.2646798,\n",
       "  0.35397512,\n",
       "  0.4068037,\n",
       "  0.26125702,\n",
       "  0.24007119,\n",
       "  0.22857927,\n",
       "  0.22120297,\n",
       "  0.2171347,\n",
       "  0.21348238,\n",
       "  0.21051635,\n",
       "  0.20836036,\n",
       "  0.20722927,\n",
       "  0.20923989,\n",
       "  0.20382114,\n",
       "  0.19238219,\n",
       "  0.24218458,\n",
       "  0.21026774,\n",
       "  0.21483074,\n",
       "  0.34254572,\n",
       "  0.21404359,\n",
       "  0.2847256,\n",
       "  0.17467351,\n",
       "  0.19171533,\n",
       "  0.20035426,\n",
       "  0.20627083,\n",
       "  0.21299684,\n",
       "  0.22203395,\n",
       "  0.22828712,\n",
       "  0.23904149,\n",
       "  0.23170698,\n",
       "  0.2286229,\n",
       "  0.22719203],\n",
       " 'val_mse': [0.5942156,\n",
       "  0.46189886,\n",
       "  0.47187874,\n",
       "  0.45687753,\n",
       "  0.20505908,\n",
       "  0.1760745,\n",
       "  0.13066657,\n",
       "  0.1245239,\n",
       "  0.1130864,\n",
       "  0.11790937,\n",
       "  0.109162666,\n",
       "  0.11376786,\n",
       "  0.10949651,\n",
       "  0.11277183,\n",
       "  0.095583014,\n",
       "  0.10934809,\n",
       "  0.111158736,\n",
       "  0.10514756,\n",
       "  0.10215449,\n",
       "  0.16206147,\n",
       "  0.2025051,\n",
       "  0.09990154,\n",
       "  0.085870765,\n",
       "  0.078255706,\n",
       "  0.07337175,\n",
       "  0.07065639,\n",
       "  0.06822969,\n",
       "  0.066276565,\n",
       "  0.06487096,\n",
       "  0.06409646,\n",
       "  0.06537156,\n",
       "  0.061705887,\n",
       "  0.054837033,\n",
       "  0.08248163,\n",
       "  0.063163854,\n",
       "  0.065464236,\n",
       "  0.18249306,\n",
       "  0.08043374,\n",
       "  0.12249231,\n",
       "  0.053461347,\n",
       "  0.06714986,\n",
       "  0.07210536,\n",
       "  0.07545162,\n",
       "  0.07941773,\n",
       "  0.08457012,\n",
       "  0.08856413,\n",
       "  0.09583981,\n",
       "  0.091294706,\n",
       "  0.08931737,\n",
       "  0.0883926],\n",
       " 'val_rmse': [0.7708538,\n",
       "  0.6796314,\n",
       "  0.6869343,\n",
       "  0.67592716,\n",
       "  0.4528345,\n",
       "  0.41961232,\n",
       "  0.3614783,\n",
       "  0.35287943,\n",
       "  0.3362832,\n",
       "  0.34337935,\n",
       "  0.33039773,\n",
       "  0.3372949,\n",
       "  0.33090258,\n",
       "  0.33581516,\n",
       "  0.30916503,\n",
       "  0.33067822,\n",
       "  0.33340475,\n",
       "  0.32426465,\n",
       "  0.31961617,\n",
       "  0.40256858,\n",
       "  0.45000565,\n",
       "  0.31607205,\n",
       "  0.29303715,\n",
       "  0.2797422,\n",
       "  0.2708722,\n",
       "  0.2658127,\n",
       "  0.26120815,\n",
       "  0.25744236,\n",
       "  0.25469777,\n",
       "  0.25317279,\n",
       "  0.25567862,\n",
       "  0.2484067,\n",
       "  0.23417309,\n",
       "  0.28719616,\n",
       "  0.2513242,\n",
       "  0.2558598,\n",
       "  0.42719206,\n",
       "  0.28360844,\n",
       "  0.34998903,\n",
       "  0.2312171,\n",
       "  0.2591329,\n",
       "  0.2685244,\n",
       "  0.27468458,\n",
       "  0.2818115,\n",
       "  0.29080942,\n",
       "  0.29759726,\n",
       "  0.30958006,\n",
       "  0.30215013,\n",
       "  0.2988601,\n",
       "  0.29730892]}"
      ]
     },
     "execution_count": 227,
     "metadata": {},
     "output_type": "execute_result"
    }
   ],
   "source": [
    "train_results = train(model, train_loader, val_loader, optimizer, criterion, device, 50)\n",
    "\n",
    "train_results"
   ]
  },
  {
   "cell_type": "code",
   "execution_count": 228,
   "id": "a2b068a5",
   "metadata": {},
   "outputs": [],
   "source": [
    "def plot_training_history(loss_history, metric_history=None):\n",
    "    plt.figure(figsize=(12, 5))\n",
    "\n",
    "    # Loss plot\n",
    "    plt.subplot(1, 2, 1)\n",
    "    plt.plot(loss_history, label='Training Loss')\n",
    "    plt.title('Training Loss Curve')\n",
    "    plt.xlabel('Epoch')\n",
    "    plt.ylabel('Loss')\n",
    "    plt.grid(True)\n",
    "    \n",
    "    # Metrics plot\n",
    "    if metric_history:\n",
    "        plt.subplot(1, 2, 2)\n",
    "        for metric_name, values in metric_history.items():\n",
    "            plt.plot(values, label=metric_name)\n",
    "        plt.title('Training Metrics')\n",
    "        plt.xlabel('Epoch')\n",
    "        plt.ylabel('Metric Value')\n",
    "        plt.grid(True)\n",
    "        plt.legend()\n",
    "    \n",
    "    plt.tight_layout()\n",
    "    plt.show()\n",
    "\n",
    "def plot_predictions_vs_actuals(y_true, y_pred, title='Predictions vs True Values'):\n",
    "    plt.figure(figsize=(12, 6))\n",
    "    plt.plot(y_true, label='True Values', linewidth=2)\n",
    "    plt.plot(y_pred, label='Predictions', linestyle='--')\n",
    "    plt.xlabel('Time Step')\n",
    "    plt.ylabel('Value')\n",
    "    plt.title(title)\n",
    "    plt.legend()\n",
    "    plt.grid(True)\n",
    "    plt.show()\n",
    "\n"
   ]
  },
  {
   "cell_type": "code",
   "execution_count": 229,
   "id": "546655a0",
   "metadata": {},
   "outputs": [
    {
     "data": {
      "image/png": "[encoded data removed]",
      "text/plain": [
       "<Figure size 1200x500 with 2 Axes>"
      ]
     },
     "metadata": {},
     "output_type": "display_data"
    }
   ],
   "source": [
    "plot_training_history(\n",
    "    train_results['train_loss'],\n",
    "    {\n",
    "        'rmse': train_results['train_rmse'],\n",
    "        'mae': train_results['train_mae'],\n",
    "        'mse': train_results['train_mse'],\n",
    "        'r2': train_results['train_r2'],\n",
    "    }\n",
    ")"
   ]
  },
  {
   "cell_type": "code",
   "execution_count": 230,
   "id": "400eea63",
   "metadata": {},
   "outputs": [
    {
     "data": {
      "text/plain": [
       "113"
      ]
     },
     "execution_count": 230,
     "metadata": {},
     "output_type": "execute_result"
    }
   ],
   "source": [
    "len(test_loader)"
   ]
  },
  {
   "cell_type": "code",
   "execution_count": 234,
   "id": "15c351fd",
   "metadata": {},
   "outputs": [],
   "source": [
    "model.load_state_dict(torch.load('best_r2_model.pth', weights_only=True))\n",
    "\n",
    "def test(\n",
    "    model,\n",
    "    test_loader,\n",
    "    device,\n",
    "):\n",
    "    model.eval()\n",
    "\n",
    "    test_preds = []\n",
    "    test_targets = []\n",
    "\n",
    "    test_r2 = []\n",
    "    test_mae = []\n",
    "    test_mse = []\n",
    "    test_rmse = []\n",
    "    # test_eps = []\n",
    "    \n",
    "    rul = torch.ones((len(test_loader),)).to(device)\n",
    "\n",
    "    with torch.no_grad():\n",
    "        for i, (data, labels) in enumerate(tqdm(test_loader)):\n",
    "            time_frac = torch.linspace(0, 1, steps=labels.shape[0]).unsqueeze(1).to(device)\n",
    "            data = data.to(device)\n",
    "            labels = labels.to(device)\n",
    "            # print(time_frac.shape, \"SHAPE X\", data.shape)\n",
    "            predictions = model(data).flatten()\n",
    "            \n",
    "            # predictions = torch.cummin(predictions.flip(0), dim=0).values.flip(0)\n",
    "\n",
    "            test_preds.append(predictions)\n",
    "            test_targets.append(labels)\n",
    "\n",
    "        test_preds = torch.cat(test_preds).cpu().detach().numpy()\n",
    "        test_targets = torch.cat(test_targets).cpu().detach().numpy()\n",
    "\n",
    "        mse = mean_squared_error(test_targets, test_preds)\n",
    "\n",
    "        test_r2.append(r2_score(test_targets, test_preds))\n",
    "        test_mae.append(mean_absolute_error(test_targets, test_preds))\n",
    "        test_mse.append(mse)\n",
    "        test_rmse.append(np.sqrt(mse))\n",
    "        # test_eps.append(early_prediction_score(test_targets, test_preds))\n",
    "\n",
    "    return {\n",
    "        'test_r2': test_r2,\n",
    "        'test_mae': test_mae,\n",
    "        'test_mse': test_mse,\n",
    "        'test_rmse': test_rmse,\n",
    "        'test_preds': test_preds,\n",
    "        'test_targets': test_targets,\n",
    "    }\n",
    "          "
   ]
  },
  {
   "cell_type": "code",
   "execution_count": 235,
   "id": "e519ea9d",
   "metadata": {},
   "outputs": [
    {
     "name": "stderr",
     "output_type": "stream",
     "text": [
      "100%|██████████| 113/113 [00:00<00:00, 176.48it/s]\n"
     ]
    },
    {
     "data": {
      "text/plain": [
       "{'test_r2': [0.10515710406692347],\n",
       " 'test_mae': [0.18183489],\n",
       " 'test_mse': [0.042884696],\n",
       " 'test_rmse': [0.2070862],\n",
       " 'test_preds': array([ 0.63656723,  0.6285754 ,  0.615322  , ...,  0.1400188 ,\n",
       "        -0.03852791,  0.06552279], dtype=float32),\n",
       " 'test_targets': array([[0.99957895],\n",
       "        [0.99936837],\n",
       "        [0.99915785],\n",
       "        ...,\n",
       "        [0.24186282],\n",
       "        [0.24165228],\n",
       "        [0.24144174]], dtype=float32)}"
      ]
     },
     "execution_count": 235,
     "metadata": {},
     "output_type": "execute_result"
    }
   ],
   "source": [
    "test_results = test(model, test_loader, device)\n",
    "\n",
    "test_results"
   ]
  },
  {
   "cell_type": "code",
   "execution_count": 236,
   "id": "df88c977",
   "metadata": {},
   "outputs": [
    {
     "data": {
      "image/png": "[encoded data removed]",
      "text/plain": [
       "<Figure size 1200x600 with 1 Axes>"
      ]
     },
     "metadata": {},
     "output_type": "display_data"
    }
   ],
   "source": [
    "plot_predictions_vs_actuals(\n",
    "    test_results['test_targets'],\n",
    "    test_results['test_preds'] + 0.2\n",
    ")"
   ]
  },
  {
   "cell_type": "code",
   "execution_count": null,
   "id": "b00566d8",
   "metadata": {},
   "outputs": [],
   "source": [
    "test_results['test_targets']"
   ]
  },
  {
   "cell_type": "code",
   "execution_count": null,
   "id": "a238957f",
   "metadata": {},
   "outputs": [],
   "source": [
    "test_results['test_preds']"
   ]
  },
  {
   "cell_type": "code",
   "execution_count": 151,
   "id": "4b998a87",
   "metadata": {},
   "outputs": [
    {
     "data": {
      "text/plain": [
       "[<matplotlib.lines.Line2D at 0x7fdf5e9b52d0>]"
      ]
     },
     "execution_count": 151,
     "metadata": {},
     "output_type": "execute_result"
    },
    {
     "data": {
      "image/png": "[encoded data removed]",
      "text/plain": [
       "<Figure size 640x480 with 1 Axes>"
      ]
     },
     "metadata": {},
     "output_type": "display_data"
    }
   ],
   "source": [
    "plt.plot(test_results['rul'].cpu().numpy())"
   ]
  },
  {
   "cell_type": "code",
   "execution_count": null,
   "id": "a115a487",
   "metadata": {},
   "outputs": [],
   "source": []
  }
 ],
 "metadata": {
  "kernelspec": {
   "display_name": "bearing_rul",
   "language": "python",
   "name": "python3"
  },
  "language_info": {
   "codemirror_mode": {
    "name": "ipython",
    "version": 3
   },
   "file_extension": ".py",
   "mimetype": "text/x-python",
   "name": "python",
   "nbconvert_exporter": "python",
   "pygments_lexer": "ipython3",
   "version": "3.10.11"
  }
 },
 "nbformat": 4,
 "nbformat_minor": 5
}
