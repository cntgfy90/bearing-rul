{
 "cells": [
  {
   "cell_type": "code",
   "execution_count": 1,
   "id": "3f31f366",
   "metadata": {},
   "outputs": [
    {
     "name": "stderr",
     "output_type": "stream",
     "text": [
      "/home/stepan/Private/bearing_rul/lib/python3.10/site-packages/xgboost/core.py:377: FutureWarning: Your system has an old version of glibc (< 2.28). We will stop supporting Linux distros with glibc older than 2.28 after **May 31, 2025**. Please upgrade to a recent Linux distro (with glibc >= 2.28) to use future versions of XGBoost.\n",
      "Note: You have installed the 'manylinux2014' variant of XGBoost. Certain features such as GPU algorithms or federated learning are not available. To use these features, please upgrade to a recent Linux distro with glibc 2.28+, and install the 'manylinux_2_28' variant.\n",
      "  warnings.warn(\n"
     ]
    }
   ],
   "source": [
    "import numpy as np\n",
    "import pandas as pd\n",
    "from torch import nn\n",
    "from phmd import datasets\n",
    "from sklearn.preprocessing import MinMaxScaler, StandardScaler, OneHotEncoder, RobustScaler\n",
    "from scipy.stats import kurtosis\n",
    "from scipy.fft import fft\n",
    "from scipy.fft import fft, fftfreq\n",
    "from sklearn.svm import SVR\n",
    "from sklearn.ensemble import RandomForestRegressor\n",
    "from sklearn.metrics import mean_absolute_error, mean_squared_error, r2_score\n",
    "from xgboost import XGBRegressor\n",
    "import matplotlib.pyplot as plt\n",
    "import seaborn as sns\n",
    "import os\n",
    "import torch\n",
    "from tqdm import tqdm"
   ]
  },
  {
   "cell_type": "code",
   "execution_count": 2,
   "id": "dad711b3",
   "metadata": {},
   "outputs": [],
   "source": [
    "def early_prediction_score(y_true, y_pred, alpha=0.5):\n",
    "    errors = y_pred - y_true\n",
    "    # Heavier penalty for late predictions\n",
    "    weights = np.where(errors < 0, alpha, 1)\n",
    "    return np.mean(weights * errors**2)"
   ]
  },
  {
   "cell_type": "code",
   "execution_count": 3,
   "id": "95d37866",
   "metadata": {},
   "outputs": [],
   "source": [
    "TRAIN_BEARINGS = {\n",
    "    1: [\n",
    "        '1_1',\n",
    "        # '1_2',\n",
    "    ],\n",
    "    2: [\n",
    "        '2_1',\n",
    "        '2_2',\n",
    "    ],\n",
    "    3: [\n",
    "        '3_1',\n",
    "        '3_2',\n",
    "    ]\n",
    "}\n",
    "\n",
    "TEST_BEARINGS = {\n",
    "    1: [\n",
    "        '1_3',\n",
    "        '1_4',\n",
    "        '1_5',\n",
    "        '1_6',\n",
    "        '1_7',\n",
    "    ],\n",
    "    2: [\n",
    "        '2_3',\n",
    "        '2_4',\n",
    "        '2_5',\n",
    "        '2_6',\n",
    "        '2_7',\n",
    "    ],\n",
    "    3: [\n",
    "        '3_3',\n",
    "    ]\n",
    "}"
   ]
  },
  {
   "cell_type": "code",
   "execution_count": 4,
   "id": "08d3cf88",
   "metadata": {},
   "outputs": [
    {
     "name": "stdout",
     "output_type": "stream",
     "text": [
      "Remember to cite the original publisher dataset:\n",
      "\t@inproceedings{nectoux2012pronostia,    \n",
      "\t    title={PRONOSTIA: An experimental platform for bearings accelerated degradation tests.},    \n",
      "\t    author={Nectoux, Patrick and Gouriveau, Rafael and Medjaher, Kamal and Ramasso, Emmanuel and Chebel-Morello, Brigitte and Zerhouni, Noureddine and Varnier, Christophe},    \n",
      "\t    booktitle={IEEE International Conference on Prognostics and Health Management, PHM'12.},    \n",
      "\t    pages={1--8},    \n",
      "\t    year={2012},    \n",
      "\t    organization={IEEE Catalog Number: CPF12PHM-CDR}    \n",
      "\t}\n",
      "You can download the dataset manually from:  https://www.nasa.gov/intelligent-systems-division/discovery-and-systems-health/pcoe/pcoe-data-set-repository/\n",
      "\n",
      "** If you find this tool useful, please cite our SoftwareX paper: \n",
      "\tSolís-Martín, David, Juan Galán-Páez, and Joaquín Borrego-Díaz. \"PHMD: An easy data access tool for prognosis and health management datasets.\" SoftwareX 29 (2025): 102039.\n",
      "\n"
     ]
    },
    {
     "name": "stderr",
     "output_type": "stream",
     "text": [
      "Reading Bearing3_2: 100%|██████████| 7534/7534 [00:19<00:00, 384.94it/s]\n",
      "Reading Bearing3_3: 100%|██████████| 13959/13959 [00:35<00:00, 390.76it/s]\n",
      "INFO:root:Read in 57.81956434249878 seconds\n"
     ]
    }
   ],
   "source": [
    "dataset = datasets.Dataset('PRONOSTIA')\n",
    "tasks = dataset['rul']\n",
    "df = tasks.load()"
   ]
  },
  {
   "cell_type": "code",
   "execution_count": 5,
   "id": "58e5a4bd",
   "metadata": {},
   "outputs": [
    {
     "data": {
      "text/plain": [
       "array(['1_1', '1_2', '2_1', '2_2', '3_1', '3_2'], dtype=object)"
      ]
     },
     "execution_count": 5,
     "metadata": {},
     "output_type": "execute_result"
    }
   ],
   "source": [
    "# train\n",
    "df[0]['unit'].unique()"
   ]
  },
  {
   "cell_type": "code",
   "execution_count": 6,
   "id": "9e59c6d2",
   "metadata": {},
   "outputs": [
    {
     "data": {
      "text/html": [
       "<div>\n",
       "<style scoped>\n",
       "    .dataframe tbody tr th:only-of-type {\n",
       "        vertical-align: middle;\n",
       "    }\n",
       "\n",
       "    .dataframe tbody tr th {\n",
       "        vertical-align: top;\n",
       "    }\n",
       "\n",
       "    .dataframe thead th {\n",
       "        text-align: right;\n",
       "    }\n",
       "</style>\n",
       "<table border=\"1\" class=\"dataframe\">\n",
       "  <thead>\n",
       "    <tr style=\"text-align: right;\">\n",
       "      <th></th>\n",
       "      <th>rul</th>\n",
       "      <th>V_acc</th>\n",
       "      <th>H_acc</th>\n",
       "      <th>unit</th>\n",
       "    </tr>\n",
       "  </thead>\n",
       "  <tbody>\n",
       "    <tr>\n",
       "      <th>0</th>\n",
       "      <td>28029</td>\n",
       "      <td>-0.146</td>\n",
       "      <td>0.552</td>\n",
       "      <td>1_1</td>\n",
       "    </tr>\n",
       "    <tr>\n",
       "      <th>1</th>\n",
       "      <td>28029</td>\n",
       "      <td>-0.480</td>\n",
       "      <td>0.501</td>\n",
       "      <td>1_1</td>\n",
       "    </tr>\n",
       "    <tr>\n",
       "      <th>2</th>\n",
       "      <td>28029</td>\n",
       "      <td>0.435</td>\n",
       "      <td>0.138</td>\n",
       "      <td>1_1</td>\n",
       "    </tr>\n",
       "    <tr>\n",
       "      <th>3</th>\n",
       "      <td>28029</td>\n",
       "      <td>0.240</td>\n",
       "      <td>-0.423</td>\n",
       "      <td>1_1</td>\n",
       "    </tr>\n",
       "    <tr>\n",
       "      <th>4</th>\n",
       "      <td>28029</td>\n",
       "      <td>0.020</td>\n",
       "      <td>-0.802</td>\n",
       "      <td>1_1</td>\n",
       "    </tr>\n",
       "  </tbody>\n",
       "</table>\n",
       "</div>"
      ],
      "text/plain": [
       "     rul  V_acc  H_acc unit\n",
       "0  28029 -0.146  0.552  1_1\n",
       "1  28029 -0.480  0.501  1_1\n",
       "2  28029  0.435  0.138  1_1\n",
       "3  28029  0.240 -0.423  1_1\n",
       "4  28029  0.020 -0.802  1_1"
      ]
     },
     "execution_count": 6,
     "metadata": {},
     "output_type": "execute_result"
    }
   ],
   "source": [
    "df[0].head(5)"
   ]
  },
  {
   "cell_type": "code",
   "execution_count": 7,
   "id": "36ab7dee",
   "metadata": {},
   "outputs": [
    {
     "data": {
      "text/plain": [
       "array(['1_3', '1_4', '1_5', '1_6', '1_7', '2_3', '2_4', '2_5', '2_6',\n",
       "       '2_7', '3_3'], dtype=object)"
      ]
     },
     "execution_count": 7,
     "metadata": {},
     "output_type": "execute_result"
    }
   ],
   "source": [
    "# test\n",
    "df[1]['unit'].unique()"
   ]
  },
  {
   "cell_type": "code",
   "execution_count": 8,
   "id": "0b4d16d9",
   "metadata": {},
   "outputs": [
    {
     "data": {
      "text/plain": [
       "0          1_1\n",
       "1          1_1\n",
       "2          1_1\n",
       "3          1_1\n",
       "4          1_1\n",
       "          ... \n",
       "7175675    1_1\n",
       "7175676    1_1\n",
       "7175677    1_1\n",
       "7175678    1_1\n",
       "7175679    1_1\n",
       "Name: unit, Length: 7175680, dtype: object"
      ]
     },
     "execution_count": 8,
     "metadata": {},
     "output_type": "execute_result"
    }
   ],
   "source": [
    "df[0][df[0]['unit'].isin(TRAIN_BEARINGS[1])]['unit']"
   ]
  },
  {
   "cell_type": "code",
   "execution_count": 9,
   "id": "c6ecf741",
   "metadata": {},
   "outputs": [
    {
     "data": {
      "text/html": [
       "<div>\n",
       "<style scoped>\n",
       "    .dataframe tbody tr th:only-of-type {\n",
       "        vertical-align: middle;\n",
       "    }\n",
       "\n",
       "    .dataframe tbody tr th {\n",
       "        vertical-align: top;\n",
       "    }\n",
       "\n",
       "    .dataframe thead th {\n",
       "        text-align: right;\n",
       "    }\n",
       "</style>\n",
       "<table border=\"1\" class=\"dataframe\">\n",
       "  <thead>\n",
       "    <tr style=\"text-align: right;\">\n",
       "      <th></th>\n",
       "      <th>rul</th>\n",
       "      <th>V_acc</th>\n",
       "      <th>H_acc</th>\n",
       "      <th>unit</th>\n",
       "    </tr>\n",
       "  </thead>\n",
       "  <tbody>\n",
       "    <tr>\n",
       "      <th>0</th>\n",
       "      <td>28029</td>\n",
       "      <td>-0.146</td>\n",
       "      <td>0.552</td>\n",
       "      <td>1_1</td>\n",
       "    </tr>\n",
       "    <tr>\n",
       "      <th>1</th>\n",
       "      <td>28029</td>\n",
       "      <td>-0.480</td>\n",
       "      <td>0.501</td>\n",
       "      <td>1_1</td>\n",
       "    </tr>\n",
       "    <tr>\n",
       "      <th>2</th>\n",
       "      <td>28029</td>\n",
       "      <td>0.435</td>\n",
       "      <td>0.138</td>\n",
       "      <td>1_1</td>\n",
       "    </tr>\n",
       "    <tr>\n",
       "      <th>3</th>\n",
       "      <td>28029</td>\n",
       "      <td>0.240</td>\n",
       "      <td>-0.423</td>\n",
       "      <td>1_1</td>\n",
       "    </tr>\n",
       "    <tr>\n",
       "      <th>4</th>\n",
       "      <td>28029</td>\n",
       "      <td>0.020</td>\n",
       "      <td>-0.802</td>\n",
       "      <td>1_1</td>\n",
       "    </tr>\n",
       "    <tr>\n",
       "      <th>...</th>\n",
       "      <td>...</td>\n",
       "      <td>...</td>\n",
       "      <td>...</td>\n",
       "      <td>...</td>\n",
       "    </tr>\n",
       "    <tr>\n",
       "      <th>7175675</th>\n",
       "      <td>0</td>\n",
       "      <td>2.129</td>\n",
       "      <td>-3.353</td>\n",
       "      <td>1_1</td>\n",
       "    </tr>\n",
       "    <tr>\n",
       "      <th>7175676</th>\n",
       "      <td>0</td>\n",
       "      <td>-2.299</td>\n",
       "      <td>-2.868</td>\n",
       "      <td>1_1</td>\n",
       "    </tr>\n",
       "    <tr>\n",
       "      <th>7175677</th>\n",
       "      <td>0</td>\n",
       "      <td>-1.844</td>\n",
       "      <td>-5.507</td>\n",
       "      <td>1_1</td>\n",
       "    </tr>\n",
       "    <tr>\n",
       "      <th>7175678</th>\n",
       "      <td>0</td>\n",
       "      <td>2.146</td>\n",
       "      <td>-3.578</td>\n",
       "      <td>1_1</td>\n",
       "    </tr>\n",
       "    <tr>\n",
       "      <th>7175679</th>\n",
       "      <td>0</td>\n",
       "      <td>0.470</td>\n",
       "      <td>-2.709</td>\n",
       "      <td>1_1</td>\n",
       "    </tr>\n",
       "  </tbody>\n",
       "</table>\n",
       "<p>7175680 rows × 4 columns</p>\n",
       "</div>"
      ],
      "text/plain": [
       "           rul  V_acc  H_acc unit\n",
       "0        28029 -0.146  0.552  1_1\n",
       "1        28029 -0.480  0.501  1_1\n",
       "2        28029  0.435  0.138  1_1\n",
       "3        28029  0.240 -0.423  1_1\n",
       "4        28029  0.020 -0.802  1_1\n",
       "...        ...    ...    ...  ...\n",
       "7175675      0  2.129 -3.353  1_1\n",
       "7175676      0 -2.299 -2.868  1_1\n",
       "7175677      0 -1.844 -5.507  1_1\n",
       "7175678      0  2.146 -3.578  1_1\n",
       "7175679      0  0.470 -2.709  1_1\n",
       "\n",
       "[7175680 rows x 4 columns]"
      ]
     },
     "execution_count": 9,
     "metadata": {},
     "output_type": "execute_result"
    }
   ],
   "source": [
    "df[0][df[0]['unit'].isin(TRAIN_BEARINGS[1])]"
   ]
  },
  {
   "cell_type": "code",
   "execution_count": 10,
   "id": "41fc4c80",
   "metadata": {},
   "outputs": [
    {
     "data": {
      "text/html": [
       "<div>\n",
       "<style scoped>\n",
       "    .dataframe tbody tr th:only-of-type {\n",
       "        vertical-align: middle;\n",
       "    }\n",
       "\n",
       "    .dataframe tbody tr th {\n",
       "        vertical-align: top;\n",
       "    }\n",
       "\n",
       "    .dataframe thead th {\n",
       "        text-align: right;\n",
       "    }\n",
       "</style>\n",
       "<table border=\"1\" class=\"dataframe\">\n",
       "  <thead>\n",
       "    <tr style=\"text-align: right;\">\n",
       "      <th></th>\n",
       "      <th>rul</th>\n",
       "      <th>V_acc</th>\n",
       "      <th>H_acc</th>\n",
       "      <th>unit</th>\n",
       "    </tr>\n",
       "  </thead>\n",
       "  <tbody>\n",
       "    <tr>\n",
       "      <th>0</th>\n",
       "      <td>23749</td>\n",
       "      <td>0.044</td>\n",
       "      <td>0.092</td>\n",
       "      <td>1_3</td>\n",
       "    </tr>\n",
       "    <tr>\n",
       "      <th>1</th>\n",
       "      <td>23749</td>\n",
       "      <td>0.432</td>\n",
       "      <td>-0.025</td>\n",
       "      <td>1_3</td>\n",
       "    </tr>\n",
       "    <tr>\n",
       "      <th>2</th>\n",
       "      <td>23749</td>\n",
       "      <td>0.008</td>\n",
       "      <td>-0.104</td>\n",
       "      <td>1_3</td>\n",
       "    </tr>\n",
       "    <tr>\n",
       "      <th>3</th>\n",
       "      <td>23749</td>\n",
       "      <td>-0.264</td>\n",
       "      <td>0.056</td>\n",
       "      <td>1_3</td>\n",
       "    </tr>\n",
       "    <tr>\n",
       "      <th>4</th>\n",
       "      <td>23749</td>\n",
       "      <td>-0.195</td>\n",
       "      <td>0.074</td>\n",
       "      <td>1_3</td>\n",
       "    </tr>\n",
       "    <tr>\n",
       "      <th>...</th>\n",
       "      <td>...</td>\n",
       "      <td>...</td>\n",
       "      <td>...</td>\n",
       "      <td>...</td>\n",
       "    </tr>\n",
       "    <tr>\n",
       "      <th>3845115</th>\n",
       "      <td>7570</td>\n",
       "      <td>-0.013</td>\n",
       "      <td>0.481</td>\n",
       "      <td>1_7</td>\n",
       "    </tr>\n",
       "    <tr>\n",
       "      <th>3845116</th>\n",
       "      <td>7570</td>\n",
       "      <td>-0.272</td>\n",
       "      <td>0.191</td>\n",
       "      <td>1_7</td>\n",
       "    </tr>\n",
       "    <tr>\n",
       "      <th>3845117</th>\n",
       "      <td>7570</td>\n",
       "      <td>0.466</td>\n",
       "      <td>0.250</td>\n",
       "      <td>1_7</td>\n",
       "    </tr>\n",
       "    <tr>\n",
       "      <th>3845118</th>\n",
       "      <td>7570</td>\n",
       "      <td>-0.582</td>\n",
       "      <td>0.001</td>\n",
       "      <td>1_7</td>\n",
       "    </tr>\n",
       "    <tr>\n",
       "      <th>3845119</th>\n",
       "      <td>7570</td>\n",
       "      <td>-0.371</td>\n",
       "      <td>0.199</td>\n",
       "      <td>1_7</td>\n",
       "    </tr>\n",
       "  </tbody>\n",
       "</table>\n",
       "<p>23160320 rows × 4 columns</p>\n",
       "</div>"
      ],
      "text/plain": [
       "           rul  V_acc  H_acc unit\n",
       "0        23749  0.044  0.092  1_3\n",
       "1        23749  0.432 -0.025  1_3\n",
       "2        23749  0.008 -0.104  1_3\n",
       "3        23749 -0.264  0.056  1_3\n",
       "4        23749 -0.195  0.074  1_3\n",
       "...        ...    ...    ...  ...\n",
       "3845115   7570 -0.013  0.481  1_7\n",
       "3845116   7570 -0.272  0.191  1_7\n",
       "3845117   7570  0.466  0.250  1_7\n",
       "3845118   7570 -0.582  0.001  1_7\n",
       "3845119   7570 -0.371  0.199  1_7\n",
       "\n",
       "[23160320 rows x 4 columns]"
      ]
     },
     "execution_count": 10,
     "metadata": {},
     "output_type": "execute_result"
    }
   ],
   "source": [
    "df[1][df[1]['unit'].isin(TEST_BEARINGS[1])]"
   ]
  },
  {
   "cell_type": "code",
   "execution_count": 11,
   "id": "0685c0bc",
   "metadata": {},
   "outputs": [
    {
     "data": {
      "text/plain": [
       "[<matplotlib.lines.Line2D at 0x7f5023c62470>]"
      ]
     },
     "execution_count": 11,
     "metadata": {},
     "output_type": "execute_result"
    },
    {
     "data": {
      "image/png": "[encoded data removed]",
      "text/plain": [
       "<Figure size 640x480 with 1 Axes>"
      ]
     },
     "metadata": {},
     "output_type": "display_data"
    }
   ],
   "source": [
    "plt.plot(df[1][df[1]['unit'] == '1_3']['rul'])"
   ]
  },
  {
   "cell_type": "code",
   "execution_count": 12,
   "id": "b131384a",
   "metadata": {},
   "outputs": [],
   "source": [
    "# sns.kdeplot(df[0][df[0]['unit'] == '1_1']['H_acc'], label='Train')\n",
    "# sns.kdeplot(test_features['h_RMS'], label='Test')\n",
    "# plt.legend(); plt.show()"
   ]
  },
  {
   "cell_type": "code",
   "execution_count": 370,
   "id": "a2dafbea",
   "metadata": {},
   "outputs": [],
   "source": [
    "class BearingDataset(torch.utils.data.Dataset):\n",
    "    def __init__(self, df, window_size=2560, step=2560 // 2):\n",
    "        self.windows = []\n",
    "        self.ruls = []\n",
    "        \n",
    "        # Create sequences\n",
    "        for unit, group in df.groupby('unit'):\n",
    "            h_acc =  group['H_acc'].transform(\n",
    "                lambda x: (x - x.mean()) / (x.std() + 1e-8)\n",
    "            )\n",
    "            v_acc =  group['V_acc'].transform(\n",
    "                lambda x: (x - x.mean()) / (x.std() + 1e-8)\n",
    "            )\n",
    "\n",
    "            rul = group['rul'].transform(lambda x: x / x.max())\n",
    "\n",
    "            for i in range(0, len(group) - window_size, step):\n",
    "\n",
    "                self.windows.append(np.stack([\n",
    "                    h_acc[i:i+window_size], \n",
    "                    v_acc[i:i+window_size]\n",
    "                ], axis=1))\n",
    "                self.ruls.append(rul.values[i+window_size-1])\n",
    "\n",
    "    def __len__(self):\n",
    "        return len(self.windows)\n",
    "    \n",
    "    def __getitem__(self, idx):\n",
    "        return torch.FloatTensor(self.windows[idx]), torch.FloatTensor([self.ruls[idx]])\n",
    "    \n",
    "train_dataset = BearingDataset(\n",
    "    # [b for state in TRAIN_BEARINGS for b in TRAIN_BEARINGS[state]]\n",
    "    df=df[0][df[0]['unit'].isin(['1_1'])],\n",
    ")\n",
    "\n",
    "test_dataset = BearingDataset(\n",
    "    df=df[1][df[1]['unit'] == '1_3'],\n",
    ")\n",
    "\n",
    "val_dataset = BearingDataset(\n",
    "    df=df[0][df[0]['unit'] == '1_2'],\n",
    ")\n",
    "\n",
    "train_loader = torch.utils.data.DataLoader(train_dataset, batch_size=32, shuffle=False)\n",
    "test_loader = torch.utils.data.DataLoader(test_dataset, batch_size=32, shuffle=False)\n",
    "val_loader = torch.utils.data.DataLoader(val_dataset, batch_size=32, shuffle=False)"
   ]
  },
  {
   "cell_type": "code",
   "execution_count": 371,
   "id": "42f0e240",
   "metadata": {},
   "outputs": [
    {
     "data": {
      "text/plain": [
       "5604"
      ]
     },
     "execution_count": 371,
     "metadata": {},
     "output_type": "execute_result"
    }
   ],
   "source": [
    "len(train_dataset)"
   ]
  },
  {
   "cell_type": "code",
   "execution_count": 395,
   "id": "27eff63f",
   "metadata": {},
   "outputs": [
    {
     "name": "stdout",
     "output_type": "stream",
     "text": [
      "BearingCNN(\n",
      "  (features): Sequential(\n",
      "    (0): Conv1d(2, 64, kernel_size=(51,), stride=(1,), padding=(25,))\n",
      "    (1): BatchNorm1d(64, eps=1e-05, momentum=0.1, affine=True, track_running_stats=True)\n",
      "    (2): LeakyReLU(negative_slope=0.1)\n",
      "    (3): MaxPool1d(kernel_size=4, stride=2, padding=0, dilation=1, ceil_mode=False)\n",
      "    (4): Conv1d(64, 128, kernel_size=(25,), stride=(1,), padding=(12,))\n",
      "    (5): BatchNorm1d(128, eps=1e-05, momentum=0.1, affine=True, track_running_stats=True)\n",
      "    (6): LeakyReLU(negative_slope=0.1)\n",
      "    (7): MaxPool1d(kernel_size=4, stride=2, padding=0, dilation=1, ceil_mode=False)\n",
      "    (8): Conv1d(128, 256, kernel_size=(10,), stride=(1,), padding=(5,))\n",
      "    (9): BatchNorm1d(256, eps=1e-05, momentum=0.1, affine=True, track_running_stats=True)\n",
      "    (10): LeakyReLU(negative_slope=0.1)\n",
      "    (11): AdaptiveAvgPool1d(output_size=1)\n",
      "  )\n",
      "  (regressor): Sequential(\n",
      "    (0): Linear(in_features=256, out_features=128, bias=True)\n",
      "    (1): LayerNorm((128,), eps=1e-05, elementwise_affine=True)\n",
      "    (2): LeakyReLU(negative_slope=0.1)\n",
      "    (3): Dropout(p=0.5, inplace=False)\n",
      "    (4): Linear(in_features=128, out_features=1, bias=True)\n",
      "  )\n",
      ")\n"
     ]
    }
   ],
   "source": [
    "class BearingCNN(torch.nn.Module):\n",
    "    def __init__(self):\n",
    "        super().__init__()\n",
    "        \n",
    "        # Feature extractor\n",
    "        self.features = torch.nn.Sequential(\n",
    "            # Layer 1: Wide receptive field\n",
    "            torch.nn.Conv1d(2, 64, kernel_size=51, padding=25),  # (B, 2, 2560) -> (B, 64, 2560)\n",
    "            torch.nn.BatchNorm1d(64),\n",
    "            torch.nn.LeakyReLU(0.1),\n",
    "            torch.nn.MaxPool1d(4, stride=2),  # -> (B, 64, 1278)\n",
    "            \n",
    "            # Layer 2: Mid-range features\n",
    "            torch.nn.Conv1d(64, 128, kernel_size=25, padding=12),  # -> (B, 128, 1278)\n",
    "            torch.nn.BatchNorm1d(128),\n",
    "            torch.nn.LeakyReLU(0.1),\n",
    "            torch.nn.MaxPool1d(4, stride=2),  # -> (B, 128, 637)\n",
    "            \n",
    "            # Layer 3: Local features\n",
    "            torch.nn.Conv1d(128, 256, kernel_size=10, padding=5),  # -> (B, 256, 637)\n",
    "            torch.nn.BatchNorm1d(256),\n",
    "            torch.nn.LeakyReLU(0.1),\n",
    "            torch.nn.AdaptiveAvgPool1d(1)  # -> (B, 256, 1)\n",
    "        )\n",
    "        \n",
    "        # Regressor (fixed input dim)\n",
    "        self.regressor = torch.nn.Sequential(\n",
    "            torch.nn.Linear(256, 128),\n",
    "            torch.nn.LayerNorm(128),  # Better for regression\n",
    "            torch.nn.LeakyReLU(0.1),\n",
    "            torch.nn.Dropout(0.5),\n",
    "            torch.nn.Linear(128, 1),\n",
    "            # torch.nn.Sigmoid(),\n",
    "            # Removed Sigmoid() for regression\n",
    "        )\n",
    "\n",
    "        # self.fc = torch.nn.Linear(128, 1)\n",
    "\n",
    "        # with torch.no_grad():\n",
    "        #     self.fc.weight.data = -torch.abs(self.fc.weight.data)\n",
    "        #     self.fc.bias.data.fill_(1.0)  # Start predictions near 1.0\n",
    "    \n",
    "    def forward(self, x):\n",
    "        # Input: (B, 2560, 2)\n",
    "        x = x.permute(0, 2, 1)  # -> (B, 2, 2560)\n",
    "        x = self.features(x)     # -> (B, 256, 1)\n",
    "        x = x.squeeze(-1)        # -> (B, 256)\n",
    "        x = self.regressor(x)  # -> (B,)\n",
    "        return x\n",
    "\n",
    "model = BearingCNN()\n",
    "\n",
    "print(model)"
   ]
  },
  {
   "cell_type": "code",
   "execution_count": 396,
   "id": "6a7be941",
   "metadata": {},
   "outputs": [],
   "source": [
    "class LogCoshLoss(nn.Module):\n",
    "    def forward(self, y_pred, y_true):\n",
    "        return torch.mean(torch.log(torch.cosh(y_pred - y_true)))\n",
    "\n",
    "def weighted_mse_loss(y_pred, y_true):\n",
    "    alpha=2.0\n",
    "    error = y_pred - y_true\n",
    "    weights = torch.where(error < 0, alpha, 1.0)  # Heavier penalty for underestimating RUL\n",
    "    return torch.mean(weights * (error ** 2))\n",
    "\n",
    "def r2_score_loss(y_pred, y_true):\n",
    "    # Calculate R² (Coefficient of Determination)\n",
    "    ss_res = torch.sum((y_true - y_pred) ** 2)\n",
    "    ss_tot = torch.sum((y_true - torch.mean(y_true)) ** 2)\n",
    "    r2 = 1 - (ss_res / (ss_tot + 1e-8))  # Avoid division by zero\n",
    "    return -r2  # Minimize this (equivalent to maximizing R²)\n",
    "\n",
    "def hybrid_r2_mse_loss(y_pred, y_true,):\n",
    "    # alpha=0.5\n",
    "    alpha = 0.7\n",
    "    mse = torch.mean((y_pred - y_true) ** 2)\n",
    "    r2 = r2_score_loss(y_pred, y_true)  # Returns -R²\n",
    "    return alpha * mse + (1 - alpha) * r2\n",
    "\n",
    "device = torch.device('cuda' if torch.cuda.is_available() else 'cpu')\n",
    "model = model.to(device)\n",
    "criterion = hybrid_r2_mse_loss\n",
    "optimizer = torch.optim.Adam(model.parameters(), lr=0.001, weight_decay=1e-4)\n",
    "scheduler = torch.optim.lr_scheduler.ReduceLROnPlateau(optimizer, 'min', patience=5)\n",
    "\n",
    "def train(\n",
    "    model,\n",
    "    train_loader,\n",
    "    val_loader,\n",
    "    optimizer,\n",
    "    criterion,\n",
    "    device,\n",
    "    epochs,\n",
    "):\n",
    "    train_r2 = []\n",
    "    train_mae = []\n",
    "    train_mse = []\n",
    "    train_rmse = []\n",
    "    train_loss = []\n",
    "\n",
    "    val_r2 = []\n",
    "    val_mae = []\n",
    "    val_mse = []\n",
    "    val_rmse = []\n",
    "    val_loss = []\n",
    "\n",
    "    best_r2 = -float('inf')\n",
    "\n",
    "    for epoch in range(epochs):\n",
    "        model.train()\n",
    "\n",
    "        epoch_train_loss = 0\n",
    "        epoch_train_preds = []\n",
    "        epoch_train_targets = []\n",
    "\n",
    "        for X_batch, y_batch in tqdm(train_loader):\n",
    "            X_batch, y_batch = X_batch.to(device), y_batch.to(device)\n",
    "            \n",
    "            optimizer.zero_grad()\n",
    "            y_pred = model(X_batch).flatten()\n",
    "\n",
    "            epoch_train_preds.append(y_pred)\n",
    "            epoch_train_targets.append(y_batch)\n",
    "\n",
    "            loss = criterion(y_pred, y_batch)\n",
    "            \n",
    "            loss.backward()\n",
    "            optimizer.step()\n",
    "            \n",
    "            epoch_train_loss += loss.item()\n",
    "        \n",
    "        train_preds = torch.cat(epoch_train_preds).cpu().detach().numpy()\n",
    "        train_targets = torch.cat(epoch_train_targets).cpu().detach().numpy()\n",
    "        \n",
    "        epoch_train_r2 = r2_score(train_targets, train_preds)\n",
    "        epoch_train_mae = mean_absolute_error(train_targets, train_preds)\n",
    "        epoch_train_mse = mean_squared_error(train_targets, train_preds)\n",
    "        epoch_train_rmse = np.sqrt(epoch_train_mse)\n",
    "        epoch_train_loss = epoch_train_loss/len(train_loader)\n",
    "        \n",
    "        train_r2.append(epoch_train_r2)\n",
    "        train_mae.append(epoch_train_mae)\n",
    "        train_mse.append(epoch_train_mse)\n",
    "        train_rmse.append(epoch_train_rmse)\n",
    "        train_loss.append(epoch_train_loss)\n",
    "    \n",
    "        print(\n",
    "            f'Epoch {epoch + 1}: Train Loss {epoch_train_loss:.4f}, '\n",
    "                + f'Train R2 = {epoch_train_r2:.3f}, '\n",
    "                + f'Train RMSE = {epoch_train_rmse:.3f}, '\n",
    "                + f'Train MSE = {epoch_train_mse:.3f}, '\n",
    "                + f'Train MAE = {epoch_train_mae:.3f}'\n",
    "                # + f'Train EPS = {epoch_train_eps:.3f}'\n",
    "        )\n",
    "\n",
    "\n",
    "        model.eval()\n",
    "\n",
    "        epoch_val_loss = 0\n",
    "        epoch_val_preds = []\n",
    "        epoch_val_targets = []\n",
    "\n",
    "        with torch.no_grad():\n",
    "            for X_val, y_val in tqdm(val_loader, desc=f'Epoch {epoch + 1} Val'):\n",
    "                X_val, y_val = X_val.to(device), y_val.to(device)\n",
    "\n",
    "                y_pred = model(X_val).flatten()\n",
    "\n",
    "                epoch_val_preds.append(y_pred)\n",
    "                epoch_val_targets.append(y_val)\n",
    "                \n",
    "                epoch_val_loss += criterion(y_pred, y_val).item()\n",
    "\n",
    "        val_preds = torch.cat(epoch_val_preds).cpu().detach().numpy()\n",
    "        val_targets = torch.cat(epoch_val_targets).cpu().detach().numpy()\n",
    "        \n",
    "        epoch_val_r2 = r2_score(val_targets, val_preds)\n",
    "        epoch_val_mae = mean_absolute_error(val_targets, val_preds)\n",
    "        epoch_val_mse = mean_squared_error(val_targets, val_preds)\n",
    "        epoch_val_rmse = np.sqrt(epoch_val_mse)\n",
    "        epoch_val_loss = epoch_val_loss/len(val_loader)\n",
    "        scheduler.step(epoch_val_loss)\n",
    "        \n",
    "        val_r2.append(epoch_val_r2)\n",
    "        val_mae.append(epoch_val_mae)\n",
    "        val_mse.append(epoch_val_mse)\n",
    "        val_rmse.append(epoch_val_rmse)\n",
    "        val_loss.append(epoch_val_loss)\n",
    "\n",
    "        if val_r2[-1] > best_r2:\n",
    "            best_r2 = val_r2[-1]\n",
    "            torch.save(model.state_dict(), 'best_r2_model.pth')\n",
    "\n",
    "        print(\n",
    "            f'Epoch {epoch + 1}: Val Loss {epoch_val_loss:.4f}, '\n",
    "                + f'Val R2 = {epoch_val_r2:.3f}, '\n",
    "                + f'Val RMSE = {epoch_val_rmse:.3f}, '\n",
    "                + f'Val MSE = {epoch_val_mse:.3f}, '\n",
    "                + f'Val MAE = {epoch_val_mae:.3f}'\n",
    "        ) \n",
    "\n",
    "    return {\n",
    "        'train_loss': train_loss,\n",
    "        'train_r2': train_r2,\n",
    "        'train_mae': train_mae,\n",
    "        'train_mse': train_mse,\n",
    "        'train_rmse': train_rmse,\n",
    "        'val_loss': val_loss,\n",
    "        'val_r2': val_r2,\n",
    "        'val_mae': val_mae,\n",
    "        'val_mse': val_mse,\n",
    "        'val_rmse': val_rmse,\n",
    "    }"
   ]
  },
  {
   "cell_type": "code",
   "execution_count": 397,
   "id": "5ce79b4d",
   "metadata": {},
   "outputs": [
    {
     "name": "stderr",
     "output_type": "stream",
     "text": [
      "100%|██████████| 176/176 [00:04<00:00, 41.38it/s]\n"
     ]
    },
    {
     "name": "stdout",
     "output_type": "stream",
     "text": [
      "Epoch 1: Train Loss 105164.9901, Train R2 = 0.642, Train RMSE = 0.173, Train MSE = 0.030, Train MAE = 0.097\n"
     ]
    },
    {
     "name": "stderr",
     "output_type": "stream",
     "text": [
      "Epoch 1 Val: 100%|██████████| 55/55 [00:00<00:00, 166.65it/s]\n"
     ]
    },
    {
     "name": "stdout",
     "output_type": "stream",
     "text": [
      "Epoch 1: Val Loss 143932.8032, Val R2 = -4.124, Val RMSE = 0.653, Val MSE = 0.426, Val MAE = 0.582\n"
     ]
    },
    {
     "name": "stderr",
     "output_type": "stream",
     "text": [
      "100%|██████████| 176/176 [00:04<00:00, 41.17it/s]\n"
     ]
    },
    {
     "name": "stdout",
     "output_type": "stream",
     "text": [
      "Epoch 2: Train Loss 107722.0068, Train R2 = 0.633, Train RMSE = 0.175, Train MSE = 0.031, Train MAE = 0.095\n"
     ]
    },
    {
     "name": "stderr",
     "output_type": "stream",
     "text": [
      "Epoch 2 Val: 100%|██████████| 55/55 [00:00<00:00, 167.40it/s]\n"
     ]
    },
    {
     "name": "stdout",
     "output_type": "stream",
     "text": [
      "Epoch 2: Val Loss 124075.7784, Val R2 = -3.417, Val RMSE = 0.606, Val MSE = 0.367, Val MAE = 0.532\n"
     ]
    },
    {
     "name": "stderr",
     "output_type": "stream",
     "text": [
      "100%|██████████| 176/176 [00:04<00:00, 43.24it/s]\n"
     ]
    },
    {
     "name": "stdout",
     "output_type": "stream",
     "text": [
      "Epoch 3: Train Loss 136636.5278, Train R2 = 0.534, Train RMSE = 0.197, Train MSE = 0.039, Train MAE = 0.108\n"
     ]
    },
    {
     "name": "stderr",
     "output_type": "stream",
     "text": [
      "Epoch 3 Val: 100%|██████████| 55/55 [00:00<00:00, 165.71it/s]\n"
     ]
    },
    {
     "name": "stdout",
     "output_type": "stream",
     "text": [
      "Epoch 3: Val Loss 113967.1667, Val R2 = -3.057, Val RMSE = 0.581, Val MSE = 0.337, Val MAE = 0.504\n"
     ]
    },
    {
     "name": "stderr",
     "output_type": "stream",
     "text": [
      "100%|██████████| 176/176 [00:04<00:00, 42.77it/s]\n"
     ]
    },
    {
     "name": "stdout",
     "output_type": "stream",
     "text": [
      "Epoch 4: Train Loss 127105.5631, Train R2 = 0.570, Train RMSE = 0.189, Train MSE = 0.036, Train MAE = 0.103\n"
     ]
    },
    {
     "name": "stderr",
     "output_type": "stream",
     "text": [
      "Epoch 4 Val: 100%|██████████| 55/55 [00:00<00:00, 175.26it/s]\n"
     ]
    },
    {
     "name": "stdout",
     "output_type": "stream",
     "text": [
      "Epoch 4: Val Loss 121310.4080, Val R2 = -3.318, Val RMSE = 0.599, Val MSE = 0.359, Val MAE = 0.525\n"
     ]
    },
    {
     "name": "stderr",
     "output_type": "stream",
     "text": [
      "100%|██████████| 176/176 [00:04<00:00, 42.13it/s]\n"
     ]
    },
    {
     "name": "stdout",
     "output_type": "stream",
     "text": [
      "Epoch 5: Train Loss 141043.5434, Train R2 = 0.521, Train RMSE = 0.200, Train MSE = 0.040, Train MAE = 0.105\n"
     ]
    },
    {
     "name": "stderr",
     "output_type": "stream",
     "text": [
      "Epoch 5 Val: 100%|██████████| 55/55 [00:00<00:00, 172.98it/s]\n"
     ]
    },
    {
     "name": "stdout",
     "output_type": "stream",
     "text": [
      "Epoch 5: Val Loss 107541.2666, Val R2 = -2.828, Val RMSE = 0.564, Val MSE = 0.318, Val MAE = 0.486\n"
     ]
    },
    {
     "name": "stderr",
     "output_type": "stream",
     "text": [
      "100%|██████████| 176/176 [00:04<00:00, 41.98it/s]\n"
     ]
    },
    {
     "name": "stdout",
     "output_type": "stream",
     "text": [
      "Epoch 6: Train Loss 150096.5244, Train R2 = 0.490, Train RMSE = 0.206, Train MSE = 0.042, Train MAE = 0.110\n"
     ]
    },
    {
     "name": "stderr",
     "output_type": "stream",
     "text": [
      "Epoch 6 Val: 100%|██████████| 55/55 [00:00<00:00, 152.98it/s]\n"
     ]
    },
    {
     "name": "stdout",
     "output_type": "stream",
     "text": [
      "Epoch 6: Val Loss 114484.3404, Val R2 = -3.075, Val RMSE = 0.582, Val MSE = 0.339, Val MAE = 0.508\n"
     ]
    },
    {
     "name": "stderr",
     "output_type": "stream",
     "text": [
      "100%|██████████| 176/176 [00:04<00:00, 40.44it/s]\n"
     ]
    },
    {
     "name": "stdout",
     "output_type": "stream",
     "text": [
      "Epoch 7: Train Loss 144855.2955, Train R2 = 0.507, Train RMSE = 0.203, Train MSE = 0.041, Train MAE = 0.110\n"
     ]
    },
    {
     "name": "stderr",
     "output_type": "stream",
     "text": [
      "Epoch 7 Val: 100%|██████████| 55/55 [00:00<00:00, 167.97it/s]\n"
     ]
    },
    {
     "name": "stdout",
     "output_type": "stream",
     "text": [
      "Epoch 7: Val Loss 120982.5256, Val R2 = -3.306, Val RMSE = 0.598, Val MSE = 0.358, Val MAE = 0.522\n"
     ]
    },
    {
     "name": "stderr",
     "output_type": "stream",
     "text": [
      "100%|██████████| 176/176 [00:04<00:00, 37.30it/s]\n"
     ]
    },
    {
     "name": "stdout",
     "output_type": "stream",
     "text": [
      "Epoch 8: Train Loss 154805.6027, Train R2 = 0.479, Train RMSE = 0.208, Train MSE = 0.043, Train MAE = 0.115\n"
     ]
    },
    {
     "name": "stderr",
     "output_type": "stream",
     "text": [
      "Epoch 8 Val: 100%|██████████| 55/55 [00:00<00:00, 154.62it/s]\n"
     ]
    },
    {
     "name": "stdout",
     "output_type": "stream",
     "text": [
      "Epoch 8: Val Loss 141828.7770, Val R2 = -4.047, Val RMSE = 0.648, Val MSE = 0.420, Val MAE = 0.579\n"
     ]
    },
    {
     "name": "stderr",
     "output_type": "stream",
     "text": [
      "100%|██████████| 176/176 [00:04<00:00, 35.87it/s]\n"
     ]
    },
    {
     "name": "stdout",
     "output_type": "stream",
     "text": [
      "Epoch 9: Train Loss 159760.1245, Train R2 = 0.464, Train RMSE = 0.211, Train MSE = 0.045, Train MAE = 0.116\n"
     ]
    },
    {
     "name": "stderr",
     "output_type": "stream",
     "text": [
      "Epoch 9 Val: 100%|██████████| 55/55 [00:00<00:00, 157.08it/s]\n"
     ]
    },
    {
     "name": "stdout",
     "output_type": "stream",
     "text": [
      "Epoch 9: Val Loss 125276.0224, Val R2 = -3.456, Val RMSE = 0.609, Val MSE = 0.371, Val MAE = 0.535\n"
     ]
    },
    {
     "name": "stderr",
     "output_type": "stream",
     "text": [
      "100%|██████████| 176/176 [00:05<00:00, 35.07it/s]\n"
     ]
    },
    {
     "name": "stdout",
     "output_type": "stream",
     "text": [
      "Epoch 10: Train Loss 170321.5759, Train R2 = 0.420, Train RMSE = 0.220, Train MSE = 0.048, Train MAE = 0.120\n"
     ]
    },
    {
     "name": "stderr",
     "output_type": "stream",
     "text": [
      "Epoch 10 Val: 100%|██████████| 55/55 [00:00<00:00, 144.12it/s]\n"
     ]
    },
    {
     "name": "stdout",
     "output_type": "stream",
     "text": [
      "Epoch 10: Val Loss 110181.8559, Val R2 = -2.921, Val RMSE = 0.571, Val MSE = 0.326, Val MAE = 0.495\n"
     ]
    },
    {
     "name": "stderr",
     "output_type": "stream",
     "text": [
      "100%|██████████| 176/176 [00:05<00:00, 33.91it/s]\n"
     ]
    },
    {
     "name": "stdout",
     "output_type": "stream",
     "text": [
      "Epoch 11: Train Loss 178146.5197, Train R2 = 0.394, Train RMSE = 0.225, Train MSE = 0.050, Train MAE = 0.127\n"
     ]
    },
    {
     "name": "stderr",
     "output_type": "stream",
     "text": [
      "Epoch 11 Val: 100%|██████████| 55/55 [00:00<00:00, 138.80it/s]\n"
     ]
    },
    {
     "name": "stdout",
     "output_type": "stream",
     "text": [
      "Epoch 11: Val Loss 68581.3727, Val R2 = -1.439, Val RMSE = 0.450, Val MSE = 0.203, Val MAE = 0.363\n"
     ]
    },
    {
     "name": "stderr",
     "output_type": "stream",
     "text": [
      "100%|██████████| 176/176 [00:05<00:00, 34.90it/s]\n"
     ]
    },
    {
     "name": "stdout",
     "output_type": "stream",
     "text": [
      "Epoch 12: Train Loss 184484.7694, Train R2 = 0.375, Train RMSE = 0.228, Train MSE = 0.052, Train MAE = 0.132\n"
     ]
    },
    {
     "name": "stderr",
     "output_type": "stream",
     "text": [
      "Epoch 12 Val: 100%|██████████| 55/55 [00:00<00:00, 138.10it/s]\n"
     ]
    },
    {
     "name": "stdout",
     "output_type": "stream",
     "text": [
      "Epoch 12: Val Loss 87258.1819, Val R2 = -2.097, Val RMSE = 0.507, Val MSE = 0.258, Val MAE = 0.427\n"
     ]
    },
    {
     "name": "stderr",
     "output_type": "stream",
     "text": [
      "100%|██████████| 176/176 [00:05<00:00, 34.90it/s]\n"
     ]
    },
    {
     "name": "stdout",
     "output_type": "stream",
     "text": [
      "Epoch 13: Train Loss 201841.1096, Train R2 = 0.319, Train RMSE = 0.238, Train MSE = 0.057, Train MAE = 0.141\n"
     ]
    },
    {
     "name": "stderr",
     "output_type": "stream",
     "text": [
      "Epoch 13 Val: 100%|██████████| 55/55 [00:00<00:00, 142.10it/s]\n"
     ]
    },
    {
     "name": "stdout",
     "output_type": "stream",
     "text": [
      "Epoch 13: Val Loss 66185.5199, Val R2 = -1.344, Val RMSE = 0.441, Val MSE = 0.195, Val MAE = 0.359\n"
     ]
    },
    {
     "name": "stderr",
     "output_type": "stream",
     "text": [
      "100%|██████████| 176/176 [00:05<00:00, 35.17it/s]\n"
     ]
    },
    {
     "name": "stdout",
     "output_type": "stream",
     "text": [
      "Epoch 14: Train Loss 194088.2968, Train R2 = 0.343, Train RMSE = 0.234, Train MSE = 0.055, Train MAE = 0.140\n"
     ]
    },
    {
     "name": "stderr",
     "output_type": "stream",
     "text": [
      "Epoch 14 Val: 100%|██████████| 55/55 [00:00<00:00, 136.97it/s]\n"
     ]
    },
    {
     "name": "stdout",
     "output_type": "stream",
     "text": [
      "Epoch 14: Val Loss 72091.1355, Val R2 = -1.555, Val RMSE = 0.461, Val MSE = 0.212, Val MAE = 0.381\n"
     ]
    },
    {
     "name": "stderr",
     "output_type": "stream",
     "text": [
      "100%|██████████| 176/176 [00:04<00:00, 35.60it/s]\n"
     ]
    },
    {
     "name": "stdout",
     "output_type": "stream",
     "text": [
      "Epoch 15: Train Loss 191390.3285, Train R2 = 0.354, Train RMSE = 0.232, Train MSE = 0.054, Train MAE = 0.144\n"
     ]
    },
    {
     "name": "stderr",
     "output_type": "stream",
     "text": [
      "Epoch 15 Val: 100%|██████████| 55/55 [00:00<00:00, 131.42it/s]\n"
     ]
    },
    {
     "name": "stdout",
     "output_type": "stream",
     "text": [
      "Epoch 15: Val Loss 66050.8250, Val R2 = -1.327, Val RMSE = 0.440, Val MSE = 0.193, Val MAE = 0.365\n"
     ]
    },
    {
     "name": "stderr",
     "output_type": "stream",
     "text": [
      "100%|██████████| 176/176 [00:05<00:00, 32.74it/s]\n"
     ]
    },
    {
     "name": "stdout",
     "output_type": "stream",
     "text": [
      "Epoch 16: Train Loss 172139.5088, Train R2 = 0.423, Train RMSE = 0.219, Train MSE = 0.048, Train MAE = 0.138\n"
     ]
    },
    {
     "name": "stderr",
     "output_type": "stream",
     "text": [
      "Epoch 16 Val: 100%|██████████| 55/55 [00:00<00:00, 135.33it/s]\n"
     ]
    },
    {
     "name": "stdout",
     "output_type": "stream",
     "text": [
      "Epoch 16: Val Loss 69018.2804, Val R2 = -1.420, Val RMSE = 0.449, Val MSE = 0.201, Val MAE = 0.374\n"
     ]
    },
    {
     "name": "stderr",
     "output_type": "stream",
     "text": [
      "100%|██████████| 176/176 [00:05<00:00, 32.51it/s]\n"
     ]
    },
    {
     "name": "stdout",
     "output_type": "stream",
     "text": [
      "Epoch 17: Train Loss 165174.3617, Train R2 = 0.446, Train RMSE = 0.215, Train MSE = 0.046, Train MAE = 0.133\n"
     ]
    },
    {
     "name": "stderr",
     "output_type": "stream",
     "text": [
      "Epoch 17 Val: 100%|██████████| 55/55 [00:00<00:00, 136.68it/s]\n"
     ]
    },
    {
     "name": "stdout",
     "output_type": "stream",
     "text": [
      "Epoch 17: Val Loss 87408.9796, Val R2 = -2.080, Val RMSE = 0.506, Val MSE = 0.256, Val MAE = 0.437\n"
     ]
    },
    {
     "name": "stderr",
     "output_type": "stream",
     "text": [
      "100%|██████████| 176/176 [00:05<00:00, 31.49it/s]\n"
     ]
    },
    {
     "name": "stdout",
     "output_type": "stream",
     "text": [
      "Epoch 18: Train Loss 161617.2246, Train R2 = 0.461, Train RMSE = 0.212, Train MSE = 0.045, Train MAE = 0.133\n"
     ]
    },
    {
     "name": "stderr",
     "output_type": "stream",
     "text": [
      "Epoch 18 Val: 100%|██████████| 55/55 [00:00<00:00, 120.27it/s]\n"
     ]
    },
    {
     "name": "stdout",
     "output_type": "stream",
     "text": [
      "Epoch 18: Val Loss 70970.4400, Val R2 = -1.486, Val RMSE = 0.455, Val MSE = 0.207, Val MAE = 0.385\n"
     ]
    },
    {
     "name": "stderr",
     "output_type": "stream",
     "text": [
      "100%|██████████| 176/176 [00:05<00:00, 29.82it/s]\n"
     ]
    },
    {
     "name": "stdout",
     "output_type": "stream",
     "text": [
      "Epoch 19: Train Loss 152444.3460, Train R2 = 0.489, Train RMSE = 0.206, Train MSE = 0.043, Train MAE = 0.129\n"
     ]
    },
    {
     "name": "stderr",
     "output_type": "stream",
     "text": [
      "Epoch 19 Val: 100%|██████████| 55/55 [00:00<00:00, 136.25it/s]\n"
     ]
    },
    {
     "name": "stdout",
     "output_type": "stream",
     "text": [
      "Epoch 19: Val Loss 86305.4896, Val R2 = -2.014, Val RMSE = 0.501, Val MSE = 0.251, Val MAE = 0.436\n"
     ]
    },
    {
     "name": "stderr",
     "output_type": "stream",
     "text": [
      "100%|██████████| 176/176 [00:06<00:00, 29.30it/s]\n"
     ]
    },
    {
     "name": "stdout",
     "output_type": "stream",
     "text": [
      "Epoch 20: Train Loss 148907.8527, Train R2 = 0.499, Train RMSE = 0.204, Train MSE = 0.042, Train MAE = 0.125\n"
     ]
    },
    {
     "name": "stderr",
     "output_type": "stream",
     "text": [
      "Epoch 20 Val: 100%|██████████| 55/55 [00:00<00:00, 129.56it/s]\n"
     ]
    },
    {
     "name": "stdout",
     "output_type": "stream",
     "text": [
      "Epoch 20: Val Loss 64040.2372, Val R2 = -1.239, Val RMSE = 0.432, Val MSE = 0.186, Val MAE = 0.361\n"
     ]
    },
    {
     "name": "stderr",
     "output_type": "stream",
     "text": [
      "100%|██████████| 176/176 [00:05<00:00, 29.71it/s]\n"
     ]
    },
    {
     "name": "stdout",
     "output_type": "stream",
     "text": [
      "Epoch 21: Train Loss 108399.7993, Train R2 = 0.632, Train RMSE = 0.175, Train MSE = 0.031, Train MAE = 0.107\n"
     ]
    },
    {
     "name": "stderr",
     "output_type": "stream",
     "text": [
      "Epoch 21 Val: 100%|██████████| 55/55 [00:00<00:00, 130.76it/s]\n"
     ]
    },
    {
     "name": "stdout",
     "output_type": "stream",
     "text": [
      "Epoch 21: Val Loss 55303.3037, Val R2 = -0.886, Val RMSE = 0.396, Val MSE = 0.157, Val MAE = 0.329\n"
     ]
    },
    {
     "name": "stderr",
     "output_type": "stream",
     "text": [
      "100%|██████████| 176/176 [00:06<00:00, 28.45it/s]\n"
     ]
    },
    {
     "name": "stdout",
     "output_type": "stream",
     "text": [
      "Epoch 22: Train Loss 82453.8004, Train R2 = 0.720, Train RMSE = 0.153, Train MSE = 0.023, Train MAE = 0.094\n"
     ]
    },
    {
     "name": "stderr",
     "output_type": "stream",
     "text": [
      "Epoch 22 Val: 100%|██████████| 55/55 [00:00<00:00, 126.95it/s]\n"
     ]
    },
    {
     "name": "stdout",
     "output_type": "stream",
     "text": [
      "Epoch 22: Val Loss 85826.6401, Val R2 = -1.989, Val RMSE = 0.499, Val MSE = 0.249, Val MAE = 0.429\n"
     ]
    },
    {
     "name": "stderr",
     "output_type": "stream",
     "text": [
      "100%|██████████| 176/176 [00:06<00:00, 28.59it/s]\n"
     ]
    },
    {
     "name": "stdout",
     "output_type": "stream",
     "text": [
      "Epoch 23: Train Loss 90588.7488, Train R2 = 0.695, Train RMSE = 0.159, Train MSE = 0.025, Train MAE = 0.098\n"
     ]
    },
    {
     "name": "stderr",
     "output_type": "stream",
     "text": [
      "Epoch 23 Val: 100%|██████████| 55/55 [00:00<00:00, 125.08it/s]\n"
     ]
    },
    {
     "name": "stdout",
     "output_type": "stream",
     "text": [
      "Epoch 23: Val Loss 20325.0087, Val R2 = 0.407, Val RMSE = 0.222, Val MSE = 0.049, Val MAE = 0.161\n"
     ]
    },
    {
     "name": "stderr",
     "output_type": "stream",
     "text": [
      "100%|██████████| 176/176 [00:06<00:00, 26.91it/s]\n"
     ]
    },
    {
     "name": "stdout",
     "output_type": "stream",
     "text": [
      "Epoch 24: Train Loss 85110.8288, Train R2 = 0.713, Train RMSE = 0.155, Train MSE = 0.024, Train MAE = 0.094\n"
     ]
    },
    {
     "name": "stderr",
     "output_type": "stream",
     "text": [
      "Epoch 24 Val: 100%|██████████| 55/55 [00:00<00:00, 118.13it/s]\n"
     ]
    },
    {
     "name": "stdout",
     "output_type": "stream",
     "text": [
      "Epoch 24: Val Loss 29694.6584, Val R2 = 0.066, Val RMSE = 0.279, Val MSE = 0.078, Val MAE = 0.234\n"
     ]
    },
    {
     "name": "stderr",
     "output_type": "stream",
     "text": [
      "100%|██████████| 176/176 [00:06<00:00, 26.34it/s]\n"
     ]
    },
    {
     "name": "stdout",
     "output_type": "stream",
     "text": [
      "Epoch 25: Train Loss 69510.9396, Train R2 = 0.765, Train RMSE = 0.140, Train MSE = 0.020, Train MAE = 0.089\n"
     ]
    },
    {
     "name": "stderr",
     "output_type": "stream",
     "text": [
      "Epoch 25 Val: 100%|██████████| 55/55 [00:00<00:00, 125.18it/s]\n"
     ]
    },
    {
     "name": "stdout",
     "output_type": "stream",
     "text": [
      "Epoch 25: Val Loss 70163.8309, Val R2 = -1.311, Val RMSE = 0.438, Val MSE = 0.192, Val MAE = 0.371\n"
     ]
    },
    {
     "name": "stderr",
     "output_type": "stream",
     "text": [
      "100%|██████████| 176/176 [00:06<00:00, 25.62it/s]\n"
     ]
    },
    {
     "name": "stdout",
     "output_type": "stream",
     "text": [
      "Epoch 26: Train Loss 70059.8861, Train R2 = 0.766, Train RMSE = 0.140, Train MSE = 0.020, Train MAE = 0.084\n"
     ]
    },
    {
     "name": "stderr",
     "output_type": "stream",
     "text": [
      "Epoch 26 Val: 100%|██████████| 55/55 [00:00<00:00, 112.53it/s]\n"
     ]
    },
    {
     "name": "stdout",
     "output_type": "stream",
     "text": [
      "Epoch 26: Val Loss 50066.1018, Val R2 = -0.422, Val RMSE = 0.344, Val MSE = 0.118, Val MAE = 0.279\n"
     ]
    },
    {
     "name": "stderr",
     "output_type": "stream",
     "text": [
      "100%|██████████| 176/176 [00:06<00:00, 25.64it/s]\n"
     ]
    },
    {
     "name": "stdout",
     "output_type": "stream",
     "text": [
      "Epoch 27: Train Loss 63227.1637, Train R2 = 0.785, Train RMSE = 0.134, Train MSE = 0.018, Train MAE = 0.089\n"
     ]
    },
    {
     "name": "stderr",
     "output_type": "stream",
     "text": [
      "Epoch 27 Val: 100%|██████████| 55/55 [00:00<00:00, 109.85it/s]\n"
     ]
    },
    {
     "name": "stdout",
     "output_type": "stream",
     "text": [
      "Epoch 27: Val Loss 28870.2554, Val R2 = 0.205, Val RMSE = 0.257, Val MSE = 0.066, Val MAE = 0.203\n"
     ]
    },
    {
     "name": "stderr",
     "output_type": "stream",
     "text": [
      "100%|██████████| 176/176 [00:07<00:00, 24.21it/s]\n"
     ]
    },
    {
     "name": "stdout",
     "output_type": "stream",
     "text": [
      "Epoch 28: Train Loss 72913.6855, Train R2 = 0.757, Train RMSE = 0.142, Train MSE = 0.020, Train MAE = 0.082\n"
     ]
    },
    {
     "name": "stderr",
     "output_type": "stream",
     "text": [
      "Epoch 28 Val: 100%|██████████| 55/55 [00:00<00:00, 116.80it/s]\n"
     ]
    },
    {
     "name": "stdout",
     "output_type": "stream",
     "text": [
      "Epoch 28: Val Loss 71118.0365, Val R2 = -1.192, Val RMSE = 0.427, Val MSE = 0.182, Val MAE = 0.351\n"
     ]
    },
    {
     "name": "stderr",
     "output_type": "stream",
     "text": [
      "100%|██████████| 176/176 [00:06<00:00, 25.44it/s]\n"
     ]
    },
    {
     "name": "stdout",
     "output_type": "stream",
     "text": [
      "Epoch 29: Train Loss 58113.9857, Train R2 = 0.804, Train RMSE = 0.128, Train MSE = 0.016, Train MAE = 0.081\n"
     ]
    },
    {
     "name": "stderr",
     "output_type": "stream",
     "text": [
      "Epoch 29 Val: 100%|██████████| 55/55 [00:00<00:00, 108.78it/s]\n"
     ]
    },
    {
     "name": "stdout",
     "output_type": "stream",
     "text": [
      "Epoch 29: Val Loss 28001.5726, Val R2 = 0.197, Val RMSE = 0.258, Val MSE = 0.067, Val MAE = 0.194\n"
     ]
    },
    {
     "name": "stderr",
     "output_type": "stream",
     "text": [
      "100%|██████████| 176/176 [00:07<00:00, 24.51it/s]\n"
     ]
    },
    {
     "name": "stdout",
     "output_type": "stream",
     "text": [
      "Epoch 30: Train Loss 214817.4729, Train R2 = 0.292, Train RMSE = 0.243, Train MSE = 0.059, Train MAE = 0.175\n"
     ]
    },
    {
     "name": "stderr",
     "output_type": "stream",
     "text": [
      "Epoch 30 Val: 100%|██████████| 55/55 [00:00<00:00, 115.42it/s]\n"
     ]
    },
    {
     "name": "stdout",
     "output_type": "stream",
     "text": [
      "Epoch 30: Val Loss 67989.4561, Val R2 = -1.053, Val RMSE = 0.413, Val MSE = 0.171, Val MAE = 0.351\n"
     ]
    },
    {
     "name": "stderr",
     "output_type": "stream",
     "text": [
      "100%|██████████| 176/176 [00:07<00:00, 23.52it/s]\n"
     ]
    },
    {
     "name": "stdout",
     "output_type": "stream",
     "text": [
      "Epoch 31: Train Loss 107230.7887, Train R2 = 0.665, Train RMSE = 0.167, Train MSE = 0.028, Train MAE = 0.128\n"
     ]
    },
    {
     "name": "stderr",
     "output_type": "stream",
     "text": [
      "Epoch 31 Val: 100%|██████████| 55/55 [00:00<00:00, 110.27it/s]\n"
     ]
    },
    {
     "name": "stdout",
     "output_type": "stream",
     "text": [
      "Epoch 31: Val Loss 146689.1715, Val R2 = -3.812, Val RMSE = 0.633, Val MSE = 0.400, Val MAE = 0.599\n"
     ]
    },
    {
     "name": "stderr",
     "output_type": "stream",
     "text": [
      "100%|██████████| 176/176 [00:07<00:00, 24.00it/s]\n"
     ]
    },
    {
     "name": "stdout",
     "output_type": "stream",
     "text": [
      "Epoch 32: Train Loss 85989.8782, Train R2 = 0.733, Train RMSE = 0.149, Train MSE = 0.022, Train MAE = 0.115\n"
     ]
    },
    {
     "name": "stderr",
     "output_type": "stream",
     "text": [
      "Epoch 32 Val: 100%|██████████| 55/55 [00:00<00:00, 113.08it/s]\n"
     ]
    },
    {
     "name": "stdout",
     "output_type": "stream",
     "text": [
      "Epoch 32: Val Loss 187077.3327, Val R2 = -5.231, Val RMSE = 0.720, Val MSE = 0.518, Val MAE = 0.690\n"
     ]
    },
    {
     "name": "stderr",
     "output_type": "stream",
     "text": [
      "100%|██████████| 176/176 [00:07<00:00, 24.26it/s]\n"
     ]
    },
    {
     "name": "stdout",
     "output_type": "stream",
     "text": [
      "Epoch 33: Train Loss 73154.6644, Train R2 = 0.771, Train RMSE = 0.138, Train MSE = 0.019, Train MAE = 0.105\n"
     ]
    },
    {
     "name": "stderr",
     "output_type": "stream",
     "text": [
      "Epoch 33 Val: 100%|██████████| 55/55 [00:00<00:00, 109.28it/s]\n"
     ]
    },
    {
     "name": "stdout",
     "output_type": "stream",
     "text": [
      "Epoch 33: Val Loss 179293.8752, Val R2 = -4.949, Val RMSE = 0.703, Val MSE = 0.495, Val MAE = 0.673\n"
     ]
    },
    {
     "name": "stderr",
     "output_type": "stream",
     "text": [
      "100%|██████████| 176/176 [00:07<00:00, 24.28it/s]\n"
     ]
    },
    {
     "name": "stdout",
     "output_type": "stream",
     "text": [
      "Epoch 34: Train Loss 63729.3953, Train R2 = 0.796, Train RMSE = 0.130, Train MSE = 0.017, Train MAE = 0.101\n"
     ]
    },
    {
     "name": "stderr",
     "output_type": "stream",
     "text": [
      "Epoch 34 Val: 100%|██████████| 55/55 [00:00<00:00, 114.68it/s]\n"
     ]
    },
    {
     "name": "stdout",
     "output_type": "stream",
     "text": [
      "Epoch 34: Val Loss 204548.2679, Val R2 = -5.866, Val RMSE = 0.756, Val MSE = 0.571, Val MAE = 0.726\n"
     ]
    },
    {
     "name": "stderr",
     "output_type": "stream",
     "text": [
      "100%|██████████| 176/176 [00:07<00:00, 24.02it/s]\n"
     ]
    },
    {
     "name": "stdout",
     "output_type": "stream",
     "text": [
      "Epoch 35: Train Loss 53927.2693, Train R2 = 0.821, Train RMSE = 0.122, Train MSE = 0.015, Train MAE = 0.092\n"
     ]
    },
    {
     "name": "stderr",
     "output_type": "stream",
     "text": [
      "Epoch 35 Val: 100%|██████████| 55/55 [00:00<00:00, 109.76it/s]\n"
     ]
    },
    {
     "name": "stdout",
     "output_type": "stream",
     "text": [
      "Epoch 35: Val Loss 200396.1467, Val R2 = -5.726, Val RMSE = 0.748, Val MSE = 0.559, Val MAE = 0.718\n"
     ]
    },
    {
     "name": "stderr",
     "output_type": "stream",
     "text": [
      "100%|██████████| 176/176 [00:07<00:00, 22.85it/s]\n"
     ]
    },
    {
     "name": "stdout",
     "output_type": "stream",
     "text": [
      "Epoch 36: Train Loss 55490.0337, Train R2 = 0.824, Train RMSE = 0.121, Train MSE = 0.015, Train MAE = 0.096\n"
     ]
    },
    {
     "name": "stderr",
     "output_type": "stream",
     "text": [
      "Epoch 36 Val: 100%|██████████| 55/55 [00:00<00:00, 107.08it/s]\n"
     ]
    },
    {
     "name": "stdout",
     "output_type": "stream",
     "text": [
      "Epoch 36: Val Loss 224261.6214, Val R2 = -6.556, Val RMSE = 0.793, Val MSE = 0.628, Val MAE = 0.763\n"
     ]
    },
    {
     "name": "stderr",
     "output_type": "stream",
     "text": [
      "100%|██████████| 176/176 [00:07<00:00, 23.24it/s]\n"
     ]
    },
    {
     "name": "stdout",
     "output_type": "stream",
     "text": [
      "Epoch 37: Train Loss 48261.9410, Train R2 = 0.845, Train RMSE = 0.113, Train MSE = 0.013, Train MAE = 0.087\n"
     ]
    },
    {
     "name": "stderr",
     "output_type": "stream",
     "text": [
      "Epoch 37 Val: 100%|██████████| 55/55 [00:00<00:00, 94.54it/s]\n"
     ]
    },
    {
     "name": "stdout",
     "output_type": "stream",
     "text": [
      "Epoch 37: Val Loss 221530.7821, Val R2 = -6.455, Val RMSE = 0.787, Val MSE = 0.620, Val MAE = 0.758\n"
     ]
    },
    {
     "name": "stderr",
     "output_type": "stream",
     "text": [
      "100%|██████████| 176/176 [00:07<00:00, 22.94it/s]\n"
     ]
    },
    {
     "name": "stdout",
     "output_type": "stream",
     "text": [
      "Epoch 38: Train Loss 46650.3732, Train R2 = 0.849, Train RMSE = 0.112, Train MSE = 0.013, Train MAE = 0.085\n"
     ]
    },
    {
     "name": "stderr",
     "output_type": "stream",
     "text": [
      "Epoch 38 Val: 100%|██████████| 55/55 [00:00<00:00, 105.98it/s]\n"
     ]
    },
    {
     "name": "stdout",
     "output_type": "stream",
     "text": [
      "Epoch 38: Val Loss 204869.6678, Val R2 = -5.865, Val RMSE = 0.756, Val MSE = 0.571, Val MAE = 0.724\n"
     ]
    },
    {
     "name": "stderr",
     "output_type": "stream",
     "text": [
      "100%|██████████| 176/176 [00:07<00:00, 23.71it/s]\n"
     ]
    },
    {
     "name": "stdout",
     "output_type": "stream",
     "text": [
      "Epoch 39: Train Loss 45315.7974, Train R2 = 0.846, Train RMSE = 0.113, Train MSE = 0.013, Train MAE = 0.084\n"
     ]
    },
    {
     "name": "stderr",
     "output_type": "stream",
     "text": [
      "Epoch 39 Val: 100%|██████████| 55/55 [00:00<00:00, 112.46it/s]\n"
     ]
    },
    {
     "name": "stdout",
     "output_type": "stream",
     "text": [
      "Epoch 39: Val Loss 198227.5648, Val R2 = -5.631, Val RMSE = 0.743, Val MSE = 0.551, Val MAE = 0.711\n"
     ]
    },
    {
     "name": "stderr",
     "output_type": "stream",
     "text": [
      "100%|██████████| 176/176 [00:07<00:00, 22.97it/s]\n"
     ]
    },
    {
     "name": "stdout",
     "output_type": "stream",
     "text": [
      "Epoch 40: Train Loss 43072.4511, Train R2 = 0.858, Train RMSE = 0.109, Train MSE = 0.012, Train MAE = 0.083\n"
     ]
    },
    {
     "name": "stderr",
     "output_type": "stream",
     "text": [
      "Epoch 40 Val: 100%|██████████| 55/55 [00:00<00:00, 99.74it/s] \n"
     ]
    },
    {
     "name": "stdout",
     "output_type": "stream",
     "text": [
      "Epoch 40: Val Loss 191709.0916, Val R2 = -5.400, Val RMSE = 0.730, Val MSE = 0.532, Val MAE = 0.697\n"
     ]
    },
    {
     "name": "stderr",
     "output_type": "stream",
     "text": [
      "100%|██████████| 176/176 [00:07<00:00, 22.02it/s]\n"
     ]
    },
    {
     "name": "stdout",
     "output_type": "stream",
     "text": [
      "Epoch 41: Train Loss 42100.1152, Train R2 = 0.862, Train RMSE = 0.107, Train MSE = 0.011, Train MAE = 0.081\n"
     ]
    },
    {
     "name": "stderr",
     "output_type": "stream",
     "text": [
      "Epoch 41 Val: 100%|██████████| 55/55 [00:00<00:00, 108.45it/s]\n"
     ]
    },
    {
     "name": "stdout",
     "output_type": "stream",
     "text": [
      "Epoch 41: Val Loss 186712.5683, Val R2 = -5.223, Val RMSE = 0.719, Val MSE = 0.517, Val MAE = 0.686\n"
     ]
    },
    {
     "name": "stderr",
     "output_type": "stream",
     "text": [
      "100%|██████████| 176/176 [00:08<00:00, 21.85it/s]\n"
     ]
    },
    {
     "name": "stdout",
     "output_type": "stream",
     "text": [
      "Epoch 42: Train Loss 43386.4609, Train R2 = 0.862, Train RMSE = 0.107, Train MSE = 0.011, Train MAE = 0.080\n"
     ]
    },
    {
     "name": "stderr",
     "output_type": "stream",
     "text": [
      "Epoch 42 Val: 100%|██████████| 55/55 [00:00<00:00, 102.93it/s]\n"
     ]
    },
    {
     "name": "stdout",
     "output_type": "stream",
     "text": [
      "Epoch 42: Val Loss 188945.1915, Val R2 = -5.303, Val RMSE = 0.724, Val MSE = 0.524, Val MAE = 0.691\n"
     ]
    },
    {
     "name": "stderr",
     "output_type": "stream",
     "text": [
      "100%|██████████| 176/176 [00:08<00:00, 20.90it/s]\n"
     ]
    },
    {
     "name": "stdout",
     "output_type": "stream",
     "text": [
      "Epoch 43: Train Loss 39714.6591, Train R2 = 0.867, Train RMSE = 0.105, Train MSE = 0.011, Train MAE = 0.080\n"
     ]
    },
    {
     "name": "stderr",
     "output_type": "stream",
     "text": [
      "Epoch 43 Val: 100%|██████████| 55/55 [00:00<00:00, 101.93it/s]\n"
     ]
    },
    {
     "name": "stdout",
     "output_type": "stream",
     "text": [
      "Epoch 43: Val Loss 188204.3330, Val R2 = -5.277, Val RMSE = 0.722, Val MSE = 0.522, Val MAE = 0.690\n"
     ]
    },
    {
     "name": "stderr",
     "output_type": "stream",
     "text": [
      "100%|██████████| 176/176 [00:08<00:00, 21.12it/s]\n"
     ]
    },
    {
     "name": "stdout",
     "output_type": "stream",
     "text": [
      "Epoch 44: Train Loss 40538.6036, Train R2 = 0.870, Train RMSE = 0.104, Train MSE = 0.011, Train MAE = 0.078\n"
     ]
    },
    {
     "name": "stderr",
     "output_type": "stream",
     "text": [
      "Epoch 44 Val: 100%|██████████| 55/55 [00:00<00:00, 94.62it/s]\n"
     ]
    },
    {
     "name": "stdout",
     "output_type": "stream",
     "text": [
      "Epoch 44: Val Loss 187519.0420, Val R2 = -5.252, Val RMSE = 0.721, Val MSE = 0.520, Val MAE = 0.688\n"
     ]
    },
    {
     "name": "stderr",
     "output_type": "stream",
     "text": [
      "100%|██████████| 176/176 [00:08<00:00, 21.19it/s]\n"
     ]
    },
    {
     "name": "stdout",
     "output_type": "stream",
     "text": [
      "Epoch 45: Train Loss 46905.7551, Train R2 = 0.857, Train RMSE = 0.109, Train MSE = 0.012, Train MAE = 0.081\n"
     ]
    },
    {
     "name": "stderr",
     "output_type": "stream",
     "text": [
      "Epoch 45 Val: 100%|██████████| 55/55 [00:00<00:00, 100.51it/s]\n"
     ]
    },
    {
     "name": "stdout",
     "output_type": "stream",
     "text": [
      "Epoch 45: Val Loss 186209.3583, Val R2 = -5.206, Val RMSE = 0.718, Val MSE = 0.516, Val MAE = 0.685\n"
     ]
    },
    {
     "name": "stderr",
     "output_type": "stream",
     "text": [
      "100%|██████████| 176/176 [00:08<00:00, 21.16it/s]\n"
     ]
    },
    {
     "name": "stdout",
     "output_type": "stream",
     "text": [
      "Epoch 46: Train Loss 43381.0706, Train R2 = 0.862, Train RMSE = 0.107, Train MSE = 0.011, Train MAE = 0.081\n"
     ]
    },
    {
     "name": "stderr",
     "output_type": "stream",
     "text": [
      "Epoch 46 Val: 100%|██████████| 55/55 [00:00<00:00, 99.10it/s] \n"
     ]
    },
    {
     "name": "stdout",
     "output_type": "stream",
     "text": [
      "Epoch 46: Val Loss 185926.4141, Val R2 = -5.196, Val RMSE = 0.718, Val MSE = 0.515, Val MAE = 0.685\n"
     ]
    },
    {
     "name": "stderr",
     "output_type": "stream",
     "text": [
      "100%|██████████| 176/176 [00:08<00:00, 21.26it/s]\n"
     ]
    },
    {
     "name": "stdout",
     "output_type": "stream",
     "text": [
      "Epoch 47: Train Loss 41436.8123, Train R2 = 0.864, Train RMSE = 0.106, Train MSE = 0.011, Train MAE = 0.080\n"
     ]
    },
    {
     "name": "stderr",
     "output_type": "stream",
     "text": [
      "Epoch 47 Val: 100%|██████████| 55/55 [00:00<00:00, 97.67it/s] \n"
     ]
    },
    {
     "name": "stdout",
     "output_type": "stream",
     "text": [
      "Epoch 47: Val Loss 185408.9236, Val R2 = -5.178, Val RMSE = 0.717, Val MSE = 0.514, Val MAE = 0.684\n"
     ]
    },
    {
     "name": "stderr",
     "output_type": "stream",
     "text": [
      "100%|██████████| 176/176 [00:08<00:00, 20.88it/s]\n"
     ]
    },
    {
     "name": "stdout",
     "output_type": "stream",
     "text": [
      "Epoch 48: Train Loss 40976.0778, Train R2 = 0.863, Train RMSE = 0.107, Train MSE = 0.011, Train MAE = 0.081\n"
     ]
    },
    {
     "name": "stderr",
     "output_type": "stream",
     "text": [
      "Epoch 48 Val: 100%|██████████| 55/55 [00:00<00:00, 96.71it/s]\n"
     ]
    },
    {
     "name": "stdout",
     "output_type": "stream",
     "text": [
      "Epoch 48: Val Loss 185628.3906, Val R2 = -5.186, Val RMSE = 0.717, Val MSE = 0.514, Val MAE = 0.684\n"
     ]
    },
    {
     "name": "stderr",
     "output_type": "stream",
     "text": [
      "100%|██████████| 176/176 [00:09<00:00, 18.00it/s]\n"
     ]
    },
    {
     "name": "stdout",
     "output_type": "stream",
     "text": [
      "Epoch 49: Train Loss 41343.3753, Train R2 = 0.862, Train RMSE = 0.107, Train MSE = 0.011, Train MAE = 0.080\n"
     ]
    },
    {
     "name": "stderr",
     "output_type": "stream",
     "text": [
      "Epoch 49 Val: 100%|██████████| 55/55 [00:00<00:00, 98.01it/s]\n"
     ]
    },
    {
     "name": "stdout",
     "output_type": "stream",
     "text": [
      "Epoch 49: Val Loss 185574.9574, Val R2 = -5.184, Val RMSE = 0.717, Val MSE = 0.514, Val MAE = 0.684\n"
     ]
    },
    {
     "name": "stderr",
     "output_type": "stream",
     "text": [
      "100%|██████████| 176/176 [00:09<00:00, 18.32it/s]\n"
     ]
    },
    {
     "name": "stdout",
     "output_type": "stream",
     "text": [
      "Epoch 50: Train Loss 39964.0290, Train R2 = 0.869, Train RMSE = 0.104, Train MSE = 0.011, Train MAE = 0.079\n"
     ]
    },
    {
     "name": "stderr",
     "output_type": "stream",
     "text": [
      "Epoch 50 Val: 100%|██████████| 55/55 [00:00<00:00, 93.78it/s]"
     ]
    },
    {
     "name": "stdout",
     "output_type": "stream",
     "text": [
      "Epoch 50: Val Loss 185506.4244, Val R2 = -5.182, Val RMSE = 0.717, Val MSE = 0.514, Val MAE = 0.684\n"
     ]
    },
    {
     "name": "stderr",
     "output_type": "stream",
     "text": [
      "\n"
     ]
    },
    {
     "data": {
      "text/plain": [
       "{'train_loss': [105164.99014004794,\n",
       "  107722.00683732466,\n",
       "  136636.52776544745,\n",
       "  127105.56311312589,\n",
       "  141043.54344315964,\n",
       "  150096.52437799628,\n",
       "  144855.29551835495,\n",
       "  154805.60268887607,\n",
       "  159760.1245172674,\n",
       "  170321.57593328302,\n",
       "  178146.51969216086,\n",
       "  184484.7693980824,\n",
       "  201841.10957475143,\n",
       "  194088.2968084162,\n",
       "  191390.3285328258,\n",
       "  172139.50877241654,\n",
       "  165174.3616582697,\n",
       "  161617.2245871804,\n",
       "  152444.34598055753,\n",
       "  148907.85265974564,\n",
       "  108399.79931224477,\n",
       "  82453.80036232689,\n",
       "  90588.74879732999,\n",
       "  85110.82878667657,\n",
       "  69510.9396126487,\n",
       "  70059.88607788086,\n",
       "  63227.16371154785,\n",
       "  72913.68551774458,\n",
       "  58113.9856782393,\n",
       "  214817.47288097034,\n",
       "  107230.78869074042,\n",
       "  85989.87822376598,\n",
       "  73154.66443425958,\n",
       "  63729.395283092155,\n",
       "  53927.26927601208,\n",
       "  55490.03374134411,\n",
       "  48261.940992875534,\n",
       "  46650.37316894531,\n",
       "  45315.79741044478,\n",
       "  43072.45113580877,\n",
       "  42100.1152232777,\n",
       "  43386.46087923917,\n",
       "  39714.65908258611,\n",
       "  40538.60359330611,\n",
       "  46905.75513250178,\n",
       "  43381.07057883523,\n",
       "  41436.81231134588,\n",
       "  40976.07783369585,\n",
       "  41343.37534956499,\n",
       "  39964.02904718572],\n",
       " 'train_r2': [0.6417349213740291,\n",
       "  0.6333915883071384,\n",
       "  0.5344915650684696,\n",
       "  0.56971084517306,\n",
       "  0.5206210084874331,\n",
       "  0.489935152474522,\n",
       "  0.5071470266530904,\n",
       "  0.4791553676968825,\n",
       "  0.463989583184207,\n",
       "  0.4203154280027246,\n",
       "  0.3942264025436266,\n",
       "  0.37533989515502086,\n",
       "  0.31908925383228026,\n",
       "  0.34261747203842485,\n",
       "  0.3543504634661935,\n",
       "  0.4229507747536815,\n",
       "  0.4456191824349416,\n",
       "  0.4611091131863868,\n",
       "  0.4888773545416004,\n",
       "  0.4993866077104482,\n",
       "  0.6318532820548886,\n",
       "  0.7197611254633862,\n",
       "  0.6949526314091145,\n",
       "  0.7133136304490941,\n",
       "  0.7652426611435768,\n",
       "  0.7657422857303473,\n",
       "  0.7850942526969316,\n",
       "  0.7565651013319481,\n",
       "  0.803727792876266,\n",
       "  0.29249360735638874,\n",
       "  0.6646172446800411,\n",
       "  0.7327150653579475,\n",
       "  0.7706922544884065,\n",
       "  0.7962794440320672,\n",
       "  0.8211817593526711,\n",
       "  0.8242552631240683,\n",
       "  0.8454244067830942,\n",
       "  0.8494339965192146,\n",
       "  0.8463439588970938,\n",
       "  0.8578518944865092,\n",
       "  0.8622482223303806,\n",
       "  0.8620323285320978,\n",
       "  0.8671494710116069,\n",
       "  0.8697061131958501,\n",
       "  0.8571612810227259,\n",
       "  0.8621777718589076,\n",
       "  0.8643322454242723,\n",
       "  0.8626337631653707,\n",
       "  0.8623504278218699,\n",
       "  0.8689846429219429],\n",
       " 'train_mae': [0.0967914,\n",
       "  0.09499497,\n",
       "  0.10761491,\n",
       "  0.10287271,\n",
       "  0.105028085,\n",
       "  0.11020044,\n",
       "  0.10977194,\n",
       "  0.11536283,\n",
       "  0.11602023,\n",
       "  0.12016938,\n",
       "  0.12657796,\n",
       "  0.1321306,\n",
       "  0.14074829,\n",
       "  0.13967338,\n",
       "  0.14436635,\n",
       "  0.1379256,\n",
       "  0.13268733,\n",
       "  0.13330582,\n",
       "  0.12882423,\n",
       "  0.124889456,\n",
       "  0.107433125,\n",
       "  0.09439618,\n",
       "  0.0975063,\n",
       "  0.09360178,\n",
       "  0.088602625,\n",
       "  0.08372677,\n",
       "  0.08936787,\n",
       "  0.082471214,\n",
       "  0.081015795,\n",
       "  0.17512478,\n",
       "  0.12801562,\n",
       "  0.11502117,\n",
       "  0.10493575,\n",
       "  0.10075508,\n",
       "  0.09217894,\n",
       "  0.09576392,\n",
       "  0.08696021,\n",
       "  0.0847164,\n",
       "  0.08395043,\n",
       "  0.08295874,\n",
       "  0.08085739,\n",
       "  0.08025159,\n",
       "  0.079752035,\n",
       "  0.07840157,\n",
       "  0.08117515,\n",
       "  0.08092459,\n",
       "  0.07984213,\n",
       "  0.08051433,\n",
       "  0.07976017,\n",
       "  0.079002045],\n",
       " 'train_mse': [0.029836252,\n",
       "  0.030531084,\n",
       "  0.038767457,\n",
       "  0.035834406,\n",
       "  0.03992259,\n",
       "  0.04247811,\n",
       "  0.041044712,\n",
       "  0.04337585,\n",
       "  0.04463885,\n",
       "  0.04827603,\n",
       "  0.05044872,\n",
       "  0.052021578,\n",
       "  0.05670612,\n",
       "  0.054746706,\n",
       "  0.05376958,\n",
       "  0.048056558,\n",
       "  0.04616874,\n",
       "  0.044878736,\n",
       "  0.0425662,\n",
       "  0.041690994,\n",
       "  0.030659193,\n",
       "  0.023338245,\n",
       "  0.025404293,\n",
       "  0.023875192,\n",
       "  0.019550549,\n",
       "  0.019508941,\n",
       "  0.017897312,\n",
       "  0.020273214,\n",
       "  0.016345514,\n",
       "  0.05892101,\n",
       "  0.027930617,\n",
       "  0.022259442,\n",
       "  0.019096706,\n",
       "  0.01696581,\n",
       "  0.014891952,\n",
       "  0.014635991,\n",
       "  0.012873028,\n",
       "  0.01253911,\n",
       "  0.012796447,\n",
       "  0.011838069,\n",
       "  0.011471944,\n",
       "  0.011489924,\n",
       "  0.0110637685,\n",
       "  0.010850852,\n",
       "  0.011895583,\n",
       "  0.011477811,\n",
       "  0.011298386,\n",
       "  0.011439836,\n",
       "  0.011463433,\n",
       "  0.010910936],\n",
       " 'train_rmse': [0.17273174,\n",
       "  0.17473146,\n",
       "  0.19689453,\n",
       "  0.18929978,\n",
       "  0.19980638,\n",
       "  0.20610218,\n",
       "  0.20259495,\n",
       "  0.2082687,\n",
       "  0.21127908,\n",
       "  0.21971807,\n",
       "  0.22460793,\n",
       "  0.22808239,\n",
       "  0.23813047,\n",
       "  0.23398013,\n",
       "  0.23188269,\n",
       "  0.21921806,\n",
       "  0.21486913,\n",
       "  0.21184602,\n",
       "  0.20631577,\n",
       "  0.20418373,\n",
       "  0.17509767,\n",
       "  0.1527686,\n",
       "  0.15938725,\n",
       "  0.154516,\n",
       "  0.13982327,\n",
       "  0.13967441,\n",
       "  0.13378084,\n",
       "  0.14238404,\n",
       "  0.12784958,\n",
       "  0.2427365,\n",
       "  0.16712455,\n",
       "  0.14919598,\n",
       "  0.13819084,\n",
       "  0.13025287,\n",
       "  0.12203259,\n",
       "  0.1209793,\n",
       "  0.11345937,\n",
       "  0.111978166,\n",
       "  0.11312138,\n",
       "  0.10880289,\n",
       "  0.10710716,\n",
       "  0.10719106,\n",
       "  0.10518445,\n",
       "  0.104167424,\n",
       "  0.109066874,\n",
       "  0.10713455,\n",
       "  0.106293865,\n",
       "  0.10695717,\n",
       "  0.10706742,\n",
       "  0.10445543],\n",
       " 'val_loss': [143932.80319463558,\n",
       "  124075.77838176381,\n",
       "  113967.16666523326,\n",
       "  121310.40799116655,\n",
       "  107541.2666096774,\n",
       "  114484.34039195668,\n",
       "  120982.52555673773,\n",
       "  141828.77703524503,\n",
       "  125276.02236605558,\n",
       "  110181.85590320933,\n",
       "  68581.372688883,\n",
       "  87258.18193525834,\n",
       "  66185.51991315321,\n",
       "  72091.13548306552,\n",
       "  66050.82496530359,\n",
       "  69018.28035746487,\n",
       "  87408.97960128784,\n",
       "  70970.4400407271,\n",
       "  86305.48956909179,\n",
       "  64040.237190107866,\n",
       "  55303.30368395719,\n",
       "  85826.64006337253,\n",
       "  20325.00870472301,\n",
       "  29694.65844338157,\n",
       "  70163.83092151988,\n",
       "  50066.101826754486,\n",
       "  28870.255437677555,\n",
       "  71118.0365234375,\n",
       "  28001.572609918767,\n",
       "  67989.45614346591,\n",
       "  146689.17151988635,\n",
       "  187077.33267045455,\n",
       "  179293.87521306818,\n",
       "  204548.26789772726,\n",
       "  200396.14673295454,\n",
       "  224261.6213778409,\n",
       "  221530.78210227273,\n",
       "  204869.66782670454,\n",
       "  198227.56477272726,\n",
       "  191709.09161931818,\n",
       "  186712.56832386364,\n",
       "  188945.19154829546,\n",
       "  188204.3330255682,\n",
       "  187519.0419744318,\n",
       "  186209.3583096591,\n",
       "  185926.41413352272,\n",
       "  185408.92357954546,\n",
       "  185628.39055397728,\n",
       "  185574.95738636365,\n",
       "  185506.42436079544],\n",
       " 'val_r2': [-4.124270222537579,\n",
       "  -3.4168274877239675,\n",
       "  -3.0573623560014402,\n",
       "  -3.318156871612989,\n",
       "  -2.8276009869557264,\n",
       "  -3.074609799012393,\n",
       "  -3.3063286856561778,\n",
       "  -4.047234120589266,\n",
       "  -3.455926306668541,\n",
       "  -2.9205275718853376,\n",
       "  -1.438533576338148,\n",
       "  -2.09671666039642,\n",
       "  -1.3438531308868789,\n",
       "  -1.555166299768175,\n",
       "  -1.326590580483809,\n",
       "  -1.4199233999231549,\n",
       "  -2.079826166769673,\n",
       "  -1.486036016616723,\n",
       "  -2.013550238825351,\n",
       "  -1.239104517892343,\n",
       "  -0.8859552875343057,\n",
       "  -1.9894507769249286,\n",
       "  0.40743484765491256,\n",
       "  0.06609977125131894,\n",
       "  -1.310569051645111,\n",
       "  -0.42227547897843243,\n",
       "  0.20526277494897383,\n",
       "  -1.1919168198203396,\n",
       "  0.19732453207806833,\n",
       "  -1.0526593482949207,\n",
       "  -3.811958042615381,\n",
       "  -5.230692086815733,\n",
       "  -4.949325953859881,\n",
       "  -5.865533126554018,\n",
       "  -5.726285991723664,\n",
       "  -6.55583011679707,\n",
       "  -6.455233576715444,\n",
       "  -5.864658713822376,\n",
       "  -5.631366633231354,\n",
       "  -5.400037448088565,\n",
       "  -5.222636099190538,\n",
       "  -5.3026035276021455,\n",
       "  -5.276657134373896,\n",
       "  -5.25249495172524,\n",
       "  -5.206489207431569,\n",
       "  -5.196413333302596,\n",
       "  -5.178347250511435,\n",
       "  -5.186227741059482,\n",
       "  -5.184358130666363,\n",
       "  -5.181939015432179],\n",
       " 'val_mae': [0.5821926,\n",
       "  0.5319105,\n",
       "  0.5036239,\n",
       "  0.52492887,\n",
       "  0.48614278,\n",
       "  0.5080812,\n",
       "  0.5220657,\n",
       "  0.578754,\n",
       "  0.5351407,\n",
       "  0.49456295,\n",
       "  0.36252135,\n",
       "  0.42668417,\n",
       "  0.35850024,\n",
       "  0.38084102,\n",
       "  0.365187,\n",
       "  0.37432632,\n",
       "  0.43746856,\n",
       "  0.38540813,\n",
       "  0.4362367,\n",
       "  0.3613512,\n",
       "  0.32927036,\n",
       "  0.42933708,\n",
       "  0.16106692,\n",
       "  0.23422669,\n",
       "  0.3710508,\n",
       "  0.2789724,\n",
       "  0.20295891,\n",
       "  0.35079092,\n",
       "  0.19398056,\n",
       "  0.3507803,\n",
       "  0.59902453,\n",
       "  0.68958247,\n",
       "  0.67283326,\n",
       "  0.7263398,\n",
       "  0.71809036,\n",
       "  0.7629174,\n",
       "  0.757528,\n",
       "  0.72446233,\n",
       "  0.71100444,\n",
       "  0.69713277,\n",
       "  0.68637246,\n",
       "  0.6911344,\n",
       "  0.6895766,\n",
       "  0.68811667,\n",
       "  0.6853248,\n",
       "  0.6846991,\n",
       "  0.6836005,\n",
       "  0.6840727,\n",
       "  0.68395746,\n",
       "  0.6838098],\n",
       " 'val_mse': [0.42614025,\n",
       "  0.3673085,\n",
       "  0.33741498,\n",
       "  0.35910293,\n",
       "  0.31830773,\n",
       "  0.3388493,\n",
       "  0.35811928,\n",
       "  0.41973385,\n",
       "  0.37056002,\n",
       "  0.32603562,\n",
       "  0.20279127,\n",
       "  0.25752658,\n",
       "  0.19491754,\n",
       "  0.2124906,\n",
       "  0.19348197,\n",
       "  0.20124364,\n",
       "  0.2561219,\n",
       "  0.20674165,\n",
       "  0.25061032,\n",
       "  0.1862065,\n",
       "  0.15683822,\n",
       "  0.24860619,\n",
       "  0.049278405,\n",
       "  0.07766422,\n",
       "  0.1921496,\n",
       "  0.11827807,\n",
       "  0.06609127,\n",
       "  0.18228233,\n",
       "  0.06675143,\n",
       "  0.17070155,\n",
       "  0.40016803,\n",
       "  0.5181516,\n",
       "  0.4947528,\n",
       "  0.5709457,\n",
       "  0.55936575,\n",
       "  0.6283516,\n",
       "  0.6199859,\n",
       "  0.57087296,\n",
       "  0.5514721,\n",
       "  0.53223455,\n",
       "  0.5174817,\n",
       "  0.52413183,\n",
       "  0.5219741,\n",
       "  0.5199647,\n",
       "  0.5161388,\n",
       "  0.51530087,\n",
       "  0.51379853,\n",
       "  0.5144539,\n",
       "  0.5142984,\n",
       "  0.5140973],\n",
       " 'val_rmse': [0.6527942,\n",
       "  0.6060598,\n",
       "  0.5808743,\n",
       "  0.599252,\n",
       "  0.56418765,\n",
       "  0.58210766,\n",
       "  0.5984307,\n",
       "  0.6478687,\n",
       "  0.6087364,\n",
       "  0.5709953,\n",
       "  0.45032352,\n",
       "  0.5074708,\n",
       "  0.44149467,\n",
       "  0.46096703,\n",
       "  0.43986586,\n",
       "  0.44860187,\n",
       "  0.50608486,\n",
       "  0.45468852,\n",
       "  0.50060993,\n",
       "  0.43151653,\n",
       "  0.39602807,\n",
       "  0.49860424,\n",
       "  0.2219874,\n",
       "  0.278683,\n",
       "  0.4383487,\n",
       "  0.3439158,\n",
       "  0.25708222,\n",
       "  0.42694536,\n",
       "  0.25836298,\n",
       "  0.41316044,\n",
       "  0.6325884,\n",
       "  0.7198275,\n",
       "  0.70338666,\n",
       "  0.75560945,\n",
       "  0.7479076,\n",
       "  0.79268634,\n",
       "  0.78739184,\n",
       "  0.75556135,\n",
       "  0.7426117,\n",
       "  0.72954404,\n",
       "  0.719362,\n",
       "  0.7239695,\n",
       "  0.72247773,\n",
       "  0.7210858,\n",
       "  0.718428,\n",
       "  0.7178446,\n",
       "  0.7167974,\n",
       "  0.7172544,\n",
       "  0.717146,\n",
       "  0.7170058]}"
      ]
     },
     "execution_count": 397,
     "metadata": {},
     "output_type": "execute_result"
    }
   ],
   "source": [
    "train_results = train(model, train_loader, val_loader, optimizer, criterion, device, 50)\n",
    "\n",
    "train_results"
   ]
  },
  {
   "cell_type": "code",
   "execution_count": 398,
   "id": "a2b068a5",
   "metadata": {},
   "outputs": [],
   "source": [
    "def plot_training_history(loss_history, metric_history=None):\n",
    "    plt.figure(figsize=(12, 5))\n",
    "\n",
    "    # Loss plot\n",
    "    plt.subplot(1, 2, 1)\n",
    "    plt.plot(loss_history, label='Training Loss')\n",
    "    plt.title('Training Loss Curve')\n",
    "    plt.xlabel('Epoch')\n",
    "    plt.ylabel('Loss')\n",
    "    plt.grid(True)\n",
    "    \n",
    "    # Metrics plot\n",
    "    if metric_history:\n",
    "        plt.subplot(1, 2, 2)\n",
    "        for metric_name, values in metric_history.items():\n",
    "            plt.plot(values, label=metric_name)\n",
    "        plt.title('Training Metrics')\n",
    "        plt.xlabel('Epoch')\n",
    "        plt.ylabel('Metric Value')\n",
    "        plt.grid(True)\n",
    "        plt.legend()\n",
    "    \n",
    "    plt.tight_layout()\n",
    "    plt.show()\n",
    "\n",
    "def plot_predictions_vs_actuals(y_true, y_pred, title='Predictions vs True Values'):\n",
    "    plt.figure(figsize=(12, 6))\n",
    "    plt.plot(y_true, label='True Values', linewidth=2)\n",
    "    plt.plot(y_pred, label='Predictions', linestyle='--')\n",
    "    plt.xlabel('Time Step')\n",
    "    plt.ylabel('Value')\n",
    "    plt.title(title)\n",
    "    plt.legend()\n",
    "    plt.grid(True)\n",
    "    plt.show()\n",
    "\n"
   ]
  },
  {
   "cell_type": "code",
   "execution_count": 399,
   "id": "546655a0",
   "metadata": {},
   "outputs": [
    {
     "data": {
      "image/png": "[encoded data removed]",
      "text/plain": [
       "<Figure size 1200x500 with 2 Axes>"
      ]
     },
     "metadata": {},
     "output_type": "display_data"
    }
   ],
   "source": [
    "plot_training_history(\n",
    "    train_results['train_loss'],\n",
    "    {\n",
    "        'rmse': train_results['train_rmse'],\n",
    "        'mae': train_results['train_mae'],\n",
    "        'mse': train_results['train_mse'],\n",
    "        'r2': train_results['train_r2'],\n",
    "    }\n",
    ")"
   ]
  },
  {
   "cell_type": "code",
   "execution_count": 377,
   "id": "400eea63",
   "metadata": {},
   "outputs": [
    {
     "data": {
      "text/plain": [
       "113"
      ]
     },
     "execution_count": 377,
     "metadata": {},
     "output_type": "execute_result"
    }
   ],
   "source": [
    "len(test_loader)"
   ]
  },
  {
   "cell_type": "code",
   "execution_count": 400,
   "id": "15c351fd",
   "metadata": {},
   "outputs": [],
   "source": [
    "# model.load_state_dict(torch.load('best_r2_model.pth', weights_only=True))\n",
    "\n",
    "def test(\n",
    "    model,\n",
    "    test_loader,\n",
    "    device,\n",
    "):\n",
    "    model.eval()\n",
    "\n",
    "    test_preds = []\n",
    "    test_targets = []\n",
    "\n",
    "    test_r2 = []\n",
    "    test_mae = []\n",
    "    test_mse = []\n",
    "    test_rmse = []\n",
    "    \n",
    "    with torch.no_grad():\n",
    "        for data, labels in tqdm(test_loader):\n",
    "            data = data.to(device)\n",
    "            labels = labels.to(device)\n",
    "            predictions = model(data).flatten()\n",
    "            \n",
    "            # predictions = torch.cummin(predictions.flip(0), dim=0).values.flip(-1)\n",
    "\n",
    "            test_preds.append(predictions)\n",
    "            test_targets.append(labels)\n",
    "\n",
    "        test_preds = torch.cat(test_preds).cpu().detach().numpy()\n",
    "        test_targets = torch.cat(test_targets).cpu().detach().numpy()\n",
    "\n",
    "        mse = mean_squared_error(test_targets, test_preds)\n",
    "\n",
    "        test_r2.append(r2_score(test_targets, test_preds))\n",
    "        test_mae.append(mean_absolute_error(test_targets, test_preds))\n",
    "        test_mse.append(mse)\n",
    "        test_rmse.append(np.sqrt(mse))\n",
    "\n",
    "    return {\n",
    "        'test_r2': test_r2,\n",
    "        'test_mae': test_mae,\n",
    "        'test_mse': test_mse,\n",
    "        'test_rmse': test_rmse,\n",
    "        'test_preds': test_preds,\n",
    "        'test_targets': test_targets,\n",
    "    }\n",
    "          "
   ]
  },
  {
   "cell_type": "code",
   "execution_count": 401,
   "id": "e519ea9d",
   "metadata": {},
   "outputs": [
    {
     "name": "stderr",
     "output_type": "stream",
     "text": [
      "100%|██████████| 113/113 [00:00<00:00, 174.95it/s]\n"
     ]
    },
    {
     "data": {
      "text/plain": [
       "{'test_r2': [-1.500522988222965],\n",
       " 'test_mae': [0.31732255],\n",
       " 'test_mse': [0.119835734],\n",
       " 'test_rmse': [0.346173],\n",
       " 'test_preds': array([ 1.0611112 ,  1.1102574 ,  1.116568  , ...,  0.15258333,\n",
       "        -0.00948305, -0.01341332], dtype=float32),\n",
       " 'test_targets': array([[0.99962103],\n",
       "        [0.9994105 ],\n",
       "        [0.9992    ],\n",
       "        ...,\n",
       "        [0.24190493],\n",
       "        [0.24169439],\n",
       "        [0.24148385]], dtype=float32)}"
      ]
     },
     "execution_count": 401,
     "metadata": {},
     "output_type": "execute_result"
    }
   ],
   "source": [
    "test_results = test(model, test_loader, device)\n",
    "\n",
    "test_results"
   ]
  },
  {
   "cell_type": "code",
   "execution_count": 403,
   "id": "df88c977",
   "metadata": {},
   "outputs": [
    {
     "data": {
      "image/png": "[encoded data removed]",
      "text/plain": [
       "<Figure size 1200x600 with 1 Axes>"
      ]
     },
     "metadata": {},
     "output_type": "display_data"
    }
   ],
   "source": [
    "plot_predictions_vs_actuals(\n",
    "    test_results['test_targets'],\n",
    "    test_results['test_preds']\n",
    ")"
   ]
  },
  {
   "cell_type": "code",
   "execution_count": null,
   "id": "b00566d8",
   "metadata": {},
   "outputs": [
    {
     "data": {
      "text/plain": [
       "(4602, 1)"
      ]
     },
     "execution_count": 288,
     "metadata": {},
     "output_type": "execute_result"
    }
   ],
   "source": [
    "test_results['test_targets']"
   ]
  },
  {
   "cell_type": "code",
   "execution_count": 300,
   "id": "a238957f",
   "metadata": {},
   "outputs": [
    {
     "data": {
      "text/plain": [
       "array([0.02777791, 0.02777791, 0.02777791, ..., 0.02777791, 0.02777791,\n",
       "       0.02777791], dtype=float32)"
      ]
     },
     "execution_count": 300,
     "metadata": {},
     "output_type": "execute_result"
    }
   ],
   "source": [
    "test_results['test_preds']"
   ]
  },
  {
   "cell_type": "code",
   "execution_count": 151,
   "id": "4b998a87",
   "metadata": {},
   "outputs": [
    {
     "data": {
      "text/plain": [
       "[<matplotlib.lines.Line2D at 0x7fdf5e9b52d0>]"
      ]
     },
     "execution_count": 151,
     "metadata": {},
     "output_type": "execute_result"
    },
    {
     "data": {
      "image/png": "[encoded data removed]",
      "text/plain": [
       "<Figure size 640x480 with 1 Axes>"
      ]
     },
     "metadata": {},
     "output_type": "display_data"
    }
   ],
   "source": [
    "plt.plot(test_results['rul'].cpu().numpy())"
   ]
  },
  {
   "cell_type": "code",
   "execution_count": null,
   "id": "a115a487",
   "metadata": {},
   "outputs": [],
   "source": []
  }
 ],
 "metadata": {
  "kernelspec": {
   "display_name": "bearing_rul",
   "language": "python",
   "name": "python3"
  },
  "language_info": {
   "codemirror_mode": {
    "name": "ipython",
    "version": 3
   },
   "file_extension": ".py",
   "mimetype": "text/x-python",
   "name": "python",
   "nbconvert_exporter": "python",
   "pygments_lexer": "ipython3",
   "version": "3.10.11"
  }
 },
 "nbformat": 4,
 "nbformat_minor": 5
}
